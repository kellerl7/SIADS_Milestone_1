{
 "cells": [
  {
   "cell_type": "code",
   "execution_count": 2,
   "id": "7ad47df3",
   "metadata": {},
   "outputs": [],
   "source": [
    "!pip install scipy\n",
    "from scipy import stats\n",
    "import pandas as pd\n",
    "import matplotlib.pyplot as plt\n",
    "import numpy as np"
   ]
  },
  {
   "cell_type": "code",
   "outputs": [],
   "source": [
    "#Read in the main df and group it by county taking the median of all columns in order to have an average for \n",
    "#PM2.5 over all years that is not impacted by extreme values\n",
    "df = pd.read_csv('main_df.csv')\n",
    "dfg = df.groupby('County').median()"
   ],
   "metadata": {
    "collapsed": false
   },
   "id": "b5b5f8d7c6c7cc4a"
  },
  {
   "cell_type": "markdown",
   "source": [
    "## T-test"
   ],
   "metadata": {
    "collapsed": false
   },
   "id": "56f52cbc04325b2a"
  },
  {
   "cell_type": "code",
   "execution_count": 24,
   "id": "3b9cca06",
   "metadata": {},
   "outputs": [],
   "source": [
    "#Take the top 25% and bottom 25% counties in terms of PM2.5 levels  \n",
    "q75 = dfg.loc[:, 'Average PM 2.5/County'].quantile(.75)\n",
    "q25 = dfg.loc[:, 'Average PM 2.5/County'].quantile(.25)\n",
    "\n",
    "dfLn = list(dfg[dfg['Average PM 2.5/County'] <= q25].index)\n",
    "dfHn = list(dfg[dfg['Average PM 2.5/County'] >= q75].index)\n",
    "\n",
    "dfL = df[df['County'].isin(dfLn)]\n",
    "dfH = df[df['County'].isin(dfHn)]\n",
    "\n",
    "dfL = dfL[dfL['Data Year'] == 2022]\n",
    "dfH = dfH[dfH['Data Year'] == 2022]"
   ]
  },
  {
   "cell_type": "code",
   "execution_count": 30,
   "id": "92ef265a",
   "metadata": {},
   "outputs": [
    {
     "name": "stdout",
     "output_type": "stream",
     "text": [
      "The p-value is:  0.011677101262940925\n"
     ]
    }
   ],
   "source": [
    "#Find the EV adoption rate of the counties chosen above\n",
    "EVL = dfL.loc[:, 'Number of EV']/(dfL.loc[:, 'Number of EV']+dfL.loc[:, 'Number of Gas Cars'])\n",
    "EVH = dfH.loc[:, 'Number of EV']/(dfH.loc[:, 'Number of EV']+dfH.loc[:, 'Number of Gas Cars'])\n",
    "\n",
    "#Conduct a Welch's t-test for independence since the variance between counties is not identical\n",
    "pvalue = stats.ttest_ind(EVL, EVH, equal_var = False)[1]\n",
    "print('The p-value is: ', pvalue)"
   ]
  },
  {
   "cell_type": "code",
   "execution_count": null,
   "id": "a001b023",
   "metadata": {},
   "outputs": [],
   "source": [
    "# Violin Plot\n",
    "#Create matplot figure and two subplot axes that share y\n",
    "fig, (ax1, ax2) = plt.subplots(nrows=1, ncols=2, figsize=(15, 8), sharey=True)\n",
    "\n",
    "#Create first violinplot of low air pollutin counties EV adoption rate\n",
    "parts1 = ax1.violinplot(EVL)\n",
    "ax1.set_title('Counties with Low Air Pollution EV Adoption Rates')\n",
    "ax1.set_ylabel('EV Adoption Rate')\n",
    "\n",
    "#Loop through all facecolors and set them equal to blue\n",
    "for pc in parts1['bodies']:\n",
    "    pc.set_facecolor('blue')\n",
    "\n",
    "#Create second violinplot of high air pollutin counties EV adoption rate\n",
    "parts2 = ax2.violinplot(EVH)\n",
    "ax2.set_title('Counties with High Air Pollution EV Adoption Rates')\n",
    "\n",
    "#Loop through all facecolors and set them equal to red\n",
    "for pc in parts2['bodies']:\n",
    "    pc.set_facecolor('red')\n",
    "\n",
    "#Clean up figure and save\n",
    "plt.tight_layout(pad=5)\n",
    "plt.savefig('Violin.png')\n"
   ]
  }
 ],
 "metadata": {
  "kernelspec": {
   "display_name": "Python 3 (ipykernel)",
   "language": "python",
   "name": "python3"
  },
  "language_info": {
   "codemirror_mode": {
    "name": "ipython",
    "version": 3
   },
   "file_extension": ".py",
   "mimetype": "text/x-python",
   "name": "python",
   "nbconvert_exporter": "python",
   "pygments_lexer": "ipython3",
   "version": "3.9.7"
  }
 },
 "nbformat": 4,
 "nbformat_minor": 5
}
