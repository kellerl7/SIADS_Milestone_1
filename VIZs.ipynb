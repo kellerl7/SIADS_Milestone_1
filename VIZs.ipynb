{
 "cells": [
  {
   "cell_type": "code",
   "execution_count": 1,
   "id": "472f57ec",
   "metadata": {
    "ExecuteTime": {
     "end_time": "2024-10-02T00:14:15.919226Z",
     "start_time": "2024-10-02T00:14:15.455632Z"
    }
   },
   "outputs": [],
   "source": [
    "import pandas as pd"
   ]
  },
  {
   "cell_type": "code",
   "execution_count": 2,
   "id": "0d94277f",
   "metadata": {
    "ExecuteTime": {
     "end_time": "2024-10-02T00:14:15.990454Z",
     "start_time": "2024-10-02T00:14:15.919772Z"
    }
   },
   "outputs": [],
   "source": [
    "df1 = pd.read_csv('./pm_data/ad_viz_plotval_data2024.csv')\n",
    "df = pd.read_csv('./PM2.5_Vehicles_Population.csv')"
   ]
  },
  {
   "cell_type": "code",
   "execution_count": 3,
   "id": "b6c8caba",
   "metadata": {
    "ExecuteTime": {
     "end_time": "2024-10-02T00:14:15.997876Z",
     "start_time": "2024-10-02T00:14:15.991649Z"
    }
   },
   "outputs": [
    {
     "data": {
      "text/plain": "Index(['Date', 'Source', 'Site ID', 'POC', 'Daily Mean PM2.5 Concentration',\n       'Units', 'Daily AQI Value', 'Local Site Name', 'Daily Obs Count',\n       'Percent Complete', 'AQS Parameter Code', 'AQS Parameter Description',\n       'Method Code', 'Method Description', 'CBSA Code', 'CBSA Name',\n       'State FIPS Code', 'State', 'County FIPS Code', 'County',\n       'Site Latitude', 'Site Longitude'],\n      dtype='object')"
     },
     "execution_count": 3,
     "metadata": {},
     "output_type": "execute_result"
    }
   ],
   "source": [
    "df2 = df1[['Date', 'Local Site Name','Daily Mean PM2.5 Concentration']]\n",
    "df1.columns"
   ]
  },
  {
   "cell_type": "code",
   "execution_count": 4,
   "id": "5d1a2d74",
   "metadata": {
    "ExecuteTime": {
     "end_time": "2024-10-02T00:14:16.005713Z",
     "start_time": "2024-10-02T00:14:15.998612Z"
    }
   },
   "outputs": [
    {
     "data": {
      "text/plain": "             Date       Local Site Name  Daily Mean PM2.5 Concentration\n0      01/01/2024             Livermore                             6.4\n1      01/02/2024             Livermore                             3.6\n2      01/03/2024             Livermore                             3.9\n3      01/04/2024             Livermore                             5.1\n4      01/05/2024             Livermore                             4.9\n...           ...                   ...                             ...\n34166  06/26/2024  Woodland-Gibson Road                             5.8\n34167  06/27/2024  Woodland-Gibson Road                             7.4\n34168  06/28/2024  Woodland-Gibson Road                             8.2\n34169  06/29/2024  Woodland-Gibson Road                             9.3\n34170  06/30/2024  Woodland-Gibson Road                             5.9\n\n[34171 rows x 3 columns]",
      "text/html": "<div>\n<style scoped>\n    .dataframe tbody tr th:only-of-type {\n        vertical-align: middle;\n    }\n\n    .dataframe tbody tr th {\n        vertical-align: top;\n    }\n\n    .dataframe thead th {\n        text-align: right;\n    }\n</style>\n<table border=\"1\" class=\"dataframe\">\n  <thead>\n    <tr style=\"text-align: right;\">\n      <th></th>\n      <th>Date</th>\n      <th>Local Site Name</th>\n      <th>Daily Mean PM2.5 Concentration</th>\n    </tr>\n  </thead>\n  <tbody>\n    <tr>\n      <th>0</th>\n      <td>01/01/2024</td>\n      <td>Livermore</td>\n      <td>6.4</td>\n    </tr>\n    <tr>\n      <th>1</th>\n      <td>01/02/2024</td>\n      <td>Livermore</td>\n      <td>3.6</td>\n    </tr>\n    <tr>\n      <th>2</th>\n      <td>01/03/2024</td>\n      <td>Livermore</td>\n      <td>3.9</td>\n    </tr>\n    <tr>\n      <th>3</th>\n      <td>01/04/2024</td>\n      <td>Livermore</td>\n      <td>5.1</td>\n    </tr>\n    <tr>\n      <th>4</th>\n      <td>01/05/2024</td>\n      <td>Livermore</td>\n      <td>4.9</td>\n    </tr>\n    <tr>\n      <th>...</th>\n      <td>...</td>\n      <td>...</td>\n      <td>...</td>\n    </tr>\n    <tr>\n      <th>34166</th>\n      <td>06/26/2024</td>\n      <td>Woodland-Gibson Road</td>\n      <td>5.8</td>\n    </tr>\n    <tr>\n      <th>34167</th>\n      <td>06/27/2024</td>\n      <td>Woodland-Gibson Road</td>\n      <td>7.4</td>\n    </tr>\n    <tr>\n      <th>34168</th>\n      <td>06/28/2024</td>\n      <td>Woodland-Gibson Road</td>\n      <td>8.2</td>\n    </tr>\n    <tr>\n      <th>34169</th>\n      <td>06/29/2024</td>\n      <td>Woodland-Gibson Road</td>\n      <td>9.3</td>\n    </tr>\n    <tr>\n      <th>34170</th>\n      <td>06/30/2024</td>\n      <td>Woodland-Gibson Road</td>\n      <td>5.9</td>\n    </tr>\n  </tbody>\n</table>\n<p>34171 rows × 3 columns</p>\n</div>"
     },
     "execution_count": 4,
     "metadata": {},
     "output_type": "execute_result"
    }
   ],
   "source": [
    "df2"
   ]
  },
  {
   "cell_type": "code",
   "execution_count": 5,
   "id": "54dadfbb",
   "metadata": {
    "ExecuteTime": {
     "end_time": "2024-10-02T00:14:16.008700Z",
     "start_time": "2024-10-02T00:14:16.006360Z"
    }
   },
   "outputs": [],
   "source": [
    "names = df2['Local Site Name'].unique()[0:9]"
   ]
  },
  {
   "cell_type": "code",
   "execution_count": 6,
   "id": "f36b0d3f",
   "metadata": {
    "ExecuteTime": {
     "end_time": "2024-10-02T00:14:16.260027Z",
     "start_time": "2024-10-02T00:14:16.009521Z"
    }
   },
   "outputs": [
    {
     "data": {
      "text/plain": "\"fig, axs = plt.subplots(3, 3, figsize=(15,6), sharex=True)\\naxs = axs.ravel()\\n\\nfor i in range(len(names)):\\n    n = names[i]\\n    axs[i].plot(df2[df2['Local Site Name'] == n]['Date'], df2[df2['Local Site Name'] == n]['Daily Mean PM2.5 Concentration'])\\n    axs[i].set_title(n)\""
     },
     "execution_count": 6,
     "metadata": {},
     "output_type": "execute_result"
    }
   ],
   "source": [
    "import matplotlib.pyplot as plt\n",
    "\n",
    "'''fig, axs = plt.subplots(3, 3, figsize=(15,6), sharex=True)\n",
    "axs = axs.ravel()\n",
    "\n",
    "for i in range(len(names)):\n",
    "    n = names[i]\n",
    "    axs[i].plot(df2[df2['Local Site Name'] == n]['Date'], df2[df2['Local Site Name'] == n]['Daily Mean PM2.5 Concentration'])\n",
    "    axs[i].set_title(n)'''"
   ]
  },
  {
   "cell_type": "code",
   "execution_count": 7,
   "id": "16847d8d",
   "metadata": {
    "ExecuteTime": {
     "end_time": "2024-10-02T00:14:17.169910Z",
     "start_time": "2024-10-02T00:14:16.260645Z"
    }
   },
   "outputs": [
    {
     "ename": "TypeError",
     "evalue": "agg function failed [how->mean,dtype->object]",
     "output_type": "error",
     "traceback": [
      "\u001B[0;31m---------------------------------------------------------------------------\u001B[0m",
      "\u001B[0;31mTypeError\u001B[0m                                 Traceback (most recent call last)",
      "File \u001B[0;32m/Library/Frameworks/Python.framework/Versions/3.11/lib/python3.11/site-packages/pandas/core/groupby/groupby.py:1942\u001B[0m, in \u001B[0;36mGroupBy._agg_py_fallback\u001B[0;34m(self, how, values, ndim, alt)\u001B[0m\n\u001B[1;32m   1941\u001B[0m \u001B[38;5;28;01mtry\u001B[39;00m:\n\u001B[0;32m-> 1942\u001B[0m     res_values \u001B[38;5;241m=\u001B[39m \u001B[38;5;28;43mself\u001B[39;49m\u001B[38;5;241;43m.\u001B[39;49m\u001B[43m_grouper\u001B[49m\u001B[38;5;241;43m.\u001B[39;49m\u001B[43magg_series\u001B[49m\u001B[43m(\u001B[49m\u001B[43mser\u001B[49m\u001B[43m,\u001B[49m\u001B[43m \u001B[49m\u001B[43malt\u001B[49m\u001B[43m,\u001B[49m\u001B[43m \u001B[49m\u001B[43mpreserve_dtype\u001B[49m\u001B[38;5;241;43m=\u001B[39;49m\u001B[38;5;28;43;01mTrue\u001B[39;49;00m\u001B[43m)\u001B[49m\n\u001B[1;32m   1943\u001B[0m \u001B[38;5;28;01mexcept\u001B[39;00m \u001B[38;5;167;01mException\u001B[39;00m \u001B[38;5;28;01mas\u001B[39;00m err:\n",
      "File \u001B[0;32m/Library/Frameworks/Python.framework/Versions/3.11/lib/python3.11/site-packages/pandas/core/groupby/ops.py:863\u001B[0m, in \u001B[0;36mBaseGrouper.agg_series\u001B[0;34m(self, obj, func, preserve_dtype)\u001B[0m\n\u001B[1;32m    861\u001B[0m     preserve_dtype \u001B[38;5;241m=\u001B[39m \u001B[38;5;28;01mTrue\u001B[39;00m\n\u001B[0;32m--> 863\u001B[0m result \u001B[38;5;241m=\u001B[39m \u001B[38;5;28;43mself\u001B[39;49m\u001B[38;5;241;43m.\u001B[39;49m\u001B[43m_aggregate_series_pure_python\u001B[49m\u001B[43m(\u001B[49m\u001B[43mobj\u001B[49m\u001B[43m,\u001B[49m\u001B[43m \u001B[49m\u001B[43mfunc\u001B[49m\u001B[43m)\u001B[49m\n\u001B[1;32m    865\u001B[0m npvalues \u001B[38;5;241m=\u001B[39m lib\u001B[38;5;241m.\u001B[39mmaybe_convert_objects(result, try_float\u001B[38;5;241m=\u001B[39m\u001B[38;5;28;01mFalse\u001B[39;00m)\n",
      "File \u001B[0;32m/Library/Frameworks/Python.framework/Versions/3.11/lib/python3.11/site-packages/pandas/core/groupby/ops.py:884\u001B[0m, in \u001B[0;36mBaseGrouper._aggregate_series_pure_python\u001B[0;34m(self, obj, func)\u001B[0m\n\u001B[1;32m    883\u001B[0m \u001B[38;5;28;01mfor\u001B[39;00m i, group \u001B[38;5;129;01min\u001B[39;00m \u001B[38;5;28menumerate\u001B[39m(splitter):\n\u001B[0;32m--> 884\u001B[0m     res \u001B[38;5;241m=\u001B[39m \u001B[43mfunc\u001B[49m\u001B[43m(\u001B[49m\u001B[43mgroup\u001B[49m\u001B[43m)\u001B[49m\n\u001B[1;32m    885\u001B[0m     res \u001B[38;5;241m=\u001B[39m extract_result(res)\n",
      "File \u001B[0;32m/Library/Frameworks/Python.framework/Versions/3.11/lib/python3.11/site-packages/pandas/core/groupby/groupby.py:2454\u001B[0m, in \u001B[0;36mGroupBy.mean.<locals>.<lambda>\u001B[0;34m(x)\u001B[0m\n\u001B[1;32m   2451\u001B[0m \u001B[38;5;28;01melse\u001B[39;00m:\n\u001B[1;32m   2452\u001B[0m     result \u001B[38;5;241m=\u001B[39m \u001B[38;5;28mself\u001B[39m\u001B[38;5;241m.\u001B[39m_cython_agg_general(\n\u001B[1;32m   2453\u001B[0m         \u001B[38;5;124m\"\u001B[39m\u001B[38;5;124mmean\u001B[39m\u001B[38;5;124m\"\u001B[39m,\n\u001B[0;32m-> 2454\u001B[0m         alt\u001B[38;5;241m=\u001B[39m\u001B[38;5;28;01mlambda\u001B[39;00m x: \u001B[43mSeries\u001B[49m\u001B[43m(\u001B[49m\u001B[43mx\u001B[49m\u001B[43m,\u001B[49m\u001B[43m \u001B[49m\u001B[43mcopy\u001B[49m\u001B[38;5;241;43m=\u001B[39;49m\u001B[38;5;28;43;01mFalse\u001B[39;49;00m\u001B[43m)\u001B[49m\u001B[38;5;241;43m.\u001B[39;49m\u001B[43mmean\u001B[49m\u001B[43m(\u001B[49m\u001B[43mnumeric_only\u001B[49m\u001B[38;5;241;43m=\u001B[39;49m\u001B[43mnumeric_only\u001B[49m\u001B[43m)\u001B[49m,\n\u001B[1;32m   2455\u001B[0m         numeric_only\u001B[38;5;241m=\u001B[39mnumeric_only,\n\u001B[1;32m   2456\u001B[0m     )\n\u001B[1;32m   2457\u001B[0m     \u001B[38;5;28;01mreturn\u001B[39;00m result\u001B[38;5;241m.\u001B[39m__finalize__(\u001B[38;5;28mself\u001B[39m\u001B[38;5;241m.\u001B[39mobj, method\u001B[38;5;241m=\u001B[39m\u001B[38;5;124m\"\u001B[39m\u001B[38;5;124mgroupby\u001B[39m\u001B[38;5;124m\"\u001B[39m)\n",
      "File \u001B[0;32m/Library/Frameworks/Python.framework/Versions/3.11/lib/python3.11/site-packages/pandas/core/series.py:6529\u001B[0m, in \u001B[0;36mSeries.mean\u001B[0;34m(self, axis, skipna, numeric_only, **kwargs)\u001B[0m\n\u001B[1;32m   6521\u001B[0m \u001B[38;5;129m@doc\u001B[39m(make_doc(\u001B[38;5;124m\"\u001B[39m\u001B[38;5;124mmean\u001B[39m\u001B[38;5;124m\"\u001B[39m, ndim\u001B[38;5;241m=\u001B[39m\u001B[38;5;241m1\u001B[39m))\n\u001B[1;32m   6522\u001B[0m \u001B[38;5;28;01mdef\u001B[39;00m \u001B[38;5;21mmean\u001B[39m(\n\u001B[1;32m   6523\u001B[0m     \u001B[38;5;28mself\u001B[39m,\n\u001B[0;32m   (...)\u001B[0m\n\u001B[1;32m   6527\u001B[0m     \u001B[38;5;241m*\u001B[39m\u001B[38;5;241m*\u001B[39mkwargs,\n\u001B[1;32m   6528\u001B[0m ):\n\u001B[0;32m-> 6529\u001B[0m     \u001B[38;5;28;01mreturn\u001B[39;00m \u001B[43mNDFrame\u001B[49m\u001B[38;5;241;43m.\u001B[39;49m\u001B[43mmean\u001B[49m\u001B[43m(\u001B[49m\u001B[38;5;28;43mself\u001B[39;49m\u001B[43m,\u001B[49m\u001B[43m \u001B[49m\u001B[43maxis\u001B[49m\u001B[43m,\u001B[49m\u001B[43m \u001B[49m\u001B[43mskipna\u001B[49m\u001B[43m,\u001B[49m\u001B[43m \u001B[49m\u001B[43mnumeric_only\u001B[49m\u001B[43m,\u001B[49m\u001B[43m \u001B[49m\u001B[38;5;241;43m*\u001B[39;49m\u001B[38;5;241;43m*\u001B[39;49m\u001B[43mkwargs\u001B[49m\u001B[43m)\u001B[49m\n",
      "File \u001B[0;32m/Library/Frameworks/Python.framework/Versions/3.11/lib/python3.11/site-packages/pandas/core/generic.py:12413\u001B[0m, in \u001B[0;36mNDFrame.mean\u001B[0;34m(self, axis, skipna, numeric_only, **kwargs)\u001B[0m\n\u001B[1;32m  12406\u001B[0m \u001B[38;5;28;01mdef\u001B[39;00m \u001B[38;5;21mmean\u001B[39m(\n\u001B[1;32m  12407\u001B[0m     \u001B[38;5;28mself\u001B[39m,\n\u001B[1;32m  12408\u001B[0m     axis: Axis \u001B[38;5;241m|\u001B[39m \u001B[38;5;28;01mNone\u001B[39;00m \u001B[38;5;241m=\u001B[39m \u001B[38;5;241m0\u001B[39m,\n\u001B[0;32m   (...)\u001B[0m\n\u001B[1;32m  12411\u001B[0m     \u001B[38;5;241m*\u001B[39m\u001B[38;5;241m*\u001B[39mkwargs,\n\u001B[1;32m  12412\u001B[0m ) \u001B[38;5;241m-\u001B[39m\u001B[38;5;241m>\u001B[39m Series \u001B[38;5;241m|\u001B[39m \u001B[38;5;28mfloat\u001B[39m:\n\u001B[0;32m> 12413\u001B[0m     \u001B[38;5;28;01mreturn\u001B[39;00m \u001B[38;5;28;43mself\u001B[39;49m\u001B[38;5;241;43m.\u001B[39;49m\u001B[43m_stat_function\u001B[49m\u001B[43m(\u001B[49m\n\u001B[1;32m  12414\u001B[0m \u001B[43m        \u001B[49m\u001B[38;5;124;43m\"\u001B[39;49m\u001B[38;5;124;43mmean\u001B[39;49m\u001B[38;5;124;43m\"\u001B[39;49m\u001B[43m,\u001B[49m\u001B[43m \u001B[49m\u001B[43mnanops\u001B[49m\u001B[38;5;241;43m.\u001B[39;49m\u001B[43mnanmean\u001B[49m\u001B[43m,\u001B[49m\u001B[43m \u001B[49m\u001B[43maxis\u001B[49m\u001B[43m,\u001B[49m\u001B[43m \u001B[49m\u001B[43mskipna\u001B[49m\u001B[43m,\u001B[49m\u001B[43m \u001B[49m\u001B[43mnumeric_only\u001B[49m\u001B[43m,\u001B[49m\u001B[43m \u001B[49m\u001B[38;5;241;43m*\u001B[39;49m\u001B[38;5;241;43m*\u001B[39;49m\u001B[43mkwargs\u001B[49m\n\u001B[1;32m  12415\u001B[0m \u001B[43m    \u001B[49m\u001B[43m)\u001B[49m\n",
      "File \u001B[0;32m/Library/Frameworks/Python.framework/Versions/3.11/lib/python3.11/site-packages/pandas/core/generic.py:12370\u001B[0m, in \u001B[0;36mNDFrame._stat_function\u001B[0;34m(self, name, func, axis, skipna, numeric_only, **kwargs)\u001B[0m\n\u001B[1;32m  12368\u001B[0m validate_bool_kwarg(skipna, \u001B[38;5;124m\"\u001B[39m\u001B[38;5;124mskipna\u001B[39m\u001B[38;5;124m\"\u001B[39m, none_allowed\u001B[38;5;241m=\u001B[39m\u001B[38;5;28;01mFalse\u001B[39;00m)\n\u001B[0;32m> 12370\u001B[0m \u001B[38;5;28;01mreturn\u001B[39;00m \u001B[38;5;28;43mself\u001B[39;49m\u001B[38;5;241;43m.\u001B[39;49m\u001B[43m_reduce\u001B[49m\u001B[43m(\u001B[49m\n\u001B[1;32m  12371\u001B[0m \u001B[43m    \u001B[49m\u001B[43mfunc\u001B[49m\u001B[43m,\u001B[49m\u001B[43m \u001B[49m\u001B[43mname\u001B[49m\u001B[38;5;241;43m=\u001B[39;49m\u001B[43mname\u001B[49m\u001B[43m,\u001B[49m\u001B[43m \u001B[49m\u001B[43maxis\u001B[49m\u001B[38;5;241;43m=\u001B[39;49m\u001B[43maxis\u001B[49m\u001B[43m,\u001B[49m\u001B[43m \u001B[49m\u001B[43mskipna\u001B[49m\u001B[38;5;241;43m=\u001B[39;49m\u001B[43mskipna\u001B[49m\u001B[43m,\u001B[49m\u001B[43m \u001B[49m\u001B[43mnumeric_only\u001B[49m\u001B[38;5;241;43m=\u001B[39;49m\u001B[43mnumeric_only\u001B[49m\n\u001B[1;32m  12372\u001B[0m \u001B[43m\u001B[49m\u001B[43m)\u001B[49m\n",
      "File \u001B[0;32m/Library/Frameworks/Python.framework/Versions/3.11/lib/python3.11/site-packages/pandas/core/series.py:6437\u001B[0m, in \u001B[0;36mSeries._reduce\u001B[0;34m(self, op, name, axis, skipna, numeric_only, filter_type, **kwds)\u001B[0m\n\u001B[1;32m   6433\u001B[0m     \u001B[38;5;28;01mraise\u001B[39;00m \u001B[38;5;167;01mTypeError\u001B[39;00m(\n\u001B[1;32m   6434\u001B[0m         \u001B[38;5;124mf\u001B[39m\u001B[38;5;124m\"\u001B[39m\u001B[38;5;124mSeries.\u001B[39m\u001B[38;5;132;01m{\u001B[39;00mname\u001B[38;5;132;01m}\u001B[39;00m\u001B[38;5;124m does not allow \u001B[39m\u001B[38;5;132;01m{\u001B[39;00mkwd_name\u001B[38;5;132;01m}\u001B[39;00m\u001B[38;5;124m=\u001B[39m\u001B[38;5;132;01m{\u001B[39;00mnumeric_only\u001B[38;5;132;01m}\u001B[39;00m\u001B[38;5;124m \u001B[39m\u001B[38;5;124m\"\u001B[39m\n\u001B[1;32m   6435\u001B[0m         \u001B[38;5;124m\"\u001B[39m\u001B[38;5;124mwith non-numeric dtypes.\u001B[39m\u001B[38;5;124m\"\u001B[39m\n\u001B[1;32m   6436\u001B[0m     )\n\u001B[0;32m-> 6437\u001B[0m \u001B[38;5;28;01mreturn\u001B[39;00m \u001B[43mop\u001B[49m\u001B[43m(\u001B[49m\u001B[43mdelegate\u001B[49m\u001B[43m,\u001B[49m\u001B[43m \u001B[49m\u001B[43mskipna\u001B[49m\u001B[38;5;241;43m=\u001B[39;49m\u001B[43mskipna\u001B[49m\u001B[43m,\u001B[49m\u001B[43m \u001B[49m\u001B[38;5;241;43m*\u001B[39;49m\u001B[38;5;241;43m*\u001B[39;49m\u001B[43mkwds\u001B[49m\u001B[43m)\u001B[49m\n",
      "File \u001B[0;32m/Library/Frameworks/Python.framework/Versions/3.11/lib/python3.11/site-packages/pandas/core/nanops.py:147\u001B[0m, in \u001B[0;36mbottleneck_switch.__call__.<locals>.f\u001B[0;34m(values, axis, skipna, **kwds)\u001B[0m\n\u001B[1;32m    146\u001B[0m \u001B[38;5;28;01melse\u001B[39;00m:\n\u001B[0;32m--> 147\u001B[0m     result \u001B[38;5;241m=\u001B[39m \u001B[43malt\u001B[49m\u001B[43m(\u001B[49m\u001B[43mvalues\u001B[49m\u001B[43m,\u001B[49m\u001B[43m \u001B[49m\u001B[43maxis\u001B[49m\u001B[38;5;241;43m=\u001B[39;49m\u001B[43maxis\u001B[49m\u001B[43m,\u001B[49m\u001B[43m \u001B[49m\u001B[43mskipna\u001B[49m\u001B[38;5;241;43m=\u001B[39;49m\u001B[43mskipna\u001B[49m\u001B[43m,\u001B[49m\u001B[43m \u001B[49m\u001B[38;5;241;43m*\u001B[39;49m\u001B[38;5;241;43m*\u001B[39;49m\u001B[43mkwds\u001B[49m\u001B[43m)\u001B[49m\n\u001B[1;32m    149\u001B[0m \u001B[38;5;28;01mreturn\u001B[39;00m result\n",
      "File \u001B[0;32m/Library/Frameworks/Python.framework/Versions/3.11/lib/python3.11/site-packages/pandas/core/nanops.py:404\u001B[0m, in \u001B[0;36m_datetimelike_compat.<locals>.new_func\u001B[0;34m(values, axis, skipna, mask, **kwargs)\u001B[0m\n\u001B[1;32m    402\u001B[0m     mask \u001B[38;5;241m=\u001B[39m isna(values)\n\u001B[0;32m--> 404\u001B[0m result \u001B[38;5;241m=\u001B[39m \u001B[43mfunc\u001B[49m\u001B[43m(\u001B[49m\u001B[43mvalues\u001B[49m\u001B[43m,\u001B[49m\u001B[43m \u001B[49m\u001B[43maxis\u001B[49m\u001B[38;5;241;43m=\u001B[39;49m\u001B[43maxis\u001B[49m\u001B[43m,\u001B[49m\u001B[43m \u001B[49m\u001B[43mskipna\u001B[49m\u001B[38;5;241;43m=\u001B[39;49m\u001B[43mskipna\u001B[49m\u001B[43m,\u001B[49m\u001B[43m \u001B[49m\u001B[43mmask\u001B[49m\u001B[38;5;241;43m=\u001B[39;49m\u001B[43mmask\u001B[49m\u001B[43m,\u001B[49m\u001B[43m \u001B[49m\u001B[38;5;241;43m*\u001B[39;49m\u001B[38;5;241;43m*\u001B[39;49m\u001B[43mkwargs\u001B[49m\u001B[43m)\u001B[49m\n\u001B[1;32m    406\u001B[0m \u001B[38;5;28;01mif\u001B[39;00m datetimelike:\n",
      "File \u001B[0;32m/Library/Frameworks/Python.framework/Versions/3.11/lib/python3.11/site-packages/pandas/core/nanops.py:720\u001B[0m, in \u001B[0;36mnanmean\u001B[0;34m(values, axis, skipna, mask)\u001B[0m\n\u001B[1;32m    719\u001B[0m the_sum \u001B[38;5;241m=\u001B[39m values\u001B[38;5;241m.\u001B[39msum(axis, dtype\u001B[38;5;241m=\u001B[39mdtype_sum)\n\u001B[0;32m--> 720\u001B[0m the_sum \u001B[38;5;241m=\u001B[39m \u001B[43m_ensure_numeric\u001B[49m\u001B[43m(\u001B[49m\u001B[43mthe_sum\u001B[49m\u001B[43m)\u001B[49m\n\u001B[1;32m    722\u001B[0m \u001B[38;5;28;01mif\u001B[39;00m axis \u001B[38;5;129;01mis\u001B[39;00m \u001B[38;5;129;01mnot\u001B[39;00m \u001B[38;5;28;01mNone\u001B[39;00m \u001B[38;5;129;01mand\u001B[39;00m \u001B[38;5;28mgetattr\u001B[39m(the_sum, \u001B[38;5;124m\"\u001B[39m\u001B[38;5;124mndim\u001B[39m\u001B[38;5;124m\"\u001B[39m, \u001B[38;5;28;01mFalse\u001B[39;00m):\n",
      "File \u001B[0;32m/Library/Frameworks/Python.framework/Versions/3.11/lib/python3.11/site-packages/pandas/core/nanops.py:1701\u001B[0m, in \u001B[0;36m_ensure_numeric\u001B[0;34m(x)\u001B[0m\n\u001B[1;32m   1699\u001B[0m \u001B[38;5;28;01mif\u001B[39;00m \u001B[38;5;28misinstance\u001B[39m(x, \u001B[38;5;28mstr\u001B[39m):\n\u001B[1;32m   1700\u001B[0m     \u001B[38;5;66;03m# GH#44008, GH#36703 avoid casting e.g. strings to numeric\u001B[39;00m\n\u001B[0;32m-> 1701\u001B[0m     \u001B[38;5;28;01mraise\u001B[39;00m \u001B[38;5;167;01mTypeError\u001B[39;00m(\u001B[38;5;124mf\u001B[39m\u001B[38;5;124m\"\u001B[39m\u001B[38;5;124mCould not convert string \u001B[39m\u001B[38;5;124m'\u001B[39m\u001B[38;5;132;01m{\u001B[39;00mx\u001B[38;5;132;01m}\u001B[39;00m\u001B[38;5;124m'\u001B[39m\u001B[38;5;124m to numeric\u001B[39m\u001B[38;5;124m\"\u001B[39m)\n\u001B[1;32m   1702\u001B[0m \u001B[38;5;28;01mtry\u001B[39;00m:\n",
      "\u001B[0;31mTypeError\u001B[0m: Could not convert string 'LivermoreLivermoreLivermoreLivermoreLivermoreLivermoreLivermoreLivermoreLivermoreLivermoreLivermoreLivermoreLivermoreLivermoreLivermoreLivermoreLivermoreLivermoreLivermoreLivermoreLivermoreLivermoreLivermoreLivermoreLivermoreLivermoreLivermoreOaklandOaklandOaklandOaklandOaklandOaklandOaklandOaklandOaklandOaklandOaklandOaklandOaklandOaklandOaklandOaklandOaklandOaklandOaklandOaklandOaklandOaklandOaklandOaklandOaklandOaklandOaklandOaklandOaklandOaklandOaklandOaklandOaklandOaklandOaklandOaklandOaklandOaklandOaklandOaklandOaklandOaklandOaklandOaklandOaklandOaklandOaklandOaklandOaklandOaklandOaklandOaklandOaklandOaklandOaklandOaklandOaklandOaklandOaklandOaklandOaklandOaklandOaklandOaklandOaklandOaklandOaklandOaklandOaklandOaklandOaklandOaklandOaklandOaklandOaklandOaklandOaklandOaklandOaklandOaklandOaklandOaklandOaklandOaklandOaklandOaklandOaklandOaklandOaklandOaklandOaklandOaklandOaklandOaklandOaklandOaklandOaklandOaklandOaklandOaklandOaklandOaklandOaklandOaklandOaklandOaklandOaklandOaklandOaklandOaklandOaklandOaklandOaklandOaklandOaklandOaklandOaklandOaklandOaklandOaklandOaklandOaklandOaklandOaklandOaklandOaklandOaklandOaklandOaklandOaklandOaklandOaklandOaklandOaklandOaklandOaklandOaklandOaklandOaklandOaklandOaklandOaklandOaklandOaklandOaklandOaklandOaklandOaklandOaklandOaklandOaklandOaklandOaklandOaklandOaklandOaklandOaklandOaklandOaklandOaklandOaklandOaklandOaklandOaklandOaklandOaklandOaklandOaklandOaklandOaklandOaklandOaklandOaklandOaklandOaklandOaklandOaklandOaklandOaklandOaklandOaklandOaklandOaklandOaklandOaklandOaklandOaklandOaklandOaklandOaklandOaklandOaklandOaklandOaklandOaklandOaklandOaklandOaklandOaklandOaklandOaklandOaklandOaklandOaklandOaklandOaklandOaklandOaklandOaklandOaklandOaklandOaklandOaklandOaklandOaklandOaklandOaklandOaklandOaklandOaklandOaklandOaklandOaklandOaklandOaklandOaklandOaklandOaklandOaklandOaklandOaklandOaklandOaklandOaklandOaklandOaklandOaklandOaklandOaklandOaklandOaklandOaklandOaklandOaklandOaklandOaklandOaklandOaklandOaklandOaklandOaklandOaklandOakland WestOakland WestOakland WestOakland WestOakland WestOakland WestOakland WestOakland WestOakland WestOakland WestOakland WestOakland WestOakland WestOakland WestOakland WestOakland WestOakland WestOakland WestOakland WestOakland WestOakland WestOakland WestOakland WestOakland WestOakland WestOakland WestOakland WestOakland WestOakland WestOakland WestOakland WestOakland WestOakland WestOakland WestOakland WestOakland WestOakland WestOakland WestOakland WestOakland WestOakland WestOakland WestOakland WestOakland WestOakland WestOakland WestOakland WestOakland WestOakland WestOakland WestOakland WestOakland WestOakland WestOakland WestOakland WestOakland WestOakland WestOakland WestOakland WestOakland WestOakland WestOakland WestOakland WestOakland WestOakland WestOakland WestOakland WestOakland WestOakland WestOakland WestOakland WestOakland WestOakland WestOakland WestOakland WestOakland WestOakland WestOakland WestOakland WestOakland WestOakland WestOakland WestOakland WestOakland WestOakland WestOakland WestOakland WestOakland WestOakland WestOakland WestOakland WestOakland WestOakland WestOakland WestOakland WestOakland WestOakland WestOakland WestOakland WestOakland WestOakland WestOakland WestOakland WestOakland WestOakland WestOakland WestOakland WestOakland WestOakland WestOakland WestOakland WestOakland WestOakland WestOakland WestOakland WestOakland WestOakland WestOakland WestOakland WestOakland WestOakland WestOakland WestOakland WestOakland WestOakland WestOakland WestOakland WestOakland WestOakland WestOakland WestOakland WestOakland WestOakland WestOakland WestOakland WestOakland WestOakland WestOakland WestOakland WestOakland WestOakland WestOakland WestOakland WestOakland WestOakland WestOakland WestOakland WestOakland WestOakland WestOakland WestOakland WestOakland WestOakland WestOakland WestOakland WestOakland WestOakland WestOakland WestOakland WestOakland WestOakland WestOakland WestOakland WestOakland WestOakland WestOakland WestOakland WestOakland WestOakland WestOakland WestOakland WestOakland WestOakland WestOakland WestOakland WestOakland WestOakland WestOakland WestOakland WestOakland WestOakland WestOakland WestOakland WestOakland WestOakland WestOakland WestOakland WestOakland WestOakland WestOakland WestOakland WestOakland WestOakland WestOakland WestOakland WestOakland WestOakland WestOakland WestOakland WestOakland WestOakland WestOakland WestOakland WestOakland WestOakland WestOakland WestOakland WestOakland WestOakland WestOakland WestOakland WestOakland WestOakland WestOakland WestOakland WestOakland WestOakland WestOakland WestOakland WestOakland WestOakland WestOakland WestOakland WestOakland WestOakland WestOakland WestOakland WestOakland WestOakland WestOakland WestOakland WestOakland WestOakland WestOakland WestOakland WestOakland WestOakland WestOakland WestOakland WestOakland WestOakland WestOakland WestOakland WestOakland WestOakland WestOakland WestOakland WestOakland WestOakland WestOakland WestOakland WestOakland WestLaney CollegeLaney CollegeLaney CollegeLaney CollegeLaney CollegeLaney CollegeLaney CollegeLaney CollegeLaney CollegeLaney CollegeLaney CollegeLaney CollegeLaney CollegeLaney CollegeLaney CollegeLaney CollegeLaney CollegeLaney CollegeLaney CollegeLaney CollegeLaney CollegeLaney CollegeLaney CollegeLaney CollegeLaney CollegeLaney CollegeLaney CollegeLaney CollegeLaney CollegeLaney CollegeLaney CollegeLaney CollegeLaney CollegeLaney CollegeLaney CollegeLaney CollegeLaney CollegeLaney CollegeLaney CollegeLaney CollegeLaney CollegeLaney CollegeLaney CollegeLaney CollegeLaney CollegeLaney CollegeLaney CollegeLaney CollegeLaney CollegeLaney CollegeLaney CollegeLaney CollegeLaney CollegeLaney CollegeLaney CollegeLaney CollegeLaney CollegeLaney CollegeLaney CollegeLaney CollegeLaney CollegeLaney CollegeLaney CollegeLaney CollegeLaney CollegeLaney CollegeLaney CollegeLaney CollegeLaney CollegeLaney CollegeLaney CollegeLaney CollegeLaney CollegeLaney CollegeLaney CollegeLaney CollegeLaney CollegeLaney CollegeLaney CollegeLaney CollegeLaney CollegeLaney CollegeLaney CollegeLaney CollegeLaney CollegeLaney CollegeLaney CollegeLaney CollegeLaney CollegeLaney CollegeLaney CollegeLaney CollegeLaney CollegeLaney CollegeLaney CollegeLaney CollegeLaney CollegeLaney CollegeLaney CollegeLaney CollegeLaney CollegeLaney CollegeLaney CollegeLaney CollegeLaney CollegeLaney CollegeLaney CollegeLaney CollegeLaney CollegeLaney CollegeLaney CollegeLaney CollegeLaney CollegeLaney CollegeLaney CollegeLaney CollegeLaney CollegeLaney CollegeLaney CollegeLaney CollegeLaney CollegeLaney CollegeLaney CollegeLaney CollegeLaney CollegeLaney CollegeLaney CollegeLaney CollegeLaney CollegeLaney CollegeLaney CollegeLaney CollegeLaney CollegeLaney CollegeLaney CollegeLaney CollegeLaney CollegeLaney CollegeLaney CollegeLaney CollegeLaney CollegeLaney CollegeLaney CollegeLaney CollegeLaney CollegeLaney CollegeLaney CollegeLaney CollegeLaney CollegeLaney CollegeLaney CollegeLaney CollegeLaney CollegeLaney CollegeLaney CollegeLaney CollegeLaney CollegeLaney CollegeLaney CollegeLaney CollegeLaney CollegeLaney CollegeLaney CollegeLaney CollegeLaney CollegeLaney CollegeLaney CollegeLaney CollegeLaney CollegeLaney CollegeLaney CollegeLaney CollegeLaney CollegeLaney CollegeLaney CollegeLaney CollegeLaney CollegeLaney CollegeLaney CollegeLaney CollegeLaney CollegeLaney CollegeLaney CollegeLaney CollegeLaney CollegeLaney CollegeLaney CollegeLaney CollegeLaney CollegeLaney CollegeLaney CollegeLaney CollegeLaney CollegeLaney CollegeLaney CollegeLaney CollegeLaney CollegeLaney CollegeLaney CollegeLaney CollegeLaney CollegeLaney CollegeLaney CollegeLaney CollegeLaney CollegeLaney CollegeLaney CollegeLaney CollegeLaney CollegeLaney CollegeLaney CollegeLaney CollegeLaney CollegeLaney CollegeLaney CollegeBerkeley- Aquatic ParkBerkeley- Aquatic ParkBerkeley- Aquatic ParkBerkeley- Aquatic ParkBerkeley- Aquatic ParkBerkeley- Aquatic ParkBerkeley- Aquatic ParkBerkeley- Aquatic ParkBerkeley- Aquatic ParkBerkeley- Aquatic ParkBerkeley- Aquatic ParkBerkeley- Aquatic ParkBerkeley- Aquatic ParkBerkeley- Aquatic ParkBerkeley- Aquatic ParkBerkeley- Aquatic ParkBerkeley- Aquatic ParkBerkeley- Aquatic ParkBerkeley- Aquatic ParkBerkeley- Aquatic ParkBerkeley- Aquatic ParkBerkeley- Aquatic ParkBerkeley- Aquatic ParkBerkeley- Aquatic ParkBerkeley- Aquatic ParkBerkeley- Aquatic ParkBerkeley- Aquatic ParkBerkeley- Aquatic ParkBerkeley- Aquatic ParkBerkeley- Aquatic ParkBerkeley- Aquatic ParkBerkeley- Aquatic ParkBerkeley- Aquatic ParkBerkeley- Aquatic ParkBerkeley- Aquatic ParkBerkeley- Aquatic ParkBerkeley- Aquatic ParkBerkeley- Aquatic ParkBerkeley- Aquatic ParkBerkeley- Aquatic ParkBerkeley- Aquatic ParkBerkeley- Aquatic ParkBerkeley- Aquatic ParkBerkeley- Aquatic ParkBerkeley- Aquatic ParkBerkeley- Aquatic ParkBerkeley- Aquatic ParkBerkeley- Aquatic ParkBerkeley- Aquatic ParkBerkeley- Aquatic ParkBerkeley- Aquatic ParkBerkeley- Aquatic ParkBerkeley- Aquatic ParkBerkeley- Aquatic ParkBerkeley- Aquatic ParkBerkeley- Aquatic ParkBerkeley- Aquatic ParkBerkeley- Aquatic ParkBerkeley- Aquatic ParkBerkeley- Aquatic ParkBerkeley- Aquatic ParkBerkeley- Aquatic ParkBerkeley- Aquatic ParkBerkeley- Aquatic ParkBerkeley- Aquatic ParkBerkeley- Aquatic ParkBerkeley- Aquatic ParkBerkeley- Aquatic ParkBerkeley- Aquatic ParkBerkeley- Aquatic ParkBerkeley- Aquatic ParkBerkeley- Aquatic ParkBerkeley- Aquatic ParkBerkeley- Aquatic ParkBerkeley- Aquatic ParkBerkeley- Aquatic ParkBerkeley- Aquatic ParkBerkeley- Aquatic ParkBerkeley- Aquatic ParkBerkeley- Aquatic ParkBerkeley- Aquatic ParkBerkeley- Aquatic ParkBerkeley- Aquatic ParkBerkeley- Aquatic ParkBerkeley- Aquatic ParkBerkeley- Aquatic ParkBerkeley- Aquatic ParkBerkeley- Aquatic ParkBerkeley- Aquatic ParkBerkeley- Aquatic ParkBerkeley- Aquatic ParkBerkeley- Aquatic ParkBerkeley- Aquatic ParkBerkeley- Aquatic ParkBerkeley- Aquatic ParkBerkeley- Aquatic ParkBerkeley- Aquatic ParkBerkeley- Aquatic ParkBerkeley- Aquatic ParkBerkeley- Aquatic ParkBerkeley- Aquatic ParkBerkeley- Aquatic ParkBerkeley- Aquatic ParkBerkeley- Aquatic ParkBerkeley- Aquatic ParkBerkeley- Aquatic ParkBerkeley- Aquatic ParkBerkeley- Aquatic ParkBerkeley- Aquatic ParkBerkeley- Aquatic ParkBerkeley- Aquatic ParkBerkeley- Aquatic ParkBerkeley- Aquatic ParkBerkeley- Aquatic ParkBerkeley- Aquatic ParkBerkeley- Aquatic ParkBerkeley- Aquatic ParkBerkeley- Aquatic ParkBerkeley- Aquatic ParkBerkeley- Aquatic ParkBerkeley- Aquatic ParkBerkeley- Aquatic ParkBerkeley- Aquatic ParkBerkeley- Aquatic ParkBerkeley- Aquatic ParkBerkeley- Aquatic ParkBerkeley- Aquatic ParkBerkeley- Aquatic ParkPleasanton - Owens CtPleasanton - Owens CtPleasanton - Owens CtPleasanton - Owens CtPleasanton - Owens CtPleasanton - Owens CtPleasanton - Owens CtPleasanton - Owens CtPleasanton - Owens CtPleasanton - Owens CtPleasanton - Owens CtPleasanton - Owens CtPleasanton - Owens CtPleasanton - Owens CtPleasanton - Owens CtPleasanton - Owens CtPleasanton - Owens CtPleasanton - Owens CtPleasanton - Owens CtPleasanton - Owens CtPleasanton - Owens CtPleasanton - Owens CtPleasanton - Owens CtPleasanton - Owens CtPleasanton - Owens CtPleasanton - Owens CtPleasanton - Owens CtPleasanton - Owens CtPleasanton - Owens CtPleasanton - Owens CtPleasanton - Owens CtPleasanton - Owens CtPleasanton - Owens CtPleasanton - Owens CtPleasanton - Owens CtPleasanton - Owens CtPleasanton - Owens CtPleasanton - Owens CtPleasanton - Owens CtPleasanton - Owens CtPleasanton - Owens CtPleasanton - Owens CtPleasanton - Owens CtPleasanton - Owens CtPleasanton - Owens CtPleasanton - Owens CtPleasanton - Owens CtPleasanton - Owens CtPleasanton - Owens CtPleasanton - Owens CtPleasanton - Owens CtPleasanton - Owens CtPleasanton - Owens CtPleasanton - Owens CtPleasanton - Owens CtPleasanton - Owens CtPleasanton - Owens CtPleasanton - Owens CtPleasanton - Owens CtPleasanton - Owens CtPleasanton - Owens CtPleasanton - Owens CtPleasanton - Owens CtPleasanton - Owens CtPleasanton - Owens CtPleasanton - Owens CtPleasanton - Owens CtPleasanton - Owens CtPleasanton - Owens CtPleasanton - Owens CtPleasanton - Owens CtPleasanton - Owens CtPleasanton - Owens CtPleasanton - Owens CtPleasanton - Owens CtPleasanton - Owens CtPleasanton - Owens CtPleasanton - Owens CtPleasanton - Owens CtPleasanton - Owens CtPleasanton - Owens CtPleasanton - Owens CtPleasanton - Owens CtPleasanton - Owens CtPleasanton - Owens CtPleasanton - Owens CtPleasanton - Owens CtPleasanton - Owens CtPleasanton - Owens CtPleasanton - Owens CtPleasanton - Owens CtPleasanton - Owens CtPleasanton - Owens CtPleasanton - Owens CtPleasanton - Owens CtPleasanton - Owens CtPleasanton - Owens CtPleasanton - Owens CtPleasanton - Owens CtPleasanton - Owens CtPleasanton - Owens CtPleasanton - Owens CtPleasanton - Owens CtPleasanton - Owens CtPleasanton - Owens CtPleasanton - Owens CtPleasanton - Owens CtPleasanton - Owens CtPleasanton - Owens CtPleasanton - Owens CtPleasanton - Owens CtPleasanton - Owens CtPleasanton - Owens CtPleasanton - Owens CtPleasanton - Owens CtPleasanton - Owens CtPleasanton - Owens CtPleasanton - Owens CtPleasanton - Owens CtPleasanton - Owens CtPleasanton - Owens CtPleasanton - Owens CtPleasanton - Owens CtPleasanton - Owens CtPleasanton - Owens CtPleasanton - Owens CtPleasanton - Owens CtPleasanton - Owens CtPleasanton - Owens CtPleasanton - Owens CtPleasanton - Owens CtPleasanton - Owens CtPleasanton - Owens CtPleasanton - Owens CtPleasanton - Owens CtPleasanton - Owens CtPleasanton - Owens CtPleasanton - Owens CtPleasanton - Owens CtPleasanton - Owens CtPleasanton - Owens CtPleasanton - Owens CtPleasanton - Owens CtPleasanton - Owens CtPleasanton - Owens CtPleasanton - Owens CtPleasanton - Owens CtPleasanton - Owens CtPleasanton - Owens CtPleasanton - Owens CtPleasanton - Owens CtPleasanton - Owens CtPleasanton - Owens CtPleasanton - Owens CtPleasanton - Owens CtPleasanton - Owens CtPleasanton - Owens CtPleasanton - Owens CtPleasanton - Owens CtPleasanton - Owens CtPleasanton - Owens CtPleasanton - Owens CtPleasanton - Owens CtPleasanton - Owens CtPleasanton - Owens CtPleasanton - Owens CtPleasanton - Owens CtPleasanton - Owens CtPleasanton - Owens CtPleasanton - Owens CtPleasanton - Owens CtPleasanton - Owens CtPleasanton - Owens CtPleasanton - Owens CtLivermore PortolaLivermore PortolaLivermore PortolaLivermore PortolaLivermore PortolaLivermore PortolaLivermore PortolaLivermore PortolaLivermore PortolaLivermore PortolaLivermore PortolaLivermore PortolaLivermore PortolaLivermore PortolaLivermore PortolaLivermore PortolaLivermore PortolaLivermore PortolaLivermore PortolaLivermore PortolaLivermore PortolaLivermore PortolaLivermore PortolaLivermore PortolaLivermore PortolaLivermore PortolaLivermore PortolaLivermore PortolaLivermore PortolaLivermore PortolaLivermore PortolaLivermore PortolaLivermore PortolaLivermore PortolaLivermore PortolaLivermore PortolaLivermore PortolaLivermore PortolaLivermore PortolaLivermore PortolaLivermore PortolaLivermore PortolaLivermore PortolaLivermore PortolaLivermore PortolaLivermore PortolaLivermore PortolaLivermore PortolaLivermore PortolaLivermore PortolaLivermore PortolaLivermore PortolaLivermore PortolaLivermore PortolaLivermore PortolaLivermore PortolaLivermore Portola' to numeric",
      "\nThe above exception was the direct cause of the following exception:\n",
      "\u001B[0;31mTypeError\u001B[0m                                 Traceback (most recent call last)",
      "Cell \u001B[0;32mIn[7], line 2\u001B[0m\n\u001B[1;32m      1\u001B[0m df3 \u001B[38;5;241m=\u001B[39m df1[[\u001B[38;5;124m'\u001B[39m\u001B[38;5;124mLocal Site Name\u001B[39m\u001B[38;5;124m'\u001B[39m, \u001B[38;5;124m'\u001B[39m\u001B[38;5;124mCounty\u001B[39m\u001B[38;5;124m'\u001B[39m,\u001B[38;5;124m'\u001B[39m\u001B[38;5;124mSite Latitude\u001B[39m\u001B[38;5;124m'\u001B[39m, \u001B[38;5;124m'\u001B[39m\u001B[38;5;124mSite Longitude\u001B[39m\u001B[38;5;124m'\u001B[39m, \u001B[38;5;124m'\u001B[39m\u001B[38;5;124mDaily Mean PM2.5 Concentration\u001B[39m\u001B[38;5;124m'\u001B[39m]]\n\u001B[0;32m----> 2\u001B[0m df3 \u001B[38;5;241m=\u001B[39m \u001B[43mdf3\u001B[49m\u001B[38;5;241;43m.\u001B[39;49m\u001B[43mgroupby\u001B[49m\u001B[43m(\u001B[49m\u001B[38;5;124;43m'\u001B[39;49m\u001B[38;5;124;43mCounty\u001B[39;49m\u001B[38;5;124;43m'\u001B[39;49m\u001B[43m)\u001B[49m\u001B[38;5;241;43m.\u001B[39;49m\u001B[43mmean\u001B[49m\u001B[43m(\u001B[49m\u001B[43m)\u001B[49m\n",
      "File \u001B[0;32m/Library/Frameworks/Python.framework/Versions/3.11/lib/python3.11/site-packages/pandas/core/groupby/groupby.py:2452\u001B[0m, in \u001B[0;36mGroupBy.mean\u001B[0;34m(self, numeric_only, engine, engine_kwargs)\u001B[0m\n\u001B[1;32m   2445\u001B[0m     \u001B[38;5;28;01mreturn\u001B[39;00m \u001B[38;5;28mself\u001B[39m\u001B[38;5;241m.\u001B[39m_numba_agg_general(\n\u001B[1;32m   2446\u001B[0m         grouped_mean,\n\u001B[1;32m   2447\u001B[0m         executor\u001B[38;5;241m.\u001B[39mfloat_dtype_mapping,\n\u001B[1;32m   2448\u001B[0m         engine_kwargs,\n\u001B[1;32m   2449\u001B[0m         min_periods\u001B[38;5;241m=\u001B[39m\u001B[38;5;241m0\u001B[39m,\n\u001B[1;32m   2450\u001B[0m     )\n\u001B[1;32m   2451\u001B[0m \u001B[38;5;28;01melse\u001B[39;00m:\n\u001B[0;32m-> 2452\u001B[0m     result \u001B[38;5;241m=\u001B[39m \u001B[38;5;28;43mself\u001B[39;49m\u001B[38;5;241;43m.\u001B[39;49m\u001B[43m_cython_agg_general\u001B[49m\u001B[43m(\u001B[49m\n\u001B[1;32m   2453\u001B[0m \u001B[43m        \u001B[49m\u001B[38;5;124;43m\"\u001B[39;49m\u001B[38;5;124;43mmean\u001B[39;49m\u001B[38;5;124;43m\"\u001B[39;49m\u001B[43m,\u001B[49m\n\u001B[1;32m   2454\u001B[0m \u001B[43m        \u001B[49m\u001B[43malt\u001B[49m\u001B[38;5;241;43m=\u001B[39;49m\u001B[38;5;28;43;01mlambda\u001B[39;49;00m\u001B[43m \u001B[49m\u001B[43mx\u001B[49m\u001B[43m:\u001B[49m\u001B[43m \u001B[49m\u001B[43mSeries\u001B[49m\u001B[43m(\u001B[49m\u001B[43mx\u001B[49m\u001B[43m,\u001B[49m\u001B[43m \u001B[49m\u001B[43mcopy\u001B[49m\u001B[38;5;241;43m=\u001B[39;49m\u001B[38;5;28;43;01mFalse\u001B[39;49;00m\u001B[43m)\u001B[49m\u001B[38;5;241;43m.\u001B[39;49m\u001B[43mmean\u001B[49m\u001B[43m(\u001B[49m\u001B[43mnumeric_only\u001B[49m\u001B[38;5;241;43m=\u001B[39;49m\u001B[43mnumeric_only\u001B[49m\u001B[43m)\u001B[49m\u001B[43m,\u001B[49m\n\u001B[1;32m   2455\u001B[0m \u001B[43m        \u001B[49m\u001B[43mnumeric_only\u001B[49m\u001B[38;5;241;43m=\u001B[39;49m\u001B[43mnumeric_only\u001B[49m\u001B[43m,\u001B[49m\n\u001B[1;32m   2456\u001B[0m \u001B[43m    \u001B[49m\u001B[43m)\u001B[49m\n\u001B[1;32m   2457\u001B[0m     \u001B[38;5;28;01mreturn\u001B[39;00m result\u001B[38;5;241m.\u001B[39m__finalize__(\u001B[38;5;28mself\u001B[39m\u001B[38;5;241m.\u001B[39mobj, method\u001B[38;5;241m=\u001B[39m\u001B[38;5;124m\"\u001B[39m\u001B[38;5;124mgroupby\u001B[39m\u001B[38;5;124m\"\u001B[39m)\n",
      "File \u001B[0;32m/Library/Frameworks/Python.framework/Versions/3.11/lib/python3.11/site-packages/pandas/core/groupby/groupby.py:1998\u001B[0m, in \u001B[0;36mGroupBy._cython_agg_general\u001B[0;34m(self, how, alt, numeric_only, min_count, **kwargs)\u001B[0m\n\u001B[1;32m   1995\u001B[0m     result \u001B[38;5;241m=\u001B[39m \u001B[38;5;28mself\u001B[39m\u001B[38;5;241m.\u001B[39m_agg_py_fallback(how, values, ndim\u001B[38;5;241m=\u001B[39mdata\u001B[38;5;241m.\u001B[39mndim, alt\u001B[38;5;241m=\u001B[39malt)\n\u001B[1;32m   1996\u001B[0m     \u001B[38;5;28;01mreturn\u001B[39;00m result\n\u001B[0;32m-> 1998\u001B[0m new_mgr \u001B[38;5;241m=\u001B[39m \u001B[43mdata\u001B[49m\u001B[38;5;241;43m.\u001B[39;49m\u001B[43mgrouped_reduce\u001B[49m\u001B[43m(\u001B[49m\u001B[43marray_func\u001B[49m\u001B[43m)\u001B[49m\n\u001B[1;32m   1999\u001B[0m res \u001B[38;5;241m=\u001B[39m \u001B[38;5;28mself\u001B[39m\u001B[38;5;241m.\u001B[39m_wrap_agged_manager(new_mgr)\n\u001B[1;32m   2000\u001B[0m \u001B[38;5;28;01mif\u001B[39;00m how \u001B[38;5;129;01min\u001B[39;00m [\u001B[38;5;124m\"\u001B[39m\u001B[38;5;124midxmin\u001B[39m\u001B[38;5;124m\"\u001B[39m, \u001B[38;5;124m\"\u001B[39m\u001B[38;5;124midxmax\u001B[39m\u001B[38;5;124m\"\u001B[39m]:\n",
      "File \u001B[0;32m/Library/Frameworks/Python.framework/Versions/3.11/lib/python3.11/site-packages/pandas/core/internals/managers.py:1470\u001B[0m, in \u001B[0;36mBlockManager.grouped_reduce\u001B[0;34m(self, func)\u001B[0m\n\u001B[1;32m   1466\u001B[0m \u001B[38;5;28;01mif\u001B[39;00m blk\u001B[38;5;241m.\u001B[39mis_object:\n\u001B[1;32m   1467\u001B[0m     \u001B[38;5;66;03m# split on object-dtype blocks bc some columns may raise\u001B[39;00m\n\u001B[1;32m   1468\u001B[0m     \u001B[38;5;66;03m#  while others do not.\u001B[39;00m\n\u001B[1;32m   1469\u001B[0m     \u001B[38;5;28;01mfor\u001B[39;00m sb \u001B[38;5;129;01min\u001B[39;00m blk\u001B[38;5;241m.\u001B[39m_split():\n\u001B[0;32m-> 1470\u001B[0m         applied \u001B[38;5;241m=\u001B[39m \u001B[43msb\u001B[49m\u001B[38;5;241;43m.\u001B[39;49m\u001B[43mapply\u001B[49m\u001B[43m(\u001B[49m\u001B[43mfunc\u001B[49m\u001B[43m)\u001B[49m\n\u001B[1;32m   1471\u001B[0m         result_blocks \u001B[38;5;241m=\u001B[39m extend_blocks(applied, result_blocks)\n\u001B[1;32m   1472\u001B[0m \u001B[38;5;28;01melse\u001B[39;00m:\n",
      "File \u001B[0;32m/Library/Frameworks/Python.framework/Versions/3.11/lib/python3.11/site-packages/pandas/core/internals/blocks.py:393\u001B[0m, in \u001B[0;36mBlock.apply\u001B[0;34m(self, func, **kwargs)\u001B[0m\n\u001B[1;32m    387\u001B[0m \u001B[38;5;129m@final\u001B[39m\n\u001B[1;32m    388\u001B[0m \u001B[38;5;28;01mdef\u001B[39;00m \u001B[38;5;21mapply\u001B[39m(\u001B[38;5;28mself\u001B[39m, func, \u001B[38;5;241m*\u001B[39m\u001B[38;5;241m*\u001B[39mkwargs) \u001B[38;5;241m-\u001B[39m\u001B[38;5;241m>\u001B[39m \u001B[38;5;28mlist\u001B[39m[Block]:\n\u001B[1;32m    389\u001B[0m \u001B[38;5;250m    \u001B[39m\u001B[38;5;124;03m\"\"\"\u001B[39;00m\n\u001B[1;32m    390\u001B[0m \u001B[38;5;124;03m    apply the function to my values; return a block if we are not\u001B[39;00m\n\u001B[1;32m    391\u001B[0m \u001B[38;5;124;03m    one\u001B[39;00m\n\u001B[1;32m    392\u001B[0m \u001B[38;5;124;03m    \"\"\"\u001B[39;00m\n\u001B[0;32m--> 393\u001B[0m     result \u001B[38;5;241m=\u001B[39m \u001B[43mfunc\u001B[49m\u001B[43m(\u001B[49m\u001B[38;5;28;43mself\u001B[39;49m\u001B[38;5;241;43m.\u001B[39;49m\u001B[43mvalues\u001B[49m\u001B[43m,\u001B[49m\u001B[43m \u001B[49m\u001B[38;5;241;43m*\u001B[39;49m\u001B[38;5;241;43m*\u001B[39;49m\u001B[43mkwargs\u001B[49m\u001B[43m)\u001B[49m\n\u001B[1;32m    395\u001B[0m     result \u001B[38;5;241m=\u001B[39m maybe_coerce_values(result)\n\u001B[1;32m    396\u001B[0m     \u001B[38;5;28;01mreturn\u001B[39;00m \u001B[38;5;28mself\u001B[39m\u001B[38;5;241m.\u001B[39m_split_op_result(result)\n",
      "File \u001B[0;32m/Library/Frameworks/Python.framework/Versions/3.11/lib/python3.11/site-packages/pandas/core/groupby/groupby.py:1995\u001B[0m, in \u001B[0;36mGroupBy._cython_agg_general.<locals>.array_func\u001B[0;34m(values)\u001B[0m\n\u001B[1;32m   1992\u001B[0m     \u001B[38;5;28;01mreturn\u001B[39;00m result\n\u001B[1;32m   1994\u001B[0m \u001B[38;5;28;01massert\u001B[39;00m alt \u001B[38;5;129;01mis\u001B[39;00m \u001B[38;5;129;01mnot\u001B[39;00m \u001B[38;5;28;01mNone\u001B[39;00m\n\u001B[0;32m-> 1995\u001B[0m result \u001B[38;5;241m=\u001B[39m \u001B[38;5;28;43mself\u001B[39;49m\u001B[38;5;241;43m.\u001B[39;49m\u001B[43m_agg_py_fallback\u001B[49m\u001B[43m(\u001B[49m\u001B[43mhow\u001B[49m\u001B[43m,\u001B[49m\u001B[43m \u001B[49m\u001B[43mvalues\u001B[49m\u001B[43m,\u001B[49m\u001B[43m \u001B[49m\u001B[43mndim\u001B[49m\u001B[38;5;241;43m=\u001B[39;49m\u001B[43mdata\u001B[49m\u001B[38;5;241;43m.\u001B[39;49m\u001B[43mndim\u001B[49m\u001B[43m,\u001B[49m\u001B[43m \u001B[49m\u001B[43malt\u001B[49m\u001B[38;5;241;43m=\u001B[39;49m\u001B[43malt\u001B[49m\u001B[43m)\u001B[49m\n\u001B[1;32m   1996\u001B[0m \u001B[38;5;28;01mreturn\u001B[39;00m result\n",
      "File \u001B[0;32m/Library/Frameworks/Python.framework/Versions/3.11/lib/python3.11/site-packages/pandas/core/groupby/groupby.py:1946\u001B[0m, in \u001B[0;36mGroupBy._agg_py_fallback\u001B[0;34m(self, how, values, ndim, alt)\u001B[0m\n\u001B[1;32m   1944\u001B[0m     msg \u001B[38;5;241m=\u001B[39m \u001B[38;5;124mf\u001B[39m\u001B[38;5;124m\"\u001B[39m\u001B[38;5;124magg function failed [how->\u001B[39m\u001B[38;5;132;01m{\u001B[39;00mhow\u001B[38;5;132;01m}\u001B[39;00m\u001B[38;5;124m,dtype->\u001B[39m\u001B[38;5;132;01m{\u001B[39;00mser\u001B[38;5;241m.\u001B[39mdtype\u001B[38;5;132;01m}\u001B[39;00m\u001B[38;5;124m]\u001B[39m\u001B[38;5;124m\"\u001B[39m\n\u001B[1;32m   1945\u001B[0m     \u001B[38;5;66;03m# preserve the kind of exception that raised\u001B[39;00m\n\u001B[0;32m-> 1946\u001B[0m     \u001B[38;5;28;01mraise\u001B[39;00m \u001B[38;5;28mtype\u001B[39m(err)(msg) \u001B[38;5;28;01mfrom\u001B[39;00m \u001B[38;5;21;01merr\u001B[39;00m\n\u001B[1;32m   1948\u001B[0m \u001B[38;5;28;01mif\u001B[39;00m ser\u001B[38;5;241m.\u001B[39mdtype \u001B[38;5;241m==\u001B[39m \u001B[38;5;28mobject\u001B[39m:\n\u001B[1;32m   1949\u001B[0m     res_values \u001B[38;5;241m=\u001B[39m res_values\u001B[38;5;241m.\u001B[39mastype(\u001B[38;5;28mobject\u001B[39m, copy\u001B[38;5;241m=\u001B[39m\u001B[38;5;28;01mFalse\u001B[39;00m)\n",
      "\u001B[0;31mTypeError\u001B[0m: agg function failed [how->mean,dtype->object]"
     ]
    }
   ],
   "source": [
    "df3 = df1[['Local Site Name', 'County','Site Latitude', 'Site Longitude', 'Daily Mean PM2.5 Concentration']]\n",
    "df3 = df3.groupby('County').mean()"
   ]
  },
  {
   "cell_type": "code",
   "execution_count": null,
   "id": "99d2388d",
   "metadata": {},
   "outputs": [],
   "source": [
    "dfm = pd.merge(df3, df, on='County')"
   ]
  },
  {
   "cell_type": "code",
   "execution_count": null,
   "id": "5243fca0",
   "metadata": {},
   "outputs": [],
   "source": [
    "import plotly.express as px\n",
    "from plotly.subplots import make_subplots\n",
    "import plotly.graph_objs as go"
   ]
  },
  {
   "cell_type": "code",
   "execution_count": null,
   "id": "edeacef2",
   "metadata": {},
   "outputs": [],
   "source": [
    "df2023 = dfm[dfm['Data Year']==2023]\n",
    "df2015 = dfm[dfm['Data Year']==2015]\n",
    "\n",
    "data = [go.Densitymap(\n",
    "    name = '2023',\n",
    "    lat=df2023['Site Latitude'],\n",
    "    lon=df2023['Site Longitude'],\n",
    "    z = df2023['Number of EV']/(df2023['Number of EV']+df2023['Number of Gas Cars']),\n",
    "    radius=50,\n",
    "    opacity = .5,\n",
    "    subplot = 'map1',\n",
    "    zmin = 0,\n",
    "    zmax = .1,\n",
    "    colorbar=dict(\n",
    "    yanchor=\"top\",\n",
    "    y=0.99,\n",
    "    xanchor=\"left\",\n",
    "    x=0.00\n",
    "),\n",
    " ),\n",
    " go.Densitymap( \n",
    "    lat=df2023['Site Latitude'],\n",
    "    lon=df2023['Site Longitude'],\n",
    "    z = df2023['Daily Mean PM2.5 Concentration'],\n",
    "    radius=50,\n",
    "    opacity = .5,\n",
    "    subplot = 'map2',\n",
    "    colorscale = 'Greys'\n",
    " ),\n",
    "go.Densitymap( \n",
    "    lat=df2015['Site Latitude'],\n",
    "    lon=df2015['Site Longitude'],\n",
    "    z = df2015['Number of EV']/(df2015['Number of EV']+df2015['Number of Gas Cars']),\n",
    "    radius=50,\n",
    "    opacity = .5,\n",
    "    subplot = 'map3',\n",
    "    zmin = 0,\n",
    "    zmax = .1,\n",
    "    colorbar=dict(\n",
    "    yanchor=\"top\",\n",
    "    y=0.99,\n",
    "    xanchor=\"left\",\n",
    "    x=0.00\n",
    "),\n",
    " ),\n",
    " go.Densitymap(\n",
    "    lat=df2015['Site Latitude'],\n",
    "    lon=df2015['Site Longitude'],\n",
    "    z = df2015['Daily Mean PM2.5 Concentration'],\n",
    "    radius=50,\n",
    "    opacity = .5,\n",
    "    subplot = 'map4',\n",
    "    colorscale = 'Greys'\n",
    " )\n",
    "]\n",
    "    \n",
    "layout = go.Layout(\n",
    "    autosize=True,\n",
    "    hovermode='closest',\n",
    "    map1=dict(\n",
    "        domain={'x': [0, 0.5], 'y': [0, .5]},\n",
    "        bearing=0,\n",
    "        pitch=0,\n",
    "        zoom=5,\n",
    "        center = dict(lat=df2023['Site Latitude'].mean(), lon = df2023['Site Longitude'].mean())\n",
    "    ),\n",
    "        map2=dict(\n",
    "        domain={'x': [.5, 1], 'y': [0, .5]},\n",
    "        bearing=0,\n",
    "        pitch=0,\n",
    "        zoom=5,\n",
    "        center = dict(lat=df2023['Site Latitude'].mean(), lon = df2023['Site Longitude'].mean())\n",
    "    ),\n",
    "        map3=dict(\n",
    "        domain={'x': [0, 0.5], 'y': [.5, 1]},\n",
    "        bearing=0,\n",
    "        pitch=0,\n",
    "        zoom=5,\n",
    "        center = dict(lat=df2023['Site Latitude'].mean(), lon = df2023['Site Longitude'].mean())\n",
    "    ),\n",
    "        map4=dict(\n",
    "        domain={'x': [.5, 1], 'y': [.5, 1]},\n",
    "        bearing=0,\n",
    "        pitch=0,\n",
    "        zoom=5,\n",
    "        center = dict(lat=df2023['Site Latitude'].mean(), lon = df2023['Site Longitude'].mean())))\n",
    "    \n",
    "\n",
    "\n",
    "\n",
    "fig = go.FigureWidget(data = data, layout = layout)\n",
    "#fig.update_layout(mapbox_style=\"open-street-map\")\n",
    "fig.update_layout(margin={\"r\":0,\"t\":0,\"l\":0,\"b\":0}, width = 900, height = 600)\n",
    "fig.add_annotation(text='2023 EV Rate', x=.25, y=.48, showarrow = False, xref = 'paper')\n",
    "fig.add_annotation(text='2015 EV Rate', x=.25, y=1, showarrow = False, xref = 'paper')\n",
    "fig.add_annotation(text='2023 Average PM', x=.75, y=.48, showarrow = False, xref = 'paper')\n",
    "fig.add_annotation(text='2015 Average PM', x=.75, y=1, showarrow = False, xref = 'paper')\n",
    "\n",
    "\n",
    "fig.show()"
   ]
  },
  {
   "cell_type": "code",
   "execution_count": null,
   "id": "8ea8dd55",
   "metadata": {},
   "outputs": [],
   "source": [
    "df = pd.read_csv('./PM2.5_Vehicles_Population.csv')\n",
    "\n",
    "df"
   ]
  },
  {
   "cell_type": "code",
   "execution_count": null,
   "id": "3dbbf14e",
   "metadata": {},
   "outputs": [],
   "source": [
    "import matplotlib.pyplot as plt\n",
    "\n",
    "fig, axs = plt.subplots(3, 3, figsize=(20,8), sharex=True, sharey=True)\n",
    "axs = axs.ravel()\n",
    "\n",
    "df2 = df.groupby('County').mean().sort_values(by = 'Population', ascending = False).dropna()\n",
    "\n",
    "names = df2.index[:3].to_list()+df2.index[24:27].to_list()+df2.index[48::].to_list()\n",
    "\n",
    "for i in range(len(names)):\n",
    "    n = names[i]\n",
    "    axs[i].plot(df[df['County'] == n]['Data Year'], df[df['County'] == n]['Average PM 2.5/County'])\n",
    "    axs[i].axhline(df[df['County'] == n]['Average PM 2.5/County'].mean(), color = 'Black')\n",
    "    axs[i].set_title(n)\n",
    "    if i%3 == 0:\n",
    "        axs[i].set_ylabel('Average PM 2.5')"
   ]
  },
  {
   "cell_type": "code",
   "execution_count": null,
   "id": "0a18ff54",
   "metadata": {},
   "outputs": [],
   "source": [
    "fig, axs = plt.subplots(nrows=1, ncols=2, figsize=(12, 8))\n",
    "\n",
    "sns.violinplot(data = df[['enhanced_speed']].dropna(),\n",
    "                  showmeans=False,\n",
    "                  showmedians=True, ax=axs[0])\n",
    "sns.violinplot(data = df[['distance']].dropna(),\n",
    "                  showmeans=False,\n",
    "                  showmedians=True, ax=axs[1])\n",
    "axs[0].set_title('Violin Plot of speed', fontsize=30)\n",
    "axs[0].set_ylabel('Speed (m/s)', fontsize=15)\n",
    "axs[0].axhline(y=3.8, linestyle = 'dashed')\n",
    "\n",
    "axs[1].set_title('Violin Plot of distance', fontsize=30)\n",
    "axs[1].set_ylabel('Distance (m)', fontsize=15)\n",
    "axs[1].axhline(y=6500, linestyle = 'dashed')\n",
    "\n",
    "plt.show()"
   ]
  }
 ],
 "metadata": {
  "kernelspec": {
   "display_name": "Python 3 (ipykernel)",
   "language": "python",
   "name": "python3"
  },
  "language_info": {
   "codemirror_mode": {
    "name": "ipython",
    "version": 3
   },
   "file_extension": ".py",
   "mimetype": "text/x-python",
   "name": "python",
   "nbconvert_exporter": "python",
   "pygments_lexer": "ipython3",
   "version": "3.9.7"
  }
 },
 "nbformat": 4,
 "nbformat_minor": 5
}
