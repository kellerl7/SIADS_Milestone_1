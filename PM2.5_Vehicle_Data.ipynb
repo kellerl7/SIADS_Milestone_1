{
 "cells": [
  {
   "cell_type": "code",
   "execution_count": 1,
   "id": "initial_id",
   "metadata": {
    "collapsed": true,
    "ExecuteTime": {
     "end_time": "2024-09-27T20:40:19.749159Z",
     "start_time": "2024-09-27T20:40:19.407046Z"
    }
   },
   "outputs": [],
   "source": [
    "import pandas as pd"
   ]
  },
  {
   "cell_type": "code",
   "outputs": [],
   "source": [
    "# import data tables\n",
    "df_pm = pd.read_csv('./California_Population.csv')\n",
    "df_vehicles = pd.read_csv('./vehicle_df')"
   ],
   "metadata": {
    "collapsed": false,
    "ExecuteTime": {
     "end_time": "2024-09-27T20:40:19.770968Z",
     "start_time": "2024-09-27T20:40:19.763577Z"
    }
   },
   "id": "816812f1f318f9ab",
   "execution_count": 2
  },
  {
   "cell_type": "code",
   "outputs": [
    {
     "data": {
      "text/plain": "      Data Year     County  Number of EV\n0          2010    Alameda            20\n2          2010     Alpine             0\n4          2010     Amador             1\n6          2010      Butte             0\n8          2010  Calaveras             0\n...         ...        ...           ...\n1642       2023     Tulare          3837\n1644       2023   Tuolumne           698\n1646       2023    Ventura         31980\n1648       2023       Yolo          6757\n1650       2023       Yuba           961\n\n[826 rows x 3 columns]",
      "text/html": "<div>\n<style scoped>\n    .dataframe tbody tr th:only-of-type {\n        vertical-align: middle;\n    }\n\n    .dataframe tbody tr th {\n        vertical-align: top;\n    }\n\n    .dataframe thead th {\n        text-align: right;\n    }\n</style>\n<table border=\"1\" class=\"dataframe\">\n  <thead>\n    <tr style=\"text-align: right;\">\n      <th></th>\n      <th>Data Year</th>\n      <th>County</th>\n      <th>Number of EV</th>\n    </tr>\n  </thead>\n  <tbody>\n    <tr>\n      <th>0</th>\n      <td>2010</td>\n      <td>Alameda</td>\n      <td>20</td>\n    </tr>\n    <tr>\n      <th>2</th>\n      <td>2010</td>\n      <td>Alpine</td>\n      <td>0</td>\n    </tr>\n    <tr>\n      <th>4</th>\n      <td>2010</td>\n      <td>Amador</td>\n      <td>1</td>\n    </tr>\n    <tr>\n      <th>6</th>\n      <td>2010</td>\n      <td>Butte</td>\n      <td>0</td>\n    </tr>\n    <tr>\n      <th>8</th>\n      <td>2010</td>\n      <td>Calaveras</td>\n      <td>0</td>\n    </tr>\n    <tr>\n      <th>...</th>\n      <td>...</td>\n      <td>...</td>\n      <td>...</td>\n    </tr>\n    <tr>\n      <th>1642</th>\n      <td>2023</td>\n      <td>Tulare</td>\n      <td>3837</td>\n    </tr>\n    <tr>\n      <th>1644</th>\n      <td>2023</td>\n      <td>Tuolumne</td>\n      <td>698</td>\n    </tr>\n    <tr>\n      <th>1646</th>\n      <td>2023</td>\n      <td>Ventura</td>\n      <td>31980</td>\n    </tr>\n    <tr>\n      <th>1648</th>\n      <td>2023</td>\n      <td>Yolo</td>\n      <td>6757</td>\n    </tr>\n    <tr>\n      <th>1650</th>\n      <td>2023</td>\n      <td>Yuba</td>\n      <td>961</td>\n    </tr>\n  </tbody>\n</table>\n<p>826 rows × 3 columns</p>\n</div>"
     },
     "execution_count": 3,
     "metadata": {},
     "output_type": "execute_result"
    }
   ],
   "source": [
    "# seperating creating ev/gas columns so its easier to compare with pm2.5 values \n",
    "df_ev_vehicles = df_vehicles[df_vehicles['Fuel Category'] == 'EV']\n",
    "df_ev_vehicles = df_ev_vehicles.rename(columns={'Number of Vehicles': 'Number of EV'})\n",
    "df_ev_vehicles = df_ev_vehicles.drop(columns=['Fuel Category'])\n",
    "df_ev_vehicles"
   ],
   "metadata": {
    "collapsed": false,
    "ExecuteTime": {
     "end_time": "2024-09-27T20:40:19.780492Z",
     "start_time": "2024-09-27T20:40:19.771770Z"
    }
   },
   "id": "d1a0a79de10448d3",
   "execution_count": 3
  },
  {
   "cell_type": "code",
   "outputs": [
    {
     "data": {
      "text/plain": "      Data Year     County  Number of Gas Cars\n1          2010    Alameda              885402\n3          2010     Alpine                1041\n5          2010     Amador               30480\n7          2010      Butte              133169\n9          2010  Calaveras               39636\n...         ...        ...                 ...\n1643       2023     Tulare              331744\n1645       2023   Tuolumne               54369\n1647       2023    Ventura              651851\n1649       2023       Yolo              152560\n1651       2023       Yuba               57567\n\n[826 rows x 3 columns]",
      "text/html": "<div>\n<style scoped>\n    .dataframe tbody tr th:only-of-type {\n        vertical-align: middle;\n    }\n\n    .dataframe tbody tr th {\n        vertical-align: top;\n    }\n\n    .dataframe thead th {\n        text-align: right;\n    }\n</style>\n<table border=\"1\" class=\"dataframe\">\n  <thead>\n    <tr style=\"text-align: right;\">\n      <th></th>\n      <th>Data Year</th>\n      <th>County</th>\n      <th>Number of Gas Cars</th>\n    </tr>\n  </thead>\n  <tbody>\n    <tr>\n      <th>1</th>\n      <td>2010</td>\n      <td>Alameda</td>\n      <td>885402</td>\n    </tr>\n    <tr>\n      <th>3</th>\n      <td>2010</td>\n      <td>Alpine</td>\n      <td>1041</td>\n    </tr>\n    <tr>\n      <th>5</th>\n      <td>2010</td>\n      <td>Amador</td>\n      <td>30480</td>\n    </tr>\n    <tr>\n      <th>7</th>\n      <td>2010</td>\n      <td>Butte</td>\n      <td>133169</td>\n    </tr>\n    <tr>\n      <th>9</th>\n      <td>2010</td>\n      <td>Calaveras</td>\n      <td>39636</td>\n    </tr>\n    <tr>\n      <th>...</th>\n      <td>...</td>\n      <td>...</td>\n      <td>...</td>\n    </tr>\n    <tr>\n      <th>1643</th>\n      <td>2023</td>\n      <td>Tulare</td>\n      <td>331744</td>\n    </tr>\n    <tr>\n      <th>1645</th>\n      <td>2023</td>\n      <td>Tuolumne</td>\n      <td>54369</td>\n    </tr>\n    <tr>\n      <th>1647</th>\n      <td>2023</td>\n      <td>Ventura</td>\n      <td>651851</td>\n    </tr>\n    <tr>\n      <th>1649</th>\n      <td>2023</td>\n      <td>Yolo</td>\n      <td>152560</td>\n    </tr>\n    <tr>\n      <th>1651</th>\n      <td>2023</td>\n      <td>Yuba</td>\n      <td>57567</td>\n    </tr>\n  </tbody>\n</table>\n<p>826 rows × 3 columns</p>\n</div>"
     },
     "execution_count": 4,
     "metadata": {},
     "output_type": "execute_result"
    }
   ],
   "source": [
    "df_gas_vehicles = df_vehicles[df_vehicles['Fuel Category'] == 'Fossil Fuel']\n",
    "df_gas_vehicles = df_gas_vehicles.rename(columns={'Number of Vehicles': 'Number of Gas Cars'})\n",
    "df_gas_vehicles = df_gas_vehicles.drop(columns=['Fuel Category'])\n",
    "df_gas_vehicles"
   ],
   "metadata": {
    "collapsed": false,
    "ExecuteTime": {
     "end_time": "2024-09-27T20:40:19.786911Z",
     "start_time": "2024-09-27T20:40:19.781114Z"
    }
   },
   "id": "448cf6560e87e2b5",
   "execution_count": 4
  },
  {
   "cell_type": "code",
   "outputs": [
    {
     "data": {
      "text/plain": "(826, 4)"
     },
     "execution_count": 5,
     "metadata": {},
     "output_type": "execute_result"
    }
   ],
   "source": [
    "# recombining df_vehicles \n",
    "df_vehicles = pd.merge(df_gas_vehicles, df_ev_vehicles, on=['Data Year', 'County'], how='inner')\n",
    "df_vehicles.shape"
   ],
   "metadata": {
    "collapsed": false,
    "ExecuteTime": {
     "end_time": "2024-09-27T20:40:19.793346Z",
     "start_time": "2024-09-27T20:40:19.788791Z"
    }
   },
   "id": "170f71692567d6d9",
   "execution_count": 5
  },
  {
   "cell_type": "code",
   "outputs": [
    {
     "data": {
      "text/plain": "(870, 4)"
     },
     "execution_count": 6,
     "metadata": {},
     "output_type": "execute_result"
    }
   ],
   "source": [
    "df_pm.shape"
   ],
   "metadata": {
    "collapsed": false,
    "ExecuteTime": {
     "end_time": "2024-09-27T20:40:19.797219Z",
     "start_time": "2024-09-27T20:40:19.794146Z"
    }
   },
   "id": "b76280accd5ff096",
   "execution_count": 6
  },
  {
   "cell_type": "code",
   "outputs": [
    {
     "name": "stdout",
     "output_type": "stream",
     "text": [
      "Only in df_vehicles: {'Out Of State', 'Alpine'}\n",
      "Only in df_pm: {'State Total'}\n"
     ]
    }
   ],
   "source": [
    "# strip df_pm of spaces \n",
    "df_pm['County'] = df_pm['County'].str.strip()\n",
    "counties = pd.DataFrame({\n",
    "    'County_df_vehicles': df_vehicles['County'],\n",
    "    'County_df_pm': df_pm['County']\n",
    "})\n",
    "counties.head()\n",
    "# Get unique counties from both DataFrames\n",
    "counties_vehicles = set(df_vehicles['County'])\n",
    "counties_pm = set(df_pm['County'])\n",
    "\n",
    "# Find differences\n",
    "only_in_vehicles = counties_vehicles - counties_pm\n",
    "only_in_pm = counties_pm - counties_vehicles\n",
    "\n",
    "print(\"Only in df_vehicles:\", only_in_vehicles)\n",
    "print(\"Only in df_pm:\", only_in_pm)\n",
    "\n",
    "# do we want to drop these values ? i will merge on left for now, idk if we will need these since they don't have pm2.5 data at all. we could estimate these values by comparing the counties around them that do report pm2.5 values. "
   ],
   "metadata": {
    "collapsed": false,
    "ExecuteTime": {
     "end_time": "2024-09-27T20:42:11.470831Z",
     "start_time": "2024-09-27T20:42:11.430813Z"
    }
   },
   "id": "75a58b03876f669b",
   "execution_count": 14
  },
  {
   "cell_type": "code",
   "outputs": [
    {
     "data": {
      "text/plain": "(870, 4)"
     },
     "execution_count": 16,
     "metadata": {},
     "output_type": "execute_result"
    }
   ],
   "source": [
    "# check shapes\n",
    "df_pm"
   ],
   "metadata": {
    "collapsed": false,
    "ExecuteTime": {
     "end_time": "2024-09-27T20:42:51.299106Z",
     "start_time": "2024-09-27T20:42:51.283534Z"
    }
   },
   "id": "4f5e0f64c468f17c",
   "execution_count": 16
  },
  {
   "cell_type": "code",
   "outputs": [
    {
     "data": {
      "text/plain": "(826, 4)"
     },
     "execution_count": 17,
     "metadata": {},
     "output_type": "execute_result"
    }
   ],
   "source": [
    "df_vehicles.shape"
   ],
   "metadata": {
    "collapsed": false,
    "ExecuteTime": {
     "end_time": "2024-09-27T20:43:06.645681Z",
     "start_time": "2024-09-27T20:43:06.638085Z"
    }
   },
   "id": "c10b0eee1eefe373",
   "execution_count": 17
  },
  {
   "cell_type": "code",
   "outputs": [
    {
     "data": {
      "text/plain": "        County  Data Year  Population   Z Score  Number of Gas Cars  \\\n0      Alameda       2010     1510271  0.033519              885402   \n1       Amador       2010       38091 -0.251576               30480   \n2        Butte       2010      220000 -0.216348              133169   \n3    Calaveras       2010       45578 -0.250126               39636   \n4       Colusa       2010       21419 -0.254805               14610   \n..         ...        ...         ...       ...                 ...   \n793     Tulare       2023      474680 -0.167028              331744   \n794   Tuolumne       2023       54626 -0.248374               54369   \n795    Ventura       2023      825960 -0.099001              651851   \n796       Yolo       2023      220454 -0.216260              152560   \n797       Yuba       2023       82814 -0.242915               57567   \n\n     Number of EV  \n0              20  \n1               1  \n2               0  \n3               0  \n4               0  \n..            ...  \n793          3837  \n794           698  \n795         31980  \n796          6757  \n797           961  \n\n[798 rows x 6 columns]",
      "text/html": "<div>\n<style scoped>\n    .dataframe tbody tr th:only-of-type {\n        vertical-align: middle;\n    }\n\n    .dataframe tbody tr th {\n        vertical-align: top;\n    }\n\n    .dataframe thead th {\n        text-align: right;\n    }\n</style>\n<table border=\"1\" class=\"dataframe\">\n  <thead>\n    <tr style=\"text-align: right;\">\n      <th></th>\n      <th>County</th>\n      <th>Data Year</th>\n      <th>Population</th>\n      <th>Z Score</th>\n      <th>Number of Gas Cars</th>\n      <th>Number of EV</th>\n    </tr>\n  </thead>\n  <tbody>\n    <tr>\n      <th>0</th>\n      <td>Alameda</td>\n      <td>2010</td>\n      <td>1510271</td>\n      <td>0.033519</td>\n      <td>885402</td>\n      <td>20</td>\n    </tr>\n    <tr>\n      <th>1</th>\n      <td>Amador</td>\n      <td>2010</td>\n      <td>38091</td>\n      <td>-0.251576</td>\n      <td>30480</td>\n      <td>1</td>\n    </tr>\n    <tr>\n      <th>2</th>\n      <td>Butte</td>\n      <td>2010</td>\n      <td>220000</td>\n      <td>-0.216348</td>\n      <td>133169</td>\n      <td>0</td>\n    </tr>\n    <tr>\n      <th>3</th>\n      <td>Calaveras</td>\n      <td>2010</td>\n      <td>45578</td>\n      <td>-0.250126</td>\n      <td>39636</td>\n      <td>0</td>\n    </tr>\n    <tr>\n      <th>4</th>\n      <td>Colusa</td>\n      <td>2010</td>\n      <td>21419</td>\n      <td>-0.254805</td>\n      <td>14610</td>\n      <td>0</td>\n    </tr>\n    <tr>\n      <th>...</th>\n      <td>...</td>\n      <td>...</td>\n      <td>...</td>\n      <td>...</td>\n      <td>...</td>\n      <td>...</td>\n    </tr>\n    <tr>\n      <th>793</th>\n      <td>Tulare</td>\n      <td>2023</td>\n      <td>474680</td>\n      <td>-0.167028</td>\n      <td>331744</td>\n      <td>3837</td>\n    </tr>\n    <tr>\n      <th>794</th>\n      <td>Tuolumne</td>\n      <td>2023</td>\n      <td>54626</td>\n      <td>-0.248374</td>\n      <td>54369</td>\n      <td>698</td>\n    </tr>\n    <tr>\n      <th>795</th>\n      <td>Ventura</td>\n      <td>2023</td>\n      <td>825960</td>\n      <td>-0.099001</td>\n      <td>651851</td>\n      <td>31980</td>\n    </tr>\n    <tr>\n      <th>796</th>\n      <td>Yolo</td>\n      <td>2023</td>\n      <td>220454</td>\n      <td>-0.216260</td>\n      <td>152560</td>\n      <td>6757</td>\n    </tr>\n    <tr>\n      <th>797</th>\n      <td>Yuba</td>\n      <td>2023</td>\n      <td>82814</td>\n      <td>-0.242915</td>\n      <td>57567</td>\n      <td>961</td>\n    </tr>\n  </tbody>\n</table>\n<p>798 rows × 6 columns</p>\n</div>"
     },
     "execution_count": 18,
     "metadata": {},
     "output_type": "execute_result"
    }
   ],
   "source": [
    "# merging pm and vehicle datatables\n",
    "df_pm_vehicles = pd.merge(df_pm, df_vehicles, on=['Data Year', 'County'], how='inner')\n",
    "df_pm_vehicles"
   ],
   "metadata": {
    "collapsed": false,
    "ExecuteTime": {
     "end_time": "2024-09-27T20:44:25.263203Z",
     "start_time": "2024-09-27T20:44:25.232919Z"
    }
   },
   "id": "75bea9e9ddde7780",
   "execution_count": 18
  },
  {
   "cell_type": "code",
   "outputs": [],
   "source": [
    "df_pm_vehicles.to_csv('/Users/clarissaclark/SIADS_Milestone_1/PM2.5_Vehicles.csv', index=False)"
   ],
   "metadata": {
    "collapsed": false,
    "ExecuteTime": {
     "end_time": "2024-09-27T20:44:39.447280Z",
     "start_time": "2024-09-27T20:44:39.433023Z"
    }
   },
   "id": "564c7f42e09d6a4c",
   "execution_count": 19
  },
  {
   "cell_type": "code",
   "outputs": [],
   "source": [
    "# now let's combine that dataframe with population \n",
    "df_pop = pd.read_csv('/Users/clarissaclark/SIADS_Milestone_1/California_Population.csv') \n",
    "# clean df_pop county column to match df_pm_vehicle county column \n",
    "df_pop['County'] = df_pop['County'].str.strip()\n",
    "df_pop['County'] = df_pop['County'].str.title()\n",
    "df_pop['County'] = df_pop['County'].str.replace(r'\\s+', ' ', regex=True) "
   ],
   "metadata": {
    "collapsed": false,
    "ExecuteTime": {
     "end_time": "2024-09-27T20:44:42.534063Z",
     "start_time": "2024-09-27T20:44:42.522995Z"
    }
   },
   "id": "3c25b4c607c29094",
   "execution_count": 20
  },
  {
   "cell_type": "code",
   "outputs": [
    {
     "name": "stdout",
     "output_type": "stream",
     "text": [
      "Only in df_pop: {'State Total'}\n",
      "Only in df_pm_vehicles: set()\n"
     ]
    }
   ],
   "source": [
    "# Get unique counties from both DataFrames\n",
    "counties_pop = set(df_pop['County'])\n",
    "counties_pm_vehicles = set(df_pm_vehicles['County'])\n",
    "\n",
    "# Find differences\n",
    "only_in_pop = counties_pop - counties_pm_vehicles\n",
    "only_in_pm_vehicles = counties_pm_vehicles - counties_pop\n",
    "\n",
    "print(\"Only in df_pop:\", only_in_pop)\n",
    "print(\"Only in df_pm_vehicles:\", only_in_pm_vehicles)\n",
    "# for now, we will merge on left for df_pm_vehicles "
   ],
   "metadata": {
    "collapsed": false,
    "ExecuteTime": {
     "end_time": "2024-09-27T20:44:43.116683Z",
     "start_time": "2024-09-27T20:44:43.113850Z"
    }
   },
   "id": "36297c5a407efc3f",
   "execution_count": 21
  },
  {
   "cell_type": "code",
   "outputs": [
    {
     "data": {
      "text/plain": "        County  Data Year  Total Population  Total Population Z Score  \\\n0      Alameda       2010           1510271                  0.033519   \n1       Amador       2010             38091                 -0.251576   \n2        Butte       2010            220000                 -0.216348   \n3    Calaveras       2010             45578                 -0.250126   \n4       Colusa       2010             21419                 -0.254805   \n..         ...        ...               ...                       ...   \n793     Tulare       2023            474680                 -0.167028   \n794   Tuolumne       2023             54626                 -0.248374   \n795    Ventura       2023            825960                 -0.099001   \n796       Yolo       2023            220454                 -0.216260   \n797       Yuba       2023             82814                 -0.242915   \n\n     Number of Gas Cars  Number of EV  Population_y  Z Score_y  \n0                885402            20       1510271   0.033519  \n1                 30480             1         38091  -0.251576  \n2                133169             0        220000  -0.216348  \n3                 39636             0         45578  -0.250126  \n4                 14610             0         21419  -0.254805  \n..                  ...           ...           ...        ...  \n793              331744          3837        474680  -0.167028  \n794               54369           698         54626  -0.248374  \n795              651851         31980        825960  -0.099001  \n796              152560          6757        220454  -0.216260  \n797               57567           961         82814  -0.242915  \n\n[798 rows x 8 columns]",
      "text/html": "<div>\n<style scoped>\n    .dataframe tbody tr th:only-of-type {\n        vertical-align: middle;\n    }\n\n    .dataframe tbody tr th {\n        vertical-align: top;\n    }\n\n    .dataframe thead th {\n        text-align: right;\n    }\n</style>\n<table border=\"1\" class=\"dataframe\">\n  <thead>\n    <tr style=\"text-align: right;\">\n      <th></th>\n      <th>County</th>\n      <th>Data Year</th>\n      <th>Total Population</th>\n      <th>Total Population Z Score</th>\n      <th>Number of Gas Cars</th>\n      <th>Number of EV</th>\n      <th>Population_y</th>\n      <th>Z Score_y</th>\n    </tr>\n  </thead>\n  <tbody>\n    <tr>\n      <th>0</th>\n      <td>Alameda</td>\n      <td>2010</td>\n      <td>1510271</td>\n      <td>0.033519</td>\n      <td>885402</td>\n      <td>20</td>\n      <td>1510271</td>\n      <td>0.033519</td>\n    </tr>\n    <tr>\n      <th>1</th>\n      <td>Amador</td>\n      <td>2010</td>\n      <td>38091</td>\n      <td>-0.251576</td>\n      <td>30480</td>\n      <td>1</td>\n      <td>38091</td>\n      <td>-0.251576</td>\n    </tr>\n    <tr>\n      <th>2</th>\n      <td>Butte</td>\n      <td>2010</td>\n      <td>220000</td>\n      <td>-0.216348</td>\n      <td>133169</td>\n      <td>0</td>\n      <td>220000</td>\n      <td>-0.216348</td>\n    </tr>\n    <tr>\n      <th>3</th>\n      <td>Calaveras</td>\n      <td>2010</td>\n      <td>45578</td>\n      <td>-0.250126</td>\n      <td>39636</td>\n      <td>0</td>\n      <td>45578</td>\n      <td>-0.250126</td>\n    </tr>\n    <tr>\n      <th>4</th>\n      <td>Colusa</td>\n      <td>2010</td>\n      <td>21419</td>\n      <td>-0.254805</td>\n      <td>14610</td>\n      <td>0</td>\n      <td>21419</td>\n      <td>-0.254805</td>\n    </tr>\n    <tr>\n      <th>...</th>\n      <td>...</td>\n      <td>...</td>\n      <td>...</td>\n      <td>...</td>\n      <td>...</td>\n      <td>...</td>\n      <td>...</td>\n      <td>...</td>\n    </tr>\n    <tr>\n      <th>793</th>\n      <td>Tulare</td>\n      <td>2023</td>\n      <td>474680</td>\n      <td>-0.167028</td>\n      <td>331744</td>\n      <td>3837</td>\n      <td>474680</td>\n      <td>-0.167028</td>\n    </tr>\n    <tr>\n      <th>794</th>\n      <td>Tuolumne</td>\n      <td>2023</td>\n      <td>54626</td>\n      <td>-0.248374</td>\n      <td>54369</td>\n      <td>698</td>\n      <td>54626</td>\n      <td>-0.248374</td>\n    </tr>\n    <tr>\n      <th>795</th>\n      <td>Ventura</td>\n      <td>2023</td>\n      <td>825960</td>\n      <td>-0.099001</td>\n      <td>651851</td>\n      <td>31980</td>\n      <td>825960</td>\n      <td>-0.099001</td>\n    </tr>\n    <tr>\n      <th>796</th>\n      <td>Yolo</td>\n      <td>2023</td>\n      <td>220454</td>\n      <td>-0.216260</td>\n      <td>152560</td>\n      <td>6757</td>\n      <td>220454</td>\n      <td>-0.216260</td>\n    </tr>\n    <tr>\n      <th>797</th>\n      <td>Yuba</td>\n      <td>2023</td>\n      <td>82814</td>\n      <td>-0.242915</td>\n      <td>57567</td>\n      <td>961</td>\n      <td>82814</td>\n      <td>-0.242915</td>\n    </tr>\n  </tbody>\n</table>\n<p>798 rows × 8 columns</p>\n</div>"
     },
     "execution_count": 26,
     "metadata": {},
     "output_type": "execute_result"
    }
   ],
   "source": [
    "df_pm_vehicles_pop= pd.merge(df_pm_vehicles, df_pop, on=['County', 'Data Year'], how='inner')\n",
    "df_pm_vehicles_pop.rename(columns={'Z Score_x':'Total Population Z Score'}, inplace=True)\n",
    "df_pm_vehicles_pop.rename(columns={'Population_x':'Total Population'}, inplace=True)\n",
    "df_pm_vehicles_pop"
   ],
   "metadata": {
    "collapsed": false,
    "ExecuteTime": {
     "end_time": "2024-09-27T20:46:32.608510Z",
     "start_time": "2024-09-27T20:46:32.588426Z"
    }
   },
   "id": "551c971629cb18ba",
   "execution_count": 26
  },
  {
   "cell_type": "code",
   "outputs": [],
   "source": [
    "# to csv \n",
    "df_pm_vehicles_pop.to_csv('PM2.5_Vehicles_Population.csv', index=False)"
   ],
   "metadata": {
    "collapsed": false,
    "ExecuteTime": {
     "end_time": "2024-09-27T20:46:33.324678Z",
     "start_time": "2024-09-27T20:46:33.316787Z"
    }
   },
   "id": "2c364aa8d2c74b7c",
   "execution_count": 27
  },
  {
   "cell_type": "code",
   "outputs": [],
   "source": [],
   "metadata": {
    "collapsed": false,
    "ExecuteTime": {
     "end_time": "2024-09-27T20:40:19.845694Z",
     "start_time": "2024-09-27T20:40:19.844357Z"
    }
   },
   "id": "c4b0b796ff22cc9",
   "execution_count": 13
  }
 ],
 "metadata": {
  "kernelspec": {
   "display_name": "Python 3",
   "language": "python",
   "name": "python3"
  },
  "language_info": {
   "codemirror_mode": {
    "name": "ipython",
    "version": 2
   },
   "file_extension": ".py",
   "mimetype": "text/x-python",
   "name": "python",
   "nbconvert_exporter": "python",
   "pygments_lexer": "ipython2",
   "version": "2.7.6"
  }
 },
 "nbformat": 4,
 "nbformat_minor": 5
}
