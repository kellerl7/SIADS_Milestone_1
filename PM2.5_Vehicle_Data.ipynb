{
 "cells": [
  {
   "cell_type": "code",
   "execution_count": 8,
   "id": "initial_id",
   "metadata": {
    "collapsed": true,
    "ExecuteTime": {
     "end_time": "2024-09-27T20:36:53.329117Z",
     "start_time": "2024-09-27T20:36:53.322841Z"
    }
   },
   "outputs": [],
   "source": [
    "import pandas as pd"
   ]
  },
  {
   "cell_type": "code",
   "outputs": [],
   "source": [
    "# import data tables\n",
    "df_pm = pd.read_csv('California_Population.csv')\n",
    "df_vehicles = pd.read_csv('vehicle_df')"
   ],
   "metadata": {
    "collapsed": false,
    "ExecuteTime": {
     "end_time": "2024-09-27T20:36:54.053222Z",
     "start_time": "2024-09-27T20:36:54.043616Z"
    }
   },
   "id": "816812f1f318f9ab",
   "execution_count": 9
  },
  {
   "cell_type": "code",
   "outputs": [
    {
     "data": {
      "text/plain": "      Data Year     County  Number of EV\n0          2010    Alameda            20\n2          2010     Alpine             0\n4          2010     Amador             1\n6          2010      Butte             0\n8          2010  Calaveras             0\n...         ...        ...           ...\n1642       2023     Tulare          3837\n1644       2023   Tuolumne           698\n1646       2023    Ventura         31980\n1648       2023       Yolo          6757\n1650       2023       Yuba           961\n\n[826 rows x 3 columns]",
      "text/html": "<div>\n<style scoped>\n    .dataframe tbody tr th:only-of-type {\n        vertical-align: middle;\n    }\n\n    .dataframe tbody tr th {\n        vertical-align: top;\n    }\n\n    .dataframe thead th {\n        text-align: right;\n    }\n</style>\n<table border=\"1\" class=\"dataframe\">\n  <thead>\n    <tr style=\"text-align: right;\">\n      <th></th>\n      <th>Data Year</th>\n      <th>County</th>\n      <th>Number of EV</th>\n    </tr>\n  </thead>\n  <tbody>\n    <tr>\n      <th>0</th>\n      <td>2010</td>\n      <td>Alameda</td>\n      <td>20</td>\n    </tr>\n    <tr>\n      <th>2</th>\n      <td>2010</td>\n      <td>Alpine</td>\n      <td>0</td>\n    </tr>\n    <tr>\n      <th>4</th>\n      <td>2010</td>\n      <td>Amador</td>\n      <td>1</td>\n    </tr>\n    <tr>\n      <th>6</th>\n      <td>2010</td>\n      <td>Butte</td>\n      <td>0</td>\n    </tr>\n    <tr>\n      <th>8</th>\n      <td>2010</td>\n      <td>Calaveras</td>\n      <td>0</td>\n    </tr>\n    <tr>\n      <th>...</th>\n      <td>...</td>\n      <td>...</td>\n      <td>...</td>\n    </tr>\n    <tr>\n      <th>1642</th>\n      <td>2023</td>\n      <td>Tulare</td>\n      <td>3837</td>\n    </tr>\n    <tr>\n      <th>1644</th>\n      <td>2023</td>\n      <td>Tuolumne</td>\n      <td>698</td>\n    </tr>\n    <tr>\n      <th>1646</th>\n      <td>2023</td>\n      <td>Ventura</td>\n      <td>31980</td>\n    </tr>\n    <tr>\n      <th>1648</th>\n      <td>2023</td>\n      <td>Yolo</td>\n      <td>6757</td>\n    </tr>\n    <tr>\n      <th>1650</th>\n      <td>2023</td>\n      <td>Yuba</td>\n      <td>961</td>\n    </tr>\n  </tbody>\n</table>\n<p>826 rows × 3 columns</p>\n</div>"
     },
     "execution_count": 10,
     "metadata": {},
     "output_type": "execute_result"
    }
   ],
   "source": [
    "# seperating creating ev/gas columns so its easier to compare with pm2.5 values \n",
    "df_ev_vehicles = df_vehicles[df_vehicles['Fuel Category'] == 'EV']\n",
    "df_ev_vehicles = df_ev_vehicles.rename(columns={'Number of Vehicles': 'Number of EV'})\n",
    "df_ev_vehicles = df_ev_vehicles.drop(columns=['Fuel Category'])\n",
    "df_ev_vehicles"
   ],
   "metadata": {
    "collapsed": false,
    "ExecuteTime": {
     "end_time": "2024-09-27T20:36:54.704896Z",
     "start_time": "2024-09-27T20:36:54.698516Z"
    }
   },
   "id": "d1a0a79de10448d3",
   "execution_count": 10
  },
  {
   "cell_type": "code",
   "outputs": [
    {
     "data": {
      "text/plain": "      Data Year     County  Number of Gas Cars\n1          2010    Alameda              885402\n3          2010     Alpine                1041\n5          2010     Amador               30480\n7          2010      Butte              133169\n9          2010  Calaveras               39636\n...         ...        ...                 ...\n1643       2023     Tulare              331744\n1645       2023   Tuolumne               54369\n1647       2023    Ventura              651851\n1649       2023       Yolo              152560\n1651       2023       Yuba               57567\n\n[826 rows x 3 columns]",
      "text/html": "<div>\n<style scoped>\n    .dataframe tbody tr th:only-of-type {\n        vertical-align: middle;\n    }\n\n    .dataframe tbody tr th {\n        vertical-align: top;\n    }\n\n    .dataframe thead th {\n        text-align: right;\n    }\n</style>\n<table border=\"1\" class=\"dataframe\">\n  <thead>\n    <tr style=\"text-align: right;\">\n      <th></th>\n      <th>Data Year</th>\n      <th>County</th>\n      <th>Number of Gas Cars</th>\n    </tr>\n  </thead>\n  <tbody>\n    <tr>\n      <th>1</th>\n      <td>2010</td>\n      <td>Alameda</td>\n      <td>885402</td>\n    </tr>\n    <tr>\n      <th>3</th>\n      <td>2010</td>\n      <td>Alpine</td>\n      <td>1041</td>\n    </tr>\n    <tr>\n      <th>5</th>\n      <td>2010</td>\n      <td>Amador</td>\n      <td>30480</td>\n    </tr>\n    <tr>\n      <th>7</th>\n      <td>2010</td>\n      <td>Butte</td>\n      <td>133169</td>\n    </tr>\n    <tr>\n      <th>9</th>\n      <td>2010</td>\n      <td>Calaveras</td>\n      <td>39636</td>\n    </tr>\n    <tr>\n      <th>...</th>\n      <td>...</td>\n      <td>...</td>\n      <td>...</td>\n    </tr>\n    <tr>\n      <th>1643</th>\n      <td>2023</td>\n      <td>Tulare</td>\n      <td>331744</td>\n    </tr>\n    <tr>\n      <th>1645</th>\n      <td>2023</td>\n      <td>Tuolumne</td>\n      <td>54369</td>\n    </tr>\n    <tr>\n      <th>1647</th>\n      <td>2023</td>\n      <td>Ventura</td>\n      <td>651851</td>\n    </tr>\n    <tr>\n      <th>1649</th>\n      <td>2023</td>\n      <td>Yolo</td>\n      <td>152560</td>\n    </tr>\n    <tr>\n      <th>1651</th>\n      <td>2023</td>\n      <td>Yuba</td>\n      <td>57567</td>\n    </tr>\n  </tbody>\n</table>\n<p>826 rows × 3 columns</p>\n</div>"
     },
     "execution_count": 11,
     "metadata": {},
     "output_type": "execute_result"
    }
   ],
   "source": [
    "df_gas_vehicles = df_vehicles[df_vehicles['Fuel Category'] == 'Fossil Fuel']\n",
    "df_gas_vehicles = df_gas_vehicles.rename(columns={'Number of Vehicles': 'Number of Gas Cars'})\n",
    "df_gas_vehicles = df_gas_vehicles.drop(columns=['Fuel Category'])\n",
    "df_gas_vehicles"
   ],
   "metadata": {
    "collapsed": false,
    "ExecuteTime": {
     "end_time": "2024-09-27T20:36:55.594482Z",
     "start_time": "2024-09-27T20:36:55.580821Z"
    }
   },
   "id": "448cf6560e87e2b5",
   "execution_count": 11
  },
  {
   "cell_type": "code",
   "outputs": [
    {
     "data": {
      "text/plain": "(826, 4)"
     },
     "execution_count": 12,
     "metadata": {},
     "output_type": "execute_result"
    }
   ],
   "source": [
    "# recombining df_vehicles \n",
    "df_vehicles = pd.merge(df_gas_vehicles, df_ev_vehicles, on=['Data Year', 'County'], how='inner')\n",
    "df_vehicles.shape"
   ],
   "metadata": {
    "collapsed": false,
    "ExecuteTime": {
     "end_time": "2024-09-27T20:36:56.510715Z",
     "start_time": "2024-09-27T20:36:56.501736Z"
    }
   },
   "id": "170f71692567d6d9",
   "execution_count": 12
  },
  {
   "cell_type": "code",
   "outputs": [
    {
     "data": {
      "text/plain": "(870, 4)"
     },
     "execution_count": 14,
     "metadata": {},
     "output_type": "execute_result"
    }
   ],
   "source": [
    "df_pm.shape"
   ],
   "metadata": {
    "collapsed": false,
    "ExecuteTime": {
     "end_time": "2024-09-27T20:37:04.413474Z",
     "start_time": "2024-09-27T20:37:04.407171Z"
    }
   },
   "id": "b76280accd5ff096",
   "execution_count": 14
  },
  {
   "cell_type": "code",
   "outputs": [
    {
     "name": "stdout",
     "output_type": "stream",
     "text": [
      "Only in df_vehicles: {'Kings', 'Colusa', 'Sonoma', 'Amador', 'Mendocino', 'Yuba', 'Orange', 'Plumas', 'Siskiyou', 'Stanislaus', 'San Diego', 'Alameda', 'Modoc', 'Glenn', 'Sierra', 'Trinity', 'Alpine', 'Mariposa', 'Out Of State', 'Marin', 'Sutter', 'Imperial', 'San Bernardino', 'Santa Cruz', 'San Benito', 'San Mateo', 'Tulare', 'Butte', 'Contra Costa', 'Mono', 'Napa', 'Santa Barbara', 'Fresno', 'Placer', 'Inyo', 'Humboldt', 'El Dorado', 'San Luis Obispo', 'Tehama', 'Lake', 'Shasta', 'Riverside', 'Calaveras', 'Ventura', 'Santa Clara', 'Lassen', 'Yolo', 'Monterey', 'Kern', 'Los Angeles', 'Solano', 'Tuolumne', 'Nevada', 'Merced', 'Madera'}\n",
      "Only in df_pm: {'Mono                ', 'El Dorado           ', 'Kern                ', 'Placer              ', 'Tuolumne            ', 'Inyo                ', 'Santa Cruz          ', 'Shasta              ', 'State Total', 'Ventura             ', 'Marin               ', 'Siskiyou            ', 'San Bernardino    ', 'Contra Costa        ', 'Solano              ', 'Amador              ', 'Mendocino           ', 'Lake                ', 'Madera              ', 'Colusa              ', 'San Benito  ', 'Trinity             ', 'Santa Barbara       ', 'Plumas              ', 'Mariposa            ', 'Tehama              ', 'Stanislaus          ', 'Butte               ', 'Sierra              ', 'Calaveras           ', 'Imperial            ', 'Monterey            ', 'Napa                ', 'Glenn               ', 'Orange              ', 'Modoc               ', 'Santa Clara         ', 'Merced              ', 'Kings               ', 'Riverside           ', 'Yolo                ', 'Los Angeles ', 'Lassen              ', 'Tulare              ', 'San Diego           ', 'Nevada              ', 'Sonoma              ', 'San Luis Obispo     ', 'San Mateo           ', 'Humboldt            ', 'Sutter              ', 'Alameda             ', 'Yuba                ', 'Fresno              '}\n"
     ]
    }
   ],
   "source": [
    "# df_vehicles.shape = df_pm.shape + 60, so ...\n",
    "\n",
    "counties = pd.DataFrame({\n",
    "    'County_df_vehicles': df_vehicles['County'],\n",
    "    'County_df_pm': df_pm['County']\n",
    "})\n",
    "counties.head()\n",
    "# Get unique counties from both DataFrames\n",
    "counties_vehicles = set(df_vehicles['County'])\n",
    "counties_pm = set(df_pm['County'])\n",
    "\n",
    "# Find differences\n",
    "only_in_vehicles = counties_vehicles - counties_pm\n",
    "only_in_pm = counties_pm - counties_vehicles\n",
    "\n",
    "print(\"Only in df_vehicles:\", only_in_vehicles)\n",
    "print(\"Only in df_pm:\", only_in_pm)\n",
    "\n",
    "# do we want to drop these values ? i will merge on left for now, idk if we will need these since they don't have pm2.5 data at all. we could estimate these values by comparing the counties around them that do report pm2.5 values. "
   ],
   "metadata": {
    "collapsed": false,
    "ExecuteTime": {
     "end_time": "2024-09-27T20:34:27.232406Z",
     "start_time": "2024-09-27T20:34:27.228347Z"
    }
   },
   "id": "75a58b03876f669b",
   "execution_count": 7
  },
  {
   "cell_type": "code",
   "outputs": [
    {
     "data": {
      "text/plain": "                   County  Data Year  Population   Z Score  \\\n0    Alameda                    2010     1510271  0.033519   \n1    Amador                     2010       38091 -0.251576   \n2    Butte                      2010      220000 -0.216348   \n3    Calaveras                  2010       45578 -0.250126   \n4    Colusa                     2010       21419 -0.254805   \n..                    ...        ...         ...       ...   \n865  Tulare                     2024      478918 -0.166208   \n866  Tuolumne                   2024       54407 -0.248416   \n867  Ventura                    2024      823863 -0.099407   \n868  Yolo                       2024      221666 -0.216026   \n869  Yuba                       2024       83721 -0.242740   \n\n     Number of Gas Cars  Number of EV  \n0                   NaN           NaN  \n1                   NaN           NaN  \n2                   NaN           NaN  \n3                   NaN           NaN  \n4                   NaN           NaN  \n..                  ...           ...  \n865                 NaN           NaN  \n866                 NaN           NaN  \n867                 NaN           NaN  \n868                 NaN           NaN  \n869                 NaN           NaN  \n\n[870 rows x 6 columns]",
      "text/html": "<div>\n<style scoped>\n    .dataframe tbody tr th:only-of-type {\n        vertical-align: middle;\n    }\n\n    .dataframe tbody tr th {\n        vertical-align: top;\n    }\n\n    .dataframe thead th {\n        text-align: right;\n    }\n</style>\n<table border=\"1\" class=\"dataframe\">\n  <thead>\n    <tr style=\"text-align: right;\">\n      <th></th>\n      <th>County</th>\n      <th>Data Year</th>\n      <th>Population</th>\n      <th>Z Score</th>\n      <th>Number of Gas Cars</th>\n      <th>Number of EV</th>\n    </tr>\n  </thead>\n  <tbody>\n    <tr>\n      <th>0</th>\n      <td>Alameda</td>\n      <td>2010</td>\n      <td>1510271</td>\n      <td>0.033519</td>\n      <td>NaN</td>\n      <td>NaN</td>\n    </tr>\n    <tr>\n      <th>1</th>\n      <td>Amador</td>\n      <td>2010</td>\n      <td>38091</td>\n      <td>-0.251576</td>\n      <td>NaN</td>\n      <td>NaN</td>\n    </tr>\n    <tr>\n      <th>2</th>\n      <td>Butte</td>\n      <td>2010</td>\n      <td>220000</td>\n      <td>-0.216348</td>\n      <td>NaN</td>\n      <td>NaN</td>\n    </tr>\n    <tr>\n      <th>3</th>\n      <td>Calaveras</td>\n      <td>2010</td>\n      <td>45578</td>\n      <td>-0.250126</td>\n      <td>NaN</td>\n      <td>NaN</td>\n    </tr>\n    <tr>\n      <th>4</th>\n      <td>Colusa</td>\n      <td>2010</td>\n      <td>21419</td>\n      <td>-0.254805</td>\n      <td>NaN</td>\n      <td>NaN</td>\n    </tr>\n    <tr>\n      <th>...</th>\n      <td>...</td>\n      <td>...</td>\n      <td>...</td>\n      <td>...</td>\n      <td>...</td>\n      <td>...</td>\n    </tr>\n    <tr>\n      <th>865</th>\n      <td>Tulare</td>\n      <td>2024</td>\n      <td>478918</td>\n      <td>-0.166208</td>\n      <td>NaN</td>\n      <td>NaN</td>\n    </tr>\n    <tr>\n      <th>866</th>\n      <td>Tuolumne</td>\n      <td>2024</td>\n      <td>54407</td>\n      <td>-0.248416</td>\n      <td>NaN</td>\n      <td>NaN</td>\n    </tr>\n    <tr>\n      <th>867</th>\n      <td>Ventura</td>\n      <td>2024</td>\n      <td>823863</td>\n      <td>-0.099407</td>\n      <td>NaN</td>\n      <td>NaN</td>\n    </tr>\n    <tr>\n      <th>868</th>\n      <td>Yolo</td>\n      <td>2024</td>\n      <td>221666</td>\n      <td>-0.216026</td>\n      <td>NaN</td>\n      <td>NaN</td>\n    </tr>\n    <tr>\n      <th>869</th>\n      <td>Yuba</td>\n      <td>2024</td>\n      <td>83721</td>\n      <td>-0.242740</td>\n      <td>NaN</td>\n      <td>NaN</td>\n    </tr>\n  </tbody>\n</table>\n<p>870 rows × 6 columns</p>\n</div>"
     },
     "execution_count": 8,
     "metadata": {},
     "output_type": "execute_result"
    }
   ],
   "source": [
    "# merging pm and vehicle datatables\n",
    "df_pm_vehicles = pd.merge(df_pm, df_vehicles, on=['Data Year', 'County'], how='left')\n",
    "df_pm_vehicles"
   ],
   "metadata": {
    "collapsed": false,
    "ExecuteTime": {
     "end_time": "2024-09-27T20:34:27.240151Z",
     "start_time": "2024-09-27T20:34:27.232962Z"
    }
   },
   "id": "75bea9e9ddde7780",
   "execution_count": 8
  },
  {
   "cell_type": "code",
   "outputs": [],
   "source": [
    "df_pm_vehicles.to_csv('/Users/clarissaclark/SIADS_Milestone_1/PM2.5_Vehicles.csv', index=False)"
   ],
   "metadata": {
    "collapsed": false,
    "ExecuteTime": {
     "end_time": "2024-09-27T20:34:27.246907Z",
     "start_time": "2024-09-27T20:34:27.240663Z"
    }
   },
   "id": "564c7f42e09d6a4c",
   "execution_count": 9
  },
  {
   "cell_type": "code",
   "outputs": [],
   "source": [
    "# now let's combine that dataframe with population \n",
    "df_pop = pd.read_csv('/Users/clarissaclark/SIADS_Milestone_1/California_Population.csv') \n",
    "# clean df_pop county column to match df_pm_vehicle county column \n",
    "df_pop['County'] = df_pop['County'].str.strip()\n",
    "df_pop['County'] = df_pop['County'].str.title()\n",
    "df_pop['County'] = df_pop['County'].str.replace(r'\\s+', ' ', regex=True) "
   ],
   "metadata": {
    "collapsed": false,
    "ExecuteTime": {
     "end_time": "2024-09-27T20:34:27.253110Z",
     "start_time": "2024-09-27T20:34:27.248074Z"
    }
   },
   "id": "3c25b4c607c29094",
   "execution_count": 10
  },
  {
   "cell_type": "code",
   "outputs": [
    {
     "name": "stdout",
     "output_type": "stream",
     "text": [
      "Only in df_pop: {'Kings', 'Colusa', 'Sonoma', 'Amador', 'Mendocino', 'Yuba', 'Orange', 'Plumas', 'Siskiyou', 'Stanislaus', 'San Diego', 'Alameda', 'Modoc', 'Glenn', 'Sierra', 'Trinity', 'Mariposa', 'Marin', 'Sutter', 'Imperial', 'San Bernardino', 'Santa Cruz', 'San Benito', 'San Mateo', 'Tulare', 'Butte', 'Contra Costa', 'Mono', 'Napa', 'Santa Barbara', 'Fresno', 'Placer', 'Inyo', 'Humboldt', 'El Dorado', 'San Luis Obispo', 'Tehama', 'Lake', 'Shasta', 'Riverside', 'Madera', 'Calaveras', 'Ventura', 'Santa Clara', 'Lassen', 'Yolo', 'Monterey', 'Los Angeles', 'Solano', 'Tuolumne', 'Nevada', 'Merced', 'Kern'}\n",
      "Only in df_pm_vehicles: {'Mono                ', 'El Dorado           ', 'Kern                ', 'Placer              ', 'Tuolumne            ', 'Inyo                ', 'Santa Cruz          ', 'Shasta              ', 'Ventura             ', 'Marin               ', 'Siskiyou            ', 'San Bernardino    ', 'Contra Costa        ', 'Solano              ', 'Amador              ', 'Mendocino           ', 'Lake                ', 'Madera              ', 'Colusa              ', 'San Benito  ', 'Trinity             ', 'Santa Barbara       ', 'Plumas              ', 'Mariposa            ', 'Tehama              ', 'Stanislaus          ', 'Butte               ', 'Sierra              ', 'Calaveras           ', 'Imperial            ', 'Monterey            ', 'Napa                ', 'Glenn               ', 'Orange              ', 'Modoc               ', 'Santa Clara         ', 'Merced              ', 'Kings               ', 'Riverside           ', 'Yolo                ', 'Los Angeles ', 'Lassen              ', 'Tulare              ', 'San Diego           ', 'Nevada              ', 'Sonoma              ', 'San Luis Obispo     ', 'San Mateo           ', 'Humboldt            ', 'Sutter              ', 'Alameda             ', 'Yuba                ', 'Fresno              '}\n"
     ]
    }
   ],
   "source": [
    "# Get unique counties from both DataFrames\n",
    "counties_pop = set(df_pop['County'])\n",
    "counties_pm_vehicles = set(df_pm_vehicles['County'])\n",
    "\n",
    "# Find differences\n",
    "only_in_pop = counties_pop - counties_pm_vehicles\n",
    "only_in_pm_vehicles = counties_pm_vehicles - counties_pop\n",
    "\n",
    "print(\"Only in df_pop:\", only_in_pop)\n",
    "print(\"Only in df_pm_vehicles:\", only_in_pm_vehicles)\n",
    "# for now, we will merge on left for df_pm_vehicles "
   ],
   "metadata": {
    "collapsed": false,
    "ExecuteTime": {
     "end_time": "2024-09-27T20:34:27.255706Z",
     "start_time": "2024-09-27T20:34:27.253764Z"
    }
   },
   "id": "36297c5a407efc3f",
   "execution_count": 11
  },
  {
   "cell_type": "code",
   "outputs": [
    {
     "data": {
      "text/plain": "                   County  Data Year  Population_x  Z Score_x  \\\n0    Alameda                    2010       1510271   0.033519   \n1    Amador                     2010         38091  -0.251576   \n2    Butte                      2010        220000  -0.216348   \n3    Calaveras                  2010         45578  -0.250126   \n4    Colusa                     2010         21419  -0.254805   \n..                    ...        ...           ...        ...   \n865  Tulare                     2024        478918  -0.166208   \n866  Tuolumne                   2024         54407  -0.248416   \n867  Ventura                    2024        823863  -0.099407   \n868  Yolo                       2024        221666  -0.216026   \n869  Yuba                       2024         83721  -0.242740   \n\n     Number of Gas Cars  Number of EV  Population_y  Z Score_y  \n0                   NaN           NaN           NaN        NaN  \n1                   NaN           NaN           NaN        NaN  \n2                   NaN           NaN           NaN        NaN  \n3                   NaN           NaN           NaN        NaN  \n4                   NaN           NaN           NaN        NaN  \n..                  ...           ...           ...        ...  \n865                 NaN           NaN           NaN        NaN  \n866                 NaN           NaN           NaN        NaN  \n867                 NaN           NaN           NaN        NaN  \n868                 NaN           NaN           NaN        NaN  \n869                 NaN           NaN           NaN        NaN  \n\n[870 rows x 8 columns]",
      "text/html": "<div>\n<style scoped>\n    .dataframe tbody tr th:only-of-type {\n        vertical-align: middle;\n    }\n\n    .dataframe tbody tr th {\n        vertical-align: top;\n    }\n\n    .dataframe thead th {\n        text-align: right;\n    }\n</style>\n<table border=\"1\" class=\"dataframe\">\n  <thead>\n    <tr style=\"text-align: right;\">\n      <th></th>\n      <th>County</th>\n      <th>Data Year</th>\n      <th>Population_x</th>\n      <th>Z Score_x</th>\n      <th>Number of Gas Cars</th>\n      <th>Number of EV</th>\n      <th>Population_y</th>\n      <th>Z Score_y</th>\n    </tr>\n  </thead>\n  <tbody>\n    <tr>\n      <th>0</th>\n      <td>Alameda</td>\n      <td>2010</td>\n      <td>1510271</td>\n      <td>0.033519</td>\n      <td>NaN</td>\n      <td>NaN</td>\n      <td>NaN</td>\n      <td>NaN</td>\n    </tr>\n    <tr>\n      <th>1</th>\n      <td>Amador</td>\n      <td>2010</td>\n      <td>38091</td>\n      <td>-0.251576</td>\n      <td>NaN</td>\n      <td>NaN</td>\n      <td>NaN</td>\n      <td>NaN</td>\n    </tr>\n    <tr>\n      <th>2</th>\n      <td>Butte</td>\n      <td>2010</td>\n      <td>220000</td>\n      <td>-0.216348</td>\n      <td>NaN</td>\n      <td>NaN</td>\n      <td>NaN</td>\n      <td>NaN</td>\n    </tr>\n    <tr>\n      <th>3</th>\n      <td>Calaveras</td>\n      <td>2010</td>\n      <td>45578</td>\n      <td>-0.250126</td>\n      <td>NaN</td>\n      <td>NaN</td>\n      <td>NaN</td>\n      <td>NaN</td>\n    </tr>\n    <tr>\n      <th>4</th>\n      <td>Colusa</td>\n      <td>2010</td>\n      <td>21419</td>\n      <td>-0.254805</td>\n      <td>NaN</td>\n      <td>NaN</td>\n      <td>NaN</td>\n      <td>NaN</td>\n    </tr>\n    <tr>\n      <th>...</th>\n      <td>...</td>\n      <td>...</td>\n      <td>...</td>\n      <td>...</td>\n      <td>...</td>\n      <td>...</td>\n      <td>...</td>\n      <td>...</td>\n    </tr>\n    <tr>\n      <th>865</th>\n      <td>Tulare</td>\n      <td>2024</td>\n      <td>478918</td>\n      <td>-0.166208</td>\n      <td>NaN</td>\n      <td>NaN</td>\n      <td>NaN</td>\n      <td>NaN</td>\n    </tr>\n    <tr>\n      <th>866</th>\n      <td>Tuolumne</td>\n      <td>2024</td>\n      <td>54407</td>\n      <td>-0.248416</td>\n      <td>NaN</td>\n      <td>NaN</td>\n      <td>NaN</td>\n      <td>NaN</td>\n    </tr>\n    <tr>\n      <th>867</th>\n      <td>Ventura</td>\n      <td>2024</td>\n      <td>823863</td>\n      <td>-0.099407</td>\n      <td>NaN</td>\n      <td>NaN</td>\n      <td>NaN</td>\n      <td>NaN</td>\n    </tr>\n    <tr>\n      <th>868</th>\n      <td>Yolo</td>\n      <td>2024</td>\n      <td>221666</td>\n      <td>-0.216026</td>\n      <td>NaN</td>\n      <td>NaN</td>\n      <td>NaN</td>\n      <td>NaN</td>\n    </tr>\n    <tr>\n      <th>869</th>\n      <td>Yuba</td>\n      <td>2024</td>\n      <td>83721</td>\n      <td>-0.242740</td>\n      <td>NaN</td>\n      <td>NaN</td>\n      <td>NaN</td>\n      <td>NaN</td>\n    </tr>\n  </tbody>\n</table>\n<p>870 rows × 8 columns</p>\n</div>"
     },
     "execution_count": 12,
     "metadata": {},
     "output_type": "execute_result"
    }
   ],
   "source": [
    "df_pm_vehicles_pop= pd.merge(df_pm_vehicles, df_pop, on=['County', 'Data Year'], how='left')\n",
    "df_pm_vehicles_pop.rename(columns={'Z Score':'Population Z Score'}, inplace=True)\n",
    "df_pm_vehicles_pop"
   ],
   "metadata": {
    "collapsed": false,
    "ExecuteTime": {
     "end_time": "2024-09-27T20:34:27.265547Z",
     "start_time": "2024-09-27T20:34:27.256875Z"
    }
   },
   "id": "551c971629cb18ba",
   "execution_count": 12
  },
  {
   "cell_type": "code",
   "outputs": [],
   "source": [
    "# to csv \n",
    "df_pm_vehicles_pop.to_csv('PM2.5_Vehicles_Population.csv', index=False)"
   ],
   "metadata": {
    "collapsed": false,
    "ExecuteTime": {
     "end_time": "2024-09-27T20:34:27.272756Z",
     "start_time": "2024-09-27T20:34:27.266116Z"
    }
   },
   "id": "2c364aa8d2c74b7c",
   "execution_count": 13
  },
  {
   "cell_type": "code",
   "outputs": [],
   "source": [],
   "metadata": {
    "collapsed": false,
    "ExecuteTime": {
     "end_time": "2024-09-27T20:34:27.276830Z",
     "start_time": "2024-09-27T20:34:27.275592Z"
    }
   },
   "id": "c4b0b796ff22cc9",
   "execution_count": 13
  }
 ],
 "metadata": {
  "kernelspec": {
   "display_name": "Python 3",
   "language": "python",
   "name": "python3"
  },
  "language_info": {
   "codemirror_mode": {
    "name": "ipython",
    "version": 2
   },
   "file_extension": ".py",
   "mimetype": "text/x-python",
   "name": "python",
   "nbconvert_exporter": "python",
   "pygments_lexer": "ipython2",
   "version": "2.7.6"
  }
 },
 "nbformat": 4,
 "nbformat_minor": 5
}
