{
 "cells": [
  {
   "cell_type": "code",
   "execution_count": 1,
   "id": "initial_id",
   "metadata": {
    "collapsed": true,
    "ExecuteTime": {
     "end_time": "2024-09-23T22:53:11.079616Z",
     "start_time": "2024-09-23T22:53:10.342552Z"
    }
   },
   "outputs": [],
   "source": [
    "import pandas as pd"
   ]
  },
  {
   "cell_type": "code",
   "outputs": [
    {
     "ename": "FileNotFoundError",
     "evalue": "[Errno 2] No such file or directory: 'pm_data/df_2010_2024.csv'",
     "output_type": "error",
     "traceback": [
      "\u001B[0;31m---------------------------------------------------------------------------\u001B[0m",
      "\u001B[0;31mFileNotFoundError\u001B[0m                         Traceback (most recent call last)",
      "Cell \u001B[0;32mIn[15], line 2\u001B[0m\n\u001B[1;32m      1\u001B[0m \u001B[38;5;66;03m# import data tables\u001B[39;00m\n\u001B[0;32m----> 2\u001B[0m df_pm \u001B[38;5;241m=\u001B[39m \u001B[43mpd\u001B[49m\u001B[38;5;241;43m.\u001B[39;49m\u001B[43mread_csv\u001B[49m\u001B[43m(\u001B[49m\u001B[38;5;124;43m'\u001B[39;49m\u001B[38;5;124;43mpm_data/df_2010_2024.csv\u001B[39;49m\u001B[38;5;124;43m'\u001B[39;49m\u001B[43m)\u001B[49m\n\u001B[1;32m      3\u001B[0m df_vehicles \u001B[38;5;241m=\u001B[39m pd\u001B[38;5;241m.\u001B[39mread_csv(\u001B[38;5;124m'\u001B[39m\u001B[38;5;124m/Users/clarissaclark/SIADS_Milestone_1/vehicle_df\u001B[39m\u001B[38;5;124m'\u001B[39m)\n",
      "File \u001B[0;32m/Library/Frameworks/Python.framework/Versions/3.11/lib/python3.11/site-packages/pandas/io/parsers/readers.py:1024\u001B[0m, in \u001B[0;36mread_csv\u001B[0;34m(filepath_or_buffer, sep, delimiter, header, names, index_col, usecols, dtype, engine, converters, true_values, false_values, skipinitialspace, skiprows, skipfooter, nrows, na_values, keep_default_na, na_filter, verbose, skip_blank_lines, parse_dates, infer_datetime_format, keep_date_col, date_parser, date_format, dayfirst, cache_dates, iterator, chunksize, compression, thousands, decimal, lineterminator, quotechar, quoting, doublequote, escapechar, comment, encoding, encoding_errors, dialect, on_bad_lines, delim_whitespace, low_memory, memory_map, float_precision, storage_options, dtype_backend)\u001B[0m\n\u001B[1;32m   1011\u001B[0m kwds_defaults \u001B[38;5;241m=\u001B[39m _refine_defaults_read(\n\u001B[1;32m   1012\u001B[0m     dialect,\n\u001B[1;32m   1013\u001B[0m     delimiter,\n\u001B[0;32m   (...)\u001B[0m\n\u001B[1;32m   1020\u001B[0m     dtype_backend\u001B[38;5;241m=\u001B[39mdtype_backend,\n\u001B[1;32m   1021\u001B[0m )\n\u001B[1;32m   1022\u001B[0m kwds\u001B[38;5;241m.\u001B[39mupdate(kwds_defaults)\n\u001B[0;32m-> 1024\u001B[0m \u001B[38;5;28;01mreturn\u001B[39;00m \u001B[43m_read\u001B[49m\u001B[43m(\u001B[49m\u001B[43mfilepath_or_buffer\u001B[49m\u001B[43m,\u001B[49m\u001B[43m \u001B[49m\u001B[43mkwds\u001B[49m\u001B[43m)\u001B[49m\n",
      "File \u001B[0;32m/Library/Frameworks/Python.framework/Versions/3.11/lib/python3.11/site-packages/pandas/io/parsers/readers.py:618\u001B[0m, in \u001B[0;36m_read\u001B[0;34m(filepath_or_buffer, kwds)\u001B[0m\n\u001B[1;32m    615\u001B[0m _validate_names(kwds\u001B[38;5;241m.\u001B[39mget(\u001B[38;5;124m\"\u001B[39m\u001B[38;5;124mnames\u001B[39m\u001B[38;5;124m\"\u001B[39m, \u001B[38;5;28;01mNone\u001B[39;00m))\n\u001B[1;32m    617\u001B[0m \u001B[38;5;66;03m# Create the parser.\u001B[39;00m\n\u001B[0;32m--> 618\u001B[0m parser \u001B[38;5;241m=\u001B[39m \u001B[43mTextFileReader\u001B[49m\u001B[43m(\u001B[49m\u001B[43mfilepath_or_buffer\u001B[49m\u001B[43m,\u001B[49m\u001B[43m \u001B[49m\u001B[38;5;241;43m*\u001B[39;49m\u001B[38;5;241;43m*\u001B[39;49m\u001B[43mkwds\u001B[49m\u001B[43m)\u001B[49m\n\u001B[1;32m    620\u001B[0m \u001B[38;5;28;01mif\u001B[39;00m chunksize \u001B[38;5;129;01mor\u001B[39;00m iterator:\n\u001B[1;32m    621\u001B[0m     \u001B[38;5;28;01mreturn\u001B[39;00m parser\n",
      "File \u001B[0;32m/Library/Frameworks/Python.framework/Versions/3.11/lib/python3.11/site-packages/pandas/io/parsers/readers.py:1618\u001B[0m, in \u001B[0;36mTextFileReader.__init__\u001B[0;34m(self, f, engine, **kwds)\u001B[0m\n\u001B[1;32m   1615\u001B[0m     \u001B[38;5;28mself\u001B[39m\u001B[38;5;241m.\u001B[39moptions[\u001B[38;5;124m\"\u001B[39m\u001B[38;5;124mhas_index_names\u001B[39m\u001B[38;5;124m\"\u001B[39m] \u001B[38;5;241m=\u001B[39m kwds[\u001B[38;5;124m\"\u001B[39m\u001B[38;5;124mhas_index_names\u001B[39m\u001B[38;5;124m\"\u001B[39m]\n\u001B[1;32m   1617\u001B[0m \u001B[38;5;28mself\u001B[39m\u001B[38;5;241m.\u001B[39mhandles: IOHandles \u001B[38;5;241m|\u001B[39m \u001B[38;5;28;01mNone\u001B[39;00m \u001B[38;5;241m=\u001B[39m \u001B[38;5;28;01mNone\u001B[39;00m\n\u001B[0;32m-> 1618\u001B[0m \u001B[38;5;28mself\u001B[39m\u001B[38;5;241m.\u001B[39m_engine \u001B[38;5;241m=\u001B[39m \u001B[38;5;28;43mself\u001B[39;49m\u001B[38;5;241;43m.\u001B[39;49m\u001B[43m_make_engine\u001B[49m\u001B[43m(\u001B[49m\u001B[43mf\u001B[49m\u001B[43m,\u001B[49m\u001B[43m \u001B[49m\u001B[38;5;28;43mself\u001B[39;49m\u001B[38;5;241;43m.\u001B[39;49m\u001B[43mengine\u001B[49m\u001B[43m)\u001B[49m\n",
      "File \u001B[0;32m/Library/Frameworks/Python.framework/Versions/3.11/lib/python3.11/site-packages/pandas/io/parsers/readers.py:1878\u001B[0m, in \u001B[0;36mTextFileReader._make_engine\u001B[0;34m(self, f, engine)\u001B[0m\n\u001B[1;32m   1876\u001B[0m     \u001B[38;5;28;01mif\u001B[39;00m \u001B[38;5;124m\"\u001B[39m\u001B[38;5;124mb\u001B[39m\u001B[38;5;124m\"\u001B[39m \u001B[38;5;129;01mnot\u001B[39;00m \u001B[38;5;129;01min\u001B[39;00m mode:\n\u001B[1;32m   1877\u001B[0m         mode \u001B[38;5;241m+\u001B[39m\u001B[38;5;241m=\u001B[39m \u001B[38;5;124m\"\u001B[39m\u001B[38;5;124mb\u001B[39m\u001B[38;5;124m\"\u001B[39m\n\u001B[0;32m-> 1878\u001B[0m \u001B[38;5;28mself\u001B[39m\u001B[38;5;241m.\u001B[39mhandles \u001B[38;5;241m=\u001B[39m \u001B[43mget_handle\u001B[49m\u001B[43m(\u001B[49m\n\u001B[1;32m   1879\u001B[0m \u001B[43m    \u001B[49m\u001B[43mf\u001B[49m\u001B[43m,\u001B[49m\n\u001B[1;32m   1880\u001B[0m \u001B[43m    \u001B[49m\u001B[43mmode\u001B[49m\u001B[43m,\u001B[49m\n\u001B[1;32m   1881\u001B[0m \u001B[43m    \u001B[49m\u001B[43mencoding\u001B[49m\u001B[38;5;241;43m=\u001B[39;49m\u001B[38;5;28;43mself\u001B[39;49m\u001B[38;5;241;43m.\u001B[39;49m\u001B[43moptions\u001B[49m\u001B[38;5;241;43m.\u001B[39;49m\u001B[43mget\u001B[49m\u001B[43m(\u001B[49m\u001B[38;5;124;43m\"\u001B[39;49m\u001B[38;5;124;43mencoding\u001B[39;49m\u001B[38;5;124;43m\"\u001B[39;49m\u001B[43m,\u001B[49m\u001B[43m \u001B[49m\u001B[38;5;28;43;01mNone\u001B[39;49;00m\u001B[43m)\u001B[49m\u001B[43m,\u001B[49m\n\u001B[1;32m   1882\u001B[0m \u001B[43m    \u001B[49m\u001B[43mcompression\u001B[49m\u001B[38;5;241;43m=\u001B[39;49m\u001B[38;5;28;43mself\u001B[39;49m\u001B[38;5;241;43m.\u001B[39;49m\u001B[43moptions\u001B[49m\u001B[38;5;241;43m.\u001B[39;49m\u001B[43mget\u001B[49m\u001B[43m(\u001B[49m\u001B[38;5;124;43m\"\u001B[39;49m\u001B[38;5;124;43mcompression\u001B[39;49m\u001B[38;5;124;43m\"\u001B[39;49m\u001B[43m,\u001B[49m\u001B[43m \u001B[49m\u001B[38;5;28;43;01mNone\u001B[39;49;00m\u001B[43m)\u001B[49m\u001B[43m,\u001B[49m\n\u001B[1;32m   1883\u001B[0m \u001B[43m    \u001B[49m\u001B[43mmemory_map\u001B[49m\u001B[38;5;241;43m=\u001B[39;49m\u001B[38;5;28;43mself\u001B[39;49m\u001B[38;5;241;43m.\u001B[39;49m\u001B[43moptions\u001B[49m\u001B[38;5;241;43m.\u001B[39;49m\u001B[43mget\u001B[49m\u001B[43m(\u001B[49m\u001B[38;5;124;43m\"\u001B[39;49m\u001B[38;5;124;43mmemory_map\u001B[39;49m\u001B[38;5;124;43m\"\u001B[39;49m\u001B[43m,\u001B[49m\u001B[43m \u001B[49m\u001B[38;5;28;43;01mFalse\u001B[39;49;00m\u001B[43m)\u001B[49m\u001B[43m,\u001B[49m\n\u001B[1;32m   1884\u001B[0m \u001B[43m    \u001B[49m\u001B[43mis_text\u001B[49m\u001B[38;5;241;43m=\u001B[39;49m\u001B[43mis_text\u001B[49m\u001B[43m,\u001B[49m\n\u001B[1;32m   1885\u001B[0m \u001B[43m    \u001B[49m\u001B[43merrors\u001B[49m\u001B[38;5;241;43m=\u001B[39;49m\u001B[38;5;28;43mself\u001B[39;49m\u001B[38;5;241;43m.\u001B[39;49m\u001B[43moptions\u001B[49m\u001B[38;5;241;43m.\u001B[39;49m\u001B[43mget\u001B[49m\u001B[43m(\u001B[49m\u001B[38;5;124;43m\"\u001B[39;49m\u001B[38;5;124;43mencoding_errors\u001B[39;49m\u001B[38;5;124;43m\"\u001B[39;49m\u001B[43m,\u001B[49m\u001B[43m \u001B[49m\u001B[38;5;124;43m\"\u001B[39;49m\u001B[38;5;124;43mstrict\u001B[39;49m\u001B[38;5;124;43m\"\u001B[39;49m\u001B[43m)\u001B[49m\u001B[43m,\u001B[49m\n\u001B[1;32m   1886\u001B[0m \u001B[43m    \u001B[49m\u001B[43mstorage_options\u001B[49m\u001B[38;5;241;43m=\u001B[39;49m\u001B[38;5;28;43mself\u001B[39;49m\u001B[38;5;241;43m.\u001B[39;49m\u001B[43moptions\u001B[49m\u001B[38;5;241;43m.\u001B[39;49m\u001B[43mget\u001B[49m\u001B[43m(\u001B[49m\u001B[38;5;124;43m\"\u001B[39;49m\u001B[38;5;124;43mstorage_options\u001B[39;49m\u001B[38;5;124;43m\"\u001B[39;49m\u001B[43m,\u001B[49m\u001B[43m \u001B[49m\u001B[38;5;28;43;01mNone\u001B[39;49;00m\u001B[43m)\u001B[49m\u001B[43m,\u001B[49m\n\u001B[1;32m   1887\u001B[0m \u001B[43m\u001B[49m\u001B[43m)\u001B[49m\n\u001B[1;32m   1888\u001B[0m \u001B[38;5;28;01massert\u001B[39;00m \u001B[38;5;28mself\u001B[39m\u001B[38;5;241m.\u001B[39mhandles \u001B[38;5;129;01mis\u001B[39;00m \u001B[38;5;129;01mnot\u001B[39;00m \u001B[38;5;28;01mNone\u001B[39;00m\n\u001B[1;32m   1889\u001B[0m f \u001B[38;5;241m=\u001B[39m \u001B[38;5;28mself\u001B[39m\u001B[38;5;241m.\u001B[39mhandles\u001B[38;5;241m.\u001B[39mhandle\n",
      "File \u001B[0;32m/Library/Frameworks/Python.framework/Versions/3.11/lib/python3.11/site-packages/pandas/io/common.py:873\u001B[0m, in \u001B[0;36mget_handle\u001B[0;34m(path_or_buf, mode, encoding, compression, memory_map, is_text, errors, storage_options)\u001B[0m\n\u001B[1;32m    868\u001B[0m \u001B[38;5;28;01melif\u001B[39;00m \u001B[38;5;28misinstance\u001B[39m(handle, \u001B[38;5;28mstr\u001B[39m):\n\u001B[1;32m    869\u001B[0m     \u001B[38;5;66;03m# Check whether the filename is to be opened in binary mode.\u001B[39;00m\n\u001B[1;32m    870\u001B[0m     \u001B[38;5;66;03m# Binary mode does not support 'encoding' and 'newline'.\u001B[39;00m\n\u001B[1;32m    871\u001B[0m     \u001B[38;5;28;01mif\u001B[39;00m ioargs\u001B[38;5;241m.\u001B[39mencoding \u001B[38;5;129;01mand\u001B[39;00m \u001B[38;5;124m\"\u001B[39m\u001B[38;5;124mb\u001B[39m\u001B[38;5;124m\"\u001B[39m \u001B[38;5;129;01mnot\u001B[39;00m \u001B[38;5;129;01min\u001B[39;00m ioargs\u001B[38;5;241m.\u001B[39mmode:\n\u001B[1;32m    872\u001B[0m         \u001B[38;5;66;03m# Encoding\u001B[39;00m\n\u001B[0;32m--> 873\u001B[0m         handle \u001B[38;5;241m=\u001B[39m \u001B[38;5;28;43mopen\u001B[39;49m\u001B[43m(\u001B[49m\n\u001B[1;32m    874\u001B[0m \u001B[43m            \u001B[49m\u001B[43mhandle\u001B[49m\u001B[43m,\u001B[49m\n\u001B[1;32m    875\u001B[0m \u001B[43m            \u001B[49m\u001B[43mioargs\u001B[49m\u001B[38;5;241;43m.\u001B[39;49m\u001B[43mmode\u001B[49m\u001B[43m,\u001B[49m\n\u001B[1;32m    876\u001B[0m \u001B[43m            \u001B[49m\u001B[43mencoding\u001B[49m\u001B[38;5;241;43m=\u001B[39;49m\u001B[43mioargs\u001B[49m\u001B[38;5;241;43m.\u001B[39;49m\u001B[43mencoding\u001B[49m\u001B[43m,\u001B[49m\n\u001B[1;32m    877\u001B[0m \u001B[43m            \u001B[49m\u001B[43merrors\u001B[49m\u001B[38;5;241;43m=\u001B[39;49m\u001B[43merrors\u001B[49m\u001B[43m,\u001B[49m\n\u001B[1;32m    878\u001B[0m \u001B[43m            \u001B[49m\u001B[43mnewline\u001B[49m\u001B[38;5;241;43m=\u001B[39;49m\u001B[38;5;124;43m\"\u001B[39;49m\u001B[38;5;124;43m\"\u001B[39;49m\u001B[43m,\u001B[49m\n\u001B[1;32m    879\u001B[0m \u001B[43m        \u001B[49m\u001B[43m)\u001B[49m\n\u001B[1;32m    880\u001B[0m     \u001B[38;5;28;01melse\u001B[39;00m:\n\u001B[1;32m    881\u001B[0m         \u001B[38;5;66;03m# Binary mode\u001B[39;00m\n\u001B[1;32m    882\u001B[0m         handle \u001B[38;5;241m=\u001B[39m \u001B[38;5;28mopen\u001B[39m(handle, ioargs\u001B[38;5;241m.\u001B[39mmode)\n",
      "\u001B[0;31mFileNotFoundError\u001B[0m: [Errno 2] No such file or directory: 'pm_data/df_2010_2024.csv'"
     ]
    }
   ],
   "source": [
    "# import data tables\n",
    "df_pm = pd.read_csv('/Users/clarissaclark/SIADS_Milestone_1/df_2010_2024.csv')\n",
    "df_vehicles = pd.read_csv('/Users/clarissaclark/SIADS_Milestone_1/vehicle_df')"
   ],
   "metadata": {
    "collapsed": false,
    "ExecuteTime": {
     "end_time": "2024-09-25T01:17:01.438723Z",
     "start_time": "2024-09-25T01:17:01.106310Z"
    }
   },
   "id": "816812f1f318f9ab",
   "execution_count": 15
  },
  {
   "cell_type": "code",
   "outputs": [
    {
     "data": {
      "text/plain": "      Data Year   County Fuel Category  Number of Vehicles\n0          2010  Alameda            EV                  20\n1          2010  Alameda   Fossil Fuel              885402\n2          2010   Alpine            EV                   0\n3          2010   Alpine   Fossil Fuel                1041\n4          2010   Amador            EV                   1\n...         ...      ...           ...                 ...\n1647       2023  Ventura   Fossil Fuel              651851\n1648       2023     Yolo            EV                6757\n1649       2023     Yolo   Fossil Fuel              152560\n1650       2023     Yuba            EV                 961\n1651       2023     Yuba   Fossil Fuel               57567\n\n[1652 rows x 4 columns]",
      "text/html": "<div>\n<style scoped>\n    .dataframe tbody tr th:only-of-type {\n        vertical-align: middle;\n    }\n\n    .dataframe tbody tr th {\n        vertical-align: top;\n    }\n\n    .dataframe thead th {\n        text-align: right;\n    }\n</style>\n<table border=\"1\" class=\"dataframe\">\n  <thead>\n    <tr style=\"text-align: right;\">\n      <th></th>\n      <th>Data Year</th>\n      <th>County</th>\n      <th>Fuel Category</th>\n      <th>Number of Vehicles</th>\n    </tr>\n  </thead>\n  <tbody>\n    <tr>\n      <th>0</th>\n      <td>2010</td>\n      <td>Alameda</td>\n      <td>EV</td>\n      <td>20</td>\n    </tr>\n    <tr>\n      <th>1</th>\n      <td>2010</td>\n      <td>Alameda</td>\n      <td>Fossil Fuel</td>\n      <td>885402</td>\n    </tr>\n    <tr>\n      <th>2</th>\n      <td>2010</td>\n      <td>Alpine</td>\n      <td>EV</td>\n      <td>0</td>\n    </tr>\n    <tr>\n      <th>3</th>\n      <td>2010</td>\n      <td>Alpine</td>\n      <td>Fossil Fuel</td>\n      <td>1041</td>\n    </tr>\n    <tr>\n      <th>4</th>\n      <td>2010</td>\n      <td>Amador</td>\n      <td>EV</td>\n      <td>1</td>\n    </tr>\n    <tr>\n      <th>...</th>\n      <td>...</td>\n      <td>...</td>\n      <td>...</td>\n      <td>...</td>\n    </tr>\n    <tr>\n      <th>1647</th>\n      <td>2023</td>\n      <td>Ventura</td>\n      <td>Fossil Fuel</td>\n      <td>651851</td>\n    </tr>\n    <tr>\n      <th>1648</th>\n      <td>2023</td>\n      <td>Yolo</td>\n      <td>EV</td>\n      <td>6757</td>\n    </tr>\n    <tr>\n      <th>1649</th>\n      <td>2023</td>\n      <td>Yolo</td>\n      <td>Fossil Fuel</td>\n      <td>152560</td>\n    </tr>\n    <tr>\n      <th>1650</th>\n      <td>2023</td>\n      <td>Yuba</td>\n      <td>EV</td>\n      <td>961</td>\n    </tr>\n    <tr>\n      <th>1651</th>\n      <td>2023</td>\n      <td>Yuba</td>\n      <td>Fossil Fuel</td>\n      <td>57567</td>\n    </tr>\n  </tbody>\n</table>\n<p>1652 rows × 4 columns</p>\n</div>"
     },
     "execution_count": 3,
     "metadata": {},
     "output_type": "execute_result"
    }
   ],
   "source": [
    "df_vehicles"
   ],
   "metadata": {
    "collapsed": false,
    "ExecuteTime": {
     "end_time": "2024-09-23T22:53:11.103929Z",
     "start_time": "2024-09-23T22:53:11.091578Z"
    }
   },
   "id": "5d8a185ec317b941",
   "execution_count": 3
  },
  {
   "cell_type": "code",
   "outputs": [
    {
     "data": {
      "text/plain": "      Data Year     County  Number of EV\n0          2010    Alameda            20\n2          2010     Alpine             0\n4          2010     Amador             1\n6          2010      Butte             0\n8          2010  Calaveras             0\n...         ...        ...           ...\n1642       2023     Tulare          3837\n1644       2023   Tuolumne           698\n1646       2023    Ventura         31980\n1648       2023       Yolo          6757\n1650       2023       Yuba           961\n\n[826 rows x 3 columns]",
      "text/html": "<div>\n<style scoped>\n    .dataframe tbody tr th:only-of-type {\n        vertical-align: middle;\n    }\n\n    .dataframe tbody tr th {\n        vertical-align: top;\n    }\n\n    .dataframe thead th {\n        text-align: right;\n    }\n</style>\n<table border=\"1\" class=\"dataframe\">\n  <thead>\n    <tr style=\"text-align: right;\">\n      <th></th>\n      <th>Data Year</th>\n      <th>County</th>\n      <th>Number of EV</th>\n    </tr>\n  </thead>\n  <tbody>\n    <tr>\n      <th>0</th>\n      <td>2010</td>\n      <td>Alameda</td>\n      <td>20</td>\n    </tr>\n    <tr>\n      <th>2</th>\n      <td>2010</td>\n      <td>Alpine</td>\n      <td>0</td>\n    </tr>\n    <tr>\n      <th>4</th>\n      <td>2010</td>\n      <td>Amador</td>\n      <td>1</td>\n    </tr>\n    <tr>\n      <th>6</th>\n      <td>2010</td>\n      <td>Butte</td>\n      <td>0</td>\n    </tr>\n    <tr>\n      <th>8</th>\n      <td>2010</td>\n      <td>Calaveras</td>\n      <td>0</td>\n    </tr>\n    <tr>\n      <th>...</th>\n      <td>...</td>\n      <td>...</td>\n      <td>...</td>\n    </tr>\n    <tr>\n      <th>1642</th>\n      <td>2023</td>\n      <td>Tulare</td>\n      <td>3837</td>\n    </tr>\n    <tr>\n      <th>1644</th>\n      <td>2023</td>\n      <td>Tuolumne</td>\n      <td>698</td>\n    </tr>\n    <tr>\n      <th>1646</th>\n      <td>2023</td>\n      <td>Ventura</td>\n      <td>31980</td>\n    </tr>\n    <tr>\n      <th>1648</th>\n      <td>2023</td>\n      <td>Yolo</td>\n      <td>6757</td>\n    </tr>\n    <tr>\n      <th>1650</th>\n      <td>2023</td>\n      <td>Yuba</td>\n      <td>961</td>\n    </tr>\n  </tbody>\n</table>\n<p>826 rows × 3 columns</p>\n</div>"
     },
     "execution_count": 4,
     "metadata": {},
     "output_type": "execute_result"
    }
   ],
   "source": [
    "# seperating creating ev/gas columns so its easier to compare with pm2.5 values \n",
    "df_ev_vehicles = df_vehicles[df_vehicles['Fuel Category'] == 'EV']\n",
    "df_ev_vehicles = df_ev_vehicles.rename(columns={'Number of Vehicles': 'Number of EV'})\n",
    "df_ev_vehicles = df_ev_vehicles.drop(columns=['Fuel Category'])\n",
    "df_ev_vehicles"
   ],
   "metadata": {
    "collapsed": false,
    "ExecuteTime": {
     "end_time": "2024-09-23T22:53:11.113909Z",
     "start_time": "2024-09-23T22:53:11.105491Z"
    }
   },
   "id": "d1a0a79de10448d3",
   "execution_count": 4
  },
  {
   "cell_type": "code",
   "outputs": [
    {
     "data": {
      "text/plain": "      Data Year     County  Number of Gas Cars\n1          2010    Alameda              885402\n3          2010     Alpine                1041\n5          2010     Amador               30480\n7          2010      Butte              133169\n9          2010  Calaveras               39636\n...         ...        ...                 ...\n1643       2023     Tulare              331744\n1645       2023   Tuolumne               54369\n1647       2023    Ventura              651851\n1649       2023       Yolo              152560\n1651       2023       Yuba               57567\n\n[826 rows x 3 columns]",
      "text/html": "<div>\n<style scoped>\n    .dataframe tbody tr th:only-of-type {\n        vertical-align: middle;\n    }\n\n    .dataframe tbody tr th {\n        vertical-align: top;\n    }\n\n    .dataframe thead th {\n        text-align: right;\n    }\n</style>\n<table border=\"1\" class=\"dataframe\">\n  <thead>\n    <tr style=\"text-align: right;\">\n      <th></th>\n      <th>Data Year</th>\n      <th>County</th>\n      <th>Number of Gas Cars</th>\n    </tr>\n  </thead>\n  <tbody>\n    <tr>\n      <th>1</th>\n      <td>2010</td>\n      <td>Alameda</td>\n      <td>885402</td>\n    </tr>\n    <tr>\n      <th>3</th>\n      <td>2010</td>\n      <td>Alpine</td>\n      <td>1041</td>\n    </tr>\n    <tr>\n      <th>5</th>\n      <td>2010</td>\n      <td>Amador</td>\n      <td>30480</td>\n    </tr>\n    <tr>\n      <th>7</th>\n      <td>2010</td>\n      <td>Butte</td>\n      <td>133169</td>\n    </tr>\n    <tr>\n      <th>9</th>\n      <td>2010</td>\n      <td>Calaveras</td>\n      <td>39636</td>\n    </tr>\n    <tr>\n      <th>...</th>\n      <td>...</td>\n      <td>...</td>\n      <td>...</td>\n    </tr>\n    <tr>\n      <th>1643</th>\n      <td>2023</td>\n      <td>Tulare</td>\n      <td>331744</td>\n    </tr>\n    <tr>\n      <th>1645</th>\n      <td>2023</td>\n      <td>Tuolumne</td>\n      <td>54369</td>\n    </tr>\n    <tr>\n      <th>1647</th>\n      <td>2023</td>\n      <td>Ventura</td>\n      <td>651851</td>\n    </tr>\n    <tr>\n      <th>1649</th>\n      <td>2023</td>\n      <td>Yolo</td>\n      <td>152560</td>\n    </tr>\n    <tr>\n      <th>1651</th>\n      <td>2023</td>\n      <td>Yuba</td>\n      <td>57567</td>\n    </tr>\n  </tbody>\n</table>\n<p>826 rows × 3 columns</p>\n</div>"
     },
     "execution_count": 5,
     "metadata": {},
     "output_type": "execute_result"
    }
   ],
   "source": [
    "df_gas_vehicles = df_vehicles[df_vehicles['Fuel Category'] == 'Fossil Fuel']\n",
    "df_gas_vehicles = df_gas_vehicles.rename(columns={'Number of Vehicles': 'Number of Gas Cars'})\n",
    "df_gas_vehicles = df_gas_vehicles.drop(columns=['Fuel Category'])\n",
    "df_gas_vehicles"
   ],
   "metadata": {
    "collapsed": false,
    "ExecuteTime": {
     "end_time": "2024-09-23T22:53:11.122826Z",
     "start_time": "2024-09-23T22:53:11.116435Z"
    }
   },
   "id": "448cf6560e87e2b5",
   "execution_count": 5
  },
  {
   "cell_type": "code",
   "outputs": [
    {
     "data": {
      "text/plain": "(826, 4)"
     },
     "execution_count": 6,
     "metadata": {},
     "output_type": "execute_result"
    }
   ],
   "source": [
    "# recombining df_vehicles \n",
    "df_vehicles = pd.merge(df_gas_vehicles, df_ev_vehicles, on=['Data Year', 'County'], how='inner')\n",
    "df_vehicles.shape"
   ],
   "metadata": {
    "collapsed": false,
    "ExecuteTime": {
     "end_time": "2024-09-23T22:53:11.138784Z",
     "start_time": "2024-09-23T22:53:11.124511Z"
    }
   },
   "id": "170f71692567d6d9",
   "execution_count": 6
  },
  {
   "cell_type": "code",
   "outputs": [
    {
     "data": {
      "text/plain": "(766, 4)"
     },
     "execution_count": 7,
     "metadata": {},
     "output_type": "execute_result"
    }
   ],
   "source": [
    "df_pm.shape"
   ],
   "metadata": {
    "collapsed": false,
    "ExecuteTime": {
     "end_time": "2024-09-23T22:53:11.152117Z",
     "start_time": "2024-09-23T22:53:11.141705Z"
    }
   },
   "id": "b76280accd5ff096",
   "execution_count": 7
  },
  {
   "cell_type": "code",
   "outputs": [
    {
     "name": "stdout",
     "output_type": "stream",
     "text": [
      "Only in df_vehicles: {'Amador', 'Sierra', 'Lassen', 'Yuba', 'Out Of State', 'Modoc', 'Tuolumne'}\n",
      "Only in df_pm: set()\n"
     ]
    }
   ],
   "source": [
    "# df_vehicles.shape = df_pm.shape + 60, so ...\n",
    "\n",
    "counties = pd.DataFrame({\n",
    "    'County_df_vehicles': df_vehicles['County'],\n",
    "    'County_df_pm': df_pm['County']\n",
    "})\n",
    "counties.head()\n",
    "# Get unique counties from both DataFrames\n",
    "counties_vehicles = set(df_vehicles['County'])\n",
    "counties_pm = set(df_pm['County'])\n",
    "\n",
    "# Find differences\n",
    "only_in_vehicles = counties_vehicles - counties_pm\n",
    "only_in_pm = counties_pm - counties_vehicles\n",
    "\n",
    "print(\"Only in df_vehicles:\", only_in_vehicles)\n",
    "print(\"Only in df_pm:\", only_in_pm)\n",
    "\n",
    "# do we want to drop these values ? i will merge on left for now, idk if we will need these since they don't have pm2.5 data at all. we could estimate these values by comparing the counties around them that do report pm2.5 values. "
   ],
   "metadata": {
    "collapsed": false,
    "ExecuteTime": {
     "end_time": "2024-09-23T22:53:11.160688Z",
     "start_time": "2024-09-23T22:53:11.154352Z"
    }
   },
   "id": "75a58b03876f669b",
   "execution_count": 8
  },
  {
   "cell_type": "code",
   "outputs": [
    {
     "data": {
      "text/plain": "     Data Year        County  Average PM 2.5/County  \\\n0         2010       Alameda               8.165623   \n1         2010         Butte               8.776451   \n2         2010     Calaveras               7.380349   \n3         2010        Colusa               6.054913   \n4         2010  Contra Costa               7.606920   \n..         ...           ...                    ...   \n761       2024        Tehama               3.965116   \n762       2024       Trinity               5.718966   \n763       2024        Tulare               9.256527   \n764       2024       Ventura               6.063194   \n765       2024          Yolo               5.253195   \n\n     Number of Site IDs/County  Number of Gas Cars  Number of EV  \n0                          5.0            885402.0          20.0  \n1                          3.0            133169.0           0.0  \n2                          1.0             39636.0           0.0  \n3                          1.0             14610.0           0.0  \n4                          1.0            666294.0          10.0  \n..                         ...                 ...           ...  \n761                        1.0                 NaN           NaN  \n762                        1.0                 NaN           NaN  \n763                        3.0                 NaN           NaN  \n764                        5.0                 NaN           NaN  \n765                        2.0                 NaN           NaN  \n\n[766 rows x 6 columns]",
      "text/html": "<div>\n<style scoped>\n    .dataframe tbody tr th:only-of-type {\n        vertical-align: middle;\n    }\n\n    .dataframe tbody tr th {\n        vertical-align: top;\n    }\n\n    .dataframe thead th {\n        text-align: right;\n    }\n</style>\n<table border=\"1\" class=\"dataframe\">\n  <thead>\n    <tr style=\"text-align: right;\">\n      <th></th>\n      <th>Data Year</th>\n      <th>County</th>\n      <th>Average PM 2.5/County</th>\n      <th>Number of Site IDs/County</th>\n      <th>Number of Gas Cars</th>\n      <th>Number of EV</th>\n    </tr>\n  </thead>\n  <tbody>\n    <tr>\n      <th>0</th>\n      <td>2010</td>\n      <td>Alameda</td>\n      <td>8.165623</td>\n      <td>5.0</td>\n      <td>885402.0</td>\n      <td>20.0</td>\n    </tr>\n    <tr>\n      <th>1</th>\n      <td>2010</td>\n      <td>Butte</td>\n      <td>8.776451</td>\n      <td>3.0</td>\n      <td>133169.0</td>\n      <td>0.0</td>\n    </tr>\n    <tr>\n      <th>2</th>\n      <td>2010</td>\n      <td>Calaveras</td>\n      <td>7.380349</td>\n      <td>1.0</td>\n      <td>39636.0</td>\n      <td>0.0</td>\n    </tr>\n    <tr>\n      <th>3</th>\n      <td>2010</td>\n      <td>Colusa</td>\n      <td>6.054913</td>\n      <td>1.0</td>\n      <td>14610.0</td>\n      <td>0.0</td>\n    </tr>\n    <tr>\n      <th>4</th>\n      <td>2010</td>\n      <td>Contra Costa</td>\n      <td>7.606920</td>\n      <td>1.0</td>\n      <td>666294.0</td>\n      <td>10.0</td>\n    </tr>\n    <tr>\n      <th>...</th>\n      <td>...</td>\n      <td>...</td>\n      <td>...</td>\n      <td>...</td>\n      <td>...</td>\n      <td>...</td>\n    </tr>\n    <tr>\n      <th>761</th>\n      <td>2024</td>\n      <td>Tehama</td>\n      <td>3.965116</td>\n      <td>1.0</td>\n      <td>NaN</td>\n      <td>NaN</td>\n    </tr>\n    <tr>\n      <th>762</th>\n      <td>2024</td>\n      <td>Trinity</td>\n      <td>5.718966</td>\n      <td>1.0</td>\n      <td>NaN</td>\n      <td>NaN</td>\n    </tr>\n    <tr>\n      <th>763</th>\n      <td>2024</td>\n      <td>Tulare</td>\n      <td>9.256527</td>\n      <td>3.0</td>\n      <td>NaN</td>\n      <td>NaN</td>\n    </tr>\n    <tr>\n      <th>764</th>\n      <td>2024</td>\n      <td>Ventura</td>\n      <td>6.063194</td>\n      <td>5.0</td>\n      <td>NaN</td>\n      <td>NaN</td>\n    </tr>\n    <tr>\n      <th>765</th>\n      <td>2024</td>\n      <td>Yolo</td>\n      <td>5.253195</td>\n      <td>2.0</td>\n      <td>NaN</td>\n      <td>NaN</td>\n    </tr>\n  </tbody>\n</table>\n<p>766 rows × 6 columns</p>\n</div>"
     },
     "execution_count": 9,
     "metadata": {},
     "output_type": "execute_result"
    }
   ],
   "source": [
    "# merging pm and vehicle datatables\n",
    "df_pm_vehicles = pd.merge(df_pm, df_vehicles, on=['Data Year', 'County'], how='left')\n",
    "df_pm_vehicles"
   ],
   "metadata": {
    "collapsed": false,
    "ExecuteTime": {
     "end_time": "2024-09-23T22:53:11.182957Z",
     "start_time": "2024-09-23T22:53:11.164174Z"
    }
   },
   "id": "75bea9e9ddde7780",
   "execution_count": 9
  },
  {
   "cell_type": "code",
   "outputs": [],
   "source": [
    "df_pm_vehicles.to_csv('/Users/clarissaclark/SIADS_Milestone_1/PM2.5_Vehicles.csv', index=False)"
   ],
   "metadata": {
    "collapsed": false,
    "ExecuteTime": {
     "end_time": "2024-09-23T22:53:11.192182Z",
     "start_time": "2024-09-23T22:53:11.184841Z"
    }
   },
   "id": "564c7f42e09d6a4c",
   "execution_count": 10
  },
  {
   "cell_type": "code",
   "outputs": [],
   "source": [
    "# now let's combine that dataframe with population \n",
    "df_pop = pd.read_csv('/Users/clarissaclark/SIADS_Milestone_1/California_Population.csv') \n",
    "# clean df_pop county column to match df_pm_vehicle county column \n",
    "df_pop['County'] = df_pop['County'].str.strip()\n",
    "df_pop['County'] = df_pop['County'].str.title()\n",
    "df_pop['County'] = df_pop['County'].str.replace(r'\\s+', ' ', regex=True) "
   ],
   "metadata": {
    "collapsed": false,
    "ExecuteTime": {
     "end_time": "2024-09-23T22:53:11.210116Z",
     "start_time": "2024-09-23T22:53:11.193738Z"
    }
   },
   "id": "3c25b4c607c29094",
   "execution_count": 11
  },
  {
   "cell_type": "code",
   "outputs": [
    {
     "name": "stdout",
     "output_type": "stream",
     "text": [
      "Only in df_pop: {'Amador', 'Sierra', 'Lassen', 'Yuba', 'State Total', 'Modoc', 'Tuolumne'}\n",
      "Only in df_pm_vehicles: {'Alpine'}\n"
     ]
    }
   ],
   "source": [
    "# Get unique counties from both DataFrames\n",
    "counties_pop = set(df_pop['County'])\n",
    "counties_pm_vehicles = set(df_pm_vehicles['County'])\n",
    "\n",
    "# Find differences\n",
    "only_in_pop = counties_pop - counties_pm_vehicles\n",
    "only_in_pm_vehicles = counties_pm_vehicles - counties_pop\n",
    "\n",
    "print(\"Only in df_pop:\", only_in_pop)\n",
    "print(\"Only in df_pm_vehicles:\", only_in_pm_vehicles)\n",
    "# for now, we will merge on left for df_pm_vehicles "
   ],
   "metadata": {
    "collapsed": false,
    "ExecuteTime": {
     "end_time": "2024-09-23T22:53:11.217291Z",
     "start_time": "2024-09-23T22:53:11.213178Z"
    }
   },
   "id": "36297c5a407efc3f",
   "execution_count": 12
  },
  {
   "cell_type": "code",
   "outputs": [
    {
     "data": {
      "text/plain": "     Data Year        County  Average PM 2.5/County  \\\n0         2010       Alameda               8.165623   \n1         2010         Butte               8.776451   \n2         2010     Calaveras               7.380349   \n3         2010        Colusa               6.054913   \n4         2010  Contra Costa               7.606920   \n..         ...           ...                    ...   \n761       2024        Tehama               3.965116   \n762       2024       Trinity               5.718966   \n763       2024        Tulare               9.256527   \n764       2024       Ventura               6.063194   \n765       2024          Yolo               5.253195   \n\n     Number of Site IDs/County  Number of Gas Cars  Number of EV  Population  \\\n0                          5.0            885402.0          20.0   1510271.0   \n1                          3.0            133169.0           0.0    220000.0   \n2                          1.0             39636.0           0.0     45578.0   \n3                          1.0             14610.0           0.0     21419.0   \n4                          1.0            666294.0          10.0   1049025.0   \n..                         ...                 ...           ...         ...   \n761                        1.0                 NaN           NaN     64308.0   \n762                        1.0                 NaN           NaN     15915.0   \n763                        3.0                 NaN           NaN    478918.0   \n764                        5.0                 NaN           NaN    823863.0   \n765                        2.0                 NaN           NaN    221666.0   \n\n     Population Z Score  \n0              0.033519  \n1             -0.216348  \n2             -0.250126  \n3             -0.254805  \n4             -0.055803  \n..                  ...  \n761           -0.246499  \n762           -0.255871  \n763           -0.166208  \n764           -0.099407  \n765           -0.216026  \n\n[766 rows x 8 columns]",
      "text/html": "<div>\n<style scoped>\n    .dataframe tbody tr th:only-of-type {\n        vertical-align: middle;\n    }\n\n    .dataframe tbody tr th {\n        vertical-align: top;\n    }\n\n    .dataframe thead th {\n        text-align: right;\n    }\n</style>\n<table border=\"1\" class=\"dataframe\">\n  <thead>\n    <tr style=\"text-align: right;\">\n      <th></th>\n      <th>Data Year</th>\n      <th>County</th>\n      <th>Average PM 2.5/County</th>\n      <th>Number of Site IDs/County</th>\n      <th>Number of Gas Cars</th>\n      <th>Number of EV</th>\n      <th>Population</th>\n      <th>Population Z Score</th>\n    </tr>\n  </thead>\n  <tbody>\n    <tr>\n      <th>0</th>\n      <td>2010</td>\n      <td>Alameda</td>\n      <td>8.165623</td>\n      <td>5.0</td>\n      <td>885402.0</td>\n      <td>20.0</td>\n      <td>1510271.0</td>\n      <td>0.033519</td>\n    </tr>\n    <tr>\n      <th>1</th>\n      <td>2010</td>\n      <td>Butte</td>\n      <td>8.776451</td>\n      <td>3.0</td>\n      <td>133169.0</td>\n      <td>0.0</td>\n      <td>220000.0</td>\n      <td>-0.216348</td>\n    </tr>\n    <tr>\n      <th>2</th>\n      <td>2010</td>\n      <td>Calaveras</td>\n      <td>7.380349</td>\n      <td>1.0</td>\n      <td>39636.0</td>\n      <td>0.0</td>\n      <td>45578.0</td>\n      <td>-0.250126</td>\n    </tr>\n    <tr>\n      <th>3</th>\n      <td>2010</td>\n      <td>Colusa</td>\n      <td>6.054913</td>\n      <td>1.0</td>\n      <td>14610.0</td>\n      <td>0.0</td>\n      <td>21419.0</td>\n      <td>-0.254805</td>\n    </tr>\n    <tr>\n      <th>4</th>\n      <td>2010</td>\n      <td>Contra Costa</td>\n      <td>7.606920</td>\n      <td>1.0</td>\n      <td>666294.0</td>\n      <td>10.0</td>\n      <td>1049025.0</td>\n      <td>-0.055803</td>\n    </tr>\n    <tr>\n      <th>...</th>\n      <td>...</td>\n      <td>...</td>\n      <td>...</td>\n      <td>...</td>\n      <td>...</td>\n      <td>...</td>\n      <td>...</td>\n      <td>...</td>\n    </tr>\n    <tr>\n      <th>761</th>\n      <td>2024</td>\n      <td>Tehama</td>\n      <td>3.965116</td>\n      <td>1.0</td>\n      <td>NaN</td>\n      <td>NaN</td>\n      <td>64308.0</td>\n      <td>-0.246499</td>\n    </tr>\n    <tr>\n      <th>762</th>\n      <td>2024</td>\n      <td>Trinity</td>\n      <td>5.718966</td>\n      <td>1.0</td>\n      <td>NaN</td>\n      <td>NaN</td>\n      <td>15915.0</td>\n      <td>-0.255871</td>\n    </tr>\n    <tr>\n      <th>763</th>\n      <td>2024</td>\n      <td>Tulare</td>\n      <td>9.256527</td>\n      <td>3.0</td>\n      <td>NaN</td>\n      <td>NaN</td>\n      <td>478918.0</td>\n      <td>-0.166208</td>\n    </tr>\n    <tr>\n      <th>764</th>\n      <td>2024</td>\n      <td>Ventura</td>\n      <td>6.063194</td>\n      <td>5.0</td>\n      <td>NaN</td>\n      <td>NaN</td>\n      <td>823863.0</td>\n      <td>-0.099407</td>\n    </tr>\n    <tr>\n      <th>765</th>\n      <td>2024</td>\n      <td>Yolo</td>\n      <td>5.253195</td>\n      <td>2.0</td>\n      <td>NaN</td>\n      <td>NaN</td>\n      <td>221666.0</td>\n      <td>-0.216026</td>\n    </tr>\n  </tbody>\n</table>\n<p>766 rows × 8 columns</p>\n</div>"
     },
     "execution_count": 13,
     "metadata": {},
     "output_type": "execute_result"
    }
   ],
   "source": [
    "df_pm_vehicles_pop= pd.merge(df_pm_vehicles, df_pop, on=['County', 'Data Year'], how='left')\n",
    "df_pm_vehicles_pop.rename(columns={'Z Score':'Population Z Score'}, inplace=True)\n",
    "df_pm_vehicles_pop"
   ],
   "metadata": {
    "collapsed": false,
    "ExecuteTime": {
     "end_time": "2024-09-23T22:53:11.231647Z",
     "start_time": "2024-09-23T22:53:11.219296Z"
    }
   },
   "id": "551c971629cb18ba",
   "execution_count": 13
  },
  {
   "cell_type": "code",
   "outputs": [],
   "source": [
    "df_pm_vehicles_pop.to_csv('/Users/clarissaclark/SIADS_Milestone_1/PM2.5_Vehicles_Population.csv', index=False)"
   ],
   "metadata": {
    "collapsed": false,
    "ExecuteTime": {
     "end_time": "2024-09-23T22:53:11.241055Z",
     "start_time": "2024-09-23T22:53:11.234771Z"
    }
   },
   "id": "2c364aa8d2c74b7c",
   "execution_count": 14
  },
  {
   "cell_type": "code",
   "outputs": [],
   "source": [],
   "metadata": {
    "collapsed": false,
    "ExecuteTime": {
     "end_time": "2024-09-23T22:53:11.243536Z",
     "start_time": "2024-09-23T22:53:11.241812Z"
    }
   },
   "id": "6a2caf6b765f1a7d",
   "execution_count": 14
  },
  {
   "cell_type": "code",
   "outputs": [],
   "source": [],
   "metadata": {
    "collapsed": false,
    "ExecuteTime": {
     "end_time": "2024-09-23T22:53:11.247360Z",
     "start_time": "2024-09-23T22:53:11.245583Z"
    }
   },
   "id": "7322fe84f0d5aa46",
   "execution_count": 14
  }
 ],
 "metadata": {
  "kernelspec": {
   "display_name": "Python 3",
   "language": "python",
   "name": "python3"
  },
  "language_info": {
   "codemirror_mode": {
    "name": "ipython",
    "version": 2
   },
   "file_extension": ".py",
   "mimetype": "text/x-python",
   "name": "python",
   "nbconvert_exporter": "python",
   "pygments_lexer": "ipython2",
   "version": "2.7.6"
  }
 },
 "nbformat": 4,
 "nbformat_minor": 5
}
