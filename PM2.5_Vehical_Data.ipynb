{
 "cells": [
  {
   "cell_type": "code",
   "execution_count": 1,
   "id": "initial_id",
   "metadata": {
    "collapsed": true,
    "ExecuteTime": {
     "end_time": "2024-09-23T21:19:54.003905Z",
     "start_time": "2024-09-23T21:19:53.655397Z"
    }
   },
   "outputs": [],
   "source": [
    "import pandas as pd"
   ]
  },
  {
   "cell_type": "code",
   "outputs": [],
   "source": [
    "# import data tables\n",
    "df_pm = pd.read_csv('/Users/clarissaclark/SIADS_Milestone_1/df_2010_2024.csv')\n",
    "df_vehicles = pd.read_csv('/Users/clarissaclark/SIADS_Milestone_1/vehicle_df')"
   ],
   "metadata": {
    "collapsed": false,
    "ExecuteTime": {
     "end_time": "2024-09-23T21:19:54.012574Z",
     "start_time": "2024-09-23T21:19:54.006060Z"
    }
   },
   "id": "816812f1f318f9ab",
   "execution_count": 2
  },
  {
   "cell_type": "code",
   "outputs": [
    {
     "data": {
      "text/plain": "      Data Year   County Fuel Category  Number of Vehicles\n0          2010  Alameda            EV                  20\n1          2010  Alameda   Fossil Fuel              885402\n2          2010   Alpine            EV                   0\n3          2010   Alpine   Fossil Fuel                1041\n4          2010   Amador            EV                   1\n...         ...      ...           ...                 ...\n1647       2023  Ventura   Fossil Fuel              651851\n1648       2023     Yolo            EV                6757\n1649       2023     Yolo   Fossil Fuel              152560\n1650       2023     Yuba            EV                 961\n1651       2023     Yuba   Fossil Fuel               57567\n\n[1652 rows x 4 columns]",
      "text/html": "<div>\n<style scoped>\n    .dataframe tbody tr th:only-of-type {\n        vertical-align: middle;\n    }\n\n    .dataframe tbody tr th {\n        vertical-align: top;\n    }\n\n    .dataframe thead th {\n        text-align: right;\n    }\n</style>\n<table border=\"1\" class=\"dataframe\">\n  <thead>\n    <tr style=\"text-align: right;\">\n      <th></th>\n      <th>Data Year</th>\n      <th>County</th>\n      <th>Fuel Category</th>\n      <th>Number of Vehicles</th>\n    </tr>\n  </thead>\n  <tbody>\n    <tr>\n      <th>0</th>\n      <td>2010</td>\n      <td>Alameda</td>\n      <td>EV</td>\n      <td>20</td>\n    </tr>\n    <tr>\n      <th>1</th>\n      <td>2010</td>\n      <td>Alameda</td>\n      <td>Fossil Fuel</td>\n      <td>885402</td>\n    </tr>\n    <tr>\n      <th>2</th>\n      <td>2010</td>\n      <td>Alpine</td>\n      <td>EV</td>\n      <td>0</td>\n    </tr>\n    <tr>\n      <th>3</th>\n      <td>2010</td>\n      <td>Alpine</td>\n      <td>Fossil Fuel</td>\n      <td>1041</td>\n    </tr>\n    <tr>\n      <th>4</th>\n      <td>2010</td>\n      <td>Amador</td>\n      <td>EV</td>\n      <td>1</td>\n    </tr>\n    <tr>\n      <th>...</th>\n      <td>...</td>\n      <td>...</td>\n      <td>...</td>\n      <td>...</td>\n    </tr>\n    <tr>\n      <th>1647</th>\n      <td>2023</td>\n      <td>Ventura</td>\n      <td>Fossil Fuel</td>\n      <td>651851</td>\n    </tr>\n    <tr>\n      <th>1648</th>\n      <td>2023</td>\n      <td>Yolo</td>\n      <td>EV</td>\n      <td>6757</td>\n    </tr>\n    <tr>\n      <th>1649</th>\n      <td>2023</td>\n      <td>Yolo</td>\n      <td>Fossil Fuel</td>\n      <td>152560</td>\n    </tr>\n    <tr>\n      <th>1650</th>\n      <td>2023</td>\n      <td>Yuba</td>\n      <td>EV</td>\n      <td>961</td>\n    </tr>\n    <tr>\n      <th>1651</th>\n      <td>2023</td>\n      <td>Yuba</td>\n      <td>Fossil Fuel</td>\n      <td>57567</td>\n    </tr>\n  </tbody>\n</table>\n<p>1652 rows × 4 columns</p>\n</div>"
     },
     "execution_count": 3,
     "metadata": {},
     "output_type": "execute_result"
    }
   ],
   "source": [
    "df_vehicles"
   ],
   "metadata": {
    "collapsed": false,
    "ExecuteTime": {
     "end_time": "2024-09-23T21:19:54.021011Z",
     "start_time": "2024-09-23T21:19:54.013204Z"
    }
   },
   "id": "5d8a185ec317b941",
   "execution_count": 3
  },
  {
   "cell_type": "code",
   "outputs": [
    {
     "data": {
      "text/plain": "      Data Year     County  Number of EV\n0          2010    Alameda            20\n2          2010     Alpine             0\n4          2010     Amador             1\n6          2010      Butte             0\n8          2010  Calaveras             0\n...         ...        ...           ...\n1642       2023     Tulare          3837\n1644       2023   Tuolumne           698\n1646       2023    Ventura         31980\n1648       2023       Yolo          6757\n1650       2023       Yuba           961\n\n[826 rows x 3 columns]",
      "text/html": "<div>\n<style scoped>\n    .dataframe tbody tr th:only-of-type {\n        vertical-align: middle;\n    }\n\n    .dataframe tbody tr th {\n        vertical-align: top;\n    }\n\n    .dataframe thead th {\n        text-align: right;\n    }\n</style>\n<table border=\"1\" class=\"dataframe\">\n  <thead>\n    <tr style=\"text-align: right;\">\n      <th></th>\n      <th>Data Year</th>\n      <th>County</th>\n      <th>Number of EV</th>\n    </tr>\n  </thead>\n  <tbody>\n    <tr>\n      <th>0</th>\n      <td>2010</td>\n      <td>Alameda</td>\n      <td>20</td>\n    </tr>\n    <tr>\n      <th>2</th>\n      <td>2010</td>\n      <td>Alpine</td>\n      <td>0</td>\n    </tr>\n    <tr>\n      <th>4</th>\n      <td>2010</td>\n      <td>Amador</td>\n      <td>1</td>\n    </tr>\n    <tr>\n      <th>6</th>\n      <td>2010</td>\n      <td>Butte</td>\n      <td>0</td>\n    </tr>\n    <tr>\n      <th>8</th>\n      <td>2010</td>\n      <td>Calaveras</td>\n      <td>0</td>\n    </tr>\n    <tr>\n      <th>...</th>\n      <td>...</td>\n      <td>...</td>\n      <td>...</td>\n    </tr>\n    <tr>\n      <th>1642</th>\n      <td>2023</td>\n      <td>Tulare</td>\n      <td>3837</td>\n    </tr>\n    <tr>\n      <th>1644</th>\n      <td>2023</td>\n      <td>Tuolumne</td>\n      <td>698</td>\n    </tr>\n    <tr>\n      <th>1646</th>\n      <td>2023</td>\n      <td>Ventura</td>\n      <td>31980</td>\n    </tr>\n    <tr>\n      <th>1648</th>\n      <td>2023</td>\n      <td>Yolo</td>\n      <td>6757</td>\n    </tr>\n    <tr>\n      <th>1650</th>\n      <td>2023</td>\n      <td>Yuba</td>\n      <td>961</td>\n    </tr>\n  </tbody>\n</table>\n<p>826 rows × 3 columns</p>\n</div>"
     },
     "execution_count": 4,
     "metadata": {},
     "output_type": "execute_result"
    }
   ],
   "source": [
    "# seperating creating ev/gas columns so its easier to compare with pm2.5 values \n",
    "df_ev_vehicles = df_vehicles[df_vehicles['Fuel Category'] == 'EV']\n",
    "df_ev_vehicles = df_ev_vehicles.rename(columns={'Number of Vehicles': 'Number of EV'})\n",
    "df_ev_vehicles = df_ev_vehicles.drop(columns=['Fuel Category'])\n",
    "df_ev_vehicles"
   ],
   "metadata": {
    "collapsed": false,
    "ExecuteTime": {
     "end_time": "2024-09-23T21:19:54.027057Z",
     "start_time": "2024-09-23T21:19:54.021598Z"
    }
   },
   "id": "d1a0a79de10448d3",
   "execution_count": 4
  },
  {
   "cell_type": "code",
   "outputs": [
    {
     "data": {
      "text/plain": "      Data Year     County  Number of Gas Cars\n1          2010    Alameda              885402\n3          2010     Alpine                1041\n5          2010     Amador               30480\n7          2010      Butte              133169\n9          2010  Calaveras               39636\n...         ...        ...                 ...\n1643       2023     Tulare              331744\n1645       2023   Tuolumne               54369\n1647       2023    Ventura              651851\n1649       2023       Yolo              152560\n1651       2023       Yuba               57567\n\n[826 rows x 3 columns]",
      "text/html": "<div>\n<style scoped>\n    .dataframe tbody tr th:only-of-type {\n        vertical-align: middle;\n    }\n\n    .dataframe tbody tr th {\n        vertical-align: top;\n    }\n\n    .dataframe thead th {\n        text-align: right;\n    }\n</style>\n<table border=\"1\" class=\"dataframe\">\n  <thead>\n    <tr style=\"text-align: right;\">\n      <th></th>\n      <th>Data Year</th>\n      <th>County</th>\n      <th>Number of Gas Cars</th>\n    </tr>\n  </thead>\n  <tbody>\n    <tr>\n      <th>1</th>\n      <td>2010</td>\n      <td>Alameda</td>\n      <td>885402</td>\n    </tr>\n    <tr>\n      <th>3</th>\n      <td>2010</td>\n      <td>Alpine</td>\n      <td>1041</td>\n    </tr>\n    <tr>\n      <th>5</th>\n      <td>2010</td>\n      <td>Amador</td>\n      <td>30480</td>\n    </tr>\n    <tr>\n      <th>7</th>\n      <td>2010</td>\n      <td>Butte</td>\n      <td>133169</td>\n    </tr>\n    <tr>\n      <th>9</th>\n      <td>2010</td>\n      <td>Calaveras</td>\n      <td>39636</td>\n    </tr>\n    <tr>\n      <th>...</th>\n      <td>...</td>\n      <td>...</td>\n      <td>...</td>\n    </tr>\n    <tr>\n      <th>1643</th>\n      <td>2023</td>\n      <td>Tulare</td>\n      <td>331744</td>\n    </tr>\n    <tr>\n      <th>1645</th>\n      <td>2023</td>\n      <td>Tuolumne</td>\n      <td>54369</td>\n    </tr>\n    <tr>\n      <th>1647</th>\n      <td>2023</td>\n      <td>Ventura</td>\n      <td>651851</td>\n    </tr>\n    <tr>\n      <th>1649</th>\n      <td>2023</td>\n      <td>Yolo</td>\n      <td>152560</td>\n    </tr>\n    <tr>\n      <th>1651</th>\n      <td>2023</td>\n      <td>Yuba</td>\n      <td>57567</td>\n    </tr>\n  </tbody>\n</table>\n<p>826 rows × 3 columns</p>\n</div>"
     },
     "execution_count": 5,
     "metadata": {},
     "output_type": "execute_result"
    }
   ],
   "source": [
    "df_gas_vehicles = df_vehicles[df_vehicles['Fuel Category'] == 'Fossil Fuel']\n",
    "df_gas_vehicles = df_gas_vehicles.rename(columns={'Number of Vehicles': 'Number of Gas Cars'})\n",
    "df_gas_vehicles = df_gas_vehicles.drop(columns=['Fuel Category'])\n",
    "df_gas_vehicles"
   ],
   "metadata": {
    "collapsed": false,
    "ExecuteTime": {
     "end_time": "2024-09-23T21:19:54.034835Z",
     "start_time": "2024-09-23T21:19:54.028737Z"
    }
   },
   "id": "448cf6560e87e2b5",
   "execution_count": 5
  },
  {
   "cell_type": "code",
   "outputs": [
    {
     "data": {
      "text/plain": "(826, 4)"
     },
     "execution_count": 6,
     "metadata": {},
     "output_type": "execute_result"
    }
   ],
   "source": [
    "# recombining df_vehicles \n",
    "df_vehicles = pd.merge(df_gas_vehicles, df_ev_vehicles, on=['Data Year', 'County'], how='inner')\n",
    "df_vehicles.shape"
   ],
   "metadata": {
    "collapsed": false,
    "ExecuteTime": {
     "end_time": "2024-09-23T21:19:54.040106Z",
     "start_time": "2024-09-23T21:19:54.035832Z"
    }
   },
   "id": "170f71692567d6d9",
   "execution_count": 6
  },
  {
   "cell_type": "code",
   "outputs": [
    {
     "data": {
      "text/plain": "(766, 4)"
     },
     "execution_count": 7,
     "metadata": {},
     "output_type": "execute_result"
    }
   ],
   "source": [
    "df_pm.shape"
   ],
   "metadata": {
    "collapsed": false,
    "ExecuteTime": {
     "end_time": "2024-09-23T21:19:54.043278Z",
     "start_time": "2024-09-23T21:19:54.040666Z"
    }
   },
   "id": "b76280accd5ff096",
   "execution_count": 7
  },
  {
   "cell_type": "code",
   "outputs": [
    {
     "name": "stdout",
     "output_type": "stream",
     "text": [
      "Only in df_vehicles: {'Out Of State', 'Tuolumne', 'Lassen', 'Amador', 'Modoc', 'Sierra', 'Yuba'}\n",
      "Only in df_pm: set()\n"
     ]
    }
   ],
   "source": [
    "# df_vehicles.shape = df_pm.shape + 60, so ...\n",
    "\n",
    "counties = pd.DataFrame({\n",
    "    'County_df_vehicles': df_vehicles['County'],\n",
    "    'County_df_pm': df_pm['County']\n",
    "})\n",
    "counties.head()\n",
    "# Get unique counties from both DataFrames\n",
    "counties_vehicles = set(df_vehicles['County'])\n",
    "counties_pm = set(df_pm['County'])\n",
    "\n",
    "# Find differences\n",
    "only_in_vehicles = counties_vehicles - counties_pm\n",
    "only_in_pm = counties_pm - counties_vehicles\n",
    "\n",
    "print(\"Only in df_vehicles:\", only_in_vehicles)\n",
    "print(\"Only in df_pm:\", only_in_pm)\n",
    "\n",
    "# do we want to drop these values ? i will merge on left for now, idk if we will need these since they don't have pm2.5 data at all. we could estimate these values by comparing the counties around them that do report pm2.5 values. "
   ],
   "metadata": {
    "collapsed": false,
    "ExecuteTime": {
     "end_time": "2024-09-23T21:19:54.047558Z",
     "start_time": "2024-09-23T21:19:54.043914Z"
    }
   },
   "id": "75a58b03876f669b",
   "execution_count": 8
  },
  {
   "cell_type": "code",
   "outputs": [
    {
     "data": {
      "text/plain": "     Data Year        County  Average PM 2.5/County  \\\n0         2010       Alameda               8.165623   \n1         2010         Butte               8.776451   \n2         2010     Calaveras               7.380349   \n3         2010        Colusa               6.054913   \n4         2010  Contra Costa               7.606920   \n..         ...           ...                    ...   \n761       2024        Tehama               3.965116   \n762       2024       Trinity               5.718966   \n763       2024        Tulare               9.256527   \n764       2024       Ventura               6.063194   \n765       2024          Yolo               5.253195   \n\n     Number of Site IDs/County  Number of Gas Cars  Number of EV  \n0                          5.0            885402.0          20.0  \n1                          3.0            133169.0           0.0  \n2                          1.0             39636.0           0.0  \n3                          1.0             14610.0           0.0  \n4                          1.0            666294.0          10.0  \n..                         ...                 ...           ...  \n761                        1.0                 NaN           NaN  \n762                        1.0                 NaN           NaN  \n763                        3.0                 NaN           NaN  \n764                        5.0                 NaN           NaN  \n765                        2.0                 NaN           NaN  \n\n[766 rows x 6 columns]",
      "text/html": "<div>\n<style scoped>\n    .dataframe tbody tr th:only-of-type {\n        vertical-align: middle;\n    }\n\n    .dataframe tbody tr th {\n        vertical-align: top;\n    }\n\n    .dataframe thead th {\n        text-align: right;\n    }\n</style>\n<table border=\"1\" class=\"dataframe\">\n  <thead>\n    <tr style=\"text-align: right;\">\n      <th></th>\n      <th>Data Year</th>\n      <th>County</th>\n      <th>Average PM 2.5/County</th>\n      <th>Number of Site IDs/County</th>\n      <th>Number of Gas Cars</th>\n      <th>Number of EV</th>\n    </tr>\n  </thead>\n  <tbody>\n    <tr>\n      <th>0</th>\n      <td>2010</td>\n      <td>Alameda</td>\n      <td>8.165623</td>\n      <td>5.0</td>\n      <td>885402.0</td>\n      <td>20.0</td>\n    </tr>\n    <tr>\n      <th>1</th>\n      <td>2010</td>\n      <td>Butte</td>\n      <td>8.776451</td>\n      <td>3.0</td>\n      <td>133169.0</td>\n      <td>0.0</td>\n    </tr>\n    <tr>\n      <th>2</th>\n      <td>2010</td>\n      <td>Calaveras</td>\n      <td>7.380349</td>\n      <td>1.0</td>\n      <td>39636.0</td>\n      <td>0.0</td>\n    </tr>\n    <tr>\n      <th>3</th>\n      <td>2010</td>\n      <td>Colusa</td>\n      <td>6.054913</td>\n      <td>1.0</td>\n      <td>14610.0</td>\n      <td>0.0</td>\n    </tr>\n    <tr>\n      <th>4</th>\n      <td>2010</td>\n      <td>Contra Costa</td>\n      <td>7.606920</td>\n      <td>1.0</td>\n      <td>666294.0</td>\n      <td>10.0</td>\n    </tr>\n    <tr>\n      <th>...</th>\n      <td>...</td>\n      <td>...</td>\n      <td>...</td>\n      <td>...</td>\n      <td>...</td>\n      <td>...</td>\n    </tr>\n    <tr>\n      <th>761</th>\n      <td>2024</td>\n      <td>Tehama</td>\n      <td>3.965116</td>\n      <td>1.0</td>\n      <td>NaN</td>\n      <td>NaN</td>\n    </tr>\n    <tr>\n      <th>762</th>\n      <td>2024</td>\n      <td>Trinity</td>\n      <td>5.718966</td>\n      <td>1.0</td>\n      <td>NaN</td>\n      <td>NaN</td>\n    </tr>\n    <tr>\n      <th>763</th>\n      <td>2024</td>\n      <td>Tulare</td>\n      <td>9.256527</td>\n      <td>3.0</td>\n      <td>NaN</td>\n      <td>NaN</td>\n    </tr>\n    <tr>\n      <th>764</th>\n      <td>2024</td>\n      <td>Ventura</td>\n      <td>6.063194</td>\n      <td>5.0</td>\n      <td>NaN</td>\n      <td>NaN</td>\n    </tr>\n    <tr>\n      <th>765</th>\n      <td>2024</td>\n      <td>Yolo</td>\n      <td>5.253195</td>\n      <td>2.0</td>\n      <td>NaN</td>\n      <td>NaN</td>\n    </tr>\n  </tbody>\n</table>\n<p>766 rows × 6 columns</p>\n</div>"
     },
     "execution_count": 9,
     "metadata": {},
     "output_type": "execute_result"
    }
   ],
   "source": [
    "# merging pm and vehicle datatables\n",
    "df_pm_vehicles = pd.merge(df_pm, df_vehicles, on=['Data Year', 'County'], how='left')\n",
    "df_pm_vehicles"
   ],
   "metadata": {
    "collapsed": false,
    "ExecuteTime": {
     "end_time": "2024-09-23T21:19:54.055336Z",
     "start_time": "2024-09-23T21:19:54.048203Z"
    }
   },
   "id": "75bea9e9ddde7780",
   "execution_count": 9
  },
  {
   "cell_type": "code",
   "outputs": [],
   "source": [
    "df_pm_vehicles.to_csv('/Users/clarissaclark/SIADS_Milestone_1/PM2.5_Vehicles.csv', index=False)"
   ],
   "metadata": {
    "collapsed": false,
    "ExecuteTime": {
     "end_time": "2024-09-23T21:19:54.061989Z",
     "start_time": "2024-09-23T21:19:54.056078Z"
    }
   },
   "id": "564c7f42e09d6a4c",
   "execution_count": 10
  },
  {
   "cell_type": "code",
   "outputs": [],
   "source": [
    "# now let's combine that dataframe with population \n",
    "df_pop = pd.read_csv('/Users/clarissaclark/SIADS_Milestone_1/California_Population.csv') \n",
    "# clean df_pop county column to match df_pm_vehicle county column \n",
    "df_pop['County'] = df_pop['County'].str.strip()\n",
    "df_pop['County'] = df_pop['County'].str.title()\n",
    "df_pop['County'] = df_pop['County'].str.replace(r'\\s+', ' ', regex=True) "
   ],
   "metadata": {
    "collapsed": false,
    "ExecuteTime": {
     "end_time": "2024-09-23T21:19:54.067538Z",
     "start_time": "2024-09-23T21:19:54.062613Z"
    }
   },
   "id": "3c25b4c607c29094",
   "execution_count": 11
  },
  {
   "cell_type": "code",
   "outputs": [
    {
     "name": "stdout",
     "output_type": "stream",
     "text": [
      "Only in df_pop: {'Tuolumne', 'Lassen', 'Amador', 'Modoc', 'Sierra', 'Yuba', 'State Total'}\n",
      "Only in df_pm_vehicles: {'Alpine'}\n"
     ]
    }
   ],
   "source": [
    "# Get unique counties from both DataFrames\n",
    "counties_pop = set(df_pop['County'])\n",
    "counties_pm_vehicles = set(df_pm_vehicles['County'])\n",
    "\n",
    "# Find differences\n",
    "only_in_pop = counties_pop - counties_pm_vehicles\n",
    "only_in_pm_vehicles = counties_pm_vehicles - counties_pop\n",
    "\n",
    "print(\"Only in df_pop:\", only_in_pop)\n",
    "print(\"Only in df_pm_vehicles:\", only_in_pm_vehicles)\n",
    "# for now, we will merge on left for df_pm_vehicles "
   ],
   "metadata": {
    "collapsed": false,
    "ExecuteTime": {
     "end_time": "2024-09-23T21:19:54.072332Z",
     "start_time": "2024-09-23T21:19:54.068116Z"
    }
   },
   "id": "36297c5a407efc3f",
   "execution_count": 12
  },
  {
   "cell_type": "code",
   "outputs": [
    {
     "data": {
      "text/plain": "     Data Year        County  Average PM 2.5/County  \\\n0         2010       Alameda               8.165623   \n1         2010         Butte               8.776451   \n2         2010     Calaveras               7.380349   \n3         2010        Colusa               6.054913   \n4         2010  Contra Costa               7.606920   \n..         ...           ...                    ...   \n761       2024        Tehama               3.965116   \n762       2024       Trinity               5.718966   \n763       2024        Tulare               9.256527   \n764       2024       Ventura               6.063194   \n765       2024          Yolo               5.253195   \n\n     Number of Site IDs/County  Number of Gas Cars  Number of EV  Population  \\\n0                          5.0            885402.0          20.0   1510271.0   \n1                          3.0            133169.0           0.0    220000.0   \n2                          1.0             39636.0           0.0     45578.0   \n3                          1.0             14610.0           0.0     21419.0   \n4                          1.0            666294.0          10.0   1049025.0   \n..                         ...                 ...           ...         ...   \n761                        1.0                 NaN           NaN     64308.0   \n762                        1.0                 NaN           NaN     15915.0   \n763                        3.0                 NaN           NaN    478918.0   \n764                        5.0                 NaN           NaN    823863.0   \n765                        2.0                 NaN           NaN    221666.0   \n\n     Population Z Score  \n0              0.033519  \n1             -0.216348  \n2             -0.250126  \n3             -0.254805  \n4             -0.055803  \n..                  ...  \n761           -0.246499  \n762           -0.255871  \n763           -0.166208  \n764           -0.099407  \n765           -0.216026  \n\n[766 rows x 8 columns]",
      "text/html": "<div>\n<style scoped>\n    .dataframe tbody tr th:only-of-type {\n        vertical-align: middle;\n    }\n\n    .dataframe tbody tr th {\n        vertical-align: top;\n    }\n\n    .dataframe thead th {\n        text-align: right;\n    }\n</style>\n<table border=\"1\" class=\"dataframe\">\n  <thead>\n    <tr style=\"text-align: right;\">\n      <th></th>\n      <th>Data Year</th>\n      <th>County</th>\n      <th>Average PM 2.5/County</th>\n      <th>Number of Site IDs/County</th>\n      <th>Number of Gas Cars</th>\n      <th>Number of EV</th>\n      <th>Population</th>\n      <th>Population Z Score</th>\n    </tr>\n  </thead>\n  <tbody>\n    <tr>\n      <th>0</th>\n      <td>2010</td>\n      <td>Alameda</td>\n      <td>8.165623</td>\n      <td>5.0</td>\n      <td>885402.0</td>\n      <td>20.0</td>\n      <td>1510271.0</td>\n      <td>0.033519</td>\n    </tr>\n    <tr>\n      <th>1</th>\n      <td>2010</td>\n      <td>Butte</td>\n      <td>8.776451</td>\n      <td>3.0</td>\n      <td>133169.0</td>\n      <td>0.0</td>\n      <td>220000.0</td>\n      <td>-0.216348</td>\n    </tr>\n    <tr>\n      <th>2</th>\n      <td>2010</td>\n      <td>Calaveras</td>\n      <td>7.380349</td>\n      <td>1.0</td>\n      <td>39636.0</td>\n      <td>0.0</td>\n      <td>45578.0</td>\n      <td>-0.250126</td>\n    </tr>\n    <tr>\n      <th>3</th>\n      <td>2010</td>\n      <td>Colusa</td>\n      <td>6.054913</td>\n      <td>1.0</td>\n      <td>14610.0</td>\n      <td>0.0</td>\n      <td>21419.0</td>\n      <td>-0.254805</td>\n    </tr>\n    <tr>\n      <th>4</th>\n      <td>2010</td>\n      <td>Contra Costa</td>\n      <td>7.606920</td>\n      <td>1.0</td>\n      <td>666294.0</td>\n      <td>10.0</td>\n      <td>1049025.0</td>\n      <td>-0.055803</td>\n    </tr>\n    <tr>\n      <th>...</th>\n      <td>...</td>\n      <td>...</td>\n      <td>...</td>\n      <td>...</td>\n      <td>...</td>\n      <td>...</td>\n      <td>...</td>\n      <td>...</td>\n    </tr>\n    <tr>\n      <th>761</th>\n      <td>2024</td>\n      <td>Tehama</td>\n      <td>3.965116</td>\n      <td>1.0</td>\n      <td>NaN</td>\n      <td>NaN</td>\n      <td>64308.0</td>\n      <td>-0.246499</td>\n    </tr>\n    <tr>\n      <th>762</th>\n      <td>2024</td>\n      <td>Trinity</td>\n      <td>5.718966</td>\n      <td>1.0</td>\n      <td>NaN</td>\n      <td>NaN</td>\n      <td>15915.0</td>\n      <td>-0.255871</td>\n    </tr>\n    <tr>\n      <th>763</th>\n      <td>2024</td>\n      <td>Tulare</td>\n      <td>9.256527</td>\n      <td>3.0</td>\n      <td>NaN</td>\n      <td>NaN</td>\n      <td>478918.0</td>\n      <td>-0.166208</td>\n    </tr>\n    <tr>\n      <th>764</th>\n      <td>2024</td>\n      <td>Ventura</td>\n      <td>6.063194</td>\n      <td>5.0</td>\n      <td>NaN</td>\n      <td>NaN</td>\n      <td>823863.0</td>\n      <td>-0.099407</td>\n    </tr>\n    <tr>\n      <th>765</th>\n      <td>2024</td>\n      <td>Yolo</td>\n      <td>5.253195</td>\n      <td>2.0</td>\n      <td>NaN</td>\n      <td>NaN</td>\n      <td>221666.0</td>\n      <td>-0.216026</td>\n    </tr>\n  </tbody>\n</table>\n<p>766 rows × 8 columns</p>\n</div>"
     },
     "execution_count": 13,
     "metadata": {},
     "output_type": "execute_result"
    }
   ],
   "source": [
    "df_pm_vehicles_pop= pd.merge(df_pm_vehicles, df_pop, on=['County', 'Data Year'], how='left')\n",
    "df_pm_vehicles_pop.rename(columns={'Z Score':'Population Z Score'}, inplace=True)\n",
    "df_pm_vehicles_pop"
   ],
   "metadata": {
    "collapsed": false,
    "ExecuteTime": {
     "end_time": "2024-09-23T21:19:54.081286Z",
     "start_time": "2024-09-23T21:19:54.073275Z"
    }
   },
   "id": "551c971629cb18ba",
   "execution_count": 13
  },
  {
   "cell_type": "code",
   "outputs": [],
   "source": [
    "df_pm_vehicles_pop.to_csv('/Users/clarissaclark/SIADS_Milestone_1/PM2.5_Vehicles_Population.csv', index=False)"
   ],
   "metadata": {
    "collapsed": false,
    "ExecuteTime": {
     "end_time": "2024-09-23T21:19:54.090341Z",
     "start_time": "2024-09-23T21:19:54.083727Z"
    }
   },
   "id": "2c364aa8d2c74b7c",
   "execution_count": 14
  },
  {
   "cell_type": "code",
   "outputs": [],
   "source": [],
   "metadata": {
    "collapsed": false,
    "ExecuteTime": {
     "end_time": "2024-09-23T21:19:54.092686Z",
     "start_time": "2024-09-23T21:19:54.091003Z"
    }
   },
   "id": "6a2caf6b765f1a7d",
   "execution_count": 14
  },
  {
   "cell_type": "code",
   "outputs": [],
   "source": [],
   "metadata": {
    "collapsed": false,
    "ExecuteTime": {
     "end_time": "2024-09-23T21:19:54.094719Z",
     "start_time": "2024-09-23T21:19:54.093373Z"
    }
   },
   "id": "7322fe84f0d5aa46",
   "execution_count": 14
  }
 ],
 "metadata": {
  "kernelspec": {
   "display_name": "Python 3",
   "language": "python",
   "name": "python3"
  },
  "language_info": {
   "codemirror_mode": {
    "name": "ipython",
    "version": 2
   },
   "file_extension": ".py",
   "mimetype": "text/x-python",
   "name": "python",
   "nbconvert_exporter": "python",
   "pygments_lexer": "ipython2",
   "version": "2.7.6"
  }
 },
 "nbformat": 4,
 "nbformat_minor": 5
}
