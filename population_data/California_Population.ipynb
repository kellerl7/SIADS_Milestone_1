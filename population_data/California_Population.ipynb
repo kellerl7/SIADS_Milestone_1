{
 "cells": [
  {
   "cell_type": "code",
   "execution_count": 1,
   "id": "initial_id",
   "metadata": {
    "collapsed": true,
    "ExecuteTime": {
     "end_time": "2024-09-30T18:06:00.655725Z",
     "start_time": "2024-09-30T18:05:59.895800Z"
    }
   },
   "outputs": [],
   "source": [
    "# imports\n",
    "import pandas as pd\n",
    "from scipy.stats import zscore"
   ]
  },
  {
   "cell_type": "code",
   "outputs": [],
   "source": [
    "# cleaning up 2010-2019\n",
    "df1 = pd.read_excel('./E-4_2010-2020-Internet-Version.xlsx', sheet_name= 'Table 1 County State') \n"
   ],
   "metadata": {
    "collapsed": false,
    "ExecuteTime": {
     "end_time": "2024-09-30T18:06:02.753203Z",
     "start_time": "2024-09-30T18:06:00.656379Z"
    }
   },
   "id": "c2fe7c1583876271",
   "execution_count": 2
  },
  {
   "cell_type": "code",
   "outputs": [],
   "source": [
    "mapping = {\n",
    "    'Table 1: E-4 Population Estimates for Counties and State 2011-2020 with 2010 Benchmark': 'County',\n",
    "    'Unnamed: 1': '2010:',\n",
    "    'Unnamed: 2': '2011',\n",
    "    'Unnamed: 3': '2012',\n",
    "    'Unnamed: 4': '2013',\n",
    "    'Unnamed: 5': '2014',\n",
    "    'Unnamed: 6': '2015',\n",
    "    'Unnamed: 7': '2016',\n",
    "    'Unnamed: 8': '2017',\n",
    "    'Unnamed: 9': '2018',\n",
    "    'Unnamed: 10': '2019',\n",
    "    'Unnamed: 11': '2020'\n",
    "}\n",
    "df1.rename(columns=mapping, inplace=True)"
   ],
   "metadata": {
    "collapsed": false,
    "ExecuteTime": {
     "end_time": "2024-09-30T18:06:02.757405Z",
     "start_time": "2024-09-30T18:06:02.754899Z"
    }
   },
   "id": "67abc695a1f2dca7",
   "execution_count": 3
  },
  {
   "cell_type": "code",
   "outputs": [],
   "source": [
    "df1.drop(columns=['Unnamed: 12', 'Unnamed: 13', 'Unnamed: 14'], index=[0, 2], inplace=True)"
   ],
   "metadata": {
    "collapsed": false,
    "ExecuteTime": {
     "end_time": "2024-09-30T18:06:02.760836Z",
     "start_time": "2024-09-30T18:06:02.758192Z"
    }
   },
   "id": "52565b66f7654073",
   "execution_count": 4
  },
  {
   "cell_type": "code",
   "outputs": [],
   "source": [
    "df1.reset_index(drop=True, inplace=True)"
   ],
   "metadata": {
    "collapsed": false,
    "ExecuteTime": {
     "end_time": "2024-09-30T18:06:02.763350Z",
     "start_time": "2024-09-30T18:06:02.761498Z"
    }
   },
   "id": "45d287f58714f4fe",
   "execution_count": 5
  },
  {
   "cell_type": "code",
   "outputs": [],
   "source": [
    "# cleaning up 2020-2024\n",
    "df2 = pd.read_excel('/Users/clarissaclark/SIADS_Milestone_1/E-4_2021_2024_InternetVersion (1).xlsx', sheet_name= 'Table 1 County State')"
   ],
   "metadata": {
    "collapsed": false,
    "ExecuteTime": {
     "end_time": "2024-09-30T18:06:02.780498Z",
     "start_time": "2024-09-30T18:06:02.763882Z"
    }
   },
   "id": "ece7a618cc8a8452",
   "execution_count": 6
  },
  {
   "cell_type": "code",
   "outputs": [],
   "source": [
    "mapping_2 = {\n",
    "    'About the Data': 'County',\n",
    "    'Unnamed: 1': '2020',\n",
    "    'Unnamed: 2': '2021',\n",
    "    'Unnamed: 3': '2022',\n",
    "    'Unnamed: 4': '2023',\n",
    "    'Unnamed: 5': '2024'\n",
    "}\n",
    "df2.rename(columns=mapping_2, inplace=True)"
   ],
   "metadata": {
    "collapsed": false,
    "ExecuteTime": {
     "end_time": "2024-09-30T18:06:02.782949Z",
     "start_time": "2024-09-30T18:06:02.781163Z"
    }
   },
   "id": "5923c64146513c43",
   "execution_count": 7
  },
  {
   "cell_type": "code",
   "outputs": [],
   "source": [
    "df2.drop(columns = ['2020'], index=[0, 1, 3], inplace=True)"
   ],
   "metadata": {
    "collapsed": false,
    "ExecuteTime": {
     "end_time": "2024-09-30T18:06:02.786216Z",
     "start_time": "2024-09-30T18:06:02.783855Z"
    }
   },
   "id": "76f14eb65febf614",
   "execution_count": 8
  },
  {
   "cell_type": "code",
   "outputs": [],
   "source": [
    "df2.reset_index(drop=True, inplace=True)"
   ],
   "metadata": {
    "collapsed": false,
    "ExecuteTime": {
     "end_time": "2024-09-30T18:06:02.789032Z",
     "start_time": "2024-09-30T18:06:02.786887Z"
    }
   },
   "id": "e2b4e0037f814580",
   "execution_count": 9
  },
  {
   "cell_type": "code",
   "outputs": [
    {
     "data": {
      "text/plain": "                  County     2010:      2011      2012      2013      2014  \\\n0   Alameda                1510271   1527169   1549193   1575139   1597747   \n1   Amador                   38091     37089     37272     37044     37089   \n2   Butte                   220000    221377    222623    224391    225737   \n3   Calaveras                45578     45561     45544     45499     45461   \n4   Colusa                   21419     21362     21301     21418     21442   \n5   Contra Costa           1049025   1061578   1075165   1090305   1104732   \n6              Del Norte     28610     28191     28193     27752     27341   \n7   El Dorado               181058    180887    180121    179663    180132   \n8   Fresno                  930450    938507    945656    953114    959645   \n9   Glenn                    28122     28252     28102     27914     27946   \n10  Humboldt                134623    135894    135888    135810    135895   \n11  Imperial                174528    175448    177599    177731    178471   \n12  Inyo                     18546     18582     18617     18673     18771   \n13  Kern                    839631    845269    853585    861948    867021   \n14  Kings                   152982    150073    151242    150004    148974   \n15  Lake                     64665     65318     65573     65928     66484   \n16  Lassen                   34895     34416     34222     33564     32908   \n17          Los Angeles    9818605   9872846   9937750   9995638  10037944   \n18  Madera                  150865    151054    151155    150652    152067   \n19  Marin                   252409    254256    257096    258815    261931   \n20  Mariposa                 18251     18180     18084     17936     17865   \n21  Mendocino                87841     87787     88402     89320     89569   \n22  Merced                  255793    259183    261779    263501    264670   \n23  Modoc                     9686      9653      9508      9408      9312   \n24  Mono                     14202     14312     14181     13865     13712   \n25  Monterey                415057    416582    422477    425742    427425   \n26  Napa                    136484    136839    138249    138808    140114   \n27  Nevada                   98764     99035     98896     99116     99490   \n28  Orange                 3010232   3037811   3073792   3105236   3125985   \n29  Placer                  348432    354618    360512    365195    369910   \n30  Plumas                   20007     19977     19700     19345     19120   \n31  Riverside              2189641   2213474   2239478   2260809   2280208   \n32            Sacramento   1418788   1431665   1447519   1461786   1476829   \n33          San Benito       55269     55835     56778     57386     58212   \n34    San Bernardino       2035210   2055566   2072061   2085599   2096526   \n35  San Diego              3095313   3124985   3155715   3190323   3219710   \n36         San Francisco    805235    815714    826354    839556    846661   \n37           San Joaquin    685306    692465    699719    705545    712387   \n38  San Luis Obispo         269637    270396    272951    275482    278272   \n39  San Mateo               718451    726265    735915    745842    751906   \n40  Santa Barbara           423895    424822    427960    432485    437066   \n41  Santa Clara            1781642   1805407   1833344   1861489   1883691   \n42  Santa Cruz              262382    265364    267492    269714    271559   \n43  Shasta                  177223    178218    178865    180106    180826   \n44  Sierra                    3240      3244      3239      3225      3218   \n45  Siskiyou                 44900     44937     44778     44726     44674   \n46  Solano                  413344    414084    418963    423373    428671   \n47  Sonoma                  483878    485975    488601    492751    496615   \n48  Stanislaus              514453    517840    521723    525173    528123   \n49           State Total  37253956  37552880  37904303  38237859  38513119   \n50  Sutter                   94737     94535     94718     94496     95103   \n51  Tehama                   63463     63337     63202     63257     63067   \n52  Trinity                  13786     13945     14193     14442     14692   \n53  Tulare                  442179    445415    449884    453530    455774   \n54  Tuolumne                 55365     55306     55100     55109     55315   \n55  Ventura                 823318    830196    835510    841501    846456   \n56  Yolo                    200849    202769    204087    206386    206708   \n57  Yuba                     72155     72841     73501     74114     74755   \n\n        2015      2016      2017      2018      2019      2020      2021  \\\n0    1622205   1641983   1656919   1666247   1675964   1681337   1666341   \n1      37453     37663     38807     39708     40227     40426     40047   \n2     227400    228198    230412    231774    227263    216090    207403   \n3      45395     45402     45355     45367     45324     45290     45259   \n4      21338     21531     21773     21808     21745     21811     21774   \n5    1120530   1136478   1147957   1155105   1161077   1164844   1162336   \n6      26973     26960     27158     27269     27567     27702     27450   \n7     180914    181630    182695    185303    186714    190202    190737   \n8     968417    975622    983436    992091   1000679   1006557   1008202   \n9      27966     27714     27786     27854     27959     28800     28812   \n10    136542    137015    138027    137893    137059    136547    135130   \n11    179769    179897    180854    181374    181025    180036    180403   \n12     18765     18876     18880     18906     18938     18995     18981   \n13    873453    876846    883531    891340    898617    907416    905370   \n14    148817    148487    148079    150058    151918    152249    151157   \n15     66975     66991     67318     67890     67902     68144     67778   \n16     32758     32293     32459     32721     32726     32555     30991   \n17  10072887  10087542  10107312  10107841  10067476  10029036   9955445   \n18    152930    152819    154151    155100    155604    155967    155982   \n19    263888    264554    264366    264099    263645    262802    259721   \n20     17724     17625     17501     17398     17242     17156     17070   \n21     90018     90761     91368     91667     91733     91639     90910   \n22    266740    268527    271094    274768    277693    280290    280944   \n23      9212      9130      8979      8943      8880      8722      8608   \n24     13674     13412     13425     13319     13305     13205     13191   \n25    429887    434712    437800    438000    439477    439590    436803   \n26    140654    141119    140837    139786    138982    138304    137128   \n27    100341    100793    100998    101640    101719    102259    101985   \n28   3148491   3165028   3185541   3192479   3192408   3188326   3172352   \n29    373578    379143    386586    392693    399659    403822    406443   \n30     19035     19017     19365     19388     19655     19780     19626   \n31   2302000   2326213   2355286   2375547   2394094   2412908   2419165   \n32   1495130   1511942   1530548   1547095   1562887   1580826   1580120   \n33     58839     59563     60499     61143     62734     63931     64642   \n34   2114182   2124990   2142339   2153258   2169538   2179505   2179006   \n35   3248180   3263004   3279856   3294139   3302865   3297350   3286880   \n36    855489    861977    867378    872724    872219    873444    855338   \n37    724185    735670    747119    755573    767324    776794    780320   \n38    279620    281046    282284    282754    282935    282484    278737   \n39    758673    763530    765207    766114    765726    765009    756636   \n40    440902    444102    445716    447377    447907    448408    441552   \n41   1907380   1923243   1930897   1936569   1936821   1936352   1913779   \n42    274207    275625    275410    274274    272618    271259    265533   \n43    181253    180374    180810    181792    181573    181926    181483   \n44      3214      3222      3236      3243      3241      3235      3225   \n45     44550     44497     44377     44315     44273     44111     43905   \n46    433545    438420    444713    447744    450545    452957    450122   \n47    499963    501553    502454    499410    494708    490008    484459   \n48    532534    537785    545273    548363    550947    552488    551342   \n49  38810306  39036749  39273915  39429439  39503656  39535623  39327868   \n50     95421     96065     97649     99498    101531    100058     99089   \n51     63405     64017     64304     64789     65030     65674     65336   \n52     14906     15136     15381     15642     15898     16070     16054   \n53    458186    461170    463514    466766    469228    472371    474000   \n54     54956     55303     55133     55213     55074     55529     54827   \n55    849950    851155    850424    850604    847064    844339    839916   \n56    208343    211938    214387    215708    215874    216306    214911   \n57     75374     76245     77751     78751     79619     81178     81917   \n\n        2022      2023      2024  \n0    1643683   1650656   1641869  \n1      40010     39924     39611  \n2     206184    206579    205928  \n3      45021     44899     44842  \n4      21722     21831     21743  \n5    1149841   1145274   1146626  \n6      26982     26586     26345  \n7     189294    188067    188583  \n8    1010177   1010914   1017431  \n9      28777     28330     28736  \n10    134167    134597    133100  \n11    180394    179623    182881  \n12     18916     18890     18856  \n13    908186    906165    910300  \n14    151654    151629    152627  \n15     67597     66698     67001  \n16     29809     28376     28197  \n17   9861493   9819312   9824091  \n18    157040    157909    159328  \n19    255459    253972    252844  \n20     16988     16968     16966  \n21     90227     89556     89476  \n22    284038    285193    287303  \n23      8547      8501      8484  \n24     12987     13193     12861  \n25    436033    433953    437614  \n26    135564    134508    135029  \n27    101080    100474    100177  \n28   3158071   3141065   3150835  \n29    407539    410085    412844  \n30     19254     18993     18841  \n31   2427832   2428580   2442378  \n32   1572254   1576639   1578938  \n33     65642     65165     65853  \n34   2179845   2172694   2181433  \n35   3278730   3290423   3291101  \n36    840575    842224    843071  \n37    782163    783903    791408  \n38    279439    279818    278469  \n39    742051    745302    741565  \n40    443074    442342    443623  \n41   1895752   1902799   1903198  \n42    264495    263338    262572  \n43    180206    179122    179195  \n44      3205      3187      3171  \n45     43571     43479     43409  \n46    447027    445506    446426  \n47    479654    479445    478152  \n48    548215    545753    548744  \n49  39114785  39061058  39128162  \n50     99153     98248    100110  \n51     64942     64710     64308  \n52     15971     15944     15915  \n53    474624    474680    478918  \n54     54500     54626     54407  \n55    831531    825960    823863  \n56    220176    220454    221666  \n57     82234     82814     83721  ",
      "text/html": "<div>\n<style scoped>\n    .dataframe tbody tr th:only-of-type {\n        vertical-align: middle;\n    }\n\n    .dataframe tbody tr th {\n        vertical-align: top;\n    }\n\n    .dataframe thead th {\n        text-align: right;\n    }\n</style>\n<table border=\"1\" class=\"dataframe\">\n  <thead>\n    <tr style=\"text-align: right;\">\n      <th></th>\n      <th>County</th>\n      <th>2010:</th>\n      <th>2011</th>\n      <th>2012</th>\n      <th>2013</th>\n      <th>2014</th>\n      <th>2015</th>\n      <th>2016</th>\n      <th>2017</th>\n      <th>2018</th>\n      <th>2019</th>\n      <th>2020</th>\n      <th>2021</th>\n      <th>2022</th>\n      <th>2023</th>\n      <th>2024</th>\n    </tr>\n  </thead>\n  <tbody>\n    <tr>\n      <th>0</th>\n      <td>Alameda</td>\n      <td>1510271</td>\n      <td>1527169</td>\n      <td>1549193</td>\n      <td>1575139</td>\n      <td>1597747</td>\n      <td>1622205</td>\n      <td>1641983</td>\n      <td>1656919</td>\n      <td>1666247</td>\n      <td>1675964</td>\n      <td>1681337</td>\n      <td>1666341</td>\n      <td>1643683</td>\n      <td>1650656</td>\n      <td>1641869</td>\n    </tr>\n    <tr>\n      <th>1</th>\n      <td>Amador</td>\n      <td>38091</td>\n      <td>37089</td>\n      <td>37272</td>\n      <td>37044</td>\n      <td>37089</td>\n      <td>37453</td>\n      <td>37663</td>\n      <td>38807</td>\n      <td>39708</td>\n      <td>40227</td>\n      <td>40426</td>\n      <td>40047</td>\n      <td>40010</td>\n      <td>39924</td>\n      <td>39611</td>\n    </tr>\n    <tr>\n      <th>2</th>\n      <td>Butte</td>\n      <td>220000</td>\n      <td>221377</td>\n      <td>222623</td>\n      <td>224391</td>\n      <td>225737</td>\n      <td>227400</td>\n      <td>228198</td>\n      <td>230412</td>\n      <td>231774</td>\n      <td>227263</td>\n      <td>216090</td>\n      <td>207403</td>\n      <td>206184</td>\n      <td>206579</td>\n      <td>205928</td>\n    </tr>\n    <tr>\n      <th>3</th>\n      <td>Calaveras</td>\n      <td>45578</td>\n      <td>45561</td>\n      <td>45544</td>\n      <td>45499</td>\n      <td>45461</td>\n      <td>45395</td>\n      <td>45402</td>\n      <td>45355</td>\n      <td>45367</td>\n      <td>45324</td>\n      <td>45290</td>\n      <td>45259</td>\n      <td>45021</td>\n      <td>44899</td>\n      <td>44842</td>\n    </tr>\n    <tr>\n      <th>4</th>\n      <td>Colusa</td>\n      <td>21419</td>\n      <td>21362</td>\n      <td>21301</td>\n      <td>21418</td>\n      <td>21442</td>\n      <td>21338</td>\n      <td>21531</td>\n      <td>21773</td>\n      <td>21808</td>\n      <td>21745</td>\n      <td>21811</td>\n      <td>21774</td>\n      <td>21722</td>\n      <td>21831</td>\n      <td>21743</td>\n    </tr>\n    <tr>\n      <th>5</th>\n      <td>Contra Costa</td>\n      <td>1049025</td>\n      <td>1061578</td>\n      <td>1075165</td>\n      <td>1090305</td>\n      <td>1104732</td>\n      <td>1120530</td>\n      <td>1136478</td>\n      <td>1147957</td>\n      <td>1155105</td>\n      <td>1161077</td>\n      <td>1164844</td>\n      <td>1162336</td>\n      <td>1149841</td>\n      <td>1145274</td>\n      <td>1146626</td>\n    </tr>\n    <tr>\n      <th>6</th>\n      <td>Del Norte</td>\n      <td>28610</td>\n      <td>28191</td>\n      <td>28193</td>\n      <td>27752</td>\n      <td>27341</td>\n      <td>26973</td>\n      <td>26960</td>\n      <td>27158</td>\n      <td>27269</td>\n      <td>27567</td>\n      <td>27702</td>\n      <td>27450</td>\n      <td>26982</td>\n      <td>26586</td>\n      <td>26345</td>\n    </tr>\n    <tr>\n      <th>7</th>\n      <td>El Dorado</td>\n      <td>181058</td>\n      <td>180887</td>\n      <td>180121</td>\n      <td>179663</td>\n      <td>180132</td>\n      <td>180914</td>\n      <td>181630</td>\n      <td>182695</td>\n      <td>185303</td>\n      <td>186714</td>\n      <td>190202</td>\n      <td>190737</td>\n      <td>189294</td>\n      <td>188067</td>\n      <td>188583</td>\n    </tr>\n    <tr>\n      <th>8</th>\n      <td>Fresno</td>\n      <td>930450</td>\n      <td>938507</td>\n      <td>945656</td>\n      <td>953114</td>\n      <td>959645</td>\n      <td>968417</td>\n      <td>975622</td>\n      <td>983436</td>\n      <td>992091</td>\n      <td>1000679</td>\n      <td>1006557</td>\n      <td>1008202</td>\n      <td>1010177</td>\n      <td>1010914</td>\n      <td>1017431</td>\n    </tr>\n    <tr>\n      <th>9</th>\n      <td>Glenn</td>\n      <td>28122</td>\n      <td>28252</td>\n      <td>28102</td>\n      <td>27914</td>\n      <td>27946</td>\n      <td>27966</td>\n      <td>27714</td>\n      <td>27786</td>\n      <td>27854</td>\n      <td>27959</td>\n      <td>28800</td>\n      <td>28812</td>\n      <td>28777</td>\n      <td>28330</td>\n      <td>28736</td>\n    </tr>\n    <tr>\n      <th>10</th>\n      <td>Humboldt</td>\n      <td>134623</td>\n      <td>135894</td>\n      <td>135888</td>\n      <td>135810</td>\n      <td>135895</td>\n      <td>136542</td>\n      <td>137015</td>\n      <td>138027</td>\n      <td>137893</td>\n      <td>137059</td>\n      <td>136547</td>\n      <td>135130</td>\n      <td>134167</td>\n      <td>134597</td>\n      <td>133100</td>\n    </tr>\n    <tr>\n      <th>11</th>\n      <td>Imperial</td>\n      <td>174528</td>\n      <td>175448</td>\n      <td>177599</td>\n      <td>177731</td>\n      <td>178471</td>\n      <td>179769</td>\n      <td>179897</td>\n      <td>180854</td>\n      <td>181374</td>\n      <td>181025</td>\n      <td>180036</td>\n      <td>180403</td>\n      <td>180394</td>\n      <td>179623</td>\n      <td>182881</td>\n    </tr>\n    <tr>\n      <th>12</th>\n      <td>Inyo</td>\n      <td>18546</td>\n      <td>18582</td>\n      <td>18617</td>\n      <td>18673</td>\n      <td>18771</td>\n      <td>18765</td>\n      <td>18876</td>\n      <td>18880</td>\n      <td>18906</td>\n      <td>18938</td>\n      <td>18995</td>\n      <td>18981</td>\n      <td>18916</td>\n      <td>18890</td>\n      <td>18856</td>\n    </tr>\n    <tr>\n      <th>13</th>\n      <td>Kern</td>\n      <td>839631</td>\n      <td>845269</td>\n      <td>853585</td>\n      <td>861948</td>\n      <td>867021</td>\n      <td>873453</td>\n      <td>876846</td>\n      <td>883531</td>\n      <td>891340</td>\n      <td>898617</td>\n      <td>907416</td>\n      <td>905370</td>\n      <td>908186</td>\n      <td>906165</td>\n      <td>910300</td>\n    </tr>\n    <tr>\n      <th>14</th>\n      <td>Kings</td>\n      <td>152982</td>\n      <td>150073</td>\n      <td>151242</td>\n      <td>150004</td>\n      <td>148974</td>\n      <td>148817</td>\n      <td>148487</td>\n      <td>148079</td>\n      <td>150058</td>\n      <td>151918</td>\n      <td>152249</td>\n      <td>151157</td>\n      <td>151654</td>\n      <td>151629</td>\n      <td>152627</td>\n    </tr>\n    <tr>\n      <th>15</th>\n      <td>Lake</td>\n      <td>64665</td>\n      <td>65318</td>\n      <td>65573</td>\n      <td>65928</td>\n      <td>66484</td>\n      <td>66975</td>\n      <td>66991</td>\n      <td>67318</td>\n      <td>67890</td>\n      <td>67902</td>\n      <td>68144</td>\n      <td>67778</td>\n      <td>67597</td>\n      <td>66698</td>\n      <td>67001</td>\n    </tr>\n    <tr>\n      <th>16</th>\n      <td>Lassen</td>\n      <td>34895</td>\n      <td>34416</td>\n      <td>34222</td>\n      <td>33564</td>\n      <td>32908</td>\n      <td>32758</td>\n      <td>32293</td>\n      <td>32459</td>\n      <td>32721</td>\n      <td>32726</td>\n      <td>32555</td>\n      <td>30991</td>\n      <td>29809</td>\n      <td>28376</td>\n      <td>28197</td>\n    </tr>\n    <tr>\n      <th>17</th>\n      <td>Los Angeles</td>\n      <td>9818605</td>\n      <td>9872846</td>\n      <td>9937750</td>\n      <td>9995638</td>\n      <td>10037944</td>\n      <td>10072887</td>\n      <td>10087542</td>\n      <td>10107312</td>\n      <td>10107841</td>\n      <td>10067476</td>\n      <td>10029036</td>\n      <td>9955445</td>\n      <td>9861493</td>\n      <td>9819312</td>\n      <td>9824091</td>\n    </tr>\n    <tr>\n      <th>18</th>\n      <td>Madera</td>\n      <td>150865</td>\n      <td>151054</td>\n      <td>151155</td>\n      <td>150652</td>\n      <td>152067</td>\n      <td>152930</td>\n      <td>152819</td>\n      <td>154151</td>\n      <td>155100</td>\n      <td>155604</td>\n      <td>155967</td>\n      <td>155982</td>\n      <td>157040</td>\n      <td>157909</td>\n      <td>159328</td>\n    </tr>\n    <tr>\n      <th>19</th>\n      <td>Marin</td>\n      <td>252409</td>\n      <td>254256</td>\n      <td>257096</td>\n      <td>258815</td>\n      <td>261931</td>\n      <td>263888</td>\n      <td>264554</td>\n      <td>264366</td>\n      <td>264099</td>\n      <td>263645</td>\n      <td>262802</td>\n      <td>259721</td>\n      <td>255459</td>\n      <td>253972</td>\n      <td>252844</td>\n    </tr>\n    <tr>\n      <th>20</th>\n      <td>Mariposa</td>\n      <td>18251</td>\n      <td>18180</td>\n      <td>18084</td>\n      <td>17936</td>\n      <td>17865</td>\n      <td>17724</td>\n      <td>17625</td>\n      <td>17501</td>\n      <td>17398</td>\n      <td>17242</td>\n      <td>17156</td>\n      <td>17070</td>\n      <td>16988</td>\n      <td>16968</td>\n      <td>16966</td>\n    </tr>\n    <tr>\n      <th>21</th>\n      <td>Mendocino</td>\n      <td>87841</td>\n      <td>87787</td>\n      <td>88402</td>\n      <td>89320</td>\n      <td>89569</td>\n      <td>90018</td>\n      <td>90761</td>\n      <td>91368</td>\n      <td>91667</td>\n      <td>91733</td>\n      <td>91639</td>\n      <td>90910</td>\n      <td>90227</td>\n      <td>89556</td>\n      <td>89476</td>\n    </tr>\n    <tr>\n      <th>22</th>\n      <td>Merced</td>\n      <td>255793</td>\n      <td>259183</td>\n      <td>261779</td>\n      <td>263501</td>\n      <td>264670</td>\n      <td>266740</td>\n      <td>268527</td>\n      <td>271094</td>\n      <td>274768</td>\n      <td>277693</td>\n      <td>280290</td>\n      <td>280944</td>\n      <td>284038</td>\n      <td>285193</td>\n      <td>287303</td>\n    </tr>\n    <tr>\n      <th>23</th>\n      <td>Modoc</td>\n      <td>9686</td>\n      <td>9653</td>\n      <td>9508</td>\n      <td>9408</td>\n      <td>9312</td>\n      <td>9212</td>\n      <td>9130</td>\n      <td>8979</td>\n      <td>8943</td>\n      <td>8880</td>\n      <td>8722</td>\n      <td>8608</td>\n      <td>8547</td>\n      <td>8501</td>\n      <td>8484</td>\n    </tr>\n    <tr>\n      <th>24</th>\n      <td>Mono</td>\n      <td>14202</td>\n      <td>14312</td>\n      <td>14181</td>\n      <td>13865</td>\n      <td>13712</td>\n      <td>13674</td>\n      <td>13412</td>\n      <td>13425</td>\n      <td>13319</td>\n      <td>13305</td>\n      <td>13205</td>\n      <td>13191</td>\n      <td>12987</td>\n      <td>13193</td>\n      <td>12861</td>\n    </tr>\n    <tr>\n      <th>25</th>\n      <td>Monterey</td>\n      <td>415057</td>\n      <td>416582</td>\n      <td>422477</td>\n      <td>425742</td>\n      <td>427425</td>\n      <td>429887</td>\n      <td>434712</td>\n      <td>437800</td>\n      <td>438000</td>\n      <td>439477</td>\n      <td>439590</td>\n      <td>436803</td>\n      <td>436033</td>\n      <td>433953</td>\n      <td>437614</td>\n    </tr>\n    <tr>\n      <th>26</th>\n      <td>Napa</td>\n      <td>136484</td>\n      <td>136839</td>\n      <td>138249</td>\n      <td>138808</td>\n      <td>140114</td>\n      <td>140654</td>\n      <td>141119</td>\n      <td>140837</td>\n      <td>139786</td>\n      <td>138982</td>\n      <td>138304</td>\n      <td>137128</td>\n      <td>135564</td>\n      <td>134508</td>\n      <td>135029</td>\n    </tr>\n    <tr>\n      <th>27</th>\n      <td>Nevada</td>\n      <td>98764</td>\n      <td>99035</td>\n      <td>98896</td>\n      <td>99116</td>\n      <td>99490</td>\n      <td>100341</td>\n      <td>100793</td>\n      <td>100998</td>\n      <td>101640</td>\n      <td>101719</td>\n      <td>102259</td>\n      <td>101985</td>\n      <td>101080</td>\n      <td>100474</td>\n      <td>100177</td>\n    </tr>\n    <tr>\n      <th>28</th>\n      <td>Orange</td>\n      <td>3010232</td>\n      <td>3037811</td>\n      <td>3073792</td>\n      <td>3105236</td>\n      <td>3125985</td>\n      <td>3148491</td>\n      <td>3165028</td>\n      <td>3185541</td>\n      <td>3192479</td>\n      <td>3192408</td>\n      <td>3188326</td>\n      <td>3172352</td>\n      <td>3158071</td>\n      <td>3141065</td>\n      <td>3150835</td>\n    </tr>\n    <tr>\n      <th>29</th>\n      <td>Placer</td>\n      <td>348432</td>\n      <td>354618</td>\n      <td>360512</td>\n      <td>365195</td>\n      <td>369910</td>\n      <td>373578</td>\n      <td>379143</td>\n      <td>386586</td>\n      <td>392693</td>\n      <td>399659</td>\n      <td>403822</td>\n      <td>406443</td>\n      <td>407539</td>\n      <td>410085</td>\n      <td>412844</td>\n    </tr>\n    <tr>\n      <th>30</th>\n      <td>Plumas</td>\n      <td>20007</td>\n      <td>19977</td>\n      <td>19700</td>\n      <td>19345</td>\n      <td>19120</td>\n      <td>19035</td>\n      <td>19017</td>\n      <td>19365</td>\n      <td>19388</td>\n      <td>19655</td>\n      <td>19780</td>\n      <td>19626</td>\n      <td>19254</td>\n      <td>18993</td>\n      <td>18841</td>\n    </tr>\n    <tr>\n      <th>31</th>\n      <td>Riverside</td>\n      <td>2189641</td>\n      <td>2213474</td>\n      <td>2239478</td>\n      <td>2260809</td>\n      <td>2280208</td>\n      <td>2302000</td>\n      <td>2326213</td>\n      <td>2355286</td>\n      <td>2375547</td>\n      <td>2394094</td>\n      <td>2412908</td>\n      <td>2419165</td>\n      <td>2427832</td>\n      <td>2428580</td>\n      <td>2442378</td>\n    </tr>\n    <tr>\n      <th>32</th>\n      <td>Sacramento</td>\n      <td>1418788</td>\n      <td>1431665</td>\n      <td>1447519</td>\n      <td>1461786</td>\n      <td>1476829</td>\n      <td>1495130</td>\n      <td>1511942</td>\n      <td>1530548</td>\n      <td>1547095</td>\n      <td>1562887</td>\n      <td>1580826</td>\n      <td>1580120</td>\n      <td>1572254</td>\n      <td>1576639</td>\n      <td>1578938</td>\n    </tr>\n    <tr>\n      <th>33</th>\n      <td>San Benito</td>\n      <td>55269</td>\n      <td>55835</td>\n      <td>56778</td>\n      <td>57386</td>\n      <td>58212</td>\n      <td>58839</td>\n      <td>59563</td>\n      <td>60499</td>\n      <td>61143</td>\n      <td>62734</td>\n      <td>63931</td>\n      <td>64642</td>\n      <td>65642</td>\n      <td>65165</td>\n      <td>65853</td>\n    </tr>\n    <tr>\n      <th>34</th>\n      <td>San Bernardino</td>\n      <td>2035210</td>\n      <td>2055566</td>\n      <td>2072061</td>\n      <td>2085599</td>\n      <td>2096526</td>\n      <td>2114182</td>\n      <td>2124990</td>\n      <td>2142339</td>\n      <td>2153258</td>\n      <td>2169538</td>\n      <td>2179505</td>\n      <td>2179006</td>\n      <td>2179845</td>\n      <td>2172694</td>\n      <td>2181433</td>\n    </tr>\n    <tr>\n      <th>35</th>\n      <td>San Diego</td>\n      <td>3095313</td>\n      <td>3124985</td>\n      <td>3155715</td>\n      <td>3190323</td>\n      <td>3219710</td>\n      <td>3248180</td>\n      <td>3263004</td>\n      <td>3279856</td>\n      <td>3294139</td>\n      <td>3302865</td>\n      <td>3297350</td>\n      <td>3286880</td>\n      <td>3278730</td>\n      <td>3290423</td>\n      <td>3291101</td>\n    </tr>\n    <tr>\n      <th>36</th>\n      <td>San Francisco</td>\n      <td>805235</td>\n      <td>815714</td>\n      <td>826354</td>\n      <td>839556</td>\n      <td>846661</td>\n      <td>855489</td>\n      <td>861977</td>\n      <td>867378</td>\n      <td>872724</td>\n      <td>872219</td>\n      <td>873444</td>\n      <td>855338</td>\n      <td>840575</td>\n      <td>842224</td>\n      <td>843071</td>\n    </tr>\n    <tr>\n      <th>37</th>\n      <td>San Joaquin</td>\n      <td>685306</td>\n      <td>692465</td>\n      <td>699719</td>\n      <td>705545</td>\n      <td>712387</td>\n      <td>724185</td>\n      <td>735670</td>\n      <td>747119</td>\n      <td>755573</td>\n      <td>767324</td>\n      <td>776794</td>\n      <td>780320</td>\n      <td>782163</td>\n      <td>783903</td>\n      <td>791408</td>\n    </tr>\n    <tr>\n      <th>38</th>\n      <td>San Luis Obispo</td>\n      <td>269637</td>\n      <td>270396</td>\n      <td>272951</td>\n      <td>275482</td>\n      <td>278272</td>\n      <td>279620</td>\n      <td>281046</td>\n      <td>282284</td>\n      <td>282754</td>\n      <td>282935</td>\n      <td>282484</td>\n      <td>278737</td>\n      <td>279439</td>\n      <td>279818</td>\n      <td>278469</td>\n    </tr>\n    <tr>\n      <th>39</th>\n      <td>San Mateo</td>\n      <td>718451</td>\n      <td>726265</td>\n      <td>735915</td>\n      <td>745842</td>\n      <td>751906</td>\n      <td>758673</td>\n      <td>763530</td>\n      <td>765207</td>\n      <td>766114</td>\n      <td>765726</td>\n      <td>765009</td>\n      <td>756636</td>\n      <td>742051</td>\n      <td>745302</td>\n      <td>741565</td>\n    </tr>\n    <tr>\n      <th>40</th>\n      <td>Santa Barbara</td>\n      <td>423895</td>\n      <td>424822</td>\n      <td>427960</td>\n      <td>432485</td>\n      <td>437066</td>\n      <td>440902</td>\n      <td>444102</td>\n      <td>445716</td>\n      <td>447377</td>\n      <td>447907</td>\n      <td>448408</td>\n      <td>441552</td>\n      <td>443074</td>\n      <td>442342</td>\n      <td>443623</td>\n    </tr>\n    <tr>\n      <th>41</th>\n      <td>Santa Clara</td>\n      <td>1781642</td>\n      <td>1805407</td>\n      <td>1833344</td>\n      <td>1861489</td>\n      <td>1883691</td>\n      <td>1907380</td>\n      <td>1923243</td>\n      <td>1930897</td>\n      <td>1936569</td>\n      <td>1936821</td>\n      <td>1936352</td>\n      <td>1913779</td>\n      <td>1895752</td>\n      <td>1902799</td>\n      <td>1903198</td>\n    </tr>\n    <tr>\n      <th>42</th>\n      <td>Santa Cruz</td>\n      <td>262382</td>\n      <td>265364</td>\n      <td>267492</td>\n      <td>269714</td>\n      <td>271559</td>\n      <td>274207</td>\n      <td>275625</td>\n      <td>275410</td>\n      <td>274274</td>\n      <td>272618</td>\n      <td>271259</td>\n      <td>265533</td>\n      <td>264495</td>\n      <td>263338</td>\n      <td>262572</td>\n    </tr>\n    <tr>\n      <th>43</th>\n      <td>Shasta</td>\n      <td>177223</td>\n      <td>178218</td>\n      <td>178865</td>\n      <td>180106</td>\n      <td>180826</td>\n      <td>181253</td>\n      <td>180374</td>\n      <td>180810</td>\n      <td>181792</td>\n      <td>181573</td>\n      <td>181926</td>\n      <td>181483</td>\n      <td>180206</td>\n      <td>179122</td>\n      <td>179195</td>\n    </tr>\n    <tr>\n      <th>44</th>\n      <td>Sierra</td>\n      <td>3240</td>\n      <td>3244</td>\n      <td>3239</td>\n      <td>3225</td>\n      <td>3218</td>\n      <td>3214</td>\n      <td>3222</td>\n      <td>3236</td>\n      <td>3243</td>\n      <td>3241</td>\n      <td>3235</td>\n      <td>3225</td>\n      <td>3205</td>\n      <td>3187</td>\n      <td>3171</td>\n    </tr>\n    <tr>\n      <th>45</th>\n      <td>Siskiyou</td>\n      <td>44900</td>\n      <td>44937</td>\n      <td>44778</td>\n      <td>44726</td>\n      <td>44674</td>\n      <td>44550</td>\n      <td>44497</td>\n      <td>44377</td>\n      <td>44315</td>\n      <td>44273</td>\n      <td>44111</td>\n      <td>43905</td>\n      <td>43571</td>\n      <td>43479</td>\n      <td>43409</td>\n    </tr>\n    <tr>\n      <th>46</th>\n      <td>Solano</td>\n      <td>413344</td>\n      <td>414084</td>\n      <td>418963</td>\n      <td>423373</td>\n      <td>428671</td>\n      <td>433545</td>\n      <td>438420</td>\n      <td>444713</td>\n      <td>447744</td>\n      <td>450545</td>\n      <td>452957</td>\n      <td>450122</td>\n      <td>447027</td>\n      <td>445506</td>\n      <td>446426</td>\n    </tr>\n    <tr>\n      <th>47</th>\n      <td>Sonoma</td>\n      <td>483878</td>\n      <td>485975</td>\n      <td>488601</td>\n      <td>492751</td>\n      <td>496615</td>\n      <td>499963</td>\n      <td>501553</td>\n      <td>502454</td>\n      <td>499410</td>\n      <td>494708</td>\n      <td>490008</td>\n      <td>484459</td>\n      <td>479654</td>\n      <td>479445</td>\n      <td>478152</td>\n    </tr>\n    <tr>\n      <th>48</th>\n      <td>Stanislaus</td>\n      <td>514453</td>\n      <td>517840</td>\n      <td>521723</td>\n      <td>525173</td>\n      <td>528123</td>\n      <td>532534</td>\n      <td>537785</td>\n      <td>545273</td>\n      <td>548363</td>\n      <td>550947</td>\n      <td>552488</td>\n      <td>551342</td>\n      <td>548215</td>\n      <td>545753</td>\n      <td>548744</td>\n    </tr>\n    <tr>\n      <th>49</th>\n      <td>State Total</td>\n      <td>37253956</td>\n      <td>37552880</td>\n      <td>37904303</td>\n      <td>38237859</td>\n      <td>38513119</td>\n      <td>38810306</td>\n      <td>39036749</td>\n      <td>39273915</td>\n      <td>39429439</td>\n      <td>39503656</td>\n      <td>39535623</td>\n      <td>39327868</td>\n      <td>39114785</td>\n      <td>39061058</td>\n      <td>39128162</td>\n    </tr>\n    <tr>\n      <th>50</th>\n      <td>Sutter</td>\n      <td>94737</td>\n      <td>94535</td>\n      <td>94718</td>\n      <td>94496</td>\n      <td>95103</td>\n      <td>95421</td>\n      <td>96065</td>\n      <td>97649</td>\n      <td>99498</td>\n      <td>101531</td>\n      <td>100058</td>\n      <td>99089</td>\n      <td>99153</td>\n      <td>98248</td>\n      <td>100110</td>\n    </tr>\n    <tr>\n      <th>51</th>\n      <td>Tehama</td>\n      <td>63463</td>\n      <td>63337</td>\n      <td>63202</td>\n      <td>63257</td>\n      <td>63067</td>\n      <td>63405</td>\n      <td>64017</td>\n      <td>64304</td>\n      <td>64789</td>\n      <td>65030</td>\n      <td>65674</td>\n      <td>65336</td>\n      <td>64942</td>\n      <td>64710</td>\n      <td>64308</td>\n    </tr>\n    <tr>\n      <th>52</th>\n      <td>Trinity</td>\n      <td>13786</td>\n      <td>13945</td>\n      <td>14193</td>\n      <td>14442</td>\n      <td>14692</td>\n      <td>14906</td>\n      <td>15136</td>\n      <td>15381</td>\n      <td>15642</td>\n      <td>15898</td>\n      <td>16070</td>\n      <td>16054</td>\n      <td>15971</td>\n      <td>15944</td>\n      <td>15915</td>\n    </tr>\n    <tr>\n      <th>53</th>\n      <td>Tulare</td>\n      <td>442179</td>\n      <td>445415</td>\n      <td>449884</td>\n      <td>453530</td>\n      <td>455774</td>\n      <td>458186</td>\n      <td>461170</td>\n      <td>463514</td>\n      <td>466766</td>\n      <td>469228</td>\n      <td>472371</td>\n      <td>474000</td>\n      <td>474624</td>\n      <td>474680</td>\n      <td>478918</td>\n    </tr>\n    <tr>\n      <th>54</th>\n      <td>Tuolumne</td>\n      <td>55365</td>\n      <td>55306</td>\n      <td>55100</td>\n      <td>55109</td>\n      <td>55315</td>\n      <td>54956</td>\n      <td>55303</td>\n      <td>55133</td>\n      <td>55213</td>\n      <td>55074</td>\n      <td>55529</td>\n      <td>54827</td>\n      <td>54500</td>\n      <td>54626</td>\n      <td>54407</td>\n    </tr>\n    <tr>\n      <th>55</th>\n      <td>Ventura</td>\n      <td>823318</td>\n      <td>830196</td>\n      <td>835510</td>\n      <td>841501</td>\n      <td>846456</td>\n      <td>849950</td>\n      <td>851155</td>\n      <td>850424</td>\n      <td>850604</td>\n      <td>847064</td>\n      <td>844339</td>\n      <td>839916</td>\n      <td>831531</td>\n      <td>825960</td>\n      <td>823863</td>\n    </tr>\n    <tr>\n      <th>56</th>\n      <td>Yolo</td>\n      <td>200849</td>\n      <td>202769</td>\n      <td>204087</td>\n      <td>206386</td>\n      <td>206708</td>\n      <td>208343</td>\n      <td>211938</td>\n      <td>214387</td>\n      <td>215708</td>\n      <td>215874</td>\n      <td>216306</td>\n      <td>214911</td>\n      <td>220176</td>\n      <td>220454</td>\n      <td>221666</td>\n    </tr>\n    <tr>\n      <th>57</th>\n      <td>Yuba</td>\n      <td>72155</td>\n      <td>72841</td>\n      <td>73501</td>\n      <td>74114</td>\n      <td>74755</td>\n      <td>75374</td>\n      <td>76245</td>\n      <td>77751</td>\n      <td>78751</td>\n      <td>79619</td>\n      <td>81178</td>\n      <td>81917</td>\n      <td>82234</td>\n      <td>82814</td>\n      <td>83721</td>\n    </tr>\n  </tbody>\n</table>\n</div>"
     },
     "execution_count": 10,
     "metadata": {},
     "output_type": "execute_result"
    }
   ],
   "source": [
    "# merging the two\n",
    "merged_pop_df = pd.merge(df1, df2, on=['County'], how='outer')\n",
    "merged_pop_df"
   ],
   "metadata": {
    "collapsed": false,
    "ExecuteTime": {
     "end_time": "2024-09-30T18:06:02.805464Z",
     "start_time": "2024-09-30T18:06:02.789795Z"
    }
   },
   "id": "bab33d4c7241c97",
   "execution_count": 10
  },
  {
   "cell_type": "code",
   "outputs": [
    {
     "data": {
      "text/plain": "                   County Data Year  Population   Z Score\n0    Alameda                   2010     1510271  0.033519\n1    Amador                    2010       38091 -0.251576\n2    Butte                     2010      220000 -0.216348\n3    Calaveras                 2010       45578 -0.250126\n4    Colusa                    2010       21419 -0.254805\n..                    ...       ...         ...       ...\n865  Tulare                    2024      478918 -0.166208\n866  Tuolumne                  2024       54407 -0.248416\n867  Ventura                   2024      823863 -0.099407\n868  Yolo                      2024      221666 -0.216026\n869  Yuba                      2024       83721 -0.242740\n\n[870 rows x 4 columns]",
      "text/html": "<div>\n<style scoped>\n    .dataframe tbody tr th:only-of-type {\n        vertical-align: middle;\n    }\n\n    .dataframe tbody tr th {\n        vertical-align: top;\n    }\n\n    .dataframe thead th {\n        text-align: right;\n    }\n</style>\n<table border=\"1\" class=\"dataframe\">\n  <thead>\n    <tr style=\"text-align: right;\">\n      <th></th>\n      <th>County</th>\n      <th>Data Year</th>\n      <th>Population</th>\n      <th>Z Score</th>\n    </tr>\n  </thead>\n  <tbody>\n    <tr>\n      <th>0</th>\n      <td>Alameda</td>\n      <td>2010</td>\n      <td>1510271</td>\n      <td>0.033519</td>\n    </tr>\n    <tr>\n      <th>1</th>\n      <td>Amador</td>\n      <td>2010</td>\n      <td>38091</td>\n      <td>-0.251576</td>\n    </tr>\n    <tr>\n      <th>2</th>\n      <td>Butte</td>\n      <td>2010</td>\n      <td>220000</td>\n      <td>-0.216348</td>\n    </tr>\n    <tr>\n      <th>3</th>\n      <td>Calaveras</td>\n      <td>2010</td>\n      <td>45578</td>\n      <td>-0.250126</td>\n    </tr>\n    <tr>\n      <th>4</th>\n      <td>Colusa</td>\n      <td>2010</td>\n      <td>21419</td>\n      <td>-0.254805</td>\n    </tr>\n    <tr>\n      <th>...</th>\n      <td>...</td>\n      <td>...</td>\n      <td>...</td>\n      <td>...</td>\n    </tr>\n    <tr>\n      <th>865</th>\n      <td>Tulare</td>\n      <td>2024</td>\n      <td>478918</td>\n      <td>-0.166208</td>\n    </tr>\n    <tr>\n      <th>866</th>\n      <td>Tuolumne</td>\n      <td>2024</td>\n      <td>54407</td>\n      <td>-0.248416</td>\n    </tr>\n    <tr>\n      <th>867</th>\n      <td>Ventura</td>\n      <td>2024</td>\n      <td>823863</td>\n      <td>-0.099407</td>\n    </tr>\n    <tr>\n      <th>868</th>\n      <td>Yolo</td>\n      <td>2024</td>\n      <td>221666</td>\n      <td>-0.216026</td>\n    </tr>\n    <tr>\n      <th>869</th>\n      <td>Yuba</td>\n      <td>2024</td>\n      <td>83721</td>\n      <td>-0.242740</td>\n    </tr>\n  </tbody>\n</table>\n<p>870 rows × 4 columns</p>\n</div>"
     },
     "execution_count": 11,
     "metadata": {},
     "output_type": "execute_result"
    }
   ],
   "source": [
    "# pivoting table\n",
    "pop_df = pd.melt(merged_pop_df, id_vars=['County'], var_name='Year', value_name='Population')\n",
    "\n",
    "pop_df['Year'] = pop_df['Year'].str.replace(\":\", \"\", regex=False)\n",
    "pop_df.rename(columns={'Year': 'Data Year'}, inplace=True) \n",
    "# converting the 'Population' column to numeric \n",
    "pop_df['Population'] = pd.to_numeric(pop_df['Population'], errors='coerce')\n",
    "# calculating the Z-score for the 'Population' column\n",
    "pop_df['Z Score'] = zscore(pop_df['Population'])\n",
    "\n",
    "pop_df"
   ],
   "metadata": {
    "collapsed": false,
    "ExecuteTime": {
     "end_time": "2024-09-30T18:06:02.814010Z",
     "start_time": "2024-09-30T18:06:02.806078Z"
    }
   },
   "id": "e6dec1cf2203c054",
   "execution_count": 11
  },
  {
   "cell_type": "code",
   "outputs": [],
   "source": [
    " # convert to csv\n",
    "pop_df.to_csv('./California_Population.csv', index=False)"
   ],
   "metadata": {
    "collapsed": false,
    "ExecuteTime": {
     "end_time": "2024-09-30T18:06:02.824005Z",
     "start_time": "2024-09-30T18:06:02.817618Z"
    }
   },
   "id": "17505eba3c937b85",
   "execution_count": 12
  },
  {
   "cell_type": "code",
   "outputs": [],
   "source": [],
   "metadata": {
    "collapsed": false,
    "ExecuteTime": {
     "end_time": "2024-09-30T18:06:02.826043Z",
     "start_time": "2024-09-30T18:06:02.824847Z"
    }
   },
   "id": "9b344e94e1bbc760",
   "execution_count": 12
  }
 ],
 "metadata": {
  "kernelspec": {
   "display_name": "Python 3",
   "language": "python",
   "name": "python3"
  },
  "language_info": {
   "codemirror_mode": {
    "name": "ipython",
    "version": 2
   },
   "file_extension": ".py",
   "mimetype": "text/x-python",
   "name": "python",
   "nbconvert_exporter": "python",
   "pygments_lexer": "ipython2",
   "version": "2.7.6"
  }
 },
 "nbformat": 4,
 "nbformat_minor": 5
}
