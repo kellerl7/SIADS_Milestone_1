{
 "cells": [
  {
   "cell_type": "code",
   "outputs": [],
   "source": [
    "import os\n",
    "\n",
    "# import\n",
    "import pandas as pd"
   ],
   "metadata": {
    "collapsed": false,
    "ExecuteTime": {
     "end_time": "2024-09-28T20:39:11.448536Z",
     "start_time": "2024-09-28T20:39:10.763314Z"
    }
   },
   "id": "21a52acad280b471",
   "execution_count": 1
  },
  {
   "cell_type": "code",
   "outputs": [],
   "source": [
    "# import files \n",
    "main_df = pd.read_csv('../PM2.5_Vehicles_Population.csv')\n",
    "df_pop = pd.read_csv('../California_Population.csv') "
   ],
   "metadata": {
    "collapsed": false,
    "ExecuteTime": {
     "end_time": "2024-09-28T20:39:11.480918Z",
     "start_time": "2024-09-28T20:39:11.456591Z"
    }
   },
   "id": "e1920ddc5805565",
   "execution_count": 2
  },
  {
   "cell_type": "code",
   "outputs": [
    {
     "data": {
      "text/plain": "        County  Data Year  Total Population  Total Population Z Score  \\\n0      Alameda       2010           1510271                  0.033519   \n1       Amador       2010             38091                 -0.251576   \n2        Butte       2010            220000                 -0.216348   \n3    Calaveras       2010             45578                 -0.250126   \n4       Colusa       2010             21419                 -0.254805   \n..         ...        ...               ...                       ...   \n793     Tulare       2023            474680                 -0.167028   \n794   Tuolumne       2023             54626                 -0.248374   \n795    Ventura       2023            825960                 -0.099001   \n796       Yolo       2023            220454                 -0.216260   \n797       Yuba       2023             82814                 -0.242915   \n\n     Number of Gas Cars  Number of EV  Population_y  Z Score_y  \n0                885402            20       1510271   0.033519  \n1                 30480             1         38091  -0.251576  \n2                133169             0        220000  -0.216348  \n3                 39636             0         45578  -0.250126  \n4                 14610             0         21419  -0.254805  \n..                  ...           ...           ...        ...  \n793              331744          3837        474680  -0.167028  \n794               54369           698         54626  -0.248374  \n795              651851         31980        825960  -0.099001  \n796              152560          6757        220454  -0.216260  \n797               57567           961         82814  -0.242915  \n\n[798 rows x 8 columns]",
      "text/html": "<div>\n<style scoped>\n    .dataframe tbody tr th:only-of-type {\n        vertical-align: middle;\n    }\n\n    .dataframe tbody tr th {\n        vertical-align: top;\n    }\n\n    .dataframe thead th {\n        text-align: right;\n    }\n</style>\n<table border=\"1\" class=\"dataframe\">\n  <thead>\n    <tr style=\"text-align: right;\">\n      <th></th>\n      <th>County</th>\n      <th>Data Year</th>\n      <th>Total Population</th>\n      <th>Total Population Z Score</th>\n      <th>Number of Gas Cars</th>\n      <th>Number of EV</th>\n      <th>Population_y</th>\n      <th>Z Score_y</th>\n    </tr>\n  </thead>\n  <tbody>\n    <tr>\n      <th>0</th>\n      <td>Alameda</td>\n      <td>2010</td>\n      <td>1510271</td>\n      <td>0.033519</td>\n      <td>885402</td>\n      <td>20</td>\n      <td>1510271</td>\n      <td>0.033519</td>\n    </tr>\n    <tr>\n      <th>1</th>\n      <td>Amador</td>\n      <td>2010</td>\n      <td>38091</td>\n      <td>-0.251576</td>\n      <td>30480</td>\n      <td>1</td>\n      <td>38091</td>\n      <td>-0.251576</td>\n    </tr>\n    <tr>\n      <th>2</th>\n      <td>Butte</td>\n      <td>2010</td>\n      <td>220000</td>\n      <td>-0.216348</td>\n      <td>133169</td>\n      <td>0</td>\n      <td>220000</td>\n      <td>-0.216348</td>\n    </tr>\n    <tr>\n      <th>3</th>\n      <td>Calaveras</td>\n      <td>2010</td>\n      <td>45578</td>\n      <td>-0.250126</td>\n      <td>39636</td>\n      <td>0</td>\n      <td>45578</td>\n      <td>-0.250126</td>\n    </tr>\n    <tr>\n      <th>4</th>\n      <td>Colusa</td>\n      <td>2010</td>\n      <td>21419</td>\n      <td>-0.254805</td>\n      <td>14610</td>\n      <td>0</td>\n      <td>21419</td>\n      <td>-0.254805</td>\n    </tr>\n    <tr>\n      <th>...</th>\n      <td>...</td>\n      <td>...</td>\n      <td>...</td>\n      <td>...</td>\n      <td>...</td>\n      <td>...</td>\n      <td>...</td>\n      <td>...</td>\n    </tr>\n    <tr>\n      <th>793</th>\n      <td>Tulare</td>\n      <td>2023</td>\n      <td>474680</td>\n      <td>-0.167028</td>\n      <td>331744</td>\n      <td>3837</td>\n      <td>474680</td>\n      <td>-0.167028</td>\n    </tr>\n    <tr>\n      <th>794</th>\n      <td>Tuolumne</td>\n      <td>2023</td>\n      <td>54626</td>\n      <td>-0.248374</td>\n      <td>54369</td>\n      <td>698</td>\n      <td>54626</td>\n      <td>-0.248374</td>\n    </tr>\n    <tr>\n      <th>795</th>\n      <td>Ventura</td>\n      <td>2023</td>\n      <td>825960</td>\n      <td>-0.099001</td>\n      <td>651851</td>\n      <td>31980</td>\n      <td>825960</td>\n      <td>-0.099001</td>\n    </tr>\n    <tr>\n      <th>796</th>\n      <td>Yolo</td>\n      <td>2023</td>\n      <td>220454</td>\n      <td>-0.216260</td>\n      <td>152560</td>\n      <td>6757</td>\n      <td>220454</td>\n      <td>-0.216260</td>\n    </tr>\n    <tr>\n      <th>797</th>\n      <td>Yuba</td>\n      <td>2023</td>\n      <td>82814</td>\n      <td>-0.242915</td>\n      <td>57567</td>\n      <td>961</td>\n      <td>82814</td>\n      <td>-0.242915</td>\n    </tr>\n  </tbody>\n</table>\n<p>798 rows × 8 columns</p>\n</div>"
     },
     "execution_count": 3,
     "metadata": {},
     "output_type": "execute_result"
    }
   ],
   "source": [
    "main_df\n",
    "# main_df['Population Z Score'] = main_df['Population Z Score'].round(2)"
   ],
   "metadata": {
    "collapsed": false,
    "ExecuteTime": {
     "end_time": "2024-09-28T20:39:11.515439Z",
     "start_time": "2024-09-28T20:39:11.487539Z"
    }
   },
   "id": "64c6accf7030fc0a",
   "execution_count": 3
  },
  {
   "cell_type": "code",
   "outputs": [],
   "source": [
    "# total regestered car users/population \n",
    "def create_comparison(county):\n",
    "    df = main_df[main_df['County'] == county]\n",
    "    df.loc[:,'Total Cars'] = df['Number of Gas Cars'] + df['Number of EV']\n",
    "    df.loc[:,'Total Cars/Population'] = (df['Total Cars'] / df['Total Population']).round(2)\n",
    "    df.loc[:,'EV/Total Cars'] = (df['Number of EV'] / df['Total Cars']).round(2)\n",
    "    df.loc[:,'Gas/Total Cars'] = (df['Number of Gas Cars'] / df['Total Cars']).round(2)\n",
    "    return df[['Total Population Z Score','Total Cars/Population', 'EV/Total Cars', 'Gas/Total Cars']] \n"
   ],
   "metadata": {
    "collapsed": false,
    "ExecuteTime": {
     "end_time": "2024-09-28T20:39:11.519942Z",
     "start_time": "2024-09-28T20:39:11.516964Z"
    }
   },
   "id": "e9804d930dda2b1c",
   "execution_count": 4
  },
  {
   "cell_type": "code",
   "outputs": [],
   "source": [
    "# so as more people got cars, more ev were regestered. \n",
    "# what is the relationship between population growth and ev adaptation?\n",
    "## it seems to be positive, direct relationship \n",
    "## so as more population increases, ev car adaption also increases. i wonder if this is the same across counties? "
   ],
   "metadata": {
    "collapsed": false,
    "ExecuteTime": {
     "end_time": "2024-09-28T20:39:11.540132Z",
     "start_time": "2024-09-28T20:39:11.535769Z"
    }
   },
   "id": "d0801841e44c3b1d",
   "execution_count": 5
  },
  {
   "cell_type": "code",
   "outputs": [
    {
     "name": "stderr",
     "output_type": "stream",
     "text": [
      "/var/folders/zc/cqjcs2293rz1ymjq5gj5xxb00000gn/T/ipykernel_48848/4196075774.py:4: SettingWithCopyWarning: \n",
      "A value is trying to be set on a copy of a slice from a DataFrame.\n",
      "Try using .loc[row_indexer,col_indexer] = value instead\n",
      "\n",
      "See the caveats in the documentation: https://pandas.pydata.org/pandas-docs/stable/user_guide/indexing.html#returning-a-view-versus-a-copy\n",
      "  df.loc[:,'Total Cars'] = df['Number of Gas Cars'] + df['Number of EV']\n",
      "/var/folders/zc/cqjcs2293rz1ymjq5gj5xxb00000gn/T/ipykernel_48848/4196075774.py:5: SettingWithCopyWarning: \n",
      "A value is trying to be set on a copy of a slice from a DataFrame.\n",
      "Try using .loc[row_indexer,col_indexer] = value instead\n",
      "\n",
      "See the caveats in the documentation: https://pandas.pydata.org/pandas-docs/stable/user_guide/indexing.html#returning-a-view-versus-a-copy\n",
      "  df.loc[:,'Total Cars/Population'] = (df['Total Cars'] / df['Total Population']).round(2)\n",
      "/var/folders/zc/cqjcs2293rz1ymjq5gj5xxb00000gn/T/ipykernel_48848/4196075774.py:6: SettingWithCopyWarning: \n",
      "A value is trying to be set on a copy of a slice from a DataFrame.\n",
      "Try using .loc[row_indexer,col_indexer] = value instead\n",
      "\n",
      "See the caveats in the documentation: https://pandas.pydata.org/pandas-docs/stable/user_guide/indexing.html#returning-a-view-versus-a-copy\n",
      "  df.loc[:,'EV/Total Cars'] = (df['Number of EV'] / df['Total Cars']).round(2)\n",
      "/var/folders/zc/cqjcs2293rz1ymjq5gj5xxb00000gn/T/ipykernel_48848/4196075774.py:7: SettingWithCopyWarning: \n",
      "A value is trying to be set on a copy of a slice from a DataFrame.\n",
      "Try using .loc[row_indexer,col_indexer] = value instead\n",
      "\n",
      "See the caveats in the documentation: https://pandas.pydata.org/pandas-docs/stable/user_guide/indexing.html#returning-a-view-versus-a-copy\n",
      "  df.loc[:,'Gas/Total Cars'] = (df['Number of Gas Cars'] / df['Total Cars']).round(2)\n"
     ]
    },
    {
     "data": {
      "text/plain": "     Total Population Z Score  Total Cars/Population  EV/Total Cars  \\\n35                   0.340471                   0.62           0.00   \n92                   0.346217                   0.61           0.00   \n149                  0.352168                   0.61           0.00   \n206                  0.358870                   0.63           0.00   \n263                  0.364561                   0.64           0.00   \n320                  0.370074                   0.65           0.01   \n377                  0.372945                   0.67           0.01   \n434                  0.376209                   0.75           0.01   \n491                  0.378975                   0.75           0.01   \n548                  0.380665                   0.76           0.02   \n605                  0.379597                   0.75           0.02   \n662                  0.377569                   0.79           0.03   \n719                  0.375991                   0.78           0.04   \n776                  0.378255                   0.78           0.05   \n\n     Gas/Total Cars  \n35             1.00  \n92             1.00  \n149            1.00  \n206            1.00  \n263            1.00  \n320            0.99  \n377            0.99  \n434            0.99  \n491            0.99  \n548            0.98  \n605            0.98  \n662            0.97  \n719            0.96  \n776            0.95  ",
      "text/html": "<div>\n<style scoped>\n    .dataframe tbody tr th:only-of-type {\n        vertical-align: middle;\n    }\n\n    .dataframe tbody tr th {\n        vertical-align: top;\n    }\n\n    .dataframe thead th {\n        text-align: right;\n    }\n</style>\n<table border=\"1\" class=\"dataframe\">\n  <thead>\n    <tr style=\"text-align: right;\">\n      <th></th>\n      <th>Total Population Z Score</th>\n      <th>Total Cars/Population</th>\n      <th>EV/Total Cars</th>\n      <th>Gas/Total Cars</th>\n    </tr>\n  </thead>\n  <tbody>\n    <tr>\n      <th>35</th>\n      <td>0.340471</td>\n      <td>0.62</td>\n      <td>0.00</td>\n      <td>1.00</td>\n    </tr>\n    <tr>\n      <th>92</th>\n      <td>0.346217</td>\n      <td>0.61</td>\n      <td>0.00</td>\n      <td>1.00</td>\n    </tr>\n    <tr>\n      <th>149</th>\n      <td>0.352168</td>\n      <td>0.61</td>\n      <td>0.00</td>\n      <td>1.00</td>\n    </tr>\n    <tr>\n      <th>206</th>\n      <td>0.358870</td>\n      <td>0.63</td>\n      <td>0.00</td>\n      <td>1.00</td>\n    </tr>\n    <tr>\n      <th>263</th>\n      <td>0.364561</td>\n      <td>0.64</td>\n      <td>0.00</td>\n      <td>1.00</td>\n    </tr>\n    <tr>\n      <th>320</th>\n      <td>0.370074</td>\n      <td>0.65</td>\n      <td>0.01</td>\n      <td>0.99</td>\n    </tr>\n    <tr>\n      <th>377</th>\n      <td>0.372945</td>\n      <td>0.67</td>\n      <td>0.01</td>\n      <td>0.99</td>\n    </tr>\n    <tr>\n      <th>434</th>\n      <td>0.376209</td>\n      <td>0.75</td>\n      <td>0.01</td>\n      <td>0.99</td>\n    </tr>\n    <tr>\n      <th>491</th>\n      <td>0.378975</td>\n      <td>0.75</td>\n      <td>0.01</td>\n      <td>0.99</td>\n    </tr>\n    <tr>\n      <th>548</th>\n      <td>0.380665</td>\n      <td>0.76</td>\n      <td>0.02</td>\n      <td>0.98</td>\n    </tr>\n    <tr>\n      <th>605</th>\n      <td>0.379597</td>\n      <td>0.75</td>\n      <td>0.02</td>\n      <td>0.98</td>\n    </tr>\n    <tr>\n      <th>662</th>\n      <td>0.377569</td>\n      <td>0.79</td>\n      <td>0.03</td>\n      <td>0.97</td>\n    </tr>\n    <tr>\n      <th>719</th>\n      <td>0.375991</td>\n      <td>0.78</td>\n      <td>0.04</td>\n      <td>0.96</td>\n    </tr>\n    <tr>\n      <th>776</th>\n      <td>0.378255</td>\n      <td>0.78</td>\n      <td>0.05</td>\n      <td>0.95</td>\n    </tr>\n  </tbody>\n</table>\n</div>"
     },
     "execution_count": 6,
     "metadata": {},
     "output_type": "execute_result"
    }
   ],
   "source": [
    "san_diego = create_comparison('San Diego')\n",
    "san_diego"
   ],
   "metadata": {
    "collapsed": false,
    "ExecuteTime": {
     "end_time": "2024-09-28T20:39:11.565629Z",
     "start_time": "2024-09-28T20:39:11.540732Z"
    }
   },
   "id": "54e337ecb9517446",
   "execution_count": 6
  },
  {
   "cell_type": "code",
   "outputs": [],
   "source": [
    " # los_angeles = create_comparison('Los Angeles')\n",
    "# los_angeles"
   ],
   "metadata": {
    "collapsed": false,
    "ExecuteTime": {
     "end_time": "2024-09-28T20:39:11.567936Z",
     "start_time": "2024-09-28T20:39:11.566425Z"
    }
   },
   "id": "5d4031cf5e26d839",
   "execution_count": 7
  },
  {
   "cell_type": "code",
   "outputs": [],
   "source": [
    "# orange = create_comparison('Orange')\n",
    "# orange"
   ],
   "metadata": {
    "collapsed": false,
    "ExecuteTime": {
     "end_time": "2024-09-28T20:39:11.570838Z",
     "start_time": "2024-09-28T20:39:11.568515Z"
    }
   },
   "id": "e07223ab3c8ca3f1",
   "execution_count": 8
  },
  {
   "cell_type": "code",
   "outputs": [],
   "source": [
    "# san_fran =  create_comparison('San Francisco')\n",
    "# san_fran"
   ],
   "metadata": {
    "collapsed": false,
    "ExecuteTime": {
     "end_time": "2024-09-28T20:39:11.572925Z",
     "start_time": "2024-09-28T20:39:11.571503Z"
    }
   },
   "id": "4acce750147f2119",
   "execution_count": 9
  },
  {
   "cell_type": "code",
   "outputs": [],
   "source": [
    "# mono = create_comparison('Mono')\n",
    "# mono "
   ],
   "metadata": {
    "collapsed": false,
    "ExecuteTime": {
     "end_time": "2024-09-28T20:39:11.574962Z",
     "start_time": "2024-09-28T20:39:11.573540Z"
    }
   },
   "id": "911c6e23c4588b49",
   "execution_count": 10
  },
  {
   "cell_type": "code",
   "outputs": [],
   "source": [
    "# is this crazy?\n",
    "# function takes dataset from online and turns it into a merge-able df for main_df "
   ],
   "metadata": {
    "collapsed": false,
    "ExecuteTime": {
     "end_time": "2024-09-28T20:39:11.576975Z",
     "start_time": "2024-09-28T20:39:11.575495Z"
    }
   },
   "id": "fc9ad87dd8e13bb5",
   "execution_count": 11
  },
  {
   "cell_type": "code",
   "outputs": [],
   "source": [
    "def aged_population(dataset, datayear):\n",
    "    # load files \n",
    "    df = pd.read_csv(dataset)\n",
    "    df = df[df['Label (Grouping)'].str.strip() == '18 years and over']\n",
    "    df = df[df['Label (Grouping)'].str.contains('18 years and over', case=False, na=False)]\n",
    "    # extract unique county names\n",
    "    county_names = [col.split(\"!!\")[0] for col in df.columns if \"California\" in col]\n",
    "    county_names = list(set(county_names))\n",
    "    # extract county total and margin of error from main dataset\n",
    "    county_total = [f\"{county}!!Total!!Estimate\" for county in county_names]\n",
    "    county_margin_of_error = [f\"{county}!!Total!!Margin of Error\" for county in county_names]\n",
    "    # making df of those\n",
    "    county_total = df.loc[:, county_total]\n",
    "    county_margin_of_error = df.loc[:, county_margin_of_error]\n",
    "    # creating county total population estimate df \n",
    "    ct_df =county_total.transpose()\n",
    "    ct_df = ct_df.reset_index() \n",
    "    # some years record >21, others >18. \n",
    "    ct_df.columns = ['County' , 'Population Estimate, >18']\n",
    "    ct_df['County'] = ct_df['County'].str.split(' County').str[0]\n",
    "    ct_df = ct_df.sort_values(by='County', ascending=True).reset_index(drop=True)\n",
    "    \n",
    "    # creating county margin of error \n",
    "    me_df = county_margin_of_error.transpose()\n",
    "    me_df = me_df.reset_index() \n",
    "    me_df.columns = ['County' , 'Population Margin of Error, >18']\n",
    "    me_df['County'] = me_df['County'].str.split(' County').str[0]\n",
    "    me_df = me_df.sort_values(by='County', ascending=True).reset_index(drop=True) \n",
    "    \n",
    "    # merging on county \n",
    "    ct_me_df = pd.merge(ct_df, me_df, how='inner', on = ['County'])\n",
    "    ct_me_df['Data Year'] = datayear\n",
    "    return ct_me_df"
   ],
   "metadata": {
    "collapsed": false,
    "ExecuteTime": {
     "end_time": "2024-09-28T20:39:11.606069Z",
     "start_time": "2024-09-28T20:39:11.601930Z"
    }
   },
   "id": "9c4b77dcee1a9bf9",
   "execution_count": 13
  },
  {
   "cell_type": "code",
   "outputs": [],
   "source": [
    "# run function to create mergable df\n",
    "totpop2010 = aged_population('./Pop_Over_21_2010.S0101-2024-09-27T210322.csv', 2010)\n",
    "totpop2011 = aged_population('./Pop_Over_21_2011.S0101-2024-09-27T210305.csv', 2011)\n",
    "totpop2012 = aged_population('./Pop_Over_21_2012.S0101-2024-09-27T210137.csv', 2012)\n",
    "totpop2013 = aged_population('./Pop_Over_21_2012.S0101-2024-09-27T210137.csv', 2013)\n",
    "totpop2014 = aged_population('./Pop_Over_21_2012.S0101-2024-09-27T210137.csv', 2014)\n",
    "totpop2015 = aged_population('./Pop_Over_21_2012.S0101-2024-09-27T210137.csv', 2015)\n",
    "totpop2016 = aged_population('./Pop_Over_21_2012.S0101-2024-09-27T210137.csv', 2016)\n",
    "totpop2017 = aged_population('./Pop_Over_21_2012.S0101-2024-09-27T210137.csv', 2017)\n",
    "totpop2018 = aged_population('./Pop_Over_21_2012.S0101-2024-09-27T210137.csv', 2018)\n",
    "totpop2019 = aged_population('./Pop_Over_21_2012.S0101-2024-09-27T210137.csv', 2019)\n",
    "totpop2020 = aged_population('./pop_over_18_2020.csv', 2020)\n",
    "totpop2021 = aged_population('./Pop_Over_21_2012.S0101-2024-09-27T210137.csv', 2021)\n",
    "totpop2022 = aged_population('./Pop_Over_21_2022.csv', 2022)\n",
    "totpop2023 = aged_population('./Pop_Over_21_2023.S0101-2024-09-27T205616.csv', 2023)\n",
    "# stacking totpop\n",
    "dfs = [totpop2010, totpop2011, totpop2012, totpop2013, totpop2014, totpop2015, totpop2016, totpop2017, totpop2018, totpop2019, totpop2021, totpop2022, totpop2023]\n",
    "aged_pop_2010_2023 = pd.concat(dfs, ignore_index= True)"
   ],
   "metadata": {
    "collapsed": false,
    "ExecuteTime": {
     "end_time": "2024-09-28T20:43:54.787710Z",
     "start_time": "2024-09-28T20:43:54.646310Z"
    }
   },
   "id": "e28a78d2e7c0aba9",
   "execution_count": 23
  },
  {
   "cell_type": "code",
   "outputs": [
    {
     "name": "stdout",
     "output_type": "stream",
     "text": [
      "Only in main_df: set()\n",
      "Only in aged_pop_2010_2023: {'Alpine'}\n"
     ]
    }
   ],
   "source": [
    "aged_pop_2010_2023['County'] = aged_pop_2010_2023['County'].str.strip()\n",
    "counties = pd.DataFrame({\n",
    "    'County_main_df': main_df['County'],\n",
    "    'County_aged_pop_2010_2023': aged_pop_2010_2023['County']\n",
    "})\n",
    "counties.head()\n",
    "# Get unique counties from both DataFrames\n",
    "main_df_co = set(main_df['County'])\n",
    "aged_pop_2010_2023_co = set(aged_pop_2010_2023['County'])\n",
    "\n",
    "# Find differences\n",
    "only_in_main_df_co = main_df_co - aged_pop_2010_2023_co\n",
    "only_in_aged_pop_2010_2023_co = aged_pop_2010_2023_co - main_df_co\n",
    "\n",
    "print(\"Only in main_df:\", only_in_main_df_co)\n",
    "print(\"Only in aged_pop_2010_2023:\", only_in_aged_pop_2010_2023_co)"
   ],
   "metadata": {
    "collapsed": false,
    "ExecuteTime": {
     "end_time": "2024-09-28T20:53:32.172664Z",
     "start_time": "2024-09-28T20:53:32.159506Z"
    }
   },
   "id": "6a8a793cd2765f3c",
   "execution_count": 31
  },
  {
   "cell_type": "code",
   "outputs": [],
   "source": [
    "# merging aged_pop_2010_2023 to main_df \n",
    "aged_pop_df = pd.merge(main_df, aged_pop_2010_2023, how='inner', on = ['Data Year', 'County'])"
   ],
   "metadata": {
    "collapsed": false,
    "ExecuteTime": {
     "end_time": "2024-09-28T20:53:43.458690Z",
     "start_time": "2024-09-28T20:53:43.431274Z"
    }
   },
   "id": "1b591d33d5a5693a",
   "execution_count": 32
  },
  {
   "cell_type": "code",
   "outputs": [
    {
     "data": {
      "text/plain": "           County  Data Year  Total Population  Total Population Z Score  \\\n0         Alameda       2010           1510271                  0.033519   \n1           Butte       2010            220000                 -0.216348   \n2    Contra Costa       2010           1049025                 -0.055803   \n3       El Dorado       2010            181058                 -0.223890   \n4          Fresno       2010            930450                 -0.078766   \n..            ...        ...               ...                       ...   \n534        Tehama       2023             64710                 -0.246421   \n535        Tulare       2023            474680                 -0.167028   \n536       Ventura       2023            825960                 -0.099001   \n537          Yolo       2023            220454                 -0.216260   \n538          Yuba       2023             82814                 -0.242915   \n\n    Population Estimate, >18 Population Margin of Error, >18  \\\n0                1170460.025                           *****   \n1                   174460.0                            ±0.3   \n2                   788866.8                            ±0.1   \n3                 139776.776                            ±0.2   \n4                  652245.45                            ±0.1   \n..                       ...                             ...   \n534                   49,287                           *****   \n535                  338,510                            ±144   \n536                  651,462                           *****   \n537                  178,433                            ±709   \n538                   62,561                           *****   \n\n     Number of Gas Cars  Number of EV  \n0                885402            20  \n1                133169             0  \n2                666294            10  \n3                129980             0  \n4                481145             2  \n..                  ...           ...  \n534               48496           398  \n535              331744          3837  \n536              651851         31980  \n537              152560          6757  \n538               57567           961  \n\n[539 rows x 8 columns]",
      "text/html": "<div>\n<style scoped>\n    .dataframe tbody tr th:only-of-type {\n        vertical-align: middle;\n    }\n\n    .dataframe tbody tr th {\n        vertical-align: top;\n    }\n\n    .dataframe thead th {\n        text-align: right;\n    }\n</style>\n<table border=\"1\" class=\"dataframe\">\n  <thead>\n    <tr style=\"text-align: right;\">\n      <th></th>\n      <th>County</th>\n      <th>Data Year</th>\n      <th>Total Population</th>\n      <th>Total Population Z Score</th>\n      <th>Population Estimate, &gt;18</th>\n      <th>Population Margin of Error, &gt;18</th>\n      <th>Number of Gas Cars</th>\n      <th>Number of EV</th>\n    </tr>\n  </thead>\n  <tbody>\n    <tr>\n      <th>0</th>\n      <td>Alameda</td>\n      <td>2010</td>\n      <td>1510271</td>\n      <td>0.033519</td>\n      <td>1170460.025</td>\n      <td>*****</td>\n      <td>885402</td>\n      <td>20</td>\n    </tr>\n    <tr>\n      <th>1</th>\n      <td>Butte</td>\n      <td>2010</td>\n      <td>220000</td>\n      <td>-0.216348</td>\n      <td>174460.0</td>\n      <td>±0.3</td>\n      <td>133169</td>\n      <td>0</td>\n    </tr>\n    <tr>\n      <th>2</th>\n      <td>Contra Costa</td>\n      <td>2010</td>\n      <td>1049025</td>\n      <td>-0.055803</td>\n      <td>788866.8</td>\n      <td>±0.1</td>\n      <td>666294</td>\n      <td>10</td>\n    </tr>\n    <tr>\n      <th>3</th>\n      <td>El Dorado</td>\n      <td>2010</td>\n      <td>181058</td>\n      <td>-0.223890</td>\n      <td>139776.776</td>\n      <td>±0.2</td>\n      <td>129980</td>\n      <td>0</td>\n    </tr>\n    <tr>\n      <th>4</th>\n      <td>Fresno</td>\n      <td>2010</td>\n      <td>930450</td>\n      <td>-0.078766</td>\n      <td>652245.45</td>\n      <td>±0.1</td>\n      <td>481145</td>\n      <td>2</td>\n    </tr>\n    <tr>\n      <th>...</th>\n      <td>...</td>\n      <td>...</td>\n      <td>...</td>\n      <td>...</td>\n      <td>...</td>\n      <td>...</td>\n      <td>...</td>\n      <td>...</td>\n    </tr>\n    <tr>\n      <th>534</th>\n      <td>Tehama</td>\n      <td>2023</td>\n      <td>64710</td>\n      <td>-0.246421</td>\n      <td>49,287</td>\n      <td>*****</td>\n      <td>48496</td>\n      <td>398</td>\n    </tr>\n    <tr>\n      <th>535</th>\n      <td>Tulare</td>\n      <td>2023</td>\n      <td>474680</td>\n      <td>-0.167028</td>\n      <td>338,510</td>\n      <td>±144</td>\n      <td>331744</td>\n      <td>3837</td>\n    </tr>\n    <tr>\n      <th>536</th>\n      <td>Ventura</td>\n      <td>2023</td>\n      <td>825960</td>\n      <td>-0.099001</td>\n      <td>651,462</td>\n      <td>*****</td>\n      <td>651851</td>\n      <td>31980</td>\n    </tr>\n    <tr>\n      <th>537</th>\n      <td>Yolo</td>\n      <td>2023</td>\n      <td>220454</td>\n      <td>-0.216260</td>\n      <td>178,433</td>\n      <td>±709</td>\n      <td>152560</td>\n      <td>6757</td>\n    </tr>\n    <tr>\n      <th>538</th>\n      <td>Yuba</td>\n      <td>2023</td>\n      <td>82814</td>\n      <td>-0.242915</td>\n      <td>62,561</td>\n      <td>*****</td>\n      <td>57567</td>\n      <td>961</td>\n    </tr>\n  </tbody>\n</table>\n<p>539 rows × 8 columns</p>\n</div>"
     },
     "execution_count": 33,
     "metadata": {},
     "output_type": "execute_result"
    }
   ],
   "source": [
    "# there is some percentages and whole numbers, let's make them all whole numbers \n",
    "def convert_to_population_estimate(row):\n",
    "    # converting percentage to decimal, if applicable \n",
    "    if isinstance(row['Population Estimate, >18'], str) and '%' in row['Population Estimate, >18']:\n",
    "        percent_value = float(row['Population Estimate, >18'].strip('%')) / 100\n",
    "        return percent_value * row['Total Population']\n",
    "    else:\n",
    "        return row['Population Estimate, >18']\n",
    "\n",
    "# apply to update 'Total Population Estimate, >21'\n",
    "aged_pop_df['Population Estimate, >18'] = aged_pop_df.apply(convert_to_population_estimate, axis=1)\n",
    "\n",
    "\n",
    "\n",
    "aged_pop_df = aged_pop_df[['County', 'Data Year', 'Total Population', 'Total Population Z Score', \n",
    "                           'Population Estimate, >18', 'Population Margin of Error, >18', \n",
    "                           'Number of Gas Cars', 'Number of EV'\n",
    "                           ]]\n",
    "\n",
    "aged_pop_df"
   ],
   "metadata": {
    "collapsed": false,
    "ExecuteTime": {
     "end_time": "2024-09-28T20:53:44.332738Z",
     "start_time": "2024-09-28T20:53:44.314113Z"
    }
   },
   "id": "59f874cd0d550086",
   "execution_count": 33
  },
  {
   "cell_type": "code",
   "outputs": [],
   "source": [
    "# to csv\n",
    "aged_pop_df.to_csv('Main_DF_PM2.5_Vehicle_Pop.csv', index=False)"
   ],
   "metadata": {
    "collapsed": false,
    "ExecuteTime": {
     "end_time": "2024-09-28T20:46:08.821981Z",
     "start_time": "2024-09-28T20:46:08.806822Z"
    }
   },
   "id": "de2523489d779cd",
   "execution_count": 27
  },
  {
   "cell_type": "code",
   "outputs": [],
   "source": [],
   "metadata": {
    "collapsed": false
   },
   "id": "c22b4838940b24fc"
  }
 ],
 "metadata": {
  "kernelspec": {
   "display_name": "Python 3",
   "language": "python",
   "name": "python3"
  },
  "language_info": {
   "codemirror_mode": {
    "name": "ipython",
    "version": 2
   },
   "file_extension": ".py",
   "mimetype": "text/x-python",
   "name": "python",
   "nbconvert_exporter": "python",
   "pygments_lexer": "ipython2",
   "version": "2.7.6"
  }
 },
 "nbformat": 4,
 "nbformat_minor": 5
}
