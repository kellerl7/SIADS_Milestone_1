{
 "cells": [
  {
   "cell_type": "code",
   "outputs": [],
   "source": [
    "import os\n",
    "\n",
    "# import\n",
    "import pandas as pd"
   ],
   "metadata": {
    "collapsed": false,
    "ExecuteTime": {
     "end_time": "2024-10-05T17:17:23.353607Z",
     "start_time": "2024-10-05T17:17:23.347224Z"
    }
   },
   "id": "21a52acad280b471",
   "execution_count": 2
  },
  {
   "cell_type": "code",
   "outputs": [],
   "source": [
    "# import files \n",
    "main_df = pd.read_csv('../PM2.5_Vehicles_Population.csv')\n",
    "df_pop = pd.read_csv('../California_Population.csv') "
   ],
   "metadata": {
    "collapsed": false
   },
   "id": "e1920ddc5805565",
   "execution_count": null
  },
  {
   "cell_type": "code",
   "outputs": [],
   "source": [
    "main_df\n",
    "# main_df['Population Z Score'] = main_df['Population Z Score'].round(2)"
   ],
   "metadata": {
    "collapsed": false
   },
   "id": "64c6accf7030fc0a",
   "execution_count": null
  },
  {
   "cell_type": "code",
   "outputs": [],
   "source": [
    "# total regestered car users/population \n",
    "def create_comparison(county):\n",
    "    df = main_df[main_df['County'] == county]\n",
    "    df.loc[:,'Total Cars'] = df['Number of Gas Cars'] + df['Number of EV']\n",
    "    df.loc[:,'Total Cars/Population'] = (df['Total Cars'] / df['Total Population']).round(2)\n",
    "    df.loc[:,'EV/Total Cars'] = (df['Number of EV'] / df['Total Cars']).round(2)\n",
    "    df.loc[:,'Gas/Total Cars'] = (df['Number of Gas Cars'] / df['Total Cars']).round(2)\n",
    "    return df[['Total Population Z Score','Total Cars/Population', 'EV/Total Cars', 'Gas/Total Cars']] \n"
   ],
   "metadata": {
    "collapsed": false
   },
   "id": "e9804d930dda2b1c",
   "execution_count": null
  },
  {
   "cell_type": "code",
   "outputs": [],
   "source": [
    "# so as more people got cars, more ev were regestered. \n",
    "# what is the relationship between population growth and ev adaptation?\n",
    "## it seems to be positive, direct relationship \n",
    "## so as more population increases, ev car adaption also increases. i wonder if this is the same across counties? "
   ],
   "metadata": {
    "collapsed": false
   },
   "id": "d0801841e44c3b1d",
   "execution_count": null
  },
  {
   "cell_type": "code",
   "outputs": [
    {
     "ename": "NameError",
     "evalue": "name 'create_comparison' is not defined",
     "output_type": "error",
     "traceback": [
      "\u001B[0;31m---------------------------------------------------------------------------\u001B[0m",
      "\u001B[0;31mNameError\u001B[0m                                 Traceback (most recent call last)",
      "Cell \u001B[0;32mIn[1], line 1\u001B[0m\n\u001B[0;32m----> 1\u001B[0m san_diego \u001B[38;5;241m=\u001B[39m \u001B[43mcreate_comparison\u001B[49m(\u001B[38;5;124m'\u001B[39m\u001B[38;5;124mSan Diego\u001B[39m\u001B[38;5;124m'\u001B[39m)\n\u001B[1;32m      2\u001B[0m san_diego\n",
      "\u001B[0;31mNameError\u001B[0m: name 'create_comparison' is not defined"
     ]
    }
   ],
   "source": [
    "san_diego = create_comparison('San Diego')\n",
    "san_diego"
   ],
   "metadata": {
    "collapsed": false,
    "ExecuteTime": {
     "end_time": "2024-10-05T17:17:01.890264Z",
     "start_time": "2024-10-05T17:17:01.767383Z"
    }
   },
   "id": "54e337ecb9517446",
   "execution_count": 1
  },
  {
   "cell_type": "code",
   "outputs": [],
   "source": [
    " # los_angeles = create_comparison('Los Angeles')\n",
    "# los_angeles"
   ],
   "metadata": {
    "collapsed": false
   },
   "id": "5d4031cf5e26d839",
   "execution_count": null
  },
  {
   "cell_type": "code",
   "outputs": [],
   "source": [
    "# orange = create_comparison('Orange')\n",
    "# orange"
   ],
   "metadata": {
    "collapsed": false
   },
   "id": "e07223ab3c8ca3f1",
   "execution_count": null
  },
  {
   "cell_type": "code",
   "outputs": [],
   "source": [
    "# san_fran =  create_comparison('San Francisco')\n",
    "# san_fran"
   ],
   "metadata": {
    "collapsed": false
   },
   "id": "4acce750147f2119",
   "execution_count": null
  },
  {
   "cell_type": "code",
   "outputs": [],
   "source": [
    "# mono = create_comparison('Mono')\n",
    "# mono "
   ],
   "metadata": {
    "collapsed": false
   },
   "id": "911c6e23c4588b49",
   "execution_count": null
  },
  {
   "cell_type": "code",
   "outputs": [],
   "source": [
    "# is this crazy?\n",
    "# function takes dataset from online and turns it into a merge-able df for main_df "
   ],
   "metadata": {
    "collapsed": false
   },
   "id": "fc9ad87dd8e13bb5",
   "execution_count": null
  },
  {
   "cell_type": "code",
   "outputs": [],
   "source": [
    "def aged_population(dataset, datayear):\n",
    "    # load files \n",
    "    df = pd.read_csv(dataset)\n",
    "    df = df[df['Label (Grouping)'].str.strip() == '18 years and over']\n",
    "    df = df[df['Label (Grouping)'].str.contains('18 years and over', case=False, na=False)]\n",
    "    # extract unique county names\n",
    "    county_names = [col.split(\"!!\")[0] for col in df.columns if \"California\" in col]\n",
    "    county_names = list(set(county_names))\n",
    "    # extract county total and margin of error from main dataset\n",
    "    county_total = [f\"{county}!!Total!!Estimate\" for county in county_names]\n",
    "    county_margin_of_error = [f\"{county}!!Total!!Margin of Error\" for county in county_names]\n",
    "    # making df of those\n",
    "    county_total = df.loc[:, county_total]\n",
    "    county_margin_of_error = df.loc[:, county_margin_of_error]\n",
    "    # creating county total population estimate df \n",
    "    ct_df =county_total.transpose()\n",
    "    ct_df = ct_df.reset_index() \n",
    "    # some years record >21, others >18. \n",
    "    ct_df.columns = ['County' , 'Population Estimate, >18']\n",
    "    ct_df['County'] = ct_df['County'].str.split(' County').str[0]\n",
    "    ct_df = ct_df.sort_values(by='County', ascending=True).reset_index(drop=True)\n",
    "    \n",
    "    # creating county margin of error \n",
    "    me_df = county_margin_of_error.transpose()\n",
    "    me_df = me_df.reset_index() \n",
    "    me_df.columns = ['County' , 'Population Margin of Error, >18']\n",
    "    me_df['County'] = me_df['County'].str.split(' County').str[0]\n",
    "    me_df = me_df.sort_values(by='County', ascending=True).reset_index(drop=True) \n",
    "    \n",
    "    # merging on county \n",
    "    ct_me_df = pd.merge(ct_df, me_df, how='inner', on = ['County'])\n",
    "    ct_me_df['Data Year'] = datayear\n",
    "    return ct_me_df"
   ],
   "metadata": {
    "collapsed": false
   },
   "id": "9c4b77dcee1a9bf9",
   "execution_count": null
  },
  {
   "cell_type": "code",
   "outputs": [],
   "source": [
    "# run function to create mergable df\n",
    "totpop2010 = aged_population('./Pop_Over_21_2010.S0101-2024-09-27T210322.csv', 2010)\n",
    "totpop2011 = aged_population('./Pop_Over_21_2011.S0101-2024-09-27T210305.csv', 2011)\n",
    "totpop2012 = aged_population('./Pop_Over_21_2012.S0101-2024-09-27T210137.csv', 2012)\n",
    "totpop2013 = aged_population('./Pop_Over_21_2012.S0101-2024-09-27T210137.csv', 2013)\n",
    "totpop2014 = aged_population('./Pop_Over_21_2012.S0101-2024-09-27T210137.csv', 2014)\n",
    "totpop2015 = aged_population('./Pop_Over_21_2012.S0101-2024-09-27T210137.csv', 2015)\n",
    "totpop2016 = aged_population('./Pop_Over_21_2012.S0101-2024-09-27T210137.csv', 2016)\n",
    "totpop2017 = aged_population('./Pop_Over_21_2012.S0101-2024-09-27T210137.csv', 2017)\n",
    "totpop2018 = aged_population('./Pop_Over_21_2012.S0101-2024-09-27T210137.csv', 2018)\n",
    "totpop2019 = aged_population('./Pop_Over_21_2012.S0101-2024-09-27T210137.csv', 2019)\n",
    "totpop2020 = aged_population('./pop_over_18_2020.csv', 2020)\n",
    "totpop2021 = aged_population('./Pop_Over_21_2012.S0101-2024-09-27T210137.csv', 2021)\n",
    "totpop2022 = aged_population('./Pop_Over_21_2022.csv', 2022)\n",
    "totpop2023 = aged_population('./Pop_Over_21_2023.S0101-2024-09-27T205616.csv', 2023)\n",
    "# stacking totpop\n",
    "dfs = [totpop2010, totpop2011, totpop2012, totpop2013, totpop2014, totpop2015, totpop2016, totpop2017, totpop2018, totpop2019, totpop2021, totpop2022, totpop2023]\n",
    "aged_pop_2010_2023 = pd.concat(dfs, ignore_index= True)"
   ],
   "metadata": {
    "collapsed": false
   },
   "id": "e28a78d2e7c0aba9",
   "execution_count": null
  },
  {
   "cell_type": "code",
   "outputs": [],
   "source": [
    "aged_pop_2010_2023['County'] = aged_pop_2010_2023['County'].str.strip()\n",
    "counties = pd.DataFrame({\n",
    "    'County_main_df': main_df['County'],\n",
    "    'County_aged_pop_2010_2023': aged_pop_2010_2023['County']\n",
    "})\n",
    "counties.head()\n",
    "# Get unique counties from both DataFrames\n",
    "main_df_co = set(main_df['County'])\n",
    "aged_pop_2010_2023_co = set(aged_pop_2010_2023['County'])\n",
    "\n",
    "# Find differences\n",
    "only_in_main_df_co = main_df_co - aged_pop_2010_2023_co\n",
    "only_in_aged_pop_2010_2023_co = aged_pop_2010_2023_co - main_df_co\n",
    "\n",
    "print(\"Only in main_df:\", only_in_main_df_co)\n",
    "print(\"Only in aged_pop_2010_2023:\", only_in_aged_pop_2010_2023_co)"
   ],
   "metadata": {
    "collapsed": false
   },
   "id": "6a8a793cd2765f3c",
   "execution_count": null
  },
  {
   "cell_type": "code",
   "outputs": [],
   "source": [
    "# merging aged_pop_2010_2023 to main_df \n",
    "aged_pop_df = pd.merge(main_df, aged_pop_2010_2023, how='inner', on = ['Data Year', 'County'])"
   ],
   "metadata": {
    "collapsed": false
   },
   "id": "1b591d33d5a5693a",
   "execution_count": null
  },
  {
   "cell_type": "code",
   "outputs": [],
   "source": [
    "# there is some percentages and whole numbers, let's make them all whole numbers \n",
    "def convert_to_population_estimate(row):\n",
    "    # converting percentage to decimal, if applicable \n",
    "    if isinstance(row['Population Estimate, >18'], str) and '%' in row['Population Estimate, >18']:\n",
    "        percent_value = float(row['Population Estimate, >18'].strip('%')) / 100\n",
    "        return percent_value * row['Total Population']\n",
    "    else:\n",
    "        return row['Population Estimate, >18']\n",
    "\n",
    "# apply to update 'Total Population Estimate, >21'\n",
    "aged_pop_df['Population Estimate, >18'] = aged_pop_df.apply(convert_to_population_estimate, axis=1)\n",
    "\n",
    "\n",
    "\n",
    "aged_pop_df = aged_pop_df[['County', 'Data Year', 'Total Population', 'Total Population Z Score', \n",
    "                           'Population Estimate, >18', 'Population Margin of Error, >18', \n",
    "                           'Number of Gas Cars', 'Number of EV'\n",
    "                           ]]\n",
    "\n",
    "aged_pop_df"
   ],
   "metadata": {
    "collapsed": false
   },
   "id": "59f874cd0d550086",
   "execution_count": null
  },
  {
   "cell_type": "code",
   "outputs": [],
   "source": [
    "# to csv\n",
    "aged_pop_df.to_csv('Main_DF_PM2.5_Vehicle_Pop.csv', index=False)\n"
   ],
   "metadata": {
    "collapsed": false
   },
   "id": "de2523489d779cd",
   "execution_count": null
  },
  {
   "cell_type": "code",
   "outputs": [],
   "source": [
    "import pandas as pd "
   ],
   "metadata": {
    "collapsed": false,
    "ExecuteTime": {
     "end_time": "2024-10-05T18:20:54.877621Z",
     "start_time": "2024-10-05T18:20:54.875995Z"
    }
   },
   "id": "948d77e17d5427d6",
   "execution_count": 1
  },
  {
   "cell_type": "code",
   "outputs": [],
   "source": [
    "csv_2010 = '../pm_data/ad_viz_plotval_data_2010.csv'\n",
    "csv_2011 = 'pm_data/ad_viz_plotval_data_2011.csv'\n",
    "csv_2012 = 'pm_data/ad_viz_plotval_data_2012.csv'\n",
    "csv_2013 = 'pm_data/ad_viz_plotval_data_2013.csv'\n",
    "csv_2014 = 'pm_data/ad_viz_plotval_data_2014.csv'\n",
    "csv_2015 = 'pm_data/ad_viz_plotval_data_2015.csv'\n",
    "csv_2016 = 'pm_data/ad_vis_plotval_data_2016.csv'\n",
    "csv_2017 = 'pm_data/ad_viz_plotval_data_2017.csv'\n",
    "csv_2018 = 'pm_data/ad_viz_plotval_data2018.csv'\n",
    "csv_2019 = 'pm_data/ad_viz_plotval_data2019.csv'\n",
    "csv_2020 = 'pm_data/ad_viz_plotval_data2020.csv'\n",
    "csv_2021 = 'pm_data/ad_viz_plotval_data2020.csv'\n",
    "csv_2022 = 'pm_data/ad_viz_plotval_data2022.csv'\n",
    "csv_2023 = 'pm_data/ad_viz_plotval_data2023.csv'\n",
    "csv_2024 = 'pm_data/ad_viz_plotval_data2024.csv'"
   ],
   "metadata": {
    "collapsed": false,
    "ExecuteTime": {
     "end_time": "2024-10-05T18:20:55.434434Z",
     "start_time": "2024-10-05T18:20:55.431619Z"
    }
   },
   "id": "c22b4838940b24fc",
   "execution_count": 2
  },
  {
   "cell_type": "code",
   "outputs": [],
   "source": [
    "# This function takes a file name, extracts applicable columns, \n",
    "# manipulates them into the proper format, and returns a mergeable dataframe. \n",
    "def avg_pm_value(filename): \n",
    "    # loading data\n",
    "    df = pd.read_csv(filename)\n",
    "    # We are only concerned with the following columns: \n",
    "    df = df[['Date', 'Daily Mean PM2.5 Concentration','Units', 'Site ID', 'County', 'Site Latitude', 'Site Longitude']]\n",
    "    # changing date column to datetime \n",
    "    df['Date'] = pd.to_datetime(df['Date'])\n",
    "    # adding year column \n",
    "    df['Data Year'] = df['Date'].dt.year\n",
    "    # determining unique sites per county \n",
    "    unique_sites_per_county = df.groupby('County')['Site ID'].nunique().reset_index()\n",
    "    unique_sites_per_county.rename(columns={'Site ID': 'Number of Site IDs/County'}, inplace=True) \n",
    "    # location average \n",
    "    average_latitude_county = df.groupby('County')['Site Latitude'].mean().reset_index()\n",
    "    average_longitude_county =df.groupby('County')['Site Longitude'].mean().reset_index()\n",
    "    county_longitude_latitude = average_latitude_county.merge(average_longitude_county, on='County')\n",
    "    county_longitude_latitude.rename(columns={'Site Latitude': 'County Latitude', 'Site Longitude': 'County Longitude'}, inplace=True)\n",
    "    # average pm2.5 values per county \n",
    "    avg_pm_value =df.groupby(['County', 'Data Year'])['Daily Mean PM2.5 Concentration'].mean().reset_index()\n",
    "    avg_pm_value.rename(columns={'Daily Mean PM2.5 Concentration': 'Average PM 2.5/County'}, inplace=True)\n",
    "    # merging tables \n",
    "    a_df = unique_sites_per_county.merge(avg_pm_value, on='County')\n",
    "    avg_df = a_df.merge(county_longitude_latitude, on='County')\n",
    "    avg_df = avg_df.pivot_table(index ='County', values = ['Data Year','Average PM 2.5/County', 'Number of Site IDs/County', 'County Latitude', 'County Longitude'])\n",
    "    avg_df.reset_index(inplace=True)\n",
    "    return avg_df"
   ],
   "metadata": {
    "collapsed": false,
    "ExecuteTime": {
     "end_time": "2024-10-05T18:22:21.863433Z",
     "start_time": "2024-10-05T18:22:21.856117Z"
    }
   },
   "id": "2ef124cc974ab414",
   "execution_count": 9
  },
  {
   "cell_type": "code",
   "outputs": [
    {
     "data": {
      "text/plain": "             County  Average PM 2.5/County  County Latitude  County Longitude  \\\n0           Alameda               8.165623        37.740259       -122.101771   \n1             Butte               8.776451        39.501933       -121.689305   \n2         Calaveras               7.380349        38.201850       -120.680277   \n3            Colusa               6.054913        39.189190       -121.998870   \n4      Contra Costa               7.606920        37.936013       -122.026154   \n5         Del Norte               2.786869        41.560952       -124.083964   \n6         El Dorado               2.195902        38.976000       -120.103506   \n7            Fresno              11.729538        36.670999       -119.895476   \n8             Glenn               8.386236        39.533870       -122.190834   \n9          Humboldt               5.903409        40.789422       -124.170696   \n10         Imperial               9.424738        32.772567       -115.515057   \n11             Inyo               6.162987        36.491839       -117.673361   \n12             Kern              13.420330        35.252591       -118.948162   \n13            Kings              17.319103        36.182858       -119.595035   \n14             Lake               3.075410        39.032700       -122.922290   \n15      Los Angeles              12.775428        34.082241       -118.229154   \n16           Madera              20.406306        36.953256       -120.034203   \n17            Marin               9.302552        38.012512       -122.623914   \n18         Mariposa               8.133820        37.738527       -119.621290   \n19        Mendocino               7.134129        39.279637       -123.278774   \n20           Merced              14.695588        37.288392       -120.445230   \n21             Mono               1.994059        38.088023       -119.178069   \n22         Monterey               6.282692        36.694261       -121.623271   \n23             Napa               8.715702        38.310942       -122.296189   \n24           Nevada               5.246047        39.307643       -120.370949   \n25           Orange              12.010405        33.803720       -117.903245   \n26           Placer              10.326353        38.746430       -121.264980   \n27           Plumas               9.040345        39.859922       -120.657491   \n28        Riverside              13.275799        33.865903       -117.232812   \n29       Sacramento               8.457305        38.589454       -121.428725   \n30       San Benito               5.172093        36.753569       -121.310903   \n31   San Bernardino              11.857834        34.173382       -117.299927   \n32        San Diego               9.018352        33.006766       -117.065062   \n33    San Francisco              10.505352        37.765946       -122.399044   \n34      San Joaquin               8.666832        37.825804       -121.344104   \n35  San Luis Obispo               7.450171        35.219122       -120.613927   \n36        San Mateo               8.291294        37.482934       -122.203370   \n37    Santa Barbara               7.149165        34.699508       -120.057190   \n38      Santa Clara               8.372204        37.213130       -121.794404   \n39       Santa Cruz               6.479769        36.983320       -121.988220   \n40           Shasta               4.006463        40.590538       -122.061208   \n41         Siskiyou               2.833140        41.716643       -121.869279   \n42           Solano               8.058524        38.102507       -122.237976   \n43           Sonoma               7.204420        38.443503       -122.710169   \n44       Stanislaus              12.273900        37.568850       -120.918822   \n45           Sutter               8.227460        39.138773       -121.618549   \n46           Tehama              10.142073        40.167800       -122.227138   \n47          Trinity               2.018919        40.786247       -122.805707   \n48           Tulare              12.302287        36.260900       -119.159398   \n49          Ventura               8.626296        34.269807       -118.847569   \n50             Yolo               7.554938        38.557924       -121.765861   \n\n    Data Year  Number of Site IDs/County  \n0        2010                          5  \n1        2010                          3  \n2        2010                          1  \n3        2010                          1  \n4        2010                          1  \n5        2010                          1  \n6        2010                          1  \n7        2010                          6  \n8        2010                          1  \n9        2010                          2  \n10       2010                          3  \n11       2010                          2  \n12       2010                          6  \n13       2010                          2  \n14       2010                          1  \n15       2010                         13  \n16       2010                          1  \n17       2010                          2  \n18       2010                          2  \n19       2010                          2  \n20       2010                          2  \n21       2010                          1  \n22       2010                          1  \n23       2010                          1  \n24       2010                          2  \n25       2010                          2  \n26       2010                          1  \n27       2010                          2  \n28       2010                          9  \n29       2010                          3  \n30       2010                          2  \n31       2010                          9  \n32       2010                          8  \n33       2010                          1  \n34       2010                          3  \n35       2010                          4  \n36       2010                          1  \n37       2010                          3  \n38       2010                          3  \n39       2010                          1  \n40       2010                          4  \n41       2010                          2  \n42       2010                          1  \n43       2010                          1  \n44       2010                          2  \n45       2010                          1  \n46       2010                          1  \n47       2010                          1  \n48       2010                          3  \n49       2010                          4  \n50       2010                          2  ",
      "text/html": "<div>\n<style scoped>\n    .dataframe tbody tr th:only-of-type {\n        vertical-align: middle;\n    }\n\n    .dataframe tbody tr th {\n        vertical-align: top;\n    }\n\n    .dataframe thead th {\n        text-align: right;\n    }\n</style>\n<table border=\"1\" class=\"dataframe\">\n  <thead>\n    <tr style=\"text-align: right;\">\n      <th></th>\n      <th>County</th>\n      <th>Average PM 2.5/County</th>\n      <th>County Latitude</th>\n      <th>County Longitude</th>\n      <th>Data Year</th>\n      <th>Number of Site IDs/County</th>\n    </tr>\n  </thead>\n  <tbody>\n    <tr>\n      <th>0</th>\n      <td>Alameda</td>\n      <td>8.165623</td>\n      <td>37.740259</td>\n      <td>-122.101771</td>\n      <td>2010</td>\n      <td>5</td>\n    </tr>\n    <tr>\n      <th>1</th>\n      <td>Butte</td>\n      <td>8.776451</td>\n      <td>39.501933</td>\n      <td>-121.689305</td>\n      <td>2010</td>\n      <td>3</td>\n    </tr>\n    <tr>\n      <th>2</th>\n      <td>Calaveras</td>\n      <td>7.380349</td>\n      <td>38.201850</td>\n      <td>-120.680277</td>\n      <td>2010</td>\n      <td>1</td>\n    </tr>\n    <tr>\n      <th>3</th>\n      <td>Colusa</td>\n      <td>6.054913</td>\n      <td>39.189190</td>\n      <td>-121.998870</td>\n      <td>2010</td>\n      <td>1</td>\n    </tr>\n    <tr>\n      <th>4</th>\n      <td>Contra Costa</td>\n      <td>7.606920</td>\n      <td>37.936013</td>\n      <td>-122.026154</td>\n      <td>2010</td>\n      <td>1</td>\n    </tr>\n    <tr>\n      <th>5</th>\n      <td>Del Norte</td>\n      <td>2.786869</td>\n      <td>41.560952</td>\n      <td>-124.083964</td>\n      <td>2010</td>\n      <td>1</td>\n    </tr>\n    <tr>\n      <th>6</th>\n      <td>El Dorado</td>\n      <td>2.195902</td>\n      <td>38.976000</td>\n      <td>-120.103506</td>\n      <td>2010</td>\n      <td>1</td>\n    </tr>\n    <tr>\n      <th>7</th>\n      <td>Fresno</td>\n      <td>11.729538</td>\n      <td>36.670999</td>\n      <td>-119.895476</td>\n      <td>2010</td>\n      <td>6</td>\n    </tr>\n    <tr>\n      <th>8</th>\n      <td>Glenn</td>\n      <td>8.386236</td>\n      <td>39.533870</td>\n      <td>-122.190834</td>\n      <td>2010</td>\n      <td>1</td>\n    </tr>\n    <tr>\n      <th>9</th>\n      <td>Humboldt</td>\n      <td>5.903409</td>\n      <td>40.789422</td>\n      <td>-124.170696</td>\n      <td>2010</td>\n      <td>2</td>\n    </tr>\n    <tr>\n      <th>10</th>\n      <td>Imperial</td>\n      <td>9.424738</td>\n      <td>32.772567</td>\n      <td>-115.515057</td>\n      <td>2010</td>\n      <td>3</td>\n    </tr>\n    <tr>\n      <th>11</th>\n      <td>Inyo</td>\n      <td>6.162987</td>\n      <td>36.491839</td>\n      <td>-117.673361</td>\n      <td>2010</td>\n      <td>2</td>\n    </tr>\n    <tr>\n      <th>12</th>\n      <td>Kern</td>\n      <td>13.420330</td>\n      <td>35.252591</td>\n      <td>-118.948162</td>\n      <td>2010</td>\n      <td>6</td>\n    </tr>\n    <tr>\n      <th>13</th>\n      <td>Kings</td>\n      <td>17.319103</td>\n      <td>36.182858</td>\n      <td>-119.595035</td>\n      <td>2010</td>\n      <td>2</td>\n    </tr>\n    <tr>\n      <th>14</th>\n      <td>Lake</td>\n      <td>3.075410</td>\n      <td>39.032700</td>\n      <td>-122.922290</td>\n      <td>2010</td>\n      <td>1</td>\n    </tr>\n    <tr>\n      <th>15</th>\n      <td>Los Angeles</td>\n      <td>12.775428</td>\n      <td>34.082241</td>\n      <td>-118.229154</td>\n      <td>2010</td>\n      <td>13</td>\n    </tr>\n    <tr>\n      <th>16</th>\n      <td>Madera</td>\n      <td>20.406306</td>\n      <td>36.953256</td>\n      <td>-120.034203</td>\n      <td>2010</td>\n      <td>1</td>\n    </tr>\n    <tr>\n      <th>17</th>\n      <td>Marin</td>\n      <td>9.302552</td>\n      <td>38.012512</td>\n      <td>-122.623914</td>\n      <td>2010</td>\n      <td>2</td>\n    </tr>\n    <tr>\n      <th>18</th>\n      <td>Mariposa</td>\n      <td>8.133820</td>\n      <td>37.738527</td>\n      <td>-119.621290</td>\n      <td>2010</td>\n      <td>2</td>\n    </tr>\n    <tr>\n      <th>19</th>\n      <td>Mendocino</td>\n      <td>7.134129</td>\n      <td>39.279637</td>\n      <td>-123.278774</td>\n      <td>2010</td>\n      <td>2</td>\n    </tr>\n    <tr>\n      <th>20</th>\n      <td>Merced</td>\n      <td>14.695588</td>\n      <td>37.288392</td>\n      <td>-120.445230</td>\n      <td>2010</td>\n      <td>2</td>\n    </tr>\n    <tr>\n      <th>21</th>\n      <td>Mono</td>\n      <td>1.994059</td>\n      <td>38.088023</td>\n      <td>-119.178069</td>\n      <td>2010</td>\n      <td>1</td>\n    </tr>\n    <tr>\n      <th>22</th>\n      <td>Monterey</td>\n      <td>6.282692</td>\n      <td>36.694261</td>\n      <td>-121.623271</td>\n      <td>2010</td>\n      <td>1</td>\n    </tr>\n    <tr>\n      <th>23</th>\n      <td>Napa</td>\n      <td>8.715702</td>\n      <td>38.310942</td>\n      <td>-122.296189</td>\n      <td>2010</td>\n      <td>1</td>\n    </tr>\n    <tr>\n      <th>24</th>\n      <td>Nevada</td>\n      <td>5.246047</td>\n      <td>39.307643</td>\n      <td>-120.370949</td>\n      <td>2010</td>\n      <td>2</td>\n    </tr>\n    <tr>\n      <th>25</th>\n      <td>Orange</td>\n      <td>12.010405</td>\n      <td>33.803720</td>\n      <td>-117.903245</td>\n      <td>2010</td>\n      <td>2</td>\n    </tr>\n    <tr>\n      <th>26</th>\n      <td>Placer</td>\n      <td>10.326353</td>\n      <td>38.746430</td>\n      <td>-121.264980</td>\n      <td>2010</td>\n      <td>1</td>\n    </tr>\n    <tr>\n      <th>27</th>\n      <td>Plumas</td>\n      <td>9.040345</td>\n      <td>39.859922</td>\n      <td>-120.657491</td>\n      <td>2010</td>\n      <td>2</td>\n    </tr>\n    <tr>\n      <th>28</th>\n      <td>Riverside</td>\n      <td>13.275799</td>\n      <td>33.865903</td>\n      <td>-117.232812</td>\n      <td>2010</td>\n      <td>9</td>\n    </tr>\n    <tr>\n      <th>29</th>\n      <td>Sacramento</td>\n      <td>8.457305</td>\n      <td>38.589454</td>\n      <td>-121.428725</td>\n      <td>2010</td>\n      <td>3</td>\n    </tr>\n    <tr>\n      <th>30</th>\n      <td>San Benito</td>\n      <td>5.172093</td>\n      <td>36.753569</td>\n      <td>-121.310903</td>\n      <td>2010</td>\n      <td>2</td>\n    </tr>\n    <tr>\n      <th>31</th>\n      <td>San Bernardino</td>\n      <td>11.857834</td>\n      <td>34.173382</td>\n      <td>-117.299927</td>\n      <td>2010</td>\n      <td>9</td>\n    </tr>\n    <tr>\n      <th>32</th>\n      <td>San Diego</td>\n      <td>9.018352</td>\n      <td>33.006766</td>\n      <td>-117.065062</td>\n      <td>2010</td>\n      <td>8</td>\n    </tr>\n    <tr>\n      <th>33</th>\n      <td>San Francisco</td>\n      <td>10.505352</td>\n      <td>37.765946</td>\n      <td>-122.399044</td>\n      <td>2010</td>\n      <td>1</td>\n    </tr>\n    <tr>\n      <th>34</th>\n      <td>San Joaquin</td>\n      <td>8.666832</td>\n      <td>37.825804</td>\n      <td>-121.344104</td>\n      <td>2010</td>\n      <td>3</td>\n    </tr>\n    <tr>\n      <th>35</th>\n      <td>San Luis Obispo</td>\n      <td>7.450171</td>\n      <td>35.219122</td>\n      <td>-120.613927</td>\n      <td>2010</td>\n      <td>4</td>\n    </tr>\n    <tr>\n      <th>36</th>\n      <td>San Mateo</td>\n      <td>8.291294</td>\n      <td>37.482934</td>\n      <td>-122.203370</td>\n      <td>2010</td>\n      <td>1</td>\n    </tr>\n    <tr>\n      <th>37</th>\n      <td>Santa Barbara</td>\n      <td>7.149165</td>\n      <td>34.699508</td>\n      <td>-120.057190</td>\n      <td>2010</td>\n      <td>3</td>\n    </tr>\n    <tr>\n      <th>38</th>\n      <td>Santa Clara</td>\n      <td>8.372204</td>\n      <td>37.213130</td>\n      <td>-121.794404</td>\n      <td>2010</td>\n      <td>3</td>\n    </tr>\n    <tr>\n      <th>39</th>\n      <td>Santa Cruz</td>\n      <td>6.479769</td>\n      <td>36.983320</td>\n      <td>-121.988220</td>\n      <td>2010</td>\n      <td>1</td>\n    </tr>\n    <tr>\n      <th>40</th>\n      <td>Shasta</td>\n      <td>4.006463</td>\n      <td>40.590538</td>\n      <td>-122.061208</td>\n      <td>2010</td>\n      <td>4</td>\n    </tr>\n    <tr>\n      <th>41</th>\n      <td>Siskiyou</td>\n      <td>2.833140</td>\n      <td>41.716643</td>\n      <td>-121.869279</td>\n      <td>2010</td>\n      <td>2</td>\n    </tr>\n    <tr>\n      <th>42</th>\n      <td>Solano</td>\n      <td>8.058524</td>\n      <td>38.102507</td>\n      <td>-122.237976</td>\n      <td>2010</td>\n      <td>1</td>\n    </tr>\n    <tr>\n      <th>43</th>\n      <td>Sonoma</td>\n      <td>7.204420</td>\n      <td>38.443503</td>\n      <td>-122.710169</td>\n      <td>2010</td>\n      <td>1</td>\n    </tr>\n    <tr>\n      <th>44</th>\n      <td>Stanislaus</td>\n      <td>12.273900</td>\n      <td>37.568850</td>\n      <td>-120.918822</td>\n      <td>2010</td>\n      <td>2</td>\n    </tr>\n    <tr>\n      <th>45</th>\n      <td>Sutter</td>\n      <td>8.227460</td>\n      <td>39.138773</td>\n      <td>-121.618549</td>\n      <td>2010</td>\n      <td>1</td>\n    </tr>\n    <tr>\n      <th>46</th>\n      <td>Tehama</td>\n      <td>10.142073</td>\n      <td>40.167800</td>\n      <td>-122.227138</td>\n      <td>2010</td>\n      <td>1</td>\n    </tr>\n    <tr>\n      <th>47</th>\n      <td>Trinity</td>\n      <td>2.018919</td>\n      <td>40.786247</td>\n      <td>-122.805707</td>\n      <td>2010</td>\n      <td>1</td>\n    </tr>\n    <tr>\n      <th>48</th>\n      <td>Tulare</td>\n      <td>12.302287</td>\n      <td>36.260900</td>\n      <td>-119.159398</td>\n      <td>2010</td>\n      <td>3</td>\n    </tr>\n    <tr>\n      <th>49</th>\n      <td>Ventura</td>\n      <td>8.626296</td>\n      <td>34.269807</td>\n      <td>-118.847569</td>\n      <td>2010</td>\n      <td>4</td>\n    </tr>\n    <tr>\n      <th>50</th>\n      <td>Yolo</td>\n      <td>7.554938</td>\n      <td>38.557924</td>\n      <td>-121.765861</td>\n      <td>2010</td>\n      <td>2</td>\n    </tr>\n  </tbody>\n</table>\n</div>"
     },
     "execution_count": 10,
     "metadata": {},
     "output_type": "execute_result"
    }
   ],
   "source": [
    "df23 = avg_pm_value(csv_2010)\n",
    "df23"
   ],
   "metadata": {
    "collapsed": false,
    "ExecuteTime": {
     "end_time": "2024-10-05T18:22:22.507214Z",
     "start_time": "2024-10-05T18:22:22.394296Z"
    }
   },
   "id": "a0e06a45c036b2a",
   "execution_count": 10
  },
  {
   "cell_type": "code",
   "outputs": [],
   "source": [],
   "metadata": {
    "collapsed": false
   },
   "id": "bb07916241f07168"
  }
 ],
 "metadata": {
  "kernelspec": {
   "display_name": "Python 3",
   "language": "python",
   "name": "python3"
  },
  "language_info": {
   "codemirror_mode": {
    "name": "ipython",
    "version": 2
   },
   "file_extension": ".py",
   "mimetype": "text/x-python",
   "name": "python",
   "nbconvert_exporter": "python",
   "pygments_lexer": "ipython2",
   "version": "2.7.6"
  }
 },
 "nbformat": 4,
 "nbformat_minor": 5
}
