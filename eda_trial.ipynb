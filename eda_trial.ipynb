{
 "cells": [
  {
   "cell_type": "markdown",
   "source": [
    "# This is a sample Jupyter Notebook\n",
    "\n",
    "Below is an example of a code cell. \n",
    "Put your cursor into the cell and press Shift+Enter to execute it and select the next one, or click 'Run Cell' button.\n",
    "\n",
    "Press Double Shift to search everywhere for classes, files, tool windows, actions, and settings.\n",
    "\n",
    "To learn more about Jupyter Notebooks in PyCharm, see [help](https://www.jetbrains.com/help/pycharm/ipython-notebook-support.html).\n",
    "For an overview of PyCharm, go to Help -> Learn IDE features or refer to [our documentation](https://www.jetbrains.com/help/pycharm/getting-started.html)."
   ],
   "metadata": {
    "collapsed": false
   },
   "id": "107f2e5f1de654cc"
  },
  {
   "cell_type": "code",
   "outputs": [],
   "source": [
    "from urllib.request import urlretrieve\n",
    "## need to have this be part of the deliverable data package ##\n",
    "URL = 'https://www.energy.ca.gov/filebrowser/download/6311?fid=6311#block-symsoft-page-title'"
   ],
   "metadata": {
    "collapsed": false
   },
   "id": "fd9f0b46f8eea1ec"
  },
  {
   "cell_type": "code",
   "outputs": [],
   "source": [
    "urlretrieve(URL, 'vehicle_data/california_vehicle.xlsx')"
   ],
   "metadata": {
    "collapsed": false
   },
   "id": "5a9e5cd292c82124"
  },
  {
   "cell_type": "code",
   "outputs": [],
   "source": [
    "import pandas as pd\n",
    "df_multiple_sheets = pd.read_excel('california_vehicle.xlsx',sheet_name=[\"County\", \"ZIP\"])"
   ],
   "metadata": {
    "collapsed": false
   },
   "id": "c60f702d3cb92f65"
  },
  {
   "cell_type": "code",
   "outputs": [],
   "source": [
    "county_df = df_multiple_sheets['County']\n",
    "zipcode_df = df_multiple_sheets['ZIP']"
   ],
   "metadata": {
    "collapsed": false
   },
   "id": "415ad4ab4ff2ad87"
  },
  {
   "cell_type": "code",
   "outputs": [],
   "source": [
    "#%matplotlib inline\n",
    "county_df.head()"
   ],
   "metadata": {
    "collapsed": false
   },
   "id": "db1ccceb4d1c667"
  },
  {
   "cell_type": "code",
   "outputs": [],
   "source": [
    "zipcode_df.head()\n"
   ],
   "metadata": {
    "collapsed": false
   },
   "id": "9e02be89cb707f82"
  },
  {
   "cell_type": "code",
   "outputs": [],
   "source": [
    "\n",
    "\n",
    "\n"
   ],
   "metadata": {
    "collapsed": false
   },
   "id": "730fbcc99e911731"
  },
  {
   "cell_type": "code",
   "outputs": [],
   "source": [],
   "metadata": {
    "collapsed": false
   },
   "id": "8515e66633f05bbb"
  },
  {
   "cell_type": "code",
   "outputs": [],
   "source": [],
   "metadata": {
    "collapsed": false
   },
   "id": "98ad580c7d11a788"
  },
  {
   "cell_type": "code",
   "outputs": [],
   "source": [],
   "metadata": {
    "collapsed": false
   },
   "id": "702f81f5a6b62d55"
  },
  {
   "cell_type": "code",
   "outputs": [],
   "source": [
    "\n",
    "print(len(zipcode_df[zipcode_df['Data Year'] == 2023]['ZIP'].unique()))"
   ],
   "metadata": {
    "collapsed": false
   },
   "id": "1bd1639bacae3d98"
  },
  {
   "metadata": {
    "ExecuteTime": {
     "end_time": "2024-09-15T23:34:23.053735Z",
     "start_time": "2024-09-15T23:34:23.050233Z"
    }
   },
   "cell_type": "code",
   "source": "",
   "id": "f8a7c02fbafc48f1",
   "outputs": [],
   "execution_count": null
  },
  {
   "metadata": {},
   "cell_type": "code",
   "outputs": [],
   "execution_count": null,
   "source": "",
   "id": "7804198dcb1f1920"
  }
 ],
 "metadata": {
  "kernelspec": {
   "display_name": "Python 3",
   "language": "python",
   "name": "python3"
  },
  "language_info": {
   "codemirror_mode": {
    "name": "ipython",
    "version": 2
   },
   "file_extension": ".py",
   "mimetype": "text/x-python",
   "name": "python",
   "nbconvert_exporter": "python",
   "pygments_lexer": "ipython2",
   "version": "2.7.6"
  }
 },
 "nbformat": 4,
 "nbformat_minor": 5
}
