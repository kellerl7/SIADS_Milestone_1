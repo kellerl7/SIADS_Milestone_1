{
 "cells": [
  {
   "metadata": {},
   "cell_type": "markdown",
   "source": [
    "# This is a sample Jupyter Notebook\n",
    "\n",
    "Below is an example of a code cell. \n",
    "Put your cursor into the cell and press Shift+Enter to execute it and select the next one, or click 'Run Cell' button.\n",
    "\n",
    "Press Double Shift to search everywhere for classes, files, tool windows, actions, and settings.\n",
    "\n",
    "To learn more about Jupyter Notebooks in PyCharm, see [help](https://www.jetbrains.com/help/pycharm/ipython-notebook-support.html).\n",
    "For an overview of PyCharm, go to Help -> Learn IDE features or refer to [our documentation](https://www.jetbrains.com/help/pycharm/getting-started.html)."
   ],
   "id": "8a77807f92f26ee"
  },
  {
   "metadata": {
    "ExecuteTime": {
     "end_time": "2024-09-15T16:59:12.485392Z",
     "start_time": "2024-09-15T16:59:12.480407Z"
    }
   },
   "cell_type": "code",
   "source": [
    "from urllib.request import urlretrieve\n",
    "## need to have this be part of the deliverable data package ## \n",
    "URL = 'https://www.energy.ca.gov/filebrowser/download/6311?fid=6311#block-symsoft-page-title'"
   ],
   "id": "2c3dc97a4124de60",
   "outputs": [],
   "execution_count": 54
  },
  {
   "metadata": {
    "ExecuteTime": {
     "end_time": "2024-09-15T16:59:17.913100Z",
     "start_time": "2024-09-15T16:59:12.917231Z"
    }
   },
   "cell_type": "code",
   "source": "urlretrieve(URL, 'california_vehicle.xlsx')",
   "id": "47b825940662c25c",
   "outputs": [
    {
     "data": {
      "text/plain": [
       "('california_vehicle.xlsx', <http.client.HTTPMessage at 0x21f24a5d210>)"
      ]
     },
     "execution_count": 55,
     "metadata": {},
     "output_type": "execute_result"
    }
   ],
   "execution_count": 55
  },
  {
   "metadata": {
    "ExecuteTime": {
     "end_time": "2024-09-15T17:02:43.920181Z",
     "start_time": "2024-09-15T17:02:31.489529Z"
    }
   },
   "cell_type": "code",
   "source": [
    "import pandas as pd\n",
    "df_multiple_sheets = pd.read_excel('california_vehicle.xlsx',sheet_name=[\"County\", \"ZIP\"])"
   ],
   "id": "1b944167c773b5bf",
   "outputs": [],
   "execution_count": 60
  },
  {
   "metadata": {
    "ExecuteTime": {
     "end_time": "2024-09-15T17:02:43.951065Z",
     "start_time": "2024-09-15T17:02:43.928091Z"
    }
   },
   "cell_type": "code",
   "source": [
    "county_df = df_multiple_sheets['County']\n",
    "zipcode_df = df_multiple_sheets['ZIP']"
   ],
   "id": "9f146f0d0a5ec18f",
   "outputs": [],
   "execution_count": 61
  },
  {
   "metadata": {
    "ExecuteTime": {
     "end_time": "2024-09-15T23:20:09.812498Z",
     "start_time": "2024-09-15T23:20:09.800460Z"
    }
   },
   "cell_type": "code",
   "source": [
    "#%matplotlib inline\n",
    "county_df.head()"
   ],
   "id": "6efed9022994a609",
   "outputs": [
    {
     "data": {
      "text/plain": [
       "   Data Year   County Dashboard Fuel Type Group               Fuel Type  \\\n",
       "0       2010  Alameda    Battery Electric (BEV)  Battery Electric (BEV)   \n",
       "1       2010  Alameda    Battery Electric (BEV)  Battery Electric (BEV)   \n",
       "2       2010  Alameda                    Diesel                  Diesel   \n",
       "3       2010  Alameda                  Gasoline               Flex Fuel   \n",
       "4       2010  Alameda                  Gasoline                Gasoline   \n",
       "\n",
       "    Make     Model  Number of Vehicles  \n",
       "0   Ford    Ranger                   3  \n",
       "1  Tesla  Roadster                  17  \n",
       "2    NaN       NaN               10939  \n",
       "3    NaN       NaN               10974  \n",
       "4    NaN       NaN              840577  "
      ],
      "text/html": [
       "<div>\n",
       "<style scoped>\n",
       "    .dataframe tbody tr th:only-of-type {\n",
       "        vertical-align: middle;\n",
       "    }\n",
       "\n",
       "    .dataframe tbody tr th {\n",
       "        vertical-align: top;\n",
       "    }\n",
       "\n",
       "    .dataframe thead th {\n",
       "        text-align: right;\n",
       "    }\n",
       "</style>\n",
       "<table border=\"1\" class=\"dataframe\">\n",
       "  <thead>\n",
       "    <tr style=\"text-align: right;\">\n",
       "      <th></th>\n",
       "      <th>Data Year</th>\n",
       "      <th>County</th>\n",
       "      <th>Dashboard Fuel Type Group</th>\n",
       "      <th>Fuel Type</th>\n",
       "      <th>Make</th>\n",
       "      <th>Model</th>\n",
       "      <th>Number of Vehicles</th>\n",
       "    </tr>\n",
       "  </thead>\n",
       "  <tbody>\n",
       "    <tr>\n",
       "      <th>0</th>\n",
       "      <td>2010</td>\n",
       "      <td>Alameda</td>\n",
       "      <td>Battery Electric (BEV)</td>\n",
       "      <td>Battery Electric (BEV)</td>\n",
       "      <td>Ford</td>\n",
       "      <td>Ranger</td>\n",
       "      <td>3</td>\n",
       "    </tr>\n",
       "    <tr>\n",
       "      <th>1</th>\n",
       "      <td>2010</td>\n",
       "      <td>Alameda</td>\n",
       "      <td>Battery Electric (BEV)</td>\n",
       "      <td>Battery Electric (BEV)</td>\n",
       "      <td>Tesla</td>\n",
       "      <td>Roadster</td>\n",
       "      <td>17</td>\n",
       "    </tr>\n",
       "    <tr>\n",
       "      <th>2</th>\n",
       "      <td>2010</td>\n",
       "      <td>Alameda</td>\n",
       "      <td>Diesel</td>\n",
       "      <td>Diesel</td>\n",
       "      <td>NaN</td>\n",
       "      <td>NaN</td>\n",
       "      <td>10939</td>\n",
       "    </tr>\n",
       "    <tr>\n",
       "      <th>3</th>\n",
       "      <td>2010</td>\n",
       "      <td>Alameda</td>\n",
       "      <td>Gasoline</td>\n",
       "      <td>Flex Fuel</td>\n",
       "      <td>NaN</td>\n",
       "      <td>NaN</td>\n",
       "      <td>10974</td>\n",
       "    </tr>\n",
       "    <tr>\n",
       "      <th>4</th>\n",
       "      <td>2010</td>\n",
       "      <td>Alameda</td>\n",
       "      <td>Gasoline</td>\n",
       "      <td>Gasoline</td>\n",
       "      <td>NaN</td>\n",
       "      <td>NaN</td>\n",
       "      <td>840577</td>\n",
       "    </tr>\n",
       "  </tbody>\n",
       "</table>\n",
       "</div>"
      ]
     },
     "execution_count": 66,
     "metadata": {},
     "output_type": "execute_result"
    }
   ],
   "execution_count": 66
  },
  {
   "metadata": {
    "ExecuteTime": {
     "end_time": "2024-09-15T23:20:01.018840Z",
     "start_time": "2024-09-15T23:20:00.849599Z"
    }
   },
   "cell_type": "code",
   "outputs": [
    {
     "data": {
      "text/plain": [
       "   Data Year Dashboard Fuel Type Group               Fuel Type    ZIP  \\\n",
       "0       2010    Battery Electric (BEV)  Battery Electric (BEV)  99999   \n",
       "1       2010    Battery Electric (BEV)  Battery Electric (BEV)  95831   \n",
       "2       2010    Battery Electric (BEV)  Battery Electric (BEV)  95817   \n",
       "3       2010    Battery Electric (BEV)  Battery Electric (BEV)  95765   \n",
       "4       2010    Battery Electric (BEV)  Battery Electric (BEV)  95747   \n",
       "\n",
       "   Number of Vehicles  \n",
       "0                  12  \n",
       "1                   1  \n",
       "2                   1  \n",
       "3                   1  \n",
       "4                   1  "
      ],
      "text/html": [
       "<div>\n",
       "<style scoped>\n",
       "    .dataframe tbody tr th:only-of-type {\n",
       "        vertical-align: middle;\n",
       "    }\n",
       "\n",
       "    .dataframe tbody tr th {\n",
       "        vertical-align: top;\n",
       "    }\n",
       "\n",
       "    .dataframe thead th {\n",
       "        text-align: right;\n",
       "    }\n",
       "</style>\n",
       "<table border=\"1\" class=\"dataframe\">\n",
       "  <thead>\n",
       "    <tr style=\"text-align: right;\">\n",
       "      <th></th>\n",
       "      <th>Data Year</th>\n",
       "      <th>Dashboard Fuel Type Group</th>\n",
       "      <th>Fuel Type</th>\n",
       "      <th>ZIP</th>\n",
       "      <th>Number of Vehicles</th>\n",
       "    </tr>\n",
       "  </thead>\n",
       "  <tbody>\n",
       "    <tr>\n",
       "      <th>0</th>\n",
       "      <td>2010</td>\n",
       "      <td>Battery Electric (BEV)</td>\n",
       "      <td>Battery Electric (BEV)</td>\n",
       "      <td>99999</td>\n",
       "      <td>12</td>\n",
       "    </tr>\n",
       "    <tr>\n",
       "      <th>1</th>\n",
       "      <td>2010</td>\n",
       "      <td>Battery Electric (BEV)</td>\n",
       "      <td>Battery Electric (BEV)</td>\n",
       "      <td>95831</td>\n",
       "      <td>1</td>\n",
       "    </tr>\n",
       "    <tr>\n",
       "      <th>2</th>\n",
       "      <td>2010</td>\n",
       "      <td>Battery Electric (BEV)</td>\n",
       "      <td>Battery Electric (BEV)</td>\n",
       "      <td>95817</td>\n",
       "      <td>1</td>\n",
       "    </tr>\n",
       "    <tr>\n",
       "      <th>3</th>\n",
       "      <td>2010</td>\n",
       "      <td>Battery Electric (BEV)</td>\n",
       "      <td>Battery Electric (BEV)</td>\n",
       "      <td>95765</td>\n",
       "      <td>1</td>\n",
       "    </tr>\n",
       "    <tr>\n",
       "      <th>4</th>\n",
       "      <td>2010</td>\n",
       "      <td>Battery Electric (BEV)</td>\n",
       "      <td>Battery Electric (BEV)</td>\n",
       "      <td>95747</td>\n",
       "      <td>1</td>\n",
       "    </tr>\n",
       "  </tbody>\n",
       "</table>\n",
       "</div>"
      ]
     },
     "execution_count": 65,
     "metadata": {},
     "output_type": "execute_result"
    }
   ],
   "execution_count": 65,
   "source": "zipcode_df.head()\n",
   "id": "fb84121ef22502ef"
  },
  {
   "metadata": {
    "ExecuteTime": {
     "end_time": "2024-09-14T18:30:19.308069Z",
     "start_time": "2024-09-14T18:30:06.868970Z"
    }
   },
   "cell_type": "code",
   "outputs": [
    {
     "name": "stdout",
     "output_type": "stream",
     "text": [
      "['info', 'County', 'ZIP']\n"
     ]
    }
   ],
   "execution_count": 31,
   "source": [
    "\n",
    "file_path = r\"C:\\Users\\broth\\Downloads\\Vehicle_Population_Last_updated_04-30-2024_ada.xlsx\"\n",
    "df_multiple_sheets = pd.read_excel(file_path, sheet_name=[\"County\", \"ZIP\"])  # Replace with actual sheet names\n",
    "\n",
    "# Read the Excel file\n",
    "excel_file = pd.ExcelFile(file_path)\n",
    "sheet_names = excel_file.sheet_names\n",
    "print(sheet_names)\n",
    "\n"
   ],
   "id": "fbc121e30a2defb3"
  },
  {
   "metadata": {
    "ExecuteTime": {
     "end_time": "2024-09-14T18:31:33.238127Z",
     "start_time": "2024-09-14T18:31:33.223177Z"
    }
   },
   "cell_type": "code",
   "source": [
    "county_df = df_multiple_sheets['County']\n",
    "zipcode_df = df_multiple_sheets['ZIP']"
   ],
   "id": "89fd5419ffc8fbd6",
   "outputs": [],
   "execution_count": 33
  },
  {
   "metadata": {
    "ExecuteTime": {
     "end_time": "2024-09-14T18:31:48.802641Z",
     "start_time": "2024-09-14T18:31:48.783085Z"
    }
   },
   "cell_type": "code",
   "source": "county_df.columns",
   "id": "b609b02fda9c64e4",
   "outputs": [
    {
     "data": {
      "text/plain": [
       "Index(['Data Year', 'County', 'Dashboard Fuel Type Group', 'Fuel Type', 'Make',\n",
       "       'Model', 'Number of Vehicles'],\n",
       "      dtype='object')"
      ]
     },
     "execution_count": 36,
     "metadata": {},
     "output_type": "execute_result"
    }
   ],
   "execution_count": 36
  },
  {
   "metadata": {
    "ExecuteTime": {
     "end_time": "2024-09-14T18:31:52.513799Z",
     "start_time": "2024-09-14T18:31:52.500845Z"
    }
   },
   "cell_type": "code",
   "source": "zipcode_df.columns",
   "id": "d520e7d40e0faeaf",
   "outputs": [
    {
     "data": {
      "text/plain": [
       "Index(['Data Year', 'Dashboard Fuel Type Group', 'Fuel Type', 'ZIP',\n",
       "       'Number of Vehicles'],\n",
       "      dtype='object')"
      ]
     },
     "execution_count": 37,
     "metadata": {},
     "output_type": "execute_result"
    }
   ],
   "execution_count": 37
  },
  {
   "metadata": {
    "ExecuteTime": {
     "end_time": "2024-09-14T18:46:00.708610Z",
     "start_time": "2024-09-14T18:46:00.685052Z"
    }
   },
   "cell_type": "code",
   "source": [
    "print(county_df['Fuel Type'].describe())\n",
    "\n",
    "print(len(zipcode_df[zipcode_df['Data Year'] == 2023]['ZIP'].unique()))"
   ],
   "id": "6d1961cc33b2f797",
   "outputs": [
    {
     "name": "stdout",
     "output_type": "stream",
     "text": [
      "count                     33542\n",
      "unique                        9\n",
      "top       Plug-in Hybrid (PHEV)\n",
      "freq                      14890\n",
      "Name: Fuel Type, dtype: object\n",
      "2558\n"
     ]
    }
   ],
   "execution_count": 47
  },
  {
   "metadata": {
    "ExecuteTime": {
     "end_time": "2024-09-14T18:32:50.507532Z",
     "start_time": "2024-09-14T18:32:50.491081Z"
    }
   },
   "cell_type": "code",
   "source": "",
   "id": "5d5cf5d1f416777d",
   "outputs": [],
   "execution_count": null
  },
  {
   "metadata": {},
   "cell_type": "code",
   "outputs": [],
   "execution_count": null,
   "source": "",
   "id": "f8a7c02fbafc48f1"
  }
 ],
 "metadata": {
  "kernelspec": {
   "display_name": "Python 3",
   "language": "python",
   "name": "python3"
  },
  "language_info": {
   "codemirror_mode": {
    "name": "ipython",
    "version": 2
   },
   "file_extension": ".py",
   "mimetype": "text/x-python",
   "name": "python",
   "nbconvert_exporter": "python",
   "pygments_lexer": "ipython2",
   "version": "2.7.6"
  }
 },
 "nbformat": 4,
 "nbformat_minor": 5
}
