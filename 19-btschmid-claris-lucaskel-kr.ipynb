{
 "cells": [
  {
   "cell_type": "markdown",
   "source": [
    "# Driving Towards a Brighter Future: \n",
    "## EV Adaption Rates in California and its Effect on PM 2.5 Emissions\n",
    "\n"
   ],
   "metadata": {
    "collapsed": false
   },
   "id": "ef528c0bb02077f"
  },
  {
   "cell_type": "code",
   "outputs": [
    {
     "ename": "SyntaxError",
     "evalue": "invalid syntax (373123575.py, line 2)",
     "output_type": "error",
     "traceback": [
      "\u001B[0;36m  Cell \u001B[0;32mIn[2], line 2\u001B[0;36m\u001B[0m\n\u001B[0;31m    pip install openpyxl\u001B[0m\n\u001B[0m        ^\u001B[0m\n\u001B[0;31mSyntaxError\u001B[0m\u001B[0;31m:\u001B[0m invalid syntax\n"
     ]
    }
   ],
   "source": [
    "# install pip if not already downloaded\n",
    "pip install openpyxl"
   ],
   "metadata": {
    "collapsed": false,
    "ExecuteTime": {
     "end_time": "2024-09-30T16:45:39.337612Z",
     "start_time": "2024-09-30T16:45:39.331574Z"
    }
   },
   "id": "8e2b173f8cc6cc6b",
   "execution_count": 2
  },
  {
   "cell_type": "code",
   "outputs": [],
   "source": [
    "# import\n",
    "import pandas as pd "
   ],
   "metadata": {
    "collapsed": false,
    "ExecuteTime": {
     "end_time": "2024-09-30T16:45:39.686789Z",
     "start_time": "2024-09-30T16:45:39.344434Z"
    }
   },
   "id": "65c8ca51d599b6a8",
   "execution_count": 3
  },
  {
   "cell_type": "markdown",
   "source": [
    "### Data Source 1: Cleaning and Manipulation \n",
    "#### Our primary datasource was the California Vehicle Population dataset, which contains information on number of vehicles registered in each count or zip code by make, model, and fuel type. This file was uploaded to Github and stored in vehicle_data folder. Manually inspecting the vehicle data reveals there are three work sheets, where 'County' shows the registered cars per each county in California. Since we are studying the effects by county, this is the dataset we are interested in. "
   ],
   "metadata": {
    "collapsed": false
   },
   "id": "493ffb8cd5a09f7c"
  },
  {
   "cell_type": "code",
   "outputs": [],
   "source": [
    "# Let's create df from csv file \n",
    "countyvehicle_df = pd.read_excel('vehicle_data/california_vehicle.xlsx',sheet_name=\"County\")"
   ],
   "metadata": {
    "collapsed": false,
    "ExecuteTime": {
     "end_time": "2024-09-30T16:45:41.246031Z",
     "start_time": "2024-09-30T16:45:39.688994Z"
    }
   },
   "id": "b714c29267e17f4a",
   "execution_count": 4
  },
  {
   "cell_type": "code",
   "outputs": [
    {
     "data": {
      "text/plain": "(33542, 7)"
     },
     "execution_count": 5,
     "metadata": {},
     "output_type": "execute_result"
    }
   ],
   "source": [
    "## We've isolated the worksheet, now let's take a look at the shape ##\n",
    "countyvehicle_df.shape"
   ],
   "metadata": {
    "collapsed": false,
    "ExecuteTime": {
     "end_time": "2024-09-30T16:45:41.249639Z",
     "start_time": "2024-09-30T16:45:41.246738Z"
    }
   },
   "id": "618de9f02d9204fe",
   "execution_count": 5
  },
  {
   "cell_type": "code",
   "outputs": [
    {
     "data": {
      "text/plain": "   Data Year   County Dashboard Fuel Type Group               Fuel Type  \\\n0       2010  Alameda    Battery Electric (BEV)  Battery Electric (BEV)   \n1       2010  Alameda    Battery Electric (BEV)  Battery Electric (BEV)   \n2       2010  Alameda                    Diesel                  Diesel   \n3       2010  Alameda                  Gasoline               Flex Fuel   \n4       2010  Alameda                  Gasoline                Gasoline   \n\n    Make     Model  Number of Vehicles  \n0   Ford    Ranger                   3  \n1  Tesla  Roadster                  17  \n2    NaN       NaN               10939  \n3    NaN       NaN               10974  \n4    NaN       NaN              840577  ",
      "text/html": "<div>\n<style scoped>\n    .dataframe tbody tr th:only-of-type {\n        vertical-align: middle;\n    }\n\n    .dataframe tbody tr th {\n        vertical-align: top;\n    }\n\n    .dataframe thead th {\n        text-align: right;\n    }\n</style>\n<table border=\"1\" class=\"dataframe\">\n  <thead>\n    <tr style=\"text-align: right;\">\n      <th></th>\n      <th>Data Year</th>\n      <th>County</th>\n      <th>Dashboard Fuel Type Group</th>\n      <th>Fuel Type</th>\n      <th>Make</th>\n      <th>Model</th>\n      <th>Number of Vehicles</th>\n    </tr>\n  </thead>\n  <tbody>\n    <tr>\n      <th>0</th>\n      <td>2010</td>\n      <td>Alameda</td>\n      <td>Battery Electric (BEV)</td>\n      <td>Battery Electric (BEV)</td>\n      <td>Ford</td>\n      <td>Ranger</td>\n      <td>3</td>\n    </tr>\n    <tr>\n      <th>1</th>\n      <td>2010</td>\n      <td>Alameda</td>\n      <td>Battery Electric (BEV)</td>\n      <td>Battery Electric (BEV)</td>\n      <td>Tesla</td>\n      <td>Roadster</td>\n      <td>17</td>\n    </tr>\n    <tr>\n      <th>2</th>\n      <td>2010</td>\n      <td>Alameda</td>\n      <td>Diesel</td>\n      <td>Diesel</td>\n      <td>NaN</td>\n      <td>NaN</td>\n      <td>10939</td>\n    </tr>\n    <tr>\n      <th>3</th>\n      <td>2010</td>\n      <td>Alameda</td>\n      <td>Gasoline</td>\n      <td>Flex Fuel</td>\n      <td>NaN</td>\n      <td>NaN</td>\n      <td>10974</td>\n    </tr>\n    <tr>\n      <th>4</th>\n      <td>2010</td>\n      <td>Alameda</td>\n      <td>Gasoline</td>\n      <td>Gasoline</td>\n      <td>NaN</td>\n      <td>NaN</td>\n      <td>840577</td>\n    </tr>\n  </tbody>\n</table>\n</div>"
     },
     "execution_count": 6,
     "metadata": {},
     "output_type": "execute_result"
    }
   ],
   "source": [
    "## We see there are 33542 rows and 7 columns, now let's see what that looks like ##\n",
    "countyvehicle_df.head()"
   ],
   "metadata": {
    "collapsed": false,
    "ExecuteTime": {
     "end_time": "2024-09-30T16:45:41.258923Z",
     "start_time": "2024-09-30T16:45:41.250728Z"
    }
   },
   "id": "9007d9d32c43c503",
   "execution_count": 6
  },
  {
   "cell_type": "code",
   "outputs": [
    {
     "name": "stdout",
     "output_type": "stream",
     "text": [
      "<class 'pandas.core.frame.DataFrame'>\n",
      "RangeIndex: 33542 entries, 0 to 33541\n",
      "Data columns (total 5 columns):\n",
      " #   Column                     Non-Null Count  Dtype \n",
      "---  ------                     --------------  ----- \n",
      " 0   Data Year                  33542 non-null  int64 \n",
      " 1   County                     33542 non-null  object\n",
      " 2   Dashboard Fuel Type Group  33542 non-null  object\n",
      " 3   Fuel Type                  33542 non-null  object\n",
      " 4   Number of Vehicles         33542 non-null  int64 \n",
      "dtypes: int64(2), object(3)\n",
      "memory usage: 1.3+ MB\n"
     ]
    }
   ],
   "source": [
    "## We're not interested in the Make or Model of the car, so let's drop those values ##\n",
    "countyvehicle_df = countyvehicle_df.drop(columns=['Make','Model'])\n",
    "countyvehicle_df.info()"
   ],
   "metadata": {
    "collapsed": false,
    "ExecuteTime": {
     "end_time": "2024-09-30T16:45:41.278647Z",
     "start_time": "2024-09-30T16:45:41.259437Z"
    }
   },
   "id": "e075187438cc4278",
   "execution_count": 7
  },
  {
   "cell_type": "code",
   "outputs": [
    {
     "data": {
      "text/plain": "array(['Alameda', 'Alpine', 'Amador', 'Butte', 'Calaveras', 'Colusa',\n       'Contra Costa', 'Del Norte', 'El Dorado', 'Fresno', 'Glenn',\n       'Humboldt', 'Imperial', 'Inyo', 'Kern', 'Kings', 'Lake', 'Lassen',\n       'Los Angeles', 'Madera', 'Marin', 'Mariposa', 'Mendocino',\n       'Merced', 'Modoc', 'Mono', 'Monterey', 'Napa', 'Nevada', 'Orange',\n       'Out Of State', 'Placer', 'Plumas', 'Riverside', 'Sacramento',\n       'San Benito', 'San Bernardino', 'San Diego', 'San Francisco',\n       'San Joaquin', 'San Luis Obispo', 'San Mateo', 'Santa Barbara',\n       'Santa Clara', 'Santa Cruz', 'Shasta', 'Sierra', 'Siskiyou',\n       'Solano', 'Sonoma', 'Stanislaus', 'Sutter', 'Tehama', 'Trinity',\n       'Tulare', 'Tuolumne', 'Ventura', 'Yolo', 'Yuba', 'Out of State'],\n      dtype=object)"
     },
     "execution_count": 8,
     "metadata": {},
     "output_type": "execute_result"
    }
   ],
   "source": [
    "# Let's see how many unique Counties there are in California\n",
    "countyvehicle_df['County'].unique()"
   ],
   "metadata": {
    "collapsed": false,
    "ExecuteTime": {
     "end_time": "2024-09-30T16:46:16.899348Z",
     "start_time": "2024-09-30T16:46:16.887712Z"
    }
   },
   "id": "396bf915eb5ce046",
   "execution_count": 8
  },
  {
   "cell_type": "code",
   "outputs": [
    {
     "name": "stdout",
     "output_type": "stream",
     "text": [
      "The total number of vehicles for 'Out of State' in 2021 is: 403531\n",
      "The total number of vehicles for 'Out of State' in 2022 is: 409644\n"
     ]
    }
   ],
   "source": [
    "# There are vehicles present that are from out of state. Let's see what years have vehicles from out of state \n",
    "for year in countyvehicle_df['Data Year'].unique():\n",
    "    out_of_state_2023 = countyvehicle_df[(countyvehicle_df['Data Year'] == year) & \n",
    "                                         (countyvehicle_df['County'] == 'Out of State')]\n",
    "    \n",
    "    total_out_of_state_2023 = out_of_state_2023['Number of Vehicles'].sum()\n",
    "    if total_out_of_state_2023 != 0:\n",
    "        print(f\"The total number of vehicles for 'Out of State' in {year} is: {total_out_of_state_2023}\")"
   ],
   "metadata": {
    "collapsed": false,
    "ExecuteTime": {
     "end_time": "2024-09-30T16:46:49.529339Z",
     "start_time": "2024-09-30T16:46:49.491811Z"
    }
   },
   "id": "f19dcc50b9bee7c2",
   "execution_count": 9
  },
  {
   "cell_type": "code",
   "outputs": [],
   "source": [
    "# Since out of state is only present for two years (2021-2022), we'll drop those values and note our assumption that they have a marginal impact. \n",
    "calcountyvehicle_df = countyvehicle_df[~countyvehicle_df['County'].isin(['Out of State'])]"
   ],
   "metadata": {
    "collapsed": false,
    "ExecuteTime": {
     "end_time": "2024-09-30T16:50:17.545344Z",
     "start_time": "2024-09-30T16:50:17.520879Z"
    }
   },
   "id": "d54b64dabff917c6",
   "execution_count": 10
  },
  {
   "cell_type": "code",
   "outputs": [
    {
     "data": {
      "text/plain": "                Fuel Type Dashboard Fuel Type Group\n0  Battery Electric (BEV)    Battery Electric (BEV)\n1                  Diesel                    Diesel\n2               Flex Fuel                  Gasoline\n3                Gasoline           Gasoline Hybrid\n4         Gasoline Hybrid                     Other\n5             Natural Gas          Fuel Cell (FCEV)\n6                 Propane     Plug-in Hybrid (PHEV)\n7        Fuel Cell (FCEV)                       NaN\n8   Plug-in Hybrid (PHEV)                       NaN",
      "text/html": "<div>\n<style scoped>\n    .dataframe tbody tr th:only-of-type {\n        vertical-align: middle;\n    }\n\n    .dataframe tbody tr th {\n        vertical-align: top;\n    }\n\n    .dataframe thead th {\n        text-align: right;\n    }\n</style>\n<table border=\"1\" class=\"dataframe\">\n  <thead>\n    <tr style=\"text-align: right;\">\n      <th></th>\n      <th>Fuel Type</th>\n      <th>Dashboard Fuel Type Group</th>\n    </tr>\n  </thead>\n  <tbody>\n    <tr>\n      <th>0</th>\n      <td>Battery Electric (BEV)</td>\n      <td>Battery Electric (BEV)</td>\n    </tr>\n    <tr>\n      <th>1</th>\n      <td>Diesel</td>\n      <td>Diesel</td>\n    </tr>\n    <tr>\n      <th>2</th>\n      <td>Flex Fuel</td>\n      <td>Gasoline</td>\n    </tr>\n    <tr>\n      <th>3</th>\n      <td>Gasoline</td>\n      <td>Gasoline Hybrid</td>\n    </tr>\n    <tr>\n      <th>4</th>\n      <td>Gasoline Hybrid</td>\n      <td>Other</td>\n    </tr>\n    <tr>\n      <th>5</th>\n      <td>Natural Gas</td>\n      <td>Fuel Cell (FCEV)</td>\n    </tr>\n    <tr>\n      <th>6</th>\n      <td>Propane</td>\n      <td>Plug-in Hybrid (PHEV)</td>\n    </tr>\n    <tr>\n      <th>7</th>\n      <td>Fuel Cell (FCEV)</td>\n      <td>NaN</td>\n    </tr>\n    <tr>\n      <th>8</th>\n      <td>Plug-in Hybrid (PHEV)</td>\n      <td>NaN</td>\n    </tr>\n  </tbody>\n</table>\n</div>"
     },
     "execution_count": 11,
     "metadata": {},
     "output_type": "execute_result"
    }
   ],
   "source": [
    "# Next, let's take a look at the fuel types that are used. We're interested in impact of EVs and non-fossil fuel based cars. \n",
    "# There are two columns that cover the fuel type, 'Dashboard Fuel Type Group' and 'Fuel Type' that are fully populated (length 33542). \n",
    "# Let's take a look at the difference between the two.\n",
    "fuel_types_1 = calcountyvehicle_df['Dashboard Fuel Type Group'].unique()\n",
    "fuel_types_2 = calcountyvehicle_df['Fuel Type'].unique()\n",
    "\n",
    "fuel_types_df = pd.DataFrame({\n",
    "    'Fuel Type': pd.Series(fuel_types_2),\n",
    "    'Dashboard Fuel Type Group': pd.Series(fuel_types_1)\n",
    "})\n",
    "\n",
    "fuel_types_df\n"
   ],
   "metadata": {
    "collapsed": false,
    "ExecuteTime": {
     "end_time": "2024-09-30T16:50:18.094218Z",
     "start_time": "2024-09-30T16:50:18.083320Z"
    }
   },
   "id": "423a1e022119c694",
   "execution_count": 11
  },
  {
   "cell_type": "code",
   "outputs": [
    {
     "name": "stderr",
     "output_type": "stream",
     "text": [
      "/var/folders/zc/cqjcs2293rz1ymjq5gj5xxb00000gn/T/ipykernel_55677/1530751210.py:14: SettingWithCopyWarning: \n",
      "A value is trying to be set on a copy of a slice from a DataFrame.\n",
      "Try using .loc[row_indexer,col_indexer] = value instead\n",
      "\n",
      "See the caveats in the documentation: https://pandas.pydata.org/pandas-docs/stable/user_guide/indexing.html#returning-a-view-versus-a-copy\n",
      "  calcountyvehicle_df.loc[:, 'Fuel Category'] = calcountyvehicle_df['Fuel Type'].apply(categorize_fuel)\n"
     ]
    },
    {
     "data": {
      "text/plain": "   Data Year   County Dashboard Fuel Type Group               Fuel Type  \\\n0       2010  Alameda    Battery Electric (BEV)  Battery Electric (BEV)   \n1       2010  Alameda    Battery Electric (BEV)  Battery Electric (BEV)   \n2       2010  Alameda                    Diesel                  Diesel   \n3       2010  Alameda                  Gasoline               Flex Fuel   \n4       2010  Alameda                  Gasoline                Gasoline   \n\n   Number of Vehicles Fuel Category  \n0                   3            EV  \n1                  17            EV  \n2               10939   Fossil Fuel  \n3               10974   Fossil Fuel  \n4              840577   Fossil Fuel  ",
      "text/html": "<div>\n<style scoped>\n    .dataframe tbody tr th:only-of-type {\n        vertical-align: middle;\n    }\n\n    .dataframe tbody tr th {\n        vertical-align: top;\n    }\n\n    .dataframe thead th {\n        text-align: right;\n    }\n</style>\n<table border=\"1\" class=\"dataframe\">\n  <thead>\n    <tr style=\"text-align: right;\">\n      <th></th>\n      <th>Data Year</th>\n      <th>County</th>\n      <th>Dashboard Fuel Type Group</th>\n      <th>Fuel Type</th>\n      <th>Number of Vehicles</th>\n      <th>Fuel Category</th>\n    </tr>\n  </thead>\n  <tbody>\n    <tr>\n      <th>0</th>\n      <td>2010</td>\n      <td>Alameda</td>\n      <td>Battery Electric (BEV)</td>\n      <td>Battery Electric (BEV)</td>\n      <td>3</td>\n      <td>EV</td>\n    </tr>\n    <tr>\n      <th>1</th>\n      <td>2010</td>\n      <td>Alameda</td>\n      <td>Battery Electric (BEV)</td>\n      <td>Battery Electric (BEV)</td>\n      <td>17</td>\n      <td>EV</td>\n    </tr>\n    <tr>\n      <th>2</th>\n      <td>2010</td>\n      <td>Alameda</td>\n      <td>Diesel</td>\n      <td>Diesel</td>\n      <td>10939</td>\n      <td>Fossil Fuel</td>\n    </tr>\n    <tr>\n      <th>3</th>\n      <td>2010</td>\n      <td>Alameda</td>\n      <td>Gasoline</td>\n      <td>Flex Fuel</td>\n      <td>10974</td>\n      <td>Fossil Fuel</td>\n    </tr>\n    <tr>\n      <th>4</th>\n      <td>2010</td>\n      <td>Alameda</td>\n      <td>Gasoline</td>\n      <td>Gasoline</td>\n      <td>840577</td>\n      <td>Fossil Fuel</td>\n    </tr>\n  </tbody>\n</table>\n</div>"
     },
     "execution_count": 12,
     "metadata": {},
     "output_type": "execute_result"
    }
   ],
   "source": [
    "# It appears Dashboard Fuel Type Group goes ahead and clusters them together. \n",
    "# We're going to make our own the assumption and group together vehicles based on fuel type: \n",
    "# Diesel, Flex Fuel, Gasoline, Gasoline Hybrid, Natural Gas, and Propane will be treated as Fossil Fuels, while\n",
    "# Battery Electric, Fuel Cell, and Plug-in Hybrid will be treated as EVs. \n",
    "fossil_fuels = ['Diesel', 'Flex Fuel', 'Gasoline', 'Gasoline Hybrid', 'Natural Gas', 'Propane']\n",
    "evs = ['Battery Electric (BEV)', 'Fuel Cell (FCEV)', 'Plug-in Hybrid (PHEV)']\n",
    "def categorize_fuel(fuel_type):\n",
    "    if fuel_type in fossil_fuels:\n",
    "        return 'Fossil Fuel'\n",
    "    elif fuel_type in evs:\n",
    "        return 'EV'\n",
    "    else:\n",
    "        return 'Other'\n",
    "calcountyvehicle_df.loc[:, 'Fuel Category'] = calcountyvehicle_df['Fuel Type'].apply(categorize_fuel)\n",
    "# Print the DataFrame to check the new column\n",
    "calcountyvehicle_df.head()"
   ],
   "metadata": {
    "collapsed": false,
    "ExecuteTime": {
     "end_time": "2024-09-30T16:51:57.954368Z",
     "start_time": "2024-09-30T16:51:57.877945Z"
    }
   },
   "id": "20dae4056e18aa51",
   "execution_count": 12
  },
  {
   "cell_type": "code",
   "outputs": [],
   "source": [],
   "metadata": {
    "collapsed": false
   },
   "id": "cebeed130f8cf805"
  }
 ],
 "metadata": {
  "kernelspec": {
   "display_name": "Python 3",
   "language": "python",
   "name": "python3"
  },
  "language_info": {
   "codemirror_mode": {
    "name": "ipython",
    "version": 2
   },
   "file_extension": ".py",
   "mimetype": "text/x-python",
   "name": "python",
   "nbconvert_exporter": "python",
   "pygments_lexer": "ipython2",
   "version": "2.7.6"
  }
 },
 "nbformat": 4,
 "nbformat_minor": 5
}
