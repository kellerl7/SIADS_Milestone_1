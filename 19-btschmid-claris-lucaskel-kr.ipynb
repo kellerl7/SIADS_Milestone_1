{
 "cells": [
  {
   "cell_type": "markdown",
   "id": "ef528c0bb02077f",
   "metadata": {
    "collapsed": false,
    "jupyter": {
     "outputs_hidden": false
    }
   },
   "source": [
    "# Driving Towards a Brighter Future: \n",
    "## EV Adaption Rates in California and its Effect on PM 2.5 Emissions\n",
    "\n"
   ]
  },
  {
   "cell_type": "code",
   "execution_count": 1,
   "id": "8e2b173f8cc6cc6b",
   "metadata": {
    "ExecuteTime": {
     "end_time": "2024-10-01T04:10:45.498562Z",
     "start_time": "2024-10-01T04:10:45.496258Z"
    },
    "collapsed": false,
    "jupyter": {
     "outputs_hidden": false
    }
   },
   "outputs": [],
   "source": [
    "# install pip if not already downloaded\n",
    "# pip install openpyxl"
   ]
  },
  {
   "cell_type": "code",
   "execution_count": 2,
   "id": "65c8ca51d599b6a8",
   "metadata": {
    "ExecuteTime": {
     "end_time": "2024-10-01T04:10:47.079809Z",
     "start_time": "2024-10-01T04:10:45.500525Z"
    },
    "collapsed": false,
    "jupyter": {
     "outputs_hidden": false
    }
   },
   "outputs": [],
   "source": [
    "# import\n",
    "import pandas as pd \n",
    "import os\n",
    "from urllib.request import urlretrieve\n",
    "pd.options.mode.chained_assignment = None  # default='warn'\n",
    "import matplotlib.pyplot as plt\n",
    "from scipy.stats import zscore"
   ]
  },
  {
   "cell_type": "markdown",
   "id": "493ffb8cd5a09f7c",
   "metadata": {
    "collapsed": false,
    "jupyter": {
     "outputs_hidden": false
    }
   },
   "source": [
    "### Primary Dataset: Cleaning and Manipulation \n",
    "Our primary datasource was the California Vehicle Population dataset, which contains information on number of vehicles registered in each count or zip code by make, model, and fuel type. This file was uploaded to Github and stored in vehicle_data folder. Manually inspecting the vehicle data reveals there are three work sheets, where 'County' shows the registered cars per each county in California. Since we are studying the effects by county, this is the dataset we are interested in. "
   ]
  },
  {
   "cell_type": "code",
   "execution_count": 3,
   "id": "b714c29267e17f4a",
   "metadata": {
    "ExecuteTime": {
     "end_time": "2024-10-01T04:10:48.254116Z",
     "start_time": "2024-10-01T04:10:47.080592Z"
    },
    "collapsed": false,
    "jupyter": {
     "outputs_hidden": false
    }
   },
   "outputs": [],
   "source": [
    "# Let's create df from csv file \n",
    "countyvehicle_df = pd.read_excel('vehicle_data/california_vehicle.xlsx',sheet_name=\"County\")"
   ]
  },
  {
   "cell_type": "code",
   "execution_count": 4,
   "id": "618de9f02d9204fe",
   "metadata": {
    "ExecuteTime": {
     "end_time": "2024-10-01T04:10:48.257704Z",
     "start_time": "2024-10-01T04:10:48.254680Z"
    },
    "collapsed": false,
    "jupyter": {
     "outputs_hidden": false
    }
   },
   "outputs": [
    {
     "data": {
      "text/plain": [
       "(33542, 7)"
      ]
     },
     "execution_count": 4,
     "metadata": {},
     "output_type": "execute_result"
    }
   ],
   "source": [
    "## We've isolated the worksheet, now let's take a look at the shape ##\n",
    "countyvehicle_df.shape"
   ]
  },
  {
   "cell_type": "code",
   "execution_count": 5,
   "id": "9007d9d32c43c503",
   "metadata": {
    "ExecuteTime": {
     "end_time": "2024-10-01T04:10:48.262970Z",
     "start_time": "2024-10-01T04:10:48.258282Z"
    },
    "collapsed": false,
    "jupyter": {
     "outputs_hidden": false
    }
   },
   "outputs": [
    {
     "data": {
      "text/html": [
       "<div>\n",
       "<style scoped>\n",
       "    .dataframe tbody tr th:only-of-type {\n",
       "        vertical-align: middle;\n",
       "    }\n",
       "\n",
       "    .dataframe tbody tr th {\n",
       "        vertical-align: top;\n",
       "    }\n",
       "\n",
       "    .dataframe thead th {\n",
       "        text-align: right;\n",
       "    }\n",
       "</style>\n",
       "<table border=\"1\" class=\"dataframe\">\n",
       "  <thead>\n",
       "    <tr style=\"text-align: right;\">\n",
       "      <th></th>\n",
       "      <th>Data Year</th>\n",
       "      <th>County</th>\n",
       "      <th>Dashboard Fuel Type Group</th>\n",
       "      <th>Fuel Type</th>\n",
       "      <th>Make</th>\n",
       "      <th>Model</th>\n",
       "      <th>Number of Vehicles</th>\n",
       "    </tr>\n",
       "  </thead>\n",
       "  <tbody>\n",
       "    <tr>\n",
       "      <th>0</th>\n",
       "      <td>2010</td>\n",
       "      <td>Alameda</td>\n",
       "      <td>Battery Electric (BEV)</td>\n",
       "      <td>Battery Electric (BEV)</td>\n",
       "      <td>Ford</td>\n",
       "      <td>Ranger</td>\n",
       "      <td>3</td>\n",
       "    </tr>\n",
       "    <tr>\n",
       "      <th>1</th>\n",
       "      <td>2010</td>\n",
       "      <td>Alameda</td>\n",
       "      <td>Battery Electric (BEV)</td>\n",
       "      <td>Battery Electric (BEV)</td>\n",
       "      <td>Tesla</td>\n",
       "      <td>Roadster</td>\n",
       "      <td>17</td>\n",
       "    </tr>\n",
       "    <tr>\n",
       "      <th>2</th>\n",
       "      <td>2010</td>\n",
       "      <td>Alameda</td>\n",
       "      <td>Diesel</td>\n",
       "      <td>Diesel</td>\n",
       "      <td>NaN</td>\n",
       "      <td>NaN</td>\n",
       "      <td>10939</td>\n",
       "    </tr>\n",
       "    <tr>\n",
       "      <th>3</th>\n",
       "      <td>2010</td>\n",
       "      <td>Alameda</td>\n",
       "      <td>Gasoline</td>\n",
       "      <td>Flex Fuel</td>\n",
       "      <td>NaN</td>\n",
       "      <td>NaN</td>\n",
       "      <td>10974</td>\n",
       "    </tr>\n",
       "    <tr>\n",
       "      <th>4</th>\n",
       "      <td>2010</td>\n",
       "      <td>Alameda</td>\n",
       "      <td>Gasoline</td>\n",
       "      <td>Gasoline</td>\n",
       "      <td>NaN</td>\n",
       "      <td>NaN</td>\n",
       "      <td>840577</td>\n",
       "    </tr>\n",
       "  </tbody>\n",
       "</table>\n",
       "</div>"
      ],
      "text/plain": [
       "   Data Year   County Dashboard Fuel Type Group               Fuel Type  \\\n",
       "0       2010  Alameda    Battery Electric (BEV)  Battery Electric (BEV)   \n",
       "1       2010  Alameda    Battery Electric (BEV)  Battery Electric (BEV)   \n",
       "2       2010  Alameda                    Diesel                  Diesel   \n",
       "3       2010  Alameda                  Gasoline               Flex Fuel   \n",
       "4       2010  Alameda                  Gasoline                Gasoline   \n",
       "\n",
       "    Make     Model  Number of Vehicles  \n",
       "0   Ford    Ranger                   3  \n",
       "1  Tesla  Roadster                  17  \n",
       "2    NaN       NaN               10939  \n",
       "3    NaN       NaN               10974  \n",
       "4    NaN       NaN              840577  "
      ]
     },
     "execution_count": 5,
     "metadata": {},
     "output_type": "execute_result"
    }
   ],
   "source": [
    "## We see there are 33542 rows and 7 columns, now let's see what that looks like ##\n",
    "countyvehicle_df.head()"
   ]
  },
  {
   "cell_type": "code",
   "execution_count": 6,
   "id": "e075187438cc4278",
   "metadata": {
    "ExecuteTime": {
     "end_time": "2024-10-01T04:10:48.273007Z",
     "start_time": "2024-10-01T04:10:48.263551Z"
    },
    "collapsed": false,
    "jupyter": {
     "outputs_hidden": false
    }
   },
   "outputs": [
    {
     "name": "stdout",
     "output_type": "stream",
     "text": [
      "<class 'pandas.core.frame.DataFrame'>\n",
      "RangeIndex: 33542 entries, 0 to 33541\n",
      "Data columns (total 5 columns):\n",
      " #   Column                     Non-Null Count  Dtype \n",
      "---  ------                     --------------  ----- \n",
      " 0   Data Year                  33542 non-null  int64 \n",
      " 1   County                     33542 non-null  object\n",
      " 2   Dashboard Fuel Type Group  33542 non-null  object\n",
      " 3   Fuel Type                  33542 non-null  object\n",
      " 4   Number of Vehicles         33542 non-null  int64 \n",
      "dtypes: int64(2), object(3)\n",
      "memory usage: 1.3+ MB\n"
     ]
    }
   ],
   "source": [
    "## We're not interested in the Make or Model of the car, so let's drop those values ##\n",
    "countyvehicle_df = countyvehicle_df.drop(columns=['Make','Model'])\n",
    "countyvehicle_df.info()"
   ]
  },
  {
   "cell_type": "code",
   "execution_count": 7,
   "id": "396bf915eb5ce046",
   "metadata": {
    "ExecuteTime": {
     "end_time": "2024-10-01T04:10:48.278805Z",
     "start_time": "2024-10-01T04:10:48.275228Z"
    },
    "collapsed": false,
    "jupyter": {
     "outputs_hidden": false
    }
   },
   "outputs": [
    {
     "data": {
      "text/plain": [
       "array(['Alameda', 'Alpine', 'Amador', 'Butte', 'Calaveras', 'Colusa',\n",
       "       'Contra Costa', 'Del Norte', 'El Dorado', 'Fresno', 'Glenn',\n",
       "       'Humboldt', 'Imperial', 'Inyo', 'Kern', 'Kings', 'Lake', 'Lassen',\n",
       "       'Los Angeles', 'Madera', 'Marin', 'Mariposa', 'Mendocino',\n",
       "       'Merced', 'Modoc', 'Mono', 'Monterey', 'Napa', 'Nevada', 'Orange',\n",
       "       'Out Of State', 'Placer', 'Plumas', 'Riverside', 'Sacramento',\n",
       "       'San Benito', 'San Bernardino', 'San Diego', 'San Francisco',\n",
       "       'San Joaquin', 'San Luis Obispo', 'San Mateo', 'Santa Barbara',\n",
       "       'Santa Clara', 'Santa Cruz', 'Shasta', 'Sierra', 'Siskiyou',\n",
       "       'Solano', 'Sonoma', 'Stanislaus', 'Sutter', 'Tehama', 'Trinity',\n",
       "       'Tulare', 'Tuolumne', 'Ventura', 'Yolo', 'Yuba', 'Out of State'],\n",
       "      dtype=object)"
      ]
     },
     "execution_count": 7,
     "metadata": {},
     "output_type": "execute_result"
    }
   ],
   "source": [
    "# Let's see how many unique Counties there are in California\n",
    "countyvehicle_df['County'].unique()"
   ]
  },
  {
   "cell_type": "code",
   "execution_count": 8,
   "id": "f19dcc50b9bee7c2",
   "metadata": {
    "ExecuteTime": {
     "end_time": "2024-10-01T04:10:48.300138Z",
     "start_time": "2024-10-01T04:10:48.279442Z"
    },
    "collapsed": false,
    "jupyter": {
     "outputs_hidden": false
    }
   },
   "outputs": [
    {
     "name": "stdout",
     "output_type": "stream",
     "text": [
      "The total number of vehicles for 'Out of State' in 2021 is: 403531\n",
      "The total number of vehicles for 'Out of State' in 2022 is: 409644\n"
     ]
    }
   ],
   "source": [
    "# There are vehicles present that are from out of state. Let's see what years have vehicles from out of state \n",
    "for year in countyvehicle_df['Data Year'].unique():\n",
    "    out_of_state_2023 = countyvehicle_df[(countyvehicle_df['Data Year'] == year) & \n",
    "                                         (countyvehicle_df['County'] == 'Out of State')]\n",
    "    \n",
    "    total_out_of_state_2023 = out_of_state_2023['Number of Vehicles'].sum()\n",
    "    if total_out_of_state_2023 != 0:\n",
    "        print(f\"The total number of vehicles for 'Out of State' in {year} is: {total_out_of_state_2023}\")"
   ]
  },
  {
   "cell_type": "code",
   "execution_count": 9,
   "id": "d54b64dabff917c6",
   "metadata": {
    "ExecuteTime": {
     "end_time": "2024-10-01T04:10:48.304470Z",
     "start_time": "2024-10-01T04:10:48.301045Z"
    },
    "collapsed": false,
    "jupyter": {
     "outputs_hidden": false
    }
   },
   "outputs": [],
   "source": [
    "# Since out of state is only present for two years (2021-2022), we'll drop those values and note our assumption that they have a marginal impact. \n",
    "calcountyvehicle_df = countyvehicle_df[~countyvehicle_df['County'].isin(['Out of State'])]"
   ]
  },
  {
   "cell_type": "code",
   "execution_count": 10,
   "id": "423a1e022119c694",
   "metadata": {
    "ExecuteTime": {
     "end_time": "2024-10-01T04:10:48.312443Z",
     "start_time": "2024-10-01T04:10:48.305173Z"
    },
    "collapsed": false,
    "jupyter": {
     "outputs_hidden": false
    }
   },
   "outputs": [
    {
     "data": {
      "text/html": [
       "<div>\n",
       "<style scoped>\n",
       "    .dataframe tbody tr th:only-of-type {\n",
       "        vertical-align: middle;\n",
       "    }\n",
       "\n",
       "    .dataframe tbody tr th {\n",
       "        vertical-align: top;\n",
       "    }\n",
       "\n",
       "    .dataframe thead th {\n",
       "        text-align: right;\n",
       "    }\n",
       "</style>\n",
       "<table border=\"1\" class=\"dataframe\">\n",
       "  <thead>\n",
       "    <tr style=\"text-align: right;\">\n",
       "      <th></th>\n",
       "      <th>Fuel Type</th>\n",
       "      <th>Dashboard Fuel Type Group</th>\n",
       "    </tr>\n",
       "  </thead>\n",
       "  <tbody>\n",
       "    <tr>\n",
       "      <th>0</th>\n",
       "      <td>Battery Electric (BEV)</td>\n",
       "      <td>Battery Electric (BEV)</td>\n",
       "    </tr>\n",
       "    <tr>\n",
       "      <th>1</th>\n",
       "      <td>Diesel</td>\n",
       "      <td>Diesel</td>\n",
       "    </tr>\n",
       "    <tr>\n",
       "      <th>2</th>\n",
       "      <td>Flex Fuel</td>\n",
       "      <td>Gasoline</td>\n",
       "    </tr>\n",
       "    <tr>\n",
       "      <th>3</th>\n",
       "      <td>Gasoline</td>\n",
       "      <td>Gasoline Hybrid</td>\n",
       "    </tr>\n",
       "    <tr>\n",
       "      <th>4</th>\n",
       "      <td>Gasoline Hybrid</td>\n",
       "      <td>Other</td>\n",
       "    </tr>\n",
       "    <tr>\n",
       "      <th>5</th>\n",
       "      <td>Natural Gas</td>\n",
       "      <td>Fuel Cell (FCEV)</td>\n",
       "    </tr>\n",
       "    <tr>\n",
       "      <th>6</th>\n",
       "      <td>Propane</td>\n",
       "      <td>Plug-in Hybrid (PHEV)</td>\n",
       "    </tr>\n",
       "    <tr>\n",
       "      <th>7</th>\n",
       "      <td>Fuel Cell (FCEV)</td>\n",
       "      <td>NaN</td>\n",
       "    </tr>\n",
       "    <tr>\n",
       "      <th>8</th>\n",
       "      <td>Plug-in Hybrid (PHEV)</td>\n",
       "      <td>NaN</td>\n",
       "    </tr>\n",
       "  </tbody>\n",
       "</table>\n",
       "</div>"
      ],
      "text/plain": [
       "                Fuel Type Dashboard Fuel Type Group\n",
       "0  Battery Electric (BEV)    Battery Electric (BEV)\n",
       "1                  Diesel                    Diesel\n",
       "2               Flex Fuel                  Gasoline\n",
       "3                Gasoline           Gasoline Hybrid\n",
       "4         Gasoline Hybrid                     Other\n",
       "5             Natural Gas          Fuel Cell (FCEV)\n",
       "6                 Propane     Plug-in Hybrid (PHEV)\n",
       "7        Fuel Cell (FCEV)                       NaN\n",
       "8   Plug-in Hybrid (PHEV)                       NaN"
      ]
     },
     "execution_count": 10,
     "metadata": {},
     "output_type": "execute_result"
    }
   ],
   "source": [
    "# Next, let's take a look at the fuel types that are used. We're interested in impact of EVs and non-fossil fuel based cars. \n",
    "# There are two columns that cover the fuel type, 'Dashboard Fuel Type Group' and 'Fuel Type' that are fully populated (length 33542). \n",
    "# Let's take a look at the difference between the two.\n",
    "fuel_types_1 = calcountyvehicle_df['Dashboard Fuel Type Group'].unique()\n",
    "fuel_types_2 = calcountyvehicle_df['Fuel Type'].unique()\n",
    "\n",
    "fuel_types_df = pd.DataFrame({\n",
    "    'Fuel Type': pd.Series(fuel_types_2),\n",
    "    'Dashboard Fuel Type Group': pd.Series(fuel_types_1)\n",
    "})\n",
    "\n",
    "fuel_types_df\n"
   ]
  },
  {
   "cell_type": "markdown",
   "id": "c46a186477692d26",
   "metadata": {
    "collapsed": false,
    "jupyter": {
     "outputs_hidden": false
    }
   },
   "source": [
    "# Brett, we can uncomment this if it's needed :D "
   ]
  },
  {
   "cell_type": "code",
   "execution_count": 11,
   "id": "20dae4056e18aa51",
   "metadata": {
    "ExecuteTime": {
     "end_time": "2024-10-01T04:10:48.316795Z",
     "start_time": "2024-10-01T04:10:48.313572Z"
    },
    "collapsed": false,
    "jupyter": {
     "outputs_hidden": false
    }
   },
   "outputs": [],
   "source": [
    "\n",
    "\n",
    "# # It appears Dashboard Fuel Type Group goes ahead and clusters them together. \n",
    "# # We're going to make our own the assumption and group together vehicles based on fuel type: \n",
    "# # Diesel, Flex Fuel, Gasoline, Gasoline Hybrid, Natural Gas, and Propane will be treated as Fossil Fuels, while\n",
    "# # Battery Electric, Fuel Cell, and Plug-in Hybrid will be treated as EVs. \n",
    "# fossil_fuels = ['Diesel', 'Flex Fuel', 'Gasoline', 'Gasoline Hybrid', 'Natural Gas', 'Propane']\n",
    "# evs = ['Battery Electric (BEV)', 'Fuel Cell (FCEV)', 'Plug-in Hybrid (PHEV)']\n",
    "# def categorize_fuel(fuel_type):\n",
    "#     if fuel_type in fossil_fuels:\n",
    "#         return 'Fossil Fuel'\n",
    "#     elif fuel_type in evs:\n",
    "#         return 'EV'\n",
    "#     else:\n",
    "#         return 'Other'\n",
    "# calcountyvehicle_df.loc[:, 'Fuel Category'] = calcountyvehicle_df['Fuel Type'].apply(categorize_fuel)\n",
    "# # Print the DataFrame to check the new column\n",
    "# calcountyvehicle_df.head()"
   ]
  },
  {
   "cell_type": "code",
   "execution_count": 12,
   "id": "cebeed130f8cf805",
   "metadata": {
    "ExecuteTime": {
     "end_time": "2024-10-01T04:10:48.321732Z",
     "start_time": "2024-10-01T04:10:48.318715Z"
    },
    "collapsed": false,
    "jupyter": {
     "outputs_hidden": false
    }
   },
   "outputs": [],
   "source": [
    "# # Let's total the Number of Vehicles by Data Year, County, and Fuel Category. \n",
    "# fueltype_per_countyyear_totals_df = calcountyvehicle_df.groupby(['Data Year','County','Fuel Category'])['Number of Vehicles'].sum().reset_index()\n",
    "# fueltype_per_countyyear_totals_df"
   ]
  },
  {
   "cell_type": "code",
   "execution_count": 13,
   "id": "507c7d6d7d4d269d",
   "metadata": {
    "ExecuteTime": {
     "end_time": "2024-10-01T04:10:48.325877Z",
     "start_time": "2024-10-01T04:10:48.323588Z"
    },
    "collapsed": false,
    "jupyter": {
     "outputs_hidden": false
    }
   },
   "outputs": [],
   "source": [
    "# # Let's make a more sophisticated dataframe, so that each County has a EV and Fossil Fuel Category. This will allow us to more directly compare Counties and they Car Registration data. \n",
    "# for year in fueltype_per_countyyear_totals_df['Data Year'].unique():\n",
    "#     for county in fueltype_per_countyyear_totals_df['County'].unique():\n",
    "#         # Get the subset of the dataframe for this year and county\n",
    "#         subset = fueltype_per_countyyear_totals_df[(fueltype_per_countyyear_totals_df['Data Year'] == year) & \n",
    "#                                                    (fueltype_per_countyyear_totals_df['County'] == county)]\n",
    "#         \n",
    "#         # Check if 'EV' exists in the 'Fuel Category' for this year and county\n",
    "#         if 'EV' not in subset['Fuel Category'].values:\n",
    "#             # If not, create a new row with 0 vehicles for 'EV'\n",
    "#             new_row_ev = pd.DataFrame({'Data Year': [year], 'County': [county], 'Fuel Category': ['EV'], 'Number of Vehicles': [0]})\n",
    "#             fueltype_per_countyyear_totals_df = pd.concat([fueltype_per_countyyear_totals_df, new_row_ev], ignore_index=True)\n",
    "# \n",
    "#         # Check if 'Fossil Fuel' exists in the 'Fuel Category' for this year and county\n",
    "#         if 'Fossil Fuel' not in subset['Fuel Category'].values:\n",
    "#             # If not, create a new row with 0 vehicles for 'Fossil Fuel'\n",
    "#             new_row_fossil = pd.DataFrame({'Data Year': [year], 'County': [county], 'Fuel Category': ['Fossil Fuel'], 'Number of Vehicles': [0]})\n",
    "#             fueltype_per_countyyear_totals_df = pd.concat([fueltype_per_countyyear_totals_df, new_row_fossil], ignore_index=True)\n",
    "# \n",
    "# # Optionally, sort the dataframe by 'Data Year', 'County', and 'Fuel Category' for better readability\n",
    "# fueltype_per_countyyear_totals_df = fueltype_per_countyyear_totals_df.sort_values(by=['Data Year', 'County', 'Fuel Category']).reset_index(drop=True)\n",
    "# \n",
    "# fueltype_per_countyyear_totals_df.head()"
   ]
  },
  {
   "cell_type": "markdown",
   "id": "593a3f46add79363",
   "metadata": {
    "collapsed": false,
    "jupyter": {
     "outputs_hidden": false
    }
   },
   "source": [
    "# Brett, I think this is what we actually need, methinks. Is this right? "
   ]
  },
  {
   "cell_type": "code",
   "execution_count": 14,
   "id": "d90e150e24885d4d",
   "metadata": {
    "ExecuteTime": {
     "end_time": "2024-10-01T04:10:50.162324Z",
     "start_time": "2024-10-01T04:10:48.326509Z"
    },
    "collapsed": false,
    "jupyter": {
     "outputs_hidden": false
    }
   },
   "outputs": [
    {
     "data": {
      "text/plain": [
       "<bound method NDFrame.head of       Data Year   County Fuel Category  Number of Vehicles\n",
       "0          2010  Alameda            EV                  20\n",
       "1          2010  Alameda   Fossil Fuel              885402\n",
       "2          2010   Alpine            EV                   0\n",
       "3          2010   Alpine   Fossil Fuel                1041\n",
       "4          2010   Amador            EV                   1\n",
       "...         ...      ...           ...                 ...\n",
       "1647       2023  Ventura   Fossil Fuel              651851\n",
       "1648       2023     Yolo            EV                6757\n",
       "1649       2023     Yolo   Fossil Fuel              152560\n",
       "1650       2023     Yuba            EV                 961\n",
       "1651       2023     Yuba   Fossil Fuel               57567\n",
       "\n",
       "[1652 rows x 4 columns]>"
      ]
     },
     "execution_count": 14,
     "metadata": {},
     "output_type": "execute_result"
    }
   ],
   "source": [
    "# Now that we know the Fuel Type categories, let's organize our dataset so that each County has a EV and Fossil Fuel Category. This will allow us to directly compare Counties and they Car Registration data. \n",
    "def categorize_fuel(fuel_type):\n",
    "    \"\"\"\n",
    "    Categorize fuel types into 'Fossil Fuel', 'EV', or 'Other'.\n",
    "    \n",
    "    Args:\n",
    "        fuel_type (str): The fuel type to categorize.\n",
    "    \n",
    "    Returns:\n",
    "        str: The category of the fuel type.\n",
    "    \"\"\"\n",
    "    fossil_fuels = ['Diesel', 'Flex Fuel', 'Gasoline', 'Gasoline Hybrid', 'Natural Gas', 'Propane']\n",
    "    evs = ['Battery Electric (BEV)', 'Fuel Cell (FCEV)', 'Plug-in Hybrid (PHEV)']\n",
    "    \n",
    "    if fuel_type in fossil_fuels:\n",
    "        return 'Fossil Fuel'\n",
    "    elif fuel_type in evs:\n",
    "        return 'EV'\n",
    "    else:\n",
    "        return 'Other'\n",
    "def download_file(url, local_filename):\n",
    "    \"\"\"\n",
    "    Download a file from a URL to a local filename.\n",
    "    \n",
    "    Args:\n",
    "        url (str): The URL of the file to download.\n",
    "        local_filename (str): The local file path to save the downloaded file.\n",
    "    \"\"\"\n",
    "    try:\n",
    "        urlretrieve(url, local_filename)\n",
    "        print(f\"File downloaded successfully and saved as {local_filename}.\")\n",
    "    except Exception as e:\n",
    "        raise Exception(f\"An error occurred while downloading the file: {e}\")\n",
    "    \n",
    "def fueltype_per_countyyear_totals_df(excel_file):\n",
    "    \"\"\"\n",
    "    Generate a DataFrame summarizing the number of vehicles by year, county, and fuel category.\n",
    "    \n",
    "    Args:\n",
    "        excel_file (str): Path to the Excel file containing vehicle data.\n",
    "    \n",
    "    Returns:\n",
    "        pd.DataFrame: A DataFrame with totals of vehicles by year, county, and fuel category.\n",
    "    \n",
    "    Raises:\n",
    "        FileNotFoundError: If the specified Excel file is not found.\n",
    "        ValueError: If the sheet 'County' is not found in the Excel file or if there are issues with the data format.\n",
    "        \"\"\"\n",
    "    excel_file = os.path.join(os.getcwd(), excel_file)\n",
    "\n",
    "    if not os.path.exists(excel_file):\n",
    "        print(f\"File {excel_file} not found locally. Attempting to download...\")\n",
    "        URL = 'https://www.energy.ca.gov/filebrowser/download/6311?fid=6311#block-symsoft-page-title'\n",
    "        download_file(URL, excel_file)\n",
    "    \n",
    "    # Pull County Sheet from excel file ##\n",
    "    try:\n",
    "        # Read the Excel file\n",
    "        countyvehicle_df = pd.read_excel(excel_file, sheet_name=\"County\")\n",
    "    except FileNotFoundError:\n",
    "        raise FileNotFoundError(f\"The file {excel_file} was not found.\")\n",
    "    except ValueError as e:\n",
    "        raise ValueError(\"An error occurred while reading the Excel file. Ensure the file contains a sheet named 'County'.\") from e\n",
    "    except Exception as e:\n",
    "        raise Exception(\"An unexpected error occurred while reading the Excel file.\") from e\n",
    "    \n",
    "    ## Drop Irrelevent Columns ##\n",
    "    try:\n",
    "        countyvehicle_df = countyvehicle_df.drop(columns=['Make', 'Model'])\n",
    "    except KeyError as e:\n",
    "        raise KeyError(\"The specified columns to drop do not exist in the DataFrame.\") from e\n",
    "    \n",
    "    \n",
    "    ## Remove unwanted County Information ##\n",
    "    cal_countyvehicle_df = countyvehicle_df[~countyvehicle_df['County'].isin(['Out of State'])]\n",
    "    \n",
    "    ## Simply fuel types and categories ##\n",
    "    cal_countyvehicle_df.loc[:, 'Fuel Category'] = cal_countyvehicle_df['Fuel Type'].apply(categorize_fuel)\n",
    "    \n",
    "    ## Create final data frame based on year, county, fuel category, and number of vehicles ##\n",
    "    cartype_df = cal_countyvehicle_df.groupby(['Data Year', 'County', 'Fuel Category'])['Number of Vehicles'].sum().reset_index()  \n",
    "    for year in cartype_df['Data Year'].unique():\n",
    "        for county in cartype_df['County'].unique():\n",
    "            # Get the subset of the dataframe for this year and county\n",
    "            subset = cartype_df[(cartype_df['Data Year'] == year) & \n",
    "                                                       (cartype_df['County'] == county)]\n",
    "\n",
    "            # Check if 'EV' exists in the 'Fuel Category' for this year and county\n",
    "            if 'EV' not in subset['Fuel Category'].values:\n",
    "                # If not, create a new row with 0 vehicles for 'EV'\n",
    "                new_row_ev = pd.DataFrame({'Data Year': [year], 'County': [county], 'Fuel Category': ['EV'], 'Number of Vehicles': [0]})\n",
    "                cartype_df = pd.concat([cartype_df, new_row_ev], ignore_index=True)\n",
    "\n",
    "            # Check if 'Fossil Fuel' exists in the 'Fuel Category' for this year and county\n",
    "            if 'Fossil Fuel' not in subset['Fuel Category'].values:\n",
    "                # If not, create a new row with 0 vehicles for 'Fossil Fuel'\n",
    "                new_row_fossil = pd.DataFrame({'Data Year': [year], 'County': [county], 'Fuel Category': ['Fossil Fuel'], 'Number of Vehicles': [0]})\n",
    "                cartype_df = pd.concat([cartype_df, new_row_fossil], ignore_index=True)\n",
    "\n",
    "    # Optionally, sort the dataframe by 'Data Year', 'County', and 'Fuel Category' for better readability\n",
    "    cartype_df = cartype_df.sort_values(by=['Data Year', 'County', 'Fuel Category']).reset_index(drop=True)\n",
    "    output_path = 'fueltype_per_countyyear_totals.csv'\n",
    "    cartype_df.to_csv(output_path, index=False)\n",
    "    return cartype_df\n",
    "fueltype_per_county_totals =  fueltype_per_countyyear_totals_df('vehicle_data/california_vehicle.xlsx') \n",
    "fueltype_per_county_totals.head"
   ]
  },
  {
   "cell_type": "markdown",
   "id": "5932606fd02842de",
   "metadata": {
    "collapsed": false,
    "jupyter": {
     "outputs_hidden": false
    }
   },
   "source": [
    "# I don't think we need to export it if it's all one file right? "
   ]
  },
  {
   "cell_type": "code",
   "execution_count": 15,
   "id": "eecb613f4bc0fe48",
   "metadata": {
    "ExecuteTime": {
     "end_time": "2024-10-01T04:10:50.164538Z",
     "start_time": "2024-10-01T04:10:50.163070Z"
    },
    "collapsed": false,
    "jupyter": {
     "outputs_hidden": false
    }
   },
   "outputs": [],
   "source": [
    "# # Now that our Primary Dataset is cleaned and maniputed, let's export it to a csv so that other people can use it \n",
    "# fueltype_per_countyyear_df.to_csv('./SIADS_Milestone_1/vehicle_df', index = False)"
   ]
  },
  {
   "cell_type": "markdown",
   "id": "3eca62732e96e475",
   "metadata": {
    "collapsed": false,
    "jupyter": {
     "outputs_hidden": false
    }
   },
   "source": [
    "# Brett, I keep getting cartype as undefined. Can you clarify this code? I don't want to mess anything up on ya, Bud. "
   ]
  },
  {
   "cell_type": "code",
   "execution_count": 16,
   "id": "5dc3d4a32b75963e",
   "metadata": {
    "ExecuteTime": {
     "end_time": "2024-10-01T04:10:50.166844Z",
     "start_time": "2024-10-01T04:10:50.165078Z"
    },
    "collapsed": false,
    "jupyter": {
     "outputs_hidden": false
    }
   },
   "outputs": [],
   "source": [
    "# for year in cartype_df['Data Year'].unique():\n",
    "#     for county in cartype_df['County'].unique():\n",
    "#         # Get the subset of the dataframe for this year and county\n",
    "#         subset = cartype_df[(cartype_df['Data Year'] == year) & \n",
    "#                                                    (cartype_df['County'] == county)]\n",
    "#         \n",
    "#         # Check if 'EV' exists in the 'Fuel Category' for this year and county\n",
    "#         if 'EV' not in subset['Fuel Category'].values:\n",
    "#             # If not, create a new row with 0 vehicles for 'EV'\n",
    "#             new_row_ev = pd.DataFrame({'Data Year': [year], 'County': [county], 'Fuel Category': ['EV'], 'Number of Vehicles': [0]})\n",
    "#             cartype_df = pd.concat([cartype_df, new_row_ev], ignore_index=True)\n",
    "# \n",
    "#         # Check if 'Fossil Fuel' exists in the 'Fuel Category' for this year and county\n",
    "#         if 'Fossil Fuel' not in subset['Fuel Category'].values:\n",
    "#             # If not, create a new row with 0 vehicles for 'Fossil Fuel'\n",
    "#             new_row_fossil = pd.DataFrame({'Data Year': [year], 'County': [county], 'Fuel Category': ['Fossil Fuel'], 'Number of Vehicles': [0]})\n",
    "#             cartype_df = pd.concat([cartype_df, new_row_fossil], ignore_index=True)\n",
    "# \n",
    "# # Optionally, sort the dataframe by 'Data Year', 'County', and 'Fuel Category' for better readability\n",
    "# cartype_df = cartype_df.sort_values(by=['Data Year', 'County', 'Fuel Category']).reset_index(drop=True)\n",
    "# \n",
    "# cartype_df.head()"
   ]
  },
  {
   "cell_type": "code",
   "execution_count": 17,
   "id": "73466ff674321df",
   "metadata": {
    "ExecuteTime": {
     "end_time": "2024-10-01T04:10:50.171446Z",
     "start_time": "2024-10-01T04:10:50.167514Z"
    },
    "collapsed": false,
    "jupyter": {
     "outputs_hidden": false
    }
   },
   "outputs": [
    {
     "data": {
      "text/html": [
       "<div>\n",
       "<style scoped>\n",
       "    .dataframe tbody tr th:only-of-type {\n",
       "        vertical-align: middle;\n",
       "    }\n",
       "\n",
       "    .dataframe tbody tr th {\n",
       "        vertical-align: top;\n",
       "    }\n",
       "\n",
       "    .dataframe thead th {\n",
       "        text-align: right;\n",
       "    }\n",
       "</style>\n",
       "<table border=\"1\" class=\"dataframe\">\n",
       "  <thead>\n",
       "    <tr style=\"text-align: right;\">\n",
       "      <th></th>\n",
       "      <th>Data Year</th>\n",
       "      <th>County</th>\n",
       "      <th>Fuel Category</th>\n",
       "      <th>Number of Vehicles</th>\n",
       "    </tr>\n",
       "  </thead>\n",
       "  <tbody>\n",
       "    <tr>\n",
       "      <th>0</th>\n",
       "      <td>2010</td>\n",
       "      <td>Alameda</td>\n",
       "      <td>EV</td>\n",
       "      <td>20</td>\n",
       "    </tr>\n",
       "    <tr>\n",
       "      <th>1</th>\n",
       "      <td>2010</td>\n",
       "      <td>Alameda</td>\n",
       "      <td>Fossil Fuel</td>\n",
       "      <td>885402</td>\n",
       "    </tr>\n",
       "    <tr>\n",
       "      <th>2</th>\n",
       "      <td>2010</td>\n",
       "      <td>Alpine</td>\n",
       "      <td>EV</td>\n",
       "      <td>0</td>\n",
       "    </tr>\n",
       "    <tr>\n",
       "      <th>3</th>\n",
       "      <td>2010</td>\n",
       "      <td>Alpine</td>\n",
       "      <td>Fossil Fuel</td>\n",
       "      <td>1041</td>\n",
       "    </tr>\n",
       "    <tr>\n",
       "      <th>4</th>\n",
       "      <td>2010</td>\n",
       "      <td>Amador</td>\n",
       "      <td>EV</td>\n",
       "      <td>1</td>\n",
       "    </tr>\n",
       "    <tr>\n",
       "      <th>...</th>\n",
       "      <td>...</td>\n",
       "      <td>...</td>\n",
       "      <td>...</td>\n",
       "      <td>...</td>\n",
       "    </tr>\n",
       "    <tr>\n",
       "      <th>1647</th>\n",
       "      <td>2023</td>\n",
       "      <td>Ventura</td>\n",
       "      <td>Fossil Fuel</td>\n",
       "      <td>651851</td>\n",
       "    </tr>\n",
       "    <tr>\n",
       "      <th>1648</th>\n",
       "      <td>2023</td>\n",
       "      <td>Yolo</td>\n",
       "      <td>EV</td>\n",
       "      <td>6757</td>\n",
       "    </tr>\n",
       "    <tr>\n",
       "      <th>1649</th>\n",
       "      <td>2023</td>\n",
       "      <td>Yolo</td>\n",
       "      <td>Fossil Fuel</td>\n",
       "      <td>152560</td>\n",
       "    </tr>\n",
       "    <tr>\n",
       "      <th>1650</th>\n",
       "      <td>2023</td>\n",
       "      <td>Yuba</td>\n",
       "      <td>EV</td>\n",
       "      <td>961</td>\n",
       "    </tr>\n",
       "    <tr>\n",
       "      <th>1651</th>\n",
       "      <td>2023</td>\n",
       "      <td>Yuba</td>\n",
       "      <td>Fossil Fuel</td>\n",
       "      <td>57567</td>\n",
       "    </tr>\n",
       "  </tbody>\n",
       "</table>\n",
       "<p>1624 rows × 4 columns</p>\n",
       "</div>"
      ],
      "text/plain": [
       "      Data Year   County Fuel Category  Number of Vehicles\n",
       "0          2010  Alameda            EV                  20\n",
       "1          2010  Alameda   Fossil Fuel              885402\n",
       "2          2010   Alpine            EV                   0\n",
       "3          2010   Alpine   Fossil Fuel                1041\n",
       "4          2010   Amador            EV                   1\n",
       "...         ...      ...           ...                 ...\n",
       "1647       2023  Ventura   Fossil Fuel              651851\n",
       "1648       2023     Yolo            EV                6757\n",
       "1649       2023     Yolo   Fossil Fuel              152560\n",
       "1650       2023     Yuba            EV                 961\n",
       "1651       2023     Yuba   Fossil Fuel               57567\n",
       "\n",
       "[1624 rows x 4 columns]"
      ]
     },
     "execution_count": 17,
     "metadata": {},
     "output_type": "execute_result"
    }
   ],
   "source": [
    "## There are two variants of Out of State; let's filter those out since we are focusing on California Car Registration.  \n",
    "in_state_only_filtered_df = fueltype_per_county_totals[~fueltype_per_county_totals['County'].isin(['Out of State','Out Of State'])]\n",
    "in_state_only_filtered_df"
   ]
  },
  {
   "cell_type": "markdown",
   "id": "927a096c51adedb5",
   "metadata": {
    "collapsed": false,
    "jupyter": {
     "outputs_hidden": false
    }
   },
   "source": [
    "### Dataset 1: Exploratory Visual Plot of Vehicle Trends in California \n",
    "To plot vehicle buying trends in California, we need to do a little extra cleaning and manipulating of the dataset. "
   ]
  },
  {
   "cell_type": "code",
   "execution_count": 18,
   "id": "2c60117e9b494502",
   "metadata": {
    "ExecuteTime": {
     "end_time": "2024-10-01T04:10:50.176936Z",
     "start_time": "2024-10-01T04:10:50.172045Z"
    },
    "collapsed": false,
    "jupyter": {
     "outputs_hidden": false
    }
   },
   "outputs": [
    {
     "name": "stdout",
     "output_type": "stream",
     "text": [
      "The total number of vehicles in 2023 for 'Other' fuel type is: 8220\n"
     ]
    }
   ],
   "source": [
    "# There is another unnecessary category, 'Other.' Let's explore its impact to determine if we should filter it or not. \n",
    "other_fuel_type_df = calcountyvehicle_df[(calcountyvehicle_df['Data Year'] == 2023) & \n",
    "                                  (calcountyvehicle_df['Dashboard Fuel Type Group'] == 'Other')]\n",
    "\n",
    "# Calculate the sum of the 'Number of Vehicles' for the filtered data\n",
    "total_vehicles_2023_other = other_fuel_type_df['Number of Vehicles'].sum()\n",
    "\n",
    "# Print the result\n",
    "print(f\"The total number of vehicles in 2023 for 'Other' fuel type is: {total_vehicles_2023_other}\")"
   ]
  },
  {
   "cell_type": "code",
   "execution_count": 19,
   "id": "e729ebf96d41c52e",
   "metadata": {
    "ExecuteTime": {
     "end_time": "2024-10-01T04:10:50.179519Z",
     "start_time": "2024-10-01T04:10:50.177661Z"
    },
    "collapsed": false,
    "jupyter": {
     "outputs_hidden": false
    }
   },
   "outputs": [
    {
     "name": "stdout",
     "output_type": "stream",
     "text": [
      "The excluded fuel type categories are: ['Flex Fuel', 'Natural Gas', 'Propane']\n"
     ]
    }
   ],
   "source": [
    "# We are going to assume that if there is a fuel typs that are not in fuel_types_1 they can be excluded. \n",
    "excluded_types = [fuel_type for fuel_type in fuel_types_2 \n",
    "                  if fuel_type not in fuel_types_1]\n",
    "print(f\"The excluded fuel type categories are: {excluded_types}\")"
   ]
  },
  {
   "cell_type": "markdown",
   "id": "d7fa41a98f67b268",
   "metadata": {
    "collapsed": false,
    "jupyter": {
     "outputs_hidden": false
    }
   },
   "source": []
  },
  {
   "cell_type": "markdown",
   "id": "5ee048f2ddc3514b",
   "metadata": {
    "collapsed": false,
    "jupyter": {
     "outputs_hidden": false
    }
   },
   "source": [
    "# Brett, i assumed county_df is the county column is the in_state_only_filtered_df['County'], is this correct? \n",
    "There is also an error with this code bit. I lost the plot after this point, can you finish describing your method? Thanks "
   ]
  },
  {
   "cell_type": "code",
   "execution_count": 20,
   "id": "dca73136ef87ad3c",
   "metadata": {
    "ExecuteTime": {
     "end_time": "2024-10-01T04:10:50.181438Z",
     "start_time": "2024-10-01T04:10:50.180084Z"
    },
    "collapsed": false,
    "jupyter": {
     "outputs_hidden": false
    }
   },
   "outputs": [],
   "source": [
    "# county_df = in_state_only_filtered_df['County'].unique()\n",
    "# # Get unique fuel types from both columns\n",
    "# fuel_types_1 = county_df['Fuel Type'].unique()\n",
    "# fuel_types_2 = calcountyvehicle_df['Dashboard Fuel Type Group'].unique()\n",
    "# \n",
    "# # Create a DataFrame to display the values side by side\n",
    "# fuel_types_df = pd.DataFrame({\n",
    "#     'Fuel Type': pd.Series(fuel_types_1),\n",
    "#     'Dashboard Fuel Type Group': pd.Series(fuel_types_2)\n",
    "# })\n",
    "# \n",
    "# # Display the DataFrame\n",
    "# fuel_types_df"
   ]
  },
  {
   "cell_type": "code",
   "execution_count": 21,
   "id": "e0776ef2ab6161f5",
   "metadata": {
    "ExecuteTime": {
     "end_time": "2024-10-01T04:10:50.183361Z",
     "start_time": "2024-10-01T04:10:50.182006Z"
    },
    "collapsed": false,
    "jupyter": {
     "outputs_hidden": false
    }
   },
   "outputs": [],
   "source": [
    "# cali_county_df = county_df[~county_df['County'].isin(['Out of State','Out Of State'])]\n",
    "# cali_county_df['County'].unique()"
   ]
  },
  {
   "cell_type": "code",
   "execution_count": 22,
   "id": "28646452f202e490",
   "metadata": {
    "ExecuteTime": {
     "end_time": "2024-10-01T04:10:50.187969Z",
     "start_time": "2024-10-01T04:10:50.186633Z"
    },
    "collapsed": false,
    "jupyter": {
     "outputs_hidden": false
    }
   },
   "outputs": [],
   "source": [
    "# fuel_types = cali_county_df['Fuel Type'].unique()"
   ]
  },
  {
   "cell_type": "code",
   "execution_count": 23,
   "id": "cb09acb301db1395",
   "metadata": {
    "ExecuteTime": {
     "end_time": "2024-10-01T04:10:50.189645Z",
     "start_time": "2024-10-01T04:10:50.188488Z"
    },
    "collapsed": false,
    "jupyter": {
     "outputs_hidden": false
    }
   },
   "outputs": [],
   "source": [
    "# statewide_vehicle_totals = county_df.groupby(['Fuel Type', 'Data Year'])['Number of Vehicles'].sum().reset_index()\n",
    "# statewide_vehicle_totals['Fuel Type'].unique()"
   ]
  },
  {
   "cell_type": "code",
   "execution_count": 24,
   "id": "92fd62c7bcd09102",
   "metadata": {
    "ExecuteTime": {
     "end_time": "2024-10-01T04:10:50.191901Z",
     "start_time": "2024-10-01T04:10:50.190604Z"
    },
    "collapsed": false,
    "jupyter": {
     "outputs_hidden": false
    }
   },
   "outputs": [],
   "source": [
    "# total_vehicles_by_year = county_df.groupby('Data Year')['Number of Vehicles'].sum().reset_index()"
   ]
  },
  {
   "cell_type": "code",
   "execution_count": 25,
   "id": "ada4d1efcd8038c9",
   "metadata": {
    "ExecuteTime": {
     "end_time": "2024-10-01T04:10:50.194303Z",
     "start_time": "2024-10-01T04:10:50.192474Z"
    },
    "collapsed": false,
    "jupyter": {
     "outputs_hidden": false
    }
   },
   "outputs": [],
   "source": [
    "# # Finally, we can plot the data. \n",
    "# \n",
    "# plt.figure(figsize=(12, 6))\n",
    "# \n",
    "# for fuel_type in fuel_types:\n",
    "#     fuel_data = statewide_vehicle_totals[statewide_vehicle_totals['Fuel Type'] == fuel_type]\n",
    "#     plt.plot(fuel_data['Data Year'], fuel_data['Number of Vehicles']/1000000, label=fuel_type)\n",
    "# \n",
    "# plt.plot(total_vehicles_by_year['Data Year'], total_vehicles_by_year['Number of Vehicles']/1000000, \n",
    "#          label='Total Vehicles', color='black', linestyle='--', linewidth=2)\n",
    "# \n",
    "# bev_data = statewide_vehicle_totals[statewide_vehicle_totals['Fuel Type'] == 'Battery Electric (BEV)']\n",
    "# gasoline_data = statewide_vehicle_totals[statewide_vehicle_totals['Fuel Type'] == 'Gasoline']\n",
    "# \n",
    "# merged_data = pd.merge(bev_data[['Data Year', 'Number of Vehicles']], gasoline_data[['Data Year', 'Number of Vehicles']],\n",
    "#                        on='Data Year', suffixes=('_BEV', '_Gasoline'))\n",
    "# \n",
    "# merged_data = pd.merge(merged_data, total_vehicles_by_year[['Data Year', 'Number of Vehicles']], \n",
    "#                        on='Data Year')\n",
    "# #(merged_data.head())\n",
    "# \n",
    "# merged_data['BEV (%)'] = (merged_data['Number of Vehicles_BEV'] / merged_data['Number of Vehicles']) * 100\n",
    "# merged_data['Gasoline (%)'] = (merged_data['Number of Vehicles_Gasoline'] / merged_data['Number of Vehicles']) * 100\n",
    "# \n",
    "# #column_labels = ['Year', 'BEV (%)', 'Gasoline (%)']\n",
    "# plt.legend(title='Fuel Type')\n",
    "# #plt.table(cellText=table_data, colLabels=column_labels, loc='right', cellLoc='center', bbox=[0.0, -0.5, 1, 0.3])\n",
    "# ax1 = plt.gca()  # Get current axes instance for the main plot\n",
    "# ax2 = ax1.twinx()  # Create a second axes sharing the same x-axis\n",
    "# \n",
    "# \n",
    "# ax2.plot(merged_data['Data Year'], merged_data['Gasoline (%)'], color='red', linestyle='--', label='Gasoline (%)')\n",
    "# ax2.set_ylabel('Gasoline Vehicles (%)', color='red')\n",
    "# ax2.tick_params(axis='y', labelcolor='red')\n",
    "# ax2.set_ylim(0, 100)\n",
    "# ax2.set_ylabel('Percentage Total Cars')\n",
    "# \n",
    "# plt.title('Total Vehicles by Fuel Type and Year')\n",
    "# plt.xlabel('Year')\n",
    "# ax1.set_ylabel('Number of Vehicles (millions)')\n",
    "# plt.legend()\n",
    "# \n",
    "# \n",
    "# plt.grid(True)\n",
    "# plt.show()"
   ]
  },
  {
   "cell_type": "code",
   "execution_count": 26,
   "id": "8df90bafb241453e",
   "metadata": {
    "ExecuteTime": {
     "end_time": "2024-10-01T04:10:50.196525Z",
     "start_time": "2024-10-01T04:10:50.194862Z"
    },
    "collapsed": false,
    "jupyter": {
     "outputs_hidden": false
    }
   },
   "outputs": [],
   "source": [
    "# merged_data[['Data Year','BEV (%)','Gasoline (%)']].head(14)"
   ]
  },
  {
   "cell_type": "code",
   "execution_count": 27,
   "id": "92ccb66bb9154aa8",
   "metadata": {
    "ExecuteTime": {
     "end_time": "2024-10-01T04:10:50.198906Z",
     "start_time": "2024-10-01T04:10:50.197103Z"
    },
    "collapsed": false,
    "jupyter": {
     "outputs_hidden": false
    }
   },
   "outputs": [],
   "source": [
    "# #table_to_be_merged=\n",
    "# ## We want to take the data for vehicles by year and include only BEV vehicles for each county ##\n",
    "# def bevpercentagevisual(year):\n",
    "# \n",
    "#     bev_data_year = reduced_cali_county_df[(reduced_cali_county_df['Fuel Type'] == 'Battery Electric (BEV)') & \n",
    "#                                            (reduced_cali_county_df['Data Year'] == year)]\n",
    "#     \n",
    "#     \n",
    "#     # Total vehicles for 2010 and 2023\n",
    "#     total_vehicles_year = reduced_cali_county_df[reduced_cali_county_df['Data Year'] == year].groupby('County')['Number of Vehicles'].sum().reset_index()\n",
    "#     \n",
    "#     # Merge BEV data with total vehicles for each year\n",
    "#     merged_year = pd.merge(bev_data_year.groupby('County')['Number of Vehicles'].sum().reset_index(), total_vehicles_year, on='County', suffixes=('_BEV', '_Total'))\n",
    "#     \n",
    "#     \n",
    "#     # Calculate BEV percentage for 2010 and 2023\n",
    "#     merged_year['BEV (%)'] = (merged_year['Number of Vehicles_BEV'] / merged_year['Number of Vehicles_Total']) * 100\n",
    "#     \n",
    "#     # Step 3: Plot the data side by side\n",
    "#     fig, axes = plt.subplots(nrows=1, ncols=1, figsize=(18, 10), sharey=True)\n",
    "#     \n",
    "#     # Plot 2010 data\n",
    "#     axes.barh(merged_year['County'], merged_year['BEV (%)'], color='blue')\n",
    "#     axes.set_xlabel('Percentage of BEVs (%)')\n",
    "#     axes.set_ylabel('County')\n",
    "#     axes.set_title('Percentage of BEVs by County (2010)')\n",
    "#     \n",
    "#     \n",
    "#     \n",
    "#     # Display the plots\n",
    "#     plt.tight_layout()\n",
    "#     plt.show()\n",
    "# bevpercentagevisual(2013)\n"
   ]
  },
  {
   "cell_type": "code",
   "execution_count": 28,
   "id": "72b03d029ad0f10f",
   "metadata": {
    "ExecuteTime": {
     "end_time": "2024-10-01T04:10:50.201359Z",
     "start_time": "2024-10-01T04:10:50.199542Z"
    },
    "collapsed": false,
    "jupyter": {
     "outputs_hidden": false
    }
   },
   "outputs": [],
   "source": [
    "# # Filter data for 2010, 2018, and 2023\n",
    "# years = [2010, 2018,2020, 2023]\n",
    "# filtered_data = reduced_cali_county_df[reduced_cali_county_df['Data Year'].isin(years)]\n",
    "# \n",
    "# total_vehicles = filtered_data.groupby(['Data Year', 'County'])['Number of Vehicles'].sum().reset_index()\n",
    "# \n",
    "# bev_data = filtered_data[filtered_data['Fuel Type'] == 'Battery Electric (BEV)']\n",
    "# bev_vehicles = bev_data.groupby(['Data Year', 'County'])['Number of Vehicles'].sum().reset_index()\n",
    "# \n",
    "# merged_data = pd.merge(bev_vehicles, total_vehicles, on=['Data Year', 'County'], suffixes=('_BEV', '_Total'))\n",
    "# \n",
    "# merged_data['BEV (%)'] = (merged_data['Number of Vehicles_BEV'] / merged_data['Number of Vehicles_Total']) * 100\n",
    "# \n",
    "# \n",
    "# pivot_data = merged_data.pivot(index='County', columns='Data Year', values='BEV (%)').fillna(0)\n",
    "# \n",
    "# \n",
    "# plt.figure(figsize=(12, 8))\n",
    "# \n",
    "# \n",
    "# for year, color in zip(years, ['blue', 'orange', 'green','red']):\n",
    "#     plt.barh(pivot_data.index, pivot_data[year], color=color, alpha=0.5, label=f'{year}')\n",
    "# \n",
    "# \n",
    "# plt.xlabel('Percentage of BEVs (%)')\n",
    "# plt.ylabel('County')\n",
    "# plt.title('Percentage of Battery Electric Vehicles (BEVs) by County for 2010, 2018, and 2023')\n",
    "# plt.legend(title='Year')\n",
    "# \n",
    "# \n",
    "# plt.tight_layout()\n",
    "# plt.show()"
   ]
  },
  {
   "cell_type": "markdown",
   "id": "84686c764804f70f",
   "metadata": {
    "collapsed": false,
    "jupyter": {
     "outputs_hidden": false
    }
   },
   "source": [
    "## Secondary Datasets: Cleaning and Manipulation \n",
    "The secondary datasets included PM 2.5 emissions by County and Population by County. "
   ]
  },
  {
   "cell_type": "code",
   "execution_count": 29,
   "id": "465e03e210ff4524",
   "metadata": {
    "ExecuteTime": {
     "end_time": "2024-10-01T04:10:50.203829Z",
     "start_time": "2024-10-01T04:10:50.202026Z"
    },
    "collapsed": false,
    "jupyter": {
     "outputs_hidden": false
    }
   },
   "outputs": [],
   "source": [
    "# PM 2.5 emissions were recorded yearly and were recorded in separate files, which we uploaded to Github. Let's merge these files so that we can see Yearly County PM 2.5 emissions. \n",
    "csv_2010 = 'pm_data/ad_viz_plotval_data_2010.csv.crdownload.csv'\n",
    "csv_2011 = 'pm_data/ad_viz_plotval_data_2011.csv.crdownload.csv'\n",
    "csv_2012 = 'pm_data/ad_viz_plotval_data_2012.csv'\n",
    "csv_2013 = 'pm_data/ad_viz_plotval_data_2013.csv'\n",
    "csv_2014 = 'pm_data/ad_viz_plotval_data_2014.csv'\n",
    "csv_2015 = 'pm_data/ad_viz_plotval_data_2015.csv'\n",
    "csv_2016 = 'pm_data/ad_vis_plotval_data_2016.csv'\n",
    "csv_2017 = 'pm_data/ad_viz_plotval_data_2017.csv'\n",
    "csv_2018 = 'pm_data/ad_viz_plotval_data2018.csv'\n",
    "csv_2019 = 'pm_data/ad_viz_plotval_data2019.csv'\n",
    "csv_2020 = 'pm_data/ad_viz_plotval_data2020.csv'\n",
    "csv_2021 = 'pm_data/ad_viz_plotval_data2020.csv'\n",
    "csv_2022 = 'pm_data/ad_viz_plotval_data2022.csv'\n",
    "csv_2023 = 'pm_data/ad_viz_plotval_data2023.csv'\n",
    "csv_2024 = 'pm_data/ad_viz_plotval_data2024.csv'"
   ]
  },
  {
   "cell_type": "code",
   "execution_count": 30,
   "id": "5b83d78d7a46bf12",
   "metadata": {
    "ExecuteTime": {
     "end_time": "2024-10-01T04:10:50.206937Z",
     "start_time": "2024-10-01T04:10:50.204295Z"
    },
    "collapsed": false,
    "jupyter": {
     "outputs_hidden": false
    }
   },
   "outputs": [],
   "source": [
    "# This function takes a file name and returns a mergeable dataframe. \n",
    "def avg_pm_value(filename): \n",
    "    # loading data\n",
    "    df = pd.read_csv(filename)\n",
    "    # We are only concerned with the following columns: \n",
    "    df = df[['Date', 'Daily Mean PM2.5 Concentration','Units', 'Site ID', 'County']]\n",
    "    # changing date column to datetime \n",
    "    df['Date'] = pd.to_datetime(df['Date'])\n",
    "    # adding year column \n",
    "    df['Data Year'] = df['Date'].dt.year\n",
    "    # determining unique sites per county \n",
    "    unique_sites_per_county = df.groupby('County')['Site ID'].nunique().reset_index()\n",
    "    unique_sites_per_county.rename(columns={'Site ID': 'Number of Site IDs/County'}, inplace=True) \n",
    "    # average pm2.5 values per county \n",
    "    avg_pm_value =df.groupby(['County', 'Data Year'])['Daily Mean PM2.5 Concentration'].mean().reset_index()\n",
    "    avg_pm_value.rename(columns={'Daily Mean PM2.5 Concentration': 'Average PM 2.5/County'}, inplace=True)\n",
    "    # merging tables \n",
    "    avg_df = unique_sites_per_county.merge(avg_pm_value, on='County')\n",
    "    avg_df = avg_df.pivot_table(index ='County', values = ['Data Year','Average PM 2.5/County', 'Number of Site IDs/County'])\n",
    "    avg_df.reset_index(inplace=True)\n",
    "    return avg_df"
   ]
  },
  {
   "cell_type": "code",
   "execution_count": 31,
   "id": "5b268802f5491e50",
   "metadata": {
    "ExecuteTime": {
     "end_time": "2024-10-01T04:10:52.458677Z",
     "start_time": "2024-10-01T04:10:50.207534Z"
    },
    "collapsed": false,
    "jupyter": {
     "outputs_hidden": false
    }
   },
   "outputs": [],
   "source": [
    "# Putting all file names through avg_pm_value function \n",
    "df_2010 = avg_pm_value(csv_2010)\n",
    "df_2011 = avg_pm_value(csv_2011)\n",
    "df_2012 = avg_pm_value(csv_2012)\n",
    "df_2013 = avg_pm_value(csv_2013)\n",
    "df_2014 = avg_pm_value(csv_2014)\n",
    "df_2015 = avg_pm_value(csv_2015)\n",
    "df_2016 = avg_pm_value(csv_2016) \n",
    "df_2017 = avg_pm_value(csv_2017)\n",
    "df_2018 = avg_pm_value(csv_2018)\n",
    "df_2019 = avg_pm_value(csv_2019)\n",
    "df_2020 = avg_pm_value(csv_2020)\n",
    "df_2021 = avg_pm_value(csv_2021)\n",
    "df_2022 = avg_pm_value(csv_2022)\n",
    "df_2023 = avg_pm_value(csv_2023)\n",
    "df_2024 = avg_pm_value(csv_2024)"
   ]
  },
  {
   "cell_type": "code",
   "execution_count": 32,
   "id": "96048bccde2c9b8c",
   "metadata": {
    "ExecuteTime": {
     "end_time": "2024-10-01T04:10:52.463556Z",
     "start_time": "2024-10-01T04:10:52.459779Z"
    },
    "collapsed": false,
    "jupyter": {
     "outputs_hidden": false
    }
   },
   "outputs": [],
   "source": [
    "# Creating one dataframe from all the Years. \n",
    "df_2010_2024= pd.concat([df_2010, df_2011, df_2012, df_2013, df_2014, df_2015, df_2016, df_2017, df_2018, df_2019, df_2020, df_2021, df_2022, df_2023, df_2024], ignore_index=True, axis = 0)\n",
    "df_2010_2024['Data Year'] = df_2010_2024['Data Year'].astype(int)\n",
    "df_2010_2024 = df_2010_2024[['Data Year', 'County', 'Average PM 2.5/County', 'Number of Site IDs/County']]\n",
    "# renaming dataset for clarity \n",
    "df_pm = df_2010_2024"
   ]
  },
  {
   "cell_type": "markdown",
   "id": "6bdea95dad04b6d1",
   "metadata": {
    "collapsed": false,
    "jupyter": {
     "outputs_hidden": false
    }
   },
   "source": [
    "## Now let's talk Population \n",
    " We have two sources for population. One population is the total population, all ages included, and the second takes age into consideration. The first dataset we will look at here is the total population of Counties in California. ##The reason we wanted to see the total population was so that we could see how populated Counties were, which gives more prespective on why there are more or less cars in that area. "
   ]
  },
  {
   "cell_type": "code",
   "execution_count": 33,
   "id": "dae3f5dcead53923",
   "metadata": {
    "ExecuteTime": {
     "end_time": "2024-10-01T04:10:54.625277Z",
     "start_time": "2024-10-01T04:10:52.464847Z"
    },
    "collapsed": false,
    "jupyter": {
     "outputs_hidden": false
    }
   },
   "outputs": [],
   "source": [
    "# Our source dataset was seperated by decade, and we uploaded the corresponding datasets to GitHub (2010-2023). The dataset had multiple sheets, but we were interested in the sheet that recorded the population by county ('Table 1 County State'). We will import those datasets that here. \n",
    "df_2010_2020 = pd.read_excel('./E-4_2010-2020-Internet-Version.xlsx', sheet_name= 'Table 1 County State')\n",
    "df_2021_2023 = pd.read_excel('./E-4_2021_2024_InternetVersion (1).xlsx',sheet_name='Table 1 County State')"
   ]
  },
  {
   "cell_type": "code",
   "execution_count": 34,
   "id": "83f094a23ee6c7a4",
   "metadata": {
    "ExecuteTime": {
     "end_time": "2024-10-01T04:10:54.628947Z",
     "start_time": "2024-10-01T04:10:54.626004Z"
    },
    "collapsed": false,
    "jupyter": {
     "outputs_hidden": false
    }
   },
   "outputs": [],
   "source": [
    "# Let's clean up df_2010_2020 first. \n",
    "# renaming unnamed columns to correlated year\n",
    "mapping = {\n",
    "    'Table 1: E-4 Population Estimates for Counties and State 2011-2020 with 2010 Benchmark': 'County',\n",
    "    'Unnamed: 1': '2010',\n",
    "    'Unnamed: 2': '2011',\n",
    "    'Unnamed: 3': '2012',\n",
    "    'Unnamed: 4': '2013',\n",
    "    'Unnamed: 5': '2014',\n",
    "    'Unnamed: 6': '2015',\n",
    "    'Unnamed: 7': '2016',\n",
    "    'Unnamed: 8': '2017',\n",
    "    'Unnamed: 9': '2018',\n",
    "    'Unnamed: 10': '2019',\n",
    "    'Unnamed: 11': '2020'\n",
    "}\n",
    "df_2010_2020.rename(columns=mapping, inplace=True)\n",
    "# Removing Unnessary Columns \n",
    "df_2010_2020 = df_2010_2020.drop(columns=['Unnamed: 12', 'Unnamed: 13', 'Unnamed: 14'])\n",
    "# Removing 'State Total' from 'County' and redundant row\n",
    "df_2010_2020 = df_2010_2020[~df_2010_2020['County'].isin(['State Total', 'COUNTY'])]\n",
    "df_2010_2020.reset_index(drop=True, inplace=True)"
   ]
  },
  {
   "cell_type": "code",
   "execution_count": 35,
   "id": "be1c73aa825a2a84",
   "metadata": {
    "ExecuteTime": {
     "end_time": "2024-10-01T04:10:54.632121Z",
     "start_time": "2024-10-01T04:10:54.629570Z"
    },
    "collapsed": false,
    "jupyter": {
     "outputs_hidden": false
    }
   },
   "outputs": [],
   "source": [
    "# Now let's clean up the second dataset \n",
    "# renaming unnamed columns to correlated year\n",
    "mapping_2 = {\n",
    "    'About the Data': 'County',\n",
    "    'Unnamed: 2': '2021',\n",
    "    'Unnamed: 3': '2022',\n",
    "    'Unnamed: 4': '2023',\n",
    "    'Unnamed: 5': '2024'\n",
    "}\n",
    "df_2021_2023.rename(columns=mapping_2, inplace=True)\n",
    "df_2021_2023 = df_2021_2023.drop(columns=['Unnamed: 1'])\n",
    "# Removing 'State Total' from 'County' and redundant rows\n",
    "df_2021_2023 = df_2021_2023[~df_2021_2023['County'].isin(['State Total', 'COUNTY', 'Table 1: E-4 Population Estimates for Counties and State 2021-2024 with 2020 Benchmark'])]\n",
    "df_2021_2023.reset_index(drop=True, inplace=True)"
   ]
  },
  {
   "cell_type": "code",
   "execution_count": 36,
   "id": "1f90924639f557d1",
   "metadata": {
    "ExecuteTime": {
     "end_time": "2024-10-01T04:10:54.634665Z",
     "start_time": "2024-10-01T04:10:54.632611Z"
    },
    "collapsed": false,
    "jupyter": {
     "outputs_hidden": false
    }
   },
   "outputs": [],
   "source": [
    "# merging the two datasets to create one with the population from 2010-2023. \n",
    "total_pop_df = pd.merge(df_2010_2020, df_2021_2023, on=['County'], how='outer')"
   ]
  },
  {
   "cell_type": "code",
   "execution_count": 37,
   "id": "cd4a73f17d4fb40f",
   "metadata": {
    "ExecuteTime": {
     "end_time": "2024-10-01T04:10:54.639885Z",
     "start_time": "2024-10-01T04:10:54.635202Z"
    },
    "collapsed": false,
    "jupyter": {
     "outputs_hidden": false
    }
   },
   "outputs": [],
   "source": [
    "# pivoting table so that Counties make up the rows and Years the columns\n",
    "df_pop = pd.melt(total_pop_df, id_vars=['County'], var_name='Year', value_name='Population')\n",
    "\n",
    "df_pop['Year'] = df_pop['Year'].str.replace(\":\", \"\", regex=False)\n",
    "df_pop.rename(columns={'Year': 'Data Year'}, inplace=True) \n",
    "# converting the 'Population' column to numeric \n",
    "df_pop['Population'] = pd.to_numeric(df_pop['Population'], errors='coerce')\n",
    "# calculating the Z-score for the 'Population' column\n",
    "df_pop['Z Score'] = zscore(df_pop['Population'])\n",
    "# formatting Data Year to integer  \n",
    "df_pop['Data Year'] = df_pop['Data Year'].astype(int)"
   ]
  },
  {
   "cell_type": "markdown",
   "id": "5b430f8e129edcb",
   "metadata": {
    "collapsed": false,
    "jupyter": {
     "outputs_hidden": false
    }
   },
   "source": [
    "## Aged Population\n",
    "Now let's look at the dataset that takes age into consideration. The reason we wanted to also take age into consideration is that most people under the age of 18 do not add a car, so the total population dataset doesn't accurately represent car buying trends. "
   ]
  },
  {
   "cell_type": "code",
   "execution_count": 38,
   "id": "6eb82c972314c365",
   "metadata": {
    "ExecuteTime": {
     "end_time": "2024-10-01T04:10:54.644480Z",
     "start_time": "2024-10-01T04:10:54.640564Z"
    },
    "collapsed": false,
    "jupyter": {
     "outputs_hidden": false
    }
   },
   "outputs": [],
   "source": [
    "# This function takes a dataset and its corresponding year and returns a mergeable dataframe. Again, our source dataset was seperated by decade, and we uploaded the corresponding datasets to GitHub (2010-2023).\n",
    "\n",
    "def aged_population(dataset, datayear):\n",
    "    # load files \n",
    "    df = pd.read_csv(dataset)\n",
    "    df = df[df['Label (Grouping)'].str.strip() == '18 years and over']\n",
    "    df = df[df['Label (Grouping)'].str.contains('18 years and over', case=False, na=False)]\n",
    "    # extract unique county names\n",
    "    county_names = [col.split(\"!!\")[0] for col in df.columns if \"California\" in col]\n",
    "    county_names = list(set(county_names))\n",
    "    # extract county total and margin of error from main dataset\n",
    "    county_total = [f\"{county}!!Total!!Estimate\" for county in county_names]\n",
    "    county_margin_of_error = [f\"{county}!!Total!!Margin of Error\" for county in county_names]\n",
    "    # making df of those\n",
    "    county_total = df.loc[:, county_total]\n",
    "    county_margin_of_error = df.loc[:, county_margin_of_error]\n",
    "    # creating county total population estimate df \n",
    "    ct_df =county_total.transpose()\n",
    "    ct_df = ct_df.reset_index() \n",
    "    # some years record >21, others >18. \n",
    "    ct_df.columns = ['County' , 'Population Estimate, >18']\n",
    "    ct_df['County'] = ct_df['County'].str.split(' County').str[0]\n",
    "    ct_df = ct_df.sort_values(by='County', ascending=True).reset_index(drop=True)\n",
    "    # creating county margin of error \n",
    "    me_df = county_margin_of_error.transpose()\n",
    "    me_df = me_df.reset_index() \n",
    "    me_df.columns = ['County' , 'Population Margin of Error, >18']\n",
    "    me_df['County'] = me_df['County'].str.split(' County').str[0]\n",
    "    me_df = me_df.sort_values(by='County', ascending=True).reset_index(drop=True) \n",
    "    # merging on county \n",
    "    ct_me_df = pd.merge(ct_df, me_df, how='inner', on = ['County'])\n",
    "    # creating Data Year column to datetime \n",
    "    ct_me_df['Data Year'] = datayear\n",
    "    ct_me_df['Data Year'] = ct_me_df['Data Year'].astype(int)\n",
    "    return ct_me_df"
   ]
  },
  {
   "cell_type": "code",
   "execution_count": 39,
   "id": "3dbd71179cb11541",
   "metadata": {
    "ExecuteTime": {
     "end_time": "2024-10-01T04:10:54.759292Z",
     "start_time": "2024-10-01T04:10:54.645097Z"
    },
    "collapsed": false,
    "jupyter": {
     "outputs_hidden": false
    }
   },
   "outputs": [
    {
     "data": {
      "text/html": [
       "<div>\n",
       "<style scoped>\n",
       "    .dataframe tbody tr th:only-of-type {\n",
       "        vertical-align: middle;\n",
       "    }\n",
       "\n",
       "    .dataframe tbody tr th {\n",
       "        vertical-align: top;\n",
       "    }\n",
       "\n",
       "    .dataframe thead th {\n",
       "        text-align: right;\n",
       "    }\n",
       "</style>\n",
       "<table border=\"1\" class=\"dataframe\">\n",
       "  <thead>\n",
       "    <tr style=\"text-align: right;\">\n",
       "      <th></th>\n",
       "      <th>County</th>\n",
       "      <th>Population Estimate, &gt;18</th>\n",
       "      <th>Population Margin of Error, &gt;18</th>\n",
       "      <th>Data Year</th>\n",
       "    </tr>\n",
       "  </thead>\n",
       "  <tbody>\n",
       "    <tr>\n",
       "      <th>0</th>\n",
       "      <td>Alameda</td>\n",
       "      <td>77.5%</td>\n",
       "      <td>*****</td>\n",
       "      <td>2010</td>\n",
       "    </tr>\n",
       "    <tr>\n",
       "      <th>1</th>\n",
       "      <td>Butte</td>\n",
       "      <td>79.3%</td>\n",
       "      <td>±0.3</td>\n",
       "      <td>2010</td>\n",
       "    </tr>\n",
       "    <tr>\n",
       "      <th>2</th>\n",
       "      <td>Contra Costa</td>\n",
       "      <td>75.2%</td>\n",
       "      <td>±0.1</td>\n",
       "      <td>2010</td>\n",
       "    </tr>\n",
       "    <tr>\n",
       "      <th>3</th>\n",
       "      <td>El Dorado</td>\n",
       "      <td>77.2%</td>\n",
       "      <td>±0.2</td>\n",
       "      <td>2010</td>\n",
       "    </tr>\n",
       "    <tr>\n",
       "      <th>4</th>\n",
       "      <td>Fresno</td>\n",
       "      <td>70.1%</td>\n",
       "      <td>±0.1</td>\n",
       "      <td>2010</td>\n",
       "    </tr>\n",
       "    <tr>\n",
       "      <th>...</th>\n",
       "      <td>...</td>\n",
       "      <td>...</td>\n",
       "      <td>...</td>\n",
       "      <td>...</td>\n",
       "    </tr>\n",
       "    <tr>\n",
       "      <th>535</th>\n",
       "      <td>Tehama</td>\n",
       "      <td>49,287</td>\n",
       "      <td>*****</td>\n",
       "      <td>2023</td>\n",
       "    </tr>\n",
       "    <tr>\n",
       "      <th>536</th>\n",
       "      <td>Tulare</td>\n",
       "      <td>338,510</td>\n",
       "      <td>±144</td>\n",
       "      <td>2023</td>\n",
       "    </tr>\n",
       "    <tr>\n",
       "      <th>537</th>\n",
       "      <td>Ventura</td>\n",
       "      <td>651,462</td>\n",
       "      <td>*****</td>\n",
       "      <td>2023</td>\n",
       "    </tr>\n",
       "    <tr>\n",
       "      <th>538</th>\n",
       "      <td>Yolo</td>\n",
       "      <td>178,433</td>\n",
       "      <td>±709</td>\n",
       "      <td>2023</td>\n",
       "    </tr>\n",
       "    <tr>\n",
       "      <th>539</th>\n",
       "      <td>Yuba</td>\n",
       "      <td>62,561</td>\n",
       "      <td>*****</td>\n",
       "      <td>2023</td>\n",
       "    </tr>\n",
       "  </tbody>\n",
       "</table>\n",
       "<p>540 rows × 4 columns</p>\n",
       "</div>"
      ],
      "text/plain": [
       "           County Population Estimate, >18 Population Margin of Error, >18  \\\n",
       "0         Alameda                    77.5%                           *****   \n",
       "1           Butte                    79.3%                            ±0.3   \n",
       "2    Contra Costa                    75.2%                            ±0.1   \n",
       "3       El Dorado                    77.2%                            ±0.2   \n",
       "4          Fresno                    70.1%                            ±0.1   \n",
       "..            ...                      ...                             ...   \n",
       "535        Tehama                   49,287                           *****   \n",
       "536        Tulare                  338,510                            ±144   \n",
       "537       Ventura                  651,462                           *****   \n",
       "538          Yolo                  178,433                            ±709   \n",
       "539          Yuba                   62,561                           *****   \n",
       "\n",
       "     Data Year  \n",
       "0         2010  \n",
       "1         2010  \n",
       "2         2010  \n",
       "3         2010  \n",
       "4         2010  \n",
       "..         ...  \n",
       "535       2023  \n",
       "536       2023  \n",
       "537       2023  \n",
       "538       2023  \n",
       "539       2023  \n",
       "\n",
       "[540 rows x 4 columns]"
      ]
     },
     "execution_count": 39,
     "metadata": {},
     "output_type": "execute_result"
    }
   ],
   "source": [
    "# run function with dataset files and the corresponding year. \n",
    "totpop2010 = aged_population('pm_data/Pop_Over_21_2010.S0101-2024-09-27T210322.csv', 2010)\n",
    "totpop2011 = aged_population('pm_data/Pop_Over_21_2011.S0101-2024-09-27T210305.csv', 2011)\n",
    "totpop2012 = aged_population('pm_data/Pop_Over_21_2012.S0101-2024-09-27T210137.csv', 2012)\n",
    "totpop2013 = aged_population('pm_data/Pop_Over_21_2012.S0101-2024-09-27T210137.csv', 2013)\n",
    "totpop2014 = aged_population('pm_data/Pop_Over_21_2012.S0101-2024-09-27T210137.csv', 2014)\n",
    "totpop2015 = aged_population('pm_data/Pop_Over_21_2012.S0101-2024-09-27T210137.csv', 2015)\n",
    "totpop2016 = aged_population('pm_data/Pop_Over_21_2012.S0101-2024-09-27T210137.csv', 2016)\n",
    "totpop2017 = aged_population('pm_data/Pop_Over_21_2012.S0101-2024-09-27T210137.csv', 2017)\n",
    "totpop2018 = aged_population('pm_data/Pop_Over_21_2012.S0101-2024-09-27T210137.csv', 2018)\n",
    "totpop2019 = aged_population('pm_data/Pop_Over_21_2012.S0101-2024-09-27T210137.csv', 2019)\n",
    "totpop2020 = aged_population('pm_data/pop_over_18_2020.csv', 2020)\n",
    "totpop2021 = aged_population('pm_data/Pop_Over_21_2012.S0101-2024-09-27T210137.csv', 2021)\n",
    "totpop2022 = aged_population('pm_data/Pop_Over_21_2022.csv', 2022)\n",
    "totpop2023 = aged_population('pm_data/Pop_Over_21_2023.S0101-2024-09-27T205616.csv', 2023)\n",
    "# stacking totpop\n",
    "dfs = [totpop2010, totpop2011, totpop2012, totpop2013, totpop2014, totpop2015, totpop2016, totpop2017, totpop2018, totpop2019, totpop2021, totpop2022, totpop2023]\n",
    "aged_pop_2010_2023= pd.concat(dfs, ignore_index= True)\n",
    "aged_pop_2010_2023"
   ]
  },
  {
   "cell_type": "markdown",
   "id": "cdcfb0bb7776c59a",
   "metadata": {
    "collapsed": false,
    "jupyter": {
     "outputs_hidden": false
    }
   },
   "source": [
    "# Merging to create Main Dataframe"
   ]
  },
  {
   "cell_type": "code",
   "execution_count": 40,
   "id": "437783bb48eedaba",
   "metadata": {
    "ExecuteTime": {
     "end_time": "2024-10-01T04:10:54.764208Z",
     "start_time": "2024-10-01T04:10:54.760027Z"
    },
    "collapsed": false,
    "jupyter": {
     "outputs_hidden": false
    }
   },
   "outputs": [
    {
     "data": {
      "text/html": [
       "<div>\n",
       "<style scoped>\n",
       "    .dataframe tbody tr th:only-of-type {\n",
       "        vertical-align: middle;\n",
       "    }\n",
       "\n",
       "    .dataframe tbody tr th {\n",
       "        vertical-align: top;\n",
       "    }\n",
       "\n",
       "    .dataframe thead th {\n",
       "        text-align: right;\n",
       "    }\n",
       "</style>\n",
       "<table border=\"1\" class=\"dataframe\">\n",
       "  <thead>\n",
       "    <tr style=\"text-align: right;\">\n",
       "      <th></th>\n",
       "      <th>Data Year</th>\n",
       "      <th>County</th>\n",
       "      <th>Number of EV</th>\n",
       "    </tr>\n",
       "  </thead>\n",
       "  <tbody>\n",
       "    <tr>\n",
       "      <th>0</th>\n",
       "      <td>2010</td>\n",
       "      <td>Alameda</td>\n",
       "      <td>20</td>\n",
       "    </tr>\n",
       "    <tr>\n",
       "      <th>2</th>\n",
       "      <td>2010</td>\n",
       "      <td>Alpine</td>\n",
       "      <td>0</td>\n",
       "    </tr>\n",
       "    <tr>\n",
       "      <th>4</th>\n",
       "      <td>2010</td>\n",
       "      <td>Amador</td>\n",
       "      <td>1</td>\n",
       "    </tr>\n",
       "    <tr>\n",
       "      <th>6</th>\n",
       "      <td>2010</td>\n",
       "      <td>Butte</td>\n",
       "      <td>0</td>\n",
       "    </tr>\n",
       "    <tr>\n",
       "      <th>8</th>\n",
       "      <td>2010</td>\n",
       "      <td>Calaveras</td>\n",
       "      <td>0</td>\n",
       "    </tr>\n",
       "    <tr>\n",
       "      <th>...</th>\n",
       "      <td>...</td>\n",
       "      <td>...</td>\n",
       "      <td>...</td>\n",
       "    </tr>\n",
       "    <tr>\n",
       "      <th>1642</th>\n",
       "      <td>2023</td>\n",
       "      <td>Tulare</td>\n",
       "      <td>3837</td>\n",
       "    </tr>\n",
       "    <tr>\n",
       "      <th>1644</th>\n",
       "      <td>2023</td>\n",
       "      <td>Tuolumne</td>\n",
       "      <td>698</td>\n",
       "    </tr>\n",
       "    <tr>\n",
       "      <th>1646</th>\n",
       "      <td>2023</td>\n",
       "      <td>Ventura</td>\n",
       "      <td>31980</td>\n",
       "    </tr>\n",
       "    <tr>\n",
       "      <th>1648</th>\n",
       "      <td>2023</td>\n",
       "      <td>Yolo</td>\n",
       "      <td>6757</td>\n",
       "    </tr>\n",
       "    <tr>\n",
       "      <th>1650</th>\n",
       "      <td>2023</td>\n",
       "      <td>Yuba</td>\n",
       "      <td>961</td>\n",
       "    </tr>\n",
       "  </tbody>\n",
       "</table>\n",
       "<p>826 rows × 3 columns</p>\n",
       "</div>"
      ],
      "text/plain": [
       "      Data Year     County  Number of EV\n",
       "0          2010    Alameda            20\n",
       "2          2010     Alpine             0\n",
       "4          2010     Amador             1\n",
       "6          2010      Butte             0\n",
       "8          2010  Calaveras             0\n",
       "...         ...        ...           ...\n",
       "1642       2023     Tulare          3837\n",
       "1644       2023   Tuolumne           698\n",
       "1646       2023    Ventura         31980\n",
       "1648       2023       Yolo          6757\n",
       "1650       2023       Yuba           961\n",
       "\n",
       "[826 rows x 3 columns]"
      ]
     },
     "execution_count": 40,
     "metadata": {},
     "output_type": "execute_result"
    }
   ],
   "source": [
    "# Let's select only Electric Vehicles to see if higher EV values result in lower PM 2.5 Emissions \n",
    "df_ev_vehicles = fueltype_per_county_totals[fueltype_per_county_totals['Fuel Category'] == 'EV']\n",
    "df_ev_vehicles = df_ev_vehicles.rename(columns={'Number of Vehicles': 'Number of EV'})\n",
    "df_ev_vehicles = df_ev_vehicles.drop(columns=['Fuel Category'])\n",
    "df_ev_vehicles"
   ]
  },
  {
   "cell_type": "code",
   "execution_count": 41,
   "id": "ef052ef159068d6a",
   "metadata": {
    "ExecuteTime": {
     "end_time": "2024-10-01T04:10:54.768196Z",
     "start_time": "2024-10-01T04:10:54.764718Z"
    },
    "collapsed": false,
    "jupyter": {
     "outputs_hidden": false
    }
   },
   "outputs": [
    {
     "name": "stdout",
     "output_type": "stream",
     "text": [
      "Only in df_ev_vehicles: {'Out Of State', 'Modoc', 'Sierra', 'Yuba', 'Amador', 'Lassen', 'Tuolumne'}\n",
      "Only in df_pm: set()\n"
     ]
    }
   ],
   "source": [
    "# Let's see if there are any differences between df_ev_vehicles and \n",
    "# strip df_pm of spaces \n",
    "df_pm['County'] = df_pm['County'].str.strip()\n",
    "counties = pd.DataFrame({\n",
    "    'County_df_vehicles': df_ev_vehicles['County'],\n",
    "    'County_df_pm': df_pm['County']\n",
    "})\n",
    "counties.head()\n",
    "# Get unique counties from both DataFrames\n",
    "counties_vehicles = set(df_ev_vehicles['County'])\n",
    "counties_pm = set(df_pm['County'])\n",
    "\n",
    "# Find differences\n",
    "only_in_vehicles = counties_vehicles - counties_pm\n",
    "only_in_pm = counties_pm - counties_vehicles\n",
    "\n",
    "print(\"Only in df_ev_vehicles:\", only_in_vehicles)\n",
    "print(\"Only in df_pm:\", only_in_pm)\n"
   ]
  },
  {
   "cell_type": "code",
   "execution_count": 42,
   "id": "92a47d2ada28d28c",
   "metadata": {
    "ExecuteTime": {
     "end_time": "2024-10-01T04:10:54.771597Z",
     "start_time": "2024-10-01T04:10:54.768768Z"
    },
    "collapsed": false,
    "jupyter": {
     "outputs_hidden": false
    }
   },
   "outputs": [],
   "source": [
    "# Since df_pm has higher requirements for taking environmental data, we will shape based on df_pm. \n",
    "df_pm_vehicles = pd.merge(df_pm, df_ev_vehicles, on=['Data Year', 'County'], how='inner')"
   ]
  },
  {
   "cell_type": "code",
   "execution_count": 43,
   "id": "6eb296ebde83ed5f",
   "metadata": {
    "ExecuteTime": {
     "end_time": "2024-10-01T04:10:54.775401Z",
     "start_time": "2024-10-01T04:10:54.772236Z"
    },
    "collapsed": false,
    "jupyter": {
     "outputs_hidden": false
    }
   },
   "outputs": [],
   "source": [
    "# Now let's merge population to df_pm_vehicles \n",
    "# clean df_pop county column to match df_pm_vehicle county column \n",
    "df_pop['County'] = df_pop['County'].str.strip()\n",
    "df_pop['County'] = df_pop['County'].str.title()\n",
    "df_pop['County'] = df_pop['County'].str.replace(r'\\s+', ' ', regex=True) "
   ]
  },
  {
   "cell_type": "code",
   "execution_count": 44,
   "id": "42f268a3823ed644",
   "metadata": {
    "ExecuteTime": {
     "end_time": "2024-10-01T04:10:54.778773Z",
     "start_time": "2024-10-01T04:10:54.776167Z"
    },
    "collapsed": false,
    "jupyter": {
     "outputs_hidden": false
    }
   },
   "outputs": [
    {
     "data": {
      "text/plain": [
       "0      2010\n",
       "1      2010\n",
       "2      2010\n",
       "3      2010\n",
       "4      2010\n",
       "       ... \n",
       "865    2024\n",
       "866    2024\n",
       "867    2024\n",
       "868    2024\n",
       "869    2024\n",
       "Name: Data Year, Length: 870, dtype: int64"
      ]
     },
     "execution_count": 44,
     "metadata": {},
     "output_type": "execute_result"
    }
   ],
   "source": [
    "df_pop['Data Year']"
   ]
  },
  {
   "cell_type": "code",
   "execution_count": 45,
   "id": "a51b94d6263bc461",
   "metadata": {
    "ExecuteTime": {
     "end_time": "2024-10-01T04:10:54.781467Z",
     "start_time": "2024-10-01T04:10:54.779311Z"
    },
    "collapsed": false,
    "jupyter": {
     "outputs_hidden": false
    }
   },
   "outputs": [
    {
     "name": "stdout",
     "output_type": "stream",
     "text": [
      "Only in df_pop: {'Modoc', 'Sierra', 'Yuba', 'Amador', 'Lassen', 'Tuolumne'}\n",
      "Only in df_pm_vehicles: set()\n"
     ]
    }
   ],
   "source": [
    "# Get unique counties from both DataFrames\n",
    "counties_pop = set(df_pop['County'])\n",
    "counties_pm_vehicles = set(df_pm_vehicles['County'])\n",
    "\n",
    "# Find differences\n",
    "only_in_pop = counties_pop - counties_pm_vehicles\n",
    "only_in_pm_vehicles = counties_pm_vehicles - counties_pop\n",
    "\n",
    "print(\"Only in df_pop:\", only_in_pop)\n",
    "print(\"Only in df_pm_vehicles:\", only_in_pm_vehicles)\n",
    "# for now, we will merge on left for df_pm_vehicles "
   ]
  },
  {
   "cell_type": "code",
   "execution_count": 46,
   "id": "547f834bb37c7112",
   "metadata": {
    "ExecuteTime": {
     "end_time": "2024-10-01T04:10:54.786150Z",
     "start_time": "2024-10-01T04:10:54.782075Z"
    },
    "collapsed": false,
    "jupyter": {
     "outputs_hidden": false
    }
   },
   "outputs": [],
   "source": [
    "# Let's merge df_pm_vehicles and total population \n",
    "df_pm_vehicles_pop= pd.merge(df_pm_vehicles, df_pop, on=['Data Year', 'County'], how='inner')\n",
    "df_pm_vehicles_pop.rename(columns={'Z Score_x':'Total Population Z Score'}, inplace=True)\n",
    "df_pm_vehicles_pop.rename(columns={'Population_x':'Total Population'}, inplace=True)\n",
    "# renaming df_pm_vehicles_pop to main_df for clarity \n",
    "main_df = df_pm_vehicles_pop"
   ]
  },
  {
   "cell_type": "code",
   "execution_count": 47,
   "id": "6505364e12b357ea",
   "metadata": {
    "ExecuteTime": {
     "end_time": "2024-10-01T04:10:54.790159Z",
     "start_time": "2024-10-01T04:10:54.786758Z"
    },
    "collapsed": false,
    "jupyter": {
     "outputs_hidden": false
    }
   },
   "outputs": [
    {
     "name": "stdout",
     "output_type": "stream",
     "text": [
      "Only in pop_df: set()\n",
      "Only in aged_pop_2010_2023: set()\n"
     ]
    }
   ],
   "source": [
    " # Let's see if there are any main differences between the Counties in the total population dataframe and the aged population dataframe. \n",
    "aged_pop_2010_2023['County'] = aged_pop_2010_2023['County'].str.strip()\n",
    "counties = pd.DataFrame({\n",
    "    'County_main_df': df_pop['County'],\n",
    "    'County_aged_pop_2010_2023': aged_pop_2010_2023['County']\n",
    "})\n",
    "counties.head()\n",
    "# Get unique counties from both DataFrames\n",
    "pop_df_co = set(df_pop['County'])\n",
    "aged_pop_2010_2023_co = set(aged_pop_2010_2023['County'])\n",
    "\n",
    "# Find differences\n",
    "only_in_pop_df_co = pop_df_co - aged_pop_2010_2023_co\n",
    "only_in_aged_pop_2010_2023_co = aged_pop_2010_2023_co - pop_df_co\n",
    "\n",
    "print(\"Only in pop_df:\", only_in_pop_df_co)\n",
    "print(\"Only in aged_pop_2010_2023:\", only_in_aged_pop_2010_2023_co)"
   ]
  },
  {
   "cell_type": "code",
   "execution_count": 48,
   "id": "fceb34bf2d788dd3",
   "metadata": {
    "ExecuteTime": {
     "end_time": "2024-10-01T04:10:54.796840Z",
     "start_time": "2024-10-01T04:10:54.790720Z"
    },
    "collapsed": false,
    "jupyter": {
     "outputs_hidden": false
    }
   },
   "outputs": [
    {
     "data": {
      "text/html": [
       "<div>\n",
       "<style scoped>\n",
       "    .dataframe tbody tr th:only-of-type {\n",
       "        vertical-align: middle;\n",
       "    }\n",
       "\n",
       "    .dataframe tbody tr th {\n",
       "        vertical-align: top;\n",
       "    }\n",
       "\n",
       "    .dataframe thead th {\n",
       "        text-align: right;\n",
       "    }\n",
       "</style>\n",
       "<table border=\"1\" class=\"dataframe\">\n",
       "  <thead>\n",
       "    <tr style=\"text-align: right;\">\n",
       "      <th></th>\n",
       "      <th>Data Year</th>\n",
       "      <th>County</th>\n",
       "      <th>Average PM 2.5/County</th>\n",
       "      <th>Number of Site IDs/County</th>\n",
       "      <th>Number of EV</th>\n",
       "      <th>Population</th>\n",
       "      <th>Z Score</th>\n",
       "      <th>Population Estimate, &gt;18</th>\n",
       "      <th>Population Margin of Error, &gt;18</th>\n",
       "    </tr>\n",
       "  </thead>\n",
       "  <tbody>\n",
       "    <tr>\n",
       "      <th>0</th>\n",
       "      <td>2010</td>\n",
       "      <td>Alameda</td>\n",
       "      <td>8.165623</td>\n",
       "      <td>5.0</td>\n",
       "      <td>20</td>\n",
       "      <td>1510271</td>\n",
       "      <td>0.585020</td>\n",
       "      <td>77.5%</td>\n",
       "      <td>*****</td>\n",
       "    </tr>\n",
       "    <tr>\n",
       "      <th>1</th>\n",
       "      <td>2010</td>\n",
       "      <td>Butte</td>\n",
       "      <td>8.776451</td>\n",
       "      <td>3.0</td>\n",
       "      <td>0</td>\n",
       "      <td>220000</td>\n",
       "      <td>-0.311810</td>\n",
       "      <td>79.3%</td>\n",
       "      <td>±0.3</td>\n",
       "    </tr>\n",
       "    <tr>\n",
       "      <th>2</th>\n",
       "      <td>2010</td>\n",
       "      <td>Contra Costa</td>\n",
       "      <td>7.606920</td>\n",
       "      <td>1.0</td>\n",
       "      <td>10</td>\n",
       "      <td>1049025</td>\n",
       "      <td>0.264421</td>\n",
       "      <td>75.2%</td>\n",
       "      <td>±0.1</td>\n",
       "    </tr>\n",
       "    <tr>\n",
       "      <th>3</th>\n",
       "      <td>2010</td>\n",
       "      <td>El Dorado</td>\n",
       "      <td>2.195902</td>\n",
       "      <td>1.0</td>\n",
       "      <td>0</td>\n",
       "      <td>181058</td>\n",
       "      <td>-0.338878</td>\n",
       "      <td>77.2%</td>\n",
       "      <td>±0.2</td>\n",
       "    </tr>\n",
       "    <tr>\n",
       "      <th>4</th>\n",
       "      <td>2010</td>\n",
       "      <td>Fresno</td>\n",
       "      <td>11.729538</td>\n",
       "      <td>6.0</td>\n",
       "      <td>2</td>\n",
       "      <td>930450</td>\n",
       "      <td>0.182003</td>\n",
       "      <td>70.1%</td>\n",
       "      <td>±0.1</td>\n",
       "    </tr>\n",
       "    <tr>\n",
       "      <th>...</th>\n",
       "      <td>...</td>\n",
       "      <td>...</td>\n",
       "      <td>...</td>\n",
       "      <td>...</td>\n",
       "      <td>...</td>\n",
       "      <td>...</td>\n",
       "      <td>...</td>\n",
       "      <td>...</td>\n",
       "      <td>...</td>\n",
       "    </tr>\n",
       "    <tr>\n",
       "      <th>475</th>\n",
       "      <td>2023</td>\n",
       "      <td>Sutter</td>\n",
       "      <td>8.442737</td>\n",
       "      <td>1.0</td>\n",
       "      <td>1147</td>\n",
       "      <td>98248</td>\n",
       "      <td>-0.396437</td>\n",
       "      <td>74,369</td>\n",
       "      <td>±180</td>\n",
       "    </tr>\n",
       "    <tr>\n",
       "      <th>476</th>\n",
       "      <td>2023</td>\n",
       "      <td>Tehama</td>\n",
       "      <td>6.108611</td>\n",
       "      <td>1.0</td>\n",
       "      <td>398</td>\n",
       "      <td>64710</td>\n",
       "      <td>-0.419748</td>\n",
       "      <td>49,287</td>\n",
       "      <td>*****</td>\n",
       "    </tr>\n",
       "    <tr>\n",
       "      <th>477</th>\n",
       "      <td>2023</td>\n",
       "      <td>Tulare</td>\n",
       "      <td>10.567731</td>\n",
       "      <td>4.0</td>\n",
       "      <td>3837</td>\n",
       "      <td>474680</td>\n",
       "      <td>-0.134790</td>\n",
       "      <td>338,510</td>\n",
       "      <td>±144</td>\n",
       "    </tr>\n",
       "    <tr>\n",
       "      <th>478</th>\n",
       "      <td>2023</td>\n",
       "      <td>Ventura</td>\n",
       "      <td>5.870643</td>\n",
       "      <td>5.0</td>\n",
       "      <td>31980</td>\n",
       "      <td>825960</td>\n",
       "      <td>0.109375</td>\n",
       "      <td>651,462</td>\n",
       "      <td>*****</td>\n",
       "    </tr>\n",
       "    <tr>\n",
       "      <th>479</th>\n",
       "      <td>2023</td>\n",
       "      <td>Yolo</td>\n",
       "      <td>7.216270</td>\n",
       "      <td>2.0</td>\n",
       "      <td>6757</td>\n",
       "      <td>220454</td>\n",
       "      <td>-0.311495</td>\n",
       "      <td>178,433</td>\n",
       "      <td>±709</td>\n",
       "    </tr>\n",
       "  </tbody>\n",
       "</table>\n",
       "<p>480 rows × 9 columns</p>\n",
       "</div>"
      ],
      "text/plain": [
       "     Data Year        County  Average PM 2.5/County  \\\n",
       "0         2010       Alameda               8.165623   \n",
       "1         2010         Butte               8.776451   \n",
       "2         2010  Contra Costa               7.606920   \n",
       "3         2010     El Dorado               2.195902   \n",
       "4         2010        Fresno              11.729538   \n",
       "..         ...           ...                    ...   \n",
       "475       2023        Sutter               8.442737   \n",
       "476       2023        Tehama               6.108611   \n",
       "477       2023        Tulare              10.567731   \n",
       "478       2023       Ventura               5.870643   \n",
       "479       2023          Yolo               7.216270   \n",
       "\n",
       "     Number of Site IDs/County  Number of EV  Population   Z Score  \\\n",
       "0                          5.0            20     1510271  0.585020   \n",
       "1                          3.0             0      220000 -0.311810   \n",
       "2                          1.0            10     1049025  0.264421   \n",
       "3                          1.0             0      181058 -0.338878   \n",
       "4                          6.0             2      930450  0.182003   \n",
       "..                         ...           ...         ...       ...   \n",
       "475                        1.0          1147       98248 -0.396437   \n",
       "476                        1.0           398       64710 -0.419748   \n",
       "477                        4.0          3837      474680 -0.134790   \n",
       "478                        5.0         31980      825960  0.109375   \n",
       "479                        2.0          6757      220454 -0.311495   \n",
       "\n",
       "    Population Estimate, >18 Population Margin of Error, >18  \n",
       "0                      77.5%                           *****  \n",
       "1                      79.3%                            ±0.3  \n",
       "2                      75.2%                            ±0.1  \n",
       "3                      77.2%                            ±0.2  \n",
       "4                      70.1%                            ±0.1  \n",
       "..                       ...                             ...  \n",
       "475                   74,369                            ±180  \n",
       "476                   49,287                           *****  \n",
       "477                  338,510                            ±144  \n",
       "478                  651,462                           *****  \n",
       "479                  178,433                            ±709  \n",
       "\n",
       "[480 rows x 9 columns]"
      ]
     },
     "execution_count": 48,
     "metadata": {},
     "output_type": "execute_result"
    }
   ],
   "source": [
    "# merging aged_pop_2010_2023 to main_df \n",
    "main_df = pd.merge(main_df, aged_pop_2010_2023, how='inner', on = ['Data Year', 'County'])\n",
    "main_df"
   ]
  },
  {
   "cell_type": "code",
   "execution_count": 50,
   "id": "117f8d729f9b2f59",
   "metadata": {
    "ExecuteTime": {
     "end_time": "2024-10-01T04:11:09.123781Z",
     "start_time": "2024-10-01T04:11:09.079135Z"
    },
    "collapsed": false,
    "jupyter": {
     "outputs_hidden": false
    }
   },
   "outputs": [
    {
     "data": {
      "text/html": [
       "<div>\n",
       "<style scoped>\n",
       "    .dataframe tbody tr th:only-of-type {\n",
       "        vertical-align: middle;\n",
       "    }\n",
       "\n",
       "    .dataframe tbody tr th {\n",
       "        vertical-align: top;\n",
       "    }\n",
       "\n",
       "    .dataframe thead th {\n",
       "        text-align: right;\n",
       "    }\n",
       "</style>\n",
       "<table border=\"1\" class=\"dataframe\">\n",
       "  <thead>\n",
       "    <tr style=\"text-align: right;\">\n",
       "      <th></th>\n",
       "      <th>Data Year</th>\n",
       "      <th>County</th>\n",
       "      <th>Average PM 2.5/County</th>\n",
       "      <th>Number of Site IDs/County</th>\n",
       "      <th>Number of EV</th>\n",
       "      <th>Population</th>\n",
       "      <th>Z Score</th>\n",
       "      <th>Population Estimate, &gt;18</th>\n",
       "      <th>Population Margin of Error, &gt;18</th>\n",
       "    </tr>\n",
       "  </thead>\n",
       "  <tbody>\n",
       "    <tr>\n",
       "      <th>0</th>\n",
       "      <td>2010</td>\n",
       "      <td>Alameda</td>\n",
       "      <td>8.165623</td>\n",
       "      <td>5.0</td>\n",
       "      <td>20</td>\n",
       "      <td>1510271</td>\n",
       "      <td>0.585020</td>\n",
       "      <td>1170460.025</td>\n",
       "      <td>*****</td>\n",
       "    </tr>\n",
       "    <tr>\n",
       "      <th>1</th>\n",
       "      <td>2010</td>\n",
       "      <td>Butte</td>\n",
       "      <td>8.776451</td>\n",
       "      <td>3.0</td>\n",
       "      <td>0</td>\n",
       "      <td>220000</td>\n",
       "      <td>-0.311810</td>\n",
       "      <td>174460.0</td>\n",
       "      <td>±0.3</td>\n",
       "    </tr>\n",
       "    <tr>\n",
       "      <th>2</th>\n",
       "      <td>2010</td>\n",
       "      <td>Contra Costa</td>\n",
       "      <td>7.606920</td>\n",
       "      <td>1.0</td>\n",
       "      <td>10</td>\n",
       "      <td>1049025</td>\n",
       "      <td>0.264421</td>\n",
       "      <td>788866.8</td>\n",
       "      <td>±0.1</td>\n",
       "    </tr>\n",
       "    <tr>\n",
       "      <th>3</th>\n",
       "      <td>2010</td>\n",
       "      <td>El Dorado</td>\n",
       "      <td>2.195902</td>\n",
       "      <td>1.0</td>\n",
       "      <td>0</td>\n",
       "      <td>181058</td>\n",
       "      <td>-0.338878</td>\n",
       "      <td>139776.776</td>\n",
       "      <td>±0.2</td>\n",
       "    </tr>\n",
       "    <tr>\n",
       "      <th>4</th>\n",
       "      <td>2010</td>\n",
       "      <td>Fresno</td>\n",
       "      <td>11.729538</td>\n",
       "      <td>6.0</td>\n",
       "      <td>2</td>\n",
       "      <td>930450</td>\n",
       "      <td>0.182003</td>\n",
       "      <td>652245.45</td>\n",
       "      <td>±0.1</td>\n",
       "    </tr>\n",
       "    <tr>\n",
       "      <th>...</th>\n",
       "      <td>...</td>\n",
       "      <td>...</td>\n",
       "      <td>...</td>\n",
       "      <td>...</td>\n",
       "      <td>...</td>\n",
       "      <td>...</td>\n",
       "      <td>...</td>\n",
       "      <td>...</td>\n",
       "      <td>...</td>\n",
       "    </tr>\n",
       "    <tr>\n",
       "      <th>475</th>\n",
       "      <td>2023</td>\n",
       "      <td>Sutter</td>\n",
       "      <td>8.442737</td>\n",
       "      <td>1.0</td>\n",
       "      <td>1147</td>\n",
       "      <td>98248</td>\n",
       "      <td>-0.396437</td>\n",
       "      <td>74,369</td>\n",
       "      <td>±180</td>\n",
       "    </tr>\n",
       "    <tr>\n",
       "      <th>476</th>\n",
       "      <td>2023</td>\n",
       "      <td>Tehama</td>\n",
       "      <td>6.108611</td>\n",
       "      <td>1.0</td>\n",
       "      <td>398</td>\n",
       "      <td>64710</td>\n",
       "      <td>-0.419748</td>\n",
       "      <td>49,287</td>\n",
       "      <td>*****</td>\n",
       "    </tr>\n",
       "    <tr>\n",
       "      <th>477</th>\n",
       "      <td>2023</td>\n",
       "      <td>Tulare</td>\n",
       "      <td>10.567731</td>\n",
       "      <td>4.0</td>\n",
       "      <td>3837</td>\n",
       "      <td>474680</td>\n",
       "      <td>-0.134790</td>\n",
       "      <td>338,510</td>\n",
       "      <td>±144</td>\n",
       "    </tr>\n",
       "    <tr>\n",
       "      <th>478</th>\n",
       "      <td>2023</td>\n",
       "      <td>Ventura</td>\n",
       "      <td>5.870643</td>\n",
       "      <td>5.0</td>\n",
       "      <td>31980</td>\n",
       "      <td>825960</td>\n",
       "      <td>0.109375</td>\n",
       "      <td>651,462</td>\n",
       "      <td>*****</td>\n",
       "    </tr>\n",
       "    <tr>\n",
       "      <th>479</th>\n",
       "      <td>2023</td>\n",
       "      <td>Yolo</td>\n",
       "      <td>7.216270</td>\n",
       "      <td>2.0</td>\n",
       "      <td>6757</td>\n",
       "      <td>220454</td>\n",
       "      <td>-0.311495</td>\n",
       "      <td>178,433</td>\n",
       "      <td>±709</td>\n",
       "    </tr>\n",
       "  </tbody>\n",
       "</table>\n",
       "<p>480 rows × 9 columns</p>\n",
       "</div>"
      ],
      "text/plain": [
       "     Data Year        County  Average PM 2.5/County  \\\n",
       "0         2010       Alameda               8.165623   \n",
       "1         2010         Butte               8.776451   \n",
       "2         2010  Contra Costa               7.606920   \n",
       "3         2010     El Dorado               2.195902   \n",
       "4         2010        Fresno              11.729538   \n",
       "..         ...           ...                    ...   \n",
       "475       2023        Sutter               8.442737   \n",
       "476       2023        Tehama               6.108611   \n",
       "477       2023        Tulare              10.567731   \n",
       "478       2023       Ventura               5.870643   \n",
       "479       2023          Yolo               7.216270   \n",
       "\n",
       "     Number of Site IDs/County  Number of EV  Population   Z Score  \\\n",
       "0                          5.0            20     1510271  0.585020   \n",
       "1                          3.0             0      220000 -0.311810   \n",
       "2                          1.0            10     1049025  0.264421   \n",
       "3                          1.0             0      181058 -0.338878   \n",
       "4                          6.0             2      930450  0.182003   \n",
       "..                         ...           ...         ...       ...   \n",
       "475                        1.0          1147       98248 -0.396437   \n",
       "476                        1.0           398       64710 -0.419748   \n",
       "477                        4.0          3837      474680 -0.134790   \n",
       "478                        5.0         31980      825960  0.109375   \n",
       "479                        2.0          6757      220454 -0.311495   \n",
       "\n",
       "    Population Estimate, >18 Population Margin of Error, >18  \n",
       "0                1170460.025                           *****  \n",
       "1                   174460.0                            ±0.3  \n",
       "2                   788866.8                            ±0.1  \n",
       "3                 139776.776                            ±0.2  \n",
       "4                  652245.45                            ±0.1  \n",
       "..                       ...                             ...  \n",
       "475                   74,369                            ±180  \n",
       "476                   49,287                           *****  \n",
       "477                  338,510                            ±144  \n",
       "478                  651,462                           *****  \n",
       "479                  178,433                            ±709  \n",
       "\n",
       "[480 rows x 9 columns]"
      ]
     },
     "execution_count": 50,
     "metadata": {},
     "output_type": "execute_result"
    }
   ],
   "source": [
    "# there is some percentages and whole numbers, let's make them all whole numbers \n",
    "\n",
    "def convert_to_population_estimate(row):\n",
    "    # converting percentage to decimal, if applicable \n",
    "    if isinstance(row['Population Estimate, >18'], str) and '%' in row['Population Estimate, >18']:\n",
    "        percent_value = float(row['Population Estimate, >18'].strip('%')) / 100\n",
    "        return percent_value * row['Population']\n",
    "    else:\n",
    "        return row['Population Estimate, >18']\n",
    "\n",
    "# apply to update 'Total Population Estimate, >21'\n",
    "main_df['Population Estimate, >18'] = main_df.apply(convert_to_population_estimate, axis=1)\n",
    "\n",
    "main_df "
   ]
  },
  {
   "cell_type": "code",
   "execution_count": null,
   "id": "bb0df64efaca2",
   "metadata": {
    "ExecuteTime": {
     "end_time": "2024-10-01T04:10:55.203795Z",
     "start_time": "2024-10-01T04:10:55.203745Z"
    },
    "collapsed": false,
    "jupyter": {
     "outputs_hidden": false
    }
   },
   "outputs": [],
   "source": []
  }
 ],
 "metadata": {
  "kernelspec": {
   "display_name": "Python 3 (ipykernel)",
   "language": "python",
   "name": "python3"
  },
  "language_info": {
   "codemirror_mode": {
    "name": "ipython",
    "version": 3
   },
   "file_extension": ".py",
   "mimetype": "text/x-python",
   "name": "python",
   "nbconvert_exporter": "python",
   "pygments_lexer": "ipython3",
   "version": "3.11.5"
  }
 },
 "nbformat": 4,
 "nbformat_minor": 5
}
