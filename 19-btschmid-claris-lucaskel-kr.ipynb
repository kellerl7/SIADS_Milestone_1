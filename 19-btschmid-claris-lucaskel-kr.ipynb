{
 "cells": [
  {
   "cell_type": "markdown",
   "id": "ef528c0bb02077f",
   "metadata": {},
   "source": [
    "# Driving Towards a Brighter Future: EV Adaption Rates in California and its Effect on PM 2.5 Emissions\n",
    "\n"
   ]
  },
  {
   "cell_type": "markdown",
   "id": "e3be14d8",
   "metadata": {},
   "source": [
    "This notebook is aimed at the exploratory data analysis for the growing presence of electric vehicles in California and its relationship with PM2.5 Emissions.\n",
    "\n",
    "It consists of importing several datasets, cleaning and manipulating the data, merging the datasets together, and finally creating several visuals to help interpret the data. \n",
    "\n",
    "### Contributions: \n",
    "-  __Clarissa Clark__ - Data Import, Cleaning, and Merging (PM 2.5; Population Data)\n",
    "- __Lucas Keller__ - Merged Visualizations (Heat Map, Correlation Plots, PM2.5 per Counties)\n",
    "- __Brett Schmidt__ - Data Import, Cleaning, Vehicle Visualizations (California Vehicle)\n",
    "#### SIADS 593 Milestone I -  October 7th, 2024"
   ]
  },
  {
   "cell_type": "markdown",
   "id": "535d9c17",
   "metadata": {},
   "source": [
    "# Imports and Requirements"
   ]
  },
  {
   "cell_type": "code",
   "execution_count": 1,
   "id": "8e2b173f8cc6cc6b",
   "metadata": {
    "ExecuteTime": {
     "end_time": "2024-09-30T16:45:39.337612Z",
     "start_time": "2024-09-30T16:45:39.331574Z"
    }
   },
   "outputs": [],
   "source": [
    "#uncomment to install openpyxl if required to import excel\n",
    "#pip install openpyxl\n",
    "#!pip install -r requirements.txt"
   ]
  },
  {
   "cell_type": "code",
   "execution_count": 2,
   "id": "65c8ca51d599b6a8",
   "metadata": {
    "ExecuteTime": {
     "end_time": "2024-09-30T16:45:39.686789Z",
     "start_time": "2024-09-30T16:45:39.344434Z"
    }
   },
   "outputs": [],
   "source": [
    "## import required libraries\n",
    "import pandas as pd\n",
    "import numpy as np\n",
    "from scipy.stats import zscore\n",
    "from urllib.request import urlretrieve\n",
    "import matplotlib.pyplot as plt\n",
    "from matplotlib.ticker import FuncFormatter"
   ]
  },
  {
   "cell_type": "markdown",
   "id": "493ffb8cd5a09f7c",
   "metadata": {},
   "source": [
    "# California Vehicles - Import, Clean, and Visualization\n",
    "Data sourced from https://www.energy.ca.gov/files/zev-and-infrastructure-stats-data and downloads as \"Vehicle_Population_Last_updated_04-30-2024_ada.xlsx\".\n",
    "\n",
    "The dataset contains information on California vehicles, which includes registration year, county, make, model, fuel type, and total vehicles under those categories. \n",
    "\n",
    "The goal for this section is to import the data, remove unnecessary information, check for missing or unexpected values, and provide a dataframe to later merge on 'County' and 'Year'."
   ]
  },
  {
   "cell_type": "markdown",
   "id": "de2ed7e7",
   "metadata": {},
   "source": [
    "#### Import Data\n",
    "Data is provided, but can be imported directly from the URL."
   ]
  },
  {
   "cell_type": "code",
   "execution_count": 3,
   "id": "5fc1b725",
   "metadata": {},
   "outputs": [],
   "source": [
    "## File has been predownloaded and is part of the analysis package ##\n",
    "vehicle_data = 'vehicle_data/california_vehicle.xlsx'\n",
    "\n",
    "## Switch url_import if direct download is desired ##\n",
    "url_import = False\n",
    "if url_import:\n",
    "    if not os.path.exists(vehicle_data_dir):\n",
    "        os.makedirs(vehicle_data_dir)\n",
    "    URL = 'https://www.energy.ca.gov/filebrowser/download/6311?fid=6311#block-symsoft-page-title'\n",
    "    urlretrieve(URL, vehicle_data)"
   ]
  },
  {
   "cell_type": "code",
   "execution_count": 4,
   "id": "b714c29267e17f4a",
   "metadata": {
    "ExecuteTime": {
     "end_time": "2024-09-30T16:45:41.246031Z",
     "start_time": "2024-09-30T16:45:39.688994Z"
    }
   },
   "outputs": [],
   "source": [
    "## Import data as a pandas dataframe ##\n",
    "countyvehicle_df = pd.read_excel('vehicle_data/california_vehicle.xlsx',sheet_name=\"County\")"
   ]
  },
  {
   "cell_type": "markdown",
   "id": "06148bbe",
   "metadata": {},
   "source": [
    "#### Inspect and Reduce Data\n",
    "We'll take a look at the shape, contents, and check for unnecessary columns."
   ]
  },
  {
   "cell_type": "code",
   "execution_count": 5,
   "id": "618de9f02d9204fe",
   "metadata": {
    "ExecuteTime": {
     "end_time": "2024-09-30T16:45:41.249639Z",
     "start_time": "2024-09-30T16:45:41.246738Z"
    }
   },
   "outputs": [
    {
     "data": {
      "text/plain": [
       "(33542, 7)"
      ]
     },
     "execution_count": 5,
     "metadata": {},
     "output_type": "execute_result"
    }
   ],
   "source": [
    "## We've isolated the worksheet, now let's take a look at the shape ##\n",
    "countyvehicle_df.shape"
   ]
  },
  {
   "cell_type": "markdown",
   "id": "cde56a48",
   "metadata": {},
   "source": [
    "We see there are 33542 rows and 7 columns, now let's see what is inside."
   ]
  },
  {
   "cell_type": "code",
   "execution_count": 6,
   "id": "9007d9d32c43c503",
   "metadata": {
    "ExecuteTime": {
     "end_time": "2024-09-30T16:45:41.258923Z",
     "start_time": "2024-09-30T16:45:41.250728Z"
    }
   },
   "outputs": [
    {
     "data": {
      "text/html": [
       "<div>\n",
       "<style scoped>\n",
       "    .dataframe tbody tr th:only-of-type {\n",
       "        vertical-align: middle;\n",
       "    }\n",
       "\n",
       "    .dataframe tbody tr th {\n",
       "        vertical-align: top;\n",
       "    }\n",
       "\n",
       "    .dataframe thead th {\n",
       "        text-align: right;\n",
       "    }\n",
       "</style>\n",
       "<table border=\"1\" class=\"dataframe\">\n",
       "  <thead>\n",
       "    <tr style=\"text-align: right;\">\n",
       "      <th></th>\n",
       "      <th>Data Year</th>\n",
       "      <th>County</th>\n",
       "      <th>Dashboard Fuel Type Group</th>\n",
       "      <th>Fuel Type</th>\n",
       "      <th>Make</th>\n",
       "      <th>Model</th>\n",
       "      <th>Number of Vehicles</th>\n",
       "    </tr>\n",
       "  </thead>\n",
       "  <tbody>\n",
       "    <tr>\n",
       "      <th>0</th>\n",
       "      <td>2010</td>\n",
       "      <td>Alameda</td>\n",
       "      <td>Battery Electric (BEV)</td>\n",
       "      <td>Battery Electric (BEV)</td>\n",
       "      <td>Ford</td>\n",
       "      <td>Ranger</td>\n",
       "      <td>3</td>\n",
       "    </tr>\n",
       "    <tr>\n",
       "      <th>1</th>\n",
       "      <td>2010</td>\n",
       "      <td>Alameda</td>\n",
       "      <td>Battery Electric (BEV)</td>\n",
       "      <td>Battery Electric (BEV)</td>\n",
       "      <td>Tesla</td>\n",
       "      <td>Roadster</td>\n",
       "      <td>17</td>\n",
       "    </tr>\n",
       "    <tr>\n",
       "      <th>2</th>\n",
       "      <td>2010</td>\n",
       "      <td>Alameda</td>\n",
       "      <td>Diesel</td>\n",
       "      <td>Diesel</td>\n",
       "      <td>NaN</td>\n",
       "      <td>NaN</td>\n",
       "      <td>10939</td>\n",
       "    </tr>\n",
       "    <tr>\n",
       "      <th>3</th>\n",
       "      <td>2010</td>\n",
       "      <td>Alameda</td>\n",
       "      <td>Gasoline</td>\n",
       "      <td>Flex Fuel</td>\n",
       "      <td>NaN</td>\n",
       "      <td>NaN</td>\n",
       "      <td>10974</td>\n",
       "    </tr>\n",
       "    <tr>\n",
       "      <th>4</th>\n",
       "      <td>2010</td>\n",
       "      <td>Alameda</td>\n",
       "      <td>Gasoline</td>\n",
       "      <td>Gasoline</td>\n",
       "      <td>NaN</td>\n",
       "      <td>NaN</td>\n",
       "      <td>840577</td>\n",
       "    </tr>\n",
       "  </tbody>\n",
       "</table>\n",
       "</div>"
      ],
      "text/plain": [
       "   Data Year   County Dashboard Fuel Type Group               Fuel Type  \\\n",
       "0       2010  Alameda    Battery Electric (BEV)  Battery Electric (BEV)   \n",
       "1       2010  Alameda    Battery Electric (BEV)  Battery Electric (BEV)   \n",
       "2       2010  Alameda                    Diesel                  Diesel   \n",
       "3       2010  Alameda                  Gasoline               Flex Fuel   \n",
       "4       2010  Alameda                  Gasoline                Gasoline   \n",
       "\n",
       "    Make     Model  Number of Vehicles  \n",
       "0   Ford    Ranger                   3  \n",
       "1  Tesla  Roadster                  17  \n",
       "2    NaN       NaN               10939  \n",
       "3    NaN       NaN               10974  \n",
       "4    NaN       NaN              840577  "
      ]
     },
     "execution_count": 6,
     "metadata": {},
     "output_type": "execute_result"
    }
   ],
   "source": [
    "countyvehicle_df.head()"
   ]
  },
  {
   "cell_type": "markdown",
   "id": "4055c4a0",
   "metadata": {},
   "source": [
    "We're not interested in the Make or Model of the car, so let's drop those values and inspect the information of our dataframe."
   ]
  },
  {
   "cell_type": "code",
   "execution_count": 7,
   "id": "e075187438cc4278",
   "metadata": {
    "ExecuteTime": {
     "end_time": "2024-09-30T16:45:41.278647Z",
     "start_time": "2024-09-30T16:45:41.259437Z"
    }
   },
   "outputs": [
    {
     "name": "stdout",
     "output_type": "stream",
     "text": [
      "<class 'pandas.core.frame.DataFrame'>\n",
      "RangeIndex: 33542 entries, 0 to 33541\n",
      "Data columns (total 5 columns):\n",
      " #   Column                     Non-Null Count  Dtype \n",
      "---  ------                     --------------  ----- \n",
      " 0   Data Year                  33542 non-null  int64 \n",
      " 1   County                     33542 non-null  object\n",
      " 2   Dashboard Fuel Type Group  33542 non-null  object\n",
      " 3   Fuel Type                  33542 non-null  object\n",
      " 4   Number of Vehicles         33542 non-null  int64 \n",
      "dtypes: int64(2), object(3)\n",
      "memory usage: 1.3+ MB\n"
     ]
    }
   ],
   "source": [
    "countyvehicle_df = countyvehicle_df.drop(columns=['Make','Model'])\n",
    "countyvehicle_df.info()"
   ]
  },
  {
   "cell_type": "markdown",
   "id": "4206f935",
   "metadata": {},
   "source": [
    "There are __33542__ counts across each entry. That's good.\n",
    "\n",
    "Now let's check for missing years and missing counties."
   ]
  },
  {
   "cell_type": "code",
   "execution_count": 8,
   "id": "5474ce38",
   "metadata": {},
   "outputs": [
    {
     "name": "stdout",
     "output_type": "stream",
     "text": [
      "[2010, 2011, 2012, 2013, 2014, 2015, 2016, 2017, 2018, 2019, 2020, 2021, 2022, 2023]\n",
      "\n",
      "Data starts in 2010 and spans across 2023\n",
      "No missing years.\n"
     ]
    }
   ],
   "source": [
    "years = [year for year in countyvehicle_df['Data Year'].unique()]\n",
    "actual_years = set(years)\n",
    "\n",
    "expected_years = set(range(min(years), max(years) + 1))\n",
    "missing_years = expected_years - actual_years\n",
    "\n",
    "print(years)\n",
    "print(f'\\nData starts in {min(years)} and spans across {max(years)}')\n",
    "\n",
    "if missing_years:\n",
    "    print(f\"Missing years: {missing_years}\")\n",
    "else:\n",
    "    print(\"No missing years.\")"
   ]
  },
  {
   "cell_type": "code",
   "execution_count": 9,
   "id": "ed501b4a",
   "metadata": {},
   "outputs": [
    {
     "name": "stdout",
     "output_type": "stream",
     "text": [
      "No missing counties.\n",
      "Unexpected counties: {'Out Of State', 'Out of State'}\n"
     ]
    }
   ],
   "source": [
    "counties = [county for county in countyvehicle_df['County'].unique()]\n",
    "actual_counties = set(counties)\n",
    "expected_counties = set([\n",
    "    \"Alameda\", \"Alpine\", \"Amador\", \"Butte\", \"Calaveras\", \"Colusa\",\n",
    "    \"Contra Costa\", \"Del Norte\", \"El Dorado\", \"Fresno\", \"Glenn\",\n",
    "    \"Humboldt\", \"Imperial\", \"Inyo\", \"Kern\", \"Kings\", \"Lake\",\n",
    "    \"Lassen\", \"Los Angeles\", \"Madera\", \"Marin\", \"Mariposa\",\n",
    "    \"Mendocino\", \"Merced\", \"Modoc\", \"Mono\", \"Monterey\", \"Napa\",\n",
    "    \"Nevada\", \"Orange\", \"Placer\", \"Plumas\", \"Riverside\",\n",
    "    \"Sacramento\", \"San Benito\", \"San Bernardino\", \"San Diego\",\n",
    "    \"San Francisco\", \"San Joaquin\", \"San Luis Obispo\", \"San Mateo\",\n",
    "    \"Santa Barbara\", \"Santa Clara\", \"Santa Cruz\", \"Shasta\",\n",
    "    \"Sierra\", \"Siskiyou\", \"Solano\", \"Sonoma\", \"Stanislaus\",\n",
    "    \"Sutter\", \"Tehama\", \"Trinity\", \"Tulare\", \"Tuolumne\",\n",
    "    \"Ventura\", \"Yolo\", \"Yuba\"\n",
    "])\n",
    "missing_counties = expected_counties - actual_counties\n",
    "\n",
    "unexpected_counties = actual_counties - expected_counties\n",
    "\n",
    "if missing_counties:\n",
    "    print(f\"Missing counties: {missing_counties}\")\n",
    "else:\n",
    "    print(\"No missing counties.\")\n",
    "\n",
    "if unexpected_counties:\n",
    "    print(f\"Unexpected counties: {unexpected_counties}\")\n",
    "else:\n",
    "    print(\"No unexpected counties.\")"
   ]
  },
  {
   "cell_type": "markdown",
   "id": "2f584982",
   "metadata": {},
   "source": [
    "There are unexpected counties that are from out of state.\n",
    "\n",
    "Let's see what years have vehicles from out of state and how many there are.\n",
    "\n",
    "We'll only look at the past 10 years for this analysis, but can be adjusted based on lookbackyears."
   ]
  },
  {
   "cell_type": "code",
   "execution_count": 10,
   "id": "08eadf56",
   "metadata": {},
   "outputs": [
    {
     "name": "stdout",
     "output_type": "stream",
     "text": [
      "Percent of vechicles from 'Out Of State' in 2014 is: 2.13%\n",
      "Percent of vechicles from 'Out Of State' in 2015 is: 2.11%\n",
      "Percent of vechicles from 'Out Of State' in 2016 is: 1.64%\n",
      "Percent of vechicles from 'Out Of State' in 2017 is: 1.58%\n",
      "Percent of vechicles from 'Out Of State' in 2018 is: 1.51%\n",
      "Percent of vechicles from 'Out Of State' in 2019 is: 1.69%\n",
      "Percent of vechicles from 'Out Of State' in 2020 is: 1.55%\n",
      "Percent of vechicles from 'Out of State' in 2021 is: 1.35%\n",
      "Percent of vechicles from 'Out of State' in 2022 is: 1.40%\n",
      "Percent of vechicles from 'Out Of State' in 2023 is: 1.37%\n"
     ]
    }
   ],
   "source": [
    "vehicles_by_year = countyvehicle_df.groupby('Data Year')['Number of Vehicles'].sum()\n",
    "lookbackyears = 10\n",
    "for year in countyvehicle_df['Data Year'].unique()[-lookbackyears:]:\n",
    "    for unexpected_county in unexpected_counties:\n",
    "        unexpected_vehicles = countyvehicle_df[(countyvehicle_df['Data Year'] == year) & \n",
    "                                             (countyvehicle_df['County'] == unexpected_county)]\n",
    "\n",
    "        total_unexpected_vehicles_by_year = unexpected_vehicles['Number of Vehicles'].sum()\n",
    "        \n",
    "        if total_unexpected_vehicles_by_year!= 0:\n",
    "            total_vehicles = vehicles_by_year.get(year, 0)\n",
    "            ratio = total_unexpected_vehicles_by_year/total_vehicles*100\n",
    "            #print(unexpected_county)\n",
    "            #print(total_unexpected_vehicles_by_year_list)\n",
    "            print(f\"Percent of vechicles from '{unexpected_county}' in {year} is: {ratio:.2f}%\")"
   ]
  },
  {
   "cell_type": "markdown",
   "id": "fd568780",
   "metadata": {},
   "source": [
    "Looks like there are out of state vehicles present in our dataset for every year.\n",
    "\n",
    "The non-california vehicles is ~1.3 - 2.1% of total vehicles across our entire data set.\n",
    "We'll make the assumption that they won't impact our analysis and filter them out and check the shape.\n"
   ]
  },
  {
   "cell_type": "code",
   "execution_count": 11,
   "id": "5cbe244a",
   "metadata": {},
   "outputs": [
    {
     "data": {
      "text/plain": [
       "(32763, 5)"
      ]
     },
     "execution_count": 11,
     "metadata": {},
     "output_type": "execute_result"
    }
   ],
   "source": [
    "calcountyvehicle_df = countyvehicle_df[~countyvehicle_df['County'].isin(unexpected_counties)]\n",
    "calcountyvehicle_df.shape"
   ]
  },
  {
   "cell_type": "markdown",
   "id": "3e01ccf2",
   "metadata": {},
   "source": [
    "#### Manipulation\n",
    "Next, let's take a look at the fuel types that are used.\n",
    "We're interested in impact of EVs and non-fossil fuel based cars.\n",
    "There are two columns that cover the fuel type. 'Dashboard Fuel Type Group' and 'Fuel Type' that are fully populated (length 32763)\n",
    "Let's take a look at the difference between the two."
   ]
  },
  {
   "cell_type": "code",
   "execution_count": 12,
   "id": "d1f7d2ba",
   "metadata": {},
   "outputs": [
    {
     "data": {
      "text/html": [
       "<div>\n",
       "<style scoped>\n",
       "    .dataframe tbody tr th:only-of-type {\n",
       "        vertical-align: middle;\n",
       "    }\n",
       "\n",
       "    .dataframe tbody tr th {\n",
       "        vertical-align: top;\n",
       "    }\n",
       "\n",
       "    .dataframe thead th {\n",
       "        text-align: right;\n",
       "    }\n",
       "</style>\n",
       "<table border=\"1\" class=\"dataframe\">\n",
       "  <thead>\n",
       "    <tr style=\"text-align: right;\">\n",
       "      <th></th>\n",
       "      <th>Fuel Type</th>\n",
       "      <th>Dashboard Fuel Type Group</th>\n",
       "    </tr>\n",
       "  </thead>\n",
       "  <tbody>\n",
       "    <tr>\n",
       "      <th>0</th>\n",
       "      <td>Battery Electric (BEV)</td>\n",
       "      <td>Battery Electric (BEV)</td>\n",
       "    </tr>\n",
       "    <tr>\n",
       "      <th>1</th>\n",
       "      <td>Diesel</td>\n",
       "      <td>Diesel</td>\n",
       "    </tr>\n",
       "    <tr>\n",
       "      <th>2</th>\n",
       "      <td>Flex Fuel</td>\n",
       "      <td>Gasoline</td>\n",
       "    </tr>\n",
       "    <tr>\n",
       "      <th>3</th>\n",
       "      <td>Gasoline</td>\n",
       "      <td>Gasoline Hybrid</td>\n",
       "    </tr>\n",
       "    <tr>\n",
       "      <th>4</th>\n",
       "      <td>Gasoline Hybrid</td>\n",
       "      <td>Other</td>\n",
       "    </tr>\n",
       "    <tr>\n",
       "      <th>5</th>\n",
       "      <td>Natural Gas</td>\n",
       "      <td>Fuel Cell (FCEV)</td>\n",
       "    </tr>\n",
       "    <tr>\n",
       "      <th>6</th>\n",
       "      <td>Propane</td>\n",
       "      <td>Plug-in Hybrid (PHEV)</td>\n",
       "    </tr>\n",
       "    <tr>\n",
       "      <th>7</th>\n",
       "      <td>Fuel Cell (FCEV)</td>\n",
       "      <td>NaN</td>\n",
       "    </tr>\n",
       "    <tr>\n",
       "      <th>8</th>\n",
       "      <td>Plug-in Hybrid (PHEV)</td>\n",
       "      <td>NaN</td>\n",
       "    </tr>\n",
       "  </tbody>\n",
       "</table>\n",
       "</div>"
      ],
      "text/plain": [
       "                Fuel Type Dashboard Fuel Type Group\n",
       "0  Battery Electric (BEV)    Battery Electric (BEV)\n",
       "1                  Diesel                    Diesel\n",
       "2               Flex Fuel                  Gasoline\n",
       "3                Gasoline           Gasoline Hybrid\n",
       "4         Gasoline Hybrid                     Other\n",
       "5             Natural Gas          Fuel Cell (FCEV)\n",
       "6                 Propane     Plug-in Hybrid (PHEV)\n",
       "7        Fuel Cell (FCEV)                       NaN\n",
       "8   Plug-in Hybrid (PHEV)                       NaN"
      ]
     },
     "execution_count": 12,
     "metadata": {},
     "output_type": "execute_result"
    }
   ],
   "source": [
    "fuel_types_1 = calcountyvehicle_df['Dashboard Fuel Type Group'].unique()\n",
    "fuel_types_2 = calcountyvehicle_df['Fuel Type'].unique()\n",
    "\n",
    "fuel_types_df = pd.DataFrame({\n",
    "    'Fuel Type': pd.Series(fuel_types_2),\n",
    "    'Dashboard Fuel Type Group': pd.Series(fuel_types_1)\n",
    "})\n",
    "\n",
    "fuel_types_df"
   ]
  },
  {
   "cell_type": "markdown",
   "id": "48f2aa91",
   "metadata": {},
   "source": [
    "It appears Dashboard Fuel Type Group goes ahead and clusters them together. \n",
    "We're going to make our own cluster and group together vehicles based on fuel type.\n",
    "\n",
    "Fossil Fuels will consist of:\n",
    "- Diesel\n",
    "- Flex Fuel\n",
    "- Gasoline\n",
    "- Gasoline Hybrid\n",
    "- Natural Gas\n",
    "- Propane\n",
    "\n",
    "Electric Vehicles (EV) will consist of:\n",
    "- Battery Electric\n",
    "- Fuel Cell\n",
    "- Plug-in Hybrid\n",
    "\n",
    "We'll drop the necessary __'Dashboard Fuel Type Group'__ as well."
   ]
  },
  {
   "cell_type": "code",
   "execution_count": 13,
   "id": "f3308c02",
   "metadata": {},
   "outputs": [
    {
     "data": {
      "text/html": [
       "<div>\n",
       "<style scoped>\n",
       "    .dataframe tbody tr th:only-of-type {\n",
       "        vertical-align: middle;\n",
       "    }\n",
       "\n",
       "    .dataframe tbody tr th {\n",
       "        vertical-align: top;\n",
       "    }\n",
       "\n",
       "    .dataframe thead th {\n",
       "        text-align: right;\n",
       "    }\n",
       "</style>\n",
       "<table border=\"1\" class=\"dataframe\">\n",
       "  <thead>\n",
       "    <tr style=\"text-align: right;\">\n",
       "      <th></th>\n",
       "      <th>Data Year</th>\n",
       "      <th>County</th>\n",
       "      <th>Fuel Type</th>\n",
       "      <th>Number of Vehicles</th>\n",
       "      <th>Fuel Category</th>\n",
       "    </tr>\n",
       "  </thead>\n",
       "  <tbody>\n",
       "    <tr>\n",
       "      <th>0</th>\n",
       "      <td>2010</td>\n",
       "      <td>Alameda</td>\n",
       "      <td>Battery Electric (BEV)</td>\n",
       "      <td>3</td>\n",
       "      <td>EV</td>\n",
       "    </tr>\n",
       "    <tr>\n",
       "      <th>1</th>\n",
       "      <td>2010</td>\n",
       "      <td>Alameda</td>\n",
       "      <td>Battery Electric (BEV)</td>\n",
       "      <td>17</td>\n",
       "      <td>EV</td>\n",
       "    </tr>\n",
       "    <tr>\n",
       "      <th>2</th>\n",
       "      <td>2010</td>\n",
       "      <td>Alameda</td>\n",
       "      <td>Diesel</td>\n",
       "      <td>10939</td>\n",
       "      <td>Fossil Fuel</td>\n",
       "    </tr>\n",
       "    <tr>\n",
       "      <th>3</th>\n",
       "      <td>2010</td>\n",
       "      <td>Alameda</td>\n",
       "      <td>Flex Fuel</td>\n",
       "      <td>10974</td>\n",
       "      <td>Fossil Fuel</td>\n",
       "    </tr>\n",
       "    <tr>\n",
       "      <th>4</th>\n",
       "      <td>2010</td>\n",
       "      <td>Alameda</td>\n",
       "      <td>Gasoline</td>\n",
       "      <td>840577</td>\n",
       "      <td>Fossil Fuel</td>\n",
       "    </tr>\n",
       "  </tbody>\n",
       "</table>\n",
       "</div>"
      ],
      "text/plain": [
       "   Data Year   County               Fuel Type  Number of Vehicles  \\\n",
       "0       2010  Alameda  Battery Electric (BEV)                   3   \n",
       "1       2010  Alameda  Battery Electric (BEV)                  17   \n",
       "2       2010  Alameda                  Diesel               10939   \n",
       "3       2010  Alameda               Flex Fuel               10974   \n",
       "4       2010  Alameda                Gasoline              840577   \n",
       "\n",
       "  Fuel Category  \n",
       "0            EV  \n",
       "1            EV  \n",
       "2   Fossil Fuel  \n",
       "3   Fossil Fuel  \n",
       "4   Fossil Fuel  "
      ]
     },
     "execution_count": 13,
     "metadata": {},
     "output_type": "execute_result"
    }
   ],
   "source": [
    "fossil_fuels = ['Diesel', 'Flex Fuel', 'Gasoline', 'Gasoline Hybrid', 'Natural Gas', 'Propane'] \n",
    "evs = ['Battery Electric (BEV)', 'Fuel Cell (FCEV)', 'Plug-in Hybrid (PHEV)']\n",
    "\n",
    "def categorize_fuel(fuel_type):\n",
    "    if fuel_type in fossil_fuels:\n",
    "        return 'Fossil Fuel'\n",
    "    elif fuel_type in evs:\n",
    "        return 'EV'\n",
    "    else:\n",
    "        return 'Other'\n",
    "    \n",
    "calcountyvehicle_df.loc[:, ['Fuel Category']] = calcountyvehicle_df['Fuel Type'].apply(categorize_fuel)\n",
    "calcountyvehicle_df = calcountyvehicle_df.drop(columns=['Dashboard Fuel Type Group'])\n",
    "# Print the DataFrame to check the new column\n",
    "calcountyvehicle_df.head()"
   ]
  },
  {
   "cell_type": "markdown",
   "id": "fbc1d432",
   "metadata": {},
   "source": [
    "Finally, we'll consolidate our dataframe based on __'County'__ and __'Fuel Category'__ and sum the __'Number of Vehicles'__ to provide the first dataframe for merging."
   ]
  },
  {
   "cell_type": "code",
   "execution_count": 14,
   "id": "ae2eefd8",
   "metadata": {},
   "outputs": [
    {
     "data": {
      "text/html": [
       "<div>\n",
       "<style scoped>\n",
       "    .dataframe tbody tr th:only-of-type {\n",
       "        vertical-align: middle;\n",
       "    }\n",
       "\n",
       "    .dataframe tbody tr th {\n",
       "        vertical-align: top;\n",
       "    }\n",
       "\n",
       "    .dataframe thead th {\n",
       "        text-align: right;\n",
       "    }\n",
       "</style>\n",
       "<table border=\"1\" class=\"dataframe\">\n",
       "  <thead>\n",
       "    <tr style=\"text-align: right;\">\n",
       "      <th></th>\n",
       "      <th>Data Year</th>\n",
       "      <th>County</th>\n",
       "      <th>Fuel Category</th>\n",
       "      <th>Number of Vehicles</th>\n",
       "    </tr>\n",
       "  </thead>\n",
       "  <tbody>\n",
       "    <tr>\n",
       "      <th>0</th>\n",
       "      <td>2010</td>\n",
       "      <td>Alameda</td>\n",
       "      <td>EV</td>\n",
       "      <td>20</td>\n",
       "    </tr>\n",
       "    <tr>\n",
       "      <th>1</th>\n",
       "      <td>2010</td>\n",
       "      <td>Alameda</td>\n",
       "      <td>Fossil Fuel</td>\n",
       "      <td>885402</td>\n",
       "    </tr>\n",
       "    <tr>\n",
       "      <th>2</th>\n",
       "      <td>2010</td>\n",
       "      <td>Alpine</td>\n",
       "      <td>Fossil Fuel</td>\n",
       "      <td>1041</td>\n",
       "    </tr>\n",
       "    <tr>\n",
       "      <th>3</th>\n",
       "      <td>2010</td>\n",
       "      <td>Amador</td>\n",
       "      <td>EV</td>\n",
       "      <td>1</td>\n",
       "    </tr>\n",
       "    <tr>\n",
       "      <th>4</th>\n",
       "      <td>2010</td>\n",
       "      <td>Amador</td>\n",
       "      <td>Fossil Fuel</td>\n",
       "      <td>30480</td>\n",
       "    </tr>\n",
       "    <tr>\n",
       "      <th>...</th>\n",
       "      <td>...</td>\n",
       "      <td>...</td>\n",
       "      <td>...</td>\n",
       "      <td>...</td>\n",
       "    </tr>\n",
       "    <tr>\n",
       "      <th>1570</th>\n",
       "      <td>2023</td>\n",
       "      <td>Ventura</td>\n",
       "      <td>Fossil Fuel</td>\n",
       "      <td>651851</td>\n",
       "    </tr>\n",
       "    <tr>\n",
       "      <th>1571</th>\n",
       "      <td>2023</td>\n",
       "      <td>Yolo</td>\n",
       "      <td>EV</td>\n",
       "      <td>6757</td>\n",
       "    </tr>\n",
       "    <tr>\n",
       "      <th>1572</th>\n",
       "      <td>2023</td>\n",
       "      <td>Yolo</td>\n",
       "      <td>Fossil Fuel</td>\n",
       "      <td>152560</td>\n",
       "    </tr>\n",
       "    <tr>\n",
       "      <th>1573</th>\n",
       "      <td>2023</td>\n",
       "      <td>Yuba</td>\n",
       "      <td>EV</td>\n",
       "      <td>961</td>\n",
       "    </tr>\n",
       "    <tr>\n",
       "      <th>1574</th>\n",
       "      <td>2023</td>\n",
       "      <td>Yuba</td>\n",
       "      <td>Fossil Fuel</td>\n",
       "      <td>57567</td>\n",
       "    </tr>\n",
       "  </tbody>\n",
       "</table>\n",
       "<p>1575 rows × 4 columns</p>\n",
       "</div>"
      ],
      "text/plain": [
       "      Data Year   County Fuel Category  Number of Vehicles\n",
       "0          2010  Alameda            EV                  20\n",
       "1          2010  Alameda   Fossil Fuel              885402\n",
       "2          2010   Alpine   Fossil Fuel                1041\n",
       "3          2010   Amador            EV                   1\n",
       "4          2010   Amador   Fossil Fuel               30480\n",
       "...         ...      ...           ...                 ...\n",
       "1570       2023  Ventura   Fossil Fuel              651851\n",
       "1571       2023     Yolo            EV                6757\n",
       "1572       2023     Yolo   Fossil Fuel              152560\n",
       "1573       2023     Yuba            EV                 961\n",
       "1574       2023     Yuba   Fossil Fuel               57567\n",
       "\n",
       "[1575 rows x 4 columns]"
      ]
     },
     "execution_count": 14,
     "metadata": {},
     "output_type": "execute_result"
    }
   ],
   "source": [
    "fueltype_per_countyyear_totals_df = calcountyvehicle_df.groupby(['Data Year','County','Fuel Category'])['Number of Vehicles'].sum().reset_index()\n",
    "## Optional to export out as an excel file - uncomment next line ##\n",
    "# vehicle_df.to_csv('vehicle_df', index = False)\n",
    "\n",
    "fueltype_per_countyyear_totals_df\n"
   ]
  },
  {
   "cell_type": "markdown",
   "id": "82480311",
   "metadata": {},
   "source": [
    "#### Visualization\n",
    "Now, let's take a look at the trends of the vehicles!"
   ]
  },
  {
   "cell_type": "code",
   "execution_count": 15,
   "id": "396bf915eb5ce046",
   "metadata": {
    "ExecuteTime": {
     "end_time": "2024-09-30T16:46:16.899348Z",
     "start_time": "2024-09-30T16:46:16.887712Z"
    }
   },
   "outputs": [
    {
     "data": {
      "image/png": "[encoded data removed]",
      "text/plain": [
       "<Figure size 400x400 with 1 Axes>"
      ]
     },
     "metadata": {},
     "output_type": "display_data"
    }
   ],
   "source": [
    "def yearlyVehiclesbyType(df):\n",
    "    # Group the data by 'Data Year' and 'Fuel Category', summing the number of vehicles\n",
    "    grouped_df = df.groupby(['Data Year', 'Fuel Category'])['Number of Vehicles'].sum().reset_index()\n",
    "\n",
    "    # Create a new column for the year-over-year growth rate\n",
    "    grouped_df['Growth Rate'] = grouped_df.groupby('Fuel Category')['Number of Vehicles'].pct_change() * 100\n",
    "\n",
    "    plt.figure(figsize=(4, 4))\n",
    "\n",
    "    # Create subplots: the first plot for vehicle count, the second for growth rate\n",
    "    color_mapping = {\n",
    "        'EV': '#708238', ## sage     \n",
    "        'Fossil Fuel': '#87CEEB'## skyblue       \n",
    "    }\n",
    "\n",
    "    ## Create a line plot for each category of fuel ##\n",
    "    for fuel in grouped_df['Fuel Category'].unique():\n",
    "        fuel_group_df = grouped_df[grouped_df['Fuel Category'] == fuel]\n",
    "        color = color_mapping.get(fuel)\n",
    "        plt.plot(fuel_group_df['Data Year'], fuel_group_df['Number of Vehicles'] / 1000000, label=fuel,color = color)\n",
    "\n",
    "        ## Annotate the first and last points ##\n",
    "        first_year = fuel_group_df.iloc[0]['Data Year']\n",
    "        first_value = fuel_group_df.iloc[0]['Number of Vehicles'] / 1000000\n",
    "        plt.annotate(f'{first_value:.2f}M', (first_year, first_value), textcoords=\"offset points\", xytext=(10, 10), ha='center')\n",
    "        plt.plot(first_year, first_value, 'o', color='black')\n",
    "\n",
    "        last_year = fuel_group_df.iloc[-1]['Data Year']\n",
    "        last_value = fuel_group_df.iloc[-1]['Number of Vehicles'] / 1000000\n",
    "        plt.annotate(f'{last_value:.2f}M', (last_year, last_value), textcoords=\"offset points\", xytext=(-10, 10), ha='center')\n",
    "        plt.plot(last_year, last_value, 'o', color='black')\n",
    "\n",
    "\n",
    "    years = grouped_df['Data Year'].unique()\n",
    "    first_year = years[0]\n",
    "    middle_year = years[len(years) // 2]  # Calculate the middle year\n",
    "    last_year = years[-1]\n",
    "    plt.xticks([first_year, middle_year, last_year], [first_year, middle_year, last_year])\n",
    "\n",
    "    plt.title('CA Vehicles: Annual Counts')\n",
    "    ax = plt.gca()\n",
    "    ax.spines['right'].set_visible(False)\n",
    "    ax.spines['left'].set_visible(False)\n",
    "    ax.spines['top'].set_visible(False)\n",
    "\n",
    "    plt.ylabel(\"Vehicles (in millions)\")\n",
    "    plt.xlabel(\"Year\")\n",
    "    plt.legend(title='Fuel Category')\n",
    "    ## Optional to save image ##\n",
    "    save_img = False\n",
    "    if save_img:\n",
    "        plt.savefig(\"graphic_caliVehiclesGrowthRate.png\",dpi=300)\n",
    "    plt.tight_layout()\n",
    "    plt.show()\n",
    "\n",
    "yearlyVehiclesbyType(fueltype_per_countyyear_totals_df)"
   ]
  },
  {
   "cell_type": "markdown",
   "id": "f6b6989c",
   "metadata": {},
   "source": [
    "There seems to be a steady growth of EVs and Fossil Fuel vehicles from 2010 to 2023. But - the total number of EVs went from a 0% market share in 2010 to a ~5% market share in 2023. That confirms our suspicion that EVs are being increasingly adopted. Let's visualize the growth rate of each category of vehicles."
   ]
  },
  {
   "cell_type": "code",
   "execution_count": 16,
   "id": "f19dcc50b9bee7c2",
   "metadata": {
    "ExecuteTime": {
     "end_time": "2024-09-30T16:46:49.529339Z",
     "start_time": "2024-09-30T16:46:49.491811Z"
    }
   },
   "outputs": [
    {
     "data": {
      "image/png": "[encoded data removed]",
      "text/plain": [
       "<Figure size 1200x400 with 1 Axes>"
      ]
     },
     "metadata": {},
     "output_type": "display_data"
    }
   ],
   "source": [
    "def percent_formatter(x, pos):\n",
    "    ## function to adjust y-scaling based on percentage growth##\n",
    "    return f'{int(x)}%'\n",
    "\n",
    "def vehicleGrowthRate(df):\n",
    "    ## Group the data by 'Data Year' and 'Fuel Category', summing the number of vehicles ##\n",
    "    grouped_df = df.groupby(['Data Year', 'Fuel Category'])['Number of Vehicles'].sum().reset_index()\n",
    "\n",
    "    ## Calculate the year-over-year growth rate and drop first year (.dropna) ##\n",
    "    grouped_df['Growth Rate'] = grouped_df.groupby('Fuel Category')['Number of Vehicles'].pct_change() * 100\n",
    "    grouped_df = grouped_df.dropna(subset=['Growth Rate'])\n",
    "\n",
    "    ## Plotting the growth rate as an overlapped bar graph ##\n",
    "    plt.figure(figsize=(12, 4))\n",
    "    bar_width = 0.4\n",
    "\n",
    "    color_mapping = {\n",
    "            'EV': '#708238', ## sage     \n",
    "            'Fossil Fuel': '#87CEEB'## skyblue       \n",
    "        }\n",
    "\n",
    "    ## Define x positions for the bars ##\n",
    "    x = np.arange(len(grouped_df['Data Year'].unique()))\n",
    "    years_with_data = grouped_df['Data Year'].unique()\n",
    "\n",
    "    # Bar plot for growth rates with overlapping bars\n",
    "    for i, fuel in enumerate(grouped_df['Fuel Category'].unique()):\n",
    "        fuel_df = grouped_df[grouped_df['Fuel Category'] == fuel]\n",
    "\n",
    "        color = color_mapping.get(fuel)\n",
    "\n",
    "        ## Using the index to plot bars at the same x position but different colors ##\n",
    "        plt.bar(x + (i * bar_width), fuel_df['Growth Rate'], width=bar_width, label=fuel, alpha=0.7, color=color)\n",
    "\n",
    "    ## Set the x-ticks to show the years, split for number of fuel types ##\n",
    "    number_of_fuel_types = len(grouped_df['Fuel Category'].unique())\n",
    "    plt.xticks(x + (bar_width * (number_of_fuel_types - 1) / 2), years_with_data)\n",
    "\n",
    "    ## Annotate the bars with the growth rates ##\n",
    "    for i, fuel in enumerate(grouped_df['Fuel Category'].unique()):\n",
    "\n",
    "        ## get df for particular fuel ##\n",
    "        fuel_df = grouped_df[grouped_df['Fuel Category'] == fuel]\n",
    "\n",
    "        ## iterate through year (x position) and position the value (percentage) at the top of the bar, offset ##\n",
    "        for j, value in enumerate(fuel_df['Growth Rate']):\n",
    "\n",
    "            ## Adjust xytext position depending on direction of bar (positive vs. negative)\n",
    "            if value>=0:\n",
    "                plt.annotate(f'{value:.1f}%', (x[j] + (i * bar_width), value), \n",
    "                             textcoords=\"offset points\", xytext=(4, 5), ha='center')\n",
    "            if value<0:\n",
    "                plt.annotate(f'{value:.1f}%', (x[j] + (i * bar_width), value), \n",
    "                             textcoords=\"offset points\", xytext=(4, -10), ha='center')\n",
    "    ## Title and Labels ##\n",
    "    plt.ylabel(\"Growth Rate (%)\")\n",
    "    plt.xlabel(\"Year\")\n",
    "    \n",
    "    #plt.ylabel('Year-over-Year Growth Rate (%)',fontsize=12)\n",
    "    plt.title('CA Vehicles: YoY Growth Rate by Fuel Type',fontsize=14)\n",
    "    plt.axhline(0, color='gray', linewidth=0.8, linestyle='--')  # Add a horizontal line at y=0 for reference\n",
    "\n",
    "    ## Set the y-axis to a logarithmic scaling and account for presence of negative values using 'sumlog' ##\n",
    "    plt.yscale('symlog',linthresh=25)\n",
    "\n",
    "    ## Add exponential 25% buffer above the max growth rate ##\n",
    "    max_growth = grouped_df['Growth Rate'].max()\n",
    "    buffer_top = max_growth ** 1.2 \n",
    "\n",
    "    ## Keep the bottom close to zero but a little lower to see negative values ##\n",
    "    buffer_bottom = -(abs(grouped_df['Growth Rate'].min()) ** 2) \n",
    "\n",
    "    ## Set the y-limits and format them to show it as a percentage ##\n",
    "    plt.ylim(buffer_bottom, buffer_top)\n",
    "    plt.gca().yaxis.set_major_formatter(FuncFormatter(percent_formatter))\n",
    "    ax = plt.gca()\n",
    "    ax.spines['right'].set_visible(False)\n",
    "    ax.spines['left'].set_visible(False)\n",
    "    ax.spines['top'].set_visible(False)\n",
    "    plt.legend(fontsize = 12)\n",
    "\n",
    "    ## optional logic to save image ##\n",
    "    save_img = False\n",
    "    if save_img:\n",
    "        plt.savefig(\"graphic_caliVehiclesGrowthRate.png\",dpi=300)\n",
    "\n",
    "\n",
    "    ## Show the plot ##\n",
    "    plt.tight_layout()\n",
    "    plt.show()\n",
    "\n",
    "vehicleGrowthRate(fueltype_per_countyyear_totals_df)"
   ]
  },
  {
   "cell_type": "markdown",
   "id": "fd768f54",
   "metadata": {
    "ExecuteTime": {
     "end_time": "2024-09-30T16:50:17.545344Z",
     "start_time": "2024-09-30T16:50:17.520879Z"
    }
   },
   "source": [
    "EVs appear to have a stabilized year over year growth rate of ~30% whereas fossil fuel vehicles seem to have plateaued and may be trending downwards."
   ]
  },
  {
   "cell_type": "markdown",
   "id": "3b537264",
   "metadata": {},
   "source": [
    "# California Population - Import, Cleaning"
   ]
  },
  {
   "cell_type": "code",
   "execution_count": 64,
   "id": "423a1e022119c694",
   "metadata": {
    "ExecuteTime": {
     "end_time": "2024-09-30T16:50:18.094218Z",
     "start_time": "2024-09-30T16:50:18.083320Z"
    }
   },
   "outputs": [],
   "source": [
    "# cleaning up 2010-2019\n",
    "df1 = pd.read_excel('./E-4_2010-2020-Internet-Version.xlsx', sheet_name= 'Table 1 County State')"
   ]
  },
  {
   "cell_type": "code",
   "execution_count": 65,
   "id": "20dae4056e18aa51",
   "metadata": {
    "ExecuteTime": {
     "end_time": "2024-09-30T16:51:57.954368Z",
     "start_time": "2024-09-30T16:51:57.877945Z"
    }
   },
   "outputs": [],
   "source": [
    "mapping = {\n",
    "    'Table 1: E-4 Population Estimates for Counties and State 2011-2020 with 2010 Benchmark': 'County',\n",
    "    'Unnamed: 1': '2010',\n",
    "    'Unnamed: 2': '2011',\n",
    "    'Unnamed: 3': '2012',\n",
    "    'Unnamed: 4': '2013',\n",
    "    'Unnamed: 5': '2014',\n",
    "    'Unnamed: 6': '2015',\n",
    "    'Unnamed: 7': '2016',\n",
    "    'Unnamed: 8': '2017',\n",
    "    'Unnamed: 9': '2018',\n",
    "    'Unnamed: 10': '2019',\n",
    "    'Unnamed: 11': '2020'\n",
    "}\n",
    "df1.rename(columns=mapping, inplace=True)"
   ]
  },
  {
   "cell_type": "code",
   "execution_count": 66,
   "id": "4b0e52ca",
   "metadata": {},
   "outputs": [],
   "source": [
    "df1.drop(columns=['Unnamed: 12', 'Unnamed: 13', 'Unnamed: 14'], index=[0, 2], inplace=True)"
   ]
  },
  {
   "cell_type": "code",
   "execution_count": 67,
   "id": "983939e8",
   "metadata": {},
   "outputs": [],
   "source": [
    "df1.reset_index(drop=True, inplace=True)"
   ]
  },
  {
   "cell_type": "code",
   "execution_count": 68,
   "id": "a6211b13",
   "metadata": {},
   "outputs": [],
   "source": [
    "# cleaning up 2020-2024\n",
    "df2 = pd.read_excel('./E-4_2021_2024_InternetVersion (1).xlsx', sheet_name= 'Table 1 County State')\n"
   ]
  },
  {
   "cell_type": "code",
   "execution_count": 69,
   "id": "fc5563fc",
   "metadata": {},
   "outputs": [],
   "source": [
    "mapping_2 = {\n",
    "    'About the Data': 'County',\n",
    "    'Unnamed: 1': '2020',\n",
    "    'Unnamed: 2': '2021',\n",
    "    'Unnamed: 3': '2022',\n",
    "    'Unnamed: 4': '2023',\n",
    "    'Unnamed: 5': '2024'\n",
    "}\n",
    "df2.rename(columns=mapping_2, inplace=True)"
   ]
  },
  {
   "cell_type": "code",
   "execution_count": 70,
   "id": "462253cd",
   "metadata": {},
   "outputs": [],
   "source": [
    "df2.drop(columns = ['2020'], index=[0, 1, 3], inplace=True)"
   ]
  },
  {
   "cell_type": "code",
   "execution_count": 71,
   "id": "48d09b14",
   "metadata": {},
   "outputs": [],
   "source": [
    "df2.reset_index(drop=True, inplace=True)"
   ]
  },
  {
   "cell_type": "code",
   "execution_count": 72,
   "id": "cebeed130f8cf805",
   "metadata": {},
   "outputs": [
    {
     "data": {
      "text/html": [
       "<div>\n",
       "<style scoped>\n",
       "    .dataframe tbody tr th:only-of-type {\n",
       "        vertical-align: middle;\n",
       "    }\n",
       "\n",
       "    .dataframe tbody tr th {\n",
       "        vertical-align: top;\n",
       "    }\n",
       "\n",
       "    .dataframe thead th {\n",
       "        text-align: right;\n",
       "    }\n",
       "</style>\n",
       "<table border=\"1\" class=\"dataframe\">\n",
       "  <thead>\n",
       "    <tr style=\"text-align: right;\">\n",
       "      <th></th>\n",
       "      <th>County</th>\n",
       "      <th>2010</th>\n",
       "      <th>2011</th>\n",
       "      <th>2012</th>\n",
       "      <th>2013</th>\n",
       "      <th>2014</th>\n",
       "      <th>2015</th>\n",
       "      <th>2016</th>\n",
       "      <th>2017</th>\n",
       "      <th>2018</th>\n",
       "      <th>2019</th>\n",
       "      <th>2020</th>\n",
       "      <th>2021</th>\n",
       "      <th>2022</th>\n",
       "      <th>2023</th>\n",
       "      <th>2024</th>\n",
       "    </tr>\n",
       "  </thead>\n",
       "  <tbody>\n",
       "    <tr>\n",
       "      <th>0</th>\n",
       "      <td>Alameda</td>\n",
       "      <td>1510271</td>\n",
       "      <td>1527169</td>\n",
       "      <td>1549193</td>\n",
       "      <td>1575139</td>\n",
       "      <td>1597747</td>\n",
       "      <td>1622205</td>\n",
       "      <td>1641983</td>\n",
       "      <td>1656919</td>\n",
       "      <td>1666247</td>\n",
       "      <td>1675964</td>\n",
       "      <td>1681337</td>\n",
       "      <td>1666341</td>\n",
       "      <td>1643683</td>\n",
       "      <td>1650656</td>\n",
       "      <td>1641869</td>\n",
       "    </tr>\n",
       "    <tr>\n",
       "      <th>1</th>\n",
       "      <td>Amador</td>\n",
       "      <td>38091</td>\n",
       "      <td>37089</td>\n",
       "      <td>37272</td>\n",
       "      <td>37044</td>\n",
       "      <td>37089</td>\n",
       "      <td>37453</td>\n",
       "      <td>37663</td>\n",
       "      <td>38807</td>\n",
       "      <td>39708</td>\n",
       "      <td>40227</td>\n",
       "      <td>40426</td>\n",
       "      <td>40047</td>\n",
       "      <td>40010</td>\n",
       "      <td>39924</td>\n",
       "      <td>39611</td>\n",
       "    </tr>\n",
       "    <tr>\n",
       "      <th>2</th>\n",
       "      <td>Butte</td>\n",
       "      <td>220000</td>\n",
       "      <td>221377</td>\n",
       "      <td>222623</td>\n",
       "      <td>224391</td>\n",
       "      <td>225737</td>\n",
       "      <td>227400</td>\n",
       "      <td>228198</td>\n",
       "      <td>230412</td>\n",
       "      <td>231774</td>\n",
       "      <td>227263</td>\n",
       "      <td>216090</td>\n",
       "      <td>207403</td>\n",
       "      <td>206184</td>\n",
       "      <td>206579</td>\n",
       "      <td>205928</td>\n",
       "    </tr>\n",
       "    <tr>\n",
       "      <th>3</th>\n",
       "      <td>Calaveras</td>\n",
       "      <td>45578</td>\n",
       "      <td>45561</td>\n",
       "      <td>45544</td>\n",
       "      <td>45499</td>\n",
       "      <td>45461</td>\n",
       "      <td>45395</td>\n",
       "      <td>45402</td>\n",
       "      <td>45355</td>\n",
       "      <td>45367</td>\n",
       "      <td>45324</td>\n",
       "      <td>45290</td>\n",
       "      <td>45259</td>\n",
       "      <td>45021</td>\n",
       "      <td>44899</td>\n",
       "      <td>44842</td>\n",
       "    </tr>\n",
       "    <tr>\n",
       "      <th>4</th>\n",
       "      <td>Colusa</td>\n",
       "      <td>21419</td>\n",
       "      <td>21362</td>\n",
       "      <td>21301</td>\n",
       "      <td>21418</td>\n",
       "      <td>21442</td>\n",
       "      <td>21338</td>\n",
       "      <td>21531</td>\n",
       "      <td>21773</td>\n",
       "      <td>21808</td>\n",
       "      <td>21745</td>\n",
       "      <td>21811</td>\n",
       "      <td>21774</td>\n",
       "      <td>21722</td>\n",
       "      <td>21831</td>\n",
       "      <td>21743</td>\n",
       "    </tr>\n",
       "  </tbody>\n",
       "</table>\n",
       "</div>"
      ],
      "text/plain": [
       "                 County     2010     2011     2012     2013     2014     2015  \\\n",
       "0  Alameda               1510271  1527169  1549193  1575139  1597747  1622205   \n",
       "1  Amador                  38091    37089    37272    37044    37089    37453   \n",
       "2  Butte                  220000   221377   222623   224391   225737   227400   \n",
       "3  Calaveras               45578    45561    45544    45499    45461    45395   \n",
       "4  Colusa                  21419    21362    21301    21418    21442    21338   \n",
       "\n",
       "      2016     2017     2018     2019     2020     2021     2022     2023  \\\n",
       "0  1641983  1656919  1666247  1675964  1681337  1666341  1643683  1650656   \n",
       "1    37663    38807    39708    40227    40426    40047    40010    39924   \n",
       "2   228198   230412   231774   227263   216090   207403   206184   206579   \n",
       "3    45402    45355    45367    45324    45290    45259    45021    44899   \n",
       "4    21531    21773    21808    21745    21811    21774    21722    21831   \n",
       "\n",
       "      2024  \n",
       "0  1641869  \n",
       "1    39611  \n",
       "2   205928  \n",
       "3    44842  \n",
       "4    21743  "
      ]
     },
     "execution_count": 72,
     "metadata": {},
     "output_type": "execute_result"
    }
   ],
   "source": [
    "# merging the two\n",
    "merged_pop_df = pd.merge(df1, df2, on=['County'], how='outer')\n",
    "merged_pop_df.head()"
   ]
  },
  {
   "cell_type": "code",
   "execution_count": 73,
   "id": "39b6fcd1",
   "metadata": {},
   "outputs": [
    {
     "data": {
      "text/html": [
       "<div>\n",
       "<style scoped>\n",
       "    .dataframe tbody tr th:only-of-type {\n",
       "        vertical-align: middle;\n",
       "    }\n",
       "\n",
       "    .dataframe tbody tr th {\n",
       "        vertical-align: top;\n",
       "    }\n",
       "\n",
       "    .dataframe thead th {\n",
       "        text-align: right;\n",
       "    }\n",
       "</style>\n",
       "<table border=\"1\" class=\"dataframe\">\n",
       "  <thead>\n",
       "    <tr style=\"text-align: right;\">\n",
       "      <th></th>\n",
       "      <th>County</th>\n",
       "      <th>Data Year</th>\n",
       "      <th>Population</th>\n",
       "      <th>Z Score</th>\n",
       "    </tr>\n",
       "  </thead>\n",
       "  <tbody>\n",
       "    <tr>\n",
       "      <th>0</th>\n",
       "      <td>Alameda</td>\n",
       "      <td>2010</td>\n",
       "      <td>1510271</td>\n",
       "      <td>0.033519</td>\n",
       "    </tr>\n",
       "    <tr>\n",
       "      <th>1</th>\n",
       "      <td>Amador</td>\n",
       "      <td>2010</td>\n",
       "      <td>38091</td>\n",
       "      <td>-0.251576</td>\n",
       "    </tr>\n",
       "    <tr>\n",
       "      <th>2</th>\n",
       "      <td>Butte</td>\n",
       "      <td>2010</td>\n",
       "      <td>220000</td>\n",
       "      <td>-0.216348</td>\n",
       "    </tr>\n",
       "    <tr>\n",
       "      <th>3</th>\n",
       "      <td>Calaveras</td>\n",
       "      <td>2010</td>\n",
       "      <td>45578</td>\n",
       "      <td>-0.250126</td>\n",
       "    </tr>\n",
       "    <tr>\n",
       "      <th>4</th>\n",
       "      <td>Colusa</td>\n",
       "      <td>2010</td>\n",
       "      <td>21419</td>\n",
       "      <td>-0.254805</td>\n",
       "    </tr>\n",
       "  </tbody>\n",
       "</table>\n",
       "</div>"
      ],
      "text/plain": [
       "                 County  Data Year  Population   Z Score\n",
       "0  Alameda                    2010     1510271  0.033519\n",
       "1  Amador                     2010       38091 -0.251576\n",
       "2  Butte                      2010      220000 -0.216348\n",
       "3  Calaveras                  2010       45578 -0.250126\n",
       "4  Colusa                     2010       21419 -0.254805"
      ]
     },
     "execution_count": 73,
     "metadata": {},
     "output_type": "execute_result"
    }
   ],
   "source": [
    "# pivoting table\n",
    "pop_df = pd.melt(merged_pop_df, id_vars=['County'], var_name='Year', value_name='Population')\n",
    "\n",
    "pop_df['Year'] = pop_df['Year'].str.replace(\":\", \"\", regex=False).astype(np.int64)\n",
    "pop_df.rename(columns={'Year': 'Data Year'}, inplace=True) \n",
    "# converting the 'Population' column to numeric \n",
    "pop_df['Population'] = pd.to_numeric(pop_df['Population'], errors='coerce')\n",
    "# calculating the Z-score for the 'Population' column\n",
    "pop_df['Z Score'] = zscore(pop_df['Population'])\n",
    "\n",
    "pop_df.head()"
   ]
  },
  {
   "cell_type": "code",
   "execution_count": 74,
   "id": "c89b7aaa",
   "metadata": {},
   "outputs": [],
   "source": [
    "## Operation to export as csv ##\n",
    "export_population = False\n",
    "if export_population:\n",
    "    pop_df.to_csv('./California_Population.csv', index=False)"
   ]
  },
  {
   "cell_type": "code",
   "execution_count": 75,
   "id": "fb5ba3be",
   "metadata": {},
   "outputs": [],
   "source": [
    "## if importing \n",
    "importcsv = True\n",
    "if importcsv:\n",
    "    df_pm = pd.read_csv('./df_2010_2024.csv')\n",
    "    df_vehicles = pd.read_csv('./vehicle_df')\n",
    "else:\n",
    "    df_vehicles = fueltype_per_countyyear_totals_df\n",
    "    df_pm = pop_df"
   ]
  },
  {
   "cell_type": "code",
   "execution_count": 76,
   "id": "1fc385b2",
   "metadata": {},
   "outputs": [
    {
     "data": {
      "text/html": [
       "<div>\n",
       "<style scoped>\n",
       "    .dataframe tbody tr th:only-of-type {\n",
       "        vertical-align: middle;\n",
       "    }\n",
       "\n",
       "    .dataframe tbody tr th {\n",
       "        vertical-align: top;\n",
       "    }\n",
       "\n",
       "    .dataframe thead th {\n",
       "        text-align: right;\n",
       "    }\n",
       "</style>\n",
       "<table border=\"1\" class=\"dataframe\">\n",
       "  <thead>\n",
       "    <tr style=\"text-align: right;\">\n",
       "      <th></th>\n",
       "      <th>Data Year</th>\n",
       "      <th>County</th>\n",
       "      <th>Number of Gas Cars</th>\n",
       "    </tr>\n",
       "  </thead>\n",
       "  <tbody>\n",
       "    <tr>\n",
       "      <th>1</th>\n",
       "      <td>2010</td>\n",
       "      <td>Alameda</td>\n",
       "      <td>885402</td>\n",
       "    </tr>\n",
       "    <tr>\n",
       "      <th>3</th>\n",
       "      <td>2010</td>\n",
       "      <td>Alpine</td>\n",
       "      <td>1041</td>\n",
       "    </tr>\n",
       "    <tr>\n",
       "      <th>5</th>\n",
       "      <td>2010</td>\n",
       "      <td>Amador</td>\n",
       "      <td>30480</td>\n",
       "    </tr>\n",
       "    <tr>\n",
       "      <th>7</th>\n",
       "      <td>2010</td>\n",
       "      <td>Butte</td>\n",
       "      <td>133169</td>\n",
       "    </tr>\n",
       "    <tr>\n",
       "      <th>9</th>\n",
       "      <td>2010</td>\n",
       "      <td>Calaveras</td>\n",
       "      <td>39636</td>\n",
       "    </tr>\n",
       "  </tbody>\n",
       "</table>\n",
       "</div>"
      ],
      "text/plain": [
       "   Data Year     County  Number of Gas Cars\n",
       "1       2010    Alameda              885402\n",
       "3       2010     Alpine                1041\n",
       "5       2010     Amador               30480\n",
       "7       2010      Butte              133169\n",
       "9       2010  Calaveras               39636"
      ]
     },
     "execution_count": 76,
     "metadata": {},
     "output_type": "execute_result"
    }
   ],
   "source": [
    "df_gas_vehicles = df_vehicles[df_vehicles['Fuel Category'] == 'Fossil Fuel']\n",
    "df_gas_vehicles = df_gas_vehicles.rename(columns={'Number of Vehicles': 'Number of Gas Cars'})\n",
    "df_gas_vehicles = df_gas_vehicles.drop(columns=['Fuel Category'])\n",
    "df_gas_vehicles.head()"
   ]
  },
  {
   "cell_type": "code",
   "execution_count": 77,
   "id": "80fa4a06",
   "metadata": {},
   "outputs": [
    {
     "data": {
      "text/html": [
       "<div>\n",
       "<style scoped>\n",
       "    .dataframe tbody tr th:only-of-type {\n",
       "        vertical-align: middle;\n",
       "    }\n",
       "\n",
       "    .dataframe tbody tr th {\n",
       "        vertical-align: top;\n",
       "    }\n",
       "\n",
       "    .dataframe thead th {\n",
       "        text-align: right;\n",
       "    }\n",
       "</style>\n",
       "<table border=\"1\" class=\"dataframe\">\n",
       "  <thead>\n",
       "    <tr style=\"text-align: right;\">\n",
       "      <th></th>\n",
       "      <th>Data Year</th>\n",
       "      <th>County</th>\n",
       "      <th>Number of EV</th>\n",
       "    </tr>\n",
       "  </thead>\n",
       "  <tbody>\n",
       "    <tr>\n",
       "      <th>0</th>\n",
       "      <td>2010</td>\n",
       "      <td>Alameda</td>\n",
       "      <td>20</td>\n",
       "    </tr>\n",
       "    <tr>\n",
       "      <th>2</th>\n",
       "      <td>2010</td>\n",
       "      <td>Alpine</td>\n",
       "      <td>0</td>\n",
       "    </tr>\n",
       "    <tr>\n",
       "      <th>4</th>\n",
       "      <td>2010</td>\n",
       "      <td>Amador</td>\n",
       "      <td>1</td>\n",
       "    </tr>\n",
       "    <tr>\n",
       "      <th>6</th>\n",
       "      <td>2010</td>\n",
       "      <td>Butte</td>\n",
       "      <td>0</td>\n",
       "    </tr>\n",
       "    <tr>\n",
       "      <th>8</th>\n",
       "      <td>2010</td>\n",
       "      <td>Calaveras</td>\n",
       "      <td>0</td>\n",
       "    </tr>\n",
       "  </tbody>\n",
       "</table>\n",
       "</div>"
      ],
      "text/plain": [
       "   Data Year     County  Number of EV\n",
       "0       2010    Alameda            20\n",
       "2       2010     Alpine             0\n",
       "4       2010     Amador             1\n",
       "6       2010      Butte             0\n",
       "8       2010  Calaveras             0"
      ]
     },
     "execution_count": 77,
     "metadata": {},
     "output_type": "execute_result"
    }
   ],
   "source": [
    "# seperating creating ev/gas columns so its easier to compare with pm2.5 values \n",
    "df_ev_vehicles = df_vehicles[df_vehicles['Fuel Category'] == 'EV']\n",
    "df_ev_vehicles = df_ev_vehicles.rename(columns={'Number of Vehicles': 'Number of EV'})\n",
    "df_ev_vehicles = df_ev_vehicles.drop(columns=['Fuel Category'])\n",
    "df_ev_vehicles.head()"
   ]
  },
  {
   "cell_type": "code",
   "execution_count": 78,
   "id": "76fe484e",
   "metadata": {},
   "outputs": [
    {
     "data": {
      "text/html": [
       "<div>\n",
       "<style scoped>\n",
       "    .dataframe tbody tr th:only-of-type {\n",
       "        vertical-align: middle;\n",
       "    }\n",
       "\n",
       "    .dataframe tbody tr th {\n",
       "        vertical-align: top;\n",
       "    }\n",
       "\n",
       "    .dataframe thead th {\n",
       "        text-align: right;\n",
       "    }\n",
       "</style>\n",
       "<table border=\"1\" class=\"dataframe\">\n",
       "  <thead>\n",
       "    <tr style=\"text-align: right;\">\n",
       "      <th></th>\n",
       "      <th>Data Year</th>\n",
       "      <th>County</th>\n",
       "      <th>Number of Gas Cars</th>\n",
       "      <th>Number of EV</th>\n",
       "    </tr>\n",
       "  </thead>\n",
       "  <tbody>\n",
       "    <tr>\n",
       "      <th>0</th>\n",
       "      <td>2010</td>\n",
       "      <td>Alameda</td>\n",
       "      <td>885402</td>\n",
       "      <td>20</td>\n",
       "    </tr>\n",
       "    <tr>\n",
       "      <th>1</th>\n",
       "      <td>2010</td>\n",
       "      <td>Alpine</td>\n",
       "      <td>1041</td>\n",
       "      <td>0</td>\n",
       "    </tr>\n",
       "    <tr>\n",
       "      <th>2</th>\n",
       "      <td>2010</td>\n",
       "      <td>Amador</td>\n",
       "      <td>30480</td>\n",
       "      <td>1</td>\n",
       "    </tr>\n",
       "    <tr>\n",
       "      <th>3</th>\n",
       "      <td>2010</td>\n",
       "      <td>Butte</td>\n",
       "      <td>133169</td>\n",
       "      <td>0</td>\n",
       "    </tr>\n",
       "    <tr>\n",
       "      <th>4</th>\n",
       "      <td>2010</td>\n",
       "      <td>Calaveras</td>\n",
       "      <td>39636</td>\n",
       "      <td>0</td>\n",
       "    </tr>\n",
       "  </tbody>\n",
       "</table>\n",
       "</div>"
      ],
      "text/plain": [
       "   Data Year     County  Number of Gas Cars  Number of EV\n",
       "0       2010    Alameda              885402            20\n",
       "1       2010     Alpine                1041             0\n",
       "2       2010     Amador               30480             1\n",
       "3       2010      Butte              133169             0\n",
       "4       2010  Calaveras               39636             0"
      ]
     },
     "execution_count": 78,
     "metadata": {},
     "output_type": "execute_result"
    }
   ],
   "source": [
    "# recombining df_vehicles \n",
    "df_vehicles = pd.merge(df_gas_vehicles, df_ev_vehicles, on=['Data Year', 'County'], how='inner')\n",
    "df_vehicles.head()"
   ]
  },
  {
   "cell_type": "code",
   "execution_count": 47,
   "id": "2afad215",
   "metadata": {},
   "outputs": [
    {
     "data": {
      "text/plain": [
       "(766, 4)"
      ]
     },
     "execution_count": 47,
     "metadata": {},
     "output_type": "execute_result"
    }
   ],
   "source": [
    "df_pm.shape"
   ]
  },
  {
   "cell_type": "code",
   "execution_count": 48,
   "id": "59674f81",
   "metadata": {},
   "outputs": [
    {
     "name": "stdout",
     "output_type": "stream",
     "text": [
      "Only in df_vehicles: {'Lassen', 'Modoc', 'Out Of State', 'Tuolumne', 'Yuba', 'Sierra', 'Amador'}\n",
      "Only in df_pm: set()\n"
     ]
    }
   ],
   "source": [
    "# strip df_pm of spaces \n",
    "df_pm['County'] = df_pm['County'].str.strip()\n",
    "counties = pd.DataFrame({\n",
    "    'County_df_vehicles': df_vehicles['County'],\n",
    "    'County_df_pm': df_pm['County']\n",
    "})\n",
    "counties.head()\n",
    "# Get unique counties from both DataFrames\n",
    "counties_vehicles = set(df_vehicles['County'])\n",
    "counties_pm = set(df_pm['County'])\n",
    "\n",
    "# Find differences\n",
    "only_in_vehicles = counties_vehicles - counties_pm\n",
    "only_in_pm = counties_pm - counties_vehicles\n",
    "\n",
    "print(\"Only in df_vehicles:\", only_in_vehicles)\n",
    "print(\"Only in df_pm:\", only_in_pm)\n",
    "\n",
    "# do we want to drop these values ? i will merge on left for now, \n",
    "# idk if we will need these since they don't have pm2.5 data at all. \n",
    "# we could estimate these values by comparing the counties around them that do report pm2.5 values. "
   ]
  },
  {
   "cell_type": "code",
   "execution_count": 49,
   "id": "e313bda5",
   "metadata": {},
   "outputs": [
    {
     "data": {
      "text/plain": [
       "(766, 4)"
      ]
     },
     "execution_count": 49,
     "metadata": {},
     "output_type": "execute_result"
    }
   ],
   "source": [
    "# check shapes\n",
    "df_pm.shape"
   ]
  },
  {
   "cell_type": "code",
   "execution_count": 50,
   "id": "bb5bb820",
   "metadata": {},
   "outputs": [
    {
     "data": {
      "text/plain": [
       "(826, 4)"
      ]
     },
     "execution_count": 50,
     "metadata": {},
     "output_type": "execute_result"
    }
   ],
   "source": [
    "df_vehicles.shape"
   ]
  },
  {
   "cell_type": "code",
   "execution_count": 51,
   "id": "dfee1d5e",
   "metadata": {},
   "outputs": [
    {
     "data": {
      "text/html": [
       "<div>\n",
       "<style scoped>\n",
       "    .dataframe tbody tr th:only-of-type {\n",
       "        vertical-align: middle;\n",
       "    }\n",
       "\n",
       "    .dataframe tbody tr th {\n",
       "        vertical-align: top;\n",
       "    }\n",
       "\n",
       "    .dataframe thead th {\n",
       "        text-align: right;\n",
       "    }\n",
       "</style>\n",
       "<table border=\"1\" class=\"dataframe\">\n",
       "  <thead>\n",
       "    <tr style=\"text-align: right;\">\n",
       "      <th></th>\n",
       "      <th>Data Year</th>\n",
       "      <th>County</th>\n",
       "      <th>Average PM 2.5/County</th>\n",
       "      <th>Number of Site IDs/County</th>\n",
       "      <th>Number of Gas Cars</th>\n",
       "      <th>Number of EV</th>\n",
       "    </tr>\n",
       "  </thead>\n",
       "  <tbody>\n",
       "    <tr>\n",
       "      <th>0</th>\n",
       "      <td>2010</td>\n",
       "      <td>Alameda</td>\n",
       "      <td>8.165623</td>\n",
       "      <td>5.0</td>\n",
       "      <td>885402</td>\n",
       "      <td>20</td>\n",
       "    </tr>\n",
       "    <tr>\n",
       "      <th>1</th>\n",
       "      <td>2010</td>\n",
       "      <td>Butte</td>\n",
       "      <td>8.776451</td>\n",
       "      <td>3.0</td>\n",
       "      <td>133169</td>\n",
       "      <td>0</td>\n",
       "    </tr>\n",
       "    <tr>\n",
       "      <th>2</th>\n",
       "      <td>2010</td>\n",
       "      <td>Calaveras</td>\n",
       "      <td>7.380349</td>\n",
       "      <td>1.0</td>\n",
       "      <td>39636</td>\n",
       "      <td>0</td>\n",
       "    </tr>\n",
       "    <tr>\n",
       "      <th>3</th>\n",
       "      <td>2010</td>\n",
       "      <td>Colusa</td>\n",
       "      <td>6.054913</td>\n",
       "      <td>1.0</td>\n",
       "      <td>14610</td>\n",
       "      <td>0</td>\n",
       "    </tr>\n",
       "    <tr>\n",
       "      <th>4</th>\n",
       "      <td>2010</td>\n",
       "      <td>Contra Costa</td>\n",
       "      <td>7.606920</td>\n",
       "      <td>1.0</td>\n",
       "      <td>666294</td>\n",
       "      <td>10</td>\n",
       "    </tr>\n",
       "    <tr>\n",
       "      <th>...</th>\n",
       "      <td>...</td>\n",
       "      <td>...</td>\n",
       "      <td>...</td>\n",
       "      <td>...</td>\n",
       "      <td>...</td>\n",
       "      <td>...</td>\n",
       "    </tr>\n",
       "    <tr>\n",
       "      <th>713</th>\n",
       "      <td>2023</td>\n",
       "      <td>Tehama</td>\n",
       "      <td>6.108611</td>\n",
       "      <td>1.0</td>\n",
       "      <td>48496</td>\n",
       "      <td>398</td>\n",
       "    </tr>\n",
       "    <tr>\n",
       "      <th>714</th>\n",
       "      <td>2023</td>\n",
       "      <td>Trinity</td>\n",
       "      <td>7.896193</td>\n",
       "      <td>2.0</td>\n",
       "      <td>11867</td>\n",
       "      <td>88</td>\n",
       "    </tr>\n",
       "    <tr>\n",
       "      <th>715</th>\n",
       "      <td>2023</td>\n",
       "      <td>Tulare</td>\n",
       "      <td>10.567731</td>\n",
       "      <td>4.0</td>\n",
       "      <td>331744</td>\n",
       "      <td>3837</td>\n",
       "    </tr>\n",
       "    <tr>\n",
       "      <th>716</th>\n",
       "      <td>2023</td>\n",
       "      <td>Ventura</td>\n",
       "      <td>5.870643</td>\n",
       "      <td>5.0</td>\n",
       "      <td>651851</td>\n",
       "      <td>31980</td>\n",
       "    </tr>\n",
       "    <tr>\n",
       "      <th>717</th>\n",
       "      <td>2023</td>\n",
       "      <td>Yolo</td>\n",
       "      <td>7.216270</td>\n",
       "      <td>2.0</td>\n",
       "      <td>152560</td>\n",
       "      <td>6757</td>\n",
       "    </tr>\n",
       "  </tbody>\n",
       "</table>\n",
       "<p>718 rows × 6 columns</p>\n",
       "</div>"
      ],
      "text/plain": [
       "     Data Year        County  Average PM 2.5/County  \\\n",
       "0         2010       Alameda               8.165623   \n",
       "1         2010         Butte               8.776451   \n",
       "2         2010     Calaveras               7.380349   \n",
       "3         2010        Colusa               6.054913   \n",
       "4         2010  Contra Costa               7.606920   \n",
       "..         ...           ...                    ...   \n",
       "713       2023        Tehama               6.108611   \n",
       "714       2023       Trinity               7.896193   \n",
       "715       2023        Tulare              10.567731   \n",
       "716       2023       Ventura               5.870643   \n",
       "717       2023          Yolo               7.216270   \n",
       "\n",
       "     Number of Site IDs/County  Number of Gas Cars  Number of EV  \n",
       "0                          5.0              885402            20  \n",
       "1                          3.0              133169             0  \n",
       "2                          1.0               39636             0  \n",
       "3                          1.0               14610             0  \n",
       "4                          1.0              666294            10  \n",
       "..                         ...                 ...           ...  \n",
       "713                        1.0               48496           398  \n",
       "714                        2.0               11867            88  \n",
       "715                        4.0              331744          3837  \n",
       "716                        5.0              651851         31980  \n",
       "717                        2.0              152560          6757  \n",
       "\n",
       "[718 rows x 6 columns]"
      ]
     },
     "execution_count": 51,
     "metadata": {},
     "output_type": "execute_result"
    }
   ],
   "source": [
    "# merging pm and vehicle datatables\n",
    "df_pm_vehicles = pd.merge(df_pm, df_vehicles, on=['Data Year', 'County'], how='inner')\n",
    "df_pm_vehicles"
   ]
  },
  {
   "cell_type": "code",
   "execution_count": 52,
   "id": "c8d2b049",
   "metadata": {},
   "outputs": [],
   "source": [
    "## Optional Import\n",
    "pm2_5vehicleimport = False\n",
    "\n",
    "if pm2_5vehicleimport:\n",
    "    df_pm_vehicles.to_csv('/Users/clarissaclark/SIADS_Milestone_1/PM2.5_Vehicles.csv', index=False)"
   ]
  },
  {
   "cell_type": "code",
   "execution_count": 53,
   "id": "a92d4c17",
   "metadata": {},
   "outputs": [],
   "source": [
    "# clean df_pop county column to match df_pm_vehicle county column \n",
    "df_pop = pop_df\n",
    "df_pop['County'] = df_pop['County'].str.strip()\n",
    "df_pop['County'] = df_pop['County'].str.title()\n",
    "df_pop['County'] = df_pop['County'].str.replace(r'\\s+', ' ', regex=True) "
   ]
  },
  {
   "cell_type": "code",
   "execution_count": 54,
   "id": "cfcb7ba0",
   "metadata": {},
   "outputs": [
    {
     "name": "stdout",
     "output_type": "stream",
     "text": [
      "Only in df_pop: {'Lassen', 'State Total', 'Modoc', 'Tuolumne', 'Yuba', 'Sierra', 'Amador'}\n",
      "Only in df_pm_vehicles: {'Alpine'}\n"
     ]
    }
   ],
   "source": [
    "# Get unique counties from both DataFrames\n",
    "counties_pop = set(df_pop['County'])\n",
    "counties_pm_vehicles = set(df_pm_vehicles['County'])\n",
    "\n",
    "# Find differences\n",
    "only_in_pop = counties_pop - counties_pm_vehicles\n",
    "only_in_pm_vehicles = counties_pm_vehicles - counties_pop\n",
    "\n",
    "print(\"Only in df_pop:\", only_in_pop)\n",
    "print(\"Only in df_pm_vehicles:\", only_in_pm_vehicles)\n",
    "# for now, we will merge on left for df_pm_vehicles "
   ]
  },
  {
   "cell_type": "code",
   "execution_count": 79,
   "id": "4a84a59e",
   "metadata": {},
   "outputs": [
    {
     "data": {
      "text/plain": [
       "Index(['Data Year', 'County', 'Average PM 2.5/County',\n",
       "       'Number of Site IDs/County', 'Number of Gas Cars', 'Number of EV',\n",
       "       'Population', 'Z Score', 'Gas Cars per Capita', 'EV per Capita'],\n",
       "      dtype='object')"
      ]
     },
     "execution_count": 79,
     "metadata": {},
     "output_type": "execute_result"
    }
   ],
   "source": [
    "df_pm_vehicles_pop= pd.merge(df_pm_vehicles, df_pop, on=['County', 'Data Year'], how='inner')\n",
    "df_pm_vehicles_pop.rename(columns={'Z Score_x':'Total Population Z Score'}, inplace=True)\n",
    "df_pm_vehicles_pop.rename(columns={'Population_x':'Total Population'}, inplace=True)\n",
    "df_pm_vehicles_pop['Gas Cars per Capita'] = df_pm_vehicles_pop['Number of Gas Cars'] / df_pm_vehicles_pop['Population']\n",
    "df_pm_vehicles_pop['EV per Capita'] = df_pm_vehicles_pop['Number of EV'] / df_pm_vehicles_pop['Population']\n",
    "df_pm_vehicles_pop.columns"
   ]
  },
  {
   "cell_type": "code",
   "execution_count": null,
   "id": "1c15415a",
   "metadata": {},
   "outputs": [],
   "source": [
    "# to csv \n",
    "tocsv = False\n",
    "if tocsv:\n",
    "    df_pm_vehicles_pop.to_csv('PM2.5_Vehicles_Population.csv', index=False)"
   ]
  },
  {
   "cell_type": "code",
   "execution_count": 103,
   "id": "3e28b9e8",
   "metadata": {},
   "outputs": [
    {
     "data": {
      "image/png": "[encoded data removed]",
      "text/plain": [
       "<Figure size 1800x600 with 6 Axes>"
      ]
     },
     "metadata": {},
     "output_type": "display_data"
    }
   ],
   "source": [
    "import matplotlib.pyplot as plt\n",
    "import seaborn as sns\n",
    "from scipy.stats import pearsonr\n",
    "\n",
    "# Assuming df_pm_vehicles_pop is your DataFrame\n",
    "df_2023 = df_pm_vehicles_pop[df_pm_vehicles_pop['Data Year'] == 2023]\n",
    "df_2019 = df_pm_vehicles_pop[df_pm_vehicles_pop['Data Year'] == 2019]\n",
    "#df_2023 = df_pm_vehicles_pop\n",
    "# Create subplots (now 3 plots)\n",
    "fig, axes = plt.subplots(2, 3, figsize=(18, 6))\n",
    "\n",
    "# Plot 1: Population vs. Average PM 2.5\n",
    "sns.regplot(x='Population', y='Average PM 2.5/County', data=df_2019, ax=axes[0,0], line_kws={\"color\": \"green\"})\n",
    "pop_pearson, _ = pearsonr(df_2019['Population'], df_2019['Average PM 2.5/County'])\n",
    "axes[0,0].set_title(f'Population vs. PM 2.5\\nPearson r = {pop_pearson:.2f}')\n",
    "axes[0,0].set_xlabel('Population')\n",
    "axes[0,0].set_ylabel('Average PM 2.5/County')\n",
    "\n",
    "# Plot 1: Gas Cars per Capita vs. Average PM 2.5\n",
    "sns.regplot(x='Gas Cars per Capita', y='Average PM 2.5/County', data=df_2019, ax=axes[0,1], line_kws={\"color\": \"red\"})\n",
    "gas_pearson, _ = pearsonr(df_2019['Gas Cars per Capita'], df_2019['Average PM 2.5/County'])\n",
    "axes[0,1].set_title(f'Gas Cars per Capita vs. PM 2.5\\nPearson r = {gas_pearson:.2f}')\n",
    "axes[0,1].set_xlabel('Average PM 2.5/County')\n",
    "axes[0,1].set_ylabel('Gas Cars per Capita')\n",
    "\n",
    "# Plot 3: EV per Capita vs. Average PM 2.5\n",
    "sns.regplot(x='Average PM 2.5/County', y='EV per Capita', data=df_2019, ax=axes[0,2], line_kws={\"color\": \"blue\"})\n",
    "ev_pearson, _ = pearsonr(df_2019['Average PM 2.5/County'], df_2019['EV per Capita'])\n",
    "axes[0,2].set_title(f'EV per Capita vs. PM 2.5\\nPearson r = {ev_pearson:.2f}')\n",
    "axes[0,2].set_xlabel('Average PM 2.5/County')\n",
    "axes[0,2].set_ylabel('EV per Capita')\n",
    "\n",
    "# Plot 1: Population vs. Average PM 2.5\n",
    "sns.regplot(x='Population', y='Average PM 2.5/County', data=df_2023, ax=axes[1,0], line_kws={\"color\": \"green\"})\n",
    "pop_pearson, _ = pearsonr(df_2023['Population'], df_2023['Average PM 2.5/County'])\n",
    "axes[1,0].set_title(f'Population vs. PM 2.5\\nPearson r = {pop_pearson:.2f}')\n",
    "axes[1,0].set_xlabel('Population')\n",
    "axes[1,0].set_ylabel('Average PM 2.5/County')\n",
    "\n",
    "# Plot 1: Gas Cars per Capita vs. Average PM 2.5\n",
    "sns.regplot(x='Gas Cars per Capita', y='Average PM 2.5/County', data=df_2023, ax=axes[1,1], line_kws={\"color\": \"red\"})\n",
    "gas_pearson, _ = pearsonr(df_2023['Gas Cars per Capita'], df_2023['Average PM 2.5/County'])\n",
    "axes[1,1].set_title(f'Gas Cars per Capita vs. PM 2.5\\nPearson r = {gas_pearson:.2f}')\n",
    "axes[1,1].set_xlabel('Gas Cars per Capita')\n",
    "axes[1,1].set_ylabel('Average PM 2.5/County')\n",
    "\n",
    "# Plot 3: EV per Capita vs. Average PM 2.5\n",
    "sns.regplot(x='Average PM 2.5/County', y='EV per Capita', data=df_2023, ax=axes[1,2], line_kws={\"color\": \"blue\"})\n",
    "ev_pearson, _ = pearsonr(df_2023['Average PM 2.5/County'], df_2023['EV per Capita'])\n",
    "axes[1,2].set_title(f'EV per Capita vs. PM 2.5\\nPearson r = {ev_pearson:.2f}')\n",
    "axes[1,2].set_xlabel('Average PM 2.5/County')\n",
    "axes[1,2].set_ylabel('EV per Capita')\n",
    "\n",
    "# Adjust layout\n",
    "plt.tight_layout()\n",
    "plt.show()\n"
   ]
  },
  {
   "cell_type": "code",
   "execution_count": null,
   "id": "4792d529",
   "metadata": {},
   "outputs": [],
   "source": []
  },
  {
   "cell_type": "code",
   "execution_count": null,
   "id": "44f4771e",
   "metadata": {},
   "outputs": [],
   "source": []
  },
  {
   "cell_type": "code",
   "execution_count": null,
   "id": "722aa956",
   "metadata": {},
   "outputs": [],
   "source": []
  },
  {
   "cell_type": "code",
   "execution_count": null,
   "id": "d1788e0f",
   "metadata": {},
   "outputs": [],
   "source": []
  },
  {
   "cell_type": "code",
   "execution_count": null,
   "id": "61a42cba",
   "metadata": {},
   "outputs": [],
   "source": []
  },
  {
   "cell_type": "code",
   "execution_count": null,
   "id": "a9b21e94",
   "metadata": {},
   "outputs": [],
   "source": []
  },
  {
   "cell_type": "code",
   "execution_count": null,
   "id": "e03c3ae3",
   "metadata": {},
   "outputs": [],
   "source": []
  },
  {
   "cell_type": "code",
   "execution_count": null,
   "id": "444642e3",
   "metadata": {},
   "outputs": [],
   "source": []
  }
 ],
 "metadata": {
  "kernelspec": {
   "display_name": "Python 3 (ipykernel)",
   "language": "python",
   "name": "python3"
  },
  "language_info": {
   "codemirror_mode": {
    "name": "ipython",
    "version": 3
   },
   "file_extension": ".py",
   "mimetype": "text/x-python",
   "name": "python",
   "nbconvert_exporter": "python",
   "pygments_lexer": "ipython3",
   "version": "3.10.14"
  }
 },
 "nbformat": 4,
 "nbformat_minor": 5
}
