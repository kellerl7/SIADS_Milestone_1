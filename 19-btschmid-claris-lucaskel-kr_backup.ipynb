{
 "cells": [
  {
   "cell_type": "markdown",
   "id": "ef528c0bb02077f",
   "metadata": {},
   "source": [
    "# Driving Towards a Brighter Future: EV Adaption Rates in California and its Effect on PM 2.5 Emissions\n",
    "\n"
   ]
  },
  {
   "cell_type": "markdown",
   "id": "30890eab",
   "metadata": {},
   "source": [
    "This notebook is aimed at the exploratory data analysis for the growing presence of electric vehicles in California and its relationship with PM2.5 Emissions.\n",
    "\n",
    "It consists of importing several datasets, cleaning and manipulating the data, merging the datasets together, and finally creating several visuals to help interpret the data. \n",
    "\n",
    "### Contributions: \n",
    "-  __Clarissa Clark__ - Data Import, Cleaning, and Merging (PM 2.5; Population Data)\n",
    "- __Lucas Keller__ - Merged Visualizations (Heat Map, Correlation Plots, PM2.5 per Counties)\n",
    "- __Brett Schmidt__ - Data Import, Cleaning, Vehicle Visualizations (California Vehicle)\n",
    "#### SIADS 593 Milestone I -  October 7th, 2024"
   ]
  },
  {
   "cell_type": "markdown",
   "id": "535d9c17",
   "metadata": {},
   "source": [
    "# Imports and Requirements"
   ]
  },
  {
   "cell_type": "code",
   "execution_count": 1,
   "id": "8e2b173f8cc6cc6b",
   "metadata": {
    "ExecuteTime": {
     "end_time": "2024-10-02T21:12:57.372353Z",
     "start_time": "2024-10-02T21:12:57.371006Z"
    }
   },
   "outputs": [],
   "source": [
    "#uncomment to install openpyxl if required to import excel\n",
    "#pip install openpyxl\n",
    "#!pip install -r requirements.txt"
   ]
  },
  {
   "cell_type": "code",
   "execution_count": 2,
   "id": "65c8ca51d599b6a8",
   "metadata": {
    "ExecuteTime": {
     "end_time": "2024-10-02T21:12:58.531973Z",
     "start_time": "2024-10-02T21:12:57.557105Z"
    }
   },
   "outputs": [],
   "source": [
    "## import required libraries\n",
    "import pandas as pd\n",
    "import numpy as np\n",
    "from scipy.stats import zscore\n",
    "from urllib.request import urlretrieve\n",
    "import matplotlib.pyplot as plt\n",
    "from matplotlib.ticker import FuncFormatter"
   ]
  },
  {
   "cell_type": "markdown",
   "id": "493ffb8cd5a09f7c",
   "metadata": {},
   "source": [
    "# California Vehicles - Import, Clean, and Visualization\n",
    "Data sourced from https://www.energy.ca.gov/files/zev-and-infrastructure-stats-data and downloads as \"Vehicle_Population_Last_updated_04-30-2024_ada.xlsx\".\n",
    "\n",
    "The dataset contains information on California vehicles, which includes registration year, county, make, model, fuel type, and total vehicles under those categories. \n",
    "\n",
    "The goal for this section is to import the data, remove unnecessary information, check for missing or unexpected values, and provide a dataframe to later merge on 'County' and 'Year'."
   ]
  },
  {
   "cell_type": "markdown",
   "id": "de2ed7e7",
   "metadata": {},
   "source": [
    "#### Import Data\n",
    "Data is provided, but can be imported directly from the URL."
   ]
  },
  {
   "cell_type": "code",
   "execution_count": 3,
   "id": "5fc1b725",
   "metadata": {
    "ExecuteTime": {
     "end_time": "2024-10-02T21:12:58.535719Z",
     "start_time": "2024-10-02T21:12:58.533254Z"
    }
   },
   "outputs": [],
   "source": [
    "## File has been predownloaded and is part of the analysis package ##\n",
    "vehicle_data = 'vehicle_data/california_vehicle.xlsx'\n",
    "\n",
    "## Switch url_import if direct download is desired ##\n",
    "url_import = False\n",
    "if url_import:\n",
    "    if not os.path.exists(vehicle_data_dir):\n",
    "        os.makedirs(vehicle_data_dir)\n",
    "    URL = 'https://www.energy.ca.gov/filebrowser/download/6311?fid=6311#block-symsoft-page-title'\n",
    "    urlretrieve(URL, vehicle_data)"
   ]
  },
  {
   "cell_type": "code",
   "execution_count": 4,
   "id": "b714c29267e17f4a",
   "metadata": {
    "ExecuteTime": {
     "end_time": "2024-10-02T21:13:00.294066Z",
     "start_time": "2024-10-02T21:12:58.536282Z"
    }
   },
   "outputs": [],
   "source": [
    "## Import data as a pandas dataframe ##\n",
    "countyvehicle_df = pd.read_excel('vehicle_data/california_vehicle.xlsx',sheet_name=\"County\")"
   ]
  },
  {
   "cell_type": "markdown",
   "id": "06148bbe",
   "metadata": {},
   "source": [
    "#### Inspect and Reduce Data\n",
    "We'll take a look at the shape, contents, and check for unnecessary columns."
   ]
  },
  {
   "cell_type": "code",
   "execution_count": 5,
   "id": "618de9f02d9204fe",
   "metadata": {
    "ExecuteTime": {
     "end_time": "2024-10-02T21:13:00.301717Z",
     "start_time": "2024-10-02T21:13:00.296102Z"
    }
   },
   "outputs": [
    {
     "data": {
      "text/plain": "(33542, 7)"
     },
     "execution_count": 5,
     "metadata": {},
     "output_type": "execute_result"
    }
   ],
   "source": [
    "## We've isolated the worksheet, now let's take a look at the shape ##\n",
    "countyvehicle_df.shape"
   ]
  },
  {
   "cell_type": "markdown",
   "id": "cde56a48",
   "metadata": {},
   "source": [
    "We see there are 33542 rows and 7 columns, now let's see what is inside."
   ]
  },
  {
   "cell_type": "code",
   "execution_count": 6,
   "id": "9007d9d32c43c503",
   "metadata": {
    "ExecuteTime": {
     "end_time": "2024-10-02T21:13:00.318182Z",
     "start_time": "2024-10-02T21:13:00.303979Z"
    }
   },
   "outputs": [
    {
     "data": {
      "text/plain": "   Data Year   County Dashboard Fuel Type Group               Fuel Type  \\\n0       2010  Alameda    Battery Electric (BEV)  Battery Electric (BEV)   \n1       2010  Alameda    Battery Electric (BEV)  Battery Electric (BEV)   \n2       2010  Alameda                    Diesel                  Diesel   \n3       2010  Alameda                  Gasoline               Flex Fuel   \n4       2010  Alameda                  Gasoline                Gasoline   \n\n    Make     Model  Number of Vehicles  \n0   Ford    Ranger                   3  \n1  Tesla  Roadster                  17  \n2    NaN       NaN               10939  \n3    NaN       NaN               10974  \n4    NaN       NaN              840577  ",
      "text/html": "<div>\n<style scoped>\n    .dataframe tbody tr th:only-of-type {\n        vertical-align: middle;\n    }\n\n    .dataframe tbody tr th {\n        vertical-align: top;\n    }\n\n    .dataframe thead th {\n        text-align: right;\n    }\n</style>\n<table border=\"1\" class=\"dataframe\">\n  <thead>\n    <tr style=\"text-align: right;\">\n      <th></th>\n      <th>Data Year</th>\n      <th>County</th>\n      <th>Dashboard Fuel Type Group</th>\n      <th>Fuel Type</th>\n      <th>Make</th>\n      <th>Model</th>\n      <th>Number of Vehicles</th>\n    </tr>\n  </thead>\n  <tbody>\n    <tr>\n      <th>0</th>\n      <td>2010</td>\n      <td>Alameda</td>\n      <td>Battery Electric (BEV)</td>\n      <td>Battery Electric (BEV)</td>\n      <td>Ford</td>\n      <td>Ranger</td>\n      <td>3</td>\n    </tr>\n    <tr>\n      <th>1</th>\n      <td>2010</td>\n      <td>Alameda</td>\n      <td>Battery Electric (BEV)</td>\n      <td>Battery Electric (BEV)</td>\n      <td>Tesla</td>\n      <td>Roadster</td>\n      <td>17</td>\n    </tr>\n    <tr>\n      <th>2</th>\n      <td>2010</td>\n      <td>Alameda</td>\n      <td>Diesel</td>\n      <td>Diesel</td>\n      <td>NaN</td>\n      <td>NaN</td>\n      <td>10939</td>\n    </tr>\n    <tr>\n      <th>3</th>\n      <td>2010</td>\n      <td>Alameda</td>\n      <td>Gasoline</td>\n      <td>Flex Fuel</td>\n      <td>NaN</td>\n      <td>NaN</td>\n      <td>10974</td>\n    </tr>\n    <tr>\n      <th>4</th>\n      <td>2010</td>\n      <td>Alameda</td>\n      <td>Gasoline</td>\n      <td>Gasoline</td>\n      <td>NaN</td>\n      <td>NaN</td>\n      <td>840577</td>\n    </tr>\n  </tbody>\n</table>\n</div>"
     },
     "execution_count": 6,
     "metadata": {},
     "output_type": "execute_result"
    }
   ],
   "source": [
    "countyvehicle_df.head()"
   ]
  },
  {
   "cell_type": "markdown",
   "id": "4055c4a0",
   "metadata": {},
   "source": [
    "We're not interested in the Make or Model of the car, so let's drop those values and inspect the information of our dataframe."
   ]
  },
  {
   "cell_type": "code",
   "execution_count": 7,
   "id": "e075187438cc4278",
   "metadata": {
    "ExecuteTime": {
     "end_time": "2024-10-02T21:13:00.335651Z",
     "start_time": "2024-10-02T21:13:00.319686Z"
    }
   },
   "outputs": [
    {
     "name": "stdout",
     "output_type": "stream",
     "text": [
      "<class 'pandas.core.frame.DataFrame'>\n",
      "RangeIndex: 33542 entries, 0 to 33541\n",
      "Data columns (total 5 columns):\n",
      " #   Column                     Non-Null Count  Dtype \n",
      "---  ------                     --------------  ----- \n",
      " 0   Data Year                  33542 non-null  int64 \n",
      " 1   County                     33542 non-null  object\n",
      " 2   Dashboard Fuel Type Group  33542 non-null  object\n",
      " 3   Fuel Type                  33542 non-null  object\n",
      " 4   Number of Vehicles         33542 non-null  int64 \n",
      "dtypes: int64(2), object(3)\n",
      "memory usage: 1.3+ MB\n"
     ]
    }
   ],
   "source": [
    "countyvehicle_df = countyvehicle_df.drop(columns=['Make','Model'])\n",
    "countyvehicle_df.info()"
   ]
  },
  {
   "cell_type": "markdown",
   "id": "4206f935",
   "metadata": {},
   "source": [
    "There are __33542__ counts across each entry. That's good.\n",
    "\n",
    "Now let's check for missing years and missing counties."
   ]
  },
  {
   "cell_type": "code",
   "execution_count": 8,
   "id": "5474ce38",
   "metadata": {
    "ExecuteTime": {
     "end_time": "2024-10-02T21:13:00.340494Z",
     "start_time": "2024-10-02T21:13:00.336707Z"
    }
   },
   "outputs": [
    {
     "name": "stdout",
     "output_type": "stream",
     "text": [
      "[2010, 2011, 2012, 2013, 2014, 2015, 2016, 2017, 2018, 2019, 2020, 2021, 2022, 2023]\n",
      "\n",
      "Data starts in 2010 and spans across 2023\n",
      "No missing years.\n"
     ]
    }
   ],
   "source": [
    "years = [year for year in countyvehicle_df['Data Year'].unique()]\n",
    "actual_years = set(years)\n",
    "\n",
    "expected_years = set(range(min(years), max(years) + 1))\n",
    "missing_years = expected_years - actual_years\n",
    "\n",
    "print(years)\n",
    "print(f'\\nData starts in {min(years)} and spans across {max(years)}')\n",
    "\n",
    "if missing_years:\n",
    "    print(f\"Missing years: {missing_years}\")\n",
    "else:\n",
    "    print(\"No missing years.\")"
   ]
  },
  {
   "cell_type": "code",
   "execution_count": 9,
   "id": "ed501b4a",
   "metadata": {
    "ExecuteTime": {
     "end_time": "2024-10-02T21:13:00.347082Z",
     "start_time": "2024-10-02T21:13:00.341897Z"
    }
   },
   "outputs": [
    {
     "name": "stdout",
     "output_type": "stream",
     "text": [
      "No missing counties.\n",
      "Unexpected counties: {'Out Of State', 'Out of State'}\n"
     ]
    }
   ],
   "source": [
    "counties = [county for county in countyvehicle_df['County'].unique()]\n",
    "actual_counties = set(counties)\n",
    "expected_counties = set([\n",
    "    \"Alameda\", \"Alpine\", \"Amador\", \"Butte\", \"Calaveras\", \"Colusa\",\n",
    "    \"Contra Costa\", \"Del Norte\", \"El Dorado\", \"Fresno\", \"Glenn\",\n",
    "    \"Humboldt\", \"Imperial\", \"Inyo\", \"Kern\", \"Kings\", \"Lake\",\n",
    "    \"Lassen\", \"Los Angeles\", \"Madera\", \"Marin\", \"Mariposa\",\n",
    "    \"Mendocino\", \"Merced\", \"Modoc\", \"Mono\", \"Monterey\", \"Napa\",\n",
    "    \"Nevada\", \"Orange\", \"Placer\", \"Plumas\", \"Riverside\",\n",
    "    \"Sacramento\", \"San Benito\", \"San Bernardino\", \"San Diego\",\n",
    "    \"San Francisco\", \"San Joaquin\", \"San Luis Obispo\", \"San Mateo\",\n",
    "    \"Santa Barbara\", \"Santa Clara\", \"Santa Cruz\", \"Shasta\",\n",
    "    \"Sierra\", \"Siskiyou\", \"Solano\", \"Sonoma\", \"Stanislaus\",\n",
    "    \"Sutter\", \"Tehama\", \"Trinity\", \"Tulare\", \"Tuolumne\",\n",
    "    \"Ventura\", \"Yolo\", \"Yuba\"\n",
    "])\n",
    "missing_counties = expected_counties - actual_counties\n",
    "\n",
    "unexpected_counties = actual_counties - expected_counties\n",
    "\n",
    "if missing_counties:\n",
    "    print(f\"Missing counties: {missing_counties}\")\n",
    "else:\n",
    "    print(\"No missing counties.\")\n",
    "\n",
    "if unexpected_counties:\n",
    "    print(f\"Unexpected counties: {unexpected_counties}\")\n",
    "else:\n",
    "    print(\"No unexpected counties.\")"
   ]
  },
  {
   "cell_type": "markdown",
   "id": "2f584982",
   "metadata": {},
   "source": [
    "There are unexpected counties that are from out of state.\n",
    "\n",
    "Let's see what years have vehicles from out of state and how many there are.\n",
    "\n",
    "We'll only look at the past 10 years for this analysis, but can be adjusted based on lookbackyears."
   ]
  },
  {
   "cell_type": "code",
   "execution_count": 10,
   "id": "08eadf56",
   "metadata": {
    "ExecuteTime": {
     "end_time": "2024-10-02T21:13:00.384661Z",
     "start_time": "2024-10-02T21:13:00.348190Z"
    }
   },
   "outputs": [
    {
     "name": "stdout",
     "output_type": "stream",
     "text": [
      "Percent of vechicles from 'Out Of State' in 2014 is: 2.13%\n",
      "Percent of vechicles from 'Out Of State' in 2015 is: 2.11%\n",
      "Percent of vechicles from 'Out Of State' in 2016 is: 1.64%\n",
      "Percent of vechicles from 'Out Of State' in 2017 is: 1.58%\n",
      "Percent of vechicles from 'Out Of State' in 2018 is: 1.51%\n",
      "Percent of vechicles from 'Out Of State' in 2019 is: 1.69%\n",
      "Percent of vechicles from 'Out Of State' in 2020 is: 1.55%\n",
      "Percent of vechicles from 'Out of State' in 2021 is: 1.35%\n",
      "Percent of vechicles from 'Out of State' in 2022 is: 1.40%\n",
      "Percent of vechicles from 'Out Of State' in 2023 is: 1.37%\n"
     ]
    }
   ],
   "source": [
    "vehicles_by_year = countyvehicle_df.groupby('Data Year')['Number of Vehicles'].sum()\n",
    "lookbackyears = 10\n",
    "for year in countyvehicle_df['Data Year'].unique()[-lookbackyears:]:\n",
    "    for unexpected_county in unexpected_counties:\n",
    "        unexpected_vehicles = countyvehicle_df[(countyvehicle_df['Data Year'] == year) & \n",
    "                                             (countyvehicle_df['County'] == unexpected_county)]\n",
    "\n",
    "        total_unexpected_vehicles_by_year = unexpected_vehicles['Number of Vehicles'].sum()\n",
    "        \n",
    "        if total_unexpected_vehicles_by_year!= 0:\n",
    "            total_vehicles = vehicles_by_year.get(year, 0)\n",
    "            ratio = total_unexpected_vehicles_by_year/total_vehicles*100\n",
    "            #print(unexpected_county)\n",
    "            #print(total_unexpected_vehicles_by_year_list)\n",
    "            print(f\"Percent of vechicles from '{unexpected_county}' in {year} is: {ratio:.2f}%\")"
   ]
  },
  {
   "cell_type": "markdown",
   "id": "fd568780",
   "metadata": {},
   "source": [
    "Looks like there are out of state vehicles present in our dataset for every year.\n",
    "\n",
    "The non-california vehicles is ~1.3 - 2.1% of total vehicles across our entire data set.\n",
    "We'll make the assumption that they won't impact our analysis and filter them out and check the shape.\n"
   ]
  },
  {
   "cell_type": "code",
   "execution_count": 11,
   "id": "5cbe244a",
   "metadata": {
    "ExecuteTime": {
     "end_time": "2024-10-02T21:13:00.392716Z",
     "start_time": "2024-10-02T21:13:00.387285Z"
    }
   },
   "outputs": [
    {
     "data": {
      "text/plain": "(32763, 5)"
     },
     "execution_count": 11,
     "metadata": {},
     "output_type": "execute_result"
    }
   ],
   "source": [
    "calcountyvehicle_df = countyvehicle_df[~countyvehicle_df['County'].isin(unexpected_counties)]\n",
    "calcountyvehicle_df.shape"
   ]
  },
  {
   "cell_type": "markdown",
   "id": "3e01ccf2",
   "metadata": {},
   "source": [
    "#### Manipulation\n",
    "Next, let's take a look at the fuel types that are used.\n",
    "We're interested in impact of EVs and non-fossil fuel based cars.\n",
    "There are two columns that cover the fuel type. 'Dashboard Fuel Type Group' and 'Fuel Type' that are fully populated (length 32763)\n",
    "Let's take a look at the difference between the two."
   ]
  },
  {
   "cell_type": "code",
   "execution_count": 12,
   "id": "d1f7d2ba",
   "metadata": {
    "ExecuteTime": {
     "end_time": "2024-10-02T21:13:00.401754Z",
     "start_time": "2024-10-02T21:13:00.394024Z"
    }
   },
   "outputs": [
    {
     "data": {
      "text/plain": "                Fuel Type Dashboard Fuel Type Group\n0  Battery Electric (BEV)    Battery Electric (BEV)\n1                  Diesel                    Diesel\n2               Flex Fuel                  Gasoline\n3                Gasoline           Gasoline Hybrid\n4         Gasoline Hybrid                     Other\n5             Natural Gas          Fuel Cell (FCEV)\n6                 Propane     Plug-in Hybrid (PHEV)\n7        Fuel Cell (FCEV)                       NaN\n8   Plug-in Hybrid (PHEV)                       NaN",
      "text/html": "<div>\n<style scoped>\n    .dataframe tbody tr th:only-of-type {\n        vertical-align: middle;\n    }\n\n    .dataframe tbody tr th {\n        vertical-align: top;\n    }\n\n    .dataframe thead th {\n        text-align: right;\n    }\n</style>\n<table border=\"1\" class=\"dataframe\">\n  <thead>\n    <tr style=\"text-align: right;\">\n      <th></th>\n      <th>Fuel Type</th>\n      <th>Dashboard Fuel Type Group</th>\n    </tr>\n  </thead>\n  <tbody>\n    <tr>\n      <th>0</th>\n      <td>Battery Electric (BEV)</td>\n      <td>Battery Electric (BEV)</td>\n    </tr>\n    <tr>\n      <th>1</th>\n      <td>Diesel</td>\n      <td>Diesel</td>\n    </tr>\n    <tr>\n      <th>2</th>\n      <td>Flex Fuel</td>\n      <td>Gasoline</td>\n    </tr>\n    <tr>\n      <th>3</th>\n      <td>Gasoline</td>\n      <td>Gasoline Hybrid</td>\n    </tr>\n    <tr>\n      <th>4</th>\n      <td>Gasoline Hybrid</td>\n      <td>Other</td>\n    </tr>\n    <tr>\n      <th>5</th>\n      <td>Natural Gas</td>\n      <td>Fuel Cell (FCEV)</td>\n    </tr>\n    <tr>\n      <th>6</th>\n      <td>Propane</td>\n      <td>Plug-in Hybrid (PHEV)</td>\n    </tr>\n    <tr>\n      <th>7</th>\n      <td>Fuel Cell (FCEV)</td>\n      <td>NaN</td>\n    </tr>\n    <tr>\n      <th>8</th>\n      <td>Plug-in Hybrid (PHEV)</td>\n      <td>NaN</td>\n    </tr>\n  </tbody>\n</table>\n</div>"
     },
     "execution_count": 12,
     "metadata": {},
     "output_type": "execute_result"
    }
   ],
   "source": [
    "fuel_types_1 = calcountyvehicle_df['Dashboard Fuel Type Group'].unique()\n",
    "fuel_types_2 = calcountyvehicle_df['Fuel Type'].unique()\n",
    "\n",
    "fuel_types_df = pd.DataFrame({\n",
    "    'Fuel Type': pd.Series(fuel_types_2),\n",
    "    'Dashboard Fuel Type Group': pd.Series(fuel_types_1)\n",
    "})\n",
    "\n",
    "fuel_types_df"
   ]
  },
  {
   "cell_type": "markdown",
   "id": "48f2aa91",
   "metadata": {},
   "source": [
    "It appears Dashboard Fuel Type Group goes ahead and clusters them together. \n",
    "We're going to make our own cluster and group together vehicles based on fuel type.\n",
    "\n",
    "Fossil Fuels will consist of:\n",
    "- Diesel\n",
    "- Flex Fuel\n",
    "- Gasoline\n",
    "- Gasoline Hybrid\n",
    "- Natural Gas\n",
    "- Propane\n",
    "\n",
    "Electric Vehicles (EV) will consist of:\n",
    "- Battery Electric\n",
    "- Fuel Cell\n",
    "- Plug-in Hybrid\n",
    "\n",
    "We'll drop the necessary __'Dashboard Fuel Type Group'__ as well."
   ]
  },
  {
   "cell_type": "code",
   "execution_count": 13,
   "id": "f3308c02",
   "metadata": {
    "ExecuteTime": {
     "end_time": "2024-10-02T21:13:00.421933Z",
     "start_time": "2024-10-02T21:13:00.402951Z"
    }
   },
   "outputs": [
    {
     "data": {
      "text/plain": "   Data Year   County               Fuel Type  Number of Vehicles  \\\n0       2010  Alameda  Battery Electric (BEV)                   3   \n1       2010  Alameda  Battery Electric (BEV)                  17   \n2       2010  Alameda                  Diesel               10939   \n3       2010  Alameda               Flex Fuel               10974   \n4       2010  Alameda                Gasoline              840577   \n\n  Fuel Category  \n0            EV  \n1            EV  \n2   Fossil Fuel  \n3   Fossil Fuel  \n4   Fossil Fuel  ",
      "text/html": "<div>\n<style scoped>\n    .dataframe tbody tr th:only-of-type {\n        vertical-align: middle;\n    }\n\n    .dataframe tbody tr th {\n        vertical-align: top;\n    }\n\n    .dataframe thead th {\n        text-align: right;\n    }\n</style>\n<table border=\"1\" class=\"dataframe\">\n  <thead>\n    <tr style=\"text-align: right;\">\n      <th></th>\n      <th>Data Year</th>\n      <th>County</th>\n      <th>Fuel Type</th>\n      <th>Number of Vehicles</th>\n      <th>Fuel Category</th>\n    </tr>\n  </thead>\n  <tbody>\n    <tr>\n      <th>0</th>\n      <td>2010</td>\n      <td>Alameda</td>\n      <td>Battery Electric (BEV)</td>\n      <td>3</td>\n      <td>EV</td>\n    </tr>\n    <tr>\n      <th>1</th>\n      <td>2010</td>\n      <td>Alameda</td>\n      <td>Battery Electric (BEV)</td>\n      <td>17</td>\n      <td>EV</td>\n    </tr>\n    <tr>\n      <th>2</th>\n      <td>2010</td>\n      <td>Alameda</td>\n      <td>Diesel</td>\n      <td>10939</td>\n      <td>Fossil Fuel</td>\n    </tr>\n    <tr>\n      <th>3</th>\n      <td>2010</td>\n      <td>Alameda</td>\n      <td>Flex Fuel</td>\n      <td>10974</td>\n      <td>Fossil Fuel</td>\n    </tr>\n    <tr>\n      <th>4</th>\n      <td>2010</td>\n      <td>Alameda</td>\n      <td>Gasoline</td>\n      <td>840577</td>\n      <td>Fossil Fuel</td>\n    </tr>\n  </tbody>\n</table>\n</div>"
     },
     "execution_count": 13,
     "metadata": {},
     "output_type": "execute_result"
    }
   ],
   "source": [
    "fossil_fuels = ['Diesel', 'Flex Fuel', 'Gasoline', 'Gasoline Hybrid', 'Natural Gas', 'Propane'] \n",
    "evs = ['Battery Electric (BEV)', 'Fuel Cell (FCEV)', 'Plug-in Hybrid (PHEV)']\n",
    "\n",
    "def categorize_fuel(fuel_type):\n",
    "    if fuel_type in fossil_fuels:\n",
    "        return 'Fossil Fuel'\n",
    "    elif fuel_type in evs:\n",
    "        return 'EV'\n",
    "    else:\n",
    "        return 'Other'\n",
    "    \n",
    "calcountyvehicle_df.loc[:, ['Fuel Category']] = calcountyvehicle_df['Fuel Type'].apply(categorize_fuel)\n",
    "calcountyvehicle_df = calcountyvehicle_df.drop(columns=['Dashboard Fuel Type Group'])\n",
    "# Print the DataFrame to check the new column\n",
    "calcountyvehicle_df.head()"
   ]
  },
  {
   "cell_type": "markdown",
   "id": "fbc1d432",
   "metadata": {},
   "source": [
    "Finally, we'll consolidate our dataframe based on __'County'__ and __'Fuel Category'__ and sum the __'Number of Vehicles'__ to provide the first dataframe for merging."
   ]
  },
  {
   "cell_type": "code",
   "execution_count": 14,
   "id": "ae2eefd8",
   "metadata": {
    "ExecuteTime": {
     "end_time": "2024-10-02T21:13:00.438916Z",
     "start_time": "2024-10-02T21:13:00.423419Z"
    }
   },
   "outputs": [
    {
     "data": {
      "text/plain": "      Data Year   County Fuel Category  Number of Vehicles\n0          2010  Alameda            EV                  20\n1          2010  Alameda   Fossil Fuel              885402\n2          2010   Alpine   Fossil Fuel                1041\n3          2010   Amador            EV                   1\n4          2010   Amador   Fossil Fuel               30480\n...         ...      ...           ...                 ...\n1570       2023  Ventura   Fossil Fuel              651851\n1571       2023     Yolo            EV                6757\n1572       2023     Yolo   Fossil Fuel              152560\n1573       2023     Yuba            EV                 961\n1574       2023     Yuba   Fossil Fuel               57567\n\n[1575 rows x 4 columns]",
      "text/html": "<div>\n<style scoped>\n    .dataframe tbody tr th:only-of-type {\n        vertical-align: middle;\n    }\n\n    .dataframe tbody tr th {\n        vertical-align: top;\n    }\n\n    .dataframe thead th {\n        text-align: right;\n    }\n</style>\n<table border=\"1\" class=\"dataframe\">\n  <thead>\n    <tr style=\"text-align: right;\">\n      <th></th>\n      <th>Data Year</th>\n      <th>County</th>\n      <th>Fuel Category</th>\n      <th>Number of Vehicles</th>\n    </tr>\n  </thead>\n  <tbody>\n    <tr>\n      <th>0</th>\n      <td>2010</td>\n      <td>Alameda</td>\n      <td>EV</td>\n      <td>20</td>\n    </tr>\n    <tr>\n      <th>1</th>\n      <td>2010</td>\n      <td>Alameda</td>\n      <td>Fossil Fuel</td>\n      <td>885402</td>\n    </tr>\n    <tr>\n      <th>2</th>\n      <td>2010</td>\n      <td>Alpine</td>\n      <td>Fossil Fuel</td>\n      <td>1041</td>\n    </tr>\n    <tr>\n      <th>3</th>\n      <td>2010</td>\n      <td>Amador</td>\n      <td>EV</td>\n      <td>1</td>\n    </tr>\n    <tr>\n      <th>4</th>\n      <td>2010</td>\n      <td>Amador</td>\n      <td>Fossil Fuel</td>\n      <td>30480</td>\n    </tr>\n    <tr>\n      <th>...</th>\n      <td>...</td>\n      <td>...</td>\n      <td>...</td>\n      <td>...</td>\n    </tr>\n    <tr>\n      <th>1570</th>\n      <td>2023</td>\n      <td>Ventura</td>\n      <td>Fossil Fuel</td>\n      <td>651851</td>\n    </tr>\n    <tr>\n      <th>1571</th>\n      <td>2023</td>\n      <td>Yolo</td>\n      <td>EV</td>\n      <td>6757</td>\n    </tr>\n    <tr>\n      <th>1572</th>\n      <td>2023</td>\n      <td>Yolo</td>\n      <td>Fossil Fuel</td>\n      <td>152560</td>\n    </tr>\n    <tr>\n      <th>1573</th>\n      <td>2023</td>\n      <td>Yuba</td>\n      <td>EV</td>\n      <td>961</td>\n    </tr>\n    <tr>\n      <th>1574</th>\n      <td>2023</td>\n      <td>Yuba</td>\n      <td>Fossil Fuel</td>\n      <td>57567</td>\n    </tr>\n  </tbody>\n</table>\n<p>1575 rows × 4 columns</p>\n</div>"
     },
     "execution_count": 14,
     "metadata": {},
     "output_type": "execute_result"
    }
   ],
   "source": [
    "fueltype_per_countyyear_totals_df = calcountyvehicle_df.groupby(['Data Year','County','Fuel Category'])['Number of Vehicles'].sum().reset_index()\n",
    "## Optional to export out as an excel file - uncomment next line ##\n",
    "# vehicle_df.to_csv('vehicle_df', index = False)\n",
    "\n",
    "fueltype_per_countyyear_totals_df\n"
   ]
  },
  {
   "cell_type": "markdown",
   "id": "82480311",
   "metadata": {},
   "source": [
    "#### Visualization\n",
    "Now, let's take a look at the trends of the vehicles!"
   ]
  },
  {
   "cell_type": "code",
   "execution_count": 15,
   "id": "396bf915eb5ce046",
   "metadata": {
    "ExecuteTime": {
     "end_time": "2024-10-02T21:13:00.724889Z",
     "start_time": "2024-10-02T21:13:00.439753Z"
    }
   },
   "outputs": [
    {
     "data": {
      "text/plain": "<Figure size 400x400 with 1 Axes>",
      "image/png": "[encoded data removed]"
     },
     "metadata": {},
     "output_type": "display_data"
    }
   ],
   "source": [
    "def yearlyVehiclesbyType(df):\n",
    "    # Group the data by 'Data Year' and 'Fuel Category', summing the number of vehicles\n",
    "    grouped_df = df.groupby(['Data Year', 'Fuel Category'])['Number of Vehicles'].sum().reset_index()\n",
    "\n",
    "    # Create a new column for the year-over-year growth rate\n",
    "    grouped_df['Growth Rate'] = grouped_df.groupby('Fuel Category')['Number of Vehicles'].pct_change() * 100\n",
    "\n",
    "    plt.figure(figsize=(4, 4))\n",
    "\n",
    "    # Create subplots: the first plot for vehicle count, the second for growth rate\n",
    "    color_mapping = {\n",
    "        'EV': '#708238', ## sage     \n",
    "        'Fossil Fuel': '#87CEEB'## skyblue       \n",
    "    }\n",
    "\n",
    "    ## Create a line plot for each category of fuel ##\n",
    "    for fuel in grouped_df['Fuel Category'].unique():\n",
    "        fuel_group_df = grouped_df[grouped_df['Fuel Category'] == fuel]\n",
    "        color = color_mapping.get(fuel)\n",
    "        plt.plot(fuel_group_df['Data Year'], fuel_group_df['Number of Vehicles'] / 1000000, label=fuel,color = color)\n",
    "\n",
    "        ## Annotate the first and last points ##\n",
    "        first_year = fuel_group_df.iloc[0]['Data Year']\n",
    "        first_value = fuel_group_df.iloc[0]['Number of Vehicles'] / 1000000\n",
    "        plt.annotate(f'{first_value:.2f}M', (first_year, first_value), textcoords=\"offset points\", xytext=(10, 10), ha='center')\n",
    "        plt.plot(first_year, first_value, 'o', color='black')\n",
    "\n",
    "        last_year = fuel_group_df.iloc[-1]['Data Year']\n",
    "        last_value = fuel_group_df.iloc[-1]['Number of Vehicles'] / 1000000\n",
    "        plt.annotate(f'{last_value:.2f}M', (last_year, last_value), textcoords=\"offset points\", xytext=(-10, 10), ha='center')\n",
    "        plt.plot(last_year, last_value, 'o', color='black')\n",
    "\n",
    "\n",
    "    years = grouped_df['Data Year'].unique()\n",
    "    first_year = years[0]\n",
    "    middle_year = years[len(years) // 2]  # Calculate the middle year\n",
    "    last_year = years[-1]\n",
    "    plt.xticks([first_year, middle_year, last_year], [first_year, middle_year, last_year])\n",
    "\n",
    "    plt.title('CA Vehicles: Annual Counts')\n",
    "    ax = plt.gca()\n",
    "    ax.spines['right'].set_visible(False)\n",
    "    ax.spines['left'].set_visible(False)\n",
    "    ax.spines['top'].set_visible(False)\n",
    "\n",
    "    plt.ylabel(\"Vehicles (in millions)\")\n",
    "    plt.xlabel(\"Year\")\n",
    "    plt.legend(title='Fuel Category')\n",
    "    ## Optional to save image ##\n",
    "    save_img = False\n",
    "    if save_img:\n",
    "        plt.savefig(\"graphic_caliVehiclesGrowthRate.png\",dpi=300)\n",
    "    plt.tight_layout()\n",
    "    plt.show()\n",
    "\n",
    "yearlyVehiclesbyType(fueltype_per_countyyear_totals_df)"
   ]
  },
  {
   "cell_type": "markdown",
   "id": "f6b6989c",
   "metadata": {},
   "source": [
    "There seems to be a steady growth of EVs and Fossil Fuel vehicles from 2010 to 2023. But - the total number of EVs went from a 0% market share in 2010 to a ~5% market share in 2023. That confirms our suspicion that EVs are being increasingly adopted. Let's visualize the growth rate of each category of vehicles."
   ]
  },
  {
   "cell_type": "code",
   "execution_count": 16,
   "id": "f19dcc50b9bee7c2",
   "metadata": {
    "ExecuteTime": {
     "end_time": "2024-10-02T21:13:00.979811Z",
     "start_time": "2024-10-02T21:13:00.726827Z"
    }
   },
   "outputs": [
    {
     "data": {
      "text/plain": "<Figure size 1200x400 with 1 Axes>",
      "image/png": "[encoded data removed]"
     },
     "metadata": {},
     "output_type": "display_data"
    }
   ],
   "source": [
    "def percent_formatter(x, pos):\n",
    "    ## function to adjust y-scaling based on percentage growth##\n",
    "    return f'{int(x)}%'\n",
    "\n",
    "def vehicleGrowthRate(df):\n",
    "    ## Group the data by 'Data Year' and 'Fuel Category', summing the number of vehicles ##\n",
    "    grouped_df = df.groupby(['Data Year', 'Fuel Category'])['Number of Vehicles'].sum().reset_index()\n",
    "\n",
    "    ## Calculate the year-over-year growth rate and drop first year (.dropna) ##\n",
    "    grouped_df['Growth Rate'] = grouped_df.groupby('Fuel Category')['Number of Vehicles'].pct_change() * 100\n",
    "    grouped_df = grouped_df.dropna(subset=['Growth Rate'])\n",
    "\n",
    "    ## Plotting the growth rate as an overlapped bar graph ##\n",
    "    plt.figure(figsize=(12, 4))\n",
    "    bar_width = 0.4\n",
    "\n",
    "    color_mapping = {\n",
    "            'EV': '#708238', ## sage     \n",
    "            'Fossil Fuel': '#87CEEB'## skyblue       \n",
    "        }\n",
    "\n",
    "    ## Define x positions for the bars ##\n",
    "    x = np.arange(len(grouped_df['Data Year'].unique()))\n",
    "    years_with_data = grouped_df['Data Year'].unique()\n",
    "\n",
    "    # Bar plot for growth rates with overlapping bars\n",
    "    for i, fuel in enumerate(grouped_df['Fuel Category'].unique()):\n",
    "        fuel_df = grouped_df[grouped_df['Fuel Category'] == fuel]\n",
    "\n",
    "        color = color_mapping.get(fuel)\n",
    "\n",
    "        ## Using the index to plot bars at the same x position but different colors ##\n",
    "        plt.bar(x + (i * bar_width), fuel_df['Growth Rate'], width=bar_width, label=fuel, alpha=0.7, color=color)\n",
    "\n",
    "    ## Set the x-ticks to show the years, split for number of fuel types ##\n",
    "    number_of_fuel_types = len(grouped_df['Fuel Category'].unique())\n",
    "    plt.xticks(x + (bar_width * (number_of_fuel_types - 1) / 2), years_with_data)\n",
    "\n",
    "    ## Annotate the bars with the growth rates ##\n",
    "    for i, fuel in enumerate(grouped_df['Fuel Category'].unique()):\n",
    "\n",
    "        ## get df for particular fuel ##\n",
    "        fuel_df = grouped_df[grouped_df['Fuel Category'] == fuel]\n",
    "\n",
    "        ## iterate through year (x position) and position the value (percentage) at the top of the bar, offset ##\n",
    "        for j, value in enumerate(fuel_df['Growth Rate']):\n",
    "\n",
    "            ## Adjust xytext position depending on direction of bar (positive vs. negative)\n",
    "            if value>=0:\n",
    "                plt.annotate(f'{value:.1f}%', (x[j] + (i * bar_width), value), \n",
    "                             textcoords=\"offset points\", xytext=(4, 5), ha='center')\n",
    "            if value<0:\n",
    "                plt.annotate(f'{value:.1f}%', (x[j] + (i * bar_width), value), \n",
    "                             textcoords=\"offset points\", xytext=(4, -10), ha='center')\n",
    "    ## Title and Labels ##\n",
    "    plt.ylabel(\"Growth Rate (%)\")\n",
    "    plt.xlabel(\"Year\")\n",
    "    \n",
    "    #plt.ylabel('Year-over-Year Growth Rate (%)',fontsize=12)\n",
    "    plt.title('CA Vehicles: YoY Growth Rate by Fuel Type',fontsize=14)\n",
    "    plt.axhline(0, color='gray', linewidth=0.8, linestyle='--')  # Add a horizontal line at y=0 for reference\n",
    "\n",
    "    ## Set the y-axis to a logarithmic scaling and account for presence of negative values using 'sumlog' ##\n",
    "    plt.yscale('symlog',linthresh=25)\n",
    "\n",
    "    ## Add exponential 25% buffer above the max growth rate ##\n",
    "    max_growth = grouped_df['Growth Rate'].max()\n",
    "    buffer_top = max_growth ** 1.2 \n",
    "\n",
    "    ## Keep the bottom close to zero but a little lower to see negative values ##\n",
    "    buffer_bottom = -(abs(grouped_df['Growth Rate'].min()) ** 2) \n",
    "\n",
    "    ## Set the y-limits and format them to show it as a percentage ##\n",
    "    plt.ylim(buffer_bottom, buffer_top)\n",
    "    plt.gca().yaxis.set_major_formatter(FuncFormatter(percent_formatter))\n",
    "    ax = plt.gca()\n",
    "    ax.spines['right'].set_visible(False)\n",
    "    ax.spines['left'].set_visible(False)\n",
    "    ax.spines['top'].set_visible(False)\n",
    "    plt.legend(fontsize = 12)\n",
    "\n",
    "    ## optional logic to save image ##\n",
    "    save_img = False\n",
    "    if save_img:\n",
    "        plt.savefig(\"graphic_caliVehiclesGrowthRate.png\",dpi=300)\n",
    "\n",
    "\n",
    "    ## Show the plot ##\n",
    "    plt.tight_layout()\n",
    "    plt.show()\n",
    "\n",
    "vehicleGrowthRate(fueltype_per_countyyear_totals_df)"
   ]
  },
  {
   "cell_type": "markdown",
   "id": "fd768f54",
   "metadata": {
    "ExecuteTime": {
     "end_time": "2024-09-30T16:50:17.545344Z",
     "start_time": "2024-09-30T16:50:17.520879Z"
    }
   },
   "source": [
    "EVs appear to have a stabilized year over year growth rate of ~30% whereas fossil fuel vehicles seem to have plateaued and may be trending downwards."
   ]
  },
  {
   "cell_type": "markdown",
   "id": "36cec2042fc2495c",
   "metadata": {
    "collapsed": false
   },
   "source": [
    "# PM 2.5 Emission by County - Import, Cleaning, and Manipulation\n",
    "The United States Environmental Protection Agency requires counties to report daily air quality values. Annual datasets are publicly available at https://www.epa.gov/outdoor-air-quality-data/download-daily-data. Data from 2010 to 2024 was downloaded in the file 'pm_data'. \n",
    "\n",
    "Each dataset contains a plethora information including the date recorded, source name, site ID, daily mean PM2.5 concentration, concentration units, methodology, codes, county, site latitude and longitude. \n",
    "\n",
    "The goal is to filter and manipulate the dataframes to create a consolidated PM2.5 dataset that includes the year, county, average PM2.5 emissions per county, and the number of monitoring sites within each county. "
   ]
  },
  {
   "cell_type": "markdown",
   "id": "8a0285a7afc9fe89",
   "metadata": {
    "collapsed": false
   },
   "source": [
    "#### Import Data\n",
    "Data is provided, but can be imported directly from the URL."
   ]
  },
  {
   "cell_type": "code",
   "execution_count": 17,
   "id": "b955f97b075a4f13",
   "metadata": {
    "collapsed": false,
    "ExecuteTime": {
     "end_time": "2024-10-02T21:13:00.985200Z",
     "start_time": "2024-10-02T21:13:00.981905Z"
    }
   },
   "outputs": [],
   "source": [
    "csv_2010 = 'pm_data/ad_viz_plotval_data_2010.csv.crdownload.csv'\n",
    "csv_2011 = 'pm_data/ad_viz_plotval_data_2011.csv.crdownload.csv'\n",
    "csv_2012 = 'pm_data/ad_viz_plotval_data_2012.csv'\n",
    "csv_2013 = 'pm_data/ad_viz_plotval_data_2013.csv'\n",
    "csv_2014 = 'pm_data/ad_viz_plotval_data_2014.csv'\n",
    "csv_2015 = 'pm_data/ad_viz_plotval_data_2015.csv'\n",
    "csv_2016 = 'pm_data/ad_vis_plotval_data_2016.csv'\n",
    "csv_2017 = 'pm_data/ad_viz_plotval_data_2017.csv'\n",
    "csv_2018 = 'pm_data/ad_viz_plotval_data2018.csv'\n",
    "csv_2019 = 'pm_data/ad_viz_plotval_data2019.csv'\n",
    "csv_2020 = 'pm_data/ad_viz_plotval_data2020.csv'\n",
    "csv_2021 = 'pm_data/ad_viz_plotval_data2020.csv'\n",
    "csv_2022 = 'pm_data/ad_viz_plotval_data2022.csv'\n",
    "csv_2023 = 'pm_data/ad_viz_plotval_data2023.csv'\n",
    "csv_2024 = 'pm_data/ad_viz_plotval_data2024.csv'"
   ]
  },
  {
   "cell_type": "markdown",
   "id": "a5955823-0033-4e1c-ab75-95c40b3d3ecb",
   "metadata": {},
   "source": [
    "#### Inspect and Clean Data \n",
    "Evaluating the dataset and determining what can be cut out. "
   ]
  },
  {
   "cell_type": "code",
   "execution_count": 18,
   "id": "d82bdff5-f84f-40b6-833a-3b2424f86284",
   "metadata": {
    "ExecuteTime": {
     "end_time": "2024-10-02T21:13:01.089438Z",
     "start_time": "2024-10-02T21:13:00.986444Z"
    }
   },
   "outputs": [
    {
     "data": {
      "text/plain": "Index(['Date', 'Source', 'Site ID', 'POC', 'Daily Mean PM2.5 Concentration',\n       'Units', 'Daily AQI Value', 'Local Site Name', 'Daily Obs Count',\n       'Percent Complete', 'AQS Parameter Code', 'AQS Parameter Description',\n       'Method Code', 'Method Description', 'CBSA Code', 'CBSA Name',\n       'State FIPS Code', 'State', 'County FIPS Code', 'County',\n       'Site Latitude', 'Site Longitude'],\n      dtype='object')"
     },
     "execution_count": 18,
     "metadata": {},
     "output_type": "execute_result"
    }
   ],
   "source": [
    "df = pd.read_csv(csv_2012)\n",
    "df.columns"
   ]
  },
  {
   "cell_type": "code",
   "execution_count": 19,
   "id": "2e7a7aba-3c87-4773-9d60-2836856949be",
   "metadata": {
    "ExecuteTime": {
     "end_time": "2024-10-02T21:13:01.097623Z",
     "start_time": "2024-10-02T21:13:01.091970Z"
    }
   },
   "outputs": [
    {
     "data": {
      "text/plain": "(44537, 22)"
     },
     "execution_count": 19,
     "metadata": {},
     "output_type": "execute_result"
    }
   ],
   "source": [
    "df.shape"
   ]
  },
  {
   "cell_type": "markdown",
   "id": "f81891ad-07de-4260-9ef2-c856b4479279",
   "metadata": {},
   "source": [
    "The columns that will be kept are: ['Date', 'Daily Mean PM2.5 Concentration','Units', 'Site ID', 'County']. From these, Data Year, Average PM 2.5/County, Number of Site IDs/County can be dermined to study the yearly average particulate matter present in each county."
   ]
  },
  {
   "cell_type": "code",
   "execution_count": 20,
   "id": "e7182e334bcea24d",
   "metadata": {
    "collapsed": false,
    "ExecuteTime": {
     "end_time": "2024-10-02T21:13:01.103741Z",
     "start_time": "2024-10-02T21:13:01.099213Z"
    }
   },
   "outputs": [],
   "source": [
    "# This function takes a file name, extracts applicable columns, \n",
    "# manipulates them into the proper format, and returns a mergeable dataframe. \n",
    "def avg_pm_value(filename): \n",
    "    # loading data\n",
    "    df = pd.read_csv(filename)\n",
    "    # We are only concerned with the following columns: \n",
    "    df = df[['Date', 'Daily Mean PM2.5 Concentration','Units', 'Site ID', 'County']]\n",
    "    # changing date column to datetime \n",
    "    df['Date'] = pd.to_datetime(df['Date'])\n",
    "    # adding year column \n",
    "    df['Data Year'] = df['Date'].dt.year\n",
    "    # determining unique sites per county \n",
    "    unique_sites_per_county = df.groupby('County')['Site ID'].nunique().reset_index()\n",
    "    unique_sites_per_county.rename(columns={'Site ID': 'Number of Site IDs/County'}, inplace=True) \n",
    "    # average pm2.5 values per county \n",
    "    avg_pm_value =df.groupby(['County', 'Data Year'])['Daily Mean PM2.5 Concentration'].mean().reset_index()\n",
    "    avg_pm_value.rename(columns={'Daily Mean PM2.5 Concentration': 'Average PM 2.5/County'}, inplace=True)\n",
    "    # merging tables \n",
    "    avg_df = unique_sites_per_county.merge(avg_pm_value, on='County')\n",
    "    avg_df = avg_df.pivot_table(index ='County', values = ['Data Year','Average PM 2.5/County', 'Number of Site IDs/County'])\n",
    "    avg_df.reset_index(inplace=True)\n",
    "    return avg_df"
   ]
  },
  {
   "cell_type": "code",
   "execution_count": 21,
   "id": "b70898d1585bc501",
   "metadata": {
    "collapsed": false,
    "ExecuteTime": {
     "end_time": "2024-10-02T21:13:03.389156Z",
     "start_time": "2024-10-02T21:13:01.105295Z"
    }
   },
   "outputs": [],
   "source": [
    "# Putting all file names through avg_pm_value function \n",
    "df_2010 = avg_pm_value(csv_2010)\n",
    "df_2011 = avg_pm_value(csv_2011)\n",
    "df_2012 = avg_pm_value(csv_2012)\n",
    "df_2013 = avg_pm_value(csv_2013)\n",
    "df_2014 = avg_pm_value(csv_2014)\n",
    "df_2015 = avg_pm_value(csv_2015)\n",
    "df_2016 = avg_pm_value(csv_2016) \n",
    "df_2017 = avg_pm_value(csv_2017)\n",
    "df_2018 = avg_pm_value(csv_2018)\n",
    "df_2019 = avg_pm_value(csv_2019)\n",
    "df_2020 = avg_pm_value(csv_2020)\n",
    "df_2021 = avg_pm_value(csv_2021)\n",
    "df_2022 = avg_pm_value(csv_2022)\n",
    "df_2023 = avg_pm_value(csv_2023)\n",
    "df_2024 = avg_pm_value(csv_2024)"
   ]
  },
  {
   "cell_type": "code",
   "execution_count": 22,
   "id": "29173cb2abc283b5",
   "metadata": {
    "collapsed": false,
    "ExecuteTime": {
     "end_time": "2024-10-02T21:13:03.400719Z",
     "start_time": "2024-10-02T21:13:03.390422Z"
    }
   },
   "outputs": [
    {
     "data": {
      "text/plain": "   Data Year        County  Average PM 2.5/County  Number of Site IDs/County\n0       2010       Alameda               8.165623                        5.0\n1       2010         Butte               8.776451                        3.0\n2       2010     Calaveras               7.380349                        1.0\n3       2010        Colusa               6.054913                        1.0\n4       2010  Contra Costa               7.606920                        1.0",
      "text/html": "<div>\n<style scoped>\n    .dataframe tbody tr th:only-of-type {\n        vertical-align: middle;\n    }\n\n    .dataframe tbody tr th {\n        vertical-align: top;\n    }\n\n    .dataframe thead th {\n        text-align: right;\n    }\n</style>\n<table border=\"1\" class=\"dataframe\">\n  <thead>\n    <tr style=\"text-align: right;\">\n      <th></th>\n      <th>Data Year</th>\n      <th>County</th>\n      <th>Average PM 2.5/County</th>\n      <th>Number of Site IDs/County</th>\n    </tr>\n  </thead>\n  <tbody>\n    <tr>\n      <th>0</th>\n      <td>2010</td>\n      <td>Alameda</td>\n      <td>8.165623</td>\n      <td>5.0</td>\n    </tr>\n    <tr>\n      <th>1</th>\n      <td>2010</td>\n      <td>Butte</td>\n      <td>8.776451</td>\n      <td>3.0</td>\n    </tr>\n    <tr>\n      <th>2</th>\n      <td>2010</td>\n      <td>Calaveras</td>\n      <td>7.380349</td>\n      <td>1.0</td>\n    </tr>\n    <tr>\n      <th>3</th>\n      <td>2010</td>\n      <td>Colusa</td>\n      <td>6.054913</td>\n      <td>1.0</td>\n    </tr>\n    <tr>\n      <th>4</th>\n      <td>2010</td>\n      <td>Contra Costa</td>\n      <td>7.606920</td>\n      <td>1.0</td>\n    </tr>\n  </tbody>\n</table>\n</div>"
     },
     "execution_count": 22,
     "metadata": {},
     "output_type": "execute_result"
    }
   ],
   "source": [
    "# Creating one dataframe from each year. \n",
    "df_2010_2024= pd.concat([df_2010, df_2011, df_2012, df_2013, df_2014, df_2015, df_2016, df_2017, df_2018, df_2019, df_2020, df_2021, df_2022, df_2023, df_2024], ignore_index=True, axis = 0)\n",
    "df_2010_2024['Data Year'] = df_2010_2024['Data Year'].astype(int)\n",
    "df_2010_2024 = df_2010_2024[['Data Year', 'County', 'Average PM 2.5/County', 'Number of Site IDs/County']]\n",
    "# renaming dataset for clarity \n",
    "df_pm = df_2010_2024\n",
    "df_pm.head()"
   ]
  },
  {
   "cell_type": "markdown",
   "id": "3b537264",
   "metadata": {},
   "source": [
    "# California Population - Import, Cleaning, and Manipulation \n",
    "We will use two population datasets: one detailing the total population per county, and another focusing on the population of individuals aged 18 and above per county. This allows us to compare the overall county populations with the potential number of car owners, as most individuals under 18 typically do not own a car."
   ]
  },
  {
   "cell_type": "markdown",
   "id": "18ab2e14f15a4573",
   "metadata": {
    "collapsed": false
   },
   "source": [
    "### Total Population\n",
    "From data on births, deaths, and migration, the State of California Department of Finances releases an estimate of the state's county population. \n",
    "Each dataset is organized by decade, and can be found at: https://dof.ca.gov/forecasting/demographics/estimates/. Data from 2010 to 2023 was downloaded as \n",
    "\"E-4_2010-2020-Internet-Version.xlsx\" and \"E-4_2021_2024_InternetVersion (1).xlsx.\"\n",
    "\n",
    "Each dateset contains each county's population estimate by year. \n",
    "\n",
    "Our goal for the datasets is to clean and merge them into a single dataframe that contains the population estimate by county during 2010-2023. "
   ]
  },
  {
   "cell_type": "markdown",
   "source": [
    "#### Import Data\n",
    "Each dataset had multiple sheets, but we were interested in the sheet that recorded the population by county ('Table 1 County State')."
   ],
   "metadata": {
    "collapsed": false
   },
   "id": "7216b1a4b9f85f37"
  },
  {
   "cell_type": "code",
   "execution_count": 23,
   "id": "423a1e022119c694",
   "metadata": {
    "ExecuteTime": {
     "end_time": "2024-10-02T21:13:06.267254Z",
     "start_time": "2024-10-02T21:13:03.401562Z"
    }
   },
   "outputs": [],
   "source": [
    "df_2010_2020 = pd.read_excel('./E-4_2010-2020-Internet-Version.xlsx', sheet_name= 'Table 1 County State')\n",
    "df_2021_2023 = pd.read_excel('./E-4_2021_2024_InternetVersion (1).xlsx',sheet_name='Table 1 County State')"
   ]
  },
  {
   "cell_type": "code",
   "outputs": [
    {
     "data": {
      "text/plain": "  Table 1: E-4 Population Estimates for Counties and State 2011-2020 with 2010 Benchmark  \\\n0                                             COUNTY                                       \n1                               Alameda                                                    \n2                               Alpine                                                     \n3                               Amador                                                     \n4                               Butte                                                      \n\n  Unnamed: 1 Unnamed: 2 Unnamed: 3 Unnamed: 4 Unnamed: 5 Unnamed: 6  \\\n0   4/1/2010   1/1/2011   1/1/2012   1/1/2013   1/1/2014   1/1/2015   \n1    1510271    1527169    1549193    1575139    1597747    1622205   \n2       1175       1174       1176       1180       1185       1190   \n3      38091      37089      37272      37044      37089      37453   \n4     220000     221377     222623     224391     225737     227400   \n\n  Unnamed: 7 Unnamed: 8 Unnamed: 9 Unnamed: 10 Unnamed: 11 Unnamed: 12  \\\n0   1/1/2016   1/1/2017   1/1/2018    1/1/2019    1/1/2020    4/1/2020   \n1    1641983    1656919    1666247     1675964     1681337     1682353   \n2       1196       1201       1205        1201        1204        1204   \n3      37663      38807      39708       40227       40426       40474   \n4     228198     230412     231774      227263      216090      211632   \n\n  Unnamed: 13 Unnamed: 14  \n0     Column1     Column2  \n1         NaN         NaN  \n2         NaN         NaN  \n3         NaN         NaN  \n4         NaN         NaN  ",
      "text/html": "<div>\n<style scoped>\n    .dataframe tbody tr th:only-of-type {\n        vertical-align: middle;\n    }\n\n    .dataframe tbody tr th {\n        vertical-align: top;\n    }\n\n    .dataframe thead th {\n        text-align: right;\n    }\n</style>\n<table border=\"1\" class=\"dataframe\">\n  <thead>\n    <tr style=\"text-align: right;\">\n      <th></th>\n      <th>Table 1: E-4 Population Estimates for Counties and State 2011-2020 with 2010 Benchmark</th>\n      <th>Unnamed: 1</th>\n      <th>Unnamed: 2</th>\n      <th>Unnamed: 3</th>\n      <th>Unnamed: 4</th>\n      <th>Unnamed: 5</th>\n      <th>Unnamed: 6</th>\n      <th>Unnamed: 7</th>\n      <th>Unnamed: 8</th>\n      <th>Unnamed: 9</th>\n      <th>Unnamed: 10</th>\n      <th>Unnamed: 11</th>\n      <th>Unnamed: 12</th>\n      <th>Unnamed: 13</th>\n      <th>Unnamed: 14</th>\n    </tr>\n  </thead>\n  <tbody>\n    <tr>\n      <th>0</th>\n      <td>COUNTY</td>\n      <td>4/1/2010</td>\n      <td>1/1/2011</td>\n      <td>1/1/2012</td>\n      <td>1/1/2013</td>\n      <td>1/1/2014</td>\n      <td>1/1/2015</td>\n      <td>1/1/2016</td>\n      <td>1/1/2017</td>\n      <td>1/1/2018</td>\n      <td>1/1/2019</td>\n      <td>1/1/2020</td>\n      <td>4/1/2020</td>\n      <td>Column1</td>\n      <td>Column2</td>\n    </tr>\n    <tr>\n      <th>1</th>\n      <td>Alameda</td>\n      <td>1510271</td>\n      <td>1527169</td>\n      <td>1549193</td>\n      <td>1575139</td>\n      <td>1597747</td>\n      <td>1622205</td>\n      <td>1641983</td>\n      <td>1656919</td>\n      <td>1666247</td>\n      <td>1675964</td>\n      <td>1681337</td>\n      <td>1682353</td>\n      <td>NaN</td>\n      <td>NaN</td>\n    </tr>\n    <tr>\n      <th>2</th>\n      <td>Alpine</td>\n      <td>1175</td>\n      <td>1174</td>\n      <td>1176</td>\n      <td>1180</td>\n      <td>1185</td>\n      <td>1190</td>\n      <td>1196</td>\n      <td>1201</td>\n      <td>1205</td>\n      <td>1201</td>\n      <td>1204</td>\n      <td>1204</td>\n      <td>NaN</td>\n      <td>NaN</td>\n    </tr>\n    <tr>\n      <th>3</th>\n      <td>Amador</td>\n      <td>38091</td>\n      <td>37089</td>\n      <td>37272</td>\n      <td>37044</td>\n      <td>37089</td>\n      <td>37453</td>\n      <td>37663</td>\n      <td>38807</td>\n      <td>39708</td>\n      <td>40227</td>\n      <td>40426</td>\n      <td>40474</td>\n      <td>NaN</td>\n      <td>NaN</td>\n    </tr>\n    <tr>\n      <th>4</th>\n      <td>Butte</td>\n      <td>220000</td>\n      <td>221377</td>\n      <td>222623</td>\n      <td>224391</td>\n      <td>225737</td>\n      <td>227400</td>\n      <td>228198</td>\n      <td>230412</td>\n      <td>231774</td>\n      <td>227263</td>\n      <td>216090</td>\n      <td>211632</td>\n      <td>NaN</td>\n      <td>NaN</td>\n    </tr>\n  </tbody>\n</table>\n</div>"
     },
     "execution_count": 24,
     "metadata": {},
     "output_type": "execute_result"
    }
   ],
   "source": [
    "df_2010_2020.head()"
   ],
   "metadata": {
    "collapsed": false,
    "ExecuteTime": {
     "end_time": "2024-10-02T21:13:06.272926Z",
     "start_time": "2024-10-02T21:13:06.267986Z"
    }
   },
   "id": "b280d85912223f82",
   "execution_count": 24
  },
  {
   "cell_type": "code",
   "outputs": [
    {
     "data": {
      "text/plain": "                                      About the Data Unnamed: 1 Unnamed: 2  \\\n0  Table 1: E-4 Population Estimates for Counties...        NaN        NaN   \n1                                             COUNTY   4/1/2020   1/1/2021   \n2                               Alameda                 1682353    1666341   \n3                               Alpine                     1204       1195   \n4                               Amador                    40474      40047   \n\n  Unnamed: 3 Unnamed: 4 Unnamed: 5  \n0        NaN        NaN        NaN  \n1   1/1/2022   1/1/2023   1/1/2024  \n2    1643683    1650656    1641869  \n3       1190       1183       1179  \n4      40010      39924      39611  ",
      "text/html": "<div>\n<style scoped>\n    .dataframe tbody tr th:only-of-type {\n        vertical-align: middle;\n    }\n\n    .dataframe tbody tr th {\n        vertical-align: top;\n    }\n\n    .dataframe thead th {\n        text-align: right;\n    }\n</style>\n<table border=\"1\" class=\"dataframe\">\n  <thead>\n    <tr style=\"text-align: right;\">\n      <th></th>\n      <th>About the Data</th>\n      <th>Unnamed: 1</th>\n      <th>Unnamed: 2</th>\n      <th>Unnamed: 3</th>\n      <th>Unnamed: 4</th>\n      <th>Unnamed: 5</th>\n    </tr>\n  </thead>\n  <tbody>\n    <tr>\n      <th>0</th>\n      <td>Table 1: E-4 Population Estimates for Counties...</td>\n      <td>NaN</td>\n      <td>NaN</td>\n      <td>NaN</td>\n      <td>NaN</td>\n      <td>NaN</td>\n    </tr>\n    <tr>\n      <th>1</th>\n      <td>COUNTY</td>\n      <td>4/1/2020</td>\n      <td>1/1/2021</td>\n      <td>1/1/2022</td>\n      <td>1/1/2023</td>\n      <td>1/1/2024</td>\n    </tr>\n    <tr>\n      <th>2</th>\n      <td>Alameda</td>\n      <td>1682353</td>\n      <td>1666341</td>\n      <td>1643683</td>\n      <td>1650656</td>\n      <td>1641869</td>\n    </tr>\n    <tr>\n      <th>3</th>\n      <td>Alpine</td>\n      <td>1204</td>\n      <td>1195</td>\n      <td>1190</td>\n      <td>1183</td>\n      <td>1179</td>\n    </tr>\n    <tr>\n      <th>4</th>\n      <td>Amador</td>\n      <td>40474</td>\n      <td>40047</td>\n      <td>40010</td>\n      <td>39924</td>\n      <td>39611</td>\n    </tr>\n  </tbody>\n</table>\n</div>"
     },
     "execution_count": 25,
     "metadata": {},
     "output_type": "execute_result"
    }
   ],
   "source": [
    "df_2021_2023.head()"
   ],
   "metadata": {
    "collapsed": false,
    "ExecuteTime": {
     "end_time": "2024-10-02T21:13:06.276764Z",
     "start_time": "2024-10-02T21:13:06.273462Z"
    }
   },
   "id": "4a3ef195500efff0",
   "execution_count": 25
  },
  {
   "cell_type": "markdown",
   "source": [
    "#### Format data \n",
    "As it stands, each dataset will not be able to merge with df_pm or df_vehicles. \n",
    "Let's clean up df_2010_2020 first."
   ],
   "metadata": {
    "collapsed": false
   },
   "id": "82798971c80f7a78"
  },
  {
   "cell_type": "code",
   "execution_count": 26,
   "id": "20dae4056e18aa51",
   "metadata": {
    "ExecuteTime": {
     "end_time": "2024-10-02T21:13:06.283131Z",
     "start_time": "2024-10-02T21:13:06.277346Z"
    }
   },
   "outputs": [
    {
     "data": {
      "text/plain": "                 County     2010     2011     2012     2013     2014     2015  \\\n0  Alameda               1510271  1527169  1549193  1575139  1597747  1622205   \n1  Alpine                   1175     1174     1176     1180     1185     1190   \n2  Amador                  38091    37089    37272    37044    37089    37453   \n3  Butte                  220000   221377   222623   224391   225737   227400   \n4  Calaveras               45578    45561    45544    45499    45461    45395   \n\n      2016     2017     2018     2019     2020  \n0  1641983  1656919  1666247  1675964  1681337  \n1     1196     1201     1205     1201     1204  \n2    37663    38807    39708    40227    40426  \n3   228198   230412   231774   227263   216090  \n4    45402    45355    45367    45324    45290  ",
      "text/html": "<div>\n<style scoped>\n    .dataframe tbody tr th:only-of-type {\n        vertical-align: middle;\n    }\n\n    .dataframe tbody tr th {\n        vertical-align: top;\n    }\n\n    .dataframe thead th {\n        text-align: right;\n    }\n</style>\n<table border=\"1\" class=\"dataframe\">\n  <thead>\n    <tr style=\"text-align: right;\">\n      <th></th>\n      <th>County</th>\n      <th>2010</th>\n      <th>2011</th>\n      <th>2012</th>\n      <th>2013</th>\n      <th>2014</th>\n      <th>2015</th>\n      <th>2016</th>\n      <th>2017</th>\n      <th>2018</th>\n      <th>2019</th>\n      <th>2020</th>\n    </tr>\n  </thead>\n  <tbody>\n    <tr>\n      <th>0</th>\n      <td>Alameda</td>\n      <td>1510271</td>\n      <td>1527169</td>\n      <td>1549193</td>\n      <td>1575139</td>\n      <td>1597747</td>\n      <td>1622205</td>\n      <td>1641983</td>\n      <td>1656919</td>\n      <td>1666247</td>\n      <td>1675964</td>\n      <td>1681337</td>\n    </tr>\n    <tr>\n      <th>1</th>\n      <td>Alpine</td>\n      <td>1175</td>\n      <td>1174</td>\n      <td>1176</td>\n      <td>1180</td>\n      <td>1185</td>\n      <td>1190</td>\n      <td>1196</td>\n      <td>1201</td>\n      <td>1205</td>\n      <td>1201</td>\n      <td>1204</td>\n    </tr>\n    <tr>\n      <th>2</th>\n      <td>Amador</td>\n      <td>38091</td>\n      <td>37089</td>\n      <td>37272</td>\n      <td>37044</td>\n      <td>37089</td>\n      <td>37453</td>\n      <td>37663</td>\n      <td>38807</td>\n      <td>39708</td>\n      <td>40227</td>\n      <td>40426</td>\n    </tr>\n    <tr>\n      <th>3</th>\n      <td>Butte</td>\n      <td>220000</td>\n      <td>221377</td>\n      <td>222623</td>\n      <td>224391</td>\n      <td>225737</td>\n      <td>227400</td>\n      <td>228198</td>\n      <td>230412</td>\n      <td>231774</td>\n      <td>227263</td>\n      <td>216090</td>\n    </tr>\n    <tr>\n      <th>4</th>\n      <td>Calaveras</td>\n      <td>45578</td>\n      <td>45561</td>\n      <td>45544</td>\n      <td>45499</td>\n      <td>45461</td>\n      <td>45395</td>\n      <td>45402</td>\n      <td>45355</td>\n      <td>45367</td>\n      <td>45324</td>\n      <td>45290</td>\n    </tr>\n  </tbody>\n</table>\n</div>"
     },
     "execution_count": 26,
     "metadata": {},
     "output_type": "execute_result"
    }
   ],
   "source": [
    " # Renaming unnamed columns to correlated year\n",
    "mapping = {\n",
    "    'Table 1: E-4 Population Estimates for Counties and State 2011-2020 with 2010 Benchmark': 'County',\n",
    "    'Unnamed: 1': '2010',\n",
    "    'Unnamed: 2': '2011',\n",
    "    'Unnamed: 3': '2012',\n",
    "    'Unnamed: 4': '2013',\n",
    "    'Unnamed: 5': '2014',\n",
    "    'Unnamed: 6': '2015',\n",
    "    'Unnamed: 7': '2016',\n",
    "    'Unnamed: 8': '2017',\n",
    "    'Unnamed: 9': '2018',\n",
    "    'Unnamed: 10': '2019',\n",
    "    'Unnamed: 11': '2020'\n",
    "}\n",
    "df_2010_2020.rename(columns=mapping, inplace=True)\n",
    "# Removing Unnessary Columns \n",
    "df_2010_2020 = df_2010_2020.drop(columns=['Unnamed: 12', 'Unnamed: 13', 'Unnamed: 14'])\n",
    "# Removing 'State Total' from 'County' and redundant row\n",
    "df_2010_2020 = df_2010_2020[~df_2010_2020['County'].isin(['State Total', 'COUNTY'])]\n",
    "df_2010_2020.reset_index(drop=True, inplace=True)\n",
    "df_2010_2020.head()"
   ]
  },
  {
   "cell_type": "code",
   "execution_count": 27,
   "id": "fc5563fc",
   "metadata": {
    "ExecuteTime": {
     "end_time": "2024-10-02T21:13:06.288190Z",
     "start_time": "2024-10-02T21:13:06.283626Z"
    }
   },
   "outputs": [
    {
     "data": {
      "text/plain": "                 County     2021     2022     2023     2024\n0  Alameda               1666341  1643683  1650656  1641869\n1  Alpine                   1195     1190     1183     1179\n2  Amador                  40047    40010    39924    39611\n3  Butte                  207403   206184   206579   205928\n4  Calaveras               45259    45021    44899    44842",
      "text/html": "<div>\n<style scoped>\n    .dataframe tbody tr th:only-of-type {\n        vertical-align: middle;\n    }\n\n    .dataframe tbody tr th {\n        vertical-align: top;\n    }\n\n    .dataframe thead th {\n        text-align: right;\n    }\n</style>\n<table border=\"1\" class=\"dataframe\">\n  <thead>\n    <tr style=\"text-align: right;\">\n      <th></th>\n      <th>County</th>\n      <th>2021</th>\n      <th>2022</th>\n      <th>2023</th>\n      <th>2024</th>\n    </tr>\n  </thead>\n  <tbody>\n    <tr>\n      <th>0</th>\n      <td>Alameda</td>\n      <td>1666341</td>\n      <td>1643683</td>\n      <td>1650656</td>\n      <td>1641869</td>\n    </tr>\n    <tr>\n      <th>1</th>\n      <td>Alpine</td>\n      <td>1195</td>\n      <td>1190</td>\n      <td>1183</td>\n      <td>1179</td>\n    </tr>\n    <tr>\n      <th>2</th>\n      <td>Amador</td>\n      <td>40047</td>\n      <td>40010</td>\n      <td>39924</td>\n      <td>39611</td>\n    </tr>\n    <tr>\n      <th>3</th>\n      <td>Butte</td>\n      <td>207403</td>\n      <td>206184</td>\n      <td>206579</td>\n      <td>205928</td>\n    </tr>\n    <tr>\n      <th>4</th>\n      <td>Calaveras</td>\n      <td>45259</td>\n      <td>45021</td>\n      <td>44899</td>\n      <td>44842</td>\n    </tr>\n  </tbody>\n</table>\n</div>"
     },
     "execution_count": 27,
     "metadata": {},
     "output_type": "execute_result"
    }
   ],
   "source": [
    "# Now let's clean up the second dataset \n",
    "# renaming unnamed columns to correlated year\n",
    "mapping_2 = {\n",
    "    'About the Data': 'County',\n",
    "    'Unnamed: 2': '2021',\n",
    "    'Unnamed: 3': '2022',\n",
    "    'Unnamed: 4': '2023',\n",
    "    'Unnamed: 5': '2024'\n",
    "}\n",
    "df_2021_2023.rename(columns=mapping_2, inplace=True)\n",
    "df_2021_2023 = df_2021_2023.drop(columns=['Unnamed: 1'])\n",
    "# Removing 'State Total' from 'County' and redundant rows\n",
    "df_2021_2023 = df_2021_2023[~df_2021_2023['County'].isin(['State Total', 'COUNTY', 'Table 1: E-4 Population Estimates for Counties and State 2021-2024 with 2020 Benchmark'])]\n",
    "df_2021_2023.reset_index(drop=True, inplace=True)\n",
    "df_2021_2023.head()"
   ]
  },
  {
   "cell_type": "markdown",
   "source": [
    "Now that they look a little more readable, we will merge the datasets into one. "
   ],
   "metadata": {
    "collapsed": false
   },
   "id": "72e05edac439399e"
  },
  {
   "cell_type": "code",
   "execution_count": 28,
   "id": "cebeed130f8cf805",
   "metadata": {
    "ExecuteTime": {
     "end_time": "2024-10-02T21:13:06.294573Z",
     "start_time": "2024-10-02T21:13:06.288807Z"
    }
   },
   "outputs": [
    {
     "data": {
      "text/plain": "                 County     2010     2011     2012     2013     2014     2015  \\\n0  Alameda               1510271  1527169  1549193  1575139  1597747  1622205   \n1  Alpine                   1175     1174     1176     1180     1185     1190   \n2  Amador                  38091    37089    37272    37044    37089    37453   \n3  Butte                  220000   221377   222623   224391   225737   227400   \n4  Calaveras               45578    45561    45544    45499    45461    45395   \n\n      2016     2017     2018     2019     2020     2021     2022     2023  \\\n0  1641983  1656919  1666247  1675964  1681337  1666341  1643683  1650656   \n1     1196     1201     1205     1201     1204     1195     1190     1183   \n2    37663    38807    39708    40227    40426    40047    40010    39924   \n3   228198   230412   231774   227263   216090   207403   206184   206579   \n4    45402    45355    45367    45324    45290    45259    45021    44899   \n\n      2024  \n0  1641869  \n1     1179  \n2    39611  \n3   205928  \n4    44842  ",
      "text/html": "<div>\n<style scoped>\n    .dataframe tbody tr th:only-of-type {\n        vertical-align: middle;\n    }\n\n    .dataframe tbody tr th {\n        vertical-align: top;\n    }\n\n    .dataframe thead th {\n        text-align: right;\n    }\n</style>\n<table border=\"1\" class=\"dataframe\">\n  <thead>\n    <tr style=\"text-align: right;\">\n      <th></th>\n      <th>County</th>\n      <th>2010</th>\n      <th>2011</th>\n      <th>2012</th>\n      <th>2013</th>\n      <th>2014</th>\n      <th>2015</th>\n      <th>2016</th>\n      <th>2017</th>\n      <th>2018</th>\n      <th>2019</th>\n      <th>2020</th>\n      <th>2021</th>\n      <th>2022</th>\n      <th>2023</th>\n      <th>2024</th>\n    </tr>\n  </thead>\n  <tbody>\n    <tr>\n      <th>0</th>\n      <td>Alameda</td>\n      <td>1510271</td>\n      <td>1527169</td>\n      <td>1549193</td>\n      <td>1575139</td>\n      <td>1597747</td>\n      <td>1622205</td>\n      <td>1641983</td>\n      <td>1656919</td>\n      <td>1666247</td>\n      <td>1675964</td>\n      <td>1681337</td>\n      <td>1666341</td>\n      <td>1643683</td>\n      <td>1650656</td>\n      <td>1641869</td>\n    </tr>\n    <tr>\n      <th>1</th>\n      <td>Alpine</td>\n      <td>1175</td>\n      <td>1174</td>\n      <td>1176</td>\n      <td>1180</td>\n      <td>1185</td>\n      <td>1190</td>\n      <td>1196</td>\n      <td>1201</td>\n      <td>1205</td>\n      <td>1201</td>\n      <td>1204</td>\n      <td>1195</td>\n      <td>1190</td>\n      <td>1183</td>\n      <td>1179</td>\n    </tr>\n    <tr>\n      <th>2</th>\n      <td>Amador</td>\n      <td>38091</td>\n      <td>37089</td>\n      <td>37272</td>\n      <td>37044</td>\n      <td>37089</td>\n      <td>37453</td>\n      <td>37663</td>\n      <td>38807</td>\n      <td>39708</td>\n      <td>40227</td>\n      <td>40426</td>\n      <td>40047</td>\n      <td>40010</td>\n      <td>39924</td>\n      <td>39611</td>\n    </tr>\n    <tr>\n      <th>3</th>\n      <td>Butte</td>\n      <td>220000</td>\n      <td>221377</td>\n      <td>222623</td>\n      <td>224391</td>\n      <td>225737</td>\n      <td>227400</td>\n      <td>228198</td>\n      <td>230412</td>\n      <td>231774</td>\n      <td>227263</td>\n      <td>216090</td>\n      <td>207403</td>\n      <td>206184</td>\n      <td>206579</td>\n      <td>205928</td>\n    </tr>\n    <tr>\n      <th>4</th>\n      <td>Calaveras</td>\n      <td>45578</td>\n      <td>45561</td>\n      <td>45544</td>\n      <td>45499</td>\n      <td>45461</td>\n      <td>45395</td>\n      <td>45402</td>\n      <td>45355</td>\n      <td>45367</td>\n      <td>45324</td>\n      <td>45290</td>\n      <td>45259</td>\n      <td>45021</td>\n      <td>44899</td>\n      <td>44842</td>\n    </tr>\n  </tbody>\n</table>\n</div>"
     },
     "execution_count": 28,
     "metadata": {},
     "output_type": "execute_result"
    }
   ],
   "source": [
    "total_pop_df = pd.merge(df_2010_2020, df_2021_2023, on=['County'], how='outer')\n",
    "total_pop_df.head()"
   ]
  },
  {
   "cell_type": "markdown",
   "source": [
    "We'll pivot table so that the years also form a column, just like df_vehicles and df_pm. "
   ],
   "metadata": {
    "collapsed": false
   },
   "id": "2df1ead089ba25f8"
  },
  {
   "cell_type": "code",
   "execution_count": 47,
   "id": "39b6fcd1",
   "metadata": {
    "ExecuteTime": {
     "end_time": "2024-10-02T21:15:44.409987Z",
     "start_time": "2024-10-02T21:15:44.375760Z"
    }
   },
   "outputs": [
    {
     "data": {
      "text/plain": "                 County  Data Year  Population   Z Score\n0  Alameda                    2010     1510271  0.585020\n1  Alpine                     2010        1175 -0.463909\n2  Amador                     2010       38091 -0.438250\n3  Butte                      2010      220000 -0.311810\n4  Calaveras                  2010       45578 -0.433046",
      "text/html": "<div>\n<style scoped>\n    .dataframe tbody tr th:only-of-type {\n        vertical-align: middle;\n    }\n\n    .dataframe tbody tr th {\n        vertical-align: top;\n    }\n\n    .dataframe thead th {\n        text-align: right;\n    }\n</style>\n<table border=\"1\" class=\"dataframe\">\n  <thead>\n    <tr style=\"text-align: right;\">\n      <th></th>\n      <th>County</th>\n      <th>Data Year</th>\n      <th>Population</th>\n      <th>Z Score</th>\n    </tr>\n  </thead>\n  <tbody>\n    <tr>\n      <th>0</th>\n      <td>Alameda</td>\n      <td>2010</td>\n      <td>1510271</td>\n      <td>0.585020</td>\n    </tr>\n    <tr>\n      <th>1</th>\n      <td>Alpine</td>\n      <td>2010</td>\n      <td>1175</td>\n      <td>-0.463909</td>\n    </tr>\n    <tr>\n      <th>2</th>\n      <td>Amador</td>\n      <td>2010</td>\n      <td>38091</td>\n      <td>-0.438250</td>\n    </tr>\n    <tr>\n      <th>3</th>\n      <td>Butte</td>\n      <td>2010</td>\n      <td>220000</td>\n      <td>-0.311810</td>\n    </tr>\n    <tr>\n      <th>4</th>\n      <td>Calaveras</td>\n      <td>2010</td>\n      <td>45578</td>\n      <td>-0.433046</td>\n    </tr>\n  </tbody>\n</table>\n</div>"
     },
     "execution_count": 47,
     "metadata": {},
     "output_type": "execute_result"
    }
   ],
   "source": [
    "df_pop = pd.melt(total_pop_df, id_vars=['County'], var_name='Year', value_name='Population')\n",
    "df_pop['Year'] = df_pop['Year'].str.replace(\":\", \"\", regex=False)\n",
    "df_pop.rename(columns={'Year': 'Data Year'}, inplace=True) \n",
    "# converting the 'Population' column to numeric \n",
    "df_pop['Population'] = pd.to_numeric(df_pop['Population'], errors='coerce')\n",
    "# calculating the Z-score for the 'Population' column\n",
    "df_pop['Z Score'] = zscore(df_pop['Population'])\n",
    "# formatting Data Year to integer  \n",
    "df_pop['Data Year'] = df_pop['Data Year'].astype(int)\n",
    "df_pop.head()"
   ]
  },
  {
   "cell_type": "markdown",
   "id": "f9a99607a16bde29",
   "metadata": {
    "collapsed": false
   },
   "source": [
    "### Population with Respect to Age \n",
    "Most car owners are 18 years old and above,"
   ]
  },
  {
   "cell_type": "code",
   "execution_count": 30,
   "id": "94ce26b56e063a05",
   "metadata": {
    "collapsed": false,
    "ExecuteTime": {
     "end_time": "2024-10-02T21:13:06.306959Z",
     "start_time": "2024-10-02T21:13:06.303461Z"
    }
   },
   "outputs": [],
   "source": [
    "# This function takes a dataset and its corresponding year and returns a mergeable dataframe. Again, our source dataset was seperated by decade, and we uploaded the corresponding datasets to GitHub (2010-2023).\n",
    "\n",
    "def aged_population(dataset, datayear):\n",
    "    # load files \n",
    "    df = pd.read_csv(dataset)\n",
    "    df = df[df['Label (Grouping)'].str.strip() == '18 years and over']\n",
    "    df = df[df['Label (Grouping)'].str.contains('18 years and over', case=False, na=False)]\n",
    "    # extract unique county names\n",
    "    county_names = [col.split(\"!!\")[0] for col in df.columns if \"California\" in col]\n",
    "    county_names = list(set(county_names))\n",
    "    # extract county total and margin of error from main dataset\n",
    "    county_total = [f\"{county}!!Total!!Estimate\" for county in county_names]\n",
    "    county_margin_of_error = [f\"{county}!!Total!!Margin of Error\" for county in county_names]\n",
    "    # making df of those\n",
    "    county_total = df.loc[:, county_total]\n",
    "    county_margin_of_error = df.loc[:, county_margin_of_error]\n",
    "    # creating county total population estimate df \n",
    "    ct_df =county_total.transpose()\n",
    "    ct_df = ct_df.reset_index() \n",
    "    # some years record >21, others >18. \n",
    "    ct_df.columns = ['County' , 'Population Estimate, >18']\n",
    "    ct_df['County'] = ct_df['County'].str.split(' County').str[0]\n",
    "    ct_df = ct_df.sort_values(by='County', ascending=True).reset_index(drop=True)\n",
    "    # creating county margin of error \n",
    "    me_df = county_margin_of_error.transpose()\n",
    "    me_df = me_df.reset_index() \n",
    "    me_df.columns = ['County' , 'Population Margin of Error, >18']\n",
    "    me_df['County'] = me_df['County'].str.split(' County').str[0]\n",
    "    me_df = me_df.sort_values(by='County', ascending=True).reset_index(drop=True) \n",
    "    # merging on county \n",
    "    ct_me_df = pd.merge(ct_df, me_df, how='inner', on = ['County'])\n",
    "    # creating Data Year column to datetime \n",
    "    ct_me_df['Data Year'] = datayear\n",
    "    ct_me_df['Data Year'] = ct_me_df['Data Year'].astype(int)\n",
    "    return ct_me_df"
   ]
  },
  {
   "cell_type": "code",
   "execution_count": 31,
   "id": "8bee9726798adb5d",
   "metadata": {
    "collapsed": false,
    "ExecuteTime": {
     "end_time": "2024-10-02T21:13:06.437678Z",
     "start_time": "2024-10-02T21:13:06.307615Z"
    }
   },
   "outputs": [
    {
     "data": {
      "text/plain": "         County Population Estimate, >18 Population Margin of Error, >18  \\\n0       Alameda                    77.5%                           *****   \n1         Butte                    79.3%                            ±0.3   \n2  Contra Costa                    75.2%                            ±0.1   \n3     El Dorado                    77.2%                            ±0.2   \n4        Fresno                    70.1%                            ±0.1   \n\n   Data Year  \n0       2010  \n1       2010  \n2       2010  \n3       2010  \n4       2010  ",
      "text/html": "<div>\n<style scoped>\n    .dataframe tbody tr th:only-of-type {\n        vertical-align: middle;\n    }\n\n    .dataframe tbody tr th {\n        vertical-align: top;\n    }\n\n    .dataframe thead th {\n        text-align: right;\n    }\n</style>\n<table border=\"1\" class=\"dataframe\">\n  <thead>\n    <tr style=\"text-align: right;\">\n      <th></th>\n      <th>County</th>\n      <th>Population Estimate, &gt;18</th>\n      <th>Population Margin of Error, &gt;18</th>\n      <th>Data Year</th>\n    </tr>\n  </thead>\n  <tbody>\n    <tr>\n      <th>0</th>\n      <td>Alameda</td>\n      <td>77.5%</td>\n      <td>*****</td>\n      <td>2010</td>\n    </tr>\n    <tr>\n      <th>1</th>\n      <td>Butte</td>\n      <td>79.3%</td>\n      <td>±0.3</td>\n      <td>2010</td>\n    </tr>\n    <tr>\n      <th>2</th>\n      <td>Contra Costa</td>\n      <td>75.2%</td>\n      <td>±0.1</td>\n      <td>2010</td>\n    </tr>\n    <tr>\n      <th>3</th>\n      <td>El Dorado</td>\n      <td>77.2%</td>\n      <td>±0.2</td>\n      <td>2010</td>\n    </tr>\n    <tr>\n      <th>4</th>\n      <td>Fresno</td>\n      <td>70.1%</td>\n      <td>±0.1</td>\n      <td>2010</td>\n    </tr>\n  </tbody>\n</table>\n</div>"
     },
     "execution_count": 31,
     "metadata": {},
     "output_type": "execute_result"
    }
   ],
   "source": [
    "# run function with dataset files and the corresponding year. \n",
    "totpop2010 = aged_population('pm_data/Pop_Over_21_2010.S0101-2024-09-27T210322.csv', 2010)\n",
    "totpop2011 = aged_population('pm_data/Pop_Over_21_2011.S0101-2024-09-27T210305.csv', 2011)\n",
    "totpop2012 = aged_population('pm_data/Pop_Over_21_2012.S0101-2024-09-27T210137.csv', 2012)\n",
    "totpop2013 = aged_population('pm_data/Pop_Over_21_2012.S0101-2024-09-27T210137.csv', 2013)\n",
    "totpop2014 = aged_population('pm_data/Pop_Over_21_2012.S0101-2024-09-27T210137.csv', 2014)\n",
    "totpop2015 = aged_population('pm_data/Pop_Over_21_2012.S0101-2024-09-27T210137.csv', 2015)\n",
    "totpop2016 = aged_population('pm_data/Pop_Over_21_2012.S0101-2024-09-27T210137.csv', 2016)\n",
    "totpop2017 = aged_population('pm_data/Pop_Over_21_2012.S0101-2024-09-27T210137.csv', 2017)\n",
    "totpop2018 = aged_population('pm_data/Pop_Over_21_2012.S0101-2024-09-27T210137.csv', 2018)\n",
    "totpop2019 = aged_population('pm_data/Pop_Over_21_2012.S0101-2024-09-27T210137.csv', 2019)\n",
    "totpop2020 = aged_population('pm_data/pop_over_18_2020.csv', 2020)\n",
    "totpop2021 = aged_population('pm_data/Pop_Over_21_2012.S0101-2024-09-27T210137.csv', 2021)\n",
    "totpop2022 = aged_population('pm_data/Pop_Over_21_2022.csv', 2022)\n",
    "totpop2023 = aged_population('pm_data/Pop_Over_21_2023.S0101-2024-09-27T205616.csv', 2023)\n",
    "# stacking totpop\n",
    "dfs = [totpop2010, totpop2011, totpop2012, totpop2013, totpop2014, totpop2015, totpop2016, totpop2017, totpop2018, totpop2019, totpop2021, totpop2022, totpop2023]\n",
    "df_aged_pop = pd.concat(dfs, ignore_index= True)\n",
    "df_aged_pop.head()"
   ]
  },
  {
   "cell_type": "markdown",
   "source": [
    "Notice how df_aged_pop['Population Estimate, >18'] has some percentages and integers. We will manage this when we merge it with the rest of the data. \n",
    "Furthermore, missing values for df_aged_pop['Population Margin of Error, >18'] are not too concerning as its purpose is to give more understanding to the population estimate. "
   ],
   "metadata": {
    "collapsed": false
   },
   "id": "2bd7eab8d2702177"
  },
  {
   "cell_type": "markdown",
   "id": "bbf6f34fb38ab799",
   "metadata": {
    "collapsed": false
   },
   "source": [
    "# Creating main_df"
   ]
  },
  {
   "cell_type": "markdown",
   "id": "40361754-df9c-416b-944f-608314b5a6a7",
   "metadata": {},
   "source": [
    "#### Manipulating fueltype_per_countyyear_totals_df for analysis\n",
    "Separating fueltype_per_countyyear_totals_df into two columns, Number of EVs and Number of Gas Cars, will allow for a more direct comparison between counties by year."
   ]
  },
  {
   "cell_type": "code",
   "outputs": [
    {
     "data": {
      "text/plain": "   Data Year   County Fuel Category  Number of Vehicles\n0       2010  Alameda            EV                  20\n1       2010  Alameda   Fossil Fuel              885402\n2       2010   Alpine   Fossil Fuel                1041\n3       2010   Amador            EV                   1\n4       2010   Amador   Fossil Fuel               30480",
      "text/html": "<div>\n<style scoped>\n    .dataframe tbody tr th:only-of-type {\n        vertical-align: middle;\n    }\n\n    .dataframe tbody tr th {\n        vertical-align: top;\n    }\n\n    .dataframe thead th {\n        text-align: right;\n    }\n</style>\n<table border=\"1\" class=\"dataframe\">\n  <thead>\n    <tr style=\"text-align: right;\">\n      <th></th>\n      <th>Data Year</th>\n      <th>County</th>\n      <th>Fuel Category</th>\n      <th>Number of Vehicles</th>\n    </tr>\n  </thead>\n  <tbody>\n    <tr>\n      <th>0</th>\n      <td>2010</td>\n      <td>Alameda</td>\n      <td>EV</td>\n      <td>20</td>\n    </tr>\n    <tr>\n      <th>1</th>\n      <td>2010</td>\n      <td>Alameda</td>\n      <td>Fossil Fuel</td>\n      <td>885402</td>\n    </tr>\n    <tr>\n      <th>2</th>\n      <td>2010</td>\n      <td>Alpine</td>\n      <td>Fossil Fuel</td>\n      <td>1041</td>\n    </tr>\n    <tr>\n      <th>3</th>\n      <td>2010</td>\n      <td>Amador</td>\n      <td>EV</td>\n      <td>1</td>\n    </tr>\n    <tr>\n      <th>4</th>\n      <td>2010</td>\n      <td>Amador</td>\n      <td>Fossil Fuel</td>\n      <td>30480</td>\n    </tr>\n  </tbody>\n</table>\n</div>"
     },
     "execution_count": 32,
     "metadata": {},
     "output_type": "execute_result"
    }
   ],
   "source": [
    "fueltype_per_countyyear_totals_df.head()"
   ],
   "metadata": {
    "collapsed": false,
    "ExecuteTime": {
     "end_time": "2024-10-02T21:13:06.443323Z",
     "start_time": "2024-10-02T21:13:06.438855Z"
    }
   },
   "id": "3177cae280833dd0",
   "execution_count": 32
  },
  {
   "cell_type": "code",
   "outputs": [
    {
     "data": {
      "text/plain": "   Data Year        County  Number of EV\n0       2010       Alameda            20\n1       2010        Amador             1\n2       2010  Contra Costa            10\n3       2010        Fresno             2\n4       2010      Humboldt             2",
      "text/html": "<div>\n<style scoped>\n    .dataframe tbody tr th:only-of-type {\n        vertical-align: middle;\n    }\n\n    .dataframe tbody tr th {\n        vertical-align: top;\n    }\n\n    .dataframe thead th {\n        text-align: right;\n    }\n</style>\n<table border=\"1\" class=\"dataframe\">\n  <thead>\n    <tr style=\"text-align: right;\">\n      <th></th>\n      <th>Data Year</th>\n      <th>County</th>\n      <th>Number of EV</th>\n    </tr>\n  </thead>\n  <tbody>\n    <tr>\n      <th>0</th>\n      <td>2010</td>\n      <td>Alameda</td>\n      <td>20</td>\n    </tr>\n    <tr>\n      <th>1</th>\n      <td>2010</td>\n      <td>Amador</td>\n      <td>1</td>\n    </tr>\n    <tr>\n      <th>2</th>\n      <td>2010</td>\n      <td>Contra Costa</td>\n      <td>10</td>\n    </tr>\n    <tr>\n      <th>3</th>\n      <td>2010</td>\n      <td>Fresno</td>\n      <td>2</td>\n    </tr>\n    <tr>\n      <th>4</th>\n      <td>2010</td>\n      <td>Humboldt</td>\n      <td>2</td>\n    </tr>\n  </tbody>\n</table>\n</div>"
     },
     "execution_count": 33,
     "metadata": {},
     "output_type": "execute_result"
    }
   ],
   "source": [
    "# Creating '[Number of EVs'] column from fueltype_per_countyyear_totals_df\n",
    "df_ev_vehicles = fueltype_per_countyyear_totals_df[fueltype_per_countyyear_totals_df['Fuel Category'] == 'EV']\n",
    "df_ev_vehicles = df_ev_vehicles.rename(columns={'Number of Vehicles': 'Number of EV'})\n",
    "df_ev_vehicles = df_ev_vehicles.drop(columns=['Fuel Category'])\n",
    "df_ev_vehicles = df_ev_vehicles.reset_index(drop=True)\n",
    "df_ev_vehicles.head()"
   ],
   "metadata": {
    "collapsed": false,
    "ExecuteTime": {
     "end_time": "2024-10-02T21:13:06.449666Z",
     "start_time": "2024-10-02T21:13:06.444725Z"
    }
   },
   "id": "810df6cc8cde0e57",
   "execution_count": 33
  },
  {
   "cell_type": "code",
   "outputs": [
    {
     "data": {
      "text/plain": "   Data Year     County  Number of Gas Cars\n0       2010    Alameda              885402\n1       2010     Alpine                1041\n2       2010     Amador               30480\n3       2010      Butte              133169\n4       2010  Calaveras               39636",
      "text/html": "<div>\n<style scoped>\n    .dataframe tbody tr th:only-of-type {\n        vertical-align: middle;\n    }\n\n    .dataframe tbody tr th {\n        vertical-align: top;\n    }\n\n    .dataframe thead th {\n        text-align: right;\n    }\n</style>\n<table border=\"1\" class=\"dataframe\">\n  <thead>\n    <tr style=\"text-align: right;\">\n      <th></th>\n      <th>Data Year</th>\n      <th>County</th>\n      <th>Number of Gas Cars</th>\n    </tr>\n  </thead>\n  <tbody>\n    <tr>\n      <th>0</th>\n      <td>2010</td>\n      <td>Alameda</td>\n      <td>885402</td>\n    </tr>\n    <tr>\n      <th>1</th>\n      <td>2010</td>\n      <td>Alpine</td>\n      <td>1041</td>\n    </tr>\n    <tr>\n      <th>2</th>\n      <td>2010</td>\n      <td>Amador</td>\n      <td>30480</td>\n    </tr>\n    <tr>\n      <th>3</th>\n      <td>2010</td>\n      <td>Butte</td>\n      <td>133169</td>\n    </tr>\n    <tr>\n      <th>4</th>\n      <td>2010</td>\n      <td>Calaveras</td>\n      <td>39636</td>\n    </tr>\n  </tbody>\n</table>\n</div>"
     },
     "execution_count": 34,
     "metadata": {},
     "output_type": "execute_result"
    }
   ],
   "source": [
    "# Creating '[Number of Gas Cars'] column from fueltype_per_countyyear_totals_df\n",
    "df_gas_vehicles = fueltype_per_countyyear_totals_df[fueltype_per_countyyear_totals_df['Fuel Category'] == 'Fossil Fuel']\n",
    "df_gas_vehicles = df_gas_vehicles.rename(columns={'Number of Vehicles': 'Number of Gas Cars'})\n",
    "df_gas_vehicles = df_gas_vehicles.drop(columns=['Fuel Category'])\n",
    "df_gas_vehicles = df_gas_vehicles.reset_index(drop=True)\n",
    "df_gas_vehicles.head()"
   ],
   "metadata": {
    "collapsed": false,
    "ExecuteTime": {
     "end_time": "2024-10-02T21:13:06.455089Z",
     "start_time": "2024-10-02T21:13:06.450272Z"
    }
   },
   "id": "d9641233ea375f7b",
   "execution_count": 34
  },
  {
   "cell_type": "markdown",
   "source": [
    "Theoretically, each of the vehicle dataframes should be the same shape. "
   ],
   "metadata": {
    "collapsed": false
   },
   "id": "cec05a304ad2c4fb"
  },
  {
   "cell_type": "code",
   "outputs": [
    {
     "data": {
      "text/plain": "(763, 3)"
     },
     "execution_count": 35,
     "metadata": {},
     "output_type": "execute_result"
    }
   ],
   "source": [
    "df_ev_vehicles.shape"
   ],
   "metadata": {
    "collapsed": false,
    "ExecuteTime": {
     "end_time": "2024-10-02T21:13:06.458184Z",
     "start_time": "2024-10-02T21:13:06.455734Z"
    }
   },
   "id": "e473f602ace86ee1",
   "execution_count": 35
  },
  {
   "cell_type": "code",
   "outputs": [
    {
     "data": {
      "text/plain": "(812, 3)"
     },
     "execution_count": 36,
     "metadata": {},
     "output_type": "execute_result"
    }
   ],
   "source": [
    "df_gas_vehicles.shape"
   ],
   "metadata": {
    "collapsed": false,
    "ExecuteTime": {
     "end_time": "2024-10-02T21:13:06.462050Z",
     "start_time": "2024-10-02T21:13:06.458744Z"
    }
   },
   "id": "8908c1b0661bf27d",
   "execution_count": 36
  },
  {
   "cell_type": "markdown",
   "source": [
    "They are not. On closer inspection of the dataframes, we see that df_ev_vehicles only contains counties that have registered electric vehicles and some counties do not. Since gas cars are more prevalent, df_gas_vehicles has an entry for each column. We can fix this discrepancy by doing an outer merge and replacing the consequent NaNs with zeros. "
   ],
   "metadata": {
    "collapsed": false
   },
   "id": "bc23cec9d3c186bd"
  },
  {
   "cell_type": "code",
   "outputs": [
    {
     "data": {
      "text/plain": "   Data Year     County  Number of Gas Cars  Number of EV\n0       2010    Alameda              885402            20\n1       2010     Alpine                1041             0\n2       2010     Amador               30480             1\n3       2010      Butte              133169             0\n4       2010  Calaveras               39636             0",
      "text/html": "<div>\n<style scoped>\n    .dataframe tbody tr th:only-of-type {\n        vertical-align: middle;\n    }\n\n    .dataframe tbody tr th {\n        vertical-align: top;\n    }\n\n    .dataframe thead th {\n        text-align: right;\n    }\n</style>\n<table border=\"1\" class=\"dataframe\">\n  <thead>\n    <tr style=\"text-align: right;\">\n      <th></th>\n      <th>Data Year</th>\n      <th>County</th>\n      <th>Number of Gas Cars</th>\n      <th>Number of EV</th>\n    </tr>\n  </thead>\n  <tbody>\n    <tr>\n      <th>0</th>\n      <td>2010</td>\n      <td>Alameda</td>\n      <td>885402</td>\n      <td>20</td>\n    </tr>\n    <tr>\n      <th>1</th>\n      <td>2010</td>\n      <td>Alpine</td>\n      <td>1041</td>\n      <td>0</td>\n    </tr>\n    <tr>\n      <th>2</th>\n      <td>2010</td>\n      <td>Amador</td>\n      <td>30480</td>\n      <td>1</td>\n    </tr>\n    <tr>\n      <th>3</th>\n      <td>2010</td>\n      <td>Butte</td>\n      <td>133169</td>\n      <td>0</td>\n    </tr>\n    <tr>\n      <th>4</th>\n      <td>2010</td>\n      <td>Calaveras</td>\n      <td>39636</td>\n      <td>0</td>\n    </tr>\n  </tbody>\n</table>\n</div>"
     },
     "execution_count": 37,
     "metadata": {},
     "output_type": "execute_result"
    }
   ],
   "source": [
    "df_vehicles = pd.merge(df_gas_vehicles, df_ev_vehicles, on=['Data Year', 'County'], how='outer')\n",
    "df_vehicles['Number of EV'] = df_vehicles['Number of EV'].fillna(0).astype(int)\n",
    "\n",
    "df_vehicles.head()"
   ],
   "metadata": {
    "collapsed": false,
    "ExecuteTime": {
     "end_time": "2024-10-02T21:13:06.472196Z",
     "start_time": "2024-10-02T21:13:06.463053Z"
    }
   },
   "id": "fcf18526e65a05d1",
   "execution_count": 37
  },
  {
   "cell_type": "markdown",
   "source": [
    "#### Merging df_pm and df_vehicles\n",
    "Before we can merge the dataframes, we will compare their ['County'] columns. Doing so will allow us to properly determine what type of join we should do and the possible values we will lose. "
   ],
   "metadata": {
    "collapsed": false
   },
   "id": "6f3b51ecc394fa5c"
  },
  {
   "cell_type": "code",
   "outputs": [
    {
     "name": "stdout",
     "output_type": "stream",
     "text": [
      "Only in df_ev_vehicles: {'Amador', 'Modoc', 'Sierra', 'Tuolumne', 'Yuba', 'Lassen'}\n",
      "Only in df_pm: set()\n"
     ]
    }
   ],
   "source": [
    " # Striping  df_pm of spaces so df_pm['County'] is in the same format as df_vehicles['County']\n",
    "df_pm['County'] = df_pm['County'].str.strip()\n",
    "\n",
    "# Finding the difference \n",
    "counties = pd.DataFrame({\n",
    "    'County_df_vehicles': df_ev_vehicles['County'],\n",
    "    'County_df_pm': df_pm['County']\n",
    "})\n",
    "counties.head()\n",
    "# Get unique counties from both DataFrames\n",
    "counties_vehicles = set(df_ev_vehicles['County'])\n",
    "counties_pm = set(df_pm['County'])\n",
    "\n",
    "# Find differences\n",
    "only_in_vehicles = counties_vehicles - counties_pm\n",
    "only_in_pm = counties_pm - counties_vehicles\n",
    "\n",
    "print(\"Only in df_ev_vehicles:\", only_in_vehicles)\n",
    "print(\"Only in df_pm:\", only_in_pm)"
   ],
   "metadata": {
    "collapsed": false,
    "ExecuteTime": {
     "end_time": "2024-10-02T21:13:06.477392Z",
     "start_time": "2024-10-02T21:13:06.473580Z"
    }
   },
   "id": "81f4d260c6c1141",
   "execution_count": 38
  },
  {
   "cell_type": "markdown",
   "id": "e99fe69a-0ced-4bd4-9f45-a0d4c43dab8b",
   "metadata": {},
   "source": []
  },
  {
   "cell_type": "markdown",
   "source": [
    "Since df_pm has higher requirements for taking environmental data, we will shape based on df_pm. In doing so we will lose {'Yuba', 'Sierra', 'Lassen', 'Amador', 'Tuolumne', 'Modoc'}. "
   ],
   "metadata": {
    "collapsed": false
   },
   "id": "408cfe244ce740a6"
  },
  {
   "cell_type": "code",
   "outputs": [
    {
     "data": {
      "text/plain": "   Data Year        County  Average PM 2.5/County  Number of Site IDs/County  \\\n0       2010       Alameda               8.165623                        5.0   \n1       2010         Butte               8.776451                        3.0   \n2       2010     Calaveras               7.380349                        1.0   \n3       2010        Colusa               6.054913                        1.0   \n4       2010  Contra Costa               7.606920                        1.0   \n\n   Number of Gas Cars  Number of EV  \n0            885402.0          20.0  \n1            133169.0           0.0  \n2             39636.0           0.0  \n3             14610.0           0.0  \n4            666294.0          10.0  ",
      "text/html": "<div>\n<style scoped>\n    .dataframe tbody tr th:only-of-type {\n        vertical-align: middle;\n    }\n\n    .dataframe tbody tr th {\n        vertical-align: top;\n    }\n\n    .dataframe thead th {\n        text-align: right;\n    }\n</style>\n<table border=\"1\" class=\"dataframe\">\n  <thead>\n    <tr style=\"text-align: right;\">\n      <th></th>\n      <th>Data Year</th>\n      <th>County</th>\n      <th>Average PM 2.5/County</th>\n      <th>Number of Site IDs/County</th>\n      <th>Number of Gas Cars</th>\n      <th>Number of EV</th>\n    </tr>\n  </thead>\n  <tbody>\n    <tr>\n      <th>0</th>\n      <td>2010</td>\n      <td>Alameda</td>\n      <td>8.165623</td>\n      <td>5.0</td>\n      <td>885402.0</td>\n      <td>20.0</td>\n    </tr>\n    <tr>\n      <th>1</th>\n      <td>2010</td>\n      <td>Butte</td>\n      <td>8.776451</td>\n      <td>3.0</td>\n      <td>133169.0</td>\n      <td>0.0</td>\n    </tr>\n    <tr>\n      <th>2</th>\n      <td>2010</td>\n      <td>Calaveras</td>\n      <td>7.380349</td>\n      <td>1.0</td>\n      <td>39636.0</td>\n      <td>0.0</td>\n    </tr>\n    <tr>\n      <th>3</th>\n      <td>2010</td>\n      <td>Colusa</td>\n      <td>6.054913</td>\n      <td>1.0</td>\n      <td>14610.0</td>\n      <td>0.0</td>\n    </tr>\n    <tr>\n      <th>4</th>\n      <td>2010</td>\n      <td>Contra Costa</td>\n      <td>7.606920</td>\n      <td>1.0</td>\n      <td>666294.0</td>\n      <td>10.0</td>\n    </tr>\n  </tbody>\n</table>\n</div>"
     },
     "execution_count": 39,
     "metadata": {},
     "output_type": "execute_result"
    }
   ],
   "source": [
    "df_pm_vehicles = pd.merge(df_pm, df_vehicles, on=['Data Year', 'County'], how='left')\n",
    "df_pm_vehicles.head()"
   ],
   "metadata": {
    "collapsed": false,
    "ExecuteTime": {
     "end_time": "2024-10-02T21:13:06.485540Z",
     "start_time": "2024-10-02T21:13:06.478462Z"
    }
   },
   "id": "57d39c783ab90111",
   "execution_count": 39
  },
  {
   "cell_type": "markdown",
   "source": [
    "#### Merging df_pop to df_pm_vehicles\n",
    "Again, before we can merge these dataframes, we must check what counties df_pop contains that df_pm_vehicles may not. "
   ],
   "metadata": {
    "collapsed": false
   },
   "id": "7cb7d13d7a2dc3a1"
  },
  {
   "cell_type": "code",
   "execution_count": 40,
   "id": "354b670e639e1968",
   "metadata": {
    "collapsed": false,
    "ExecuteTime": {
     "end_time": "2024-10-02T21:13:06.490189Z",
     "start_time": "2024-10-02T21:13:06.486437Z"
    }
   },
   "outputs": [
    {
     "name": "stdout",
     "output_type": "stream",
     "text": [
      "Only in df_pop: {'Amador', 'Modoc', 'Sierra', 'Tuolumne', 'Yuba', 'Lassen'}\n",
      "Only in df_pm_vehicles: set()\n"
     ]
    }
   ],
   "source": [
    "# Formatting df_pop['County'] to be the same as df_pm_vehicles['County'] \n",
    "df_pop['County'] = df_pop['County'].str.strip()\n",
    "\n",
    "# Get unique counties from both DataFrames\n",
    "counties_pop = set(df_pop['County'])\n",
    "counties_pm_vehicles = set(df_pm_vehicles['County'])\n",
    "\n",
    "# Find the difference\n",
    "only_in_pop = counties_pop - counties_pm_vehicles\n",
    "only_in_pm_vehicles = counties_pm_vehicles - counties_pop\n",
    "\n",
    "print(\"Only in df_pop:\", only_in_pop)\n",
    "print(\"Only in df_pm_vehicles:\", only_in_pm_vehicles)"
   ]
  },
  {
   "cell_type": "markdown",
   "source": [
    "Df_pop contains the same counties that we dropped from df_pm_vehicles since there was no available PM2.5 data. Since we already determined these values are useless to our study, we will merge on df_pm_vehicles"
   ],
   "metadata": {
    "collapsed": false
   },
   "id": "14557d276c967df1"
  },
  {
   "cell_type": "code",
   "execution_count": 41,
   "id": "3753141604963715",
   "metadata": {
    "collapsed": false,
    "ExecuteTime": {
     "end_time": "2024-10-02T21:13:06.497245Z",
     "start_time": "2024-10-02T21:13:06.491341Z"
    }
   },
   "outputs": [
    {
     "data": {
      "text/plain": "   Data Year        County  Average PM 2.5/County  Number of Site IDs/County  \\\n0       2010       Alameda               8.165623                        5.0   \n1       2010         Butte               8.776451                        3.0   \n2       2010     Calaveras               7.380349                        1.0   \n3       2010        Colusa               6.054913                        1.0   \n4       2010  Contra Costa               7.606920                        1.0   \n\n   Number of Gas Cars  Number of EV  Population   Z Score  \n0            885402.0          20.0     1510271  0.585020  \n1            133169.0           0.0      220000 -0.311810  \n2             39636.0           0.0       45578 -0.433046  \n3             14610.0           0.0       21419 -0.449838  \n4            666294.0          10.0     1049025  0.264421  ",
      "text/html": "<div>\n<style scoped>\n    .dataframe tbody tr th:only-of-type {\n        vertical-align: middle;\n    }\n\n    .dataframe tbody tr th {\n        vertical-align: top;\n    }\n\n    .dataframe thead th {\n        text-align: right;\n    }\n</style>\n<table border=\"1\" class=\"dataframe\">\n  <thead>\n    <tr style=\"text-align: right;\">\n      <th></th>\n      <th>Data Year</th>\n      <th>County</th>\n      <th>Average PM 2.5/County</th>\n      <th>Number of Site IDs/County</th>\n      <th>Number of Gas Cars</th>\n      <th>Number of EV</th>\n      <th>Population</th>\n      <th>Z Score</th>\n    </tr>\n  </thead>\n  <tbody>\n    <tr>\n      <th>0</th>\n      <td>2010</td>\n      <td>Alameda</td>\n      <td>8.165623</td>\n      <td>5.0</td>\n      <td>885402.0</td>\n      <td>20.0</td>\n      <td>1510271</td>\n      <td>0.585020</td>\n    </tr>\n    <tr>\n      <th>1</th>\n      <td>2010</td>\n      <td>Butte</td>\n      <td>8.776451</td>\n      <td>3.0</td>\n      <td>133169.0</td>\n      <td>0.0</td>\n      <td>220000</td>\n      <td>-0.311810</td>\n    </tr>\n    <tr>\n      <th>2</th>\n      <td>2010</td>\n      <td>Calaveras</td>\n      <td>7.380349</td>\n      <td>1.0</td>\n      <td>39636.0</td>\n      <td>0.0</td>\n      <td>45578</td>\n      <td>-0.433046</td>\n    </tr>\n    <tr>\n      <th>3</th>\n      <td>2010</td>\n      <td>Colusa</td>\n      <td>6.054913</td>\n      <td>1.0</td>\n      <td>14610.0</td>\n      <td>0.0</td>\n      <td>21419</td>\n      <td>-0.449838</td>\n    </tr>\n    <tr>\n      <th>4</th>\n      <td>2010</td>\n      <td>Contra Costa</td>\n      <td>7.606920</td>\n      <td>1.0</td>\n      <td>666294.0</td>\n      <td>10.0</td>\n      <td>1049025</td>\n      <td>0.264421</td>\n    </tr>\n  </tbody>\n</table>\n</div>"
     },
     "execution_count": 41,
     "metadata": {},
     "output_type": "execute_result"
    }
   ],
   "source": [
    "# Let's merge df_pm_vehicles and total population \n",
    "df_pm_vehicles_pop= pd.merge(df_pm_vehicles, df_pop, on=['Data Year', 'County'], how='left')\n",
    "df_pm_vehicles_pop.head()"
   ]
  },
  {
   "cell_type": "code",
   "outputs": [
    {
     "data": {
      "text/plain": "   Data Year        County  Average PM 2.5/County  Number of Site IDs/County  \\\n0       2010       Alameda               8.165623                        5.0   \n1       2010         Butte               8.776451                        3.0   \n2       2010     Calaveras               7.380349                        1.0   \n3       2010        Colusa               6.054913                        1.0   \n4       2010  Contra Costa               7.606920                        1.0   \n\n   Number of Gas Cars  Number of EV  Population   Z Score  \n0            885402.0          20.0     1510271  0.585020  \n1            133169.0           0.0      220000 -0.311810  \n2             39636.0           0.0       45578 -0.433046  \n3             14610.0           0.0       21419 -0.449838  \n4            666294.0          10.0     1049025  0.264421  ",
      "text/html": "<div>\n<style scoped>\n    .dataframe tbody tr th:only-of-type {\n        vertical-align: middle;\n    }\n\n    .dataframe tbody tr th {\n        vertical-align: top;\n    }\n\n    .dataframe thead th {\n        text-align: right;\n    }\n</style>\n<table border=\"1\" class=\"dataframe\">\n  <thead>\n    <tr style=\"text-align: right;\">\n      <th></th>\n      <th>Data Year</th>\n      <th>County</th>\n      <th>Average PM 2.5/County</th>\n      <th>Number of Site IDs/County</th>\n      <th>Number of Gas Cars</th>\n      <th>Number of EV</th>\n      <th>Population</th>\n      <th>Z Score</th>\n    </tr>\n  </thead>\n  <tbody>\n    <tr>\n      <th>0</th>\n      <td>2010</td>\n      <td>Alameda</td>\n      <td>8.165623</td>\n      <td>5.0</td>\n      <td>885402.0</td>\n      <td>20.0</td>\n      <td>1510271</td>\n      <td>0.585020</td>\n    </tr>\n    <tr>\n      <th>1</th>\n      <td>2010</td>\n      <td>Butte</td>\n      <td>8.776451</td>\n      <td>3.0</td>\n      <td>133169.0</td>\n      <td>0.0</td>\n      <td>220000</td>\n      <td>-0.311810</td>\n    </tr>\n    <tr>\n      <th>2</th>\n      <td>2010</td>\n      <td>Calaveras</td>\n      <td>7.380349</td>\n      <td>1.0</td>\n      <td>39636.0</td>\n      <td>0.0</td>\n      <td>45578</td>\n      <td>-0.433046</td>\n    </tr>\n    <tr>\n      <th>3</th>\n      <td>2010</td>\n      <td>Colusa</td>\n      <td>6.054913</td>\n      <td>1.0</td>\n      <td>14610.0</td>\n      <td>0.0</td>\n      <td>21419</td>\n      <td>-0.449838</td>\n    </tr>\n    <tr>\n      <th>4</th>\n      <td>2010</td>\n      <td>Contra Costa</td>\n      <td>7.606920</td>\n      <td>1.0</td>\n      <td>666294.0</td>\n      <td>10.0</td>\n      <td>1049025</td>\n      <td>0.264421</td>\n    </tr>\n  </tbody>\n</table>\n</div>"
     },
     "execution_count": 42,
     "metadata": {},
     "output_type": "execute_result"
    }
   ],
   "source": [
    "# Let's rename some columns to maintain clarity. \n",
    "df_pm_vehicles_pop.rename(columns={'Z Score_x':'Total Population Z Score'}, inplace=True)\n",
    "df_pm_vehicles_pop.rename(columns={'Population_x':'Total Population'}, inplace=True)\n",
    "df_pm_vehicles_pop.head()"
   ],
   "metadata": {
    "collapsed": false,
    "ExecuteTime": {
     "end_time": "2024-10-02T21:13:06.503148Z",
     "start_time": "2024-10-02T21:13:06.497847Z"
    }
   },
   "id": "e31890e7e75b0799",
   "execution_count": 42
  },
  {
   "cell_type": "markdown",
   "source": [
    "#### Merging df_aged_pop to df_pm_vehicles_pop\n",
    "For the last time, we will investigate if there are any main differences between df_aged_pop['County'] and df_pm_vehicles_pop['County']"
   ],
   "metadata": {
    "collapsed": false
   },
   "id": "1db43dca8c245cea"
  },
  {
   "cell_type": "code",
   "execution_count": 43,
   "id": "9e57083c22c5bfc",
   "metadata": {
    "collapsed": false,
    "ExecuteTime": {
     "end_time": "2024-10-02T21:13:06.507356Z",
     "start_time": "2024-10-02T21:13:06.503828Z"
    }
   },
   "outputs": [
    {
     "name": "stdout",
     "output_type": "stream",
     "text": [
      "Only in pop_df: set()\n",
      "Only in aged_pop_2010_2023: set()\n"
     ]
    }
   ],
   "source": [
    "df_aged_pop['County'] = df_aged_pop['County'].str.strip()\n",
    "counties = pd.DataFrame({\n",
    "    'County_main_df': df_pop['County'],\n",
    "    'County_aged_pop_2010_2023': df_aged_pop['County']\n",
    "})\n",
    "counties.head()\n",
    "# Get unique counties from both DataFrames\n",
    "pop_df_co = set(df_pop['County'])\n",
    "aged_pop_2010_2023_co = set(df_aged_pop['County'])\n",
    "\n",
    "# Find differences\n",
    "only_in_pop_df_co = pop_df_co - aged_pop_2010_2023_co\n",
    "only_in_aged_pop_2010_2023_co = aged_pop_2010_2023_co - pop_df_co\n",
    "\n",
    "print(\"Only in pop_df:\", only_in_pop_df_co)\n",
    "print(\"Only in aged_pop_2010_2023:\", only_in_aged_pop_2010_2023_co)"
   ]
  },
  {
   "cell_type": "markdown",
   "source": [
    "There are no differences! We can perform an outer merge and finally produce our main_df. \n",
    "#### Creating Main_df "
   ],
   "metadata": {
    "collapsed": false
   },
   "id": "588def5c0e65181c"
  },
  {
   "cell_type": "code",
   "execution_count": 44,
   "id": "40259da0e7d13078",
   "metadata": {
    "collapsed": false,
    "ExecuteTime": {
     "end_time": "2024-10-02T21:13:06.515080Z",
     "start_time": "2024-10-02T21:13:06.508512Z"
    }
   },
   "outputs": [
    {
     "data": {
      "text/plain": "   Data Year        County  Average PM 2.5/County  Number of Site IDs/County  \\\n0       2010       Alameda               8.165623                        5.0   \n1       2010         Butte               8.776451                        3.0   \n2       2010  Contra Costa               7.606920                        1.0   \n3       2010     El Dorado               2.195902                        1.0   \n4       2010        Fresno              11.729538                        6.0   \n\n   Number of Gas Cars  Number of EV  Population   Z Score  \\\n0            885402.0          20.0     1510271  0.585020   \n1            133169.0           0.0      220000 -0.311810   \n2            666294.0          10.0     1049025  0.264421   \n3            129980.0           0.0      181058 -0.338878   \n4            481145.0           2.0      930450  0.182003   \n\n  Population Estimate, >18 Population Margin of Error, >18  \n0                    77.5%                           *****  \n1                    79.3%                            ±0.3  \n2                    75.2%                            ±0.1  \n3                    77.2%                            ±0.2  \n4                    70.1%                            ±0.1  ",
      "text/html": "<div>\n<style scoped>\n    .dataframe tbody tr th:only-of-type {\n        vertical-align: middle;\n    }\n\n    .dataframe tbody tr th {\n        vertical-align: top;\n    }\n\n    .dataframe thead th {\n        text-align: right;\n    }\n</style>\n<table border=\"1\" class=\"dataframe\">\n  <thead>\n    <tr style=\"text-align: right;\">\n      <th></th>\n      <th>Data Year</th>\n      <th>County</th>\n      <th>Average PM 2.5/County</th>\n      <th>Number of Site IDs/County</th>\n      <th>Number of Gas Cars</th>\n      <th>Number of EV</th>\n      <th>Population</th>\n      <th>Z Score</th>\n      <th>Population Estimate, &gt;18</th>\n      <th>Population Margin of Error, &gt;18</th>\n    </tr>\n  </thead>\n  <tbody>\n    <tr>\n      <th>0</th>\n      <td>2010</td>\n      <td>Alameda</td>\n      <td>8.165623</td>\n      <td>5.0</td>\n      <td>885402.0</td>\n      <td>20.0</td>\n      <td>1510271</td>\n      <td>0.585020</td>\n      <td>77.5%</td>\n      <td>*****</td>\n    </tr>\n    <tr>\n      <th>1</th>\n      <td>2010</td>\n      <td>Butte</td>\n      <td>8.776451</td>\n      <td>3.0</td>\n      <td>133169.0</td>\n      <td>0.0</td>\n      <td>220000</td>\n      <td>-0.311810</td>\n      <td>79.3%</td>\n      <td>±0.3</td>\n    </tr>\n    <tr>\n      <th>2</th>\n      <td>2010</td>\n      <td>Contra Costa</td>\n      <td>7.606920</td>\n      <td>1.0</td>\n      <td>666294.0</td>\n      <td>10.0</td>\n      <td>1049025</td>\n      <td>0.264421</td>\n      <td>75.2%</td>\n      <td>±0.1</td>\n    </tr>\n    <tr>\n      <th>3</th>\n      <td>2010</td>\n      <td>El Dorado</td>\n      <td>2.195902</td>\n      <td>1.0</td>\n      <td>129980.0</td>\n      <td>0.0</td>\n      <td>181058</td>\n      <td>-0.338878</td>\n      <td>77.2%</td>\n      <td>±0.2</td>\n    </tr>\n    <tr>\n      <th>4</th>\n      <td>2010</td>\n      <td>Fresno</td>\n      <td>11.729538</td>\n      <td>6.0</td>\n      <td>481145.0</td>\n      <td>2.0</td>\n      <td>930450</td>\n      <td>0.182003</td>\n      <td>70.1%</td>\n      <td>±0.1</td>\n    </tr>\n  </tbody>\n</table>\n</div>"
     },
     "execution_count": 44,
     "metadata": {},
     "output_type": "execute_result"
    }
   ],
   "source": [
    "main_df = pd.merge(df_pm_vehicles_pop, df_aged_pop, how='inner', on = ['Data Year', 'County'])\n",
    "main_df.head()"
   ]
  },
  {
   "cell_type": "markdown",
   "source": [
    "Since everything is together, we will use main_df['Population'] to convert the percentages in main_df['Population Estimate, >18'] to whole numbers. "
   ],
   "metadata": {
    "collapsed": false
   },
   "id": "18386945737a08ef"
  },
  {
   "cell_type": "code",
   "execution_count": 45,
   "id": "e3e124334a65ae5e",
   "metadata": {
    "collapsed": false,
    "ExecuteTime": {
     "end_time": "2024-10-02T21:13:06.524102Z",
     "start_time": "2024-10-02T21:13:06.515991Z"
    }
   },
   "outputs": [
    {
     "data": {
      "text/plain": "   Data Year        County  Average PM 2.5/County  Number of Site IDs/County  \\\n0       2010       Alameda               8.165623                        5.0   \n1       2010         Butte               8.776451                        3.0   \n2       2010  Contra Costa               7.606920                        1.0   \n3       2010     El Dorado               2.195902                        1.0   \n4       2010        Fresno              11.729538                        6.0   \n\n   Number of Gas Cars  Number of EV  Population   Z Score  \\\n0            885402.0          20.0     1510271  0.585020   \n1            133169.0           0.0      220000 -0.311810   \n2            666294.0          10.0     1049025  0.264421   \n3            129980.0           0.0      181058 -0.338878   \n4            481145.0           2.0      930450  0.182003   \n\n  Population Estimate, >18 Population Margin of Error, >18  \n0              1170460.025                           *****  \n1                 174460.0                            ±0.3  \n2                 788866.8                            ±0.1  \n3               139776.776                            ±0.2  \n4                652245.45                            ±0.1  ",
      "text/html": "<div>\n<style scoped>\n    .dataframe tbody tr th:only-of-type {\n        vertical-align: middle;\n    }\n\n    .dataframe tbody tr th {\n        vertical-align: top;\n    }\n\n    .dataframe thead th {\n        text-align: right;\n    }\n</style>\n<table border=\"1\" class=\"dataframe\">\n  <thead>\n    <tr style=\"text-align: right;\">\n      <th></th>\n      <th>Data Year</th>\n      <th>County</th>\n      <th>Average PM 2.5/County</th>\n      <th>Number of Site IDs/County</th>\n      <th>Number of Gas Cars</th>\n      <th>Number of EV</th>\n      <th>Population</th>\n      <th>Z Score</th>\n      <th>Population Estimate, &gt;18</th>\n      <th>Population Margin of Error, &gt;18</th>\n    </tr>\n  </thead>\n  <tbody>\n    <tr>\n      <th>0</th>\n      <td>2010</td>\n      <td>Alameda</td>\n      <td>8.165623</td>\n      <td>5.0</td>\n      <td>885402.0</td>\n      <td>20.0</td>\n      <td>1510271</td>\n      <td>0.585020</td>\n      <td>1170460.025</td>\n      <td>*****</td>\n    </tr>\n    <tr>\n      <th>1</th>\n      <td>2010</td>\n      <td>Butte</td>\n      <td>8.776451</td>\n      <td>3.0</td>\n      <td>133169.0</td>\n      <td>0.0</td>\n      <td>220000</td>\n      <td>-0.311810</td>\n      <td>174460.0</td>\n      <td>±0.3</td>\n    </tr>\n    <tr>\n      <th>2</th>\n      <td>2010</td>\n      <td>Contra Costa</td>\n      <td>7.606920</td>\n      <td>1.0</td>\n      <td>666294.0</td>\n      <td>10.0</td>\n      <td>1049025</td>\n      <td>0.264421</td>\n      <td>788866.8</td>\n      <td>±0.1</td>\n    </tr>\n    <tr>\n      <th>3</th>\n      <td>2010</td>\n      <td>El Dorado</td>\n      <td>2.195902</td>\n      <td>1.0</td>\n      <td>129980.0</td>\n      <td>0.0</td>\n      <td>181058</td>\n      <td>-0.338878</td>\n      <td>139776.776</td>\n      <td>±0.2</td>\n    </tr>\n    <tr>\n      <th>4</th>\n      <td>2010</td>\n      <td>Fresno</td>\n      <td>11.729538</td>\n      <td>6.0</td>\n      <td>481145.0</td>\n      <td>2.0</td>\n      <td>930450</td>\n      <td>0.182003</td>\n      <td>652245.45</td>\n      <td>±0.1</td>\n    </tr>\n  </tbody>\n</table>\n</div>"
     },
     "execution_count": 45,
     "metadata": {},
     "output_type": "execute_result"
    }
   ],
   "source": [
    "def convert_to_population_estimate(row):\n",
    "    # converting percentage to decimal, if applicable \n",
    "    if isinstance(row['Population Estimate, >18'], str) and '%' in row['Population Estimate, >18']:\n",
    "        percent_value = float(row['Population Estimate, >18'].strip('%')) / 100\n",
    "        return percent_value * row['Population']\n",
    "    else:\n",
    "        return row['Population Estimate, >18']\n",
    "\n",
    "# apply to update 'Total Population Estimate, >21'\n",
    "main_df['Population Estimate, >18'] = main_df.apply(convert_to_population_estimate, axis=1)\n",
    "\n",
    "main_df.head()"
   ]
  },
  {
   "cell_type": "markdown",
   "source": [
    "# Converting to CSV\n",
    "Since all of our data is properly cleaned and manipulated into a usable dataframe, we will export main_df to a csv file so that we can move onto visualizations and further analysis. \n"
   ],
   "metadata": {
    "collapsed": false
   },
   "id": "56965301d683b3fc"
  },
  {
   "cell_type": "code",
   "execution_count": 46,
   "id": "c89b7aaa",
   "metadata": {
    "ExecuteTime": {
     "end_time": "2024-10-02T21:13:06.530977Z",
     "start_time": "2024-10-02T21:13:06.524677Z"
    }
   },
   "outputs": [],
   "source": [
    "# Export main_df to csv\n",
    "main_df.to_csv('./main_df.csv', index=False)"
   ]
  }
 ],
 "metadata": {
  "kernelspec": {
   "display_name": "Python 3 (ipykernel)",
   "language": "python",
   "name": "python3"
  },
  "language_info": {
   "codemirror_mode": {
    "name": "ipython",
    "version": 3
   },
   "file_extension": ".py",
   "mimetype": "text/x-python",
   "name": "python",
   "nbconvert_exporter": "python",
   "pygments_lexer": "ipython3",
   "version": "3.11.5"
  }
 },
 "nbformat": 4,
 "nbformat_minor": 5
}
