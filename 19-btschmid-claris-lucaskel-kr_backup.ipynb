{
 "cells": [
  {
   "cell_type": "markdown",
   "id": "ef528c0bb02077f",
   "metadata": {},
   "source": [
    "# Driving Towards a Brighter Future: EV Adoption Rates in California and its Effect on PM 2.5 Emissions (Part I)\n",
    "\n"
   ]
  },
  {
   "cell_type": "markdown",
   "id": "30890eab",
   "metadata": {},
   "source": [
    "This notebook is aimed at the exploratory data analysis for the growing presence of electric vehicles in California and its relationship with PM2.5 Emissions.\n",
    "\n",
    "It consists of importing several datasets, cleaning and manipulating the data, merging the datasets together, and finally creating several visuals to help interpret the data. \n",
    "\n",
    "### Contributions: \n",
    "-  __Clarissa Clark__ - Data Import, Cleaning, and Merging (PM 2.5; Population Data)\n",
    "- __Lucas Keller__ - Merged Visualizations (Heat Map, PM2.5 per Counties, t-test)\n",
    "- __Brett Schmidt__ - Data Import, Cleaning, Vehicle Visualizations (California Vehicle), Correlation Plots\n",
    "#### SIADS 593 Milestone I -  October 7th, 2024"
   ]
  },
  {
   "cell_type": "markdown",
   "id": "535d9c17",
   "metadata": {},
   "source": [
    "# Imports and Requirements"
   ]
  },
  {
   "cell_type": "code",
   "execution_count": 1,
   "id": "8e2b173f8cc6cc6b",
   "metadata": {
    "ExecuteTime": {
     "end_time": "2024-10-04T21:38:43.076257Z",
     "start_time": "2024-10-04T21:38:43.071867Z"
    }
   },
   "outputs": [],
   "source": [
    "#uncomment to install openpyxl if required to import excel\n",
    "#pip install openpyxl\n",
    "#!pip install -r requirements.txt"
   ]
  },
  {
   "cell_type": "code",
   "execution_count": 2,
   "id": "65c8ca51d599b6a8",
   "metadata": {
    "ExecuteTime": {
     "end_time": "2024-10-04T21:38:43.087102Z",
     "start_time": "2024-10-04T21:38:43.079988Z"
    }
   },
   "outputs": [],
   "source": [
    "## import required libraries\n",
    "import pandas as pd\n",
    "import numpy as np\n",
    "from scipy.stats import zscore, shapiro, spearmanr\n",
    "from urllib.request import urlretrieve\n",
    "import matplotlib.pyplot as plt\n",
    "import seaborn as sns\n",
    "from matplotlib.ticker import FuncFormatter"
   ]
  },
  {
   "cell_type": "markdown",
   "id": "493ffb8cd5a09f7c",
   "metadata": {},
   "source": [
    "# California Vehicles - Import, Clean, and Visualization\n",
    "Data sourced from https://www.energy.ca.gov/files/zev-and-infrastructure-stats-data and downloads as \"Vehicle_Population_Last_updated_04-30-2024_ada.xlsx\".\n",
    "\n",
    "The dataset contains information on California vehicles, which includes registration year, county, make, model, fuel type, and total vehicles under those categories. \n",
    "\n",
    "The goal for this section is to import the data, remove unnecessary information, check for missing or unexpected values, and provide a dataframe to later merge on 'County' and 'Year'."
   ]
  },
  {
   "cell_type": "markdown",
   "id": "de2ed7e7",
   "metadata": {},
   "source": [
    "#### Import Data\n",
    "Data is provided, but can be imported directly from the URL."
   ]
  },
  {
   "cell_type": "code",
   "execution_count": 3,
   "id": "5fc1b725",
   "metadata": {
    "ExecuteTime": {
     "end_time": "2024-10-04T21:38:43.097148Z",
     "start_time": "2024-10-04T21:38:43.089905Z"
    }
   },
   "outputs": [],
   "source": [
    "## File has been predownloaded and is part of the analysis package ##\n",
    "vehicle_data = 'vehicle_data/california_vehicle.xlsx'\n",
    "\n",
    "## Switch url_import if direct download is desired ##\n",
    "url_import = False\n",
    "if url_import:\n",
    "    if not os.path.exists(vehicle_data_dir):\n",
    "        os.makedirs(vehicle_data_dir)\n",
    "    URL = 'https://www.energy.ca.gov/filebrowser/download/6311?fid=6311#block-symsoft-page-title'\n",
    "    urlretrieve(URL, vehicle_data)"
   ]
  },
  {
   "cell_type": "code",
   "execution_count": 4,
   "id": "b714c29267e17f4a",
   "metadata": {
    "ExecuteTime": {
     "end_time": "2024-10-04T21:38:45.035940Z",
     "start_time": "2024-10-04T21:38:43.098105Z"
    }
   },
   "outputs": [],
   "source": [
    "## Import data as a pandas dataframe ##\n",
    "countyvehicle_df = pd.read_excel('vehicle_data/california_vehicle.xlsx',sheet_name=\"County\")"
   ]
  },
  {
   "cell_type": "markdown",
   "id": "06148bbe",
   "metadata": {},
   "source": [
    "#### Inspect and Reduce Data\n",
    "We'll take a look at the shape, contents, and check for unnecessary columns."
   ]
  },
  {
   "cell_type": "code",
   "execution_count": 5,
   "id": "618de9f02d9204fe",
   "metadata": {
    "ExecuteTime": {
     "end_time": "2024-10-04T21:38:45.041546Z",
     "start_time": "2024-10-04T21:38:45.037420Z"
    }
   },
   "outputs": [
    {
     "data": {
      "text/plain": "(33542, 7)"
     },
     "execution_count": 5,
     "metadata": {},
     "output_type": "execute_result"
    }
   ],
   "source": [
    "## We've isolated the worksheet, now let's take a look at the shape ##\n",
    "countyvehicle_df.shape"
   ]
  },
  {
   "cell_type": "markdown",
   "id": "cde56a48",
   "metadata": {},
   "source": [
    "We see there are 33542 rows and 7 columns, now let's see what is inside."
   ]
  },
  {
   "cell_type": "code",
   "execution_count": 6,
   "id": "9007d9d32c43c503",
   "metadata": {
    "ExecuteTime": {
     "end_time": "2024-10-04T21:38:45.051765Z",
     "start_time": "2024-10-04T21:38:45.043442Z"
    }
   },
   "outputs": [
    {
     "data": {
      "text/plain": "   Data Year   County Dashboard Fuel Type Group               Fuel Type  \\\n0       2010  Alameda    Battery Electric (BEV)  Battery Electric (BEV)   \n1       2010  Alameda    Battery Electric (BEV)  Battery Electric (BEV)   \n2       2010  Alameda                    Diesel                  Diesel   \n3       2010  Alameda                  Gasoline               Flex Fuel   \n4       2010  Alameda                  Gasoline                Gasoline   \n\n    Make     Model  Number of Vehicles  \n0   Ford    Ranger                   3  \n1  Tesla  Roadster                  17  \n2    NaN       NaN               10939  \n3    NaN       NaN               10974  \n4    NaN       NaN              840577  ",
      "text/html": "<div>\n<style scoped>\n    .dataframe tbody tr th:only-of-type {\n        vertical-align: middle;\n    }\n\n    .dataframe tbody tr th {\n        vertical-align: top;\n    }\n\n    .dataframe thead th {\n        text-align: right;\n    }\n</style>\n<table border=\"1\" class=\"dataframe\">\n  <thead>\n    <tr style=\"text-align: right;\">\n      <th></th>\n      <th>Data Year</th>\n      <th>County</th>\n      <th>Dashboard Fuel Type Group</th>\n      <th>Fuel Type</th>\n      <th>Make</th>\n      <th>Model</th>\n      <th>Number of Vehicles</th>\n    </tr>\n  </thead>\n  <tbody>\n    <tr>\n      <th>0</th>\n      <td>2010</td>\n      <td>Alameda</td>\n      <td>Battery Electric (BEV)</td>\n      <td>Battery Electric (BEV)</td>\n      <td>Ford</td>\n      <td>Ranger</td>\n      <td>3</td>\n    </tr>\n    <tr>\n      <th>1</th>\n      <td>2010</td>\n      <td>Alameda</td>\n      <td>Battery Electric (BEV)</td>\n      <td>Battery Electric (BEV)</td>\n      <td>Tesla</td>\n      <td>Roadster</td>\n      <td>17</td>\n    </tr>\n    <tr>\n      <th>2</th>\n      <td>2010</td>\n      <td>Alameda</td>\n      <td>Diesel</td>\n      <td>Diesel</td>\n      <td>NaN</td>\n      <td>NaN</td>\n      <td>10939</td>\n    </tr>\n    <tr>\n      <th>3</th>\n      <td>2010</td>\n      <td>Alameda</td>\n      <td>Gasoline</td>\n      <td>Flex Fuel</td>\n      <td>NaN</td>\n      <td>NaN</td>\n      <td>10974</td>\n    </tr>\n    <tr>\n      <th>4</th>\n      <td>2010</td>\n      <td>Alameda</td>\n      <td>Gasoline</td>\n      <td>Gasoline</td>\n      <td>NaN</td>\n      <td>NaN</td>\n      <td>840577</td>\n    </tr>\n  </tbody>\n</table>\n</div>"
     },
     "execution_count": 6,
     "metadata": {},
     "output_type": "execute_result"
    }
   ],
   "source": [
    "countyvehicle_df.head()"
   ]
  },
  {
   "cell_type": "markdown",
   "id": "4055c4a0",
   "metadata": {},
   "source": [
    "We're not interested in the Make or Model of the car, so let's drop those values and inspect the information of our dataframe."
   ]
  },
  {
   "cell_type": "code",
   "execution_count": 7,
   "id": "e075187438cc4278",
   "metadata": {
    "ExecuteTime": {
     "end_time": "2024-10-04T21:38:45.066966Z",
     "start_time": "2024-10-04T21:38:45.053053Z"
    }
   },
   "outputs": [
    {
     "name": "stdout",
     "output_type": "stream",
     "text": [
      "<class 'pandas.core.frame.DataFrame'>\n",
      "RangeIndex: 33542 entries, 0 to 33541\n",
      "Data columns (total 5 columns):\n",
      " #   Column                     Non-Null Count  Dtype \n",
      "---  ------                     --------------  ----- \n",
      " 0   Data Year                  33542 non-null  int64 \n",
      " 1   County                     33542 non-null  object\n",
      " 2   Dashboard Fuel Type Group  33542 non-null  object\n",
      " 3   Fuel Type                  33542 non-null  object\n",
      " 4   Number of Vehicles         33542 non-null  int64 \n",
      "dtypes: int64(2), object(3)\n",
      "memory usage: 1.3+ MB\n"
     ]
    }
   ],
   "source": [
    "countyvehicle_df = countyvehicle_df.drop(columns=['Make','Model'])\n",
    "countyvehicle_df.info()"
   ]
  },
  {
   "cell_type": "markdown",
   "id": "4206f935",
   "metadata": {},
   "source": [
    "There are __33542__ counts across each entry. That's good.\n",
    "\n",
    "Now let's check for missing years and missing counties."
   ]
  },
  {
   "cell_type": "code",
   "execution_count": 8,
   "id": "5474ce38",
   "metadata": {
    "ExecuteTime": {
     "end_time": "2024-10-04T21:38:45.073212Z",
     "start_time": "2024-10-04T21:38:45.068480Z"
    }
   },
   "outputs": [
    {
     "name": "stdout",
     "output_type": "stream",
     "text": [
      "[2010, 2011, 2012, 2013, 2014, 2015, 2016, 2017, 2018, 2019, 2020, 2021, 2022, 2023]\n",
      "\n",
      "Data starts in 2010 and spans across 2023\n",
      "No missing years.\n"
     ]
    }
   ],
   "source": [
    "years = [year for year in countyvehicle_df['Data Year'].unique()]\n",
    "actual_years = set(years)\n",
    "\n",
    "expected_years = set(range(min(years), max(years) + 1))\n",
    "missing_years = expected_years - actual_years\n",
    "\n",
    "print(years)\n",
    "print(f'\\nData starts in {min(years)} and spans across {max(years)}')\n",
    "\n",
    "if missing_years:\n",
    "    print(f\"Missing years: {missing_years}\")\n",
    "else:\n",
    "    print(\"No missing years.\")"
   ]
  },
  {
   "cell_type": "code",
   "execution_count": 9,
   "id": "ed501b4a",
   "metadata": {
    "ExecuteTime": {
     "end_time": "2024-10-04T21:38:45.080112Z",
     "start_time": "2024-10-04T21:38:45.074619Z"
    }
   },
   "outputs": [
    {
     "name": "stdout",
     "output_type": "stream",
     "text": [
      "No missing counties.\n",
      "Unexpected counties: {'Out Of State', 'Out of State'}\n"
     ]
    }
   ],
   "source": [
    "counties = [county for county in countyvehicle_df['County'].unique()]\n",
    "actual_counties = set(counties)\n",
    "expected_counties = set([\n",
    "    \"Alameda\", \"Alpine\", \"Amador\", \"Butte\", \"Calaveras\", \"Colusa\",\n",
    "    \"Contra Costa\", \"Del Norte\", \"El Dorado\", \"Fresno\", \"Glenn\",\n",
    "    \"Humboldt\", \"Imperial\", \"Inyo\", \"Kern\", \"Kings\", \"Lake\",\n",
    "    \"Lassen\", \"Los Angeles\", \"Madera\", \"Marin\", \"Mariposa\",\n",
    "    \"Mendocino\", \"Merced\", \"Modoc\", \"Mono\", \"Monterey\", \"Napa\",\n",
    "    \"Nevada\", \"Orange\", \"Placer\", \"Plumas\", \"Riverside\",\n",
    "    \"Sacramento\", \"San Benito\", \"San Bernardino\", \"San Diego\",\n",
    "    \"San Francisco\", \"San Joaquin\", \"San Luis Obispo\", \"San Mateo\",\n",
    "    \"Santa Barbara\", \"Santa Clara\", \"Santa Cruz\", \"Shasta\",\n",
    "    \"Sierra\", \"Siskiyou\", \"Solano\", \"Sonoma\", \"Stanislaus\",\n",
    "    \"Sutter\", \"Tehama\", \"Trinity\", \"Tulare\", \"Tuolumne\",\n",
    "    \"Ventura\", \"Yolo\", \"Yuba\"\n",
    "])\n",
    "missing_counties = expected_counties - actual_counties\n",
    "\n",
    "unexpected_counties = actual_counties - expected_counties\n",
    "\n",
    "if missing_counties:\n",
    "    print(f\"Missing counties: {missing_counties}\")\n",
    "else:\n",
    "    print(\"No missing counties.\")\n",
    "\n",
    "if unexpected_counties:\n",
    "    print(f\"Unexpected counties: {unexpected_counties}\")\n",
    "else:\n",
    "    print(\"No unexpected counties.\")"
   ]
  },
  {
   "cell_type": "markdown",
   "id": "2f584982",
   "metadata": {},
   "source": [
    "There are unexpected counties that are from out of state.\n",
    "\n",
    "Let's see what years have vehicles from out of state and how many there are.\n",
    "\n",
    "We'll only look at the past 10 years for this analysis, but can be adjusted based on lookbackyears."
   ]
  },
  {
   "cell_type": "code",
   "execution_count": 10,
   "id": "08eadf56",
   "metadata": {
    "ExecuteTime": {
     "end_time": "2024-10-04T21:38:45.118353Z",
     "start_time": "2024-10-04T21:38:45.085248Z"
    }
   },
   "outputs": [
    {
     "name": "stdout",
     "output_type": "stream",
     "text": [
      "Percent of vechicles from 'Out Of State' in 2014 is: 2.13%\n",
      "Percent of vechicles from 'Out Of State' in 2015 is: 2.11%\n",
      "Percent of vechicles from 'Out Of State' in 2016 is: 1.64%\n",
      "Percent of vechicles from 'Out Of State' in 2017 is: 1.58%\n",
      "Percent of vechicles from 'Out Of State' in 2018 is: 1.51%\n",
      "Percent of vechicles from 'Out Of State' in 2019 is: 1.69%\n",
      "Percent of vechicles from 'Out Of State' in 2020 is: 1.55%\n",
      "Percent of vechicles from 'Out of State' in 2021 is: 1.35%\n",
      "Percent of vechicles from 'Out of State' in 2022 is: 1.40%\n",
      "Percent of vechicles from 'Out Of State' in 2023 is: 1.37%\n"
     ]
    }
   ],
   "source": [
    "vehicles_by_year = countyvehicle_df.groupby('Data Year')['Number of Vehicles'].sum()\n",
    "lookbackyears = 10\n",
    "for year in countyvehicle_df['Data Year'].unique()[-lookbackyears:]:\n",
    "    for unexpected_county in unexpected_counties:\n",
    "        unexpected_vehicles = countyvehicle_df[(countyvehicle_df['Data Year'] == year) & \n",
    "                                             (countyvehicle_df['County'] == unexpected_county)]\n",
    "\n",
    "        total_unexpected_vehicles_by_year = unexpected_vehicles['Number of Vehicles'].sum()\n",
    "        \n",
    "        if total_unexpected_vehicles_by_year!= 0:\n",
    "            total_vehicles = vehicles_by_year.get(year, 0)\n",
    "            ratio = total_unexpected_vehicles_by_year/total_vehicles*100\n",
    "            #print(unexpected_county)\n",
    "            #print(total_unexpected_vehicles_by_year_list)\n",
    "            print(f\"Percent of vechicles from '{unexpected_county}' in {year} is: {ratio:.2f}%\")"
   ]
  },
  {
   "cell_type": "markdown",
   "id": "fd568780",
   "metadata": {},
   "source": [
    "Looks like there are out of state vehicles present in our dataset for every year.\n",
    "\n",
    "The non-california vehicles is ~1.3 - 2.1% of total vehicles across our entire data set.\n",
    "We'll make the assumption that they won't impact our analysis and filter them out and check the shape.\n"
   ]
  },
  {
   "cell_type": "code",
   "execution_count": 11,
   "id": "5cbe244a",
   "metadata": {
    "ExecuteTime": {
     "end_time": "2024-10-04T21:38:45.124645Z",
     "start_time": "2024-10-04T21:38:45.119521Z"
    }
   },
   "outputs": [
    {
     "data": {
      "text/plain": "(32763, 5)"
     },
     "execution_count": 11,
     "metadata": {},
     "output_type": "execute_result"
    }
   ],
   "source": [
    "calcountyvehicle_df = countyvehicle_df[~countyvehicle_df['County'].isin(unexpected_counties)]\n",
    "calcountyvehicle_df.shape"
   ]
  },
  {
   "cell_type": "markdown",
   "id": "3e01ccf2",
   "metadata": {},
   "source": [
    "#### Manipulation\n",
    "Next, let's take a look at the fuel types that are used.\n",
    "We're interested in impact of EVs and non-fossil fuel based cars.\n",
    "There are two columns that cover the fuel type. 'Dashboard Fuel Type Group' and 'Fuel Type' that are fully populated (length 32763)\n",
    "Let's take a look at the difference between the two."
   ]
  },
  {
   "cell_type": "code",
   "execution_count": 12,
   "id": "d1f7d2ba",
   "metadata": {
    "ExecuteTime": {
     "end_time": "2024-10-04T21:38:45.132931Z",
     "start_time": "2024-10-04T21:38:45.125585Z"
    }
   },
   "outputs": [
    {
     "data": {
      "text/plain": "                Fuel Type Dashboard Fuel Type Group\n0  Battery Electric (BEV)    Battery Electric (BEV)\n1                  Diesel                    Diesel\n2               Flex Fuel                  Gasoline\n3                Gasoline           Gasoline Hybrid\n4         Gasoline Hybrid                     Other\n5             Natural Gas          Fuel Cell (FCEV)\n6                 Propane     Plug-in Hybrid (PHEV)\n7        Fuel Cell (FCEV)                       NaN\n8   Plug-in Hybrid (PHEV)                       NaN",
      "text/html": "<div>\n<style scoped>\n    .dataframe tbody tr th:only-of-type {\n        vertical-align: middle;\n    }\n\n    .dataframe tbody tr th {\n        vertical-align: top;\n    }\n\n    .dataframe thead th {\n        text-align: right;\n    }\n</style>\n<table border=\"1\" class=\"dataframe\">\n  <thead>\n    <tr style=\"text-align: right;\">\n      <th></th>\n      <th>Fuel Type</th>\n      <th>Dashboard Fuel Type Group</th>\n    </tr>\n  </thead>\n  <tbody>\n    <tr>\n      <th>0</th>\n      <td>Battery Electric (BEV)</td>\n      <td>Battery Electric (BEV)</td>\n    </tr>\n    <tr>\n      <th>1</th>\n      <td>Diesel</td>\n      <td>Diesel</td>\n    </tr>\n    <tr>\n      <th>2</th>\n      <td>Flex Fuel</td>\n      <td>Gasoline</td>\n    </tr>\n    <tr>\n      <th>3</th>\n      <td>Gasoline</td>\n      <td>Gasoline Hybrid</td>\n    </tr>\n    <tr>\n      <th>4</th>\n      <td>Gasoline Hybrid</td>\n      <td>Other</td>\n    </tr>\n    <tr>\n      <th>5</th>\n      <td>Natural Gas</td>\n      <td>Fuel Cell (FCEV)</td>\n    </tr>\n    <tr>\n      <th>6</th>\n      <td>Propane</td>\n      <td>Plug-in Hybrid (PHEV)</td>\n    </tr>\n    <tr>\n      <th>7</th>\n      <td>Fuel Cell (FCEV)</td>\n      <td>NaN</td>\n    </tr>\n    <tr>\n      <th>8</th>\n      <td>Plug-in Hybrid (PHEV)</td>\n      <td>NaN</td>\n    </tr>\n  </tbody>\n</table>\n</div>"
     },
     "execution_count": 12,
     "metadata": {},
     "output_type": "execute_result"
    }
   ],
   "source": [
    "fuel_types_1 = calcountyvehicle_df['Dashboard Fuel Type Group'].unique()\n",
    "fuel_types_2 = calcountyvehicle_df['Fuel Type'].unique()\n",
    "\n",
    "fuel_types_df = pd.DataFrame({\n",
    "    'Fuel Type': pd.Series(fuel_types_2),\n",
    "    'Dashboard Fuel Type Group': pd.Series(fuel_types_1)\n",
    "})\n",
    "\n",
    "fuel_types_df"
   ]
  },
  {
   "cell_type": "markdown",
   "id": "48f2aa91",
   "metadata": {},
   "source": [
    "It appears Dashboard Fuel Type Group goes ahead and clusters them together. \n",
    "We're going to make our own cluster and group together vehicles based on fuel type.\n",
    "\n",
    "Fossil Fuels will consist of:\n",
    "- Diesel\n",
    "- Flex Fuel\n",
    "- Gasoline\n",
    "- Gasoline Hybrid\n",
    "- Natural Gas\n",
    "- Propane\n",
    "\n",
    "Electric Vehicles (EV) will consist of:\n",
    "- Battery Electric\n",
    "- Fuel Cell\n",
    "- Plug-in Hybrid\n",
    "\n",
    "We'll drop the necessary __'Dashboard Fuel Type Group'__ as well."
   ]
  },
  {
   "cell_type": "code",
   "execution_count": 13,
   "id": "f3308c02",
   "metadata": {
    "ExecuteTime": {
     "end_time": "2024-10-04T21:38:45.146798Z",
     "start_time": "2024-10-04T21:38:45.134041Z"
    }
   },
   "outputs": [
    {
     "data": {
      "text/plain": "   Data Year   County               Fuel Type  Number of Vehicles  \\\n0       2010  Alameda  Battery Electric (BEV)                   3   \n1       2010  Alameda  Battery Electric (BEV)                  17   \n2       2010  Alameda                  Diesel               10939   \n3       2010  Alameda               Flex Fuel               10974   \n4       2010  Alameda                Gasoline              840577   \n\n  Fuel Category  \n0            EV  \n1            EV  \n2   Fossil Fuel  \n3   Fossil Fuel  \n4   Fossil Fuel  ",
      "text/html": "<div>\n<style scoped>\n    .dataframe tbody tr th:only-of-type {\n        vertical-align: middle;\n    }\n\n    .dataframe tbody tr th {\n        vertical-align: top;\n    }\n\n    .dataframe thead th {\n        text-align: right;\n    }\n</style>\n<table border=\"1\" class=\"dataframe\">\n  <thead>\n    <tr style=\"text-align: right;\">\n      <th></th>\n      <th>Data Year</th>\n      <th>County</th>\n      <th>Fuel Type</th>\n      <th>Number of Vehicles</th>\n      <th>Fuel Category</th>\n    </tr>\n  </thead>\n  <tbody>\n    <tr>\n      <th>0</th>\n      <td>2010</td>\n      <td>Alameda</td>\n      <td>Battery Electric (BEV)</td>\n      <td>3</td>\n      <td>EV</td>\n    </tr>\n    <tr>\n      <th>1</th>\n      <td>2010</td>\n      <td>Alameda</td>\n      <td>Battery Electric (BEV)</td>\n      <td>17</td>\n      <td>EV</td>\n    </tr>\n    <tr>\n      <th>2</th>\n      <td>2010</td>\n      <td>Alameda</td>\n      <td>Diesel</td>\n      <td>10939</td>\n      <td>Fossil Fuel</td>\n    </tr>\n    <tr>\n      <th>3</th>\n      <td>2010</td>\n      <td>Alameda</td>\n      <td>Flex Fuel</td>\n      <td>10974</td>\n      <td>Fossil Fuel</td>\n    </tr>\n    <tr>\n      <th>4</th>\n      <td>2010</td>\n      <td>Alameda</td>\n      <td>Gasoline</td>\n      <td>840577</td>\n      <td>Fossil Fuel</td>\n    </tr>\n  </tbody>\n</table>\n</div>"
     },
     "execution_count": 13,
     "metadata": {},
     "output_type": "execute_result"
    }
   ],
   "source": [
    "fossil_fuels = ['Diesel', 'Flex Fuel', 'Gasoline', 'Gasoline Hybrid', 'Natural Gas', 'Propane'] \n",
    "evs = ['Battery Electric (BEV)', 'Fuel Cell (FCEV)', 'Plug-in Hybrid (PHEV)']\n",
    "\n",
    "def categorize_fuel(fuel_type):\n",
    "    if fuel_type in fossil_fuels:\n",
    "        return 'Fossil Fuel'\n",
    "    elif fuel_type in evs:\n",
    "        return 'EV'\n",
    "    else:\n",
    "        return 'Other'\n",
    "    \n",
    "calcountyvehicle_df.loc[:, ['Fuel Category']] = calcountyvehicle_df['Fuel Type'].apply(categorize_fuel)\n",
    "calcountyvehicle_df = calcountyvehicle_df.drop(columns=['Dashboard Fuel Type Group'])\n",
    "# Print the DataFrame to check the new column\n",
    "calcountyvehicle_df.head()"
   ]
  },
  {
   "cell_type": "markdown",
   "id": "fbc1d432",
   "metadata": {},
   "source": [
    "Finally, we'll consolidate our dataframe based on __'County'__ and __'Fuel Category'__ and sum the __'Number of Vehicles'__ to provide the first dataframe for merging."
   ]
  },
  {
   "cell_type": "code",
   "execution_count": 14,
   "id": "ae2eefd8",
   "metadata": {
    "ExecuteTime": {
     "end_time": "2024-10-04T21:38:45.158508Z",
     "start_time": "2024-10-04T21:38:45.147806Z"
    }
   },
   "outputs": [
    {
     "data": {
      "text/plain": "      Data Year   County Fuel Category  Number of Vehicles\n0          2010  Alameda            EV                  20\n1          2010  Alameda   Fossil Fuel              885402\n2          2010   Alpine   Fossil Fuel                1041\n3          2010   Amador            EV                   1\n4          2010   Amador   Fossil Fuel               30480\n...         ...      ...           ...                 ...\n1570       2023  Ventura   Fossil Fuel              651851\n1571       2023     Yolo            EV                6757\n1572       2023     Yolo   Fossil Fuel              152560\n1573       2023     Yuba            EV                 961\n1574       2023     Yuba   Fossil Fuel               57567\n\n[1575 rows x 4 columns]",
      "text/html": "<div>\n<style scoped>\n    .dataframe tbody tr th:only-of-type {\n        vertical-align: middle;\n    }\n\n    .dataframe tbody tr th {\n        vertical-align: top;\n    }\n\n    .dataframe thead th {\n        text-align: right;\n    }\n</style>\n<table border=\"1\" class=\"dataframe\">\n  <thead>\n    <tr style=\"text-align: right;\">\n      <th></th>\n      <th>Data Year</th>\n      <th>County</th>\n      <th>Fuel Category</th>\n      <th>Number of Vehicles</th>\n    </tr>\n  </thead>\n  <tbody>\n    <tr>\n      <th>0</th>\n      <td>2010</td>\n      <td>Alameda</td>\n      <td>EV</td>\n      <td>20</td>\n    </tr>\n    <tr>\n      <th>1</th>\n      <td>2010</td>\n      <td>Alameda</td>\n      <td>Fossil Fuel</td>\n      <td>885402</td>\n    </tr>\n    <tr>\n      <th>2</th>\n      <td>2010</td>\n      <td>Alpine</td>\n      <td>Fossil Fuel</td>\n      <td>1041</td>\n    </tr>\n    <tr>\n      <th>3</th>\n      <td>2010</td>\n      <td>Amador</td>\n      <td>EV</td>\n      <td>1</td>\n    </tr>\n    <tr>\n      <th>4</th>\n      <td>2010</td>\n      <td>Amador</td>\n      <td>Fossil Fuel</td>\n      <td>30480</td>\n    </tr>\n    <tr>\n      <th>...</th>\n      <td>...</td>\n      <td>...</td>\n      <td>...</td>\n      <td>...</td>\n    </tr>\n    <tr>\n      <th>1570</th>\n      <td>2023</td>\n      <td>Ventura</td>\n      <td>Fossil Fuel</td>\n      <td>651851</td>\n    </tr>\n    <tr>\n      <th>1571</th>\n      <td>2023</td>\n      <td>Yolo</td>\n      <td>EV</td>\n      <td>6757</td>\n    </tr>\n    <tr>\n      <th>1572</th>\n      <td>2023</td>\n      <td>Yolo</td>\n      <td>Fossil Fuel</td>\n      <td>152560</td>\n    </tr>\n    <tr>\n      <th>1573</th>\n      <td>2023</td>\n      <td>Yuba</td>\n      <td>EV</td>\n      <td>961</td>\n    </tr>\n    <tr>\n      <th>1574</th>\n      <td>2023</td>\n      <td>Yuba</td>\n      <td>Fossil Fuel</td>\n      <td>57567</td>\n    </tr>\n  </tbody>\n</table>\n<p>1575 rows × 4 columns</p>\n</div>"
     },
     "execution_count": 14,
     "metadata": {},
     "output_type": "execute_result"
    }
   ],
   "source": [
    "fueltype_per_countyyear_totals_df = calcountyvehicle_df.groupby(['Data Year','County','Fuel Category'])['Number of Vehicles'].sum().reset_index()\n",
    "## Optional to export out as an excel file - uncomment next line ##\n",
    "# vehicle_df.to_csv('vehicle_df', index = False)\n",
    "\n",
    "fueltype_per_countyyear_totals_df\n"
   ]
  },
  {
   "cell_type": "markdown",
   "id": "82480311",
   "metadata": {},
   "source": [
    "#### Visualization\n",
    "Now, let's take a look at the trends of the vehicles!"
   ]
  },
  {
   "cell_type": "code",
   "execution_count": 15,
   "id": "396bf915eb5ce046",
   "metadata": {
    "ExecuteTime": {
     "end_time": "2024-10-04T21:38:45.266157Z",
     "start_time": "2024-10-04T21:38:45.159513Z"
    }
   },
   "outputs": [
    {
     "data": {
      "text/plain": "<Figure size 400x400 with 1 Axes>",
      "image/png": "[encoded data removed]"
     },
     "metadata": {},
     "output_type": "display_data"
    }
   ],
   "source": [
    "def yearlyVehiclesbyType(df):\n",
    "    # Group the data by 'Data Year' and 'Fuel Category', summing the number of vehicles\n",
    "    grouped_df = df.groupby(['Data Year', 'Fuel Category'])['Number of Vehicles'].sum().reset_index()\n",
    "\n",
    "    # Create a new column for the year-over-year growth rate\n",
    "    grouped_df['Growth Rate'] = grouped_df.groupby('Fuel Category')['Number of Vehicles'].pct_change() * 100\n",
    "\n",
    "    plt.figure(figsize=(4, 4))\n",
    "\n",
    "    # Create subplots: the first plot for vehicle count, the second for growth rate\n",
    "    color_mapping = {\n",
    "        'EV': '#708238', ## sage     \n",
    "        'Fossil Fuel': '#87CEEB'## skyblue       \n",
    "    }\n",
    "\n",
    "    ## Create a line plot for each category of fuel ##\n",
    "    for fuel in grouped_df['Fuel Category'].unique():\n",
    "        fuel_group_df = grouped_df[grouped_df['Fuel Category'] == fuel]\n",
    "        color = color_mapping.get(fuel)\n",
    "        plt.plot(fuel_group_df['Data Year'], fuel_group_df['Number of Vehicles'] / 1000000, label=fuel,color = color)\n",
    "\n",
    "        ## Annotate the first and last points ##\n",
    "        first_year = fuel_group_df.iloc[0]['Data Year']\n",
    "        first_value = fuel_group_df.iloc[0]['Number of Vehicles'] / 1000000\n",
    "        plt.annotate(f'{first_value:.2f}M', (first_year, first_value), textcoords=\"offset points\", xytext=(10, 10), ha='center')\n",
    "        plt.plot(first_year, first_value, 'o', color='black')\n",
    "\n",
    "        last_year = fuel_group_df.iloc[-1]['Data Year']\n",
    "        last_value = fuel_group_df.iloc[-1]['Number of Vehicles'] / 1000000\n",
    "        plt.annotate(f'{last_value:.2f}M', (last_year, last_value), textcoords=\"offset points\", xytext=(-10, 10), ha='center')\n",
    "        plt.plot(last_year, last_value, 'o', color='black')\n",
    "\n",
    "\n",
    "    years = grouped_df['Data Year'].unique()\n",
    "    first_year = years[0]\n",
    "    middle_year = years[len(years) // 2]  # Calculate the middle year\n",
    "    last_year = years[-1]\n",
    "    plt.xticks([first_year, middle_year, last_year], [first_year, middle_year, last_year])\n",
    "\n",
    "    plt.title('CA Vehicles: Annual Counts')\n",
    "    ax = plt.gca()\n",
    "    ax.spines['right'].set_visible(False)\n",
    "    ax.spines['left'].set_visible(False)\n",
    "    ax.spines['top'].set_visible(False)\n",
    "\n",
    "    plt.ylabel(\"Vehicles (in millions)\")\n",
    "    plt.xlabel(\"Year\")\n",
    "    plt.legend(title='Fuel Category')\n",
    "    ## Optional to save image ##\n",
    "    save_img = False\n",
    "    if save_img:\n",
    "        plt.savefig(\"graphic_caliVehiclesGrowthRate.png\",dpi=300)\n",
    "    plt.tight_layout()\n",
    "    plt.show()\n",
    "\n",
    "yearlyVehiclesbyType(fueltype_per_countyyear_totals_df)"
   ]
  },
  {
   "cell_type": "markdown",
   "id": "f6b6989c",
   "metadata": {},
   "source": [
    "There seems to be a steady growth of EVs and Fossil Fuel vehicles from 2010 to 2023. But - the total number of EVs went from a 0% market share in 2010 to a ~5% market share in 2023. That confirms our suspicion that EVs are being increasingly adopted. Let's visualize the growth rate of each category of vehicles."
   ]
  },
  {
   "cell_type": "code",
   "execution_count": 16,
   "id": "f19dcc50b9bee7c2",
   "metadata": {
    "ExecuteTime": {
     "end_time": "2024-10-04T21:38:45.562922Z",
     "start_time": "2024-10-04T21:38:45.267296Z"
    }
   },
   "outputs": [
    {
     "data": {
      "text/plain": "<Figure size 1200x400 with 1 Axes>",
      "image/png": "[encoded data removed]"
     },
     "metadata": {},
     "output_type": "display_data"
    }
   ],
   "source": [
    "def percent_formatter(x, pos):\n",
    "    ## function to adjust y-scaling based on percentage growth##\n",
    "    return f'{int(x)}%'\n",
    "\n",
    "def vehicleGrowthRate(df):\n",
    "    ## Group the data by 'Data Year' and 'Fuel Category', summing the number of vehicles ##\n",
    "    grouped_df = df.groupby(['Data Year', 'Fuel Category'])['Number of Vehicles'].sum().reset_index()\n",
    "\n",
    "    ## Calculate the year-over-year growth rate and drop first year (.dropna) ##\n",
    "    grouped_df['Growth Rate'] = grouped_df.groupby('Fuel Category')['Number of Vehicles'].pct_change() * 100\n",
    "    grouped_df = grouped_df.dropna(subset=['Growth Rate'])\n",
    "\n",
    "    ## Plotting the growth rate as an overlapped bar graph ##\n",
    "    plt.figure(figsize=(12, 4))\n",
    "    bar_width = 0.4\n",
    "\n",
    "    color_mapping = {\n",
    "            'EV': '#708238', ## sage     \n",
    "            'Fossil Fuel': '#87CEEB'## skyblue       \n",
    "        }\n",
    "\n",
    "    ## Define x positions for the bars ##\n",
    "    x = np.arange(len(grouped_df['Data Year'].unique()))\n",
    "    years_with_data = grouped_df['Data Year'].unique()\n",
    "\n",
    "    # Bar plot for growth rates with overlapping bars\n",
    "    for i, fuel in enumerate(grouped_df['Fuel Category'].unique()):\n",
    "        fuel_df = grouped_df[grouped_df['Fuel Category'] == fuel]\n",
    "\n",
    "        color = color_mapping.get(fuel)\n",
    "\n",
    "        ## Using the index to plot bars at the same x position but different colors ##\n",
    "        plt.bar(x + (i * bar_width), fuel_df['Growth Rate'], width=bar_width, label=fuel, alpha=0.7, color=color)\n",
    "\n",
    "    ## Set the x-ticks to show the years, split for number of fuel types ##\n",
    "    number_of_fuel_types = len(grouped_df['Fuel Category'].unique())\n",
    "    plt.xticks(x + (bar_width * (number_of_fuel_types - 1) / 2), years_with_data)\n",
    "\n",
    "    ## Annotate the bars with the growth rates ##\n",
    "    for i, fuel in enumerate(grouped_df['Fuel Category'].unique()):\n",
    "\n",
    "        ## get df for particular fuel ##\n",
    "        fuel_df = grouped_df[grouped_df['Fuel Category'] == fuel]\n",
    "\n",
    "        ## iterate through year (x position) and position the value (percentage) at the top of the bar, offset ##\n",
    "        for j, value in enumerate(fuel_df['Growth Rate']):\n",
    "\n",
    "            ## Adjust xytext position depending on direction of bar (positive vs. negative)\n",
    "            if value>=0:\n",
    "                plt.annotate(f'{value:.1f}%', (x[j] + (i * bar_width), value), \n",
    "                             textcoords=\"offset points\", xytext=(4, 5), ha='center')\n",
    "            if value<0:\n",
    "                plt.annotate(f'{value:.1f}%', (x[j] + (i * bar_width), value), \n",
    "                             textcoords=\"offset points\", xytext=(4, -10), ha='center')\n",
    "    ## Title and Labels ##\n",
    "    plt.ylabel(\"Growth Rate (%)\")\n",
    "    plt.xlabel(\"Year\")\n",
    "    \n",
    "    #plt.ylabel('Year-over-Year Growth Rate (%)',fontsize=12)\n",
    "    plt.title('CA Vehicles: YoY Growth Rate by Fuel Type',fontsize=14)\n",
    "    plt.axhline(0, color='gray', linewidth=0.8, linestyle='--')  # Add a horizontal line at y=0 for reference\n",
    "\n",
    "    ## Set the y-axis to a logarithmic scaling and account for presence of negative values using 'sumlog' ##\n",
    "    plt.yscale('symlog',linthresh=25)\n",
    "\n",
    "    ## Add exponential 25% buffer above the max growth rate ##\n",
    "    max_growth = grouped_df['Growth Rate'].max()\n",
    "    buffer_top = max_growth ** 1.2 \n",
    "\n",
    "    ## Keep the bottom close to zero but a little lower to see negative values ##\n",
    "    buffer_bottom = -(abs(grouped_df['Growth Rate'].min()) ** 2) \n",
    "\n",
    "    ## Set the y-limits and format them to show it as a percentage ##\n",
    "    plt.ylim(buffer_bottom, buffer_top)\n",
    "    plt.gca().yaxis.set_major_formatter(FuncFormatter(percent_formatter))\n",
    "    ax = plt.gca()\n",
    "    ax.spines['right'].set_visible(False)\n",
    "    ax.spines['left'].set_visible(False)\n",
    "    ax.spines['top'].set_visible(False)\n",
    "    plt.legend(fontsize = 12)\n",
    "\n",
    "    ## optional logic to save image ##\n",
    "    save_img = False\n",
    "    if save_img:\n",
    "        plt.savefig(\"graphic_caliVehiclesGrowthRate.png\",dpi=300)\n",
    "\n",
    "\n",
    "    ## Show the plot ##\n",
    "    plt.tight_layout()\n",
    "    plt.show()\n",
    "\n",
    "vehicleGrowthRate(fueltype_per_countyyear_totals_df)"
   ]
  },
  {
   "cell_type": "markdown",
   "id": "fd768f54",
   "metadata": {
    "ExecuteTime": {
     "end_time": "2024-09-30T16:50:17.545344Z",
     "start_time": "2024-09-30T16:50:17.520879Z"
    }
   },
   "source": [
    "EVs appear to have a stabilized year over year growth rate of ~30% whereas fossil fuel vehicles seem to have plateaued and may be trending downwards."
   ]
  },
  {
   "cell_type": "markdown",
   "id": "36cec2042fc2495c",
   "metadata": {},
   "source": [
    "# PM 2.5 Emission by County - Import, Cleaning, and Manipulation\n",
    "The United States Environmental Protection Agency requires counties to report daily air quality values. Annual datasets are publicly available at https://www.epa.gov/outdoor-air-quality-data/download-daily-data. Data from 2010 to 2024 was downloaded in the file 'pm_data'. \n",
    "\n",
    "Each dataset contains a plethora information including the date recorded, source name, site ID, daily mean PM2.5 concentration, concentration units, methodology, codes, county, site latitude and longitude. \n",
    "\n",
    "The goal is to filter and manipulate the dataframes to create a consolidated PM2.5 dataset that includes the year, county, average PM2.5 emissions per county, and the number of monitoring sites within each county. "
   ]
  },
  {
   "cell_type": "markdown",
   "id": "8a0285a7afc9fe89",
   "metadata": {},
   "source": [
    "#### Import Data\n",
    "Data is provided, but can be imported directly from the URL."
   ]
  },
  {
   "cell_type": "code",
   "execution_count": 17,
   "id": "b955f97b075a4f13",
   "metadata": {
    "ExecuteTime": {
     "end_time": "2024-10-04T21:38:45.567319Z",
     "start_time": "2024-10-04T21:38:45.564325Z"
    }
   },
   "outputs": [],
   "source": [
    "csv_2010 = 'pm_data/ad_viz_plotval_data_2010.csv'\n",
    "csv_2011 = 'pm_data/ad_viz_plotval_data_2011.csv'\n",
    "csv_2012 = 'pm_data/ad_viz_plotval_data_2012.csv'\n",
    "csv_2013 = 'pm_data/ad_viz_plotval_data_2013.csv'\n",
    "csv_2014 = 'pm_data/ad_viz_plotval_data_2014.csv'\n",
    "csv_2015 = 'pm_data/ad_viz_plotval_data_2015.csv'\n",
    "csv_2016 = 'pm_data/ad_vis_plotval_data_2016.csv'\n",
    "csv_2017 = 'pm_data/ad_viz_plotval_data_2017.csv'\n",
    "csv_2018 = 'pm_data/ad_viz_plotval_data2018.csv'\n",
    "csv_2019 = 'pm_data/ad_viz_plotval_data2019.csv'\n",
    "csv_2020 = 'pm_data/ad_viz_plotval_data2020.csv'\n",
    "csv_2021 = 'pm_data/ad_viz_plotval_data2020.csv'\n",
    "csv_2022 = 'pm_data/ad_viz_plotval_data2022.csv'\n",
    "csv_2023 = 'pm_data/ad_viz_plotval_data2023.csv'\n",
    "csv_2024 = 'pm_data/ad_viz_plotval_data2024.csv'"
   ]
  },
  {
   "cell_type": "markdown",
   "id": "a5955823-0033-4e1c-ab75-95c40b3d3ecb",
   "metadata": {},
   "source": [
    "#### Inspect and Clean Data \n",
    "Evaluating the dataset and determining what can be cut out. "
   ]
  },
  {
   "cell_type": "code",
   "execution_count": 18,
   "id": "d82bdff5-f84f-40b6-833a-3b2424f86284",
   "metadata": {
    "ExecuteTime": {
     "end_time": "2024-10-04T21:38:45.670422Z",
     "start_time": "2024-10-04T21:38:45.568932Z"
    }
   },
   "outputs": [
    {
     "data": {
      "text/plain": "Index(['Date', 'Source', 'Site ID', 'POC', 'Daily Mean PM2.5 Concentration',\n       'Units', 'Daily AQI Value', 'Local Site Name', 'Daily Obs Count',\n       'Percent Complete', 'AQS Parameter Code', 'AQS Parameter Description',\n       'Method Code', 'Method Description', 'CBSA Code', 'CBSA Name',\n       'State FIPS Code', 'State', 'County FIPS Code', 'County',\n       'Site Latitude', 'Site Longitude'],\n      dtype='object')"
     },
     "execution_count": 18,
     "metadata": {},
     "output_type": "execute_result"
    }
   ],
   "source": [
    "df = pd.read_csv(csv_2012)\n",
    "df.columns"
   ]
  },
  {
   "cell_type": "code",
   "execution_count": 19,
   "id": "2e7a7aba-3c87-4773-9d60-2836856949be",
   "metadata": {
    "ExecuteTime": {
     "end_time": "2024-10-04T21:38:45.676671Z",
     "start_time": "2024-10-04T21:38:45.672200Z"
    }
   },
   "outputs": [
    {
     "data": {
      "text/plain": "(44537, 22)"
     },
     "execution_count": 19,
     "metadata": {},
     "output_type": "execute_result"
    }
   ],
   "source": [
    "df.shape"
   ]
  },
  {
   "cell_type": "markdown",
   "id": "f81891ad-07de-4260-9ef2-c856b4479279",
   "metadata": {},
   "source": [
    "The columns that will be kept are: ['Date', 'Daily Mean PM2.5 Concentration','Units', 'Site ID', 'County']. From these, Data Year, Average PM 2.5/County, Number of Site IDs/County can be dermined to study the yearly average particulate matter present in each county."
   ]
  },
  {
   "cell_type": "code",
   "execution_count": 20,
   "id": "e7182e334bcea24d",
   "metadata": {
    "ExecuteTime": {
     "end_time": "2024-10-04T21:38:45.682307Z",
     "start_time": "2024-10-04T21:38:45.678499Z"
    }
   },
   "outputs": [],
   "source": [
    "# This function takes a file name, extracts applicable columns, \n",
    "# manipulates them into the proper format, and returns a mergeable dataframe. \n",
    "def avg_pm_value(filename): \n",
    "    # loading data\n",
    "    df = pd.read_csv(filename)\n",
    "    # We are only concerned with the following columns: \n",
    "    df = df[['Date', 'Daily Mean PM2.5 Concentration','Units', 'Site ID', 'County']]\n",
    "    # changing date column to datetime \n",
    "    df['Date'] = pd.to_datetime(df['Date'])\n",
    "    # adding year column \n",
    "    df['Data Year'] = df['Date'].dt.year\n",
    "    # determining unique sites per county \n",
    "    unique_sites_per_county = df.groupby('County')['Site ID'].nunique().reset_index()\n",
    "    unique_sites_per_county.rename(columns={'Site ID': 'Number of Site IDs/County'}, inplace=True) \n",
    "    # average pm2.5 values per county \n",
    "    avg_pm_value =df.groupby(['County', 'Data Year'])['Daily Mean PM2.5 Concentration'].mean().reset_index()\n",
    "    avg_pm_value.rename(columns={'Daily Mean PM2.5 Concentration': 'Average PM 2.5/County'}, inplace=True)\n",
    "    # merging tables \n",
    "    avg_df = unique_sites_per_county.merge(avg_pm_value, on='County')\n",
    "    avg_df = avg_df.pivot_table(index ='County', values = ['Data Year','Average PM 2.5/County', 'Number of Site IDs/County'])\n",
    "    avg_df.reset_index(inplace=True)\n",
    "    return avg_df"
   ]
  },
  {
   "cell_type": "code",
   "execution_count": 21,
   "id": "b70898d1585bc501",
   "metadata": {
    "ExecuteTime": {
     "end_time": "2024-10-04T21:38:48.362799Z",
     "start_time": "2024-10-04T21:38:45.683549Z"
    }
   },
   "outputs": [],
   "source": [
    "# Putting all file names through avg_pm_value function \n",
    "df_2010 = avg_pm_value(csv_2010)\n",
    "df_2011 = avg_pm_value(csv_2011)\n",
    "df_2012 = avg_pm_value(csv_2012)\n",
    "df_2013 = avg_pm_value(csv_2013)\n",
    "df_2014 = avg_pm_value(csv_2014)\n",
    "df_2015 = avg_pm_value(csv_2015)\n",
    "df_2016 = avg_pm_value(csv_2016) \n",
    "df_2017 = avg_pm_value(csv_2017)\n",
    "df_2018 = avg_pm_value(csv_2018)\n",
    "df_2019 = avg_pm_value(csv_2019)\n",
    "df_2020 = avg_pm_value(csv_2020)\n",
    "df_2021 = avg_pm_value(csv_2021)\n",
    "df_2022 = avg_pm_value(csv_2022)\n",
    "df_2023 = avg_pm_value(csv_2023)\n",
    "df_2024 = avg_pm_value(csv_2024)"
   ]
  },
  {
   "cell_type": "code",
   "execution_count": 22,
   "id": "29173cb2abc283b5",
   "metadata": {
    "ExecuteTime": {
     "end_time": "2024-10-04T21:38:48.370048Z",
     "start_time": "2024-10-04T21:38:48.363932Z"
    }
   },
   "outputs": [
    {
     "data": {
      "text/plain": "   Data Year        County  Average PM 2.5/County  Number of Site IDs/County\n0       2010       Alameda               8.165623                          5\n1       2010         Butte               8.776451                          3\n2       2010     Calaveras               7.380349                          1\n3       2010        Colusa               6.054913                          1\n4       2010  Contra Costa               7.606920                          1",
      "text/html": "<div>\n<style scoped>\n    .dataframe tbody tr th:only-of-type {\n        vertical-align: middle;\n    }\n\n    .dataframe tbody tr th {\n        vertical-align: top;\n    }\n\n    .dataframe thead th {\n        text-align: right;\n    }\n</style>\n<table border=\"1\" class=\"dataframe\">\n  <thead>\n    <tr style=\"text-align: right;\">\n      <th></th>\n      <th>Data Year</th>\n      <th>County</th>\n      <th>Average PM 2.5/County</th>\n      <th>Number of Site IDs/County</th>\n    </tr>\n  </thead>\n  <tbody>\n    <tr>\n      <th>0</th>\n      <td>2010</td>\n      <td>Alameda</td>\n      <td>8.165623</td>\n      <td>5</td>\n    </tr>\n    <tr>\n      <th>1</th>\n      <td>2010</td>\n      <td>Butte</td>\n      <td>8.776451</td>\n      <td>3</td>\n    </tr>\n    <tr>\n      <th>2</th>\n      <td>2010</td>\n      <td>Calaveras</td>\n      <td>7.380349</td>\n      <td>1</td>\n    </tr>\n    <tr>\n      <th>3</th>\n      <td>2010</td>\n      <td>Colusa</td>\n      <td>6.054913</td>\n      <td>1</td>\n    </tr>\n    <tr>\n      <th>4</th>\n      <td>2010</td>\n      <td>Contra Costa</td>\n      <td>7.606920</td>\n      <td>1</td>\n    </tr>\n  </tbody>\n</table>\n</div>"
     },
     "execution_count": 22,
     "metadata": {},
     "output_type": "execute_result"
    }
   ],
   "source": [
    "# Creating one dataframe from each year. \n",
    "df_2010_2024= pd.concat([df_2010, df_2011, df_2012, df_2013, df_2014, df_2015, df_2016, df_2017, df_2018, df_2019, df_2020, df_2021, df_2022, df_2023, df_2024], ignore_index=True, axis = 0)\n",
    "df_2010_2024['Data Year'] = df_2010_2024['Data Year'].astype(int)\n",
    "df_2010_2024 = df_2010_2024[['Data Year', 'County', 'Average PM 2.5/County', 'Number of Site IDs/County']]\n",
    "# renaming dataset for clarity \n",
    "df_pm = df_2010_2024\n",
    "df_pm.head()"
   ]
  },
  {
   "cell_type": "markdown",
   "id": "3b537264",
   "metadata": {},
   "source": [
    "# California Population - Import, Cleaning, and Manipulation \n",
    "We will use two population datasets: one detailing the total population per county, and another focusing on the population of individuals aged 18 and above per county. This allows us to compare the overall county populations with the potential number of car owners, as most individuals under 18 typically do not own a car."
   ]
  },
  {
   "cell_type": "markdown",
   "id": "18ab2e14f15a4573",
   "metadata": {},
   "source": [
    "### Total Population\n",
    "From data on births, deaths, and migration, the State of California Department of Finances releases an estimate of the state's county population. \n",
    "Each dataset is organized by decade, and can be found at: https://dof.ca.gov/forecasting/demographics/estimates/. Data from 2010 to 2023 was downloaded as \n",
    "\"E-4_2010-2020-Internet-Version.xlsx\" and \"E-4_2021_2024_InternetVersion (1).xlsx.\"\n",
    "\n",
    "Each dateset contains each county's population estimate by year. \n",
    "\n",
    "Our goal for the datasets is to clean and merge them into a single dataframe that contains the population estimate by county during 2010-2023. "
   ]
  },
  {
   "cell_type": "markdown",
   "id": "7216b1a4b9f85f37",
   "metadata": {},
   "source": [
    "#### Import Data\n",
    "Each dataset had multiple sheets, but we were interested in the sheet that recorded the population by county ('Table 1 County State')."
   ]
  },
  {
   "cell_type": "code",
   "execution_count": 24,
   "id": "423a1e022119c694",
   "metadata": {
    "ExecuteTime": {
     "end_time": "2024-10-04T21:38:51.421442Z",
     "start_time": "2024-10-04T21:38:48.373738Z"
    }
   },
   "outputs": [],
   "source": [
    "df_2010_2020 = pd.read_excel('./population_data/E-4_2010-2020-Internet-Version.xlsx', sheet_name= 'Table 1 County State')\n",
    "df_2021_2023 = pd.read_excel('./population_data/E-4_2021_2024_InternetVersion (1).xlsx',sheet_name='Table 1 County State') "
   ]
  },
  {
   "cell_type": "code",
   "execution_count": 25,
   "id": "b280d85912223f82",
   "metadata": {
    "ExecuteTime": {
     "end_time": "2024-10-04T21:38:51.427404Z",
     "start_time": "2024-10-04T21:38:51.422309Z"
    }
   },
   "outputs": [
    {
     "data": {
      "text/plain": "  Table 1: E-4 Population Estimates for Counties and State 2011-2020 with 2010 Benchmark  \\\n0                                             COUNTY                                       \n1                               Alameda                                                    \n2                               Alpine                                                     \n3                               Amador                                                     \n4                               Butte                                                      \n\n  Unnamed: 1 Unnamed: 2 Unnamed: 3 Unnamed: 4 Unnamed: 5 Unnamed: 6  \\\n0   4/1/2010   1/1/2011   1/1/2012   1/1/2013   1/1/2014   1/1/2015   \n1    1510271    1527169    1549193    1575139    1597747    1622205   \n2       1175       1174       1176       1180       1185       1190   \n3      38091      37089      37272      37044      37089      37453   \n4     220000     221377     222623     224391     225737     227400   \n\n  Unnamed: 7 Unnamed: 8 Unnamed: 9 Unnamed: 10 Unnamed: 11 Unnamed: 12  \\\n0   1/1/2016   1/1/2017   1/1/2018    1/1/2019    1/1/2020    4/1/2020   \n1    1641983    1656919    1666247     1675964     1681337     1682353   \n2       1196       1201       1205        1201        1204        1204   \n3      37663      38807      39708       40227       40426       40474   \n4     228198     230412     231774      227263      216090      211632   \n\n  Unnamed: 13 Unnamed: 14  \n0     Column1     Column2  \n1         NaN         NaN  \n2         NaN         NaN  \n3         NaN         NaN  \n4         NaN         NaN  ",
      "text/html": "<div>\n<style scoped>\n    .dataframe tbody tr th:only-of-type {\n        vertical-align: middle;\n    }\n\n    .dataframe tbody tr th {\n        vertical-align: top;\n    }\n\n    .dataframe thead th {\n        text-align: right;\n    }\n</style>\n<table border=\"1\" class=\"dataframe\">\n  <thead>\n    <tr style=\"text-align: right;\">\n      <th></th>\n      <th>Table 1: E-4 Population Estimates for Counties and State 2011-2020 with 2010 Benchmark</th>\n      <th>Unnamed: 1</th>\n      <th>Unnamed: 2</th>\n      <th>Unnamed: 3</th>\n      <th>Unnamed: 4</th>\n      <th>Unnamed: 5</th>\n      <th>Unnamed: 6</th>\n      <th>Unnamed: 7</th>\n      <th>Unnamed: 8</th>\n      <th>Unnamed: 9</th>\n      <th>Unnamed: 10</th>\n      <th>Unnamed: 11</th>\n      <th>Unnamed: 12</th>\n      <th>Unnamed: 13</th>\n      <th>Unnamed: 14</th>\n    </tr>\n  </thead>\n  <tbody>\n    <tr>\n      <th>0</th>\n      <td>COUNTY</td>\n      <td>4/1/2010</td>\n      <td>1/1/2011</td>\n      <td>1/1/2012</td>\n      <td>1/1/2013</td>\n      <td>1/1/2014</td>\n      <td>1/1/2015</td>\n      <td>1/1/2016</td>\n      <td>1/1/2017</td>\n      <td>1/1/2018</td>\n      <td>1/1/2019</td>\n      <td>1/1/2020</td>\n      <td>4/1/2020</td>\n      <td>Column1</td>\n      <td>Column2</td>\n    </tr>\n    <tr>\n      <th>1</th>\n      <td>Alameda</td>\n      <td>1510271</td>\n      <td>1527169</td>\n      <td>1549193</td>\n      <td>1575139</td>\n      <td>1597747</td>\n      <td>1622205</td>\n      <td>1641983</td>\n      <td>1656919</td>\n      <td>1666247</td>\n      <td>1675964</td>\n      <td>1681337</td>\n      <td>1682353</td>\n      <td>NaN</td>\n      <td>NaN</td>\n    </tr>\n    <tr>\n      <th>2</th>\n      <td>Alpine</td>\n      <td>1175</td>\n      <td>1174</td>\n      <td>1176</td>\n      <td>1180</td>\n      <td>1185</td>\n      <td>1190</td>\n      <td>1196</td>\n      <td>1201</td>\n      <td>1205</td>\n      <td>1201</td>\n      <td>1204</td>\n      <td>1204</td>\n      <td>NaN</td>\n      <td>NaN</td>\n    </tr>\n    <tr>\n      <th>3</th>\n      <td>Amador</td>\n      <td>38091</td>\n      <td>37089</td>\n      <td>37272</td>\n      <td>37044</td>\n      <td>37089</td>\n      <td>37453</td>\n      <td>37663</td>\n      <td>38807</td>\n      <td>39708</td>\n      <td>40227</td>\n      <td>40426</td>\n      <td>40474</td>\n      <td>NaN</td>\n      <td>NaN</td>\n    </tr>\n    <tr>\n      <th>4</th>\n      <td>Butte</td>\n      <td>220000</td>\n      <td>221377</td>\n      <td>222623</td>\n      <td>224391</td>\n      <td>225737</td>\n      <td>227400</td>\n      <td>228198</td>\n      <td>230412</td>\n      <td>231774</td>\n      <td>227263</td>\n      <td>216090</td>\n      <td>211632</td>\n      <td>NaN</td>\n      <td>NaN</td>\n    </tr>\n  </tbody>\n</table>\n</div>"
     },
     "execution_count": 25,
     "metadata": {},
     "output_type": "execute_result"
    }
   ],
   "source": [
    "df_2010_2020.head()"
   ]
  },
  {
   "cell_type": "code",
   "outputs": [
    {
     "data": {
      "text/plain": "(60, 15)"
     },
     "execution_count": 26,
     "metadata": {},
     "output_type": "execute_result"
    }
   ],
   "source": [
    "df_2010_2020.shape"
   ],
   "metadata": {
    "collapsed": false,
    "ExecuteTime": {
     "end_time": "2024-10-04T21:38:51.430008Z",
     "start_time": "2024-10-04T21:38:51.427981Z"
    }
   },
   "id": "1673b2592685dd8a",
   "execution_count": 26
  },
  {
   "cell_type": "code",
   "execution_count": 27,
   "id": "4a3ef195500efff0",
   "metadata": {
    "ExecuteTime": {
     "end_time": "2024-10-04T21:38:51.433834Z",
     "start_time": "2024-10-04T21:38:51.430558Z"
    }
   },
   "outputs": [
    {
     "data": {
      "text/plain": "                                      About the Data Unnamed: 1 Unnamed: 2  \\\n0  Table 1: E-4 Population Estimates for Counties...        NaN        NaN   \n1                                             COUNTY   4/1/2020   1/1/2021   \n2                               Alameda                 1682353    1666341   \n3                               Alpine                     1204       1195   \n4                               Amador                    40474      40047   \n\n  Unnamed: 3 Unnamed: 4 Unnamed: 5  \n0        NaN        NaN        NaN  \n1   1/1/2022   1/1/2023   1/1/2024  \n2    1643683    1650656    1641869  \n3       1190       1183       1179  \n4      40010      39924      39611  ",
      "text/html": "<div>\n<style scoped>\n    .dataframe tbody tr th:only-of-type {\n        vertical-align: middle;\n    }\n\n    .dataframe tbody tr th {\n        vertical-align: top;\n    }\n\n    .dataframe thead th {\n        text-align: right;\n    }\n</style>\n<table border=\"1\" class=\"dataframe\">\n  <thead>\n    <tr style=\"text-align: right;\">\n      <th></th>\n      <th>About the Data</th>\n      <th>Unnamed: 1</th>\n      <th>Unnamed: 2</th>\n      <th>Unnamed: 3</th>\n      <th>Unnamed: 4</th>\n      <th>Unnamed: 5</th>\n    </tr>\n  </thead>\n  <tbody>\n    <tr>\n      <th>0</th>\n      <td>Table 1: E-4 Population Estimates for Counties...</td>\n      <td>NaN</td>\n      <td>NaN</td>\n      <td>NaN</td>\n      <td>NaN</td>\n      <td>NaN</td>\n    </tr>\n    <tr>\n      <th>1</th>\n      <td>COUNTY</td>\n      <td>4/1/2020</td>\n      <td>1/1/2021</td>\n      <td>1/1/2022</td>\n      <td>1/1/2023</td>\n      <td>1/1/2024</td>\n    </tr>\n    <tr>\n      <th>2</th>\n      <td>Alameda</td>\n      <td>1682353</td>\n      <td>1666341</td>\n      <td>1643683</td>\n      <td>1650656</td>\n      <td>1641869</td>\n    </tr>\n    <tr>\n      <th>3</th>\n      <td>Alpine</td>\n      <td>1204</td>\n      <td>1195</td>\n      <td>1190</td>\n      <td>1183</td>\n      <td>1179</td>\n    </tr>\n    <tr>\n      <th>4</th>\n      <td>Amador</td>\n      <td>40474</td>\n      <td>40047</td>\n      <td>40010</td>\n      <td>39924</td>\n      <td>39611</td>\n    </tr>\n  </tbody>\n</table>\n</div>"
     },
     "execution_count": 27,
     "metadata": {},
     "output_type": "execute_result"
    }
   ],
   "source": [
    "df_2021_2023.head()"
   ]
  },
  {
   "cell_type": "code",
   "outputs": [
    {
     "data": {
      "text/plain": "(61, 6)"
     },
     "execution_count": 28,
     "metadata": {},
     "output_type": "execute_result"
    }
   ],
   "source": [
    "df_2021_2023.shape"
   ],
   "metadata": {
    "collapsed": false,
    "ExecuteTime": {
     "end_time": "2024-10-04T21:38:51.436236Z",
     "start_time": "2024-10-04T21:38:51.434377Z"
    }
   },
   "id": "29fa9bd5c786897c",
   "execution_count": 28
  },
  {
   "cell_type": "markdown",
   "id": "82798971c80f7a78",
   "metadata": {},
   "source": [
    "#### Format data \n",
    "As it stands, each dataset will not be able to merge with df_pm or df_vehicles. \n",
    "Let's clean up df_2010_2020 first."
   ]
  },
  {
   "cell_type": "code",
   "execution_count": 29,
   "id": "20dae4056e18aa51",
   "metadata": {
    "ExecuteTime": {
     "end_time": "2024-10-04T21:38:51.444872Z",
     "start_time": "2024-10-04T21:38:51.437035Z"
    }
   },
   "outputs": [
    {
     "data": {
      "text/plain": "                 County     2010     2011     2012     2013     2014     2015  \\\n0  Alameda               1510271  1527169  1549193  1575139  1597747  1622205   \n1  Alpine                   1175     1174     1176     1180     1185     1190   \n2  Amador                  38091    37089    37272    37044    37089    37453   \n3  Butte                  220000   221377   222623   224391   225737   227400   \n4  Calaveras               45578    45561    45544    45499    45461    45395   \n\n      2016     2017     2018     2019     2020  \n0  1641983  1656919  1666247  1675964  1681337  \n1     1196     1201     1205     1201     1204  \n2    37663    38807    39708    40227    40426  \n3   228198   230412   231774   227263   216090  \n4    45402    45355    45367    45324    45290  ",
      "text/html": "<div>\n<style scoped>\n    .dataframe tbody tr th:only-of-type {\n        vertical-align: middle;\n    }\n\n    .dataframe tbody tr th {\n        vertical-align: top;\n    }\n\n    .dataframe thead th {\n        text-align: right;\n    }\n</style>\n<table border=\"1\" class=\"dataframe\">\n  <thead>\n    <tr style=\"text-align: right;\">\n      <th></th>\n      <th>County</th>\n      <th>2010</th>\n      <th>2011</th>\n      <th>2012</th>\n      <th>2013</th>\n      <th>2014</th>\n      <th>2015</th>\n      <th>2016</th>\n      <th>2017</th>\n      <th>2018</th>\n      <th>2019</th>\n      <th>2020</th>\n    </tr>\n  </thead>\n  <tbody>\n    <tr>\n      <th>0</th>\n      <td>Alameda</td>\n      <td>1510271</td>\n      <td>1527169</td>\n      <td>1549193</td>\n      <td>1575139</td>\n      <td>1597747</td>\n      <td>1622205</td>\n      <td>1641983</td>\n      <td>1656919</td>\n      <td>1666247</td>\n      <td>1675964</td>\n      <td>1681337</td>\n    </tr>\n    <tr>\n      <th>1</th>\n      <td>Alpine</td>\n      <td>1175</td>\n      <td>1174</td>\n      <td>1176</td>\n      <td>1180</td>\n      <td>1185</td>\n      <td>1190</td>\n      <td>1196</td>\n      <td>1201</td>\n      <td>1205</td>\n      <td>1201</td>\n      <td>1204</td>\n    </tr>\n    <tr>\n      <th>2</th>\n      <td>Amador</td>\n      <td>38091</td>\n      <td>37089</td>\n      <td>37272</td>\n      <td>37044</td>\n      <td>37089</td>\n      <td>37453</td>\n      <td>37663</td>\n      <td>38807</td>\n      <td>39708</td>\n      <td>40227</td>\n      <td>40426</td>\n    </tr>\n    <tr>\n      <th>3</th>\n      <td>Butte</td>\n      <td>220000</td>\n      <td>221377</td>\n      <td>222623</td>\n      <td>224391</td>\n      <td>225737</td>\n      <td>227400</td>\n      <td>228198</td>\n      <td>230412</td>\n      <td>231774</td>\n      <td>227263</td>\n      <td>216090</td>\n    </tr>\n    <tr>\n      <th>4</th>\n      <td>Calaveras</td>\n      <td>45578</td>\n      <td>45561</td>\n      <td>45544</td>\n      <td>45499</td>\n      <td>45461</td>\n      <td>45395</td>\n      <td>45402</td>\n      <td>45355</td>\n      <td>45367</td>\n      <td>45324</td>\n      <td>45290</td>\n    </tr>\n  </tbody>\n</table>\n</div>"
     },
     "execution_count": 29,
     "metadata": {},
     "output_type": "execute_result"
    }
   ],
   "source": [
    " # Renaming unnamed columns to correlated year\n",
    "mapping = {\n",
    "    'Table 1: E-4 Population Estimates for Counties and State 2011-2020 with 2010 Benchmark': 'County',\n",
    "    'Unnamed: 1': '2010',\n",
    "    'Unnamed: 2': '2011',\n",
    "    'Unnamed: 3': '2012',\n",
    "    'Unnamed: 4': '2013',\n",
    "    'Unnamed: 5': '2014',\n",
    "    'Unnamed: 6': '2015',\n",
    "    'Unnamed: 7': '2016',\n",
    "    'Unnamed: 8': '2017',\n",
    "    'Unnamed: 9': '2018',\n",
    "    'Unnamed: 10': '2019',\n",
    "    'Unnamed: 11': '2020'\n",
    "}\n",
    "df_2010_2020.rename(columns=mapping, inplace=True)\n",
    "# Removing Unnecessary Columns \n",
    "df_2010_2020 = df_2010_2020.drop(columns=['Unnamed: 12', 'Unnamed: 13', 'Unnamed: 14'])\n",
    "# Removing 'State Total' from 'County' and redundant row\n",
    "df_2010_2020 = df_2010_2020[~df_2010_2020['County'].isin(['State Total', 'COUNTY'])]\n",
    "df_2010_2020.reset_index(drop=True, inplace=True)\n",
    "df_2010_2020.head()"
   ]
  },
  {
   "cell_type": "code",
   "execution_count": 30,
   "id": "fc5563fc",
   "metadata": {
    "ExecuteTime": {
     "end_time": "2024-10-04T21:38:51.451042Z",
     "start_time": "2024-10-04T21:38:51.445486Z"
    }
   },
   "outputs": [
    {
     "data": {
      "text/plain": "                 County     2021     2022     2023     2024\n0  Alameda               1666341  1643683  1650656  1641869\n1  Alpine                   1195     1190     1183     1179\n2  Amador                  40047    40010    39924    39611\n3  Butte                  207403   206184   206579   205928\n4  Calaveras               45259    45021    44899    44842",
      "text/html": "<div>\n<style scoped>\n    .dataframe tbody tr th:only-of-type {\n        vertical-align: middle;\n    }\n\n    .dataframe tbody tr th {\n        vertical-align: top;\n    }\n\n    .dataframe thead th {\n        text-align: right;\n    }\n</style>\n<table border=\"1\" class=\"dataframe\">\n  <thead>\n    <tr style=\"text-align: right;\">\n      <th></th>\n      <th>County</th>\n      <th>2021</th>\n      <th>2022</th>\n      <th>2023</th>\n      <th>2024</th>\n    </tr>\n  </thead>\n  <tbody>\n    <tr>\n      <th>0</th>\n      <td>Alameda</td>\n      <td>1666341</td>\n      <td>1643683</td>\n      <td>1650656</td>\n      <td>1641869</td>\n    </tr>\n    <tr>\n      <th>1</th>\n      <td>Alpine</td>\n      <td>1195</td>\n      <td>1190</td>\n      <td>1183</td>\n      <td>1179</td>\n    </tr>\n    <tr>\n      <th>2</th>\n      <td>Amador</td>\n      <td>40047</td>\n      <td>40010</td>\n      <td>39924</td>\n      <td>39611</td>\n    </tr>\n    <tr>\n      <th>3</th>\n      <td>Butte</td>\n      <td>207403</td>\n      <td>206184</td>\n      <td>206579</td>\n      <td>205928</td>\n    </tr>\n    <tr>\n      <th>4</th>\n      <td>Calaveras</td>\n      <td>45259</td>\n      <td>45021</td>\n      <td>44899</td>\n      <td>44842</td>\n    </tr>\n  </tbody>\n</table>\n</div>"
     },
     "execution_count": 30,
     "metadata": {},
     "output_type": "execute_result"
    }
   ],
   "source": [
    "# Now let's clean up the second dataset \n",
    "# renaming unnamed columns to correlated year\n",
    "mapping_2 = {\n",
    "    'About the Data': 'County',\n",
    "    'Unnamed: 2': '2021',\n",
    "    'Unnamed: 3': '2022',\n",
    "    'Unnamed: 4': '2023',\n",
    "    'Unnamed: 5': '2024'\n",
    "}\n",
    "df_2021_2023.rename(columns=mapping_2, inplace=True)\n",
    "df_2021_2023 = df_2021_2023.drop(columns=['Unnamed: 1'])\n",
    "# Removing 'State Total' from 'County' and redundant rows\n",
    "df_2021_2023 = df_2021_2023[~df_2021_2023['County'].isin(['State Total', 'COUNTY', 'Table 1: E-4 Population Estimates for Counties and State 2021-2024 with 2020 Benchmark'])]\n",
    "df_2021_2023.reset_index(drop=True, inplace=True)\n",
    "df_2021_2023.head()"
   ]
  },
  {
   "cell_type": "markdown",
   "id": "72e05edac439399e",
   "metadata": {},
   "source": [
    "Now that they look a little more readable, we will merge the datasets into one. "
   ]
  },
  {
   "cell_type": "code",
   "execution_count": 31,
   "id": "cebeed130f8cf805",
   "metadata": {
    "ExecuteTime": {
     "end_time": "2024-10-04T21:38:51.457751Z",
     "start_time": "2024-10-04T21:38:51.451761Z"
    }
   },
   "outputs": [
    {
     "data": {
      "text/plain": "                 County     2010     2011     2012     2013     2014     2015  \\\n0  Alameda               1510271  1527169  1549193  1575139  1597747  1622205   \n1  Alpine                   1175     1174     1176     1180     1185     1190   \n2  Amador                  38091    37089    37272    37044    37089    37453   \n3  Butte                  220000   221377   222623   224391   225737   227400   \n4  Calaveras               45578    45561    45544    45499    45461    45395   \n\n      2016     2017     2018     2019     2020     2021     2022     2023  \\\n0  1641983  1656919  1666247  1675964  1681337  1666341  1643683  1650656   \n1     1196     1201     1205     1201     1204     1195     1190     1183   \n2    37663    38807    39708    40227    40426    40047    40010    39924   \n3   228198   230412   231774   227263   216090   207403   206184   206579   \n4    45402    45355    45367    45324    45290    45259    45021    44899   \n\n      2024  \n0  1641869  \n1     1179  \n2    39611  \n3   205928  \n4    44842  ",
      "text/html": "<div>\n<style scoped>\n    .dataframe tbody tr th:only-of-type {\n        vertical-align: middle;\n    }\n\n    .dataframe tbody tr th {\n        vertical-align: top;\n    }\n\n    .dataframe thead th {\n        text-align: right;\n    }\n</style>\n<table border=\"1\" class=\"dataframe\">\n  <thead>\n    <tr style=\"text-align: right;\">\n      <th></th>\n      <th>County</th>\n      <th>2010</th>\n      <th>2011</th>\n      <th>2012</th>\n      <th>2013</th>\n      <th>2014</th>\n      <th>2015</th>\n      <th>2016</th>\n      <th>2017</th>\n      <th>2018</th>\n      <th>2019</th>\n      <th>2020</th>\n      <th>2021</th>\n      <th>2022</th>\n      <th>2023</th>\n      <th>2024</th>\n    </tr>\n  </thead>\n  <tbody>\n    <tr>\n      <th>0</th>\n      <td>Alameda</td>\n      <td>1510271</td>\n      <td>1527169</td>\n      <td>1549193</td>\n      <td>1575139</td>\n      <td>1597747</td>\n      <td>1622205</td>\n      <td>1641983</td>\n      <td>1656919</td>\n      <td>1666247</td>\n      <td>1675964</td>\n      <td>1681337</td>\n      <td>1666341</td>\n      <td>1643683</td>\n      <td>1650656</td>\n      <td>1641869</td>\n    </tr>\n    <tr>\n      <th>1</th>\n      <td>Alpine</td>\n      <td>1175</td>\n      <td>1174</td>\n      <td>1176</td>\n      <td>1180</td>\n      <td>1185</td>\n      <td>1190</td>\n      <td>1196</td>\n      <td>1201</td>\n      <td>1205</td>\n      <td>1201</td>\n      <td>1204</td>\n      <td>1195</td>\n      <td>1190</td>\n      <td>1183</td>\n      <td>1179</td>\n    </tr>\n    <tr>\n      <th>2</th>\n      <td>Amador</td>\n      <td>38091</td>\n      <td>37089</td>\n      <td>37272</td>\n      <td>37044</td>\n      <td>37089</td>\n      <td>37453</td>\n      <td>37663</td>\n      <td>38807</td>\n      <td>39708</td>\n      <td>40227</td>\n      <td>40426</td>\n      <td>40047</td>\n      <td>40010</td>\n      <td>39924</td>\n      <td>39611</td>\n    </tr>\n    <tr>\n      <th>3</th>\n      <td>Butte</td>\n      <td>220000</td>\n      <td>221377</td>\n      <td>222623</td>\n      <td>224391</td>\n      <td>225737</td>\n      <td>227400</td>\n      <td>228198</td>\n      <td>230412</td>\n      <td>231774</td>\n      <td>227263</td>\n      <td>216090</td>\n      <td>207403</td>\n      <td>206184</td>\n      <td>206579</td>\n      <td>205928</td>\n    </tr>\n    <tr>\n      <th>4</th>\n      <td>Calaveras</td>\n      <td>45578</td>\n      <td>45561</td>\n      <td>45544</td>\n      <td>45499</td>\n      <td>45461</td>\n      <td>45395</td>\n      <td>45402</td>\n      <td>45355</td>\n      <td>45367</td>\n      <td>45324</td>\n      <td>45290</td>\n      <td>45259</td>\n      <td>45021</td>\n      <td>44899</td>\n      <td>44842</td>\n    </tr>\n  </tbody>\n</table>\n</div>"
     },
     "execution_count": 31,
     "metadata": {},
     "output_type": "execute_result"
    }
   ],
   "source": [
    "total_pop_df = pd.merge(df_2010_2020, df_2021_2023, on=['County'], how='outer')\n",
    "total_pop_df.head()"
   ]
  },
  {
   "cell_type": "markdown",
   "id": "2df1ead089ba25f8",
   "metadata": {},
   "source": [
    "We'll pivot the table so that the years also form a column, just like df_vehicles and df_pm. \n",
    "To give insight on populations' comparative size, we will also calculate Population Z Score. The z score shows how far away that value is from the dataset's mean. Positive values indicates that the value is higher than the mean, while negative values indicate that the value is lower than the mean. "
   ]
  },
  {
   "cell_type": "code",
   "execution_count": 53,
   "id": "39b6fcd1",
   "metadata": {
    "ExecuteTime": {
     "end_time": "2024-10-04T21:44:44.381298Z",
     "start_time": "2024-10-04T21:44:44.338807Z"
    }
   },
   "outputs": [
    {
     "data": {
      "text/plain": "                 County  Data Year  Population  Population Z Score\n0  Alameda                    2010     1510271            0.585020\n1  Alpine                     2010        1175           -0.463909\n2  Amador                     2010       38091           -0.438250\n3  Butte                      2010      220000           -0.311810\n4  Calaveras                  2010       45578           -0.433046",
      "text/html": "<div>\n<style scoped>\n    .dataframe tbody tr th:only-of-type {\n        vertical-align: middle;\n    }\n\n    .dataframe tbody tr th {\n        vertical-align: top;\n    }\n\n    .dataframe thead th {\n        text-align: right;\n    }\n</style>\n<table border=\"1\" class=\"dataframe\">\n  <thead>\n    <tr style=\"text-align: right;\">\n      <th></th>\n      <th>County</th>\n      <th>Data Year</th>\n      <th>Population</th>\n      <th>Population Z Score</th>\n    </tr>\n  </thead>\n  <tbody>\n    <tr>\n      <th>0</th>\n      <td>Alameda</td>\n      <td>2010</td>\n      <td>1510271</td>\n      <td>0.585020</td>\n    </tr>\n    <tr>\n      <th>1</th>\n      <td>Alpine</td>\n      <td>2010</td>\n      <td>1175</td>\n      <td>-0.463909</td>\n    </tr>\n    <tr>\n      <th>2</th>\n      <td>Amador</td>\n      <td>2010</td>\n      <td>38091</td>\n      <td>-0.438250</td>\n    </tr>\n    <tr>\n      <th>3</th>\n      <td>Butte</td>\n      <td>2010</td>\n      <td>220000</td>\n      <td>-0.311810</td>\n    </tr>\n    <tr>\n      <th>4</th>\n      <td>Calaveras</td>\n      <td>2010</td>\n      <td>45578</td>\n      <td>-0.433046</td>\n    </tr>\n  </tbody>\n</table>\n</div>"
     },
     "execution_count": 53,
     "metadata": {},
     "output_type": "execute_result"
    }
   ],
   "source": [
    "df_pop = pd.melt(total_pop_df, id_vars=['County'], var_name='Year', value_name='Population')\n",
    "df_pop['Year'] = df_pop['Year'].str.replace(\":\", \"\", regex=False)\n",
    "df_pop.rename(columns={'Year': 'Data Year'}, inplace=True) \n",
    "# converting the 'Population' column to numeric \n",
    "df_pop['Population'] = pd.to_numeric(df_pop['Population'], errors='coerce')\n",
    "# calculating the Z-score for the 'Population' column\n",
    "df_pop['Population Z Score'] = zscore(df_pop['Population'])\n",
    "# formatting Data Year to integer  \n",
    "df_pop['Data Year'] = df_pop['Data Year'].astype(int)\n",
    "df_pop.head()"
   ]
  },
  {
   "cell_type": "markdown",
   "id": "f9a99607a16bde29",
   "metadata": {},
   "source": [
    "### Adult Population \n",
    "Most car owners are adults, aged 18 years and above. By comparing car adoption rates to the population of possible car owners, we can give our analysis more precision. \n",
    "\n",
    "The United States Census Bureau releases reports on population by demographics, such as age and race. Datasets can be filtered by area, year, and desired demographic at https://data.census.gov/table/ACSST5Y2020.S0101?g=040XX00US06,06$0500000. Data from 2010 to 2023 was downloaded in the format of 'Pop_Over_18_Year.csv' in the file population_data. \n",
    "\n",
    "Our goal for these datasets was to merge them into one dataframe that included the Data Year, County, and Adult Population Estimate. "
   ]
  },
  {
   "cell_type": "code",
   "execution_count": 34,
   "id": "94ce26b56e063a05",
   "metadata": {
    "ExecuteTime": {
     "end_time": "2024-10-04T21:38:51.472231Z",
     "start_time": "2024-10-04T21:38:51.468591Z"
    }
   },
   "outputs": [],
   "source": [
    "# This function takes a dataset and its corresponding year and returns a mergeable dataframe. \n",
    "def aged_population(dataset, datayear):\n",
    "    # load files \n",
    "    df = pd.read_csv(dataset)\n",
    "    df = df[df['Label (Grouping)'].str.strip() == '18 years and over']\n",
    "    df = df[df['Label (Grouping)'].str.contains('18 years and over', case=False, na=False)]\n",
    "    # extract unique county names\n",
    "    county_names = [col.split(\"!!\")[0] for col in df.columns if \"California\" in col]\n",
    "    county_names = list(set(county_names))\n",
    "    # extract county total and margin of error from main dataset\n",
    "    county_total = [f\"{county}!!Total!!Estimate\" for county in county_names]\n",
    "    county_margin_of_error = [f\"{county}!!Total!!Margin of Error\" for county in county_names]\n",
    "    # making df of those\n",
    "    county_total = df.loc[:, county_total]\n",
    "    county_margin_of_error = df.loc[:, county_margin_of_error]\n",
    "    # creating county total population estimate df \n",
    "    ct_df =county_total.transpose()\n",
    "    ct_df = ct_df.reset_index() \n",
    "    # some years record >21, others >18. \n",
    "    ct_df.columns = ['County' , 'Population Estimate, >18']\n",
    "    ct_df['County'] = ct_df['County'].str.split(' County').str[0]\n",
    "    ct_df = ct_df.sort_values(by='County', ascending=True).reset_index(drop=True)\n",
    "    # creating county margin of error \n",
    "    me_df = county_margin_of_error.transpose()\n",
    "    me_df = me_df.reset_index() \n",
    "    me_df.columns = ['County' , 'Population Margin of Error, >18']\n",
    "    me_df['County'] = me_df['County'].str.split(' County').str[0]\n",
    "    me_df = me_df.sort_values(by='County', ascending=True).reset_index(drop=True) \n",
    "    # merging on county \n",
    "    ct_me_df = pd.merge(ct_df, me_df, how='inner', on = ['County'])\n",
    "    # creating Data Year column to datetime \n",
    "    ct_me_df['Data Year'] = datayear\n",
    "    ct_me_df['Data Year'] = ct_me_df['Data Year'].astype(int)\n",
    "    return ct_me_df"
   ]
  },
  {
   "cell_type": "code",
   "execution_count": 35,
   "id": "e6320af8",
   "metadata": {
    "ExecuteTime": {
     "end_time": "2024-10-04T21:38:51.475802Z",
     "start_time": "2024-10-04T21:38:51.472856Z"
    }
   },
   "outputs": [],
   "source": [
    "## Brett Made this Function to pull out the pop % due to switch from 2017 onward causing issues with the percentage ##\n",
    "def aged_population2(dataset, datayear):\n",
    "    if datayear>2016:\n",
    "        df = pd.read_csv(dataset)#,index_col=\"Label (Grouping)\")\n",
    "        columnsOfInterest = [column for column in df.columns if \"County, California!!Percent!!Estimate\" in column]\n",
    "        #print(columnsOfInterest)\n",
    "        row_18_years_and_over = df[df.iloc[:, 0].str.contains(\"18 years and over\", na=False)]\n",
    "        row_18_years_and_over = row_18_years_and_over[columnsOfInterest]\n",
    "        column_mapping = {column: column.split(\" County\")[0] for column in columnsOfInterest}\n",
    "        row_18_years_and_over.rename(columns=column_mapping, inplace=True)\n",
    "    elif datayear>2009:\n",
    "        df = pd.read_csv(dataset)#,index_col=\"Label (Grouping)\")\n",
    "        #print(df.columns)\n",
    "        columnsOfInterest = [column for column in df.columns if \"County, California!!Total!!Estimate\" in column]\n",
    "        #print(columnsOfInterest)\n",
    "        row_18_years_and_over = df[df.iloc[:, 0].str.contains(\"18 years and over\", na=False)]\n",
    "        row_18_years_and_over = row_18_years_and_over[columnsOfInterest]\n",
    "        column_mapping = {column: column.split(\" County\")[0] for column in columnsOfInterest}\n",
    "        row_18_years_and_over.rename(columns=column_mapping, inplace=True)\n",
    "    else:\n",
    "        row_18_years_and_over = []\n",
    "    #print(row_18_years_and_over.columns)\n",
    "    return row_18_years_and_over\n"
   ]
  },
  {
   "cell_type": "code",
   "execution_count": 36,
   "id": "22417536",
   "metadata": {
    "ExecuteTime": {
     "end_time": "2024-10-04T21:38:51.664387Z",
     "start_time": "2024-10-04T21:38:51.476363Z"
    }
   },
   "outputs": [],
   "source": [
    "totalpop = []\n",
    "#df_year = pd.DataFrame()\n",
    "for year in range(2010,2024):  \n",
    "    df_year = aged_population2(f'population_data/Pop_Over_18_{year}.csv', year)\n",
    "    df_year['Data Year'] = year\n",
    "    totalpop.append(df_year)\n",
    "    #totpop2022.columns[0].split(\" \")[0]\n",
    "df_aged_unshaped = pd.concat(totalpop , ignore_index= True)\n",
    "cols = ['Data Year'] + [col for col in df_aged_unshaped.columns if col != 'Data Year']\n",
    "df_aged_unshaped = df_aged_unshaped[cols]\n",
    "df_aged_unshaped.head(15)\n",
    "df_aged_unshaped.set_index('Data Year')\n",
    "county_cols = [col for col in df_aged_unshaped.columns if col != 'Data Year']\n",
    "#reshaped_df = df_aged_pop.pivot(index='Data Year', columns=county_cols, values='Population Estimate, >18')\n",
    "#reshaped_df.reset_index(inplace=True)\n",
    "#reshaped_df.columns.name = None\n",
    "#reshaped_df.columns = ['Data Year'] + [col for col in reshaped_df.columns if col != 'Data Year']\n",
    "#reshaped_df # Set the first column name\n",
    "def reshape_population_data(df):\n",
    "    # Ensure the 'Data Year' column is of integer type\n",
    "    df['Data Year'] = df['Data Year'].astype(int)\n",
    "    \n",
    "    # Use melt to convert county columns into rows\n",
    "    melted_df = df.melt(id_vars=['Data Year'], \n",
    "                        var_name='County', \n",
    "                        value_name='Population Percentage >18')\n",
    "    \n",
    "    # Drop rows where 'Population Percentage >18' is NaN\n",
    "    melted_df.dropna(subset=['Population Percentage >18'], inplace=True)\n",
    "    \n",
    "    # Reset index for a clean DataFrame\n",
    "    melted_df.reset_index(drop=True, inplace=True)\n",
    "\n",
    "    return melted_df\n",
    "\n",
    "# Assuming df_aged_pop is your DataFrame with the desired structure\n",
    "df_aged_unshaped = pd.concat(totalpop, ignore_index=True)  # Concatenate all yearly data\n",
    "df_aged_pop = reshape_population_data(df_aged_unshaped)\n"
   ]
  },
  {
   "cell_type": "code",
   "execution_count": 37,
   "id": "8bee9726798adb5d",
   "metadata": {
    "ExecuteTime": {
     "end_time": "2024-10-04T21:38:51.872979Z",
     "start_time": "2024-10-04T21:38:51.669667Z"
    }
   },
   "outputs": [],
   "source": [
    "# run function with dataset files and the corresponding year. \n",
    "totpop2010 = aged_population('population_data/Pop_Over_18_2010.csv', 2010)\n",
    "totpop2011 = aged_population('population_data/Pop_Over_18_2011.csv', 2011)\n",
    "totpop2012 = aged_population('population_data/Pop_Over_18_2012.csv', 2012)\n",
    "totpop2013 = aged_population('population_data/Pop_Over_18_2013.csv', 2013)\n",
    "totpop2014 = aged_population('population_data/Pop_Over_18_2014.csv', 2014)\n",
    "totpop2015 = aged_population('population_data/Pop_Over_18_2015.csv', 2015)\n",
    "totpop2016 = aged_population('population_data/Pop_Over_18_2016.csv', 2016)\n",
    "totpop2017 = aged_population('population_data/Pop_Over_18_2017.csv', 2017)\n",
    "totpop2018 = aged_population('population_data/Pop_Over_18_2018.csv', 2018)\n",
    "totpop2019 = aged_population('population_data/Pop_Over_18_2019.csv', 2019)\n",
    "totpop2020 = aged_population('population_data/pop_over_18_2020.csv', 2020)\n",
    "totpop2021 = aged_population('population_data/Pop_Over_18_2021.csv', 2021)\n",
    "totpop2022 = aged_population('population_data/Pop_Over_18_2022.csv', 2022)\n",
    "totpop2023 = aged_population('population_data/Pop_Over_18_2023.csv', 2023)\n",
    "# stacking totpop\n",
    "dfs = [totpop2010, totpop2011, totpop2012, totpop2013, totpop2014, totpop2015, totpop2016, totpop2017, totpop2018, totpop2019, totpop2021, totpop2022, totpop2023]\n",
    "\n",
    "## Brett commented this out ##\n",
    "#df_aged_pop = pd.concat(dfs, ignore_index= True)\n",
    "#df_aged_pop ['Percentage']= df_aged_pop['Population Estimate, >18'].str.extract(r'(\\d+\\.?\\d*)%')[0].astype(float)\n",
    "\n",
    "#df_aged_pop\n",
    "\n",
    "#test = [value for value in df_aged_pop['Population Estimate, >18']]\n",
    "#print(test)"
   ]
  },
  {
   "cell_type": "markdown",
   "id": "2bd7eab8d2702177",
   "metadata": {},
   "source": [
    "Notice how df_aged_pop['Population Estimate, >18'] has some percentages and integers. We will manage this when we merge it with the rest of the data. \n",
    "Furthermore, missing values for df_aged_pop['Population Margin of Error, >18'] are not too concerning as its purpose is to give more understanding to the population estimate. "
   ]
  },
  {
   "cell_type": "markdown",
   "id": "bbf6f34fb38ab799",
   "metadata": {},
   "source": [
    "# Creating main_df"
   ]
  },
  {
   "cell_type": "markdown",
   "id": "40361754-df9c-416b-944f-608314b5a6a7",
   "metadata": {},
   "source": [
    "#### Manipulating fueltype_per_countyyear_totals_df for analysis\n",
    "By separating fueltype_per_countyyear_totals_df into two columns, Number of EVs and Number of Gas Cars, a more direct comparison between counties by year can be made ."
   ]
  },
  {
   "cell_type": "code",
   "execution_count": 38,
   "id": "3177cae280833dd0",
   "metadata": {
    "ExecuteTime": {
     "end_time": "2024-10-04T21:38:51.876990Z",
     "start_time": "2024-10-04T21:38:51.873641Z"
    }
   },
   "outputs": [
    {
     "data": {
      "text/plain": "   Data Year   County Fuel Category  Number of Vehicles\n0       2010  Alameda            EV                  20\n1       2010  Alameda   Fossil Fuel              885402\n2       2010   Alpine   Fossil Fuel                1041\n3       2010   Amador            EV                   1\n4       2010   Amador   Fossil Fuel               30480",
      "text/html": "<div>\n<style scoped>\n    .dataframe tbody tr th:only-of-type {\n        vertical-align: middle;\n    }\n\n    .dataframe tbody tr th {\n        vertical-align: top;\n    }\n\n    .dataframe thead th {\n        text-align: right;\n    }\n</style>\n<table border=\"1\" class=\"dataframe\">\n  <thead>\n    <tr style=\"text-align: right;\">\n      <th></th>\n      <th>Data Year</th>\n      <th>County</th>\n      <th>Fuel Category</th>\n      <th>Number of Vehicles</th>\n    </tr>\n  </thead>\n  <tbody>\n    <tr>\n      <th>0</th>\n      <td>2010</td>\n      <td>Alameda</td>\n      <td>EV</td>\n      <td>20</td>\n    </tr>\n    <tr>\n      <th>1</th>\n      <td>2010</td>\n      <td>Alameda</td>\n      <td>Fossil Fuel</td>\n      <td>885402</td>\n    </tr>\n    <tr>\n      <th>2</th>\n      <td>2010</td>\n      <td>Alpine</td>\n      <td>Fossil Fuel</td>\n      <td>1041</td>\n    </tr>\n    <tr>\n      <th>3</th>\n      <td>2010</td>\n      <td>Amador</td>\n      <td>EV</td>\n      <td>1</td>\n    </tr>\n    <tr>\n      <th>4</th>\n      <td>2010</td>\n      <td>Amador</td>\n      <td>Fossil Fuel</td>\n      <td>30480</td>\n    </tr>\n  </tbody>\n</table>\n</div>"
     },
     "execution_count": 38,
     "metadata": {},
     "output_type": "execute_result"
    }
   ],
   "source": [
    "fueltype_per_countyyear_totals_df.head()"
   ]
  },
  {
   "cell_type": "code",
   "execution_count": 39,
   "id": "810df6cc8cde0e57",
   "metadata": {
    "ExecuteTime": {
     "end_time": "2024-10-04T21:38:51.882065Z",
     "start_time": "2024-10-04T21:38:51.877728Z"
    }
   },
   "outputs": [
    {
     "data": {
      "text/plain": "   Data Year        County  Number of EV\n0       2010       Alameda            20\n1       2010        Amador             1\n2       2010  Contra Costa            10\n3       2010        Fresno             2\n4       2010      Humboldt             2",
      "text/html": "<div>\n<style scoped>\n    .dataframe tbody tr th:only-of-type {\n        vertical-align: middle;\n    }\n\n    .dataframe tbody tr th {\n        vertical-align: top;\n    }\n\n    .dataframe thead th {\n        text-align: right;\n    }\n</style>\n<table border=\"1\" class=\"dataframe\">\n  <thead>\n    <tr style=\"text-align: right;\">\n      <th></th>\n      <th>Data Year</th>\n      <th>County</th>\n      <th>Number of EV</th>\n    </tr>\n  </thead>\n  <tbody>\n    <tr>\n      <th>0</th>\n      <td>2010</td>\n      <td>Alameda</td>\n      <td>20</td>\n    </tr>\n    <tr>\n      <th>1</th>\n      <td>2010</td>\n      <td>Amador</td>\n      <td>1</td>\n    </tr>\n    <tr>\n      <th>2</th>\n      <td>2010</td>\n      <td>Contra Costa</td>\n      <td>10</td>\n    </tr>\n    <tr>\n      <th>3</th>\n      <td>2010</td>\n      <td>Fresno</td>\n      <td>2</td>\n    </tr>\n    <tr>\n      <th>4</th>\n      <td>2010</td>\n      <td>Humboldt</td>\n      <td>2</td>\n    </tr>\n  </tbody>\n</table>\n</div>"
     },
     "execution_count": 39,
     "metadata": {},
     "output_type": "execute_result"
    }
   ],
   "source": [
    "# Creating '[Number of EVs'] column from fueltype_per_countyyear_totals_df\n",
    "df_ev_vehicles = fueltype_per_countyyear_totals_df[fueltype_per_countyyear_totals_df['Fuel Category'] == 'EV']\n",
    "df_ev_vehicles = df_ev_vehicles.rename(columns={'Number of Vehicles': 'Number of EV'})\n",
    "df_ev_vehicles = df_ev_vehicles.drop(columns=['Fuel Category'])\n",
    "df_ev_vehicles = df_ev_vehicles.reset_index(drop=True)\n",
    "df_ev_vehicles.head()"
   ]
  },
  {
   "cell_type": "code",
   "execution_count": 40,
   "id": "d9641233ea375f7b",
   "metadata": {
    "ExecuteTime": {
     "end_time": "2024-10-04T21:38:51.887881Z",
     "start_time": "2024-10-04T21:38:51.882660Z"
    }
   },
   "outputs": [
    {
     "data": {
      "text/plain": "   Data Year     County  Number of Gas Cars\n0       2010    Alameda              885402\n1       2010     Alpine                1041\n2       2010     Amador               30480\n3       2010      Butte              133169\n4       2010  Calaveras               39636",
      "text/html": "<div>\n<style scoped>\n    .dataframe tbody tr th:only-of-type {\n        vertical-align: middle;\n    }\n\n    .dataframe tbody tr th {\n        vertical-align: top;\n    }\n\n    .dataframe thead th {\n        text-align: right;\n    }\n</style>\n<table border=\"1\" class=\"dataframe\">\n  <thead>\n    <tr style=\"text-align: right;\">\n      <th></th>\n      <th>Data Year</th>\n      <th>County</th>\n      <th>Number of Gas Cars</th>\n    </tr>\n  </thead>\n  <tbody>\n    <tr>\n      <th>0</th>\n      <td>2010</td>\n      <td>Alameda</td>\n      <td>885402</td>\n    </tr>\n    <tr>\n      <th>1</th>\n      <td>2010</td>\n      <td>Alpine</td>\n      <td>1041</td>\n    </tr>\n    <tr>\n      <th>2</th>\n      <td>2010</td>\n      <td>Amador</td>\n      <td>30480</td>\n    </tr>\n    <tr>\n      <th>3</th>\n      <td>2010</td>\n      <td>Butte</td>\n      <td>133169</td>\n    </tr>\n    <tr>\n      <th>4</th>\n      <td>2010</td>\n      <td>Calaveras</td>\n      <td>39636</td>\n    </tr>\n  </tbody>\n</table>\n</div>"
     },
     "execution_count": 40,
     "metadata": {},
     "output_type": "execute_result"
    }
   ],
   "source": [
    "# Creating '[Number of Gas Cars'] column from fueltype_per_countyyear_totals_df\n",
    "df_gas_vehicles = fueltype_per_countyyear_totals_df[fueltype_per_countyyear_totals_df['Fuel Category'] == 'Fossil Fuel']\n",
    "df_gas_vehicles = df_gas_vehicles.rename(columns={'Number of Vehicles': 'Number of Gas Cars'})\n",
    "df_gas_vehicles = df_gas_vehicles.drop(columns=['Fuel Category'])\n",
    "df_gas_vehicles = df_gas_vehicles.reset_index(drop=True)\n",
    "df_gas_vehicles.head()"
   ]
  },
  {
   "cell_type": "markdown",
   "id": "cec05a304ad2c4fb",
   "metadata": {},
   "source": [
    "Theoretically, each of the vehicle dataframes should be the same shape. "
   ]
  },
  {
   "cell_type": "code",
   "execution_count": 41,
   "id": "e473f602ace86ee1",
   "metadata": {
    "ExecuteTime": {
     "end_time": "2024-10-04T21:38:51.890151Z",
     "start_time": "2024-10-04T21:38:51.888461Z"
    }
   },
   "outputs": [
    {
     "data": {
      "text/plain": "(763, 3)"
     },
     "execution_count": 41,
     "metadata": {},
     "output_type": "execute_result"
    }
   ],
   "source": [
    "df_ev_vehicles.shape"
   ]
  },
  {
   "cell_type": "code",
   "execution_count": 42,
   "id": "8908c1b0661bf27d",
   "metadata": {
    "ExecuteTime": {
     "end_time": "2024-10-04T21:38:51.892467Z",
     "start_time": "2024-10-04T21:38:51.890694Z"
    }
   },
   "outputs": [
    {
     "data": {
      "text/plain": "(812, 3)"
     },
     "execution_count": 42,
     "metadata": {},
     "output_type": "execute_result"
    }
   ],
   "source": [
    "df_gas_vehicles.shape"
   ]
  },
  {
   "cell_type": "markdown",
   "id": "bc23cec9d3c186bd",
   "metadata": {},
   "source": [
    "They are not. On closer inspection of the dataframes, we see that df_ev_vehicles only contains counties that have registered electric vehicles and some counties do not. Since gas cars are more prevalent, df_gas_vehicles has an entry for each column. We can fix this discrepancy by doing an outer merge and replacing the consequent NaNs with zeros. "
   ]
  },
  {
   "cell_type": "code",
   "execution_count": 43,
   "id": "fcf18526e65a05d1",
   "metadata": {
    "ExecuteTime": {
     "end_time": "2024-10-04T21:38:51.899251Z",
     "start_time": "2024-10-04T21:38:51.893219Z"
    }
   },
   "outputs": [
    {
     "data": {
      "text/plain": "   Data Year     County  Number of Gas Cars  Number of EV\n0       2010    Alameda              885402            20\n1       2010     Alpine                1041             0\n2       2010     Amador               30480             1\n3       2010      Butte              133169             0\n4       2010  Calaveras               39636             0",
      "text/html": "<div>\n<style scoped>\n    .dataframe tbody tr th:only-of-type {\n        vertical-align: middle;\n    }\n\n    .dataframe tbody tr th {\n        vertical-align: top;\n    }\n\n    .dataframe thead th {\n        text-align: right;\n    }\n</style>\n<table border=\"1\" class=\"dataframe\">\n  <thead>\n    <tr style=\"text-align: right;\">\n      <th></th>\n      <th>Data Year</th>\n      <th>County</th>\n      <th>Number of Gas Cars</th>\n      <th>Number of EV</th>\n    </tr>\n  </thead>\n  <tbody>\n    <tr>\n      <th>0</th>\n      <td>2010</td>\n      <td>Alameda</td>\n      <td>885402</td>\n      <td>20</td>\n    </tr>\n    <tr>\n      <th>1</th>\n      <td>2010</td>\n      <td>Alpine</td>\n      <td>1041</td>\n      <td>0</td>\n    </tr>\n    <tr>\n      <th>2</th>\n      <td>2010</td>\n      <td>Amador</td>\n      <td>30480</td>\n      <td>1</td>\n    </tr>\n    <tr>\n      <th>3</th>\n      <td>2010</td>\n      <td>Butte</td>\n      <td>133169</td>\n      <td>0</td>\n    </tr>\n    <tr>\n      <th>4</th>\n      <td>2010</td>\n      <td>Calaveras</td>\n      <td>39636</td>\n      <td>0</td>\n    </tr>\n  </tbody>\n</table>\n</div>"
     },
     "execution_count": 43,
     "metadata": {},
     "output_type": "execute_result"
    }
   ],
   "source": [
    "df_vehicles = pd.merge(df_gas_vehicles, df_ev_vehicles, on=['Data Year', 'County',], how='outer')\n",
    "df_vehicles['Number of EV'] = df_vehicles['Number of EV'].fillna(0).astype(int)\n",
    "\n",
    "df_vehicles.head()"
   ]
  },
  {
   "cell_type": "markdown",
   "id": "6f3b51ecc394fa5c",
   "metadata": {},
   "source": [
    "#### Merging df_pm and df_vehicles\n",
    "Before we can merge the dataframes, we will compare their ['County'] columns. Doing so will allow us to properly determine what type of join we should do and the possible values we will lose. "
   ]
  },
  {
   "cell_type": "code",
   "execution_count": 44,
   "id": "81f4d260c6c1141",
   "metadata": {
    "ExecuteTime": {
     "end_time": "2024-10-04T21:38:51.903370Z",
     "start_time": "2024-10-04T21:38:51.899784Z"
    }
   },
   "outputs": [
    {
     "name": "stdout",
     "output_type": "stream",
     "text": [
      "Only in df_ev_vehicles: {'Tuolumne', 'Lassen', 'Amador', 'Sierra', 'Modoc', 'Yuba'}\n",
      "Only in df_pm: set()\n"
     ]
    }
   ],
   "source": [
    "# Finding the difference \n",
    "counties = pd.DataFrame({\n",
    "    'County_df_vehicles': df_ev_vehicles['County'],\n",
    "    'County_df_pm': df_pm['County']\n",
    "})\n",
    "counties.head()\n",
    "# Get unique counties from both DataFrames\n",
    "counties_vehicles = set(df_ev_vehicles['County'])\n",
    "counties_pm = set(df_pm['County'])\n",
    "\n",
    "# Find differences\n",
    "only_in_vehicles = counties_vehicles - counties_pm\n",
    "only_in_pm = counties_pm - counties_vehicles\n",
    "\n",
    "print(\"Only in df_ev_vehicles:\", only_in_vehicles)\n",
    "print(\"Only in df_pm:\", only_in_pm)"
   ]
  },
  {
   "cell_type": "markdown",
   "id": "e99fe69a-0ced-4bd4-9f45-a0d4c43dab8b",
   "metadata": {},
   "source": []
  },
  {
   "cell_type": "markdown",
   "id": "408cfe244ce740a6",
   "metadata": {},
   "source": [
    "Since df_pm has higher requirements for taking environmental data, we will shape based on df_pm. In doing so we will lose {'Yuba', 'Sierra', 'Lassen', 'Amador', 'Tuolumne', 'Modoc'}. "
   ]
  },
  {
   "cell_type": "code",
   "execution_count": 45,
   "id": "57d39c783ab90111",
   "metadata": {
    "ExecuteTime": {
     "end_time": "2024-10-04T21:38:51.909610Z",
     "start_time": "2024-10-04T21:38:51.903861Z"
    }
   },
   "outputs": [
    {
     "data": {
      "text/plain": "   Data Year        County  Average PM 2.5/County  Number of Site IDs/County  \\\n0       2010       Alameda               8.165623                          5   \n1       2010         Butte               8.776451                          3   \n2       2010     Calaveras               7.380349                          1   \n3       2010        Colusa               6.054913                          1   \n4       2010  Contra Costa               7.606920                          1   \n\n   Number of Gas Cars  Number of EV  \n0            885402.0          20.0  \n1            133169.0           0.0  \n2             39636.0           0.0  \n3             14610.0           0.0  \n4            666294.0          10.0  ",
      "text/html": "<div>\n<style scoped>\n    .dataframe tbody tr th:only-of-type {\n        vertical-align: middle;\n    }\n\n    .dataframe tbody tr th {\n        vertical-align: top;\n    }\n\n    .dataframe thead th {\n        text-align: right;\n    }\n</style>\n<table border=\"1\" class=\"dataframe\">\n  <thead>\n    <tr style=\"text-align: right;\">\n      <th></th>\n      <th>Data Year</th>\n      <th>County</th>\n      <th>Average PM 2.5/County</th>\n      <th>Number of Site IDs/County</th>\n      <th>Number of Gas Cars</th>\n      <th>Number of EV</th>\n    </tr>\n  </thead>\n  <tbody>\n    <tr>\n      <th>0</th>\n      <td>2010</td>\n      <td>Alameda</td>\n      <td>8.165623</td>\n      <td>5</td>\n      <td>885402.0</td>\n      <td>20.0</td>\n    </tr>\n    <tr>\n      <th>1</th>\n      <td>2010</td>\n      <td>Butte</td>\n      <td>8.776451</td>\n      <td>3</td>\n      <td>133169.0</td>\n      <td>0.0</td>\n    </tr>\n    <tr>\n      <th>2</th>\n      <td>2010</td>\n      <td>Calaveras</td>\n      <td>7.380349</td>\n      <td>1</td>\n      <td>39636.0</td>\n      <td>0.0</td>\n    </tr>\n    <tr>\n      <th>3</th>\n      <td>2010</td>\n      <td>Colusa</td>\n      <td>6.054913</td>\n      <td>1</td>\n      <td>14610.0</td>\n      <td>0.0</td>\n    </tr>\n    <tr>\n      <th>4</th>\n      <td>2010</td>\n      <td>Contra Costa</td>\n      <td>7.606920</td>\n      <td>1</td>\n      <td>666294.0</td>\n      <td>10.0</td>\n    </tr>\n  </tbody>\n</table>\n</div>"
     },
     "execution_count": 45,
     "metadata": {},
     "output_type": "execute_result"
    }
   ],
   "source": [
    "df_pm_vehicles = pd.merge(df_pm, df_vehicles, on=['Data Year', 'County'], how='left')\n",
    "df_pm_vehicles.head()"
   ]
  },
  {
   "cell_type": "markdown",
   "id": "7cb7d13d7a2dc3a1",
   "metadata": {},
   "source": [
    "#### Merging df_pop to df_pm_vehicles\n",
    "Again, before we can merge these dataframes, we must check what counties df_pop contains that df_pm_vehicles may not. "
   ]
  },
  {
   "cell_type": "code",
   "execution_count": 46,
   "id": "354b670e639e1968",
   "metadata": {
    "ExecuteTime": {
     "end_time": "2024-10-04T21:38:51.912987Z",
     "start_time": "2024-10-04T21:38:51.910264Z"
    }
   },
   "outputs": [
    {
     "name": "stdout",
     "output_type": "stream",
     "text": [
      "Only in df_pop: {'Tuolumne', 'Lassen', 'Amador', 'Sierra', 'Modoc', 'Yuba'}\n",
      "Only in df_pm_vehicles: set()\n"
     ]
    }
   ],
   "source": [
    "# Formatting df_pop['County'] to be the same as df_pm_vehicles['County'] \n",
    "df_pop['County'] = df_pop['County'].str.strip()\n",
    "\n",
    "# Get unique counties from both DataFrames\n",
    "counties_pop = set(df_aged_pop['County'])\n",
    "counties_pm_vehicles = set(df_pm_vehicles['County'])\n",
    "\n",
    "# Find the difference\n",
    "only_in_pop = counties_pop - counties_pm_vehicles\n",
    "only_in_pm_vehicles = counties_pm_vehicles - counties_pop\n",
    "\n",
    "print(\"Only in df_pop:\", only_in_pop)\n",
    "print(\"Only in df_pm_vehicles:\", only_in_pm_vehicles)"
   ]
  },
  {
   "cell_type": "markdown",
   "id": "14557d276c967df1",
   "metadata": {},
   "source": [
    "Df_pop contains the same counties that we dropped from df_pm_vehicles since there was no available PM2.5 data. Since we already determined these values are useless to our study, we will merge on df_pm_vehicles"
   ]
  },
  {
   "cell_type": "code",
   "execution_count": 47,
   "id": "2f017824",
   "metadata": {
    "ExecuteTime": {
     "end_time": "2024-10-04T21:38:51.916764Z",
     "start_time": "2024-10-04T21:38:51.913640Z"
    }
   },
   "outputs": [
    {
     "data": {
      "text/plain": "      County  Data Year  Population  Population Z Score\n0    Alameda       2010     1510271            0.585020\n1     Alpine       2010        1175           -0.463909\n2     Amador       2010       38091           -0.438250\n3      Butte       2010      220000           -0.311810\n4  Calaveras       2010       45578           -0.433046",
      "text/html": "<div>\n<style scoped>\n    .dataframe tbody tr th:only-of-type {\n        vertical-align: middle;\n    }\n\n    .dataframe tbody tr th {\n        vertical-align: top;\n    }\n\n    .dataframe thead th {\n        text-align: right;\n    }\n</style>\n<table border=\"1\" class=\"dataframe\">\n  <thead>\n    <tr style=\"text-align: right;\">\n      <th></th>\n      <th>County</th>\n      <th>Data Year</th>\n      <th>Population</th>\n      <th>Population Z Score</th>\n    </tr>\n  </thead>\n  <tbody>\n    <tr>\n      <th>0</th>\n      <td>Alameda</td>\n      <td>2010</td>\n      <td>1510271</td>\n      <td>0.585020</td>\n    </tr>\n    <tr>\n      <th>1</th>\n      <td>Alpine</td>\n      <td>2010</td>\n      <td>1175</td>\n      <td>-0.463909</td>\n    </tr>\n    <tr>\n      <th>2</th>\n      <td>Amador</td>\n      <td>2010</td>\n      <td>38091</td>\n      <td>-0.438250</td>\n    </tr>\n    <tr>\n      <th>3</th>\n      <td>Butte</td>\n      <td>2010</td>\n      <td>220000</td>\n      <td>-0.311810</td>\n    </tr>\n    <tr>\n      <th>4</th>\n      <td>Calaveras</td>\n      <td>2010</td>\n      <td>45578</td>\n      <td>-0.433046</td>\n    </tr>\n  </tbody>\n</table>\n</div>"
     },
     "execution_count": 47,
     "metadata": {},
     "output_type": "execute_result"
    }
   ],
   "source": [
    "df_pop.head()"
   ]
  },
  {
   "cell_type": "code",
   "execution_count": 48,
   "id": "3753141604963715",
   "metadata": {
    "ExecuteTime": {
     "end_time": "2024-10-04T21:38:51.923033Z",
     "start_time": "2024-10-04T21:38:51.917286Z"
    }
   },
   "outputs": [
    {
     "data": {
      "text/plain": "   Data Year        County  Average PM 2.5/County  Number of Site IDs/County  \\\n0       2010       Alameda               8.165623                          5   \n1       2010         Butte               8.776451                          3   \n2       2010     Calaveras               7.380349                          1   \n3       2010        Colusa               6.054913                          1   \n4       2010  Contra Costa               7.606920                          1   \n\n   Number of Gas Cars  Number of EV  Population  Population Z Score  \n0            885402.0          20.0     1510271            0.585020  \n1            133169.0           0.0      220000           -0.311810  \n2             39636.0           0.0       45578           -0.433046  \n3             14610.0           0.0       21419           -0.449838  \n4            666294.0          10.0     1049025            0.264421  ",
      "text/html": "<div>\n<style scoped>\n    .dataframe tbody tr th:only-of-type {\n        vertical-align: middle;\n    }\n\n    .dataframe tbody tr th {\n        vertical-align: top;\n    }\n\n    .dataframe thead th {\n        text-align: right;\n    }\n</style>\n<table border=\"1\" class=\"dataframe\">\n  <thead>\n    <tr style=\"text-align: right;\">\n      <th></th>\n      <th>Data Year</th>\n      <th>County</th>\n      <th>Average PM 2.5/County</th>\n      <th>Number of Site IDs/County</th>\n      <th>Number of Gas Cars</th>\n      <th>Number of EV</th>\n      <th>Population</th>\n      <th>Population Z Score</th>\n    </tr>\n  </thead>\n  <tbody>\n    <tr>\n      <th>0</th>\n      <td>2010</td>\n      <td>Alameda</td>\n      <td>8.165623</td>\n      <td>5</td>\n      <td>885402.0</td>\n      <td>20.0</td>\n      <td>1510271</td>\n      <td>0.585020</td>\n    </tr>\n    <tr>\n      <th>1</th>\n      <td>2010</td>\n      <td>Butte</td>\n      <td>8.776451</td>\n      <td>3</td>\n      <td>133169.0</td>\n      <td>0.0</td>\n      <td>220000</td>\n      <td>-0.311810</td>\n    </tr>\n    <tr>\n      <th>2</th>\n      <td>2010</td>\n      <td>Calaveras</td>\n      <td>7.380349</td>\n      <td>1</td>\n      <td>39636.0</td>\n      <td>0.0</td>\n      <td>45578</td>\n      <td>-0.433046</td>\n    </tr>\n    <tr>\n      <th>3</th>\n      <td>2010</td>\n      <td>Colusa</td>\n      <td>6.054913</td>\n      <td>1</td>\n      <td>14610.0</td>\n      <td>0.0</td>\n      <td>21419</td>\n      <td>-0.449838</td>\n    </tr>\n    <tr>\n      <th>4</th>\n      <td>2010</td>\n      <td>Contra Costa</td>\n      <td>7.606920</td>\n      <td>1</td>\n      <td>666294.0</td>\n      <td>10.0</td>\n      <td>1049025</td>\n      <td>0.264421</td>\n    </tr>\n  </tbody>\n</table>\n</div>"
     },
     "execution_count": 48,
     "metadata": {},
     "output_type": "execute_result"
    }
   ],
   "source": [
    "# Let's merge df_pm_vehicles and total population \n",
    "df_pm_vehicles_pop= pd.merge(df_pm_vehicles, df_pop, on=['Data Year', 'County'], how='left')\n",
    "df_pm_vehicles_pop.head()"
   ]
  },
  {
   "cell_type": "code",
   "execution_count": 49,
   "id": "e31890e7e75b0799",
   "metadata": {
    "ExecuteTime": {
     "end_time": "2024-10-04T21:38:51.928122Z",
     "start_time": "2024-10-04T21:38:51.923650Z"
    }
   },
   "outputs": [
    {
     "data": {
      "text/plain": "   Data Year        County  Average PM 2.5/County  Number of Site IDs/County  \\\n0       2010       Alameda               8.165623                          5   \n1       2010         Butte               8.776451                          3   \n2       2010     Calaveras               7.380349                          1   \n3       2010        Colusa               6.054913                          1   \n4       2010  Contra Costa               7.606920                          1   \n\n   Number of Gas Cars  Number of EV  Population  Population Z Score  \n0            885402.0          20.0     1510271            0.585020  \n1            133169.0           0.0      220000           -0.311810  \n2             39636.0           0.0       45578           -0.433046  \n3             14610.0           0.0       21419           -0.449838  \n4            666294.0          10.0     1049025            0.264421  ",
      "text/html": "<div>\n<style scoped>\n    .dataframe tbody tr th:only-of-type {\n        vertical-align: middle;\n    }\n\n    .dataframe tbody tr th {\n        vertical-align: top;\n    }\n\n    .dataframe thead th {\n        text-align: right;\n    }\n</style>\n<table border=\"1\" class=\"dataframe\">\n  <thead>\n    <tr style=\"text-align: right;\">\n      <th></th>\n      <th>Data Year</th>\n      <th>County</th>\n      <th>Average PM 2.5/County</th>\n      <th>Number of Site IDs/County</th>\n      <th>Number of Gas Cars</th>\n      <th>Number of EV</th>\n      <th>Population</th>\n      <th>Population Z Score</th>\n    </tr>\n  </thead>\n  <tbody>\n    <tr>\n      <th>0</th>\n      <td>2010</td>\n      <td>Alameda</td>\n      <td>8.165623</td>\n      <td>5</td>\n      <td>885402.0</td>\n      <td>20.0</td>\n      <td>1510271</td>\n      <td>0.585020</td>\n    </tr>\n    <tr>\n      <th>1</th>\n      <td>2010</td>\n      <td>Butte</td>\n      <td>8.776451</td>\n      <td>3</td>\n      <td>133169.0</td>\n      <td>0.0</td>\n      <td>220000</td>\n      <td>-0.311810</td>\n    </tr>\n    <tr>\n      <th>2</th>\n      <td>2010</td>\n      <td>Calaveras</td>\n      <td>7.380349</td>\n      <td>1</td>\n      <td>39636.0</td>\n      <td>0.0</td>\n      <td>45578</td>\n      <td>-0.433046</td>\n    </tr>\n    <tr>\n      <th>3</th>\n      <td>2010</td>\n      <td>Colusa</td>\n      <td>6.054913</td>\n      <td>1</td>\n      <td>14610.0</td>\n      <td>0.0</td>\n      <td>21419</td>\n      <td>-0.449838</td>\n    </tr>\n    <tr>\n      <th>4</th>\n      <td>2010</td>\n      <td>Contra Costa</td>\n      <td>7.606920</td>\n      <td>1</td>\n      <td>666294.0</td>\n      <td>10.0</td>\n      <td>1049025</td>\n      <td>0.264421</td>\n    </tr>\n  </tbody>\n</table>\n</div>"
     },
     "execution_count": 49,
     "metadata": {},
     "output_type": "execute_result"
    }
   ],
   "source": [
    "# Let's rename some columns to maintain clarity. \n",
    "df_pm_vehicles_pop.rename(columns={'Z Score_x':'Total Population Z Score'}, inplace=True)\n",
    "df_pm_vehicles_pop.rename(columns={'Population_x':'Total Population'}, inplace=True)\n",
    "df_pm_vehicles_pop.head()"
   ]
  },
  {
   "cell_type": "markdown",
   "id": "1db43dca8c245cea",
   "metadata": {},
   "source": [
    "#### Merging df_aged_pop to df_pm_vehicles_pop\n",
    "For the last time, we will investigate if there are any main differences between df_aged_pop['County'] and df_pm_vehicles_pop['County']"
   ]
  },
  {
   "cell_type": "code",
   "execution_count": 50,
   "id": "9e57083c22c5bfc",
   "metadata": {
    "ExecuteTime": {
     "end_time": "2024-10-04T21:38:51.931866Z",
     "start_time": "2024-10-04T21:38:51.928761Z"
    }
   },
   "outputs": [
    {
     "name": "stdout",
     "output_type": "stream",
     "text": [
      "Only in pop_df: set()\n",
      "Only in aged_pop_2010_2023: set()\n"
     ]
    }
   ],
   "source": [
    "df_aged_pop['County'] = df_aged_pop['County'].str.strip()\n",
    "counties = pd.DataFrame({\n",
    "    'County_main_df': df_pop['County'],\n",
    "    'County_aged_pop_2010_2023': df_aged_pop['County']\n",
    "})\n",
    "counties.head()\n",
    "# Get unique counties from both DataFrames\n",
    "pop_df_co = set(df_aged_pop['County'])\n",
    "aged_pop_2010_2023_co = set(df_aged_pop['County'])\n",
    "\n",
    "# Find differences\n",
    "only_in_pop_df_co = pop_df_co - aged_pop_2010_2023_co\n",
    "only_in_aged_pop_2010_2023_co = aged_pop_2010_2023_co - pop_df_co\n",
    "\n",
    "print(\"Only in pop_df:\", only_in_pop_df_co)\n",
    "print(\"Only in aged_pop_2010_2023:\", only_in_aged_pop_2010_2023_co)"
   ]
  },
  {
   "cell_type": "markdown",
   "id": "588def5c0e65181c",
   "metadata": {},
   "source": [
    "There are no differences! We can perform an outer merge and finally produce our main_df. \n",
    "#### Creating Main_df "
   ]
  },
  {
   "cell_type": "code",
   "execution_count": 51,
   "id": "40259da0e7d13078",
   "metadata": {
    "ExecuteTime": {
     "end_time": "2024-10-04T21:38:51.939636Z",
     "start_time": "2024-10-04T21:38:51.932389Z"
    }
   },
   "outputs": [
    {
     "data": {
      "text/plain": "     Data Year        County  Average PM 2.5/County  \\\n0         2010       Alameda               8.165623   \n1         2010         Butte               8.776451   \n2         2010  Contra Costa               7.606920   \n3         2010     El Dorado               2.195902   \n4         2010        Fresno              11.729538   \n..         ...           ...                    ...   \n578       2023        Sutter               8.442737   \n579       2023        Tehama               6.108611   \n580       2023        Tulare              10.567731   \n581       2023       Ventura               5.870643   \n582       2023          Yolo               7.216270   \n\n     Number of Site IDs/County  Number of Gas Cars  Number of EV  Population  \\\n0                            5            885402.0          20.0     1510271   \n1                            3            133169.0           0.0      220000   \n2                            1            666294.0          10.0     1049025   \n3                            1            129980.0           0.0      181058   \n4                            6            481145.0           2.0      930450   \n..                         ...                 ...           ...         ...   \n578                          1             73888.0        1147.0       98248   \n579                          1             48496.0         398.0       64710   \n580                          4            331744.0        3837.0      474680   \n581                          5            651851.0       31980.0      825960   \n582                          2            152560.0        6757.0      220454   \n\n     Population Z Score Population Percentage >18  \n0              0.585020                     77.5%  \n1             -0.311810                     79.3%  \n2              0.264421                     75.2%  \n3             -0.338878                     77.2%  \n4              0.182003                     70.1%  \n..                  ...                       ...  \n578           -0.396437                     75.9%  \n579           -0.419748                     75.9%  \n580           -0.134790                     70.6%  \n581            0.109375                     78.5%  \n582           -0.311495                     80.9%  \n\n[583 rows x 9 columns]",
      "text/html": "<div>\n<style scoped>\n    .dataframe tbody tr th:only-of-type {\n        vertical-align: middle;\n    }\n\n    .dataframe tbody tr th {\n        vertical-align: top;\n    }\n\n    .dataframe thead th {\n        text-align: right;\n    }\n</style>\n<table border=\"1\" class=\"dataframe\">\n  <thead>\n    <tr style=\"text-align: right;\">\n      <th></th>\n      <th>Data Year</th>\n      <th>County</th>\n      <th>Average PM 2.5/County</th>\n      <th>Number of Site IDs/County</th>\n      <th>Number of Gas Cars</th>\n      <th>Number of EV</th>\n      <th>Population</th>\n      <th>Population Z Score</th>\n      <th>Population Percentage &gt;18</th>\n    </tr>\n  </thead>\n  <tbody>\n    <tr>\n      <th>0</th>\n      <td>2010</td>\n      <td>Alameda</td>\n      <td>8.165623</td>\n      <td>5</td>\n      <td>885402.0</td>\n      <td>20.0</td>\n      <td>1510271</td>\n      <td>0.585020</td>\n      <td>77.5%</td>\n    </tr>\n    <tr>\n      <th>1</th>\n      <td>2010</td>\n      <td>Butte</td>\n      <td>8.776451</td>\n      <td>3</td>\n      <td>133169.0</td>\n      <td>0.0</td>\n      <td>220000</td>\n      <td>-0.311810</td>\n      <td>79.3%</td>\n    </tr>\n    <tr>\n      <th>2</th>\n      <td>2010</td>\n      <td>Contra Costa</td>\n      <td>7.606920</td>\n      <td>1</td>\n      <td>666294.0</td>\n      <td>10.0</td>\n      <td>1049025</td>\n      <td>0.264421</td>\n      <td>75.2%</td>\n    </tr>\n    <tr>\n      <th>3</th>\n      <td>2010</td>\n      <td>El Dorado</td>\n      <td>2.195902</td>\n      <td>1</td>\n      <td>129980.0</td>\n      <td>0.0</td>\n      <td>181058</td>\n      <td>-0.338878</td>\n      <td>77.2%</td>\n    </tr>\n    <tr>\n      <th>4</th>\n      <td>2010</td>\n      <td>Fresno</td>\n      <td>11.729538</td>\n      <td>6</td>\n      <td>481145.0</td>\n      <td>2.0</td>\n      <td>930450</td>\n      <td>0.182003</td>\n      <td>70.1%</td>\n    </tr>\n    <tr>\n      <th>...</th>\n      <td>...</td>\n      <td>...</td>\n      <td>...</td>\n      <td>...</td>\n      <td>...</td>\n      <td>...</td>\n      <td>...</td>\n      <td>...</td>\n      <td>...</td>\n    </tr>\n    <tr>\n      <th>578</th>\n      <td>2023</td>\n      <td>Sutter</td>\n      <td>8.442737</td>\n      <td>1</td>\n      <td>73888.0</td>\n      <td>1147.0</td>\n      <td>98248</td>\n      <td>-0.396437</td>\n      <td>75.9%</td>\n    </tr>\n    <tr>\n      <th>579</th>\n      <td>2023</td>\n      <td>Tehama</td>\n      <td>6.108611</td>\n      <td>1</td>\n      <td>48496.0</td>\n      <td>398.0</td>\n      <td>64710</td>\n      <td>-0.419748</td>\n      <td>75.9%</td>\n    </tr>\n    <tr>\n      <th>580</th>\n      <td>2023</td>\n      <td>Tulare</td>\n      <td>10.567731</td>\n      <td>4</td>\n      <td>331744.0</td>\n      <td>3837.0</td>\n      <td>474680</td>\n      <td>-0.134790</td>\n      <td>70.6%</td>\n    </tr>\n    <tr>\n      <th>581</th>\n      <td>2023</td>\n      <td>Ventura</td>\n      <td>5.870643</td>\n      <td>5</td>\n      <td>651851.0</td>\n      <td>31980.0</td>\n      <td>825960</td>\n      <td>0.109375</td>\n      <td>78.5%</td>\n    </tr>\n    <tr>\n      <th>582</th>\n      <td>2023</td>\n      <td>Yolo</td>\n      <td>7.216270</td>\n      <td>2</td>\n      <td>152560.0</td>\n      <td>6757.0</td>\n      <td>220454</td>\n      <td>-0.311495</td>\n      <td>80.9%</td>\n    </tr>\n  </tbody>\n</table>\n<p>583 rows × 9 columns</p>\n</div>"
     },
     "execution_count": 51,
     "metadata": {},
     "output_type": "execute_result"
    }
   ],
   "source": [
    "main_df = pd.merge(df_pm_vehicles_pop, df_aged_pop, how='inner', on = ['Data Year', 'County'])\n",
    "main_df"
   ]
  },
  {
   "cell_type": "markdown",
   "id": "18386945737a08ef",
   "metadata": {},
   "source": [
    "Since everything is together, we will use main_df['Population'] to convert the percentages in main_df['Population Estimate, >18'] to whole numbers. "
   ]
  },
  {
   "cell_type": "code",
   "execution_count": 52,
   "id": "e3e124334a65ae5e",
   "metadata": {
    "ExecuteTime": {
     "end_time": "2024-10-04T21:38:52.480820Z",
     "start_time": "2024-10-04T21:38:51.940385Z"
    }
   },
   "outputs": [
    {
     "ename": "KeyError",
     "evalue": "\"['Z Score'] not in index\"",
     "output_type": "error",
     "traceback": [
      "\u001B[0;31m---------------------------------------------------------------------------\u001B[0m",
      "\u001B[0;31mKeyError\u001B[0m                                  Traceback (most recent call last)",
      "Cell \u001B[0;32mIn[52], line 3\u001B[0m\n\u001B[1;32m      1\u001B[0m main_df[\u001B[38;5;124m'\u001B[39m\u001B[38;5;124mPop Percentage\u001B[39m\u001B[38;5;124m'\u001B[39m] \u001B[38;5;241m=\u001B[39m main_df[\u001B[38;5;124m'\u001B[39m\u001B[38;5;124mPopulation Percentage >18\u001B[39m\u001B[38;5;124m'\u001B[39m]\u001B[38;5;241m.\u001B[39mapply(\u001B[38;5;28;01mlambda\u001B[39;00m x: \u001B[38;5;28mfloat\u001B[39m(x\u001B[38;5;241m.\u001B[39mstrip(\u001B[38;5;124m'\u001B[39m\u001B[38;5;124m%\u001B[39m\u001B[38;5;124m'\u001B[39m))\u001B[38;5;241m/\u001B[39m\u001B[38;5;241m100\u001B[39m \u001B[38;5;28;01mif\u001B[39;00m \u001B[38;5;28misinstance\u001B[39m(x, \u001B[38;5;28mstr\u001B[39m) \u001B[38;5;28;01melse\u001B[39;00m x)\n\u001B[1;32m      2\u001B[0m main_df[\u001B[38;5;124m'\u001B[39m\u001B[38;5;124mAdult Population\u001B[39m\u001B[38;5;124m'\u001B[39m] \u001B[38;5;241m=\u001B[39m \u001B[38;5;28mround\u001B[39m(main_df[\u001B[38;5;124m'\u001B[39m\u001B[38;5;124mPopulation\u001B[39m\u001B[38;5;124m'\u001B[39m]\u001B[38;5;241m*\u001B[39mmain_df[\u001B[38;5;124m'\u001B[39m\u001B[38;5;124mPop Percentage\u001B[39m\u001B[38;5;124m'\u001B[39m])\n\u001B[0;32m----> 3\u001B[0m main_df \u001B[38;5;241m=\u001B[39m \u001B[43mmain_df\u001B[49m\u001B[43m[\u001B[49m\u001B[43m[\u001B[49m\u001B[38;5;124;43m'\u001B[39;49m\u001B[38;5;124;43mData Year\u001B[39;49m\u001B[38;5;124;43m'\u001B[39;49m\u001B[43m,\u001B[49m\u001B[43m \u001B[49m\u001B[38;5;124;43m'\u001B[39;49m\u001B[38;5;124;43mCounty\u001B[39;49m\u001B[38;5;124;43m'\u001B[39;49m\u001B[43m,\u001B[49m\u001B[43m \u001B[49m\u001B[38;5;124;43m'\u001B[39;49m\u001B[38;5;124;43mPopulation\u001B[39;49m\u001B[38;5;124;43m'\u001B[39;49m\u001B[43m,\u001B[49m\u001B[43m \u001B[49m\u001B[38;5;124;43m'\u001B[39;49m\u001B[38;5;124;43mZ Score\u001B[39;49m\u001B[38;5;124;43m'\u001B[39;49m\u001B[43m,\u001B[49m\u001B[43m \u001B[49m\u001B[38;5;124;43m'\u001B[39;49m\u001B[38;5;124;43mAdult Population\u001B[39;49m\u001B[38;5;124;43m'\u001B[39;49m\u001B[43m,\u001B[49m\u001B[43m \u001B[49m\u001B[38;5;124;43m'\u001B[39;49m\u001B[38;5;124;43mAverage PM 2.5/County\u001B[39;49m\u001B[38;5;124;43m'\u001B[39;49m\u001B[43m,\u001B[49m\n\u001B[1;32m      4\u001B[0m \u001B[43m       \u001B[49m\u001B[38;5;124;43m'\u001B[39;49m\u001B[38;5;124;43mNumber of Site IDs/County\u001B[39;49m\u001B[38;5;124;43m'\u001B[39;49m\u001B[43m,\u001B[49m\u001B[43m \u001B[49m\u001B[38;5;124;43m'\u001B[39;49m\u001B[38;5;124;43mNumber of Gas Cars\u001B[39;49m\u001B[38;5;124;43m'\u001B[39;49m\u001B[43m,\u001B[49m\u001B[43m \u001B[49m\u001B[38;5;124;43m'\u001B[39;49m\u001B[38;5;124;43mNumber of EV\u001B[39;49m\u001B[38;5;124;43m'\u001B[39;49m\u001B[43m]\u001B[49m\u001B[43m]\u001B[49m\n\u001B[1;32m      5\u001B[0m main_df\u001B[38;5;241m.\u001B[39mhead()\n",
      "File \u001B[0;32m/Library/Frameworks/Python.framework/Versions/3.11/lib/python3.11/site-packages/pandas/core/frame.py:3767\u001B[0m, in \u001B[0;36mDataFrame.__getitem__\u001B[0;34m(self, key)\u001B[0m\n\u001B[1;32m   3765\u001B[0m     \u001B[38;5;28;01mif\u001B[39;00m is_iterator(key):\n\u001B[1;32m   3766\u001B[0m         key \u001B[38;5;241m=\u001B[39m \u001B[38;5;28mlist\u001B[39m(key)\n\u001B[0;32m-> 3767\u001B[0m     indexer \u001B[38;5;241m=\u001B[39m \u001B[38;5;28;43mself\u001B[39;49m\u001B[38;5;241;43m.\u001B[39;49m\u001B[43mcolumns\u001B[49m\u001B[38;5;241;43m.\u001B[39;49m\u001B[43m_get_indexer_strict\u001B[49m\u001B[43m(\u001B[49m\u001B[43mkey\u001B[49m\u001B[43m,\u001B[49m\u001B[43m \u001B[49m\u001B[38;5;124;43m\"\u001B[39;49m\u001B[38;5;124;43mcolumns\u001B[39;49m\u001B[38;5;124;43m\"\u001B[39;49m\u001B[43m)\u001B[49m[\u001B[38;5;241m1\u001B[39m]\n\u001B[1;32m   3769\u001B[0m \u001B[38;5;66;03m# take() does not accept boolean indexers\u001B[39;00m\n\u001B[1;32m   3770\u001B[0m \u001B[38;5;28;01mif\u001B[39;00m \u001B[38;5;28mgetattr\u001B[39m(indexer, \u001B[38;5;124m\"\u001B[39m\u001B[38;5;124mdtype\u001B[39m\u001B[38;5;124m\"\u001B[39m, \u001B[38;5;28;01mNone\u001B[39;00m) \u001B[38;5;241m==\u001B[39m \u001B[38;5;28mbool\u001B[39m:\n",
      "File \u001B[0;32m/Library/Frameworks/Python.framework/Versions/3.11/lib/python3.11/site-packages/pandas/core/indexes/base.py:5877\u001B[0m, in \u001B[0;36mIndex._get_indexer_strict\u001B[0;34m(self, key, axis_name)\u001B[0m\n\u001B[1;32m   5874\u001B[0m \u001B[38;5;28;01melse\u001B[39;00m:\n\u001B[1;32m   5875\u001B[0m     keyarr, indexer, new_indexer \u001B[38;5;241m=\u001B[39m \u001B[38;5;28mself\u001B[39m\u001B[38;5;241m.\u001B[39m_reindex_non_unique(keyarr)\n\u001B[0;32m-> 5877\u001B[0m \u001B[38;5;28;43mself\u001B[39;49m\u001B[38;5;241;43m.\u001B[39;49m\u001B[43m_raise_if_missing\u001B[49m\u001B[43m(\u001B[49m\u001B[43mkeyarr\u001B[49m\u001B[43m,\u001B[49m\u001B[43m \u001B[49m\u001B[43mindexer\u001B[49m\u001B[43m,\u001B[49m\u001B[43m \u001B[49m\u001B[43maxis_name\u001B[49m\u001B[43m)\u001B[49m\n\u001B[1;32m   5879\u001B[0m keyarr \u001B[38;5;241m=\u001B[39m \u001B[38;5;28mself\u001B[39m\u001B[38;5;241m.\u001B[39mtake(indexer)\n\u001B[1;32m   5880\u001B[0m \u001B[38;5;28;01mif\u001B[39;00m \u001B[38;5;28misinstance\u001B[39m(key, Index):\n\u001B[1;32m   5881\u001B[0m     \u001B[38;5;66;03m# GH 42790 - Preserve name from an Index\u001B[39;00m\n",
      "File \u001B[0;32m/Library/Frameworks/Python.framework/Versions/3.11/lib/python3.11/site-packages/pandas/core/indexes/base.py:5941\u001B[0m, in \u001B[0;36mIndex._raise_if_missing\u001B[0;34m(self, key, indexer, axis_name)\u001B[0m\n\u001B[1;32m   5938\u001B[0m     \u001B[38;5;28;01mraise\u001B[39;00m \u001B[38;5;167;01mKeyError\u001B[39;00m(\u001B[38;5;124mf\u001B[39m\u001B[38;5;124m\"\u001B[39m\u001B[38;5;124mNone of [\u001B[39m\u001B[38;5;132;01m{\u001B[39;00mkey\u001B[38;5;132;01m}\u001B[39;00m\u001B[38;5;124m] are in the [\u001B[39m\u001B[38;5;132;01m{\u001B[39;00maxis_name\u001B[38;5;132;01m}\u001B[39;00m\u001B[38;5;124m]\u001B[39m\u001B[38;5;124m\"\u001B[39m)\n\u001B[1;32m   5940\u001B[0m not_found \u001B[38;5;241m=\u001B[39m \u001B[38;5;28mlist\u001B[39m(ensure_index(key)[missing_mask\u001B[38;5;241m.\u001B[39mnonzero()[\u001B[38;5;241m0\u001B[39m]]\u001B[38;5;241m.\u001B[39munique())\n\u001B[0;32m-> 5941\u001B[0m \u001B[38;5;28;01mraise\u001B[39;00m \u001B[38;5;167;01mKeyError\u001B[39;00m(\u001B[38;5;124mf\u001B[39m\u001B[38;5;124m\"\u001B[39m\u001B[38;5;132;01m{\u001B[39;00mnot_found\u001B[38;5;132;01m}\u001B[39;00m\u001B[38;5;124m not in index\u001B[39m\u001B[38;5;124m\"\u001B[39m)\n",
      "\u001B[0;31mKeyError\u001B[0m: \"['Z Score'] not in index\""
     ]
    }
   ],
   "source": [
    "main_df['Pop Percentage'] = main_df['Population Percentage >18'].apply(lambda x: float(x.strip('%'))/100 if isinstance(x, str) else x)\n",
    "main_df['Adult Population'] = round(main_df['Population']*main_df['Pop Percentage'])\n",
    "main_df = main_df[['Data Year', 'County', 'Population', 'Z Score', 'Adult Population', 'Average PM 2.5/County',\n",
    "       'Number of Site IDs/County', 'Number of Gas Cars', 'Number of EV']]\n",
    "main_df.head()"
   ]
  },
  {
   "cell_type": "markdown",
   "id": "56965301d683b3fc",
   "metadata": {},
   "source": [
    "# Converting to CSV\n",
    "Since all of our data is properly cleaned and manipulated into a usable dataframe, we will export main_df to a csv file so that we can move onto visualizations and further analysis. \n"
   ]
  },
  {
   "cell_type": "code",
   "execution_count": null,
   "id": "c89b7aaa",
   "metadata": {
    "ExecuteTime": {
     "end_time": "2024-10-04T21:38:52.481644Z",
     "start_time": "2024-10-04T21:38:52.481589Z"
    }
   },
   "outputs": [],
   "source": [
    "# Export main_df to csv\n",
    "main_df.to_csv('./main_df.csv', index=False)"
   ]
  },
  {
   "cell_type": "code",
   "execution_count": null,
   "id": "681f775a",
   "metadata": {},
   "outputs": [],
   "source": [
    "# Shapiro-Wilk Test #\n",
    "\n",
    "\n",
    "df_pm_vehicles_pop = main_df\n",
    "df_pm_vehicles_pop['Gas Cars per Capita'] = df_pm_vehicles_pop['Number of Gas Cars'] / df_pm_vehicles_pop['Pop Total>18']\n",
    "df_pm_vehicles_pop['EV per Capita'] = df_pm_vehicles_pop['Number of EV'] / df_pm_vehicles_pop['Pop Total>18']\n",
    "\n",
    "\n",
    "columns = ['Pop Total>18','Gas Cars per Capita','EV per Capita']\n",
    "for column in columns:\n",
    "    df_2019 = df_pm_vehicles_pop[df_pm_vehicles_pop['Data Year'] == 2019]\n",
    "    df_2023 = df_pm_vehicles_pop[df_pm_vehicles_pop['Data Year'] == 2023]\n",
    "    stat_2019, p_2019 = shapiro(df_2019[column])\n",
    "    stat_2023, p_2023 = shapiro(df_2023[column])\n",
    "    \n",
    "    if p_2019 > 0.05:\n",
    "        print('stat=%.3f, p=%.3f' % (stat_2019, p_2019)+ f':2019 {column} probably Gaussian')\n",
    "    else:\n",
    "        print('stat=%.3f, p=%.3f' % (stat_2019, p_2019)+ f':2019 {column} probably not Gaussian')\n",
    "    if p_2023 > 0.05:\n",
    "        print('stat=%.3f, p=%.3f' % (stat_2023, p_2023)+ f':2023 {column} probably Gaussian')\n",
    "    else:\n",
    "        print('stat=%.3f, p=%.3f' % (stat_2023, p_2023)+ f':2023 {column} probably not Gaussian')\n"
   ]
  },
  {
   "cell_type": "code",
   "execution_count": null,
   "id": "e6cb42f8",
   "metadata": {},
   "outputs": [],
   "source": [
    "# Assuming df_pm_vehicles_pop is your DataFrame\n",
    "df_2023 = df_pm_vehicles_pop[df_pm_vehicles_pop['Data Year'] == 2023]\n",
    "df_2019 = df_pm_vehicles_pop[df_pm_vehicles_pop['Data Year'] == 2019]\n",
    "\n",
    "\n",
    "df_2023.loc[:, ['Population (M)']] = df_2023['Pop Total>18'] / 1000000\n",
    "df_2019.loc[:, ['Population (M)']] = df_2019['Pop Total>18'] / 1000000\n",
    "\n",
    "# Create subplots (2 rows, 3 columns)\n",
    "fig, axes = plt.subplots(2, 3, figsize=(18, 12))\n",
    "\n",
    "# 2019 Plots\n",
    "# Calculate Spearman correlation\n",
    "stat, p = spearmanr(df_2019['Population (M)'], df_2019['Average PM 2.5/County'])\n",
    "print(f'Spearman correlation coefficient: {stat:.3f}, p-value: {p:.3f}')\n",
    "# Plot 1 (Row 0, Col 0): Population vs. Average PM 2.5 (2019)\n",
    "sns.scatterplot(x='Population (M)', y='Average PM 2.5/County', data=df_2019, ax=axes[0, 0],color = '#78b342')\n",
    "#pop_pearson_2019, _ = pearsonr(df_2019['Population'], df_2019['Average PM 2.5/County'])\n",
    "axes[0, 0].set_title(f'2019 Population vs. PM 2.5\\nSpearman r = {stat:.2f}, p-value: {p:.3f}')\n",
    "axes[0, 0].set_xlabel('')\n",
    "axes[0, 0].set_ylabel('Average PM 2.5/County')\n",
    "axes[0, 0].set_xlim(0,11)\n",
    "median = round(df_2019['Population (M)'].median(),2)\n",
    "axes[0,0].axvline(median)\n",
    "axes[0,0].text(11*.06,df_2019['Average PM 2.5/County'].max()*.9,f'Median: {median}',fontsize=12)\n",
    "\n",
    "stat, p = spearmanr(df_2019['Gas Cars per Capita'], df_2019['Average PM 2.5/County'])\n",
    "print(f'Spearman correlation coefficient: {stat:.3f}, p-value: {p:.3f}')\n",
    "# Plot 2 (Row 0, Col 1): Gas Cars per Capita vs. Average PM 2.5 (2019)\n",
    "sns.scatterplot(x='Gas Cars per Capita', y='Average PM 2.5/County', data=df_2019, ax=axes[0, 1], color = '#708238')\n",
    "#gas_pearson_2019, _ = pearsonr(df_2019['Gas Cars per Capita'], df_2019['Average PM 2.5/County'])\n",
    "axes[0, 1].set_title(f'2019 Gas Cars per Capita vs. PM 2.5\\nSpearman r = {stat:.2f}, p-value: {p:.3f}')\n",
    "axes[0, 1].set_xlabel('')\n",
    "axes[0, 1].set_ylabel('')\n",
    "axes[0, 1].set_xlim(0,2)\n",
    "median = round(df_2019['Gas Cars per Capita'].median(),2)\n",
    "axes[0,1].axvline(median)\n",
    "axes[0,1].text(median*1.1,df_2019['Average PM 2.5/County'].max()*.9,f'Median: {median}',fontsize=12)\n",
    "\n",
    "stat, p = spearmanr(df_2019['EV per Capita'], df_2019['Average PM 2.5/County'])\n",
    "print(f'Spearman correlation coefficient: {stat:.3f}, p-value: {p:.3f}')\n",
    "# Plot 3 (Row 0, Col 2): EV per Capita vs. Average PM 2.5 (2019)\n",
    "sns.scatterplot(x='EV per Capita', y='Average PM 2.5/County', data=df_2019, ax=axes[0, 2], color = '#c77036')\n",
    "#ev_pearson_2019, _ = pearsonr(df_2019['EV per Capita'], df_2019['Average PM 2.5/County'])\n",
    "axes[0, 2].set_title(f'2019 EV per Capita vs. PM 2.5\\nSpearman r = {stat:.2f}, p-value: {p:.3f}')\n",
    "axes[0, 2].set_xlabel('')\n",
    "axes[0, 2].set_ylabel('')\n",
    "axes[0, 2].set_xlim(0,.1)\n",
    "median = round(df_2019['EV per Capita'].median(),2)\n",
    "axes[0,2].axvline(median)\n",
    "axes[0,2].text(median*1.4,df_2019['Average PM 2.5/County'].max()*.9,f'Median: {median}',fontsize=12)\n",
    "\n",
    "stat, p = spearmanr(df_2023['Population (M)'], df_2023['Average PM 2.5/County'])\n",
    "print(f'Spearman correlation coefficient: {stat:.3f}, p-value: {p:.3f}')\n",
    "# 2023 Plots\n",
    "# Plot 4 (Row 1, Col 0): Population vs. Average PM 2.5 (2023)\n",
    "sns.scatterplot(x='Population (M)', y='Average PM 2.5/County', data=df_2023, ax=axes[1, 0],color = '#78b342')\n",
    "#pop_pearson_2023, _ = pearsonr(df_2023['Population'], df_2023['Average PM 2.5/County'])\n",
    "axes[1, 0].set_title(f'2023 Population vs. PM 2.5\\nSpearman r = {stat:.2f}, p-value: {p:.3f}')\n",
    "axes[1, 0].set_xlabel('Population (in millions)')\n",
    "axes[1, 0].set_ylabel('Average PM 2.5/County')\n",
    "axes[1, 0].set_xlim(0,11)\n",
    "median = round(df_2023['Population (M)'].median(),2)\n",
    "axes[1,0].axvline(median)\n",
    "axes[1,0].text(11*.06,df_2023['Average PM 2.5/County'].max()*.9,f'Median: {median}',fontsize=12)\n",
    "\n",
    "stat, p = spearmanr(df_2023['Gas Cars per Capita'], df_2023['Average PM 2.5/County'])\n",
    "print(f'Spearman correlation coefficient: {stat:.3f}, p-value: {p:.3f}')\n",
    "# Plot 5 (Row 1, Col 1): Gas Cars per Capita vs. Average PM 2.5 (2023)\n",
    "sns.scatterplot(x='Gas Cars per Capita', y='Average PM 2.5/County', data=df_2023, ax=axes[1, 1], color = '#708238')\n",
    "#gas_pearson_2023, _ = pearsonr(df_2023['Gas Cars per Capita'], df_2023['Average PM 2.5/County'])\n",
    "axes[1, 1].set_title(f'2023 Gas Cars per Capita vs. PM 2.5\\nSpearman r = {stat:.2f}, p-value: {p:.3f}')\n",
    "axes[1, 1].set_xlabel('Gas Cars per Capita')\n",
    "axes[1, 1].set_ylabel('')\n",
    "axes[1, 1].set_xlim(0,2)\n",
    "median = round(df_2023['Gas Cars per Capita'].median(),2)\n",
    "axes[1,1].axvline(median)\n",
    "axes[1,1].text(median*1.1,df_2023['Average PM 2.5/County'].max()*.9,f'Median: {median}',fontsize=12)\n",
    "\n",
    "stat, p = spearmanr(df_2023['EV per Capita'], df_2023['Average PM 2.5/County'])\n",
    "print(f'Spearman correlation coefficient: {stat:.3f}, p-value: {p:.3f}')\n",
    "# Plot 6 (Row 1, Col 2): EV per Capita vs. Average PM 2.5 (2023)\n",
    "sns.scatterplot(x='EV per Capita', y='Average PM 2.5/County', data=df_2023, ax=axes[1, 2], color = '#c77036')\n",
    "#ev_pearson_2023, _ = pearsonr(df_2023['EV per Capita'], df_2023['Average PM 2.5/County'])\n",
    "axes[1, 2].set_title(f'2023 EV per Capita vs. PM 2.5\\nSpearman r = {stat:.2f}, p-value: {p:.3f}')\n",
    "axes[1, 2].set_xlabel('EV per Capita')\n",
    "axes[1, 2].set_ylabel('')\n",
    "axes[1, 2].set_xlim(0,.1)\n",
    "median = round(df_2023['EV per Capita'].median(),2)\n",
    "axes[1,2].axvline(median)\n",
    "axes[1,2].text(median*1.1,df_2023['Average PM 2.5/County'].max()*.9,f'Median: {median}',fontsize=12)\n",
    "\n",
    "plt.savefig(\"graphic_Correlation.png\",dpi=300)\n",
    "# Adjust layout\n",
    "plt.tight_layout()\n",
    "plt.show()"
   ]
  },
  {
   "cell_type": "code",
   "execution_count": null,
   "id": "e77aea30",
   "metadata": {},
   "outputs": [],
   "source": []
  },
  {
   "cell_type": "code",
   "execution_count": null,
   "id": "ac5c3a33",
   "metadata": {},
   "outputs": [],
   "source": []
  }
 ],
 "metadata": {
  "kernelspec": {
   "display_name": "Python 3 (ipykernel)",
   "language": "python",
   "name": "python3"
  },
  "language_info": {
   "codemirror_mode": {
    "name": "ipython",
    "version": 3
   },
   "file_extension": ".py",
   "mimetype": "text/x-python",
   "name": "python",
   "nbconvert_exporter": "python",
   "pygments_lexer": "ipython3",
   "version": "3.10.14"
  }
 },
 "nbformat": 4,
 "nbformat_minor": 5
}
