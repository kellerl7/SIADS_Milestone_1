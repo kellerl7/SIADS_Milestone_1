{
 "cells": [
  {
   "cell_type": "code",
   "id": "initial_id",
   "metadata": {
    "collapsed": true,
    "ExecuteTime": {
     "end_time": "2024-09-16T00:07:32.140758Z",
     "start_time": "2024-09-16T00:07:19.202332Z"
    }
   },
   "source": [
    "import pandas as pd\n",
    "df_multiple_sheets = pd.read_excel('california_vehicle.xlsx',sheet_name=[\"County\", \"ZIP\"])"
   ],
   "outputs": [],
   "execution_count": 1
  },
  {
   "metadata": {
    "ExecuteTime": {
     "end_time": "2024-09-16T00:08:19.320399Z",
     "start_time": "2024-09-16T00:08:19.315417Z"
    }
   },
   "cell_type": "code",
   "source": [
    "county_df = df_multiple_sheets['County']\n",
    "zipcode_df = df_multiple_sheets['ZIP']"
   ],
   "id": "f74a497e8eb09bbf",
   "outputs": [],
   "execution_count": 2
  },
  {
   "metadata": {
    "ExecuteTime": {
     "end_time": "2024-09-16T00:19:05.013017Z",
     "start_time": "2024-09-16T00:19:05.003123Z"
    }
   },
   "cell_type": "code",
   "source": [
    "print(len(county_df))\n",
    "county_df.head()"
   ],
   "id": "2031507ce91607f0",
   "outputs": [
    {
     "name": "stdout",
     "output_type": "stream",
     "text": [
      "33542\n"
     ]
    },
    {
     "data": {
      "text/plain": [
       "   Data Year   County Dashboard Fuel Type Group               Fuel Type  \\\n",
       "0       2010  Alameda    Battery Electric (BEV)  Battery Electric (BEV)   \n",
       "1       2010  Alameda    Battery Electric (BEV)  Battery Electric (BEV)   \n",
       "2       2010  Alameda                    Diesel                  Diesel   \n",
       "3       2010  Alameda                  Gasoline               Flex Fuel   \n",
       "4       2010  Alameda                  Gasoline                Gasoline   \n",
       "\n",
       "    Make     Model  Number of Vehicles  \n",
       "0   Ford    Ranger                   3  \n",
       "1  Tesla  Roadster                  17  \n",
       "2    NaN       NaN               10939  \n",
       "3    NaN       NaN               10974  \n",
       "4    NaN       NaN              840577  "
      ],
      "text/html": [
       "<div>\n",
       "<style scoped>\n",
       "    .dataframe tbody tr th:only-of-type {\n",
       "        vertical-align: middle;\n",
       "    }\n",
       "\n",
       "    .dataframe tbody tr th {\n",
       "        vertical-align: top;\n",
       "    }\n",
       "\n",
       "    .dataframe thead th {\n",
       "        text-align: right;\n",
       "    }\n",
       "</style>\n",
       "<table border=\"1\" class=\"dataframe\">\n",
       "  <thead>\n",
       "    <tr style=\"text-align: right;\">\n",
       "      <th></th>\n",
       "      <th>Data Year</th>\n",
       "      <th>County</th>\n",
       "      <th>Dashboard Fuel Type Group</th>\n",
       "      <th>Fuel Type</th>\n",
       "      <th>Make</th>\n",
       "      <th>Model</th>\n",
       "      <th>Number of Vehicles</th>\n",
       "    </tr>\n",
       "  </thead>\n",
       "  <tbody>\n",
       "    <tr>\n",
       "      <th>0</th>\n",
       "      <td>2010</td>\n",
       "      <td>Alameda</td>\n",
       "      <td>Battery Electric (BEV)</td>\n",
       "      <td>Battery Electric (BEV)</td>\n",
       "      <td>Ford</td>\n",
       "      <td>Ranger</td>\n",
       "      <td>3</td>\n",
       "    </tr>\n",
       "    <tr>\n",
       "      <th>1</th>\n",
       "      <td>2010</td>\n",
       "      <td>Alameda</td>\n",
       "      <td>Battery Electric (BEV)</td>\n",
       "      <td>Battery Electric (BEV)</td>\n",
       "      <td>Tesla</td>\n",
       "      <td>Roadster</td>\n",
       "      <td>17</td>\n",
       "    </tr>\n",
       "    <tr>\n",
       "      <th>2</th>\n",
       "      <td>2010</td>\n",
       "      <td>Alameda</td>\n",
       "      <td>Diesel</td>\n",
       "      <td>Diesel</td>\n",
       "      <td>NaN</td>\n",
       "      <td>NaN</td>\n",
       "      <td>10939</td>\n",
       "    </tr>\n",
       "    <tr>\n",
       "      <th>3</th>\n",
       "      <td>2010</td>\n",
       "      <td>Alameda</td>\n",
       "      <td>Gasoline</td>\n",
       "      <td>Flex Fuel</td>\n",
       "      <td>NaN</td>\n",
       "      <td>NaN</td>\n",
       "      <td>10974</td>\n",
       "    </tr>\n",
       "    <tr>\n",
       "      <th>4</th>\n",
       "      <td>2010</td>\n",
       "      <td>Alameda</td>\n",
       "      <td>Gasoline</td>\n",
       "      <td>Gasoline</td>\n",
       "      <td>NaN</td>\n",
       "      <td>NaN</td>\n",
       "      <td>840577</td>\n",
       "    </tr>\n",
       "  </tbody>\n",
       "</table>\n",
       "</div>"
      ]
     },
     "execution_count": 8,
     "metadata": {},
     "output_type": "execute_result"
    }
   ],
   "execution_count": 8
  },
  {
   "metadata": {
    "ExecuteTime": {
     "end_time": "2024-09-16T00:16:44.876634Z",
     "start_time": "2024-09-16T00:16:44.868656Z"
    }
   },
   "cell_type": "code",
   "source": "county_df['County'].unique()",
   "id": "fe78835fceb65125",
   "outputs": [
    {
     "data": {
      "text/plain": [
       "array(['Alameda', 'Alpine', 'Amador', 'Butte', 'Calaveras', 'Colusa',\n",
       "       'Contra Costa', 'Del Norte', 'El Dorado', 'Fresno', 'Glenn',\n",
       "       'Humboldt', 'Imperial', 'Inyo', 'Kern', 'Kings', 'Lake', 'Lassen',\n",
       "       'Los Angeles', 'Madera', 'Marin', 'Mariposa', 'Mendocino',\n",
       "       'Merced', 'Modoc', 'Mono', 'Monterey', 'Napa', 'Nevada', 'Orange',\n",
       "       'Out Of State', 'Placer', 'Plumas', 'Riverside', 'Sacramento',\n",
       "       'San Benito', 'San Bernardino', 'San Diego', 'San Francisco',\n",
       "       'San Joaquin', 'San Luis Obispo', 'San Mateo', 'Santa Barbara',\n",
       "       'Santa Clara', 'Santa Cruz', 'Shasta', 'Sierra', 'Siskiyou',\n",
       "       'Solano', 'Sonoma', 'Stanislaus', 'Sutter', 'Tehama', 'Trinity',\n",
       "       'Tulare', 'Tuolumne', 'Ventura', 'Yolo', 'Yuba', 'Out of State'],\n",
       "      dtype=object)"
      ]
     },
     "execution_count": 6,
     "metadata": {},
     "output_type": "execute_result"
    }
   ],
   "execution_count": 6
  },
  {
   "metadata": {
    "ExecuteTime": {
     "end_time": "2024-09-16T00:20:12.560789Z",
     "start_time": "2024-09-16T00:20:12.542849Z"
    }
   },
   "cell_type": "code",
   "source": [
    "cali_county_df = county_df[~county_df['County'].isin(['Out of State','Out Of State'])]\n",
    "cali_county_df['County'].unique()"
   ],
   "id": "5f8218e83b4ba155",
   "outputs": [
    {
     "data": {
      "text/plain": [
       "array(['Alameda', 'Alpine', 'Amador', 'Butte', 'Calaveras', 'Colusa',\n",
       "       'Contra Costa', 'Del Norte', 'El Dorado', 'Fresno', 'Glenn',\n",
       "       'Humboldt', 'Imperial', 'Inyo', 'Kern', 'Kings', 'Lake', 'Lassen',\n",
       "       'Los Angeles', 'Madera', 'Marin', 'Mariposa', 'Mendocino',\n",
       "       'Merced', 'Modoc', 'Mono', 'Monterey', 'Napa', 'Nevada', 'Orange',\n",
       "       'Placer', 'Plumas', 'Riverside', 'Sacramento', 'San Benito',\n",
       "       'San Bernardino', 'San Diego', 'San Francisco', 'San Joaquin',\n",
       "       'San Luis Obispo', 'San Mateo', 'Santa Barbara', 'Santa Clara',\n",
       "       'Santa Cruz', 'Shasta', 'Sierra', 'Siskiyou', 'Solano', 'Sonoma',\n",
       "       'Stanislaus', 'Sutter', 'Tehama', 'Trinity', 'Tulare', 'Tuolumne',\n",
       "       'Ventura', 'Yolo', 'Yuba'], dtype=object)"
      ]
     },
     "execution_count": 10,
     "metadata": {},
     "output_type": "execute_result"
    }
   ],
   "execution_count": 10
  },
  {
   "metadata": {
    "ExecuteTime": {
     "end_time": "2024-09-16T00:26:28.817466Z",
     "start_time": "2024-09-16T00:26:28.797537Z"
    }
   },
   "cell_type": "code",
   "source": "fuel_types = cali_county_df['Fuel Type'].unique()",
   "id": "6bcbeb7d4d3d5ecd",
   "outputs": [],
   "execution_count": 12
  },
  {
   "metadata": {
    "ExecuteTime": {
     "end_time": "2024-09-16T00:30:56.316246Z",
     "start_time": "2024-09-16T00:30:56.291328Z"
    }
   },
   "cell_type": "code",
   "source": [
    "statewide_vehicle_totals = county_df.groupby(['Fuel Type', 'Data Year'])['Number of Vehicles'].sum().reset_index()\n",
    "statewide_vehicle_totals.head()"
   ],
   "id": "a6504c729d0cf730",
   "outputs": [
    {
     "data": {
      "text/plain": [
       "                Fuel Type  Data Year  Number of Vehicles\n",
       "0  Battery Electric (BEV)       2010                 601\n",
       "1  Battery Electric (BEV)       2011                4375\n",
       "2  Battery Electric (BEV)       2012                7902\n",
       "3  Battery Electric (BEV)       2013               25146\n",
       "4  Battery Electric (BEV)       2014               50175"
      ],
      "text/html": [
       "<div>\n",
       "<style scoped>\n",
       "    .dataframe tbody tr th:only-of-type {\n",
       "        vertical-align: middle;\n",
       "    }\n",
       "\n",
       "    .dataframe tbody tr th {\n",
       "        vertical-align: top;\n",
       "    }\n",
       "\n",
       "    .dataframe thead th {\n",
       "        text-align: right;\n",
       "    }\n",
       "</style>\n",
       "<table border=\"1\" class=\"dataframe\">\n",
       "  <thead>\n",
       "    <tr style=\"text-align: right;\">\n",
       "      <th></th>\n",
       "      <th>Fuel Type</th>\n",
       "      <th>Data Year</th>\n",
       "      <th>Number of Vehicles</th>\n",
       "    </tr>\n",
       "  </thead>\n",
       "  <tbody>\n",
       "    <tr>\n",
       "      <th>0</th>\n",
       "      <td>Battery Electric (BEV)</td>\n",
       "      <td>2010</td>\n",
       "      <td>601</td>\n",
       "    </tr>\n",
       "    <tr>\n",
       "      <th>1</th>\n",
       "      <td>Battery Electric (BEV)</td>\n",
       "      <td>2011</td>\n",
       "      <td>4375</td>\n",
       "    </tr>\n",
       "    <tr>\n",
       "      <th>2</th>\n",
       "      <td>Battery Electric (BEV)</td>\n",
       "      <td>2012</td>\n",
       "      <td>7902</td>\n",
       "    </tr>\n",
       "    <tr>\n",
       "      <th>3</th>\n",
       "      <td>Battery Electric (BEV)</td>\n",
       "      <td>2013</td>\n",
       "      <td>25146</td>\n",
       "    </tr>\n",
       "    <tr>\n",
       "      <th>4</th>\n",
       "      <td>Battery Electric (BEV)</td>\n",
       "      <td>2014</td>\n",
       "      <td>50175</td>\n",
       "    </tr>\n",
       "  </tbody>\n",
       "</table>\n",
       "</div>"
      ]
     },
     "execution_count": 16,
     "metadata": {},
     "output_type": "execute_result"
    }
   ],
   "execution_count": 16
  },
  {
   "metadata": {
    "ExecuteTime": {
     "end_time": "2024-09-16T00:32:05.940516Z",
     "start_time": "2024-09-16T00:32:05.715604Z"
    }
   },
   "cell_type": "code",
   "source": [
    "import matplotlib.pyplot as plt\n",
    "\n",
    "plt.figure(figsize=(10, 6))\n",
    "\n",
    "for fuel_type in fuel_types:\n",
    "    fuel_data = statewide_vehicle_totals[statewide_vehicle_totals['Fuel Type'] == fuel_type]\n",
    "    plt.plot(fuel_data['Data Year'], fuel_data['Number of Vehicles'], label=fuel_type)\n",
    "\n",
    "plt.title('Total Vehicles by Fuel Type and Year')\n",
    "plt.xlabel('Year')\n",
    "plt.ylabel('Total Vehicles')\n",
    "\n",
    "plt.legend(title='Fuel Type')\n",
    "\n",
    "plt.grid(True)\n",
    "plt.show()\n"
   ],
   "id": "f3a3e64c36f40367",
   "outputs": [
    {
     "data": {
      "text/plain": [
       "<Figure size 1000x600 with 1 Axes>"
      ],
      "image/png": "[encoded data removed]"
     },
     "metadata": {},
     "output_type": "display_data"
    }
   ],
   "execution_count": 18
  },
  {
   "metadata": {},
   "cell_type": "code",
   "outputs": [],
   "execution_count": null,
   "source": "",
   "id": "fd7caab832c73d7a"
  }
 ],
 "metadata": {
  "kernelspec": {
   "display_name": "Python 3",
   "language": "python",
   "name": "python3"
  },
  "language_info": {
   "codemirror_mode": {
    "name": "ipython",
    "version": 2
   },
   "file_extension": ".py",
   "mimetype": "text/x-python",
   "name": "python",
   "nbconvert_exporter": "python",
   "pygments_lexer": "ipython2",
   "version": "2.7.6"
  }
 },
 "nbformat": 4,
 "nbformat_minor": 5
}
