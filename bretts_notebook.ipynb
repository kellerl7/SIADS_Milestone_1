{
 "cells": [
  {
   "cell_type": "code",
   "execution_count": 1,
   "id": "ae4f3dcc",
   "metadata": {
    "ExecuteTime": {
     "end_time": "2024-09-30T17:33:01.403629Z",
     "start_time": "2024-09-30T17:33:00.562781Z"
    }
   },
   "outputs": [
    {
     "name": "stdout",
     "output_type": "stream",
     "text": [
      "Requirement already satisfied: openpyxl in /Library/Frameworks/Python.framework/Versions/3.11/lib/python3.11/site-packages (3.1.5)\r\n",
      "Requirement already satisfied: et-xmlfile in /Library/Frameworks/Python.framework/Versions/3.11/lib/python3.11/site-packages (from openpyxl) (1.1.0)\r\n",
      "Note: you may need to restart the kernel to use updated packages.\n"
     ]
    }
   ],
   "source": [
    "pip install openpyxl"
   ]
  },
  {
   "cell_type": "code",
   "execution_count": 2,
   "id": "initial_id",
   "metadata": {
    "jupyter": {
     "is_executing": true
    },
    "ExecuteTime": {
     "end_time": "2024-09-30T17:33:03.406031Z",
     "start_time": "2024-09-30T17:33:01.410570Z"
    }
   },
   "outputs": [],
   "source": [
    "import pandas as pd\n",
    "## manually inspecting the vehicle data reveals there are three work sheets ##\n",
    "## The work sheet we care about is the 'County' worksheet as a df. ##\n",
    "countyvehicle_df = pd.read_excel('vehicle_data/california_vehicle.xlsx',sheet_name=\"County\")"
   ]
  },
  {
   "cell_type": "code",
   "execution_count": 3,
   "id": "f74a497e8eb09bbf",
   "metadata": {
    "jupyter": {
     "is_executing": true
    },
    "ExecuteTime": {
     "end_time": "2024-09-30T17:33:03.410021Z",
     "start_time": "2024-09-30T17:33:03.406802Z"
    }
   },
   "outputs": [
    {
     "data": {
      "text/plain": "(33542, 7)"
     },
     "execution_count": 3,
     "metadata": {},
     "output_type": "execute_result"
    }
   ],
   "source": [
    "## We've isolated the worksheet, now let's take a look at the shape ##\n",
    "countyvehicle_df.shape\n"
   ]
  },
  {
   "cell_type": "code",
   "execution_count": 4,
   "id": "2031507ce91607f0",
   "metadata": {
    "jupyter": {
     "is_executing": true
    },
    "ExecuteTime": {
     "end_time": "2024-09-30T17:33:03.419591Z",
     "start_time": "2024-09-30T17:33:03.410815Z"
    }
   },
   "outputs": [
    {
     "data": {
      "text/plain": "   Data Year   County Dashboard Fuel Type Group               Fuel Type  \\\n0       2010  Alameda    Battery Electric (BEV)  Battery Electric (BEV)   \n1       2010  Alameda    Battery Electric (BEV)  Battery Electric (BEV)   \n2       2010  Alameda                    Diesel                  Diesel   \n3       2010  Alameda                  Gasoline               Flex Fuel   \n4       2010  Alameda                  Gasoline                Gasoline   \n\n    Make     Model  Number of Vehicles  \n0   Ford    Ranger                   3  \n1  Tesla  Roadster                  17  \n2    NaN       NaN               10939  \n3    NaN       NaN               10974  \n4    NaN       NaN              840577  ",
      "text/html": "<div>\n<style scoped>\n    .dataframe tbody tr th:only-of-type {\n        vertical-align: middle;\n    }\n\n    .dataframe tbody tr th {\n        vertical-align: top;\n    }\n\n    .dataframe thead th {\n        text-align: right;\n    }\n</style>\n<table border=\"1\" class=\"dataframe\">\n  <thead>\n    <tr style=\"text-align: right;\">\n      <th></th>\n      <th>Data Year</th>\n      <th>County</th>\n      <th>Dashboard Fuel Type Group</th>\n      <th>Fuel Type</th>\n      <th>Make</th>\n      <th>Model</th>\n      <th>Number of Vehicles</th>\n    </tr>\n  </thead>\n  <tbody>\n    <tr>\n      <th>0</th>\n      <td>2010</td>\n      <td>Alameda</td>\n      <td>Battery Electric (BEV)</td>\n      <td>Battery Electric (BEV)</td>\n      <td>Ford</td>\n      <td>Ranger</td>\n      <td>3</td>\n    </tr>\n    <tr>\n      <th>1</th>\n      <td>2010</td>\n      <td>Alameda</td>\n      <td>Battery Electric (BEV)</td>\n      <td>Battery Electric (BEV)</td>\n      <td>Tesla</td>\n      <td>Roadster</td>\n      <td>17</td>\n    </tr>\n    <tr>\n      <th>2</th>\n      <td>2010</td>\n      <td>Alameda</td>\n      <td>Diesel</td>\n      <td>Diesel</td>\n      <td>NaN</td>\n      <td>NaN</td>\n      <td>10939</td>\n    </tr>\n    <tr>\n      <th>3</th>\n      <td>2010</td>\n      <td>Alameda</td>\n      <td>Gasoline</td>\n      <td>Flex Fuel</td>\n      <td>NaN</td>\n      <td>NaN</td>\n      <td>10974</td>\n    </tr>\n    <tr>\n      <th>4</th>\n      <td>2010</td>\n      <td>Alameda</td>\n      <td>Gasoline</td>\n      <td>Gasoline</td>\n      <td>NaN</td>\n      <td>NaN</td>\n      <td>840577</td>\n    </tr>\n  </tbody>\n</table>\n</div>"
     },
     "execution_count": 4,
     "metadata": {},
     "output_type": "execute_result"
    }
   ],
   "source": [
    "## We see there are 33542 rows and 7 columns, now let's see what that looks like ##\n",
    "countyvehicle_df.head()"
   ]
  },
  {
   "cell_type": "code",
   "execution_count": 5,
   "id": "ceab2d591c3f801e",
   "metadata": {
    "jupyter": {
     "is_executing": true
    },
    "ExecuteTime": {
     "end_time": "2024-09-30T17:33:03.427003Z",
     "start_time": "2024-09-30T17:33:03.420288Z"
    }
   },
   "outputs": [],
   "source": [
    "## We're not interested in the Make or Model of the car, so let's drop those values ##\n",
    "countyvehicle_df = countyvehicle_df.drop(columns=['Make','Model'])"
   ]
  },
  {
   "cell_type": "code",
   "execution_count": 6,
   "id": "757a3018664e2c34",
   "metadata": {
    "jupyter": {
     "is_executing": true
    },
    "ExecuteTime": {
     "end_time": "2024-09-30T17:33:03.438645Z",
     "start_time": "2024-09-30T17:33:03.429274Z"
    }
   },
   "outputs": [
    {
     "name": "stdout",
     "output_type": "stream",
     "text": [
      "<class 'pandas.core.frame.DataFrame'>\n",
      "RangeIndex: 33542 entries, 0 to 33541\n",
      "Data columns (total 5 columns):\n",
      " #   Column                     Non-Null Count  Dtype \n",
      "---  ------                     --------------  ----- \n",
      " 0   Data Year                  33542 non-null  int64 \n",
      " 1   County                     33542 non-null  object\n",
      " 2   Dashboard Fuel Type Group  33542 non-null  object\n",
      " 3   Fuel Type                  33542 non-null  object\n",
      " 4   Number of Vehicles         33542 non-null  int64 \n",
      "dtypes: int64(2), object(3)\n",
      "memory usage: 1.3+ MB\n"
     ]
    }
   ],
   "source": [
    "countyvehicle_df.info()"
   ]
  },
  {
   "cell_type": "code",
   "execution_count": 7,
   "id": "727835347b515498",
   "metadata": {
    "jupyter": {
     "is_executing": true
    },
    "ExecuteTime": {
     "end_time": "2024-09-30T17:33:03.442260Z",
     "start_time": "2024-09-30T17:33:03.439293Z"
    }
   },
   "outputs": [
    {
     "data": {
      "text/plain": "array(['Alameda', 'Alpine', 'Amador', 'Butte', 'Calaveras', 'Colusa',\n       'Contra Costa', 'Del Norte', 'El Dorado', 'Fresno', 'Glenn',\n       'Humboldt', 'Imperial', 'Inyo', 'Kern', 'Kings', 'Lake', 'Lassen',\n       'Los Angeles', 'Madera', 'Marin', 'Mariposa', 'Mendocino',\n       'Merced', 'Modoc', 'Mono', 'Monterey', 'Napa', 'Nevada', 'Orange',\n       'Out Of State', 'Placer', 'Plumas', 'Riverside', 'Sacramento',\n       'San Benito', 'San Bernardino', 'San Diego', 'San Francisco',\n       'San Joaquin', 'San Luis Obispo', 'San Mateo', 'Santa Barbara',\n       'Santa Clara', 'Santa Cruz', 'Shasta', 'Sierra', 'Siskiyou',\n       'Solano', 'Sonoma', 'Stanislaus', 'Sutter', 'Tehama', 'Trinity',\n       'Tulare', 'Tuolumne', 'Ventura', 'Yolo', 'Yuba', 'Out of State'],\n      dtype=object)"
     },
     "execution_count": 7,
     "metadata": {},
     "output_type": "execute_result"
    }
   ],
   "source": [
    "countyvehicle_df['County'].unique()"
   ]
  },
  {
   "cell_type": "code",
   "execution_count": 8,
   "id": "193bb7b10fed597d",
   "metadata": {
    "jupyter": {
     "is_executing": true
    },
    "ExecuteTime": {
     "end_time": "2024-09-30T17:33:03.463259Z",
     "start_time": "2024-09-30T17:33:03.442857Z"
    }
   },
   "outputs": [
    {
     "name": "stdout",
     "output_type": "stream",
     "text": [
      "The total number of vehicles for 'Out of State' in 2021 is: 403531\n",
      "The total number of vehicles for 'Out of State' in 2022 is: 409644\n"
     ]
    }
   ],
   "source": [
    "## There are vehicles present that are from out of state. Let's see what years have vehicles from out of state ##\n",
    "for year in countyvehicle_df['Data Year'].unique():\n",
    "    out_of_state_2023 = countyvehicle_df[(countyvehicle_df['Data Year'] == year) & \n",
    "                                         (countyvehicle_df['County'] == 'Out of State')]\n",
    "    \n",
    "    total_out_of_state_2023 = out_of_state_2023['Number of Vehicles'].sum()\n",
    "    if total_out_of_state_2023 != 0:\n",
    "        print(f\"The total number of vehicles for 'Out of State' in {year} is: {total_out_of_state_2023}\")"
   ]
  },
  {
   "cell_type": "code",
   "execution_count": 9,
   "id": "5a5a87adc6151e04",
   "metadata": {
    "jupyter": {
     "is_executing": true
    },
    "ExecuteTime": {
     "end_time": "2024-09-30T17:33:03.468371Z",
     "start_time": "2024-09-30T17:33:03.464345Z"
    }
   },
   "outputs": [],
   "source": [
    "## Looks like only 2021 and 2022 have vehicles from out of state present ##\n",
    "## Since out of state is only present for two years, we'll drop those values and note our assumption that they have a marginal impact ##\n",
    "calcountyvehicle_df = countyvehicle_df[~countyvehicle_df['County'].isin(['Out of State'])]"
   ]
  },
  {
   "cell_type": "code",
   "execution_count": 10,
   "id": "d3d8e346000ce5e1",
   "metadata": {
    "jupyter": {
     "is_executing": true
    },
    "ExecuteTime": {
     "end_time": "2024-09-30T17:33:03.475591Z",
     "start_time": "2024-09-30T17:33:03.469154Z"
    }
   },
   "outputs": [
    {
     "data": {
      "text/plain": "                Fuel Type Dashboard Fuel Type Group\n0  Battery Electric (BEV)    Battery Electric (BEV)\n1                  Diesel                    Diesel\n2               Flex Fuel                  Gasoline\n3                Gasoline           Gasoline Hybrid\n4         Gasoline Hybrid                     Other\n5             Natural Gas          Fuel Cell (FCEV)\n6                 Propane     Plug-in Hybrid (PHEV)\n7        Fuel Cell (FCEV)                       NaN\n8   Plug-in Hybrid (PHEV)                       NaN",
      "text/html": "<div>\n<style scoped>\n    .dataframe tbody tr th:only-of-type {\n        vertical-align: middle;\n    }\n\n    .dataframe tbody tr th {\n        vertical-align: top;\n    }\n\n    .dataframe thead th {\n        text-align: right;\n    }\n</style>\n<table border=\"1\" class=\"dataframe\">\n  <thead>\n    <tr style=\"text-align: right;\">\n      <th></th>\n      <th>Fuel Type</th>\n      <th>Dashboard Fuel Type Group</th>\n    </tr>\n  </thead>\n  <tbody>\n    <tr>\n      <th>0</th>\n      <td>Battery Electric (BEV)</td>\n      <td>Battery Electric (BEV)</td>\n    </tr>\n    <tr>\n      <th>1</th>\n      <td>Diesel</td>\n      <td>Diesel</td>\n    </tr>\n    <tr>\n      <th>2</th>\n      <td>Flex Fuel</td>\n      <td>Gasoline</td>\n    </tr>\n    <tr>\n      <th>3</th>\n      <td>Gasoline</td>\n      <td>Gasoline Hybrid</td>\n    </tr>\n    <tr>\n      <th>4</th>\n      <td>Gasoline Hybrid</td>\n      <td>Other</td>\n    </tr>\n    <tr>\n      <th>5</th>\n      <td>Natural Gas</td>\n      <td>Fuel Cell (FCEV)</td>\n    </tr>\n    <tr>\n      <th>6</th>\n      <td>Propane</td>\n      <td>Plug-in Hybrid (PHEV)</td>\n    </tr>\n    <tr>\n      <th>7</th>\n      <td>Fuel Cell (FCEV)</td>\n      <td>NaN</td>\n    </tr>\n    <tr>\n      <th>8</th>\n      <td>Plug-in Hybrid (PHEV)</td>\n      <td>NaN</td>\n    </tr>\n  </tbody>\n</table>\n</div>"
     },
     "execution_count": 10,
     "metadata": {},
     "output_type": "execute_result"
    }
   ],
   "source": [
    "## Next, let's take a look at the fuel types that are used. We're interested in impact of EVs and non-fossil fuel based cars ##\n",
    "## There are two columns that cover the fuel type, 'Dashboard Fuel Type Group' and 'Fuel Type' that are fully populated (length 33542) ##\n",
    "## Let's take a look at the difference between the two ##\n",
    "fuel_types_1 = calcountyvehicle_df['Dashboard Fuel Type Group'].unique()\n",
    "fuel_types_2 = calcountyvehicle_df['Fuel Type'].unique()\n",
    "\n",
    "fuel_types_df = pd.DataFrame({\n",
    "    'Fuel Type': pd.Series(fuel_types_2),\n",
    "    'Dashboard Fuel Type Group': pd.Series(fuel_types_1)\n",
    "})\n",
    "\n",
    "fuel_types_df\n"
   ]
  },
  {
   "cell_type": "code",
   "execution_count": 11,
   "id": "91810f8c4847622d",
   "metadata": {
    "jupyter": {
     "is_executing": true
    },
    "ExecuteTime": {
     "end_time": "2024-09-30T17:33:03.487295Z",
     "start_time": "2024-09-30T17:33:03.476884Z"
    }
   },
   "outputs": [
    {
     "name": "stderr",
     "output_type": "stream",
     "text": [
      "/var/folders/zc/cqjcs2293rz1ymjq5gj5xxb00000gn/T/ipykernel_56576/232989404.py:14: SettingWithCopyWarning: \n",
      "A value is trying to be set on a copy of a slice from a DataFrame.\n",
      "Try using .loc[row_indexer,col_indexer] = value instead\n",
      "\n",
      "See the caveats in the documentation: https://pandas.pydata.org/pandas-docs/stable/user_guide/indexing.html#returning-a-view-versus-a-copy\n",
      "  calcountyvehicle_df.loc[:, 'Fuel Category'] = calcountyvehicle_df['Fuel Type'].apply(categorize_fuel)\n"
     ]
    },
    {
     "data": {
      "text/plain": "   Data Year   County Dashboard Fuel Type Group               Fuel Type  \\\n0       2010  Alameda    Battery Electric (BEV)  Battery Electric (BEV)   \n1       2010  Alameda    Battery Electric (BEV)  Battery Electric (BEV)   \n2       2010  Alameda                    Diesel                  Diesel   \n3       2010  Alameda                  Gasoline               Flex Fuel   \n4       2010  Alameda                  Gasoline                Gasoline   \n\n   Number of Vehicles Fuel Category  \n0                   3            EV  \n1                  17            EV  \n2               10939   Fossil Fuel  \n3               10974   Fossil Fuel  \n4              840577   Fossil Fuel  ",
      "text/html": "<div>\n<style scoped>\n    .dataframe tbody tr th:only-of-type {\n        vertical-align: middle;\n    }\n\n    .dataframe tbody tr th {\n        vertical-align: top;\n    }\n\n    .dataframe thead th {\n        text-align: right;\n    }\n</style>\n<table border=\"1\" class=\"dataframe\">\n  <thead>\n    <tr style=\"text-align: right;\">\n      <th></th>\n      <th>Data Year</th>\n      <th>County</th>\n      <th>Dashboard Fuel Type Group</th>\n      <th>Fuel Type</th>\n      <th>Number of Vehicles</th>\n      <th>Fuel Category</th>\n    </tr>\n  </thead>\n  <tbody>\n    <tr>\n      <th>0</th>\n      <td>2010</td>\n      <td>Alameda</td>\n      <td>Battery Electric (BEV)</td>\n      <td>Battery Electric (BEV)</td>\n      <td>3</td>\n      <td>EV</td>\n    </tr>\n    <tr>\n      <th>1</th>\n      <td>2010</td>\n      <td>Alameda</td>\n      <td>Battery Electric (BEV)</td>\n      <td>Battery Electric (BEV)</td>\n      <td>17</td>\n      <td>EV</td>\n    </tr>\n    <tr>\n      <th>2</th>\n      <td>2010</td>\n      <td>Alameda</td>\n      <td>Diesel</td>\n      <td>Diesel</td>\n      <td>10939</td>\n      <td>Fossil Fuel</td>\n    </tr>\n    <tr>\n      <th>3</th>\n      <td>2010</td>\n      <td>Alameda</td>\n      <td>Gasoline</td>\n      <td>Flex Fuel</td>\n      <td>10974</td>\n      <td>Fossil Fuel</td>\n    </tr>\n    <tr>\n      <th>4</th>\n      <td>2010</td>\n      <td>Alameda</td>\n      <td>Gasoline</td>\n      <td>Gasoline</td>\n      <td>840577</td>\n      <td>Fossil Fuel</td>\n    </tr>\n  </tbody>\n</table>\n</div>"
     },
     "execution_count": 11,
     "metadata": {},
     "output_type": "execute_result"
    }
   ],
   "source": [
    "## It appears Dashboard Fuel Type Group goes ahead and clusters them together ## \n",
    "## We're going to make our own the assumption and group together vehicles based on fuel type ##\n",
    "## Diesel, Flex Fuel, Gasoline, Gasoline Hybrid, Natural Gas, and Propane will be treated as Fossil Fuels ##\n",
    "## Battery Electric, Fuel Cell, and Plug-in Hybrid will be treated as EVs ##\n",
    "fossil_fuels = ['Diesel', 'Flex Fuel', 'Gasoline', 'Gasoline Hybrid', 'Natural Gas', 'Propane']\n",
    "evs = ['Battery Electric (BEV)', 'Fuel Cell (FCEV)', 'Plug-in Hybrid (PHEV)']\n",
    "def categorize_fuel(fuel_type):\n",
    "    if fuel_type in fossil_fuels:\n",
    "        return 'Fossil Fuel'\n",
    "    elif fuel_type in evs:\n",
    "        return 'EV'\n",
    "    else:\n",
    "        return 'Other'\n",
    "calcountyvehicle_df.loc[:, 'Fuel Category'] = calcountyvehicle_df['Fuel Type'].apply(categorize_fuel)\n",
    "# Print the DataFrame to check the new column\n",
    "calcountyvehicle_df.head()"
   ]
  },
  {
   "cell_type": "code",
   "execution_count": 12,
   "id": "7f6349ebab3c8298",
   "metadata": {
    "jupyter": {
     "is_executing": true
    },
    "ExecuteTime": {
     "end_time": "2024-09-30T17:33:03.495774Z",
     "start_time": "2024-09-30T17:33:03.487860Z"
    }
   },
   "outputs": [
    {
     "data": {
      "text/plain": "      Data Year   County Fuel Category  Number of Vehicles\n0          2010  Alameda            EV                  20\n1          2010  Alameda   Fossil Fuel              885402\n2          2010   Alpine   Fossil Fuel                1041\n3          2010   Amador            EV                   1\n4          2010   Amador   Fossil Fuel               30480\n...         ...      ...           ...                 ...\n1594       2023  Ventura   Fossil Fuel              651851\n1595       2023     Yolo            EV                6757\n1596       2023     Yolo   Fossil Fuel              152560\n1597       2023     Yuba            EV                 961\n1598       2023     Yuba   Fossil Fuel               57567\n\n[1599 rows x 4 columns]",
      "text/html": "<div>\n<style scoped>\n    .dataframe tbody tr th:only-of-type {\n        vertical-align: middle;\n    }\n\n    .dataframe tbody tr th {\n        vertical-align: top;\n    }\n\n    .dataframe thead th {\n        text-align: right;\n    }\n</style>\n<table border=\"1\" class=\"dataframe\">\n  <thead>\n    <tr style=\"text-align: right;\">\n      <th></th>\n      <th>Data Year</th>\n      <th>County</th>\n      <th>Fuel Category</th>\n      <th>Number of Vehicles</th>\n    </tr>\n  </thead>\n  <tbody>\n    <tr>\n      <th>0</th>\n      <td>2010</td>\n      <td>Alameda</td>\n      <td>EV</td>\n      <td>20</td>\n    </tr>\n    <tr>\n      <th>1</th>\n      <td>2010</td>\n      <td>Alameda</td>\n      <td>Fossil Fuel</td>\n      <td>885402</td>\n    </tr>\n    <tr>\n      <th>2</th>\n      <td>2010</td>\n      <td>Alpine</td>\n      <td>Fossil Fuel</td>\n      <td>1041</td>\n    </tr>\n    <tr>\n      <th>3</th>\n      <td>2010</td>\n      <td>Amador</td>\n      <td>EV</td>\n      <td>1</td>\n    </tr>\n    <tr>\n      <th>4</th>\n      <td>2010</td>\n      <td>Amador</td>\n      <td>Fossil Fuel</td>\n      <td>30480</td>\n    </tr>\n    <tr>\n      <th>...</th>\n      <td>...</td>\n      <td>...</td>\n      <td>...</td>\n      <td>...</td>\n    </tr>\n    <tr>\n      <th>1594</th>\n      <td>2023</td>\n      <td>Ventura</td>\n      <td>Fossil Fuel</td>\n      <td>651851</td>\n    </tr>\n    <tr>\n      <th>1595</th>\n      <td>2023</td>\n      <td>Yolo</td>\n      <td>EV</td>\n      <td>6757</td>\n    </tr>\n    <tr>\n      <th>1596</th>\n      <td>2023</td>\n      <td>Yolo</td>\n      <td>Fossil Fuel</td>\n      <td>152560</td>\n    </tr>\n    <tr>\n      <th>1597</th>\n      <td>2023</td>\n      <td>Yuba</td>\n      <td>EV</td>\n      <td>961</td>\n    </tr>\n    <tr>\n      <th>1598</th>\n      <td>2023</td>\n      <td>Yuba</td>\n      <td>Fossil Fuel</td>\n      <td>57567</td>\n    </tr>\n  </tbody>\n</table>\n<p>1599 rows × 4 columns</p>\n</div>"
     },
     "execution_count": 12,
     "metadata": {},
     "output_type": "execute_result"
    }
   ],
   "source": [
    "fueltype_per_countyyear_totals_df = calcountyvehicle_df.groupby(['Data Year','County','Fuel Category'])['Number of Vehicles'].sum().reset_index()\n",
    "fueltype_per_countyyear_totals_df"
   ]
  },
  {
   "cell_type": "code",
   "outputs": [],
   "source": [
    "# to csv\n",
    "fueltype_per_countyyear_totals_df.to_csv('/Users/clarissaclark/SIADS_Milestone_1/fueltype_per_countyyear_totals_df.csv', index=False)\n"
   ],
   "metadata": {
    "collapsed": false,
    "ExecuteTime": {
     "end_time": "2024-09-30T17:33:03.502845Z",
     "start_time": "2024-09-30T17:33:03.496434Z"
    }
   },
   "id": "e86ad1a315421fad",
   "execution_count": 13
  },
  {
   "cell_type": "code",
   "execution_count": 14,
   "id": "2eda782daaae884c",
   "metadata": {
    "jupyter": {
     "is_executing": true
    },
    "ExecuteTime": {
     "end_time": "2024-09-30T17:33:03.686152Z",
     "start_time": "2024-09-30T17:33:03.503493Z"
    }
   },
   "outputs": [
    {
     "data": {
      "text/plain": "   Data Year   County Fuel Category  Number of Vehicles\n0       2010  Alameda            EV                  20\n1       2010  Alameda   Fossil Fuel              885402\n2       2010   Alpine            EV                   0\n3       2010   Alpine   Fossil Fuel                1041\n4       2010   Amador            EV                   1",
      "text/html": "<div>\n<style scoped>\n    .dataframe tbody tr th:only-of-type {\n        vertical-align: middle;\n    }\n\n    .dataframe tbody tr th {\n        vertical-align: top;\n    }\n\n    .dataframe thead th {\n        text-align: right;\n    }\n</style>\n<table border=\"1\" class=\"dataframe\">\n  <thead>\n    <tr style=\"text-align: right;\">\n      <th></th>\n      <th>Data Year</th>\n      <th>County</th>\n      <th>Fuel Category</th>\n      <th>Number of Vehicles</th>\n    </tr>\n  </thead>\n  <tbody>\n    <tr>\n      <th>0</th>\n      <td>2010</td>\n      <td>Alameda</td>\n      <td>EV</td>\n      <td>20</td>\n    </tr>\n    <tr>\n      <th>1</th>\n      <td>2010</td>\n      <td>Alameda</td>\n      <td>Fossil Fuel</td>\n      <td>885402</td>\n    </tr>\n    <tr>\n      <th>2</th>\n      <td>2010</td>\n      <td>Alpine</td>\n      <td>EV</td>\n      <td>0</td>\n    </tr>\n    <tr>\n      <th>3</th>\n      <td>2010</td>\n      <td>Alpine</td>\n      <td>Fossil Fuel</td>\n      <td>1041</td>\n    </tr>\n    <tr>\n      <th>4</th>\n      <td>2010</td>\n      <td>Amador</td>\n      <td>EV</td>\n      <td>1</td>\n    </tr>\n  </tbody>\n</table>\n</div>"
     },
     "execution_count": 14,
     "metadata": {},
     "output_type": "execute_result"
    }
   ],
   "source": [
    "for year in fueltype_per_countyyear_totals_df['Data Year'].unique():\n",
    "    for county in fueltype_per_countyyear_totals_df['County'].unique():\n",
    "        # Get the subset of the dataframe for this year and county\n",
    "        subset = fueltype_per_countyyear_totals_df[(fueltype_per_countyyear_totals_df['Data Year'] == year) & \n",
    "                                                   (fueltype_per_countyyear_totals_df['County'] == county)]\n",
    "        \n",
    "        # Check if 'EV' exists in the 'Fuel Category' for this year and county\n",
    "        if 'EV' not in subset['Fuel Category'].values:\n",
    "            # If not, create a new row with 0 vehicles for 'EV'\n",
    "            new_row_ev = pd.DataFrame({'Data Year': [year], 'County': [county], 'Fuel Category': ['EV'], 'Number of Vehicles': [0]})\n",
    "            fueltype_per_countyyear_totals_df = pd.concat([fueltype_per_countyyear_totals_df, new_row_ev], ignore_index=True)\n",
    "\n",
    "        # Check if 'Fossil Fuel' exists in the 'Fuel Category' for this year and county\n",
    "        if 'Fossil Fuel' not in subset['Fuel Category'].values:\n",
    "            # If not, create a new row with 0 vehicles for 'Fossil Fuel'\n",
    "            new_row_fossil = pd.DataFrame({'Data Year': [year], 'County': [county], 'Fuel Category': ['Fossil Fuel'], 'Number of Vehicles': [0]})\n",
    "            fueltype_per_countyyear_totals_df = pd.concat([fueltype_per_countyyear_totals_df, new_row_fossil], ignore_index=True)\n",
    "\n",
    "# Optionally, sort the dataframe by 'Data Year', 'County', and 'Fuel Category' for better readability\n",
    "fueltype_per_countyyear_totals_df = fueltype_per_countyyear_totals_df.sort_values(by=['Data Year', 'County', 'Fuel Category']).reset_index(drop=True)\n",
    "\n",
    "fueltype_per_countyyear_totals_df.head()"
   ]
  },
  {
   "cell_type": "code",
   "execution_count": 15,
   "id": "25fc2d0b6de14cf7",
   "metadata": {
    "jupyter": {
     "is_executing": true
    },
    "ExecuteTime": {
     "end_time": "2024-09-30T17:33:05.194446Z",
     "start_time": "2024-09-30T17:33:03.687257Z"
    }
   },
   "outputs": [
    {
     "data": {
      "text/plain": "<bound method NDFrame.head of       Data Year   County Fuel Category  Number of Vehicles\n0          2010  Alameda            EV                  20\n1          2010  Alameda   Fossil Fuel              885402\n2          2010   Alpine            EV                   0\n3          2010   Alpine   Fossil Fuel                1041\n4          2010   Amador            EV                   1\n...         ...      ...           ...                 ...\n1647       2023  Ventura   Fossil Fuel              651851\n1648       2023     Yolo            EV                6757\n1649       2023     Yolo   Fossil Fuel              152560\n1650       2023     Yuba            EV                 961\n1651       2023     Yuba   Fossil Fuel               57567\n\n[1652 rows x 4 columns]>"
     },
     "execution_count": 15,
     "metadata": {},
     "output_type": "execute_result"
    }
   ],
   "source": [
    "import pandas as pd\n",
    "import os\n",
    "from urllib.request import urlretrieve\n",
    "pd.options.mode.chained_assignment = None  # default='warn'\n",
    "\n",
    "def categorize_fuel(fuel_type):\n",
    "    \"\"\"\n",
    "    Categorize fuel types into 'Fossil Fuel', 'EV', or 'Other'.\n",
    "    \n",
    "    Args:\n",
    "        fuel_type (str): The fuel type to categorize.\n",
    "    \n",
    "    Returns:\n",
    "        str: The category of the fuel type.\n",
    "    \"\"\"\n",
    "    fossil_fuels = ['Diesel', 'Flex Fuel', 'Gasoline', 'Gasoline Hybrid', 'Natural Gas', 'Propane']\n",
    "    evs = ['Battery Electric (BEV)', 'Fuel Cell (FCEV)', 'Plug-in Hybrid (PHEV)']\n",
    "    \n",
    "    if fuel_type in fossil_fuels:\n",
    "        return 'Fossil Fuel'\n",
    "    elif fuel_type in evs:\n",
    "        return 'EV'\n",
    "    else:\n",
    "        return 'Other'\n",
    "def download_file(url, local_filename):\n",
    "    \"\"\"\n",
    "    Download a file from a URL to a local filename.\n",
    "    \n",
    "    Args:\n",
    "        url (str): The URL of the file to download.\n",
    "        local_filename (str): The local file path to save the downloaded file.\n",
    "    \"\"\"\n",
    "    try:\n",
    "        urlretrieve(url, local_filename)\n",
    "        print(f\"File downloaded successfully and saved as {local_filename}.\")\n",
    "    except Exception as e:\n",
    "        raise Exception(f\"An error occurred while downloading the file: {e}\")\n",
    "    \n",
    "def fueltype_per_countyyear_totals_df(excel_file):\n",
    "    \"\"\"\n",
    "    Generate a DataFrame summarizing the number of vehicles by year, county, and fuel category.\n",
    "    \n",
    "    Args:\n",
    "        excel_file (str): Path to the Excel file containing vehicle data.\n",
    "    \n",
    "    Returns:\n",
    "        pd.DataFrame: A DataFrame with totals of vehicles by year, county, and fuel category.\n",
    "    \n",
    "    Raises:\n",
    "        FileNotFoundError: If the specified Excel file is not found.\n",
    "        ValueError: If the sheet 'County' is not found in the Excel file or if there are issues with the data format.\n",
    "        \"\"\"\n",
    "    excel_file = os.path.join(os.getcwd(), excel_file)\n",
    "\n",
    "    if not os.path.exists(excel_file):\n",
    "        print(f\"File {excel_file} not found locally. Attempting to download...\")\n",
    "        URL = 'https://www.energy.ca.gov/filebrowser/download/6311?fid=6311#block-symsoft-page-title'\n",
    "        download_file(URL, excel_file)\n",
    "    \n",
    "    # Pull County Sheet from excel file ##\n",
    "    try:\n",
    "        # Read the Excel file\n",
    "        countyvehicle_df = pd.read_excel(excel_file, sheet_name=\"County\")\n",
    "    except FileNotFoundError:\n",
    "        raise FileNotFoundError(f\"The file {excel_file} was not found.\")\n",
    "    except ValueError as e:\n",
    "        raise ValueError(\"An error occurred while reading the Excel file. Ensure the file contains a sheet named 'County'.\") from e\n",
    "    except Exception as e:\n",
    "        raise Exception(\"An unexpected error occurred while reading the Excel file.\") from e\n",
    "    \n",
    "    ## Drop Irrelevent Columns ##\n",
    "    try:\n",
    "        countyvehicle_df = countyvehicle_df.drop(columns=['Make', 'Model'])\n",
    "    except KeyError as e:\n",
    "        raise KeyError(\"The specified columns to drop do not exist in the DataFrame.\") from e\n",
    "    \n",
    "    \n",
    "    ## Remove unwanted County Information ##\n",
    "    cal_countyvehicle_df = countyvehicle_df[~countyvehicle_df['County'].isin(['Out of State'])]\n",
    "    \n",
    "    ## Simply fuel types and categories ##\n",
    "    cal_countyvehicle_df.loc[:, 'Fuel Category'] = cal_countyvehicle_df['Fuel Type'].apply(categorize_fuel)\n",
    "    \n",
    "    ## Create final data frame based on year, county, fuel category, and number of vehicles ##\n",
    "    cartype_df = cal_countyvehicle_df.groupby(['Data Year', 'County', 'Fuel Category'])['Number of Vehicles'].sum().reset_index()  \n",
    "    for year in cartype_df['Data Year'].unique():\n",
    "        for county in cartype_df['County'].unique():\n",
    "            # Get the subset of the dataframe for this year and county\n",
    "            subset = cartype_df[(cartype_df['Data Year'] == year) & \n",
    "                                                       (cartype_df['County'] == county)]\n",
    "\n",
    "            # Check if 'EV' exists in the 'Fuel Category' for this year and county\n",
    "            if 'EV' not in subset['Fuel Category'].values:\n",
    "                # If not, create a new row with 0 vehicles for 'EV'\n",
    "                new_row_ev = pd.DataFrame({'Data Year': [year], 'County': [county], 'Fuel Category': ['EV'], 'Number of Vehicles': [0]})\n",
    "                cartype_df = pd.concat([cartype_df, new_row_ev], ignore_index=True)\n",
    "\n",
    "            # Check if 'Fossil Fuel' exists in the 'Fuel Category' for this year and county\n",
    "            if 'Fossil Fuel' not in subset['Fuel Category'].values:\n",
    "                # If not, create a new row with 0 vehicles for 'Fossil Fuel'\n",
    "                new_row_fossil = pd.DataFrame({'Data Year': [year], 'County': [county], 'Fuel Category': ['Fossil Fuel'], 'Number of Vehicles': [0]})\n",
    "                cartype_df = pd.concat([cartype_df, new_row_fossil], ignore_index=True)\n",
    "\n",
    "    # Optionally, sort the dataframe by 'Data Year', 'County', and 'Fuel Category' for better readability\n",
    "    cartype_df = cartype_df.sort_values(by=['Data Year', 'County', 'Fuel Category']).reset_index(drop=True)\n",
    "    output_path = 'fueltype_per_countyyear_totals.csv'\n",
    "    cartype_df.to_csv(output_path, index=False)\n",
    "    return cartype_df\n",
    "\n",
    "fueltype_per_countyyear_df =  fueltype_per_countyyear_totals_df('vehicle_data/california_vehicle.xlsx') \n",
    "fueltype_per_countyyear_df.head"
   ]
  },
  {
   "cell_type": "code",
   "outputs": [],
   "source": [
    "# # Now that our Primary Dataset is cleaned and maniputed, let's export it to a csv so that other people can use it \n",
    "# fueltype_per_countyyear_df.to_csv('./SIADS_Milestone_1/vehicle_df', index = False)"
   ],
   "metadata": {
    "collapsed": false,
    "ExecuteTime": {
     "end_time": "2024-09-30T17:33:05.197096Z",
     "start_time": "2024-09-30T17:33:05.195153Z"
    }
   },
   "id": "1c02d949e00651bb",
   "execution_count": 16
  },
  {
   "cell_type": "code",
   "execution_count": 18,
   "id": "f876885fefb037ae",
   "metadata": {
    "jupyter": {
     "is_executing": true
    },
    "ExecuteTime": {
     "end_time": "2024-09-30T17:33:21.308429Z",
     "start_time": "2024-09-30T17:33:21.300363Z"
    }
   },
   "outputs": [],
   "source": [
    "# for year in cartype_df['Data Year'].unique():\n",
    "#     for county in cartype_df['County'].unique():\n",
    "#         # Get the subset of the dataframe for this year and county\n",
    "#         subset = cartype_df[(cartype_df['Data Year'] == year) & \n",
    "#                                                    (cartype_df['County'] == county)]\n",
    "#         \n",
    "#         # Check if 'EV' exists in the 'Fuel Category' for this year and county\n",
    "#         if 'EV' not in subset['Fuel Category'].values:\n",
    "#             # If not, create a new row with 0 vehicles for 'EV'\n",
    "#             new_row_ev = pd.DataFrame({'Data Year': [year], 'County': [county], 'Fuel Category': ['EV'], 'Number of Vehicles': [0]})\n",
    "#             cartype_df = pd.concat([cartype_df, new_row_ev], ignore_index=True)\n",
    "# \n",
    "#         # Check if 'Fossil Fuel' exists in the 'Fuel Category' for this year and county\n",
    "#         if 'Fossil Fuel' not in subset['Fuel Category'].values:\n",
    "#             # If not, create a new row with 0 vehicles for 'Fossil Fuel'\n",
    "#             new_row_fossil = pd.DataFrame({'Data Year': [year], 'County': [county], 'Fuel Category': ['Fossil Fuel'], 'Number of Vehicles': [0]})\n",
    "#             cartype_df = pd.concat([cartype_df, new_row_fossil], ignore_index=True)\n",
    "# \n",
    "# # Optionally, sort the dataframe by 'Data Year', 'County', and 'Fuel Category' for better readability\n",
    "# cartype_df = cartype_df.sort_values(by=['Data Year', 'County', 'Fuel Category']).reset_index(drop=True)\n",
    "# \n",
    "# cartype_df.head()"
   ]
  },
  {
   "cell_type": "code",
   "execution_count": 19,
   "id": "11dfeaf503d5f48",
   "metadata": {
    "jupyter": {
     "is_executing": true
    },
    "ExecuteTime": {
     "end_time": "2024-09-30T17:33:22.739695Z",
     "start_time": "2024-09-30T17:33:22.710085Z"
    }
   },
   "outputs": [
    {
     "ename": "NameError",
     "evalue": "name 'fueltype_per_county_totals' is not defined",
     "output_type": "error",
     "traceback": [
      "\u001B[0;31m---------------------------------------------------------------------------\u001B[0m",
      "\u001B[0;31mNameError\u001B[0m                                 Traceback (most recent call last)",
      "Cell \u001B[0;32mIn[19], line 2\u001B[0m\n\u001B[1;32m      1\u001B[0m \u001B[38;5;66;03m## There are two variants of Out of State and \u001B[39;00m\n\u001B[0;32m----> 2\u001B[0m filtered_df \u001B[38;5;241m=\u001B[39m \u001B[43mfueltype_per_county_totals\u001B[49m[\u001B[38;5;241m~\u001B[39mfueltype_per_county_totals[\u001B[38;5;124m'\u001B[39m\u001B[38;5;124mCounty\u001B[39m\u001B[38;5;124m'\u001B[39m]\u001B[38;5;241m.\u001B[39misin([\u001B[38;5;124m'\u001B[39m\u001B[38;5;124mOut of State\u001B[39m\u001B[38;5;124m'\u001B[39m,\u001B[38;5;124m'\u001B[39m\u001B[38;5;124mOut Of State\u001B[39m\u001B[38;5;124m'\u001B[39m])]\n\u001B[1;32m      3\u001B[0m filtered_df\n",
      "\u001B[0;31mNameError\u001B[0m: name 'fueltype_per_county_totals' is not defined"
     ]
    }
   ],
   "source": [
    "## There are two variants of Out of State and \n",
    "filtered_df = fueltype_per_county_totals[~fueltype_per_county_totals['County'].isin(['Out of State','Out Of State'])]\n",
    "filtered_df"
   ]
  },
  {
   "cell_type": "code",
   "execution_count": 20,
   "id": "bcc7e4e30c3eeab4",
   "metadata": {
    "jupyter": {
     "is_executing": true
    },
    "ExecuteTime": {
     "end_time": "2024-09-30T17:33:23.285564Z",
     "start_time": "2024-09-30T17:33:23.279280Z"
    }
   },
   "outputs": [
    {
     "name": "stdout",
     "output_type": "stream",
     "text": [
      "The total number of vehicles in 2023 for 'Other' fuel type is: 8220\n"
     ]
    }
   ],
   "source": [
    "\n",
    "filtered_df = calcountyvehicle_df[(calcountyvehicle_df['Data Year'] == 2023) & \n",
    "                                  (calcountyvehicle_df['Dashboard Fuel Type Group'] == 'Other')]\n",
    "\n",
    "# Calculate the sum of the 'Number of Vehicles' for the filtered data\n",
    "total_vehicles_2023_other = filtered_df['Number of Vehicles'].sum()\n",
    "\n",
    "# Print the result\n",
    "print(f\"The total number of vehicles in 2023 for 'Other' fuel type is: {total_vehicles_2023_other}\")"
   ]
  },
  {
   "cell_type": "code",
   "execution_count": 21,
   "id": "9bfabc8ccb2ddd2c",
   "metadata": {
    "jupyter": {
     "is_executing": true
    },
    "ExecuteTime": {
     "end_time": "2024-09-30T17:33:24.312413Z",
     "start_time": "2024-09-30T17:33:24.308907Z"
    }
   },
   "outputs": [
    {
     "name": "stdout",
     "output_type": "stream",
     "text": [
      "['Flex Fuel', 'Natural Gas', 'Propane']\n"
     ]
    }
   ],
   "source": [
    "## We are going to assume that \n",
    "excluded_types = [fuel_type for fuel_type in fuel_types_2 \n",
    "                  if fuel_type not in fuel_types_1]\n",
    "print(excluded_types)"
   ]
  },
  {
   "cell_type": "code",
   "execution_count": null,
   "id": "8050e4eca7c936b2",
   "metadata": {
    "jupyter": {
     "is_executing": true
    }
   },
   "outputs": [],
   "source": [
    "\n",
    "    \n",
    "## \n",
    "#county_df['County'].unique()"
   ]
  },
  {
   "cell_type": "code",
   "execution_count": null,
   "id": "fe78835fceb65125",
   "metadata": {
    "jupyter": {
     "is_executing": true
    }
   },
   "outputs": [],
   "source": [
    "# Get unique fuel types from both columns\n",
    "fuel_types_1 = county_df['Fuel Type'].unique()\n",
    "fuel_types_2 = calcountyvehicle_df['Dashboard Fuel Type Group'].unique()\n",
    "\n",
    "# Create a DataFrame to display the values side by side\n",
    "fuel_types_df = pd.DataFrame({\n",
    "    'Fuel Type': pd.Series(fuel_types_1),\n",
    "    'Dashboard Fuel Type Group': pd.Series(fuel_types_2)\n",
    "})\n",
    "\n",
    "# Display the DataFrame\n",
    "fuel_types_df"
   ]
  },
  {
   "cell_type": "code",
   "execution_count": null,
   "id": "5f8218e83b4ba155",
   "metadata": {
    "jupyter": {
     "is_executing": true
    }
   },
   "outputs": [],
   "source": [
    "cali_county_df = county_df[~county_df['County'].isin(['Out of State','Out Of State'])]\n",
    "cali_county_df['County'].unique()"
   ]
  },
  {
   "cell_type": "code",
   "execution_count": null,
   "id": "6bcbeb7d4d3d5ecd",
   "metadata": {
    "jupyter": {
     "is_executing": true
    }
   },
   "outputs": [],
   "source": [
    "fuel_types = cali_county_df['Fuel Type'].unique()"
   ]
  },
  {
   "cell_type": "code",
   "execution_count": null,
   "id": "624962c5d7c6c2d3",
   "metadata": {
    "jupyter": {
     "is_executing": true
    }
   },
   "outputs": [],
   "source": [
    "statewide_vehicle_totals = county_df.groupby(['Fuel Type', 'Data Year'])['Number of Vehicles'].sum().reset_index()\n",
    "statewide_vehicle_totals['Fuel Type'].unique()"
   ]
  },
  {
   "cell_type": "code",
   "execution_count": null,
   "id": "a6504c729d0cf730",
   "metadata": {
    "jupyter": {
     "is_executing": true
    }
   },
   "outputs": [],
   "source": [
    "total_vehicles_by_year = county_df.groupby('Data Year')['Number of Vehicles'].sum().reset_index()\n"
   ]
  },
  {
   "cell_type": "code",
   "execution_count": null,
   "id": "f3a3e64c36f40367",
   "metadata": {},
   "outputs": [],
   "source": [
    "import matplotlib.pyplot as plt\n",
    "\n",
    "plt.figure(figsize=(12, 6))\n",
    "\n",
    "for fuel_type in fuel_types:\n",
    "    fuel_data = statewide_vehicle_totals[statewide_vehicle_totals['Fuel Type'] == fuel_type]\n",
    "    plt.plot(fuel_data['Data Year'], fuel_data['Number of Vehicles']/1000000, label=fuel_type)\n",
    "\n",
    "plt.plot(total_vehicles_by_year['Data Year'], total_vehicles_by_year['Number of Vehicles']/1000000, \n",
    "         label='Total Vehicles', color='black', linestyle='--', linewidth=2)\n",
    "\n",
    "bev_data = statewide_vehicle_totals[statewide_vehicle_totals['Fuel Type'] == 'Battery Electric (BEV)']\n",
    "gasoline_data = statewide_vehicle_totals[statewide_vehicle_totals['Fuel Type'] == 'Gasoline']\n",
    "\n",
    "merged_data = pd.merge(bev_data[['Data Year', 'Number of Vehicles']], gasoline_data[['Data Year', 'Number of Vehicles']],\n",
    "                       on='Data Year', suffixes=('_BEV', '_Gasoline'))\n",
    "\n",
    "merged_data = pd.merge(merged_data, total_vehicles_by_year[['Data Year', 'Number of Vehicles']], \n",
    "                       on='Data Year')\n",
    "#(merged_data.head())\n",
    "\n",
    "merged_data['BEV (%)'] = (merged_data['Number of Vehicles_BEV'] / merged_data['Number of Vehicles']) * 100\n",
    "merged_data['Gasoline (%)'] = (merged_data['Number of Vehicles_Gasoline'] / merged_data['Number of Vehicles']) * 100\n",
    "\n",
    "#column_labels = ['Year', 'BEV (%)', 'Gasoline (%)']\n",
    "plt.legend(title='Fuel Type')\n",
    "#plt.table(cellText=table_data, colLabels=column_labels, loc='right', cellLoc='center', bbox=[0.0, -0.5, 1, 0.3])\n",
    "ax1 = plt.gca()  # Get current axes instance for the main plot\n",
    "ax2 = ax1.twinx()  # Create a second axes sharing the same x-axis\n",
    "\n",
    "\n",
    "ax2.plot(merged_data['Data Year'], merged_data['Gasoline (%)'], color='red', linestyle='--', label='Gasoline (%)')\n",
    "ax2.set_ylabel('Gasoline Vehicles (%)', color='red')\n",
    "ax2.tick_params(axis='y', labelcolor='red')\n",
    "ax2.set_ylim(0, 100)\n",
    "ax2.set_ylabel('Percentage Total Cars')\n",
    "\n",
    "plt.title('Total Vehicles by Fuel Type and Year')\n",
    "plt.xlabel('Year')\n",
    "ax1.set_ylabel('Number of Vehicles (millions)')\n",
    "plt.legend()\n",
    "\n",
    "\n",
    "plt.grid(True)\n",
    "plt.show()\n"
   ]
  },
  {
   "cell_type": "code",
   "execution_count": null,
   "id": "fd7caab832c73d7a",
   "metadata": {},
   "outputs": [],
   "source": [
    "merged_data[['Data Year','BEV (%)','Gasoline (%)']].head(14)"
   ]
  },
  {
   "cell_type": "code",
   "execution_count": null,
   "id": "5594d935a7c5c1b5",
   "metadata": {},
   "outputs": [],
   "source": [
    "#table_to_be_merged=\n",
    "## We want to take the data for vehicles by year and include only BEV vehicles for each county ##\n",
    "def bevpercentagevisual(year):\n",
    "\n",
    "    bev_data_year = reduced_cali_county_df[(reduced_cali_county_df['Fuel Type'] == 'Battery Electric (BEV)') & \n",
    "                                           (reduced_cali_county_df['Data Year'] == year)]\n",
    "    \n",
    "    \n",
    "    # Total vehicles for 2010 and 2023\n",
    "    total_vehicles_year = reduced_cali_county_df[reduced_cali_county_df['Data Year'] == year].groupby('County')['Number of Vehicles'].sum().reset_index()\n",
    "    \n",
    "    # Merge BEV data with total vehicles for each year\n",
    "    merged_year = pd.merge(bev_data_year.groupby('County')['Number of Vehicles'].sum().reset_index(), total_vehicles_year, on='County', suffixes=('_BEV', '_Total'))\n",
    "    \n",
    "    \n",
    "    # Calculate BEV percentage for 2010 and 2023\n",
    "    merged_year['BEV (%)'] = (merged_year['Number of Vehicles_BEV'] / merged_year['Number of Vehicles_Total']) * 100\n",
    "    \n",
    "    # Step 3: Plot the data side by side\n",
    "    fig, axes = plt.subplots(nrows=1, ncols=1, figsize=(18, 10), sharey=True)\n",
    "    \n",
    "    # Plot 2010 data\n",
    "    axes.barh(merged_year['County'], merged_year['BEV (%)'], color='blue')\n",
    "    axes.set_xlabel('Percentage of BEVs (%)')\n",
    "    axes.set_ylabel('County')\n",
    "    axes.set_title('Percentage of BEVs by County (2010)')\n",
    "    \n",
    "    \n",
    "    \n",
    "    # Display the plots\n",
    "    plt.tight_layout()\n",
    "    plt.show()\n",
    "bevpercentagevisual(2013)\n"
   ]
  },
  {
   "cell_type": "code",
   "execution_count": null,
   "id": "fcb81bcfdb552886",
   "metadata": {},
   "outputs": [],
   "source": [
    "import plotly.graph_objects as go"
   ]
  },
  {
   "cell_type": "code",
   "execution_count": null,
   "id": "e028398424ba0446",
   "metadata": {},
   "outputs": [],
   "source": [
    "# Filter data for 2010, 2018, and 2023\n",
    "years = [2010, 2018,2020, 2023]\n",
    "filtered_data = reduced_cali_county_df[reduced_cali_county_df['Data Year'].isin(years)]\n",
    "\n",
    "\n",
    "total_vehicles = filtered_data.groupby(['Data Year', 'County'])['Number of Vehicles'].sum().reset_index()\n",
    "\n",
    "bev_data = filtered_data[filtered_data['Fuel Type'] == 'Battery Electric (BEV)']\n",
    "bev_vehicles = bev_data.groupby(['Data Year', 'County'])['Number of Vehicles'].sum().reset_index()\n",
    "\n",
    "merged_data = pd.merge(bev_vehicles, total_vehicles, on=['Data Year', 'County'], suffixes=('_BEV', '_Total'))\n",
    "\n",
    "merged_data['BEV (%)'] = (merged_data['Number of Vehicles_BEV'] / merged_data['Number of Vehicles_Total']) * 100\n",
    "\n",
    "\n",
    "pivot_data = merged_data.pivot(index='County', columns='Data Year', values='BEV (%)').fillna(0)\n",
    "\n",
    "\n",
    "plt.figure(figsize=(12, 8))\n",
    "\n",
    "\n",
    "for year, color in zip(years, ['blue', 'orange', 'green','red']):\n",
    "    plt.barh(pivot_data.index, pivot_data[year], color=color, alpha=0.5, label=f'{year}')\n",
    "\n",
    "\n",
    "plt.xlabel('Percentage of BEVs (%)')\n",
    "plt.ylabel('County')\n",
    "plt.title('Percentage of Battery Electric Vehicles (BEVs) by County for 2010, 2018, and 2023')\n",
    "plt.legend(title='Year')\n",
    "\n",
    "\n",
    "plt.tight_layout()\n",
    "plt.show()"
   ]
  },
  {
   "cell_type": "code",
   "execution_count": null,
   "id": "d7ce82a51ef0c06",
   "metadata": {},
   "outputs": [],
   "source": []
  }
 ],
 "metadata": {
  "kernelspec": {
   "display_name": "Python 3 (ipykernel)",
   "language": "python",
   "name": "python3"
  },
  "language_info": {
   "codemirror_mode": {
    "name": "ipython",
    "version": 3
   },
   "file_extension": ".py",
   "mimetype": "text/x-python",
   "name": "python",
   "nbconvert_exporter": "python",
   "pygments_lexer": "ipython3",
   "version": "3.10.14"
  }
 },
 "nbformat": 4,
 "nbformat_minor": 5
}
