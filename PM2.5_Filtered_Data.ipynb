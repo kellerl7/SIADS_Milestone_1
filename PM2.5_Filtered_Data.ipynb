{
 "cells": [
  {
   "cell_type": "code",
   "execution_count": 1,
   "id": "initial_id",
   "metadata": {
    "collapsed": true,
    "ExecuteTime": {
     "end_time": "2024-09-20T15:03:48.174568Z",
     "start_time": "2024-09-20T15:03:47.565307Z"
    }
   },
   "outputs": [],
   "source": [
    "#import \n",
    "import pandas as pd"
   ]
  },
  {
   "cell_type": "code",
   "outputs": [],
   "source": [
    "#establishing filenames \n",
    "csv_2010 = '/Users/clarissaclark/SIADS_Milestone_1/pm_data/ad_viz_plotval_data_2010.csv.crdownload.csv'\n",
    "csv_2011 = '/Users/clarissaclark/SIADS_Milestone_1/pm_data/ad_viz_plotval_data_2011.csv.crdownload.csv'\n",
    "csv_2012 = '/Users/clarissaclark/SIADS_Milestone_1/pm_data/ad_viz_plotval_data_2012.csv'\n",
    "csv_2013 = '/Users/clarissaclark/SIADS_Milestone_1/pm_data/ad_viz_plotval_data_2013.csv'\n",
    "csv_2014 = '/Users/clarissaclark/SIADS_Milestone_1/pm_data/ad_viz_plotval_data_2014.csv'\n",
    "csv_2015 = '/Users/clarissaclark/SIADS_Milestone_1/pm_data/ad_viz_plotval_data_2015.csv'\n",
    "csv_2016 = '/Users/clarissaclark/SIADS_Milestone_1/pm_data/ad_vis_plotval_data_2016.csv'\n",
    "csv_2017 = '/Users/clarissaclark/SIADS_Milestone_1/pm_data/ad_viz_plotval_data_2017.csv'\n",
    "csv_2018 = '/Users/clarissaclark/SIADS_Milestone_1/pm_data/ad_viz_plotval_data2018.csv'\n",
    "csv_2019 = '/Users/clarissaclark/SIADS_Milestone_1/pm_data/ad_viz_plotval_data2019.csv'\n",
    "csv_2020 = '/Users/clarissaclark/SIADS_Milestone_1/pm_data/ad_viz_plotval_data2020.csv'\n",
    "csv_2021 = '/Users/clarissaclark/SIADS_Milestone_1/pm_data/ad_viz_plotval_data2020.csv'\n",
    "csv_2022 = '/Users/clarissaclark/SIADS_Milestone_1/pm_data/ad_viz_plotval_data2022.csv'\n",
    "csv_2023 = '/Users/clarissaclark/SIADS_Milestone_1/pm_data/ad_viz_plotval_data2023.csv'\n",
    "csv_2024 = '/Users/clarissaclark/SIADS_Milestone_1/pm_data/ad_viz_plotval_data2024.csv'"
   ],
   "metadata": {
    "collapsed": false,
    "ExecuteTime": {
     "end_time": "2024-09-20T15:03:48.177703Z",
     "start_time": "2024-09-20T15:03:48.175563Z"
    }
   },
   "id": "29f0a762ec784169",
   "execution_count": 2
  },
  {
   "cell_type": "code",
   "outputs": [],
   "source": [
    "def avg_pm_value(filename): \n",
    "    # loading data\n",
    "    df = pd.read_csv(filename)\n",
    "    df = df[['Date', 'Daily Mean PM2.5 Concentration','Units', 'Site ID', 'County']]\n",
    "    # changing date column to datetime \n",
    "    df['Date'] = pd.to_datetime(df['Date'])\n",
    "    # adding year column \n",
    "    df['Year'] = df['Date'].dt.year\n",
    "    # determining unique sites per county \n",
    "    unique_sites_per_county = df.groupby('County')['Site ID'].nunique().reset_index()\n",
    "    unique_sites_per_county.rename(columns={'Site ID': 'Number of Site IDs/County'}, inplace=True) \n",
    "    # average pm2.5 values per county \n",
    "    avg_pm_value =df.groupby(['County', 'Year'])['Daily Mean PM2.5 Concentration'].mean().reset_index()\n",
    "    avg_pm_value.rename(columns={'Daily Mean PM2.5 Concentration': 'Average PM 2.5/County'}, inplace=True)\n",
    "    # merging tables \n",
    "    avg_df = unique_sites_per_county.merge(avg_pm_value, on='County')\n",
    "    avg_df = avg_df.pivot_table(index ='County', values = ['Year','Average PM 2.5/County', 'Number of Site IDs/County'])\n",
    "    return avg_df"
   ],
   "metadata": {
    "collapsed": false,
    "ExecuteTime": {
     "end_time": "2024-09-20T15:03:48.181019Z",
     "start_time": "2024-09-20T15:03:48.178365Z"
    }
   },
   "id": "c4aed75f3e8fb9c4",
   "execution_count": 3
  },
  {
   "cell_type": "code",
   "outputs": [],
   "source": [
    "# getting dfs for all years\n",
    "df_2010 = avg_pm_value(csv_2010)\n",
    "# dropping 'Alpine' (labels = 'Alpine', axis = 'index')\n",
    "df_2011 = avg_pm_value(csv_2011)\n",
    "df_2012 = avg_pm_value(csv_2012)\n",
    "df_2013 = avg_pm_value(csv_2013)\n",
    "df_2014 = avg_pm_value(csv_2014)\n",
    "df_2015 = avg_pm_value(csv_2015)\n",
    "df_2016 = avg_pm_value(csv_2016)\n",
    "# back to our regular scheduled programming  \n",
    "df_2017 = avg_pm_value(csv_2017)\n",
    "df_2018 = avg_pm_value(csv_2018)\n",
    "df_2019 = avg_pm_value(csv_2019)\n",
    "df_2020 = avg_pm_value(csv_2020)\n",
    "df_2021 = avg_pm_value(csv_2021)\n",
    "df_2022 = avg_pm_value(csv_2022)\n",
    "df_2023 = avg_pm_value(csv_2023)\n",
    "df_2024 = avg_pm_value(csv_2024)"
   ],
   "metadata": {
    "collapsed": false,
    "ExecuteTime": {
     "end_time": "2024-09-20T15:03:50.016643Z",
     "start_time": "2024-09-20T15:03:48.182317Z"
    }
   },
   "id": "d432e0f5b3e40c0f",
   "execution_count": 4
  },
  {
   "cell_type": "code",
   "outputs": [],
   "source": [
    "# start merging \n",
    "merged_df1 = pd.merge(df_2010, df_2011, on=['County'], how='outer')\n",
    "merged_df2 = pd.merge(df_2012, df_2013, on=['County'], how='outer')\n",
    "merged_df3 = pd.merge(df_2014, df_2015, on=['County'], how='outer')\n",
    "merged_df4 = pd.merge(df_2016, df_2017, on=['County'], how='outer')\n",
    "merged_df5 = pd.merge(df_2018, df_2019, on=['County'], how='outer')\n",
    "merged_df6 = pd.merge(df_2020, df_2021, on=['County'], how='outer')\n",
    "merged_df7 = pd.merge(df_2021, df_2022, on=['County'], how='outer')\n",
    "merged_df8 = pd.merge(df_2023, df_2024, on=['County'], how='outer')"
   ],
   "metadata": {
    "collapsed": false,
    "ExecuteTime": {
     "end_time": "2024-09-20T15:18:47.519281Z",
     "start_time": "2024-09-20T15:18:47.496528Z"
    }
   },
   "id": "bf07e986e3fa369f",
   "execution_count": 11
  },
  {
   "cell_type": "code",
   "outputs": [
    {
     "data": {
      "text/plain": "         Average PM 2.5/County  Number of Site IDs/County  Year_x  \\\nCounty                                                              \nAlameda               8.165623                        5.0  2010.0   \nAlameda               8.165623                        5.0  2010.0   \nAlameda                    NaN                        NaN  2011.0   \nAlameda                    NaN                        NaN  2011.0   \nAlpine                     NaN                        NaN  2011.0   \n...                        ...                        ...     ...   \nVentura                    NaN                        NaN  2011.0   \nYolo                  7.554938                        2.0  2010.0   \nYolo                  7.554938                        2.0  2010.0   \nYolo                       NaN                        NaN  2011.0   \nYolo                       NaN                        NaN  2011.0   \n\n         Average PM 2.5/County_y_x_x_x  Number of Site IDs/County_y_x_x_x  \\\nCounty                                                                      \nAlameda                            NaN                                NaN   \nAlameda                            NaN                                NaN   \nAlameda                       9.461791                                3.0   \nAlameda                       9.461791                                3.0   \nAlpine                       11.114286                                1.0   \n...                                ...                                ...   \nVentura                       8.696451                                4.0   \nYolo                               NaN                                NaN   \nYolo                               NaN                                NaN   \nYolo                         11.857073                                2.0   \nYolo                         11.857073                                2.0   \n\n         Average PM 2.5/County_x_y_x_x  Number of Site IDs/County_x_y_x_x  \\\nCounty                                                                      \nAlameda                       7.708418                                3.0   \nAlameda                            NaN                                NaN   \nAlameda                       7.708418                                3.0   \nAlameda                            NaN                                NaN   \nAlpine                       10.645833                                1.0   \n...                                ...                                ...   \nVentura                            NaN                                NaN   \nYolo                          8.603589                                2.0   \nYolo                               NaN                                NaN   \nYolo                          8.603589                                2.0   \nYolo                               NaN                                NaN   \n\n         Year_y  Average PM 2.5/County_y_y_x_x  \\\nCounty                                           \nAlameda  2012.0                            NaN   \nAlameda  2013.0                      10.422489   \nAlameda  2012.0                            NaN   \nAlameda  2013.0                      10.422489   \nAlpine   2012.0                            NaN   \n...         ...                            ...   \nVentura  2013.0                       8.662446   \nYolo     2012.0                            NaN   \nYolo     2013.0                       6.981297   \nYolo     2012.0                            NaN   \nYolo     2013.0                       6.981297   \n\n         Number of Site IDs/County_y_y_x_x  ...  Year_x_x_y  \\\nCounty                                      ...               \nAlameda                                NaN  ...      2020.0   \nAlameda                                3.0  ...      2020.0   \nAlameda                                NaN  ...      2020.0   \nAlameda                                3.0  ...      2020.0   \nAlpine                                 NaN  ...         NaN   \n...                                    ...  ...         ...   \nVentura                                5.0  ...      2020.0   \nYolo                                   NaN  ...      2020.0   \nYolo                                   2.0  ...      2020.0   \nYolo                                   NaN  ...      2020.0   \nYolo                                   2.0  ...      2020.0   \n\n         Average PM 2.5/County_y_x_y_y  Number of Site IDs/County_y_x_y_y  \\\nCounty                                                                      \nAlameda                       8.198048                                5.0   \nAlameda                       8.198048                                5.0   \nAlameda                       8.198048                                5.0   \nAlameda                       8.198048                                5.0   \nAlpine                             NaN                                NaN   \n...                                ...                                ...   \nVentura                       6.845493                                5.0   \nYolo                          5.437008                                2.0   \nYolo                          5.437008                                2.0   \nYolo                          5.437008                                2.0   \nYolo                          5.437008                                2.0   \n\n         Year_y_x_y  Average PM 2.5/County_x_y_y_y  \\\nCounty                                               \nAlameda      2022.0                       7.006504   \nAlameda      2022.0                       7.006504   \nAlameda      2022.0                       7.006504   \nAlameda      2022.0                       7.006504   \nAlpine          NaN                            NaN   \n...             ...                            ...   \nVentura      2022.0                       5.870643   \nYolo         2022.0                       7.216270   \nYolo         2022.0                       7.216270   \nYolo         2022.0                       7.216270   \nYolo         2022.0                       7.216270   \n\n         Number of Site IDs/County_x_y_y_y  Year_x_y_y  \\\nCounty                                                   \nAlameda                                6.0      2023.0   \nAlameda                                6.0      2023.0   \nAlameda                                6.0      2023.0   \nAlameda                                6.0      2023.0   \nAlpine                                 NaN         NaN   \n...                                    ...         ...   \nVentura                                5.0      2023.0   \nYolo                                   2.0      2023.0   \nYolo                                   2.0      2023.0   \nYolo                                   2.0      2023.0   \nYolo                                   2.0      2023.0   \n\n         Average PM 2.5/County_y_y_y_y  Number of Site IDs/County_y_y_y_y  \\\nCounty                                                                      \nAlameda                       6.588507                                7.0   \nAlameda                       6.588507                                7.0   \nAlameda                       6.588507                                7.0   \nAlameda                       6.588507                                7.0   \nAlpine                             NaN                                NaN   \n...                                ...                                ...   \nVentura                       6.063194                                5.0   \nYolo                          5.253195                                2.0   \nYolo                          5.253195                                2.0   \nYolo                          5.253195                                2.0   \nYolo                          5.253195                                2.0   \n\n         Year_y_y_y  \nCounty               \nAlameda      2024.0  \nAlameda      2024.0  \nAlameda      2024.0  \nAlameda      2024.0  \nAlpine          NaN  \n...             ...  \nVentura      2024.0  \nYolo         2024.0  \nYolo         2024.0  \nYolo         2024.0  \nYolo         2024.0  \n\n[206 rows x 46 columns]",
      "text/html": "<div>\n<style scoped>\n    .dataframe tbody tr th:only-of-type {\n        vertical-align: middle;\n    }\n\n    .dataframe tbody tr th {\n        vertical-align: top;\n    }\n\n    .dataframe thead th {\n        text-align: right;\n    }\n</style>\n<table border=\"1\" class=\"dataframe\">\n  <thead>\n    <tr style=\"text-align: right;\">\n      <th></th>\n      <th>Average PM 2.5/County</th>\n      <th>Number of Site IDs/County</th>\n      <th>Year_x</th>\n      <th>Average PM 2.5/County_y_x_x_x</th>\n      <th>Number of Site IDs/County_y_x_x_x</th>\n      <th>Average PM 2.5/County_x_y_x_x</th>\n      <th>Number of Site IDs/County_x_y_x_x</th>\n      <th>Year_y</th>\n      <th>Average PM 2.5/County_y_y_x_x</th>\n      <th>Number of Site IDs/County_y_y_x_x</th>\n      <th>...</th>\n      <th>Year_x_x_y</th>\n      <th>Average PM 2.5/County_y_x_y_y</th>\n      <th>Number of Site IDs/County_y_x_y_y</th>\n      <th>Year_y_x_y</th>\n      <th>Average PM 2.5/County_x_y_y_y</th>\n      <th>Number of Site IDs/County_x_y_y_y</th>\n      <th>Year_x_y_y</th>\n      <th>Average PM 2.5/County_y_y_y_y</th>\n      <th>Number of Site IDs/County_y_y_y_y</th>\n      <th>Year_y_y_y</th>\n    </tr>\n    <tr>\n      <th>County</th>\n      <th></th>\n      <th></th>\n      <th></th>\n      <th></th>\n      <th></th>\n      <th></th>\n      <th></th>\n      <th></th>\n      <th></th>\n      <th></th>\n      <th></th>\n      <th></th>\n      <th></th>\n      <th></th>\n      <th></th>\n      <th></th>\n      <th></th>\n      <th></th>\n      <th></th>\n      <th></th>\n      <th></th>\n    </tr>\n  </thead>\n  <tbody>\n    <tr>\n      <th>Alameda</th>\n      <td>8.165623</td>\n      <td>5.0</td>\n      <td>2010.0</td>\n      <td>NaN</td>\n      <td>NaN</td>\n      <td>7.708418</td>\n      <td>3.0</td>\n      <td>2012.0</td>\n      <td>NaN</td>\n      <td>NaN</td>\n      <td>...</td>\n      <td>2020.0</td>\n      <td>8.198048</td>\n      <td>5.0</td>\n      <td>2022.0</td>\n      <td>7.006504</td>\n      <td>6.0</td>\n      <td>2023.0</td>\n      <td>6.588507</td>\n      <td>7.0</td>\n      <td>2024.0</td>\n    </tr>\n    <tr>\n      <th>Alameda</th>\n      <td>8.165623</td>\n      <td>5.0</td>\n      <td>2010.0</td>\n      <td>NaN</td>\n      <td>NaN</td>\n      <td>NaN</td>\n      <td>NaN</td>\n      <td>2013.0</td>\n      <td>10.422489</td>\n      <td>3.0</td>\n      <td>...</td>\n      <td>2020.0</td>\n      <td>8.198048</td>\n      <td>5.0</td>\n      <td>2022.0</td>\n      <td>7.006504</td>\n      <td>6.0</td>\n      <td>2023.0</td>\n      <td>6.588507</td>\n      <td>7.0</td>\n      <td>2024.0</td>\n    </tr>\n    <tr>\n      <th>Alameda</th>\n      <td>NaN</td>\n      <td>NaN</td>\n      <td>2011.0</td>\n      <td>9.461791</td>\n      <td>3.0</td>\n      <td>7.708418</td>\n      <td>3.0</td>\n      <td>2012.0</td>\n      <td>NaN</td>\n      <td>NaN</td>\n      <td>...</td>\n      <td>2020.0</td>\n      <td>8.198048</td>\n      <td>5.0</td>\n      <td>2022.0</td>\n      <td>7.006504</td>\n      <td>6.0</td>\n      <td>2023.0</td>\n      <td>6.588507</td>\n      <td>7.0</td>\n      <td>2024.0</td>\n    </tr>\n    <tr>\n      <th>Alameda</th>\n      <td>NaN</td>\n      <td>NaN</td>\n      <td>2011.0</td>\n      <td>9.461791</td>\n      <td>3.0</td>\n      <td>NaN</td>\n      <td>NaN</td>\n      <td>2013.0</td>\n      <td>10.422489</td>\n      <td>3.0</td>\n      <td>...</td>\n      <td>2020.0</td>\n      <td>8.198048</td>\n      <td>5.0</td>\n      <td>2022.0</td>\n      <td>7.006504</td>\n      <td>6.0</td>\n      <td>2023.0</td>\n      <td>6.588507</td>\n      <td>7.0</td>\n      <td>2024.0</td>\n    </tr>\n    <tr>\n      <th>Alpine</th>\n      <td>NaN</td>\n      <td>NaN</td>\n      <td>2011.0</td>\n      <td>11.114286</td>\n      <td>1.0</td>\n      <td>10.645833</td>\n      <td>1.0</td>\n      <td>2012.0</td>\n      <td>NaN</td>\n      <td>NaN</td>\n      <td>...</td>\n      <td>NaN</td>\n      <td>NaN</td>\n      <td>NaN</td>\n      <td>NaN</td>\n      <td>NaN</td>\n      <td>NaN</td>\n      <td>NaN</td>\n      <td>NaN</td>\n      <td>NaN</td>\n      <td>NaN</td>\n    </tr>\n    <tr>\n      <th>...</th>\n      <td>...</td>\n      <td>...</td>\n      <td>...</td>\n      <td>...</td>\n      <td>...</td>\n      <td>...</td>\n      <td>...</td>\n      <td>...</td>\n      <td>...</td>\n      <td>...</td>\n      <td>...</td>\n      <td>...</td>\n      <td>...</td>\n      <td>...</td>\n      <td>...</td>\n      <td>...</td>\n      <td>...</td>\n      <td>...</td>\n      <td>...</td>\n      <td>...</td>\n      <td>...</td>\n    </tr>\n    <tr>\n      <th>Ventura</th>\n      <td>NaN</td>\n      <td>NaN</td>\n      <td>2011.0</td>\n      <td>8.696451</td>\n      <td>4.0</td>\n      <td>NaN</td>\n      <td>NaN</td>\n      <td>2013.0</td>\n      <td>8.662446</td>\n      <td>5.0</td>\n      <td>...</td>\n      <td>2020.0</td>\n      <td>6.845493</td>\n      <td>5.0</td>\n      <td>2022.0</td>\n      <td>5.870643</td>\n      <td>5.0</td>\n      <td>2023.0</td>\n      <td>6.063194</td>\n      <td>5.0</td>\n      <td>2024.0</td>\n    </tr>\n    <tr>\n      <th>Yolo</th>\n      <td>7.554938</td>\n      <td>2.0</td>\n      <td>2010.0</td>\n      <td>NaN</td>\n      <td>NaN</td>\n      <td>8.603589</td>\n      <td>2.0</td>\n      <td>2012.0</td>\n      <td>NaN</td>\n      <td>NaN</td>\n      <td>...</td>\n      <td>2020.0</td>\n      <td>5.437008</td>\n      <td>2.0</td>\n      <td>2022.0</td>\n      <td>7.216270</td>\n      <td>2.0</td>\n      <td>2023.0</td>\n      <td>5.253195</td>\n      <td>2.0</td>\n      <td>2024.0</td>\n    </tr>\n    <tr>\n      <th>Yolo</th>\n      <td>7.554938</td>\n      <td>2.0</td>\n      <td>2010.0</td>\n      <td>NaN</td>\n      <td>NaN</td>\n      <td>NaN</td>\n      <td>NaN</td>\n      <td>2013.0</td>\n      <td>6.981297</td>\n      <td>2.0</td>\n      <td>...</td>\n      <td>2020.0</td>\n      <td>5.437008</td>\n      <td>2.0</td>\n      <td>2022.0</td>\n      <td>7.216270</td>\n      <td>2.0</td>\n      <td>2023.0</td>\n      <td>5.253195</td>\n      <td>2.0</td>\n      <td>2024.0</td>\n    </tr>\n    <tr>\n      <th>Yolo</th>\n      <td>NaN</td>\n      <td>NaN</td>\n      <td>2011.0</td>\n      <td>11.857073</td>\n      <td>2.0</td>\n      <td>8.603589</td>\n      <td>2.0</td>\n      <td>2012.0</td>\n      <td>NaN</td>\n      <td>NaN</td>\n      <td>...</td>\n      <td>2020.0</td>\n      <td>5.437008</td>\n      <td>2.0</td>\n      <td>2022.0</td>\n      <td>7.216270</td>\n      <td>2.0</td>\n      <td>2023.0</td>\n      <td>5.253195</td>\n      <td>2.0</td>\n      <td>2024.0</td>\n    </tr>\n    <tr>\n      <th>Yolo</th>\n      <td>NaN</td>\n      <td>NaN</td>\n      <td>2011.0</td>\n      <td>11.857073</td>\n      <td>2.0</td>\n      <td>NaN</td>\n      <td>NaN</td>\n      <td>2013.0</td>\n      <td>6.981297</td>\n      <td>2.0</td>\n      <td>...</td>\n      <td>2020.0</td>\n      <td>5.437008</td>\n      <td>2.0</td>\n      <td>2022.0</td>\n      <td>7.216270</td>\n      <td>2.0</td>\n      <td>2023.0</td>\n      <td>5.253195</td>\n      <td>2.0</td>\n      <td>2024.0</td>\n    </tr>\n  </tbody>\n</table>\n<p>206 rows × 46 columns</p>\n</div>"
     },
     "execution_count": 12,
     "metadata": {},
     "output_type": "execute_result"
    }
   ],
   "source": [
    "# merging the merged tables\n",
    "merged_df_1_2 = pd.merge(merged_df1, merged_df2, on=['County'], how='outer')\n",
    "merged_df_3_4 = pd.merge(merged_df3, merged_df4, on=['County'], how='outer')\n",
    "merged_df_5_6 = pd.merge(merged_df5, merged_df6, on=['County'], how='outer')\n",
    "merged_df_7_8 = pd.merge(merged_df7, merged_df8, on=['County'], how='outer')\n",
    "merged_df_1_2_3_4 = pd.merge(merged_df_1_2, merged_df_3_4, on=['County'], how='outer')\n",
    "merged_df_5_6_7_8 = pd.merge(merged_df_5_6, merged_df_7_8, on=['County'], how='outer')\n",
    "merged_df_final_boss = pd.merge(merged_df_1_2_3_4, merged_df_5_6_7_8, on=['County'], how='outer')\n",
    "merged_df_final_boss.columns = [col.replace('_x_x_x_x', '') for col in merged_df_final_boss.columns]\n",
    "\n",
    "merged_df_final_boss"
   ],
   "metadata": {
    "collapsed": false,
    "ExecuteTime": {
     "end_time": "2024-09-20T15:18:48.089483Z",
     "start_time": "2024-09-20T15:18:48.064059Z"
    }
   },
   "id": "69d865dcf992a6ed",
   "execution_count": 12
  },
  {
   "cell_type": "code",
   "outputs": [],
   "source": [],
   "metadata": {
    "collapsed": false
   },
   "id": "cf55956064feeebc"
  }
 ],
 "metadata": {
  "kernelspec": {
   "display_name": "Python 3",
   "language": "python",
   "name": "python3"
  },
  "language_info": {
   "codemirror_mode": {
    "name": "ipython",
    "version": 2
   },
   "file_extension": ".py",
   "mimetype": "text/x-python",
   "name": "python",
   "nbconvert_exporter": "python",
   "pygments_lexer": "ipython2",
   "version": "2.7.6"
  }
 },
 "nbformat": 4,
 "nbformat_minor": 5
}
