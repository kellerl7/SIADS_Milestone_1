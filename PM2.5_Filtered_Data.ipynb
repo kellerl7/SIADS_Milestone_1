{
 "cells": [
  {
   "cell_type": "code",
   "execution_count": 1,
   "id": "initial_id",
   "metadata": {
    "collapsed": true,
    "ExecuteTime": {
     "end_time": "2024-09-20T15:43:12.311093Z",
     "start_time": "2024-09-20T15:43:11.911883Z"
    }
   },
   "outputs": [],
   "source": [
    "#import \n",
    "import pandas as pd"
   ]
  },
  {
   "cell_type": "code",
   "outputs": [],
   "source": [
    "#establishing filenames \n",
    "csv_2010 = '/Users/clarissaclark/SIADS_Milestone_1/pm_data/ad_viz_plotval_data_2010.csv.crdownload.csv'\n",
    "csv_2011 = '/Users/clarissaclark/SIADS_Milestone_1/pm_data/ad_viz_plotval_data_2011.csv.crdownload.csv'\n",
    "csv_2012 = '/Users/clarissaclark/SIADS_Milestone_1/pm_data/ad_viz_plotval_data_2012.csv'\n",
    "csv_2013 = '/Users/clarissaclark/SIADS_Milestone_1/pm_data/ad_viz_plotval_data_2013.csv'\n",
    "csv_2014 = '/Users/clarissaclark/SIADS_Milestone_1/pm_data/ad_viz_plotval_data_2014.csv'\n",
    "csv_2015 = '/Users/clarissaclark/SIADS_Milestone_1/pm_data/ad_viz_plotval_data_2015.csv'\n",
    "csv_2016 = '/Users/clarissaclark/SIADS_Milestone_1/pm_data/ad_vis_plotval_data_2016.csv'\n",
    "csv_2017 = '/Users/clarissaclark/SIADS_Milestone_1/pm_data/ad_viz_plotval_data_2017.csv'\n",
    "csv_2018 = '/Users/clarissaclark/SIADS_Milestone_1/pm_data/ad_viz_plotval_data2018.csv'\n",
    "csv_2019 = '/Users/clarissaclark/SIADS_Milestone_1/pm_data/ad_viz_plotval_data2019.csv'\n",
    "csv_2020 = '/Users/clarissaclark/SIADS_Milestone_1/pm_data/ad_viz_plotval_data2020.csv'\n",
    "csv_2021 = '/Users/clarissaclark/SIADS_Milestone_1/pm_data/ad_viz_plotval_data2020.csv'\n",
    "csv_2022 = '/Users/clarissaclark/SIADS_Milestone_1/pm_data/ad_viz_plotval_data2022.csv'\n",
    "csv_2023 = '/Users/clarissaclark/SIADS_Milestone_1/pm_data/ad_viz_plotval_data2023.csv'\n",
    "csv_2024 = '/Users/clarissaclark/SIADS_Milestone_1/pm_data/ad_viz_plotval_data2024.csv'"
   ],
   "metadata": {
    "collapsed": false,
    "ExecuteTime": {
     "end_time": "2024-09-20T15:43:12.313817Z",
     "start_time": "2024-09-20T15:43:12.311708Z"
    }
   },
   "id": "29f0a762ec784169",
   "execution_count": 2
  },
  {
   "cell_type": "code",
   "outputs": [],
   "source": [
    "def avg_pm_value(filename): \n",
    "    # loading data\n",
    "    df = pd.read_csv(filename)\n",
    "    df = df[['Date', 'Daily Mean PM2.5 Concentration','Units', 'Site ID', 'County']]\n",
    "    # changing date column to datetime \n",
    "    df['Date'] = pd.to_datetime(df['Date'])\n",
    "    # adding year column \n",
    "    df['Data Year'] = df['Date'].dt.year\n",
    "    # determining unique sites per county \n",
    "    unique_sites_per_county = df.groupby('County')['Site ID'].nunique().reset_index()\n",
    "    unique_sites_per_county.rename(columns={'Site ID': 'Number of Site IDs/County'}, inplace=True) \n",
    "    # average pm2.5 values per county \n",
    "    avg_pm_value =df.groupby(['County', 'Data Year'])['Daily Mean PM2.5 Concentration'].mean().reset_index()\n",
    "    avg_pm_value.rename(columns={'Daily Mean PM2.5 Concentration': 'Average PM 2.5/County'}, inplace=True)\n",
    "    # merging tables \n",
    "    avg_df = unique_sites_per_county.merge(avg_pm_value, on='County')\n",
    "    avg_df = avg_df.pivot_table(index ='County', values = ['Data Year','Average PM 2.5/County', 'Number of Site IDs/County'])\n",
    "    avg_df.reset_index(inplace=True)\n",
    "    return avg_df"
   ],
   "metadata": {
    "collapsed": false,
    "ExecuteTime": {
     "end_time": "2024-09-20T15:43:39.183648Z",
     "start_time": "2024-09-20T15:43:39.166920Z"
    }
   },
   "id": "c4aed75f3e8fb9c4",
   "execution_count": 5
  },
  {
   "cell_type": "code",
   "outputs": [],
   "source": [
    "# getting dfs for all years\n",
    "df_2010 = avg_pm_value(csv_2010)\n",
    "# dropping 'Alpine' (labels = 'Alpine', axis = 'index')\n",
    "df_2011 = avg_pm_value(csv_2011)\n",
    "df_2012 = avg_pm_value(csv_2012)\n",
    "df_2013 = avg_pm_value(csv_2013)\n",
    "df_2014 = avg_pm_value(csv_2014)\n",
    "df_2015 = avg_pm_value(csv_2015)\n",
    "df_2016 = avg_pm_value(csv_2016)\n",
    "# back to our regular scheduled programming  \n",
    "df_2017 = avg_pm_value(csv_2017)\n",
    "df_2018 = avg_pm_value(csv_2018)\n",
    "df_2019 = avg_pm_value(csv_2019)\n",
    "df_2020 = avg_pm_value(csv_2020)\n",
    "df_2021 = avg_pm_value(csv_2021)\n",
    "df_2022 = avg_pm_value(csv_2022)\n",
    "df_2023 = avg_pm_value(csv_2023)\n",
    "df_2024 = avg_pm_value(csv_2024)"
   ],
   "metadata": {
    "collapsed": false,
    "ExecuteTime": {
     "end_time": "2024-09-20T15:45:07.391947Z",
     "start_time": "2024-09-20T15:45:05.011773Z"
    }
   },
   "id": "d432e0f5b3e40c0f",
   "execution_count": 7
  },
  {
   "cell_type": "code",
   "outputs": [
    {
     "data": {
      "text/plain": "     Data Year        County  Average PM 2.5/County  Number of Site IDs/County\n0         2010       Alameda               8.165623                        5.0\n1         2010         Butte               8.776451                        3.0\n2         2010     Calaveras               7.380349                        1.0\n3         2010        Colusa               6.054913                        1.0\n4         2010  Contra Costa               7.606920                        1.0\n..         ...           ...                    ...                        ...\n761       2024        Tehama               3.965116                        1.0\n762       2024       Trinity               5.718966                        1.0\n763       2024        Tulare               9.256527                        3.0\n764       2024       Ventura               6.063194                        5.0\n765       2024          Yolo               5.253195                        2.0\n\n[766 rows x 4 columns]",
      "text/html": "<div>\n<style scoped>\n    .dataframe tbody tr th:only-of-type {\n        vertical-align: middle;\n    }\n\n    .dataframe tbody tr th {\n        vertical-align: top;\n    }\n\n    .dataframe thead th {\n        text-align: right;\n    }\n</style>\n<table border=\"1\" class=\"dataframe\">\n  <thead>\n    <tr style=\"text-align: right;\">\n      <th></th>\n      <th>Data Year</th>\n      <th>County</th>\n      <th>Average PM 2.5/County</th>\n      <th>Number of Site IDs/County</th>\n    </tr>\n  </thead>\n  <tbody>\n    <tr>\n      <th>0</th>\n      <td>2010</td>\n      <td>Alameda</td>\n      <td>8.165623</td>\n      <td>5.0</td>\n    </tr>\n    <tr>\n      <th>1</th>\n      <td>2010</td>\n      <td>Butte</td>\n      <td>8.776451</td>\n      <td>3.0</td>\n    </tr>\n    <tr>\n      <th>2</th>\n      <td>2010</td>\n      <td>Calaveras</td>\n      <td>7.380349</td>\n      <td>1.0</td>\n    </tr>\n    <tr>\n      <th>3</th>\n      <td>2010</td>\n      <td>Colusa</td>\n      <td>6.054913</td>\n      <td>1.0</td>\n    </tr>\n    <tr>\n      <th>4</th>\n      <td>2010</td>\n      <td>Contra Costa</td>\n      <td>7.606920</td>\n      <td>1.0</td>\n    </tr>\n    <tr>\n      <th>...</th>\n      <td>...</td>\n      <td>...</td>\n      <td>...</td>\n      <td>...</td>\n    </tr>\n    <tr>\n      <th>761</th>\n      <td>2024</td>\n      <td>Tehama</td>\n      <td>3.965116</td>\n      <td>1.0</td>\n    </tr>\n    <tr>\n      <th>762</th>\n      <td>2024</td>\n      <td>Trinity</td>\n      <td>5.718966</td>\n      <td>1.0</td>\n    </tr>\n    <tr>\n      <th>763</th>\n      <td>2024</td>\n      <td>Tulare</td>\n      <td>9.256527</td>\n      <td>3.0</td>\n    </tr>\n    <tr>\n      <th>764</th>\n      <td>2024</td>\n      <td>Ventura</td>\n      <td>6.063194</td>\n      <td>5.0</td>\n    </tr>\n    <tr>\n      <th>765</th>\n      <td>2024</td>\n      <td>Yolo</td>\n      <td>5.253195</td>\n      <td>2.0</td>\n    </tr>\n  </tbody>\n</table>\n<p>766 rows × 4 columns</p>\n</div>"
     },
     "execution_count": 8,
     "metadata": {},
     "output_type": "execute_result"
    }
   ],
   "source": [
    "df_2010_2024= pd.concat([df_2010, df_2011, df_2012, df_2013, df_2014, df_2015, df_2016, df_2017, df_2018, df_2019, df_2020, df_2021, df_2022, df_2023, df_2024], ignore_index=True, axis = 0)\n",
    "df_2010_2024['Data Year'] = df_2010_2024['Data Year'].astype(int)\n",
    "df_2010_2024 = df_2010_2024[['Data Year', 'County', 'Average PM 2.5/County', 'Number of Site IDs/County']]\n",
    "df_2010_2024"
   ],
   "metadata": {
    "collapsed": false,
    "ExecuteTime": {
     "end_time": "2024-09-20T15:45:07.405673Z",
     "start_time": "2024-09-20T15:45:07.393404Z"
    }
   },
   "id": "4f6a95b0ab76c0be",
   "execution_count": 8
  },
  {
   "cell_type": "code",
   "outputs": [],
   "source": [
    "# to csv \n",
    "df_2010_2024.to_csv('/Users/clarissaclark/SIADS_Milestone_1/df_2010_2024.csv', index=False)"
   ],
   "metadata": {
    "collapsed": false,
    "ExecuteTime": {
     "end_time": "2024-09-20T15:52:53.856465Z",
     "start_time": "2024-09-20T15:52:53.829534Z"
    }
   },
   "id": "53bb4c42af9a6bc7",
   "execution_count": 11
  },
  {
   "cell_type": "code",
   "outputs": [],
   "source": [
    "# delete later \n",
    "# start merging \n",
    "# merged_df1 = pd.merge(df_2010, df_2011, on=['County'], how='outer')\n",
    "# merged_df2 = pd.merge(df_2012, df_2013, on=['County'], how='outer')\n",
    "# merged_df3 = pd.merge(df_2014, df_2015, on=['County'], how='outer')\n",
    "# merged_df4 = pd.merge(df_2016, df_2017, on=['County'], how='outer')\n",
    "# merged_df5 = pd.merge(df_2018, df_2019, on=['County'], how='outer')\n",
    "# merged_df6 = pd.merge(df_2020, df_2021, on=['County'], how='outer')\n",
    "# merged_df7 = pd.merge(df_2021, df_2022, on=['County'], how='outer')\n",
    "# merged_df8 = pd.merge(df_2023, df_2024, on=['County'], how='outer')"
   ],
   "metadata": {
    "collapsed": false
   },
   "id": "bf07e986e3fa369f",
   "execution_count": null
  },
  {
   "cell_type": "code",
   "outputs": [],
   "source": [
    "# delete later \n",
    "# merging the merged tables\n",
    "# merged_df_1_2 = pd.merge(merged_df1, merged_df2, on=['County'], how='outer')\n",
    "# merged_df_3_4 = pd.merge(merged_df3, merged_df4, on=['County'], how='outer')\n",
    "# merged_df_5_6 = pd.merge(merged_df5, merged_df6, on=['County'], how='outer')\n",
    "# merged_df_7_8 = pd.merge(merged_df7, merged_df8, on=['County'], how='outer')\n",
    "# merged_df_1_2_3_4 = pd.merge(merged_df_1_2, merged_df_3_4, on=['County'], how='outer')\n",
    "# merged_df_5_6_7_8 = pd.merge(merged_df_5_6, merged_df_7_8, on=['County'], how='outer')\n",
    "# merged_df_final_boss = pd.merge(merged_df_1_2_3_4, merged_df_5_6_7_8, on=['County'], how='outer')\n",
    "# merged_df_final_boss.columns = [col.replace('_x_x_x_x', '') for col in merged_df_final_boss.columns]\n",
    "# \n",
    "# merged_df_final_boss"
   ],
   "metadata": {
    "collapsed": false
   },
   "id": "69d865dcf992a6ed",
   "execution_count": null
  },
  {
   "cell_type": "code",
   "outputs": [],
   "source": [],
   "metadata": {
    "collapsed": false
   },
   "id": "cf55956064feeebc",
   "execution_count": null
  }
 ],
 "metadata": {
  "kernelspec": {
   "display_name": "Python 3",
   "language": "python",
   "name": "python3"
  },
  "language_info": {
   "codemirror_mode": {
    "name": "ipython",
    "version": 2
   },
   "file_extension": ".py",
   "mimetype": "text/x-python",
   "name": "python",
   "nbconvert_exporter": "python",
   "pygments_lexer": "ipython2",
   "version": "2.7.6"
  }
 },
 "nbformat": 4,
 "nbformat_minor": 5
}
