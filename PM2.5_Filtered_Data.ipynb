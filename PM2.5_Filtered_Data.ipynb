{
 "cells": [
  {
   "cell_type": "code",
   "execution_count": 20,
   "id": "initial_id",
   "metadata": {
    "collapsed": true,
    "ExecuteTime": {
     "end_time": "2024-09-16T20:38:11.105125Z",
     "start_time": "2024-09-16T20:38:11.101687Z"
    }
   },
   "outputs": [],
   "source": [
    "#import \n",
    "import pandas as pd"
   ]
  },
  {
   "cell_type": "code",
   "outputs": [
    {
     "data": {
      "text/plain": "Index(['Date', 'Source', 'Site ID', 'POC', 'Daily Mean PM2.5 Concentration',\n       'Units', 'Daily AQI Value', 'Local Site Name', 'Daily Obs Count',\n       'Percent Complete', 'AQS Parameter Code', 'AQS Parameter Description',\n       'Method Code', 'Method Description', 'CBSA Code', 'CBSA Name',\n       'State FIPS Code', 'State', 'County FIPS Code', 'County',\n       'Site Latitude', 'Site Longitude'],\n      dtype='object')"
     },
     "execution_count": 23,
     "metadata": {},
     "output_type": "execute_result"
    }
   ],
   "source": [
    "#testing things out with ds 2018 first\n",
    "#import data \n",
    "csv_2018 = '/Users/clarissaclark/SIADS_Milestone_1/ad_viz_plotval_data2018.csv'\n",
    "df_2018 = pd.read_csv(csv_2018)\n",
    "df_2018.columns"
   ],
   "metadata": {
    "collapsed": false,
    "ExecuteTime": {
     "end_time": "2024-09-16T20:38:12.331139Z",
     "start_time": "2024-09-16T20:38:12.238161Z"
    }
   },
   "id": "29f0a762ec784169",
   "execution_count": 23
  },
  {
   "cell_type": "code",
   "outputs": [
    {
     "data": {
      "text/plain": "             Date  Daily Mean PM2.5 Concentration     Units   Site ID   County\n0      01/01/2018                            28.1  ug/m3 LC  60010007  Alameda\n1      01/02/2018                            24.5  ug/m3 LC  60010007  Alameda\n2      01/03/2018                            39.0  ug/m3 LC  60010007  Alameda\n3      01/04/2018                            20.9  ug/m3 LC  60010007  Alameda\n4      01/05/2018                             5.5  ug/m3 LC  60010007  Alameda\n...           ...                             ...       ...       ...      ...\n52828  12/04/2018                             8.6  ug/m3 LC  61131003     Yolo\n52829  12/10/2018                            14.3  ug/m3 LC  61131003     Yolo\n52830  12/16/2018                            20.9  ug/m3 LC  61131003     Yolo\n52831  12/22/2018                             3.8  ug/m3 LC  61131003     Yolo\n52832  12/28/2018                             1.0  ug/m3 LC  61131003     Yolo\n\n[52833 rows x 5 columns]",
      "text/html": "<div>\n<style scoped>\n    .dataframe tbody tr th:only-of-type {\n        vertical-align: middle;\n    }\n\n    .dataframe tbody tr th {\n        vertical-align: top;\n    }\n\n    .dataframe thead th {\n        text-align: right;\n    }\n</style>\n<table border=\"1\" class=\"dataframe\">\n  <thead>\n    <tr style=\"text-align: right;\">\n      <th></th>\n      <th>Date</th>\n      <th>Daily Mean PM2.5 Concentration</th>\n      <th>Units</th>\n      <th>Site ID</th>\n      <th>County</th>\n    </tr>\n  </thead>\n  <tbody>\n    <tr>\n      <th>0</th>\n      <td>01/01/2018</td>\n      <td>28.1</td>\n      <td>ug/m3 LC</td>\n      <td>60010007</td>\n      <td>Alameda</td>\n    </tr>\n    <tr>\n      <th>1</th>\n      <td>01/02/2018</td>\n      <td>24.5</td>\n      <td>ug/m3 LC</td>\n      <td>60010007</td>\n      <td>Alameda</td>\n    </tr>\n    <tr>\n      <th>2</th>\n      <td>01/03/2018</td>\n      <td>39.0</td>\n      <td>ug/m3 LC</td>\n      <td>60010007</td>\n      <td>Alameda</td>\n    </tr>\n    <tr>\n      <th>3</th>\n      <td>01/04/2018</td>\n      <td>20.9</td>\n      <td>ug/m3 LC</td>\n      <td>60010007</td>\n      <td>Alameda</td>\n    </tr>\n    <tr>\n      <th>4</th>\n      <td>01/05/2018</td>\n      <td>5.5</td>\n      <td>ug/m3 LC</td>\n      <td>60010007</td>\n      <td>Alameda</td>\n    </tr>\n    <tr>\n      <th>...</th>\n      <td>...</td>\n      <td>...</td>\n      <td>...</td>\n      <td>...</td>\n      <td>...</td>\n    </tr>\n    <tr>\n      <th>52828</th>\n      <td>12/04/2018</td>\n      <td>8.6</td>\n      <td>ug/m3 LC</td>\n      <td>61131003</td>\n      <td>Yolo</td>\n    </tr>\n    <tr>\n      <th>52829</th>\n      <td>12/10/2018</td>\n      <td>14.3</td>\n      <td>ug/m3 LC</td>\n      <td>61131003</td>\n      <td>Yolo</td>\n    </tr>\n    <tr>\n      <th>52830</th>\n      <td>12/16/2018</td>\n      <td>20.9</td>\n      <td>ug/m3 LC</td>\n      <td>61131003</td>\n      <td>Yolo</td>\n    </tr>\n    <tr>\n      <th>52831</th>\n      <td>12/22/2018</td>\n      <td>3.8</td>\n      <td>ug/m3 LC</td>\n      <td>61131003</td>\n      <td>Yolo</td>\n    </tr>\n    <tr>\n      <th>52832</th>\n      <td>12/28/2018</td>\n      <td>1.0</td>\n      <td>ug/m3 LC</td>\n      <td>61131003</td>\n      <td>Yolo</td>\n    </tr>\n  </tbody>\n</table>\n<p>52833 rows × 5 columns</p>\n</div>"
     },
     "execution_count": 24,
     "metadata": {},
     "output_type": "execute_result"
    }
   ],
   "source": [
    "#selecting columns \n",
    "df_2018 = df_2018[['Date', 'Daily Mean PM2.5 Concentration','Units', 'Site ID', 'County']]\n",
    "df_2018\n",
    "#found out there are multiple site id for counties "
   ],
   "metadata": {
    "collapsed": false,
    "ExecuteTime": {
     "end_time": "2024-09-16T20:38:12.340426Z",
     "start_time": "2024-09-16T20:38:12.331752Z"
    }
   },
   "id": "6a2e975210922d18",
   "execution_count": 24
  },
  {
   "cell_type": "code",
   "outputs": [
    {
     "data": {
      "text/plain": "             County  Number of Site IDs/County\n0           Alameda                          6\n1             Butte                          3\n2         Calaveras                          1\n3            Colusa                          2\n4      Contra Costa                          2\n5         Del Norte                          2\n6         El Dorado                          2\n7            Fresno                          7\n8             Glenn                          1\n9          Humboldt                          2\n10         Imperial                          3\n11             Inyo                          2\n12             Kern                          8\n13            Kings                          2\n14             Lake                          1\n15      Los Angeles                         13\n16           Madera                          1\n17            Marin                          2\n18         Mariposa                          2\n19        Mendocino                          2\n20           Merced                          2\n21             Mono                          3\n22         Monterey                          3\n23             Napa                          2\n24           Nevada                          2\n25           Orange                          2\n26           Placer                          2\n27           Plumas                          2\n28        Riverside                         11\n29       Sacramento                          5\n30       San Benito                          2\n31   San Bernardino                          9\n32        San Diego                          8\n33    San Francisco                          1\n34      San Joaquin                          3\n35  San Luis Obispo                          4\n36        San Mateo                          1\n37    Santa Barbara                          5\n38      Santa Clara                          3\n39       Santa Cruz                          2\n40           Shasta                          2\n41         Siskiyou                          2\n42           Solano                          1\n43           Sonoma                          1\n44       Stanislaus                          2\n45           Sutter                          1\n46           Tehama                          1\n47          Trinity                          2\n48           Tulare                          3\n49          Ventura                          5\n50             Yolo                          2",
      "text/html": "<div>\n<style scoped>\n    .dataframe tbody tr th:only-of-type {\n        vertical-align: middle;\n    }\n\n    .dataframe tbody tr th {\n        vertical-align: top;\n    }\n\n    .dataframe thead th {\n        text-align: right;\n    }\n</style>\n<table border=\"1\" class=\"dataframe\">\n  <thead>\n    <tr style=\"text-align: right;\">\n      <th></th>\n      <th>County</th>\n      <th>Number of Site IDs/County</th>\n    </tr>\n  </thead>\n  <tbody>\n    <tr>\n      <th>0</th>\n      <td>Alameda</td>\n      <td>6</td>\n    </tr>\n    <tr>\n      <th>1</th>\n      <td>Butte</td>\n      <td>3</td>\n    </tr>\n    <tr>\n      <th>2</th>\n      <td>Calaveras</td>\n      <td>1</td>\n    </tr>\n    <tr>\n      <th>3</th>\n      <td>Colusa</td>\n      <td>2</td>\n    </tr>\n    <tr>\n      <th>4</th>\n      <td>Contra Costa</td>\n      <td>2</td>\n    </tr>\n    <tr>\n      <th>5</th>\n      <td>Del Norte</td>\n      <td>2</td>\n    </tr>\n    <tr>\n      <th>6</th>\n      <td>El Dorado</td>\n      <td>2</td>\n    </tr>\n    <tr>\n      <th>7</th>\n      <td>Fresno</td>\n      <td>7</td>\n    </tr>\n    <tr>\n      <th>8</th>\n      <td>Glenn</td>\n      <td>1</td>\n    </tr>\n    <tr>\n      <th>9</th>\n      <td>Humboldt</td>\n      <td>2</td>\n    </tr>\n    <tr>\n      <th>10</th>\n      <td>Imperial</td>\n      <td>3</td>\n    </tr>\n    <tr>\n      <th>11</th>\n      <td>Inyo</td>\n      <td>2</td>\n    </tr>\n    <tr>\n      <th>12</th>\n      <td>Kern</td>\n      <td>8</td>\n    </tr>\n    <tr>\n      <th>13</th>\n      <td>Kings</td>\n      <td>2</td>\n    </tr>\n    <tr>\n      <th>14</th>\n      <td>Lake</td>\n      <td>1</td>\n    </tr>\n    <tr>\n      <th>15</th>\n      <td>Los Angeles</td>\n      <td>13</td>\n    </tr>\n    <tr>\n      <th>16</th>\n      <td>Madera</td>\n      <td>1</td>\n    </tr>\n    <tr>\n      <th>17</th>\n      <td>Marin</td>\n      <td>2</td>\n    </tr>\n    <tr>\n      <th>18</th>\n      <td>Mariposa</td>\n      <td>2</td>\n    </tr>\n    <tr>\n      <th>19</th>\n      <td>Mendocino</td>\n      <td>2</td>\n    </tr>\n    <tr>\n      <th>20</th>\n      <td>Merced</td>\n      <td>2</td>\n    </tr>\n    <tr>\n      <th>21</th>\n      <td>Mono</td>\n      <td>3</td>\n    </tr>\n    <tr>\n      <th>22</th>\n      <td>Monterey</td>\n      <td>3</td>\n    </tr>\n    <tr>\n      <th>23</th>\n      <td>Napa</td>\n      <td>2</td>\n    </tr>\n    <tr>\n      <th>24</th>\n      <td>Nevada</td>\n      <td>2</td>\n    </tr>\n    <tr>\n      <th>25</th>\n      <td>Orange</td>\n      <td>2</td>\n    </tr>\n    <tr>\n      <th>26</th>\n      <td>Placer</td>\n      <td>2</td>\n    </tr>\n    <tr>\n      <th>27</th>\n      <td>Plumas</td>\n      <td>2</td>\n    </tr>\n    <tr>\n      <th>28</th>\n      <td>Riverside</td>\n      <td>11</td>\n    </tr>\n    <tr>\n      <th>29</th>\n      <td>Sacramento</td>\n      <td>5</td>\n    </tr>\n    <tr>\n      <th>30</th>\n      <td>San Benito</td>\n      <td>2</td>\n    </tr>\n    <tr>\n      <th>31</th>\n      <td>San Bernardino</td>\n      <td>9</td>\n    </tr>\n    <tr>\n      <th>32</th>\n      <td>San Diego</td>\n      <td>8</td>\n    </tr>\n    <tr>\n      <th>33</th>\n      <td>San Francisco</td>\n      <td>1</td>\n    </tr>\n    <tr>\n      <th>34</th>\n      <td>San Joaquin</td>\n      <td>3</td>\n    </tr>\n    <tr>\n      <th>35</th>\n      <td>San Luis Obispo</td>\n      <td>4</td>\n    </tr>\n    <tr>\n      <th>36</th>\n      <td>San Mateo</td>\n      <td>1</td>\n    </tr>\n    <tr>\n      <th>37</th>\n      <td>Santa Barbara</td>\n      <td>5</td>\n    </tr>\n    <tr>\n      <th>38</th>\n      <td>Santa Clara</td>\n      <td>3</td>\n    </tr>\n    <tr>\n      <th>39</th>\n      <td>Santa Cruz</td>\n      <td>2</td>\n    </tr>\n    <tr>\n      <th>40</th>\n      <td>Shasta</td>\n      <td>2</td>\n    </tr>\n    <tr>\n      <th>41</th>\n      <td>Siskiyou</td>\n      <td>2</td>\n    </tr>\n    <tr>\n      <th>42</th>\n      <td>Solano</td>\n      <td>1</td>\n    </tr>\n    <tr>\n      <th>43</th>\n      <td>Sonoma</td>\n      <td>1</td>\n    </tr>\n    <tr>\n      <th>44</th>\n      <td>Stanislaus</td>\n      <td>2</td>\n    </tr>\n    <tr>\n      <th>45</th>\n      <td>Sutter</td>\n      <td>1</td>\n    </tr>\n    <tr>\n      <th>46</th>\n      <td>Tehama</td>\n      <td>1</td>\n    </tr>\n    <tr>\n      <th>47</th>\n      <td>Trinity</td>\n      <td>2</td>\n    </tr>\n    <tr>\n      <th>48</th>\n      <td>Tulare</td>\n      <td>3</td>\n    </tr>\n    <tr>\n      <th>49</th>\n      <td>Ventura</td>\n      <td>5</td>\n    </tr>\n    <tr>\n      <th>50</th>\n      <td>Yolo</td>\n      <td>2</td>\n    </tr>\n  </tbody>\n</table>\n</div>"
     },
     "execution_count": 30,
     "metadata": {},
     "output_type": "execute_result"
    }
   ],
   "source": [
    "#number of site id/county \n",
    "unique_sites_per_county = df_2018.groupby('County')['Site ID'].nunique().reset_index()\n",
    "unique_sites_per_county.rename(columns={'Site ID': 'Number of Site IDs/County'}, inplace=True) \n",
    "unique_sites_per_county"
   ],
   "metadata": {
    "collapsed": false,
    "ExecuteTime": {
     "end_time": "2024-09-16T20:43:13.816559Z",
     "start_time": "2024-09-16T20:43:13.801385Z"
    }
   },
   "id": "90439045b36ab89f",
   "execution_count": 30
  },
  {
   "cell_type": "code",
   "outputs": [
    {
     "data": {
      "text/plain": "             County  Number of Site IDs/County  2018 Average PM 2.5/County\n0           Alameda                          6                   12.913035\n1             Butte                          3                   14.488928\n2         Calaveras                          1                   14.665546\n3            Colusa                          2                   11.266090\n4      Contra Costa                          2                   13.120255\n5         Del Norte                          2                    6.006075\n6         El Dorado                          2                    4.518565\n7            Fresno                          7                   13.152119\n8             Glenn                          1                   10.081034\n9          Humboldt                          2                    7.590645\n10         Imperial                          3                   12.108333\n11             Inyo                          2                    6.915169\n12             Kern                          8                   11.643714\n13            Kings                          2                   17.518766\n14             Lake                          1                    9.154237\n15      Los Angeles                         13                   12.266653\n16           Madera                          1                   14.116043\n17            Marin                          2                   10.643469\n18         Mariposa                          2                   18.115811\n19        Mendocino                          2                   10.506501\n20           Merced                          2                   14.990397\n21             Mono                          3                   10.266457\n22         Monterey                          3                    6.680915\n23             Napa                          2                   11.413881\n24           Nevada                          2                    6.388477\n25           Orange                          2                   11.331413\n26           Placer                          2                   10.025000\n27           Plumas                          2                   11.940842\n28        Riverside                         11                   10.242809\n29       Sacramento                          5                   12.236965\n30       San Benito                          2                    6.618337\n31   San Bernardino                          9                   11.269345\n32        San Diego                          8                   10.194695\n33    San Francisco                          1                   11.676487\n34      San Joaquin                          3                   14.722066\n35  San Luis Obispo                          4                    7.107266\n36        San Mateo                          1                   10.543099\n37    Santa Barbara                          5                    7.305856\n38      Santa Clara                          3                   10.921904\n39       Santa Cruz                          2                    7.357709\n40           Shasta                          2                    9.561677\n41         Siskiyou                          2                   17.123734\n42           Solano                          1                   12.437538\n43           Sonoma                          1                    8.400000\n44       Stanislaus                          2                   15.836625\n45           Sutter                          1                   14.446821\n46           Tehama                          1                   10.581267\n47          Trinity                          2                   12.701907\n48           Tulare                          3                   16.248419\n49          Ventura                          5                    9.060714\n50             Yolo                          2                   11.439303",
      "text/html": "<div>\n<style scoped>\n    .dataframe tbody tr th:only-of-type {\n        vertical-align: middle;\n    }\n\n    .dataframe tbody tr th {\n        vertical-align: top;\n    }\n\n    .dataframe thead th {\n        text-align: right;\n    }\n</style>\n<table border=\"1\" class=\"dataframe\">\n  <thead>\n    <tr style=\"text-align: right;\">\n      <th></th>\n      <th>County</th>\n      <th>Number of Site IDs/County</th>\n      <th>2018 Average PM 2.5/County</th>\n    </tr>\n  </thead>\n  <tbody>\n    <tr>\n      <th>0</th>\n      <td>Alameda</td>\n      <td>6</td>\n      <td>12.913035</td>\n    </tr>\n    <tr>\n      <th>1</th>\n      <td>Butte</td>\n      <td>3</td>\n      <td>14.488928</td>\n    </tr>\n    <tr>\n      <th>2</th>\n      <td>Calaveras</td>\n      <td>1</td>\n      <td>14.665546</td>\n    </tr>\n    <tr>\n      <th>3</th>\n      <td>Colusa</td>\n      <td>2</td>\n      <td>11.266090</td>\n    </tr>\n    <tr>\n      <th>4</th>\n      <td>Contra Costa</td>\n      <td>2</td>\n      <td>13.120255</td>\n    </tr>\n    <tr>\n      <th>5</th>\n      <td>Del Norte</td>\n      <td>2</td>\n      <td>6.006075</td>\n    </tr>\n    <tr>\n      <th>6</th>\n      <td>El Dorado</td>\n      <td>2</td>\n      <td>4.518565</td>\n    </tr>\n    <tr>\n      <th>7</th>\n      <td>Fresno</td>\n      <td>7</td>\n      <td>13.152119</td>\n    </tr>\n    <tr>\n      <th>8</th>\n      <td>Glenn</td>\n      <td>1</td>\n      <td>10.081034</td>\n    </tr>\n    <tr>\n      <th>9</th>\n      <td>Humboldt</td>\n      <td>2</td>\n      <td>7.590645</td>\n    </tr>\n    <tr>\n      <th>10</th>\n      <td>Imperial</td>\n      <td>3</td>\n      <td>12.108333</td>\n    </tr>\n    <tr>\n      <th>11</th>\n      <td>Inyo</td>\n      <td>2</td>\n      <td>6.915169</td>\n    </tr>\n    <tr>\n      <th>12</th>\n      <td>Kern</td>\n      <td>8</td>\n      <td>11.643714</td>\n    </tr>\n    <tr>\n      <th>13</th>\n      <td>Kings</td>\n      <td>2</td>\n      <td>17.518766</td>\n    </tr>\n    <tr>\n      <th>14</th>\n      <td>Lake</td>\n      <td>1</td>\n      <td>9.154237</td>\n    </tr>\n    <tr>\n      <th>15</th>\n      <td>Los Angeles</td>\n      <td>13</td>\n      <td>12.266653</td>\n    </tr>\n    <tr>\n      <th>16</th>\n      <td>Madera</td>\n      <td>1</td>\n      <td>14.116043</td>\n    </tr>\n    <tr>\n      <th>17</th>\n      <td>Marin</td>\n      <td>2</td>\n      <td>10.643469</td>\n    </tr>\n    <tr>\n      <th>18</th>\n      <td>Mariposa</td>\n      <td>2</td>\n      <td>18.115811</td>\n    </tr>\n    <tr>\n      <th>19</th>\n      <td>Mendocino</td>\n      <td>2</td>\n      <td>10.506501</td>\n    </tr>\n    <tr>\n      <th>20</th>\n      <td>Merced</td>\n      <td>2</td>\n      <td>14.990397</td>\n    </tr>\n    <tr>\n      <th>21</th>\n      <td>Mono</td>\n      <td>3</td>\n      <td>10.266457</td>\n    </tr>\n    <tr>\n      <th>22</th>\n      <td>Monterey</td>\n      <td>3</td>\n      <td>6.680915</td>\n    </tr>\n    <tr>\n      <th>23</th>\n      <td>Napa</td>\n      <td>2</td>\n      <td>11.413881</td>\n    </tr>\n    <tr>\n      <th>24</th>\n      <td>Nevada</td>\n      <td>2</td>\n      <td>6.388477</td>\n    </tr>\n    <tr>\n      <th>25</th>\n      <td>Orange</td>\n      <td>2</td>\n      <td>11.331413</td>\n    </tr>\n    <tr>\n      <th>26</th>\n      <td>Placer</td>\n      <td>2</td>\n      <td>10.025000</td>\n    </tr>\n    <tr>\n      <th>27</th>\n      <td>Plumas</td>\n      <td>2</td>\n      <td>11.940842</td>\n    </tr>\n    <tr>\n      <th>28</th>\n      <td>Riverside</td>\n      <td>11</td>\n      <td>10.242809</td>\n    </tr>\n    <tr>\n      <th>29</th>\n      <td>Sacramento</td>\n      <td>5</td>\n      <td>12.236965</td>\n    </tr>\n    <tr>\n      <th>30</th>\n      <td>San Benito</td>\n      <td>2</td>\n      <td>6.618337</td>\n    </tr>\n    <tr>\n      <th>31</th>\n      <td>San Bernardino</td>\n      <td>9</td>\n      <td>11.269345</td>\n    </tr>\n    <tr>\n      <th>32</th>\n      <td>San Diego</td>\n      <td>8</td>\n      <td>10.194695</td>\n    </tr>\n    <tr>\n      <th>33</th>\n      <td>San Francisco</td>\n      <td>1</td>\n      <td>11.676487</td>\n    </tr>\n    <tr>\n      <th>34</th>\n      <td>San Joaquin</td>\n      <td>3</td>\n      <td>14.722066</td>\n    </tr>\n    <tr>\n      <th>35</th>\n      <td>San Luis Obispo</td>\n      <td>4</td>\n      <td>7.107266</td>\n    </tr>\n    <tr>\n      <th>36</th>\n      <td>San Mateo</td>\n      <td>1</td>\n      <td>10.543099</td>\n    </tr>\n    <tr>\n      <th>37</th>\n      <td>Santa Barbara</td>\n      <td>5</td>\n      <td>7.305856</td>\n    </tr>\n    <tr>\n      <th>38</th>\n      <td>Santa Clara</td>\n      <td>3</td>\n      <td>10.921904</td>\n    </tr>\n    <tr>\n      <th>39</th>\n      <td>Santa Cruz</td>\n      <td>2</td>\n      <td>7.357709</td>\n    </tr>\n    <tr>\n      <th>40</th>\n      <td>Shasta</td>\n      <td>2</td>\n      <td>9.561677</td>\n    </tr>\n    <tr>\n      <th>41</th>\n      <td>Siskiyou</td>\n      <td>2</td>\n      <td>17.123734</td>\n    </tr>\n    <tr>\n      <th>42</th>\n      <td>Solano</td>\n      <td>1</td>\n      <td>12.437538</td>\n    </tr>\n    <tr>\n      <th>43</th>\n      <td>Sonoma</td>\n      <td>1</td>\n      <td>8.400000</td>\n    </tr>\n    <tr>\n      <th>44</th>\n      <td>Stanislaus</td>\n      <td>2</td>\n      <td>15.836625</td>\n    </tr>\n    <tr>\n      <th>45</th>\n      <td>Sutter</td>\n      <td>1</td>\n      <td>14.446821</td>\n    </tr>\n    <tr>\n      <th>46</th>\n      <td>Tehama</td>\n      <td>1</td>\n      <td>10.581267</td>\n    </tr>\n    <tr>\n      <th>47</th>\n      <td>Trinity</td>\n      <td>2</td>\n      <td>12.701907</td>\n    </tr>\n    <tr>\n      <th>48</th>\n      <td>Tulare</td>\n      <td>3</td>\n      <td>16.248419</td>\n    </tr>\n    <tr>\n      <th>49</th>\n      <td>Ventura</td>\n      <td>5</td>\n      <td>9.060714</td>\n    </tr>\n    <tr>\n      <th>50</th>\n      <td>Yolo</td>\n      <td>2</td>\n      <td>11.439303</td>\n    </tr>\n  </tbody>\n</table>\n</div>"
     },
     "execution_count": 33,
     "metadata": {},
     "output_type": "execute_result"
    }
   ],
   "source": [
    "#converting df_2018['Date'] to datetime \n",
    "df_2018['Date'] = pd.to_datetime(df_2018['Date'])\n",
    "#taking county average of pm 2.5 emissions  \n",
    "avg_pm_value =df_2018.groupby(['County'])['Daily Mean PM2.5 Concentration'].mean().reset_index()\n",
    "avg_pm_value.rename(columns={'Daily Mean PM2.5 Concentration': '2018 Average PM 2.5/County'}, inplace=True)\n",
    "\n",
    "avg_df_2018 = unique_sites_per_county.merge(avg_pm_value, on='County')\n",
    "avg_df_2018\n",
    "\n"
   ],
   "metadata": {
    "collapsed": false,
    "ExecuteTime": {
     "end_time": "2024-09-16T20:49:11.466416Z",
     "start_time": "2024-09-16T20:49:11.426283Z"
    }
   },
   "id": "36068d6af32b9737",
   "execution_count": 33
  },
  {
   "cell_type": "code",
   "outputs": [],
   "source": [],
   "metadata": {
    "collapsed": false,
    "ExecuteTime": {
     "end_time": "2024-09-16T20:38:12.412192Z",
     "start_time": "2024-09-16T20:38:12.411Z"
    }
   },
   "id": "173aef95ead14d3c",
   "execution_count": 26
  }
 ],
 "metadata": {
  "kernelspec": {
   "display_name": "Python 3",
   "language": "python",
   "name": "python3"
  },
  "language_info": {
   "codemirror_mode": {
    "name": "ipython",
    "version": 2
   },
   "file_extension": ".py",
   "mimetype": "text/x-python",
   "name": "python",
   "nbconvert_exporter": "python",
   "pygments_lexer": "ipython2",
   "version": "2.7.6"
  }
 },
 "nbformat": 4,
 "nbformat_minor": 5
}
