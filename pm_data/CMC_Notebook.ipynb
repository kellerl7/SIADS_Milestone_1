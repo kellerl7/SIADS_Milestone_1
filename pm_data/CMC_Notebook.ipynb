{
 "cells": [
  {
   "cell_type": "code",
   "outputs": [],
   "source": [
    "# import\n",
    "import pandas as pd"
   ],
   "metadata": {
    "collapsed": false,
    "ExecuteTime": {
     "end_time": "2024-09-23T22:02:27.496894Z",
     "start_time": "2024-09-23T22:02:27.162814Z"
    }
   },
   "id": "21a52acad280b471",
   "execution_count": 1
  },
  {
   "cell_type": "code",
   "outputs": [],
   "source": [
    "# import files \n",
    "main_df = pd.read_csv('/Users/clarissaclark/SIADS_Milestone_1/PM2.5_Vehicles_Population.csv')\n",
    "df_pop = pd.read_csv('/Users/clarissaclark/SIADS_Milestone_1/California_Population.csv') "
   ],
   "metadata": {
    "collapsed": false,
    "ExecuteTime": {
     "end_time": "2024-09-23T22:02:27.504465Z",
     "start_time": "2024-09-23T22:02:27.497841Z"
    }
   },
   "id": "e1920ddc5805565",
   "execution_count": 2
  },
  {
   "cell_type": "code",
   "outputs": [],
   "source": [
    "main_df['Population Z Score'] = main_df['Population Z Score'].round(2)"
   ],
   "metadata": {
    "collapsed": false,
    "ExecuteTime": {
     "end_time": "2024-09-23T22:03:17.205759Z",
     "start_time": "2024-09-23T22:03:17.189331Z"
    }
   },
   "id": "64c6accf7030fc0a",
   "execution_count": 9
  },
  {
   "cell_type": "code",
   "outputs": [],
   "source": [
    "# a study of alameda....you two don't have to follow this if you don't want...\n",
    "\n",
    "alameda = main_df[main_df['County'] == 'Alameda']\n"
   ],
   "metadata": {
    "collapsed": true,
    "ExecuteTime": {
     "end_time": "2024-09-23T22:03:18.374618Z",
     "start_time": "2024-09-23T22:03:18.370125Z"
    }
   },
   "id": "initial_id",
   "execution_count": 10
  },
  {
   "cell_type": "code",
   "outputs": [
    {
     "name": "stderr",
     "output_type": "stream",
     "text": [
      "/var/folders/zc/cqjcs2293rz1ymjq5gj5xxb00000gn/T/ipykernel_20807/295640408.py:5: SettingWithCopyWarning: \n",
      "A value is trying to be set on a copy of a slice from a DataFrame.\n",
      "Try using .loc[row_indexer,col_indexer] = value instead\n",
      "\n",
      "See the caveats in the documentation: https://pandas.pydata.org/pandas-docs/stable/user_guide/indexing.html#returning-a-view-versus-a-copy\n",
      "  alameda.loc[:,'Gas/Total Cars'] = (alameda['Number of Gas Cars'] / alameda['Total Cars']).round(2)\n"
     ]
    },
    {
     "data": {
      "text/plain": "     Population Z Score  Total Cars/Population  EV/Total Cars  Gas/Total Cars\n0                  0.03                   0.59           0.00            1.00\n51                 0.04                   0.58           0.00            1.00\n103                0.04                   0.57           0.00            1.00\n155                0.05                   0.58           0.00            1.00\n207                0.05                   0.60           0.01            0.99\n259                0.06                   0.60           0.01            0.99\n311                0.06                   0.62           0.02            0.98\n363                0.06                   0.69           0.02            0.98\n414                0.06                   0.69           0.03            0.97\n465                0.07                   0.69           0.04            0.96\n516                0.07                   0.67           0.04            0.96\n567                0.07                   0.67           0.04            0.96\n618                0.06                   0.69           0.06            0.94\n668                0.06                   0.68           0.09            0.91\n718                0.06                    NaN            NaN             NaN",
      "text/html": "<div>\n<style scoped>\n    .dataframe tbody tr th:only-of-type {\n        vertical-align: middle;\n    }\n\n    .dataframe tbody tr th {\n        vertical-align: top;\n    }\n\n    .dataframe thead th {\n        text-align: right;\n    }\n</style>\n<table border=\"1\" class=\"dataframe\">\n  <thead>\n    <tr style=\"text-align: right;\">\n      <th></th>\n      <th>Population Z Score</th>\n      <th>Total Cars/Population</th>\n      <th>EV/Total Cars</th>\n      <th>Gas/Total Cars</th>\n    </tr>\n  </thead>\n  <tbody>\n    <tr>\n      <th>0</th>\n      <td>0.03</td>\n      <td>0.59</td>\n      <td>0.00</td>\n      <td>1.00</td>\n    </tr>\n    <tr>\n      <th>51</th>\n      <td>0.04</td>\n      <td>0.58</td>\n      <td>0.00</td>\n      <td>1.00</td>\n    </tr>\n    <tr>\n      <th>103</th>\n      <td>0.04</td>\n      <td>0.57</td>\n      <td>0.00</td>\n      <td>1.00</td>\n    </tr>\n    <tr>\n      <th>155</th>\n      <td>0.05</td>\n      <td>0.58</td>\n      <td>0.00</td>\n      <td>1.00</td>\n    </tr>\n    <tr>\n      <th>207</th>\n      <td>0.05</td>\n      <td>0.60</td>\n      <td>0.01</td>\n      <td>0.99</td>\n    </tr>\n    <tr>\n      <th>259</th>\n      <td>0.06</td>\n      <td>0.60</td>\n      <td>0.01</td>\n      <td>0.99</td>\n    </tr>\n    <tr>\n      <th>311</th>\n      <td>0.06</td>\n      <td>0.62</td>\n      <td>0.02</td>\n      <td>0.98</td>\n    </tr>\n    <tr>\n      <th>363</th>\n      <td>0.06</td>\n      <td>0.69</td>\n      <td>0.02</td>\n      <td>0.98</td>\n    </tr>\n    <tr>\n      <th>414</th>\n      <td>0.06</td>\n      <td>0.69</td>\n      <td>0.03</td>\n      <td>0.97</td>\n    </tr>\n    <tr>\n      <th>465</th>\n      <td>0.07</td>\n      <td>0.69</td>\n      <td>0.04</td>\n      <td>0.96</td>\n    </tr>\n    <tr>\n      <th>516</th>\n      <td>0.07</td>\n      <td>0.67</td>\n      <td>0.04</td>\n      <td>0.96</td>\n    </tr>\n    <tr>\n      <th>567</th>\n      <td>0.07</td>\n      <td>0.67</td>\n      <td>0.04</td>\n      <td>0.96</td>\n    </tr>\n    <tr>\n      <th>618</th>\n      <td>0.06</td>\n      <td>0.69</td>\n      <td>0.06</td>\n      <td>0.94</td>\n    </tr>\n    <tr>\n      <th>668</th>\n      <td>0.06</td>\n      <td>0.68</td>\n      <td>0.09</td>\n      <td>0.91</td>\n    </tr>\n    <tr>\n      <th>718</th>\n      <td>0.06</td>\n      <td>NaN</td>\n      <td>NaN</td>\n      <td>NaN</td>\n    </tr>\n  </tbody>\n</table>\n</div>"
     },
     "execution_count": 13,
     "metadata": {},
     "output_type": "execute_result"
    }
   ],
   "source": [
    "# total regestered car users/population \n",
    "alameda.loc[:,'Total Cars'] = alameda['Number of Gas Cars'] + alameda['Number of EV']\n",
    "alameda.loc[:,'Total Cars/Population'] = (alameda['Total Cars'] / alameda['Population']).round(2)\n",
    "alameda.loc[:,'EV/Total Cars'] = (alameda['Number of EV'] / alameda['Total Cars']).round(2)\n",
    "alameda.loc[:,'Gas/Total Cars'] = (alameda['Number of Gas Cars'] / alameda['Total Cars']).round(2)\n",
    "alameda[['Population Z Score','Total Cars/Population', 'EV/Total Cars', 'Gas/Total Cars']]\n",
    "\n",
    "# ev cars/population"
   ],
   "metadata": {
    "collapsed": false,
    "ExecuteTime": {
     "end_time": "2024-09-23T22:15:24.484694Z",
     "start_time": "2024-09-23T22:15:24.445905Z"
    }
   },
   "id": "e9804d930dda2b1c",
   "execution_count": 13
  },
  {
   "cell_type": "code",
   "outputs": [],
   "source": [
    "# so as more people got cars, more ev were regestered. \n",
    "# what is the relationship between population growth and ev adaptation?\n",
    "## it seems to be positive, direct relationship \n",
    "## so as more population increases, ev car adaption also increases. i wonder if this is the same across counties? "
   ],
   "metadata": {
    "collapsed": false,
    "ExecuteTime": {
     "end_time": "2024-09-23T22:18:16.265590Z",
     "start_time": "2024-09-23T22:18:16.258402Z"
    }
   },
   "id": "d0801841e44c3b1d",
   "execution_count": 14
  },
  {
   "cell_type": "code",
   "outputs": [],
   "source": [],
   "metadata": {
    "collapsed": false,
    "ExecuteTime": {
     "end_time": "2024-09-23T22:02:27.531712Z",
     "start_time": "2024-09-23T22:02:27.530514Z"
    }
   },
   "id": "54e337ecb9517446",
   "execution_count": 6
  }
 ],
 "metadata": {
  "kernelspec": {
   "display_name": "Python 3",
   "language": "python",
   "name": "python3"
  },
  "language_info": {
   "codemirror_mode": {
    "name": "ipython",
    "version": 2
   },
   "file_extension": ".py",
   "mimetype": "text/x-python",
   "name": "python",
   "nbconvert_exporter": "python",
   "pygments_lexer": "ipython2",
   "version": "2.7.6"
  }
 },
 "nbformat": 4,
 "nbformat_minor": 5
}
