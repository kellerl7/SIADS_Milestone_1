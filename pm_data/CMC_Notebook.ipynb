{
 "cells": [
  {
   "cell_type": "code",
   "outputs": [],
   "source": [
    "import os\n",
    "\n",
    "# import\n",
    "import pandas as pd"
   ],
   "metadata": {
    "collapsed": false,
    "ExecuteTime": {
     "end_time": "2024-09-27T20:46:05.033496Z",
     "start_time": "2024-09-27T20:46:04.705464Z"
    }
   },
   "id": "21a52acad280b471",
   "execution_count": 1
  },
  {
   "cell_type": "code",
   "outputs": [],
   "source": [
    "# import files \n",
    "main_df = pd.read_csv('../PM2.5_Vehicles_Population.csv')\n",
    "df_pop = pd.read_csv('../California_Population.csv') "
   ],
   "metadata": {
    "collapsed": false,
    "ExecuteTime": {
     "end_time": "2024-09-27T20:46:05.040341Z",
     "start_time": "2024-09-27T20:46:05.034524Z"
    }
   },
   "id": "e1920ddc5805565",
   "execution_count": 2
  },
  {
   "cell_type": "code",
   "outputs": [
    {
     "data": {
      "text/plain": "        County  Data Year  Population  Population Z Score  Number of Gas Cars  \\\n0      Alameda       2010     1510271            0.033519              885402   \n1       Amador       2010       38091           -0.251576               30480   \n2        Butte       2010      220000           -0.216348              133169   \n3    Calaveras       2010       45578           -0.250126               39636   \n4       Colusa       2010       21419           -0.254805               14610   \n..         ...        ...         ...                 ...                 ...   \n793     Tulare       2023      474680           -0.167028              331744   \n794   Tuolumne       2023       54626           -0.248374               54369   \n795    Ventura       2023      825960           -0.099001              651851   \n796       Yolo       2023      220454           -0.216260              152560   \n797       Yuba       2023       82814           -0.242915               57567   \n\n     Number of EV  Population_y  Z Score_y  \n0              20       1510271   0.033519  \n1               1         38091  -0.251576  \n2               0        220000  -0.216348  \n3               0         45578  -0.250126  \n4               0         21419  -0.254805  \n..            ...           ...        ...  \n793          3837        474680  -0.167028  \n794           698         54626  -0.248374  \n795         31980        825960  -0.099001  \n796          6757        220454  -0.216260  \n797           961         82814  -0.242915  \n\n[798 rows x 8 columns]",
      "text/html": "<div>\n<style scoped>\n    .dataframe tbody tr th:only-of-type {\n        vertical-align: middle;\n    }\n\n    .dataframe tbody tr th {\n        vertical-align: top;\n    }\n\n    .dataframe thead th {\n        text-align: right;\n    }\n</style>\n<table border=\"1\" class=\"dataframe\">\n  <thead>\n    <tr style=\"text-align: right;\">\n      <th></th>\n      <th>County</th>\n      <th>Data Year</th>\n      <th>Population</th>\n      <th>Population Z Score</th>\n      <th>Number of Gas Cars</th>\n      <th>Number of EV</th>\n      <th>Population_y</th>\n      <th>Z Score_y</th>\n    </tr>\n  </thead>\n  <tbody>\n    <tr>\n      <th>0</th>\n      <td>Alameda</td>\n      <td>2010</td>\n      <td>1510271</td>\n      <td>0.033519</td>\n      <td>885402</td>\n      <td>20</td>\n      <td>1510271</td>\n      <td>0.033519</td>\n    </tr>\n    <tr>\n      <th>1</th>\n      <td>Amador</td>\n      <td>2010</td>\n      <td>38091</td>\n      <td>-0.251576</td>\n      <td>30480</td>\n      <td>1</td>\n      <td>38091</td>\n      <td>-0.251576</td>\n    </tr>\n    <tr>\n      <th>2</th>\n      <td>Butte</td>\n      <td>2010</td>\n      <td>220000</td>\n      <td>-0.216348</td>\n      <td>133169</td>\n      <td>0</td>\n      <td>220000</td>\n      <td>-0.216348</td>\n    </tr>\n    <tr>\n      <th>3</th>\n      <td>Calaveras</td>\n      <td>2010</td>\n      <td>45578</td>\n      <td>-0.250126</td>\n      <td>39636</td>\n      <td>0</td>\n      <td>45578</td>\n      <td>-0.250126</td>\n    </tr>\n    <tr>\n      <th>4</th>\n      <td>Colusa</td>\n      <td>2010</td>\n      <td>21419</td>\n      <td>-0.254805</td>\n      <td>14610</td>\n      <td>0</td>\n      <td>21419</td>\n      <td>-0.254805</td>\n    </tr>\n    <tr>\n      <th>...</th>\n      <td>...</td>\n      <td>...</td>\n      <td>...</td>\n      <td>...</td>\n      <td>...</td>\n      <td>...</td>\n      <td>...</td>\n      <td>...</td>\n    </tr>\n    <tr>\n      <th>793</th>\n      <td>Tulare</td>\n      <td>2023</td>\n      <td>474680</td>\n      <td>-0.167028</td>\n      <td>331744</td>\n      <td>3837</td>\n      <td>474680</td>\n      <td>-0.167028</td>\n    </tr>\n    <tr>\n      <th>794</th>\n      <td>Tuolumne</td>\n      <td>2023</td>\n      <td>54626</td>\n      <td>-0.248374</td>\n      <td>54369</td>\n      <td>698</td>\n      <td>54626</td>\n      <td>-0.248374</td>\n    </tr>\n    <tr>\n      <th>795</th>\n      <td>Ventura</td>\n      <td>2023</td>\n      <td>825960</td>\n      <td>-0.099001</td>\n      <td>651851</td>\n      <td>31980</td>\n      <td>825960</td>\n      <td>-0.099001</td>\n    </tr>\n    <tr>\n      <th>796</th>\n      <td>Yolo</td>\n      <td>2023</td>\n      <td>220454</td>\n      <td>-0.216260</td>\n      <td>152560</td>\n      <td>6757</td>\n      <td>220454</td>\n      <td>-0.216260</td>\n    </tr>\n    <tr>\n      <th>797</th>\n      <td>Yuba</td>\n      <td>2023</td>\n      <td>82814</td>\n      <td>-0.242915</td>\n      <td>57567</td>\n      <td>961</td>\n      <td>82814</td>\n      <td>-0.242915</td>\n    </tr>\n  </tbody>\n</table>\n<p>798 rows × 8 columns</p>\n</div>"
     },
     "execution_count": 3,
     "metadata": {},
     "output_type": "execute_result"
    }
   ],
   "source": [
    "main_df\n",
    "# main_df['Population Z Score'] = main_df['Population Z Score'].round(2)"
   ],
   "metadata": {
    "collapsed": false,
    "ExecuteTime": {
     "end_time": "2024-09-27T20:46:05.049148Z",
     "start_time": "2024-09-27T20:46:05.041081Z"
    }
   },
   "id": "64c6accf7030fc0a",
   "execution_count": 3
  },
  {
   "cell_type": "code",
   "outputs": [],
   "source": [
    "# total regestered car users/population \n",
    "def create_comparison(county):\n",
    "    df = main_df[main_df['County'] == county]\n",
    "    df.loc[:,'Total Cars'] = df['Number of Gas Cars'] + df['Number of EV']\n",
    "    df.loc[:,'Total Cars/Population'] = (df['Total Cars'] / df['Population']).round(2)\n",
    "    df.loc[:,'EV/Total Cars'] = (df['Number of EV'] / df['Total Cars']).round(2)\n",
    "    df.loc[:,'Gas/Total Cars'] = (df['Number of Gas Cars'] / df['Total Cars']).round(2)\n",
    "    return df[['Population Z Score','Total Cars/Population', 'EV/Total Cars', 'Gas/Total Cars']] \n"
   ],
   "metadata": {
    "collapsed": false,
    "ExecuteTime": {
     "end_time": "2024-09-27T20:46:05.053714Z",
     "start_time": "2024-09-27T20:46:05.050435Z"
    }
   },
   "id": "e9804d930dda2b1c",
   "execution_count": 4
  },
  {
   "cell_type": "code",
   "outputs": [],
   "source": [
    "# so as more people got cars, more ev were regestered. \n",
    "# what is the relationship between population growth and ev adaptation?\n",
    "## it seems to be positive, direct relationship \n",
    "## so as more population increases, ev car adaption also increases. i wonder if this is the same across counties? "
   ],
   "metadata": {
    "collapsed": false,
    "ExecuteTime": {
     "end_time": "2024-09-27T20:46:05.058766Z",
     "start_time": "2024-09-27T20:46:05.056594Z"
    }
   },
   "id": "d0801841e44c3b1d",
   "execution_count": 5
  },
  {
   "cell_type": "code",
   "outputs": [
    {
     "name": "stderr",
     "output_type": "stream",
     "text": [
      "/var/folders/zc/cqjcs2293rz1ymjq5gj5xxb00000gn/T/ipykernel_45287/593708073.py:4: SettingWithCopyWarning: \n",
      "A value is trying to be set on a copy of a slice from a DataFrame.\n",
      "Try using .loc[row_indexer,col_indexer] = value instead\n",
      "\n",
      "See the caveats in the documentation: https://pandas.pydata.org/pandas-docs/stable/user_guide/indexing.html#returning-a-view-versus-a-copy\n",
      "  df.loc[:,'Total Cars'] = df['Number of Gas Cars'] + df['Number of EV']\n",
      "/var/folders/zc/cqjcs2293rz1ymjq5gj5xxb00000gn/T/ipykernel_45287/593708073.py:5: SettingWithCopyWarning: \n",
      "A value is trying to be set on a copy of a slice from a DataFrame.\n",
      "Try using .loc[row_indexer,col_indexer] = value instead\n",
      "\n",
      "See the caveats in the documentation: https://pandas.pydata.org/pandas-docs/stable/user_guide/indexing.html#returning-a-view-versus-a-copy\n",
      "  df.loc[:,'Total Cars/Population'] = (df['Total Cars'] / df['Population']).round(2)\n",
      "/var/folders/zc/cqjcs2293rz1ymjq5gj5xxb00000gn/T/ipykernel_45287/593708073.py:6: SettingWithCopyWarning: \n",
      "A value is trying to be set on a copy of a slice from a DataFrame.\n",
      "Try using .loc[row_indexer,col_indexer] = value instead\n",
      "\n",
      "See the caveats in the documentation: https://pandas.pydata.org/pandas-docs/stable/user_guide/indexing.html#returning-a-view-versus-a-copy\n",
      "  df.loc[:,'EV/Total Cars'] = (df['Number of EV'] / df['Total Cars']).round(2)\n",
      "/var/folders/zc/cqjcs2293rz1ymjq5gj5xxb00000gn/T/ipykernel_45287/593708073.py:7: SettingWithCopyWarning: \n",
      "A value is trying to be set on a copy of a slice from a DataFrame.\n",
      "Try using .loc[row_indexer,col_indexer] = value instead\n",
      "\n",
      "See the caveats in the documentation: https://pandas.pydata.org/pandas-docs/stable/user_guide/indexing.html#returning-a-view-versus-a-copy\n",
      "  df.loc[:,'Gas/Total Cars'] = (df['Number of Gas Cars'] / df['Total Cars']).round(2)\n"
     ]
    },
    {
     "data": {
      "text/plain": "     Population Z Score  Total Cars/Population  EV/Total Cars  Gas/Total Cars\n35             0.340471                   0.62           0.00            1.00\n92             0.346217                   0.61           0.00            1.00\n149            0.352168                   0.61           0.00            1.00\n206            0.358870                   0.63           0.00            1.00\n263            0.364561                   0.64           0.00            1.00\n320            0.370074                   0.65           0.01            0.99\n377            0.372945                   0.67           0.01            0.99\n434            0.376209                   0.75           0.01            0.99\n491            0.378975                   0.75           0.01            0.99\n548            0.380665                   0.76           0.02            0.98\n605            0.379597                   0.75           0.02            0.98\n662            0.377569                   0.79           0.03            0.97\n719            0.375991                   0.78           0.04            0.96\n776            0.378255                   0.78           0.05            0.95",
      "text/html": "<div>\n<style scoped>\n    .dataframe tbody tr th:only-of-type {\n        vertical-align: middle;\n    }\n\n    .dataframe tbody tr th {\n        vertical-align: top;\n    }\n\n    .dataframe thead th {\n        text-align: right;\n    }\n</style>\n<table border=\"1\" class=\"dataframe\">\n  <thead>\n    <tr style=\"text-align: right;\">\n      <th></th>\n      <th>Population Z Score</th>\n      <th>Total Cars/Population</th>\n      <th>EV/Total Cars</th>\n      <th>Gas/Total Cars</th>\n    </tr>\n  </thead>\n  <tbody>\n    <tr>\n      <th>35</th>\n      <td>0.340471</td>\n      <td>0.62</td>\n      <td>0.00</td>\n      <td>1.00</td>\n    </tr>\n    <tr>\n      <th>92</th>\n      <td>0.346217</td>\n      <td>0.61</td>\n      <td>0.00</td>\n      <td>1.00</td>\n    </tr>\n    <tr>\n      <th>149</th>\n      <td>0.352168</td>\n      <td>0.61</td>\n      <td>0.00</td>\n      <td>1.00</td>\n    </tr>\n    <tr>\n      <th>206</th>\n      <td>0.358870</td>\n      <td>0.63</td>\n      <td>0.00</td>\n      <td>1.00</td>\n    </tr>\n    <tr>\n      <th>263</th>\n      <td>0.364561</td>\n      <td>0.64</td>\n      <td>0.00</td>\n      <td>1.00</td>\n    </tr>\n    <tr>\n      <th>320</th>\n      <td>0.370074</td>\n      <td>0.65</td>\n      <td>0.01</td>\n      <td>0.99</td>\n    </tr>\n    <tr>\n      <th>377</th>\n      <td>0.372945</td>\n      <td>0.67</td>\n      <td>0.01</td>\n      <td>0.99</td>\n    </tr>\n    <tr>\n      <th>434</th>\n      <td>0.376209</td>\n      <td>0.75</td>\n      <td>0.01</td>\n      <td>0.99</td>\n    </tr>\n    <tr>\n      <th>491</th>\n      <td>0.378975</td>\n      <td>0.75</td>\n      <td>0.01</td>\n      <td>0.99</td>\n    </tr>\n    <tr>\n      <th>548</th>\n      <td>0.380665</td>\n      <td>0.76</td>\n      <td>0.02</td>\n      <td>0.98</td>\n    </tr>\n    <tr>\n      <th>605</th>\n      <td>0.379597</td>\n      <td>0.75</td>\n      <td>0.02</td>\n      <td>0.98</td>\n    </tr>\n    <tr>\n      <th>662</th>\n      <td>0.377569</td>\n      <td>0.79</td>\n      <td>0.03</td>\n      <td>0.97</td>\n    </tr>\n    <tr>\n      <th>719</th>\n      <td>0.375991</td>\n      <td>0.78</td>\n      <td>0.04</td>\n      <td>0.96</td>\n    </tr>\n    <tr>\n      <th>776</th>\n      <td>0.378255</td>\n      <td>0.78</td>\n      <td>0.05</td>\n      <td>0.95</td>\n    </tr>\n  </tbody>\n</table>\n</div>"
     },
     "execution_count": 6,
     "metadata": {},
     "output_type": "execute_result"
    }
   ],
   "source": [
    "san_diego = create_comparison('San Diego')\n",
    "san_diego"
   ],
   "metadata": {
    "collapsed": false,
    "ExecuteTime": {
     "end_time": "2024-09-27T20:46:05.067102Z",
     "start_time": "2024-09-27T20:46:05.060274Z"
    }
   },
   "id": "54e337ecb9517446",
   "execution_count": 6
  },
  {
   "cell_type": "code",
   "outputs": [
    {
     "name": "stderr",
     "output_type": "stream",
     "text": [
      "/var/folders/zc/cqjcs2293rz1ymjq5gj5xxb00000gn/T/ipykernel_45287/593708073.py:4: SettingWithCopyWarning: \n",
      "A value is trying to be set on a copy of a slice from a DataFrame.\n",
      "Try using .loc[row_indexer,col_indexer] = value instead\n",
      "\n",
      "See the caveats in the documentation: https://pandas.pydata.org/pandas-docs/stable/user_guide/indexing.html#returning-a-view-versus-a-copy\n",
      "  df.loc[:,'Total Cars'] = df['Number of Gas Cars'] + df['Number of EV']\n",
      "/var/folders/zc/cqjcs2293rz1ymjq5gj5xxb00000gn/T/ipykernel_45287/593708073.py:5: SettingWithCopyWarning: \n",
      "A value is trying to be set on a copy of a slice from a DataFrame.\n",
      "Try using .loc[row_indexer,col_indexer] = value instead\n",
      "\n",
      "See the caveats in the documentation: https://pandas.pydata.org/pandas-docs/stable/user_guide/indexing.html#returning-a-view-versus-a-copy\n",
      "  df.loc[:,'Total Cars/Population'] = (df['Total Cars'] / df['Population']).round(2)\n",
      "/var/folders/zc/cqjcs2293rz1ymjq5gj5xxb00000gn/T/ipykernel_45287/593708073.py:6: SettingWithCopyWarning: \n",
      "A value is trying to be set on a copy of a slice from a DataFrame.\n",
      "Try using .loc[row_indexer,col_indexer] = value instead\n",
      "\n",
      "See the caveats in the documentation: https://pandas.pydata.org/pandas-docs/stable/user_guide/indexing.html#returning-a-view-versus-a-copy\n",
      "  df.loc[:,'EV/Total Cars'] = (df['Number of EV'] / df['Total Cars']).round(2)\n",
      "/var/folders/zc/cqjcs2293rz1ymjq5gj5xxb00000gn/T/ipykernel_45287/593708073.py:7: SettingWithCopyWarning: \n",
      "A value is trying to be set on a copy of a slice from a DataFrame.\n",
      "Try using .loc[row_indexer,col_indexer] = value instead\n",
      "\n",
      "See the caveats in the documentation: https://pandas.pydata.org/pandas-docs/stable/user_guide/indexing.html#returning-a-view-versus-a-copy\n",
      "  df.loc[:,'Gas/Total Cars'] = (df['Number of Gas Cars'] / df['Total Cars']).round(2)\n"
     ]
    }
   ],
   "source": [
    "los_angeles = create_comparison('Los Angeles')\n",
    "# los_angeles"
   ],
   "metadata": {
    "collapsed": false,
    "ExecuteTime": {
     "end_time": "2024-09-27T20:46:05.071125Z",
     "start_time": "2024-09-27T20:46:05.067726Z"
    }
   },
   "id": "5d4031cf5e26d839",
   "execution_count": 7
  },
  {
   "cell_type": "code",
   "outputs": [
    {
     "name": "stderr",
     "output_type": "stream",
     "text": [
      "/var/folders/zc/cqjcs2293rz1ymjq5gj5xxb00000gn/T/ipykernel_45287/593708073.py:4: SettingWithCopyWarning: \n",
      "A value is trying to be set on a copy of a slice from a DataFrame.\n",
      "Try using .loc[row_indexer,col_indexer] = value instead\n",
      "\n",
      "See the caveats in the documentation: https://pandas.pydata.org/pandas-docs/stable/user_guide/indexing.html#returning-a-view-versus-a-copy\n",
      "  df.loc[:,'Total Cars'] = df['Number of Gas Cars'] + df['Number of EV']\n",
      "/var/folders/zc/cqjcs2293rz1ymjq5gj5xxb00000gn/T/ipykernel_45287/593708073.py:5: SettingWithCopyWarning: \n",
      "A value is trying to be set on a copy of a slice from a DataFrame.\n",
      "Try using .loc[row_indexer,col_indexer] = value instead\n",
      "\n",
      "See the caveats in the documentation: https://pandas.pydata.org/pandas-docs/stable/user_guide/indexing.html#returning-a-view-versus-a-copy\n",
      "  df.loc[:,'Total Cars/Population'] = (df['Total Cars'] / df['Population']).round(2)\n",
      "/var/folders/zc/cqjcs2293rz1ymjq5gj5xxb00000gn/T/ipykernel_45287/593708073.py:6: SettingWithCopyWarning: \n",
      "A value is trying to be set on a copy of a slice from a DataFrame.\n",
      "Try using .loc[row_indexer,col_indexer] = value instead\n",
      "\n",
      "See the caveats in the documentation: https://pandas.pydata.org/pandas-docs/stable/user_guide/indexing.html#returning-a-view-versus-a-copy\n",
      "  df.loc[:,'EV/Total Cars'] = (df['Number of EV'] / df['Total Cars']).round(2)\n",
      "/var/folders/zc/cqjcs2293rz1ymjq5gj5xxb00000gn/T/ipykernel_45287/593708073.py:7: SettingWithCopyWarning: \n",
      "A value is trying to be set on a copy of a slice from a DataFrame.\n",
      "Try using .loc[row_indexer,col_indexer] = value instead\n",
      "\n",
      "See the caveats in the documentation: https://pandas.pydata.org/pandas-docs/stable/user_guide/indexing.html#returning-a-view-versus-a-copy\n",
      "  df.loc[:,'Gas/Total Cars'] = (df['Number of Gas Cars'] / df['Total Cars']).round(2)\n"
     ]
    }
   ],
   "source": [
    "orange = create_comparison('Orange')\n",
    "# orange"
   ],
   "metadata": {
    "collapsed": false,
    "ExecuteTime": {
     "end_time": "2024-09-27T20:46:05.075292Z",
     "start_time": "2024-09-27T20:46:05.071698Z"
    }
   },
   "id": "e07223ab3c8ca3f1",
   "execution_count": 8
  },
  {
   "cell_type": "code",
   "outputs": [
    {
     "name": "stderr",
     "output_type": "stream",
     "text": [
      "/var/folders/zc/cqjcs2293rz1ymjq5gj5xxb00000gn/T/ipykernel_45287/593708073.py:4: SettingWithCopyWarning: \n",
      "A value is trying to be set on a copy of a slice from a DataFrame.\n",
      "Try using .loc[row_indexer,col_indexer] = value instead\n",
      "\n",
      "See the caveats in the documentation: https://pandas.pydata.org/pandas-docs/stable/user_guide/indexing.html#returning-a-view-versus-a-copy\n",
      "  df.loc[:,'Total Cars'] = df['Number of Gas Cars'] + df['Number of EV']\n",
      "/var/folders/zc/cqjcs2293rz1ymjq5gj5xxb00000gn/T/ipykernel_45287/593708073.py:5: SettingWithCopyWarning: \n",
      "A value is trying to be set on a copy of a slice from a DataFrame.\n",
      "Try using .loc[row_indexer,col_indexer] = value instead\n",
      "\n",
      "See the caveats in the documentation: https://pandas.pydata.org/pandas-docs/stable/user_guide/indexing.html#returning-a-view-versus-a-copy\n",
      "  df.loc[:,'Total Cars/Population'] = (df['Total Cars'] / df['Population']).round(2)\n",
      "/var/folders/zc/cqjcs2293rz1ymjq5gj5xxb00000gn/T/ipykernel_45287/593708073.py:6: SettingWithCopyWarning: \n",
      "A value is trying to be set on a copy of a slice from a DataFrame.\n",
      "Try using .loc[row_indexer,col_indexer] = value instead\n",
      "\n",
      "See the caveats in the documentation: https://pandas.pydata.org/pandas-docs/stable/user_guide/indexing.html#returning-a-view-versus-a-copy\n",
      "  df.loc[:,'EV/Total Cars'] = (df['Number of EV'] / df['Total Cars']).round(2)\n",
      "/var/folders/zc/cqjcs2293rz1ymjq5gj5xxb00000gn/T/ipykernel_45287/593708073.py:7: SettingWithCopyWarning: \n",
      "A value is trying to be set on a copy of a slice from a DataFrame.\n",
      "Try using .loc[row_indexer,col_indexer] = value instead\n",
      "\n",
      "See the caveats in the documentation: https://pandas.pydata.org/pandas-docs/stable/user_guide/indexing.html#returning-a-view-versus-a-copy\n",
      "  df.loc[:,'Gas/Total Cars'] = (df['Number of Gas Cars'] / df['Total Cars']).round(2)\n"
     ]
    }
   ],
   "source": [
    "san_fran =  create_comparison('San Francisco')\n",
    "# san_fran"
   ],
   "metadata": {
    "collapsed": false,
    "ExecuteTime": {
     "end_time": "2024-09-27T20:46:05.079589Z",
     "start_time": "2024-09-27T20:46:05.075852Z"
    }
   },
   "id": "4acce750147f2119",
   "execution_count": 9
  },
  {
   "cell_type": "code",
   "outputs": [
    {
     "name": "stderr",
     "output_type": "stream",
     "text": [
      "/var/folders/zc/cqjcs2293rz1ymjq5gj5xxb00000gn/T/ipykernel_45287/593708073.py:4: SettingWithCopyWarning: \n",
      "A value is trying to be set on a copy of a slice from a DataFrame.\n",
      "Try using .loc[row_indexer,col_indexer] = value instead\n",
      "\n",
      "See the caveats in the documentation: https://pandas.pydata.org/pandas-docs/stable/user_guide/indexing.html#returning-a-view-versus-a-copy\n",
      "  df.loc[:,'Total Cars'] = df['Number of Gas Cars'] + df['Number of EV']\n",
      "/var/folders/zc/cqjcs2293rz1ymjq5gj5xxb00000gn/T/ipykernel_45287/593708073.py:5: SettingWithCopyWarning: \n",
      "A value is trying to be set on a copy of a slice from a DataFrame.\n",
      "Try using .loc[row_indexer,col_indexer] = value instead\n",
      "\n",
      "See the caveats in the documentation: https://pandas.pydata.org/pandas-docs/stable/user_guide/indexing.html#returning-a-view-versus-a-copy\n",
      "  df.loc[:,'Total Cars/Population'] = (df['Total Cars'] / df['Population']).round(2)\n",
      "/var/folders/zc/cqjcs2293rz1ymjq5gj5xxb00000gn/T/ipykernel_45287/593708073.py:6: SettingWithCopyWarning: \n",
      "A value is trying to be set on a copy of a slice from a DataFrame.\n",
      "Try using .loc[row_indexer,col_indexer] = value instead\n",
      "\n",
      "See the caveats in the documentation: https://pandas.pydata.org/pandas-docs/stable/user_guide/indexing.html#returning-a-view-versus-a-copy\n",
      "  df.loc[:,'EV/Total Cars'] = (df['Number of EV'] / df['Total Cars']).round(2)\n",
      "/var/folders/zc/cqjcs2293rz1ymjq5gj5xxb00000gn/T/ipykernel_45287/593708073.py:7: SettingWithCopyWarning: \n",
      "A value is trying to be set on a copy of a slice from a DataFrame.\n",
      "Try using .loc[row_indexer,col_indexer] = value instead\n",
      "\n",
      "See the caveats in the documentation: https://pandas.pydata.org/pandas-docs/stable/user_guide/indexing.html#returning-a-view-versus-a-copy\n",
      "  df.loc[:,'Gas/Total Cars'] = (df['Number of Gas Cars'] / df['Total Cars']).round(2)\n"
     ]
    }
   ],
   "source": [
    "mono = create_comparison('Mono')\n",
    "# mono "
   ],
   "metadata": {
    "collapsed": false,
    "ExecuteTime": {
     "end_time": "2024-09-27T20:46:05.083390Z",
     "start_time": "2024-09-27T20:46:05.080207Z"
    }
   },
   "id": "911c6e23c4588b49",
   "execution_count": 10
  },
  {
   "cell_type": "code",
   "outputs": [],
   "source": [
    "# is this crazy?\n",
    "# function takes dataset from online and turns it into a merge-able df for main_df "
   ],
   "metadata": {
    "collapsed": false,
    "ExecuteTime": {
     "end_time": "2024-09-27T20:46:05.085930Z",
     "start_time": "2024-09-27T20:46:05.084400Z"
    }
   },
   "id": "fc9ad87dd8e13bb5",
   "execution_count": 11
  },
  {
   "cell_type": "code",
   "outputs": [],
   "source": [
    "def aged_population(dataset, datayear):\n",
    "    # load files \n",
    "    df = pd.read_csv(dataset)\n",
    "    df = df.loc[[28]]\n",
    "    # extract unique county names\n",
    "    county_names = [col.split(\"!!\")[0] for col in df.columns if \"California\" in col]\n",
    "    county_names = list(set(county_names))\n",
    "    # extract county total and margin of error from main dataset\n",
    "    county_total = [f\"{county}!!Total!!Estimate\" for county in county_names]\n",
    "    county_margin_of_error = [f\"{county}!!Total!!Margin of Error\" for county in county_names]\n",
    "    # making df of those\n",
    "    county_total = df.loc[:, county_total]\n",
    "    county_margin_of_error = df.loc[:, county_margin_of_error]\n",
    "    # creating county total population estimate df \n",
    "    ct_df =county_total.transpose()\n",
    "    ct_df = ct_df.reset_index() \n",
    "    ct_df.columns = ['County' , 'Total Population Estimate, >21']\n",
    "    ct_df['County'] = ct_df['County'].str.split(' County').str[0]\n",
    "    ct_df = ct_df.sort_values(by='County', ascending=True).reset_index(drop=True)\n",
    "    \n",
    "    # creating county margin of error \n",
    "    me_df = county_margin_of_error.transpose()\n",
    "    me_df = me_df.reset_index() \n",
    "    me_df.columns = ['County' , 'Total Margin of Error, >21']\n",
    "    me_df['County'] = me_df['County'].str.split(' County').str[0]\n",
    "    me_df = me_df.sort_values(by='County', ascending=True).reset_index(drop=True) \n",
    "    \n",
    "    # merging on county \n",
    "    ct_me_df = pd.merge(ct_df, me_df, how='inner', on = ['County'])\n",
    "    ct_me_df['Data Year'] = datayear\n",
    "    return ct_me_df"
   ],
   "metadata": {
    "collapsed": false,
    "ExecuteTime": {
     "end_time": "2024-09-27T20:46:05.090809Z",
     "start_time": "2024-09-27T20:46:05.086547Z"
    }
   },
   "id": "9c4b77dcee1a9bf9",
   "execution_count": 12
  },
  {
   "cell_type": "code",
   "outputs": [
    {
     "data": {
      "text/plain": "             County Total Population Estimate, >21 Total Margin of Error, >21  \\\n0           Alameda                      1,270,381                     ±1,184   \n1            Alpine                          1,108                       ±165   \n2            Amador                         33,126                       ±289   \n3             Butte                        157,922                       ±778   \n4         Calaveras                         36,839                       ±276   \n5            Colusa                         15,240                       ±152   \n6      Contra Costa                        863,447                       ±971   \n7         Del Norte                         21,024                       ±202   \n8         El Dorado                        148,083                       ±450   \n9            Fresno                        681,498                       ±965   \n10            Glenn                         19,652                       ±272   \n11         Humboldt                        103,363                       ±537   \n12         Imperial                        120,477                       ±514   \n13             Inyo                         14,503                       ±184   \n14             Kern                        606,433                       ±892   \n15            Kings                        104,565                       ±458   \n16             Lake                         51,589                       ±261   \n17           Lassen                         25,388                       ±192   \n18      Los Angeles                      7,455,744                     ±2,414   \n19           Madera                        107,270                       ±477   \n20            Marin                        201,009                       ±484   \n21         Mariposa                         13,911                       ±180   \n22        Mendocino                         69,062                       ±286   \n23           Merced                        184,420                       ±670   \n24            Modoc                          6,775                       ±129   \n25             Mono                         10,362                       ±280   \n26         Monterey                        304,052                       ±662   \n27             Napa                        104,755                       ±327   \n28           Nevada                         82,189                       ±305   \n29           Orange                      2,364,922                     ±1,700   \n30           Placer                        304,141                       ±517   \n31           Plumas                         15,806                       ±157   \n32        Riverside                      1,724,604                     ±1,482   \n33       Sacramento                      1,157,469                     ±1,022   \n34       San Benito                         45,571                       ±249   \n35   San Bernardino                      1,519,829                     ±1,617   \n36        San Diego                      2,450,295                     ±1,883   \n37    San Francisco                        717,653                       ±598   \n38      San Joaquin                        537,612                       ±744   \n39  San Luis Obispo                        211,147                       ±901   \n40        San Mateo                        581,396                       ±719   \n41    Santa Barbara                        313,937                     ±1,083   \n42      Santa Clara                      1,439,457                     ±1,042   \n43       Santa Cruz                        199,855                       ±725   \n44           Shasta                        136,969                       ±296   \n45           Sierra                          2,455                       ±162   \n46         Siskiyou                         33,523                       ±178   \n47           Solano                        336,338                       ±518   \n48           Sonoma                        376,840                       ±589   \n49       Stanislaus                        380,499                       ±750   \n50           Sutter                         69,857                       ±297   \n51           Tehama                         47,938                       ±266   \n52          Trinity                         12,909                       ±137   \n53           Tulare                        308,219                       ±638   \n54         Tuolumne                         44,006                       ±361   \n55          Ventura                        619,665                       ±870   \n56             Yolo                        151,121                     ±1,017   \n57             Yuba                         56,509                       ±254   \n\n    Data Year  \n0        2022  \n1        2022  \n2        2022  \n3        2022  \n4        2022  \n5        2022  \n6        2022  \n7        2022  \n8        2022  \n9        2022  \n10       2022  \n11       2022  \n12       2022  \n13       2022  \n14       2022  \n15       2022  \n16       2022  \n17       2022  \n18       2022  \n19       2022  \n20       2022  \n21       2022  \n22       2022  \n23       2022  \n24       2022  \n25       2022  \n26       2022  \n27       2022  \n28       2022  \n29       2022  \n30       2022  \n31       2022  \n32       2022  \n33       2022  \n34       2022  \n35       2022  \n36       2022  \n37       2022  \n38       2022  \n39       2022  \n40       2022  \n41       2022  \n42       2022  \n43       2022  \n44       2022  \n45       2022  \n46       2022  \n47       2022  \n48       2022  \n49       2022  \n50       2022  \n51       2022  \n52       2022  \n53       2022  \n54       2022  \n55       2022  \n56       2022  \n57       2022  ",
      "text/html": "<div>\n<style scoped>\n    .dataframe tbody tr th:only-of-type {\n        vertical-align: middle;\n    }\n\n    .dataframe tbody tr th {\n        vertical-align: top;\n    }\n\n    .dataframe thead th {\n        text-align: right;\n    }\n</style>\n<table border=\"1\" class=\"dataframe\">\n  <thead>\n    <tr style=\"text-align: right;\">\n      <th></th>\n      <th>County</th>\n      <th>Total Population Estimate, &gt;21</th>\n      <th>Total Margin of Error, &gt;21</th>\n      <th>Data Year</th>\n    </tr>\n  </thead>\n  <tbody>\n    <tr>\n      <th>0</th>\n      <td>Alameda</td>\n      <td>1,270,381</td>\n      <td>±1,184</td>\n      <td>2022</td>\n    </tr>\n    <tr>\n      <th>1</th>\n      <td>Alpine</td>\n      <td>1,108</td>\n      <td>±165</td>\n      <td>2022</td>\n    </tr>\n    <tr>\n      <th>2</th>\n      <td>Amador</td>\n      <td>33,126</td>\n      <td>±289</td>\n      <td>2022</td>\n    </tr>\n    <tr>\n      <th>3</th>\n      <td>Butte</td>\n      <td>157,922</td>\n      <td>±778</td>\n      <td>2022</td>\n    </tr>\n    <tr>\n      <th>4</th>\n      <td>Calaveras</td>\n      <td>36,839</td>\n      <td>±276</td>\n      <td>2022</td>\n    </tr>\n    <tr>\n      <th>5</th>\n      <td>Colusa</td>\n      <td>15,240</td>\n      <td>±152</td>\n      <td>2022</td>\n    </tr>\n    <tr>\n      <th>6</th>\n      <td>Contra Costa</td>\n      <td>863,447</td>\n      <td>±971</td>\n      <td>2022</td>\n    </tr>\n    <tr>\n      <th>7</th>\n      <td>Del Norte</td>\n      <td>21,024</td>\n      <td>±202</td>\n      <td>2022</td>\n    </tr>\n    <tr>\n      <th>8</th>\n      <td>El Dorado</td>\n      <td>148,083</td>\n      <td>±450</td>\n      <td>2022</td>\n    </tr>\n    <tr>\n      <th>9</th>\n      <td>Fresno</td>\n      <td>681,498</td>\n      <td>±965</td>\n      <td>2022</td>\n    </tr>\n    <tr>\n      <th>10</th>\n      <td>Glenn</td>\n      <td>19,652</td>\n      <td>±272</td>\n      <td>2022</td>\n    </tr>\n    <tr>\n      <th>11</th>\n      <td>Humboldt</td>\n      <td>103,363</td>\n      <td>±537</td>\n      <td>2022</td>\n    </tr>\n    <tr>\n      <th>12</th>\n      <td>Imperial</td>\n      <td>120,477</td>\n      <td>±514</td>\n      <td>2022</td>\n    </tr>\n    <tr>\n      <th>13</th>\n      <td>Inyo</td>\n      <td>14,503</td>\n      <td>±184</td>\n      <td>2022</td>\n    </tr>\n    <tr>\n      <th>14</th>\n      <td>Kern</td>\n      <td>606,433</td>\n      <td>±892</td>\n      <td>2022</td>\n    </tr>\n    <tr>\n      <th>15</th>\n      <td>Kings</td>\n      <td>104,565</td>\n      <td>±458</td>\n      <td>2022</td>\n    </tr>\n    <tr>\n      <th>16</th>\n      <td>Lake</td>\n      <td>51,589</td>\n      <td>±261</td>\n      <td>2022</td>\n    </tr>\n    <tr>\n      <th>17</th>\n      <td>Lassen</td>\n      <td>25,388</td>\n      <td>±192</td>\n      <td>2022</td>\n    </tr>\n    <tr>\n      <th>18</th>\n      <td>Los Angeles</td>\n      <td>7,455,744</td>\n      <td>±2,414</td>\n      <td>2022</td>\n    </tr>\n    <tr>\n      <th>19</th>\n      <td>Madera</td>\n      <td>107,270</td>\n      <td>±477</td>\n      <td>2022</td>\n    </tr>\n    <tr>\n      <th>20</th>\n      <td>Marin</td>\n      <td>201,009</td>\n      <td>±484</td>\n      <td>2022</td>\n    </tr>\n    <tr>\n      <th>21</th>\n      <td>Mariposa</td>\n      <td>13,911</td>\n      <td>±180</td>\n      <td>2022</td>\n    </tr>\n    <tr>\n      <th>22</th>\n      <td>Mendocino</td>\n      <td>69,062</td>\n      <td>±286</td>\n      <td>2022</td>\n    </tr>\n    <tr>\n      <th>23</th>\n      <td>Merced</td>\n      <td>184,420</td>\n      <td>±670</td>\n      <td>2022</td>\n    </tr>\n    <tr>\n      <th>24</th>\n      <td>Modoc</td>\n      <td>6,775</td>\n      <td>±129</td>\n      <td>2022</td>\n    </tr>\n    <tr>\n      <th>25</th>\n      <td>Mono</td>\n      <td>10,362</td>\n      <td>±280</td>\n      <td>2022</td>\n    </tr>\n    <tr>\n      <th>26</th>\n      <td>Monterey</td>\n      <td>304,052</td>\n      <td>±662</td>\n      <td>2022</td>\n    </tr>\n    <tr>\n      <th>27</th>\n      <td>Napa</td>\n      <td>104,755</td>\n      <td>±327</td>\n      <td>2022</td>\n    </tr>\n    <tr>\n      <th>28</th>\n      <td>Nevada</td>\n      <td>82,189</td>\n      <td>±305</td>\n      <td>2022</td>\n    </tr>\n    <tr>\n      <th>29</th>\n      <td>Orange</td>\n      <td>2,364,922</td>\n      <td>±1,700</td>\n      <td>2022</td>\n    </tr>\n    <tr>\n      <th>30</th>\n      <td>Placer</td>\n      <td>304,141</td>\n      <td>±517</td>\n      <td>2022</td>\n    </tr>\n    <tr>\n      <th>31</th>\n      <td>Plumas</td>\n      <td>15,806</td>\n      <td>±157</td>\n      <td>2022</td>\n    </tr>\n    <tr>\n      <th>32</th>\n      <td>Riverside</td>\n      <td>1,724,604</td>\n      <td>±1,482</td>\n      <td>2022</td>\n    </tr>\n    <tr>\n      <th>33</th>\n      <td>Sacramento</td>\n      <td>1,157,469</td>\n      <td>±1,022</td>\n      <td>2022</td>\n    </tr>\n    <tr>\n      <th>34</th>\n      <td>San Benito</td>\n      <td>45,571</td>\n      <td>±249</td>\n      <td>2022</td>\n    </tr>\n    <tr>\n      <th>35</th>\n      <td>San Bernardino</td>\n      <td>1,519,829</td>\n      <td>±1,617</td>\n      <td>2022</td>\n    </tr>\n    <tr>\n      <th>36</th>\n      <td>San Diego</td>\n      <td>2,450,295</td>\n      <td>±1,883</td>\n      <td>2022</td>\n    </tr>\n    <tr>\n      <th>37</th>\n      <td>San Francisco</td>\n      <td>717,653</td>\n      <td>±598</td>\n      <td>2022</td>\n    </tr>\n    <tr>\n      <th>38</th>\n      <td>San Joaquin</td>\n      <td>537,612</td>\n      <td>±744</td>\n      <td>2022</td>\n    </tr>\n    <tr>\n      <th>39</th>\n      <td>San Luis Obispo</td>\n      <td>211,147</td>\n      <td>±901</td>\n      <td>2022</td>\n    </tr>\n    <tr>\n      <th>40</th>\n      <td>San Mateo</td>\n      <td>581,396</td>\n      <td>±719</td>\n      <td>2022</td>\n    </tr>\n    <tr>\n      <th>41</th>\n      <td>Santa Barbara</td>\n      <td>313,937</td>\n      <td>±1,083</td>\n      <td>2022</td>\n    </tr>\n    <tr>\n      <th>42</th>\n      <td>Santa Clara</td>\n      <td>1,439,457</td>\n      <td>±1,042</td>\n      <td>2022</td>\n    </tr>\n    <tr>\n      <th>43</th>\n      <td>Santa Cruz</td>\n      <td>199,855</td>\n      <td>±725</td>\n      <td>2022</td>\n    </tr>\n    <tr>\n      <th>44</th>\n      <td>Shasta</td>\n      <td>136,969</td>\n      <td>±296</td>\n      <td>2022</td>\n    </tr>\n    <tr>\n      <th>45</th>\n      <td>Sierra</td>\n      <td>2,455</td>\n      <td>±162</td>\n      <td>2022</td>\n    </tr>\n    <tr>\n      <th>46</th>\n      <td>Siskiyou</td>\n      <td>33,523</td>\n      <td>±178</td>\n      <td>2022</td>\n    </tr>\n    <tr>\n      <th>47</th>\n      <td>Solano</td>\n      <td>336,338</td>\n      <td>±518</td>\n      <td>2022</td>\n    </tr>\n    <tr>\n      <th>48</th>\n      <td>Sonoma</td>\n      <td>376,840</td>\n      <td>±589</td>\n      <td>2022</td>\n    </tr>\n    <tr>\n      <th>49</th>\n      <td>Stanislaus</td>\n      <td>380,499</td>\n      <td>±750</td>\n      <td>2022</td>\n    </tr>\n    <tr>\n      <th>50</th>\n      <td>Sutter</td>\n      <td>69,857</td>\n      <td>±297</td>\n      <td>2022</td>\n    </tr>\n    <tr>\n      <th>51</th>\n      <td>Tehama</td>\n      <td>47,938</td>\n      <td>±266</td>\n      <td>2022</td>\n    </tr>\n    <tr>\n      <th>52</th>\n      <td>Trinity</td>\n      <td>12,909</td>\n      <td>±137</td>\n      <td>2022</td>\n    </tr>\n    <tr>\n      <th>53</th>\n      <td>Tulare</td>\n      <td>308,219</td>\n      <td>±638</td>\n      <td>2022</td>\n    </tr>\n    <tr>\n      <th>54</th>\n      <td>Tuolumne</td>\n      <td>44,006</td>\n      <td>±361</td>\n      <td>2022</td>\n    </tr>\n    <tr>\n      <th>55</th>\n      <td>Ventura</td>\n      <td>619,665</td>\n      <td>±870</td>\n      <td>2022</td>\n    </tr>\n    <tr>\n      <th>56</th>\n      <td>Yolo</td>\n      <td>151,121</td>\n      <td>±1,017</td>\n      <td>2022</td>\n    </tr>\n    <tr>\n      <th>57</th>\n      <td>Yuba</td>\n      <td>56,509</td>\n      <td>±254</td>\n      <td>2022</td>\n    </tr>\n  </tbody>\n</table>\n</div>"
     },
     "execution_count": 13,
     "metadata": {},
     "output_type": "execute_result"
    }
   ],
   "source": [
    "testing = aged_population('/Users/clarissaclark/Desktop/isthiscrazy2022.csv', 2022)\n",
    "\n",
    "testing"
   ],
   "metadata": {
    "collapsed": false,
    "ExecuteTime": {
     "end_time": "2024-09-27T20:46:05.115195Z",
     "start_time": "2024-09-27T20:46:05.091495Z"
    }
   },
   "id": "e28a78d2e7c0aba9",
   "execution_count": 13
  },
  {
   "cell_type": "code",
   "outputs": [
    {
     "data": {
      "text/plain": "             County  Data Year  Population  Population Z Score  \\\n0           Alameda       2022     1643683            0.059355   \n1            Amador       2022       40010           -0.251204   \n2             Butte       2022      206184           -0.219024   \n3         Calaveras       2022       45021           -0.250234   \n4            Colusa       2022       21722           -0.254746   \n5      Contra Costa       2022     1149841           -0.036280   \n6         Del Norte       2022       26982           -0.253727   \n7         El Dorado       2022      189294           -0.222295   \n8            Fresno       2022     1010177           -0.063326   \n9             Glenn       2022       28777           -0.253380   \n10         Humboldt       2022      134167           -0.232970   \n11         Imperial       2022      180394           -0.224018   \n12             Inyo       2022       18916           -0.255289   \n13             Kern       2022      908186           -0.083078   \n14            Kings       2022      151654           -0.229584   \n15             Lake       2022       67597           -0.245862   \n16           Lassen       2022       29809           -0.253180   \n17      Los Angeles       2022     9861493            1.650777   \n18           Madera       2022      157040           -0.228541   \n19            Marin       2022      255459           -0.209482   \n20         Mariposa       2022       16988           -0.255663   \n21        Mendocino       2022       90227           -0.241480   \n22           Merced       2022      284038           -0.203947   \n23            Modoc       2022        8547           -0.257297   \n24             Mono       2022       12987           -0.256438   \n25         Monterey       2022      436033           -0.174512   \n26             Napa       2022      135564           -0.232700   \n27           Nevada       2022      101080           -0.239378   \n28           Orange       2022     3158071            0.352624   \n29           Placer       2022      407539           -0.180030   \n30           Plumas       2022       19254           -0.255224   \n31        Riverside       2022     2427832            0.211210   \n32       Sacramento       2022     1572254            0.045523   \n33       San Benito       2022       65642           -0.246241   \n34   San Bernardino       2022     2179845            0.163186   \n35        San Diego       2022     3278730            0.375991   \n36    San Francisco       2022      840575           -0.096171   \n37      San Joaquin       2022      782163           -0.107483   \n38  San Luis Obispo       2022      279439           -0.204838   \n39        San Mateo       2022      742051           -0.115250   \n40    Santa Barbara       2022      443074           -0.173149   \n41      Santa Clara       2022     1895752            0.108170   \n42       Santa Cruz       2022      264495           -0.207732   \n43           Shasta       2022      180206           -0.224055   \n44           Sierra       2022        3205           -0.258332   \n45         Siskiyou       2022       43571           -0.250515   \n46           Solano       2022      447027           -0.172383   \n47           Sonoma       2022      479654           -0.166065   \n48       Stanislaus       2022      548215           -0.152788   \n49           Sutter       2022       99153           -0.239751   \n50           Tehama       2022       64942           -0.246376   \n51          Trinity       2022       15971           -0.255860   \n52           Tulare       2022      474624           -0.167039   \n53         Tuolumne       2022       54500           -0.248398   \n54          Ventura       2022      831531           -0.097922   \n55             Yolo       2022      220176           -0.216314   \n56             Yuba       2022       82234           -0.243028   \n\n    Number of Gas Cars  Number of EV  Population_y  Z Score_y  \\\n0              1057501         72557       1643683   0.059355   \n1                40697           413         40010  -0.251204   \n2               151828          1732        206184  -0.219024   \n3                51920           515         45021  -0.250234   \n4                19767           106         21722  -0.254746   \n5               835523         44133       1149841  -0.036280   \n6                20045           128         26982  -0.253727   \n7               162883          4869        189294  -0.222295   \n8               688871         10390       1010177  -0.063326   \n9                24773           130         28777  -0.253380   \n10              106882          2126        134167  -0.232970   \n11              166477           770        180394  -0.224018   \n12               19560           176         18916  -0.255289   \n13              602843          6880        908186  -0.083078   \n14               95204           886        151654  -0.229584   \n15               63526           600         67597  -0.245862   \n16               23115            44         29809  -0.253180   \n17             6650471        282343       9861493   1.650777   \n18              113641          1241        157040  -0.228541   \n19              191793         15449        255459  -0.209482   \n20               17290           147         16988  -0.255663   \n21               81800          1346         90227  -0.241480   \n22              200238          2086        284038  -0.203947   \n23                7632            10          8547  -0.257297   \n24               11671           144         12987  -0.256438   \n25              319103          6379        436033  -0.174512   \n26              109871          4234        135564  -0.232700   \n27               84769          1946        101080  -0.239378   \n28             2299018        134291       3158071   0.352624   \n29              328962         12350        407539  -0.180030   \n30               18889           117         19254  -0.255224   \n31             1765291         47681       2427832   0.211210   \n32             1107136         32416       1572254   0.045523   \n33               53803          1485         65642  -0.246241   \n34             1568171         36094       2179845   0.163186   \n35             2446883         95024       3278730   0.375991   \n36              386911         28011        840575  -0.096171   \n37              556150         12961        782163  -0.107483   \n38              222920          6929        279439  -0.204838   \n39              567346         43165        742051  -0.115250   \n40              325288          8983        443074  -0.173149   \n41             1289536        108243       1895752   0.108170   \n42              215275          8169        264495  -0.207732   \n43              132514          1516        180206  -0.224055   \n44                3537            18          3205  -0.258332   \n45               44395           241         43571  -0.250515   \n46              339309          9315        447027  -0.172383   \n47              397389         15055        479654  -0.166065   \n48              403896          5345        548215  -0.152788   \n49               74337           885         99153  -0.239751   \n50               56998           288         64942  -0.246376   \n51               11910            63         15971  -0.255860   \n52              330357          2826        474624  -0.167039   \n53               56034           495         54500  -0.248398   \n54              658712         23713        831531  -0.097922   \n55              149982          5077        220176  -0.216314   \n56               56190           689         82234  -0.243028   \n\n   Total Population Estimate, >21 Total Margin of Error, >21  \n0                       1,270,381                     ±1,184  \n1                          33,126                       ±289  \n2                         157,922                       ±778  \n3                          36,839                       ±276  \n4                          15,240                       ±152  \n5                         863,447                       ±971  \n6                          21,024                       ±202  \n7                         148,083                       ±450  \n8                         681,498                       ±965  \n9                          19,652                       ±272  \n10                        103,363                       ±537  \n11                        120,477                       ±514  \n12                         14,503                       ±184  \n13                        606,433                       ±892  \n14                        104,565                       ±458  \n15                         51,589                       ±261  \n16                         25,388                       ±192  \n17                      7,455,744                     ±2,414  \n18                        107,270                       ±477  \n19                        201,009                       ±484  \n20                         13,911                       ±180  \n21                         69,062                       ±286  \n22                        184,420                       ±670  \n23                          6,775                       ±129  \n24                         10,362                       ±280  \n25                        304,052                       ±662  \n26                        104,755                       ±327  \n27                         82,189                       ±305  \n28                      2,364,922                     ±1,700  \n29                        304,141                       ±517  \n30                         15,806                       ±157  \n31                      1,724,604                     ±1,482  \n32                      1,157,469                     ±1,022  \n33                         45,571                       ±249  \n34                      1,519,829                     ±1,617  \n35                      2,450,295                     ±1,883  \n36                        717,653                       ±598  \n37                        537,612                       ±744  \n38                        211,147                       ±901  \n39                        581,396                       ±719  \n40                        313,937                     ±1,083  \n41                      1,439,457                     ±1,042  \n42                        199,855                       ±725  \n43                        136,969                       ±296  \n44                          2,455                       ±162  \n45                         33,523                       ±178  \n46                        336,338                       ±518  \n47                        376,840                       ±589  \n48                        380,499                       ±750  \n49                         69,857                       ±297  \n50                         47,938                       ±266  \n51                         12,909                       ±137  \n52                        308,219                       ±638  \n53                         44,006                       ±361  \n54                        619,665                       ±870  \n55                        151,121                     ±1,017  \n56                         56,509                       ±254  ",
      "text/html": "<div>\n<style scoped>\n    .dataframe tbody tr th:only-of-type {\n        vertical-align: middle;\n    }\n\n    .dataframe tbody tr th {\n        vertical-align: top;\n    }\n\n    .dataframe thead th {\n        text-align: right;\n    }\n</style>\n<table border=\"1\" class=\"dataframe\">\n  <thead>\n    <tr style=\"text-align: right;\">\n      <th></th>\n      <th>County</th>\n      <th>Data Year</th>\n      <th>Population</th>\n      <th>Population Z Score</th>\n      <th>Number of Gas Cars</th>\n      <th>Number of EV</th>\n      <th>Population_y</th>\n      <th>Z Score_y</th>\n      <th>Total Population Estimate, &gt;21</th>\n      <th>Total Margin of Error, &gt;21</th>\n    </tr>\n  </thead>\n  <tbody>\n    <tr>\n      <th>0</th>\n      <td>Alameda</td>\n      <td>2022</td>\n      <td>1643683</td>\n      <td>0.059355</td>\n      <td>1057501</td>\n      <td>72557</td>\n      <td>1643683</td>\n      <td>0.059355</td>\n      <td>1,270,381</td>\n      <td>±1,184</td>\n    </tr>\n    <tr>\n      <th>1</th>\n      <td>Amador</td>\n      <td>2022</td>\n      <td>40010</td>\n      <td>-0.251204</td>\n      <td>40697</td>\n      <td>413</td>\n      <td>40010</td>\n      <td>-0.251204</td>\n      <td>33,126</td>\n      <td>±289</td>\n    </tr>\n    <tr>\n      <th>2</th>\n      <td>Butte</td>\n      <td>2022</td>\n      <td>206184</td>\n      <td>-0.219024</td>\n      <td>151828</td>\n      <td>1732</td>\n      <td>206184</td>\n      <td>-0.219024</td>\n      <td>157,922</td>\n      <td>±778</td>\n    </tr>\n    <tr>\n      <th>3</th>\n      <td>Calaveras</td>\n      <td>2022</td>\n      <td>45021</td>\n      <td>-0.250234</td>\n      <td>51920</td>\n      <td>515</td>\n      <td>45021</td>\n      <td>-0.250234</td>\n      <td>36,839</td>\n      <td>±276</td>\n    </tr>\n    <tr>\n      <th>4</th>\n      <td>Colusa</td>\n      <td>2022</td>\n      <td>21722</td>\n      <td>-0.254746</td>\n      <td>19767</td>\n      <td>106</td>\n      <td>21722</td>\n      <td>-0.254746</td>\n      <td>15,240</td>\n      <td>±152</td>\n    </tr>\n    <tr>\n      <th>5</th>\n      <td>Contra Costa</td>\n      <td>2022</td>\n      <td>1149841</td>\n      <td>-0.036280</td>\n      <td>835523</td>\n      <td>44133</td>\n      <td>1149841</td>\n      <td>-0.036280</td>\n      <td>863,447</td>\n      <td>±971</td>\n    </tr>\n    <tr>\n      <th>6</th>\n      <td>Del Norte</td>\n      <td>2022</td>\n      <td>26982</td>\n      <td>-0.253727</td>\n      <td>20045</td>\n      <td>128</td>\n      <td>26982</td>\n      <td>-0.253727</td>\n      <td>21,024</td>\n      <td>±202</td>\n    </tr>\n    <tr>\n      <th>7</th>\n      <td>El Dorado</td>\n      <td>2022</td>\n      <td>189294</td>\n      <td>-0.222295</td>\n      <td>162883</td>\n      <td>4869</td>\n      <td>189294</td>\n      <td>-0.222295</td>\n      <td>148,083</td>\n      <td>±450</td>\n    </tr>\n    <tr>\n      <th>8</th>\n      <td>Fresno</td>\n      <td>2022</td>\n      <td>1010177</td>\n      <td>-0.063326</td>\n      <td>688871</td>\n      <td>10390</td>\n      <td>1010177</td>\n      <td>-0.063326</td>\n      <td>681,498</td>\n      <td>±965</td>\n    </tr>\n    <tr>\n      <th>9</th>\n      <td>Glenn</td>\n      <td>2022</td>\n      <td>28777</td>\n      <td>-0.253380</td>\n      <td>24773</td>\n      <td>130</td>\n      <td>28777</td>\n      <td>-0.253380</td>\n      <td>19,652</td>\n      <td>±272</td>\n    </tr>\n    <tr>\n      <th>10</th>\n      <td>Humboldt</td>\n      <td>2022</td>\n      <td>134167</td>\n      <td>-0.232970</td>\n      <td>106882</td>\n      <td>2126</td>\n      <td>134167</td>\n      <td>-0.232970</td>\n      <td>103,363</td>\n      <td>±537</td>\n    </tr>\n    <tr>\n      <th>11</th>\n      <td>Imperial</td>\n      <td>2022</td>\n      <td>180394</td>\n      <td>-0.224018</td>\n      <td>166477</td>\n      <td>770</td>\n      <td>180394</td>\n      <td>-0.224018</td>\n      <td>120,477</td>\n      <td>±514</td>\n    </tr>\n    <tr>\n      <th>12</th>\n      <td>Inyo</td>\n      <td>2022</td>\n      <td>18916</td>\n      <td>-0.255289</td>\n      <td>19560</td>\n      <td>176</td>\n      <td>18916</td>\n      <td>-0.255289</td>\n      <td>14,503</td>\n      <td>±184</td>\n    </tr>\n    <tr>\n      <th>13</th>\n      <td>Kern</td>\n      <td>2022</td>\n      <td>908186</td>\n      <td>-0.083078</td>\n      <td>602843</td>\n      <td>6880</td>\n      <td>908186</td>\n      <td>-0.083078</td>\n      <td>606,433</td>\n      <td>±892</td>\n    </tr>\n    <tr>\n      <th>14</th>\n      <td>Kings</td>\n      <td>2022</td>\n      <td>151654</td>\n      <td>-0.229584</td>\n      <td>95204</td>\n      <td>886</td>\n      <td>151654</td>\n      <td>-0.229584</td>\n      <td>104,565</td>\n      <td>±458</td>\n    </tr>\n    <tr>\n      <th>15</th>\n      <td>Lake</td>\n      <td>2022</td>\n      <td>67597</td>\n      <td>-0.245862</td>\n      <td>63526</td>\n      <td>600</td>\n      <td>67597</td>\n      <td>-0.245862</td>\n      <td>51,589</td>\n      <td>±261</td>\n    </tr>\n    <tr>\n      <th>16</th>\n      <td>Lassen</td>\n      <td>2022</td>\n      <td>29809</td>\n      <td>-0.253180</td>\n      <td>23115</td>\n      <td>44</td>\n      <td>29809</td>\n      <td>-0.253180</td>\n      <td>25,388</td>\n      <td>±192</td>\n    </tr>\n    <tr>\n      <th>17</th>\n      <td>Los Angeles</td>\n      <td>2022</td>\n      <td>9861493</td>\n      <td>1.650777</td>\n      <td>6650471</td>\n      <td>282343</td>\n      <td>9861493</td>\n      <td>1.650777</td>\n      <td>7,455,744</td>\n      <td>±2,414</td>\n    </tr>\n    <tr>\n      <th>18</th>\n      <td>Madera</td>\n      <td>2022</td>\n      <td>157040</td>\n      <td>-0.228541</td>\n      <td>113641</td>\n      <td>1241</td>\n      <td>157040</td>\n      <td>-0.228541</td>\n      <td>107,270</td>\n      <td>±477</td>\n    </tr>\n    <tr>\n      <th>19</th>\n      <td>Marin</td>\n      <td>2022</td>\n      <td>255459</td>\n      <td>-0.209482</td>\n      <td>191793</td>\n      <td>15449</td>\n      <td>255459</td>\n      <td>-0.209482</td>\n      <td>201,009</td>\n      <td>±484</td>\n    </tr>\n    <tr>\n      <th>20</th>\n      <td>Mariposa</td>\n      <td>2022</td>\n      <td>16988</td>\n      <td>-0.255663</td>\n      <td>17290</td>\n      <td>147</td>\n      <td>16988</td>\n      <td>-0.255663</td>\n      <td>13,911</td>\n      <td>±180</td>\n    </tr>\n    <tr>\n      <th>21</th>\n      <td>Mendocino</td>\n      <td>2022</td>\n      <td>90227</td>\n      <td>-0.241480</td>\n      <td>81800</td>\n      <td>1346</td>\n      <td>90227</td>\n      <td>-0.241480</td>\n      <td>69,062</td>\n      <td>±286</td>\n    </tr>\n    <tr>\n      <th>22</th>\n      <td>Merced</td>\n      <td>2022</td>\n      <td>284038</td>\n      <td>-0.203947</td>\n      <td>200238</td>\n      <td>2086</td>\n      <td>284038</td>\n      <td>-0.203947</td>\n      <td>184,420</td>\n      <td>±670</td>\n    </tr>\n    <tr>\n      <th>23</th>\n      <td>Modoc</td>\n      <td>2022</td>\n      <td>8547</td>\n      <td>-0.257297</td>\n      <td>7632</td>\n      <td>10</td>\n      <td>8547</td>\n      <td>-0.257297</td>\n      <td>6,775</td>\n      <td>±129</td>\n    </tr>\n    <tr>\n      <th>24</th>\n      <td>Mono</td>\n      <td>2022</td>\n      <td>12987</td>\n      <td>-0.256438</td>\n      <td>11671</td>\n      <td>144</td>\n      <td>12987</td>\n      <td>-0.256438</td>\n      <td>10,362</td>\n      <td>±280</td>\n    </tr>\n    <tr>\n      <th>25</th>\n      <td>Monterey</td>\n      <td>2022</td>\n      <td>436033</td>\n      <td>-0.174512</td>\n      <td>319103</td>\n      <td>6379</td>\n      <td>436033</td>\n      <td>-0.174512</td>\n      <td>304,052</td>\n      <td>±662</td>\n    </tr>\n    <tr>\n      <th>26</th>\n      <td>Napa</td>\n      <td>2022</td>\n      <td>135564</td>\n      <td>-0.232700</td>\n      <td>109871</td>\n      <td>4234</td>\n      <td>135564</td>\n      <td>-0.232700</td>\n      <td>104,755</td>\n      <td>±327</td>\n    </tr>\n    <tr>\n      <th>27</th>\n      <td>Nevada</td>\n      <td>2022</td>\n      <td>101080</td>\n      <td>-0.239378</td>\n      <td>84769</td>\n      <td>1946</td>\n      <td>101080</td>\n      <td>-0.239378</td>\n      <td>82,189</td>\n      <td>±305</td>\n    </tr>\n    <tr>\n      <th>28</th>\n      <td>Orange</td>\n      <td>2022</td>\n      <td>3158071</td>\n      <td>0.352624</td>\n      <td>2299018</td>\n      <td>134291</td>\n      <td>3158071</td>\n      <td>0.352624</td>\n      <td>2,364,922</td>\n      <td>±1,700</td>\n    </tr>\n    <tr>\n      <th>29</th>\n      <td>Placer</td>\n      <td>2022</td>\n      <td>407539</td>\n      <td>-0.180030</td>\n      <td>328962</td>\n      <td>12350</td>\n      <td>407539</td>\n      <td>-0.180030</td>\n      <td>304,141</td>\n      <td>±517</td>\n    </tr>\n    <tr>\n      <th>30</th>\n      <td>Plumas</td>\n      <td>2022</td>\n      <td>19254</td>\n      <td>-0.255224</td>\n      <td>18889</td>\n      <td>117</td>\n      <td>19254</td>\n      <td>-0.255224</td>\n      <td>15,806</td>\n      <td>±157</td>\n    </tr>\n    <tr>\n      <th>31</th>\n      <td>Riverside</td>\n      <td>2022</td>\n      <td>2427832</td>\n      <td>0.211210</td>\n      <td>1765291</td>\n      <td>47681</td>\n      <td>2427832</td>\n      <td>0.211210</td>\n      <td>1,724,604</td>\n      <td>±1,482</td>\n    </tr>\n    <tr>\n      <th>32</th>\n      <td>Sacramento</td>\n      <td>2022</td>\n      <td>1572254</td>\n      <td>0.045523</td>\n      <td>1107136</td>\n      <td>32416</td>\n      <td>1572254</td>\n      <td>0.045523</td>\n      <td>1,157,469</td>\n      <td>±1,022</td>\n    </tr>\n    <tr>\n      <th>33</th>\n      <td>San Benito</td>\n      <td>2022</td>\n      <td>65642</td>\n      <td>-0.246241</td>\n      <td>53803</td>\n      <td>1485</td>\n      <td>65642</td>\n      <td>-0.246241</td>\n      <td>45,571</td>\n      <td>±249</td>\n    </tr>\n    <tr>\n      <th>34</th>\n      <td>San Bernardino</td>\n      <td>2022</td>\n      <td>2179845</td>\n      <td>0.163186</td>\n      <td>1568171</td>\n      <td>36094</td>\n      <td>2179845</td>\n      <td>0.163186</td>\n      <td>1,519,829</td>\n      <td>±1,617</td>\n    </tr>\n    <tr>\n      <th>35</th>\n      <td>San Diego</td>\n      <td>2022</td>\n      <td>3278730</td>\n      <td>0.375991</td>\n      <td>2446883</td>\n      <td>95024</td>\n      <td>3278730</td>\n      <td>0.375991</td>\n      <td>2,450,295</td>\n      <td>±1,883</td>\n    </tr>\n    <tr>\n      <th>36</th>\n      <td>San Francisco</td>\n      <td>2022</td>\n      <td>840575</td>\n      <td>-0.096171</td>\n      <td>386911</td>\n      <td>28011</td>\n      <td>840575</td>\n      <td>-0.096171</td>\n      <td>717,653</td>\n      <td>±598</td>\n    </tr>\n    <tr>\n      <th>37</th>\n      <td>San Joaquin</td>\n      <td>2022</td>\n      <td>782163</td>\n      <td>-0.107483</td>\n      <td>556150</td>\n      <td>12961</td>\n      <td>782163</td>\n      <td>-0.107483</td>\n      <td>537,612</td>\n      <td>±744</td>\n    </tr>\n    <tr>\n      <th>38</th>\n      <td>San Luis Obispo</td>\n      <td>2022</td>\n      <td>279439</td>\n      <td>-0.204838</td>\n      <td>222920</td>\n      <td>6929</td>\n      <td>279439</td>\n      <td>-0.204838</td>\n      <td>211,147</td>\n      <td>±901</td>\n    </tr>\n    <tr>\n      <th>39</th>\n      <td>San Mateo</td>\n      <td>2022</td>\n      <td>742051</td>\n      <td>-0.115250</td>\n      <td>567346</td>\n      <td>43165</td>\n      <td>742051</td>\n      <td>-0.115250</td>\n      <td>581,396</td>\n      <td>±719</td>\n    </tr>\n    <tr>\n      <th>40</th>\n      <td>Santa Barbara</td>\n      <td>2022</td>\n      <td>443074</td>\n      <td>-0.173149</td>\n      <td>325288</td>\n      <td>8983</td>\n      <td>443074</td>\n      <td>-0.173149</td>\n      <td>313,937</td>\n      <td>±1,083</td>\n    </tr>\n    <tr>\n      <th>41</th>\n      <td>Santa Clara</td>\n      <td>2022</td>\n      <td>1895752</td>\n      <td>0.108170</td>\n      <td>1289536</td>\n      <td>108243</td>\n      <td>1895752</td>\n      <td>0.108170</td>\n      <td>1,439,457</td>\n      <td>±1,042</td>\n    </tr>\n    <tr>\n      <th>42</th>\n      <td>Santa Cruz</td>\n      <td>2022</td>\n      <td>264495</td>\n      <td>-0.207732</td>\n      <td>215275</td>\n      <td>8169</td>\n      <td>264495</td>\n      <td>-0.207732</td>\n      <td>199,855</td>\n      <td>±725</td>\n    </tr>\n    <tr>\n      <th>43</th>\n      <td>Shasta</td>\n      <td>2022</td>\n      <td>180206</td>\n      <td>-0.224055</td>\n      <td>132514</td>\n      <td>1516</td>\n      <td>180206</td>\n      <td>-0.224055</td>\n      <td>136,969</td>\n      <td>±296</td>\n    </tr>\n    <tr>\n      <th>44</th>\n      <td>Sierra</td>\n      <td>2022</td>\n      <td>3205</td>\n      <td>-0.258332</td>\n      <td>3537</td>\n      <td>18</td>\n      <td>3205</td>\n      <td>-0.258332</td>\n      <td>2,455</td>\n      <td>±162</td>\n    </tr>\n    <tr>\n      <th>45</th>\n      <td>Siskiyou</td>\n      <td>2022</td>\n      <td>43571</td>\n      <td>-0.250515</td>\n      <td>44395</td>\n      <td>241</td>\n      <td>43571</td>\n      <td>-0.250515</td>\n      <td>33,523</td>\n      <td>±178</td>\n    </tr>\n    <tr>\n      <th>46</th>\n      <td>Solano</td>\n      <td>2022</td>\n      <td>447027</td>\n      <td>-0.172383</td>\n      <td>339309</td>\n      <td>9315</td>\n      <td>447027</td>\n      <td>-0.172383</td>\n      <td>336,338</td>\n      <td>±518</td>\n    </tr>\n    <tr>\n      <th>47</th>\n      <td>Sonoma</td>\n      <td>2022</td>\n      <td>479654</td>\n      <td>-0.166065</td>\n      <td>397389</td>\n      <td>15055</td>\n      <td>479654</td>\n      <td>-0.166065</td>\n      <td>376,840</td>\n      <td>±589</td>\n    </tr>\n    <tr>\n      <th>48</th>\n      <td>Stanislaus</td>\n      <td>2022</td>\n      <td>548215</td>\n      <td>-0.152788</td>\n      <td>403896</td>\n      <td>5345</td>\n      <td>548215</td>\n      <td>-0.152788</td>\n      <td>380,499</td>\n      <td>±750</td>\n    </tr>\n    <tr>\n      <th>49</th>\n      <td>Sutter</td>\n      <td>2022</td>\n      <td>99153</td>\n      <td>-0.239751</td>\n      <td>74337</td>\n      <td>885</td>\n      <td>99153</td>\n      <td>-0.239751</td>\n      <td>69,857</td>\n      <td>±297</td>\n    </tr>\n    <tr>\n      <th>50</th>\n      <td>Tehama</td>\n      <td>2022</td>\n      <td>64942</td>\n      <td>-0.246376</td>\n      <td>56998</td>\n      <td>288</td>\n      <td>64942</td>\n      <td>-0.246376</td>\n      <td>47,938</td>\n      <td>±266</td>\n    </tr>\n    <tr>\n      <th>51</th>\n      <td>Trinity</td>\n      <td>2022</td>\n      <td>15971</td>\n      <td>-0.255860</td>\n      <td>11910</td>\n      <td>63</td>\n      <td>15971</td>\n      <td>-0.255860</td>\n      <td>12,909</td>\n      <td>±137</td>\n    </tr>\n    <tr>\n      <th>52</th>\n      <td>Tulare</td>\n      <td>2022</td>\n      <td>474624</td>\n      <td>-0.167039</td>\n      <td>330357</td>\n      <td>2826</td>\n      <td>474624</td>\n      <td>-0.167039</td>\n      <td>308,219</td>\n      <td>±638</td>\n    </tr>\n    <tr>\n      <th>53</th>\n      <td>Tuolumne</td>\n      <td>2022</td>\n      <td>54500</td>\n      <td>-0.248398</td>\n      <td>56034</td>\n      <td>495</td>\n      <td>54500</td>\n      <td>-0.248398</td>\n      <td>44,006</td>\n      <td>±361</td>\n    </tr>\n    <tr>\n      <th>54</th>\n      <td>Ventura</td>\n      <td>2022</td>\n      <td>831531</td>\n      <td>-0.097922</td>\n      <td>658712</td>\n      <td>23713</td>\n      <td>831531</td>\n      <td>-0.097922</td>\n      <td>619,665</td>\n      <td>±870</td>\n    </tr>\n    <tr>\n      <th>55</th>\n      <td>Yolo</td>\n      <td>2022</td>\n      <td>220176</td>\n      <td>-0.216314</td>\n      <td>149982</td>\n      <td>5077</td>\n      <td>220176</td>\n      <td>-0.216314</td>\n      <td>151,121</td>\n      <td>±1,017</td>\n    </tr>\n    <tr>\n      <th>56</th>\n      <td>Yuba</td>\n      <td>2022</td>\n      <td>82234</td>\n      <td>-0.243028</td>\n      <td>56190</td>\n      <td>689</td>\n      <td>82234</td>\n      <td>-0.243028</td>\n      <td>56,509</td>\n      <td>±254</td>\n    </tr>\n  </tbody>\n</table>\n</div>"
     },
     "execution_count": 14,
     "metadata": {},
     "output_type": "execute_result"
    }
   ],
   "source": [
    "# merging year 2022\n",
    "aged_pop_df = pd.merge(main_df, testing, how='inner', on = ['Data Year', 'County'])\n",
    "aged_pop_df"
   ],
   "metadata": {
    "collapsed": false,
    "ExecuteTime": {
     "end_time": "2024-09-27T20:46:05.125913Z",
     "start_time": "2024-09-27T20:46:05.117243Z"
    }
   },
   "id": "1b591d33d5a5693a",
   "execution_count": 14
  },
  {
   "cell_type": "code",
   "outputs": [],
   "source": [],
   "metadata": {
    "collapsed": false,
    "ExecuteTime": {
     "end_time": "2024-09-27T20:46:05.128099Z",
     "start_time": "2024-09-27T20:46:05.126845Z"
    }
   },
   "id": "59f874cd0d550086",
   "execution_count": 14
  }
 ],
 "metadata": {
  "kernelspec": {
   "display_name": "Python 3",
   "language": "python",
   "name": "python3"
  },
  "language_info": {
   "codemirror_mode": {
    "name": "ipython",
    "version": 2
   },
   "file_extension": ".py",
   "mimetype": "text/x-python",
   "name": "python",
   "nbconvert_exporter": "python",
   "pygments_lexer": "ipython2",
   "version": "2.7.6"
  }
 },
 "nbformat": 4,
 "nbformat_minor": 5
}
