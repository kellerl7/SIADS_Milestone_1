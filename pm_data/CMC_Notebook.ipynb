{
 "cells": [
  {
   "cell_type": "code",
   "outputs": [],
   "source": [
    "# import\n",
    "import pandas as pd"
   ],
   "metadata": {
    "collapsed": false,
    "ExecuteTime": {
     "end_time": "2024-09-27T19:10:04.614770Z",
     "start_time": "2024-09-27T19:10:04.027386Z"
    }
   },
   "id": "21a52acad280b471",
   "execution_count": 1
  },
  {
   "cell_type": "code",
   "outputs": [],
   "source": [
    "# import files \n",
    "main_df = pd.read_csv('/Users/clarissaclark/SIADS_Milestone_1/PM2.5_Vehicles_Population.csv')\n",
    "df_pop = pd.read_csv('/Users/clarissaclark/SIADS_Milestone_1/California_Population.csv') "
   ],
   "metadata": {
    "collapsed": false,
    "ExecuteTime": {
     "end_time": "2024-09-27T19:10:04.625972Z",
     "start_time": "2024-09-27T19:10:04.617028Z"
    }
   },
   "id": "e1920ddc5805565",
   "execution_count": 2
  },
  {
   "cell_type": "code",
   "outputs": [],
   "source": [
    "main_df['Population Z Score'] = main_df['Population Z Score'].round(2)"
   ],
   "metadata": {
    "collapsed": false,
    "ExecuteTime": {
     "end_time": "2024-09-27T19:10:04.635448Z",
     "start_time": "2024-09-27T19:10:04.629360Z"
    }
   },
   "id": "64c6accf7030fc0a",
   "execution_count": 3
  },
  {
   "cell_type": "code",
   "outputs": [],
   "source": [
    "# a study of alameda....you two don't have to follow this if you don't want...\n",
    "\n",
    "alameda = main_df[main_df['County'] == 'Alameda']\n"
   ],
   "metadata": {
    "collapsed": true,
    "ExecuteTime": {
     "end_time": "2024-09-27T19:10:04.646139Z",
     "start_time": "2024-09-27T19:10:04.639738Z"
    }
   },
   "id": "initial_id",
   "execution_count": 4
  },
  {
   "cell_type": "code",
   "outputs": [],
   "source": [
    "# total regestered car users/population \n",
    "def create_comparison(county):\n",
    "    df = main_df[main_df['County'] == county]\n",
    "    df.loc[:,'Total Cars'] = df['Number of Gas Cars'] + df['Number of EV']\n",
    "    df.loc[:,'Total Cars/Population'] = (df['Total Cars'] / df['Population']).round(2)\n",
    "    df.loc[:,'EV/Total Cars'] = (df['Number of EV'] / df['Total Cars']).round(2)\n",
    "    df.loc[:,'Gas/Total Cars'] = (df['Number of Gas Cars'] / df['Total Cars']).round(2)\n",
    "    return df[['Population Z Score','Total Cars/Population', 'EV/Total Cars', 'Gas/Total Cars']] \n",
    "\n",
    "\n",
    "# ev cars/population"
   ],
   "metadata": {
    "collapsed": false,
    "ExecuteTime": {
     "end_time": "2024-09-27T19:10:04.657169Z",
     "start_time": "2024-09-27T19:10:04.648875Z"
    }
   },
   "id": "e9804d930dda2b1c",
   "execution_count": 5
  },
  {
   "cell_type": "code",
   "outputs": [],
   "source": [
    "# so as more people got cars, more ev were regestered. \n",
    "# what is the relationship between population growth and ev adaptation?\n",
    "## it seems to be positive, direct relationship \n",
    "## so as more population increases, ev car adaption also increases. i wonder if this is the same across counties? "
   ],
   "metadata": {
    "collapsed": false,
    "ExecuteTime": {
     "end_time": "2024-09-27T19:10:04.663875Z",
     "start_time": "2024-09-27T19:10:04.660075Z"
    }
   },
   "id": "d0801841e44c3b1d",
   "execution_count": 6
  },
  {
   "cell_type": "code",
   "outputs": [
    {
     "name": "stderr",
     "output_type": "stream",
     "text": [
      "/var/folders/zc/cqjcs2293rz1ymjq5gj5xxb00000gn/T/ipykernel_42864/3700666974.py:4: SettingWithCopyWarning: \n",
      "A value is trying to be set on a copy of a slice from a DataFrame.\n",
      "Try using .loc[row_indexer,col_indexer] = value instead\n",
      "\n",
      "See the caveats in the documentation: https://pandas.pydata.org/pandas-docs/stable/user_guide/indexing.html#returning-a-view-versus-a-copy\n",
      "  df.loc[:,'Total Cars'] = df['Number of Gas Cars'] + df['Number of EV']\n",
      "/var/folders/zc/cqjcs2293rz1ymjq5gj5xxb00000gn/T/ipykernel_42864/3700666974.py:5: SettingWithCopyWarning: \n",
      "A value is trying to be set on a copy of a slice from a DataFrame.\n",
      "Try using .loc[row_indexer,col_indexer] = value instead\n",
      "\n",
      "See the caveats in the documentation: https://pandas.pydata.org/pandas-docs/stable/user_guide/indexing.html#returning-a-view-versus-a-copy\n",
      "  df.loc[:,'Total Cars/Population'] = (df['Total Cars'] / df['Population']).round(2)\n",
      "/var/folders/zc/cqjcs2293rz1ymjq5gj5xxb00000gn/T/ipykernel_42864/3700666974.py:6: SettingWithCopyWarning: \n",
      "A value is trying to be set on a copy of a slice from a DataFrame.\n",
      "Try using .loc[row_indexer,col_indexer] = value instead\n",
      "\n",
      "See the caveats in the documentation: https://pandas.pydata.org/pandas-docs/stable/user_guide/indexing.html#returning-a-view-versus-a-copy\n",
      "  df.loc[:,'EV/Total Cars'] = (df['Number of EV'] / df['Total Cars']).round(2)\n",
      "/var/folders/zc/cqjcs2293rz1ymjq5gj5xxb00000gn/T/ipykernel_42864/3700666974.py:7: SettingWithCopyWarning: \n",
      "A value is trying to be set on a copy of a slice from a DataFrame.\n",
      "Try using .loc[row_indexer,col_indexer] = value instead\n",
      "\n",
      "See the caveats in the documentation: https://pandas.pydata.org/pandas-docs/stable/user_guide/indexing.html#returning-a-view-versus-a-copy\n",
      "  df.loc[:,'Gas/Total Cars'] = (df['Number of Gas Cars'] / df['Total Cars']).round(2)\n"
     ]
    },
    {
     "data": {
      "text/plain": "     Population Z Score  Total Cars/Population  EV/Total Cars  Gas/Total Cars\n32                 0.34                   0.62           0.00            1.00\n84                 0.35                   0.61           0.00            1.00\n136                0.35                   0.61           0.00            1.00\n188                0.36                   0.63           0.00            1.00\n240                0.36                   0.64           0.00            1.00\n292                0.37                   0.65           0.01            0.99\n344                0.37                   0.67           0.01            0.99\n395                0.38                   0.75           0.01            0.99\n446                0.38                   0.75           0.01            0.99\n497                0.38                   0.76           0.02            0.98\n548                0.38                   0.75           0.02            0.98\n599                0.38                   0.75           0.02            0.98\n649                0.38                   0.78           0.04            0.96\n699                0.38                   0.78           0.05            0.95\n747                0.38                    NaN            NaN             NaN",
      "text/html": "<div>\n<style scoped>\n    .dataframe tbody tr th:only-of-type {\n        vertical-align: middle;\n    }\n\n    .dataframe tbody tr th {\n        vertical-align: top;\n    }\n\n    .dataframe thead th {\n        text-align: right;\n    }\n</style>\n<table border=\"1\" class=\"dataframe\">\n  <thead>\n    <tr style=\"text-align: right;\">\n      <th></th>\n      <th>Population Z Score</th>\n      <th>Total Cars/Population</th>\n      <th>EV/Total Cars</th>\n      <th>Gas/Total Cars</th>\n    </tr>\n  </thead>\n  <tbody>\n    <tr>\n      <th>32</th>\n      <td>0.34</td>\n      <td>0.62</td>\n      <td>0.00</td>\n      <td>1.00</td>\n    </tr>\n    <tr>\n      <th>84</th>\n      <td>0.35</td>\n      <td>0.61</td>\n      <td>0.00</td>\n      <td>1.00</td>\n    </tr>\n    <tr>\n      <th>136</th>\n      <td>0.35</td>\n      <td>0.61</td>\n      <td>0.00</td>\n      <td>1.00</td>\n    </tr>\n    <tr>\n      <th>188</th>\n      <td>0.36</td>\n      <td>0.63</td>\n      <td>0.00</td>\n      <td>1.00</td>\n    </tr>\n    <tr>\n      <th>240</th>\n      <td>0.36</td>\n      <td>0.64</td>\n      <td>0.00</td>\n      <td>1.00</td>\n    </tr>\n    <tr>\n      <th>292</th>\n      <td>0.37</td>\n      <td>0.65</td>\n      <td>0.01</td>\n      <td>0.99</td>\n    </tr>\n    <tr>\n      <th>344</th>\n      <td>0.37</td>\n      <td>0.67</td>\n      <td>0.01</td>\n      <td>0.99</td>\n    </tr>\n    <tr>\n      <th>395</th>\n      <td>0.38</td>\n      <td>0.75</td>\n      <td>0.01</td>\n      <td>0.99</td>\n    </tr>\n    <tr>\n      <th>446</th>\n      <td>0.38</td>\n      <td>0.75</td>\n      <td>0.01</td>\n      <td>0.99</td>\n    </tr>\n    <tr>\n      <th>497</th>\n      <td>0.38</td>\n      <td>0.76</td>\n      <td>0.02</td>\n      <td>0.98</td>\n    </tr>\n    <tr>\n      <th>548</th>\n      <td>0.38</td>\n      <td>0.75</td>\n      <td>0.02</td>\n      <td>0.98</td>\n    </tr>\n    <tr>\n      <th>599</th>\n      <td>0.38</td>\n      <td>0.75</td>\n      <td>0.02</td>\n      <td>0.98</td>\n    </tr>\n    <tr>\n      <th>649</th>\n      <td>0.38</td>\n      <td>0.78</td>\n      <td>0.04</td>\n      <td>0.96</td>\n    </tr>\n    <tr>\n      <th>699</th>\n      <td>0.38</td>\n      <td>0.78</td>\n      <td>0.05</td>\n      <td>0.95</td>\n    </tr>\n    <tr>\n      <th>747</th>\n      <td>0.38</td>\n      <td>NaN</td>\n      <td>NaN</td>\n      <td>NaN</td>\n    </tr>\n  </tbody>\n</table>\n</div>"
     },
     "execution_count": 7,
     "metadata": {},
     "output_type": "execute_result"
    }
   ],
   "source": [
    "san_diego = create_comparison('San Diego')\n",
    "san_diego"
   ],
   "metadata": {
    "collapsed": false,
    "ExecuteTime": {
     "end_time": "2024-09-27T19:10:04.679207Z",
     "start_time": "2024-09-27T19:10:04.665256Z"
    }
   },
   "id": "54e337ecb9517446",
   "execution_count": 7
  },
  {
   "cell_type": "code",
   "outputs": [
    {
     "name": "stderr",
     "output_type": "stream",
     "text": [
      "/var/folders/zc/cqjcs2293rz1ymjq5gj5xxb00000gn/T/ipykernel_42864/3700666974.py:4: SettingWithCopyWarning: \n",
      "A value is trying to be set on a copy of a slice from a DataFrame.\n",
      "Try using .loc[row_indexer,col_indexer] = value instead\n",
      "\n",
      "See the caveats in the documentation: https://pandas.pydata.org/pandas-docs/stable/user_guide/indexing.html#returning-a-view-versus-a-copy\n",
      "  df.loc[:,'Total Cars'] = df['Number of Gas Cars'] + df['Number of EV']\n",
      "/var/folders/zc/cqjcs2293rz1ymjq5gj5xxb00000gn/T/ipykernel_42864/3700666974.py:5: SettingWithCopyWarning: \n",
      "A value is trying to be set on a copy of a slice from a DataFrame.\n",
      "Try using .loc[row_indexer,col_indexer] = value instead\n",
      "\n",
      "See the caveats in the documentation: https://pandas.pydata.org/pandas-docs/stable/user_guide/indexing.html#returning-a-view-versus-a-copy\n",
      "  df.loc[:,'Total Cars/Population'] = (df['Total Cars'] / df['Population']).round(2)\n",
      "/var/folders/zc/cqjcs2293rz1ymjq5gj5xxb00000gn/T/ipykernel_42864/3700666974.py:6: SettingWithCopyWarning: \n",
      "A value is trying to be set on a copy of a slice from a DataFrame.\n",
      "Try using .loc[row_indexer,col_indexer] = value instead\n",
      "\n",
      "See the caveats in the documentation: https://pandas.pydata.org/pandas-docs/stable/user_guide/indexing.html#returning-a-view-versus-a-copy\n",
      "  df.loc[:,'EV/Total Cars'] = (df['Number of EV'] / df['Total Cars']).round(2)\n",
      "/var/folders/zc/cqjcs2293rz1ymjq5gj5xxb00000gn/T/ipykernel_42864/3700666974.py:7: SettingWithCopyWarning: \n",
      "A value is trying to be set on a copy of a slice from a DataFrame.\n",
      "Try using .loc[row_indexer,col_indexer] = value instead\n",
      "\n",
      "See the caveats in the documentation: https://pandas.pydata.org/pandas-docs/stable/user_guide/indexing.html#returning-a-view-versus-a-copy\n",
      "  df.loc[:,'Gas/Total Cars'] = (df['Number of Gas Cars'] / df['Total Cars']).round(2)\n"
     ]
    },
    {
     "data": {
      "text/plain": "     Population Z Score  Total Cars/Population  EV/Total Cars  Gas/Total Cars\n15                 1.64                   0.56           0.00            1.00\n67                 1.65                   0.56           0.00            1.00\n119                1.67                   0.56           0.00            1.00\n171                1.68                   0.57           0.00            1.00\n223                1.68                   0.58           0.00            1.00\n275                1.69                   0.59           0.01            0.99\n327                1.69                   0.62           0.01            0.99\n378                1.70                   0.69           0.01            0.99\n429                1.70                   0.69           0.02            0.98\n480                1.69                   0.69           0.02            0.98\n531                1.68                   0.68           0.02            0.98\n582                1.68                   0.68           0.02            0.98\n633                1.65                   0.70           0.04            0.96\n683                1.64                   0.70           0.06            0.94\n732                1.64                    NaN            NaN             NaN",
      "text/html": "<div>\n<style scoped>\n    .dataframe tbody tr th:only-of-type {\n        vertical-align: middle;\n    }\n\n    .dataframe tbody tr th {\n        vertical-align: top;\n    }\n\n    .dataframe thead th {\n        text-align: right;\n    }\n</style>\n<table border=\"1\" class=\"dataframe\">\n  <thead>\n    <tr style=\"text-align: right;\">\n      <th></th>\n      <th>Population Z Score</th>\n      <th>Total Cars/Population</th>\n      <th>EV/Total Cars</th>\n      <th>Gas/Total Cars</th>\n    </tr>\n  </thead>\n  <tbody>\n    <tr>\n      <th>15</th>\n      <td>1.64</td>\n      <td>0.56</td>\n      <td>0.00</td>\n      <td>1.00</td>\n    </tr>\n    <tr>\n      <th>67</th>\n      <td>1.65</td>\n      <td>0.56</td>\n      <td>0.00</td>\n      <td>1.00</td>\n    </tr>\n    <tr>\n      <th>119</th>\n      <td>1.67</td>\n      <td>0.56</td>\n      <td>0.00</td>\n      <td>1.00</td>\n    </tr>\n    <tr>\n      <th>171</th>\n      <td>1.68</td>\n      <td>0.57</td>\n      <td>0.00</td>\n      <td>1.00</td>\n    </tr>\n    <tr>\n      <th>223</th>\n      <td>1.68</td>\n      <td>0.58</td>\n      <td>0.00</td>\n      <td>1.00</td>\n    </tr>\n    <tr>\n      <th>275</th>\n      <td>1.69</td>\n      <td>0.59</td>\n      <td>0.01</td>\n      <td>0.99</td>\n    </tr>\n    <tr>\n      <th>327</th>\n      <td>1.69</td>\n      <td>0.62</td>\n      <td>0.01</td>\n      <td>0.99</td>\n    </tr>\n    <tr>\n      <th>378</th>\n      <td>1.70</td>\n      <td>0.69</td>\n      <td>0.01</td>\n      <td>0.99</td>\n    </tr>\n    <tr>\n      <th>429</th>\n      <td>1.70</td>\n      <td>0.69</td>\n      <td>0.02</td>\n      <td>0.98</td>\n    </tr>\n    <tr>\n      <th>480</th>\n      <td>1.69</td>\n      <td>0.69</td>\n      <td>0.02</td>\n      <td>0.98</td>\n    </tr>\n    <tr>\n      <th>531</th>\n      <td>1.68</td>\n      <td>0.68</td>\n      <td>0.02</td>\n      <td>0.98</td>\n    </tr>\n    <tr>\n      <th>582</th>\n      <td>1.68</td>\n      <td>0.68</td>\n      <td>0.02</td>\n      <td>0.98</td>\n    </tr>\n    <tr>\n      <th>633</th>\n      <td>1.65</td>\n      <td>0.70</td>\n      <td>0.04</td>\n      <td>0.96</td>\n    </tr>\n    <tr>\n      <th>683</th>\n      <td>1.64</td>\n      <td>0.70</td>\n      <td>0.06</td>\n      <td>0.94</td>\n    </tr>\n    <tr>\n      <th>732</th>\n      <td>1.64</td>\n      <td>NaN</td>\n      <td>NaN</td>\n      <td>NaN</td>\n    </tr>\n  </tbody>\n</table>\n</div>"
     },
     "execution_count": 8,
     "metadata": {},
     "output_type": "execute_result"
    }
   ],
   "source": [
    "los_angeles = create_comparison('Los Angeles')\n",
    "los_angeles"
   ],
   "metadata": {
    "collapsed": false,
    "ExecuteTime": {
     "end_time": "2024-09-27T19:10:04.689779Z",
     "start_time": "2024-09-27T19:10:04.681056Z"
    }
   },
   "id": "5d4031cf5e26d839",
   "execution_count": 8
  },
  {
   "cell_type": "code",
   "outputs": [
    {
     "name": "stderr",
     "output_type": "stream",
     "text": [
      "/var/folders/zc/cqjcs2293rz1ymjq5gj5xxb00000gn/T/ipykernel_42864/3700666974.py:4: SettingWithCopyWarning: \n",
      "A value is trying to be set on a copy of a slice from a DataFrame.\n",
      "Try using .loc[row_indexer,col_indexer] = value instead\n",
      "\n",
      "See the caveats in the documentation: https://pandas.pydata.org/pandas-docs/stable/user_guide/indexing.html#returning-a-view-versus-a-copy\n",
      "  df.loc[:,'Total Cars'] = df['Number of Gas Cars'] + df['Number of EV']\n",
      "/var/folders/zc/cqjcs2293rz1ymjq5gj5xxb00000gn/T/ipykernel_42864/3700666974.py:5: SettingWithCopyWarning: \n",
      "A value is trying to be set on a copy of a slice from a DataFrame.\n",
      "Try using .loc[row_indexer,col_indexer] = value instead\n",
      "\n",
      "See the caveats in the documentation: https://pandas.pydata.org/pandas-docs/stable/user_guide/indexing.html#returning-a-view-versus-a-copy\n",
      "  df.loc[:,'Total Cars/Population'] = (df['Total Cars'] / df['Population']).round(2)\n",
      "/var/folders/zc/cqjcs2293rz1ymjq5gj5xxb00000gn/T/ipykernel_42864/3700666974.py:6: SettingWithCopyWarning: \n",
      "A value is trying to be set on a copy of a slice from a DataFrame.\n",
      "Try using .loc[row_indexer,col_indexer] = value instead\n",
      "\n",
      "See the caveats in the documentation: https://pandas.pydata.org/pandas-docs/stable/user_guide/indexing.html#returning-a-view-versus-a-copy\n",
      "  df.loc[:,'EV/Total Cars'] = (df['Number of EV'] / df['Total Cars']).round(2)\n",
      "/var/folders/zc/cqjcs2293rz1ymjq5gj5xxb00000gn/T/ipykernel_42864/3700666974.py:7: SettingWithCopyWarning: \n",
      "A value is trying to be set on a copy of a slice from a DataFrame.\n",
      "Try using .loc[row_indexer,col_indexer] = value instead\n",
      "\n",
      "See the caveats in the documentation: https://pandas.pydata.org/pandas-docs/stable/user_guide/indexing.html#returning-a-view-versus-a-copy\n",
      "  df.loc[:,'Gas/Total Cars'] = (df['Number of Gas Cars'] / df['Total Cars']).round(2)\n"
     ]
    },
    {
     "data": {
      "text/plain": "     Population Z Score  Total Cars/Population  EV/Total Cars  Gas/Total Cars\n25                 0.32                   0.62           0.00            1.00\n77                 0.33                   0.62           0.00            1.00\n129                0.34                   0.61           0.00            1.00\n181                0.34                   0.63           0.00            1.00\n233                0.35                   0.64           0.01            0.99\n285                0.35                   0.65           0.01            0.99\n337                0.35                   0.67           0.01            0.99\n388                0.36                   0.75           0.02            0.98\n439                0.36                   0.75           0.02            0.98\n490                0.36                   0.76           0.03            0.97\n541                0.36                   0.75           0.03            0.97\n592                0.36                   0.75           0.03            0.97\n642                0.35                   0.77           0.06            0.94\n692                0.35                   0.78           0.07            0.93\n740                0.35                    NaN            NaN             NaN",
      "text/html": "<div>\n<style scoped>\n    .dataframe tbody tr th:only-of-type {\n        vertical-align: middle;\n    }\n\n    .dataframe tbody tr th {\n        vertical-align: top;\n    }\n\n    .dataframe thead th {\n        text-align: right;\n    }\n</style>\n<table border=\"1\" class=\"dataframe\">\n  <thead>\n    <tr style=\"text-align: right;\">\n      <th></th>\n      <th>Population Z Score</th>\n      <th>Total Cars/Population</th>\n      <th>EV/Total Cars</th>\n      <th>Gas/Total Cars</th>\n    </tr>\n  </thead>\n  <tbody>\n    <tr>\n      <th>25</th>\n      <td>0.32</td>\n      <td>0.62</td>\n      <td>0.00</td>\n      <td>1.00</td>\n    </tr>\n    <tr>\n      <th>77</th>\n      <td>0.33</td>\n      <td>0.62</td>\n      <td>0.00</td>\n      <td>1.00</td>\n    </tr>\n    <tr>\n      <th>129</th>\n      <td>0.34</td>\n      <td>0.61</td>\n      <td>0.00</td>\n      <td>1.00</td>\n    </tr>\n    <tr>\n      <th>181</th>\n      <td>0.34</td>\n      <td>0.63</td>\n      <td>0.00</td>\n      <td>1.00</td>\n    </tr>\n    <tr>\n      <th>233</th>\n      <td>0.35</td>\n      <td>0.64</td>\n      <td>0.01</td>\n      <td>0.99</td>\n    </tr>\n    <tr>\n      <th>285</th>\n      <td>0.35</td>\n      <td>0.65</td>\n      <td>0.01</td>\n      <td>0.99</td>\n    </tr>\n    <tr>\n      <th>337</th>\n      <td>0.35</td>\n      <td>0.67</td>\n      <td>0.01</td>\n      <td>0.99</td>\n    </tr>\n    <tr>\n      <th>388</th>\n      <td>0.36</td>\n      <td>0.75</td>\n      <td>0.02</td>\n      <td>0.98</td>\n    </tr>\n    <tr>\n      <th>439</th>\n      <td>0.36</td>\n      <td>0.75</td>\n      <td>0.02</td>\n      <td>0.98</td>\n    </tr>\n    <tr>\n      <th>490</th>\n      <td>0.36</td>\n      <td>0.76</td>\n      <td>0.03</td>\n      <td>0.97</td>\n    </tr>\n    <tr>\n      <th>541</th>\n      <td>0.36</td>\n      <td>0.75</td>\n      <td>0.03</td>\n      <td>0.97</td>\n    </tr>\n    <tr>\n      <th>592</th>\n      <td>0.36</td>\n      <td>0.75</td>\n      <td>0.03</td>\n      <td>0.97</td>\n    </tr>\n    <tr>\n      <th>642</th>\n      <td>0.35</td>\n      <td>0.77</td>\n      <td>0.06</td>\n      <td>0.94</td>\n    </tr>\n    <tr>\n      <th>692</th>\n      <td>0.35</td>\n      <td>0.78</td>\n      <td>0.07</td>\n      <td>0.93</td>\n    </tr>\n    <tr>\n      <th>740</th>\n      <td>0.35</td>\n      <td>NaN</td>\n      <td>NaN</td>\n      <td>NaN</td>\n    </tr>\n  </tbody>\n</table>\n</div>"
     },
     "execution_count": 9,
     "metadata": {},
     "output_type": "execute_result"
    }
   ],
   "source": [
    "orange = create_comparison('Orange')\n",
    "orange"
   ],
   "metadata": {
    "collapsed": false,
    "ExecuteTime": {
     "end_time": "2024-09-27T19:10:04.707488Z",
     "start_time": "2024-09-27T19:10:04.693211Z"
    }
   },
   "id": "e07223ab3c8ca3f1",
   "execution_count": 9
  },
  {
   "cell_type": "code",
   "outputs": [
    {
     "name": "stderr",
     "output_type": "stream",
     "text": [
      "/var/folders/zc/cqjcs2293rz1ymjq5gj5xxb00000gn/T/ipykernel_42864/3700666974.py:4: SettingWithCopyWarning: \n",
      "A value is trying to be set on a copy of a slice from a DataFrame.\n",
      "Try using .loc[row_indexer,col_indexer] = value instead\n",
      "\n",
      "See the caveats in the documentation: https://pandas.pydata.org/pandas-docs/stable/user_guide/indexing.html#returning-a-view-versus-a-copy\n",
      "  df.loc[:,'Total Cars'] = df['Number of Gas Cars'] + df['Number of EV']\n",
      "/var/folders/zc/cqjcs2293rz1ymjq5gj5xxb00000gn/T/ipykernel_42864/3700666974.py:5: SettingWithCopyWarning: \n",
      "A value is trying to be set on a copy of a slice from a DataFrame.\n",
      "Try using .loc[row_indexer,col_indexer] = value instead\n",
      "\n",
      "See the caveats in the documentation: https://pandas.pydata.org/pandas-docs/stable/user_guide/indexing.html#returning-a-view-versus-a-copy\n",
      "  df.loc[:,'Total Cars/Population'] = (df['Total Cars'] / df['Population']).round(2)\n",
      "/var/folders/zc/cqjcs2293rz1ymjq5gj5xxb00000gn/T/ipykernel_42864/3700666974.py:6: SettingWithCopyWarning: \n",
      "A value is trying to be set on a copy of a slice from a DataFrame.\n",
      "Try using .loc[row_indexer,col_indexer] = value instead\n",
      "\n",
      "See the caveats in the documentation: https://pandas.pydata.org/pandas-docs/stable/user_guide/indexing.html#returning-a-view-versus-a-copy\n",
      "  df.loc[:,'EV/Total Cars'] = (df['Number of EV'] / df['Total Cars']).round(2)\n",
      "/var/folders/zc/cqjcs2293rz1ymjq5gj5xxb00000gn/T/ipykernel_42864/3700666974.py:7: SettingWithCopyWarning: \n",
      "A value is trying to be set on a copy of a slice from a DataFrame.\n",
      "Try using .loc[row_indexer,col_indexer] = value instead\n",
      "\n",
      "See the caveats in the documentation: https://pandas.pydata.org/pandas-docs/stable/user_guide/indexing.html#returning-a-view-versus-a-copy\n",
      "  df.loc[:,'Gas/Total Cars'] = (df['Number of Gas Cars'] / df['Total Cars']).round(2)\n"
     ]
    },
    {
     "data": {
      "text/plain": "     Population Z Score  Total Cars/Population  EV/Total Cars  Gas/Total Cars\n33                -0.10                   0.44           0.00            1.00\n85                -0.10                   0.43           0.00            1.00\n137               -0.10                   0.43           0.00            1.00\n189               -0.10                   0.44           0.00            1.00\n241               -0.09                   0.44           0.01            0.99\n293               -0.09                   0.44           0.01            0.99\n345               -0.09                   0.45           0.01            0.99\n396               -0.09                   0.49           0.02            0.98\n447               -0.09                   0.49           0.03            0.97\n498               -0.09                   0.48           0.03            0.97\n549               -0.09                   0.47           0.04            0.96\n600               -0.09                   0.47           0.04            0.96\n650               -0.10                   0.49           0.07            0.93\n700               -0.10                   0.49           0.09            0.91\n748               -0.10                    NaN            NaN             NaN",
      "text/html": "<div>\n<style scoped>\n    .dataframe tbody tr th:only-of-type {\n        vertical-align: middle;\n    }\n\n    .dataframe tbody tr th {\n        vertical-align: top;\n    }\n\n    .dataframe thead th {\n        text-align: right;\n    }\n</style>\n<table border=\"1\" class=\"dataframe\">\n  <thead>\n    <tr style=\"text-align: right;\">\n      <th></th>\n      <th>Population Z Score</th>\n      <th>Total Cars/Population</th>\n      <th>EV/Total Cars</th>\n      <th>Gas/Total Cars</th>\n    </tr>\n  </thead>\n  <tbody>\n    <tr>\n      <th>33</th>\n      <td>-0.10</td>\n      <td>0.44</td>\n      <td>0.00</td>\n      <td>1.00</td>\n    </tr>\n    <tr>\n      <th>85</th>\n      <td>-0.10</td>\n      <td>0.43</td>\n      <td>0.00</td>\n      <td>1.00</td>\n    </tr>\n    <tr>\n      <th>137</th>\n      <td>-0.10</td>\n      <td>0.43</td>\n      <td>0.00</td>\n      <td>1.00</td>\n    </tr>\n    <tr>\n      <th>189</th>\n      <td>-0.10</td>\n      <td>0.44</td>\n      <td>0.00</td>\n      <td>1.00</td>\n    </tr>\n    <tr>\n      <th>241</th>\n      <td>-0.09</td>\n      <td>0.44</td>\n      <td>0.01</td>\n      <td>0.99</td>\n    </tr>\n    <tr>\n      <th>293</th>\n      <td>-0.09</td>\n      <td>0.44</td>\n      <td>0.01</td>\n      <td>0.99</td>\n    </tr>\n    <tr>\n      <th>345</th>\n      <td>-0.09</td>\n      <td>0.45</td>\n      <td>0.01</td>\n      <td>0.99</td>\n    </tr>\n    <tr>\n      <th>396</th>\n      <td>-0.09</td>\n      <td>0.49</td>\n      <td>0.02</td>\n      <td>0.98</td>\n    </tr>\n    <tr>\n      <th>447</th>\n      <td>-0.09</td>\n      <td>0.49</td>\n      <td>0.03</td>\n      <td>0.97</td>\n    </tr>\n    <tr>\n      <th>498</th>\n      <td>-0.09</td>\n      <td>0.48</td>\n      <td>0.03</td>\n      <td>0.97</td>\n    </tr>\n    <tr>\n      <th>549</th>\n      <td>-0.09</td>\n      <td>0.47</td>\n      <td>0.04</td>\n      <td>0.96</td>\n    </tr>\n    <tr>\n      <th>600</th>\n      <td>-0.09</td>\n      <td>0.47</td>\n      <td>0.04</td>\n      <td>0.96</td>\n    </tr>\n    <tr>\n      <th>650</th>\n      <td>-0.10</td>\n      <td>0.49</td>\n      <td>0.07</td>\n      <td>0.93</td>\n    </tr>\n    <tr>\n      <th>700</th>\n      <td>-0.10</td>\n      <td>0.49</td>\n      <td>0.09</td>\n      <td>0.91</td>\n    </tr>\n    <tr>\n      <th>748</th>\n      <td>-0.10</td>\n      <td>NaN</td>\n      <td>NaN</td>\n      <td>NaN</td>\n    </tr>\n  </tbody>\n</table>\n</div>"
     },
     "execution_count": 10,
     "metadata": {},
     "output_type": "execute_result"
    }
   ],
   "source": [
    "san_fran =  create_comparison('San Francisco')\n",
    "san_fran"
   ],
   "metadata": {
    "collapsed": false,
    "ExecuteTime": {
     "end_time": "2024-09-27T19:10:04.718522Z",
     "start_time": "2024-09-27T19:10:04.708784Z"
    }
   },
   "id": "4acce750147f2119",
   "execution_count": 10
  },
  {
   "cell_type": "code",
   "outputs": [
    {
     "name": "stderr",
     "output_type": "stream",
     "text": [
      "/var/folders/zc/cqjcs2293rz1ymjq5gj5xxb00000gn/T/ipykernel_42864/3700666974.py:4: SettingWithCopyWarning: \n",
      "A value is trying to be set on a copy of a slice from a DataFrame.\n",
      "Try using .loc[row_indexer,col_indexer] = value instead\n",
      "\n",
      "See the caveats in the documentation: https://pandas.pydata.org/pandas-docs/stable/user_guide/indexing.html#returning-a-view-versus-a-copy\n",
      "  df.loc[:,'Total Cars'] = df['Number of Gas Cars'] + df['Number of EV']\n",
      "/var/folders/zc/cqjcs2293rz1ymjq5gj5xxb00000gn/T/ipykernel_42864/3700666974.py:5: SettingWithCopyWarning: \n",
      "A value is trying to be set on a copy of a slice from a DataFrame.\n",
      "Try using .loc[row_indexer,col_indexer] = value instead\n",
      "\n",
      "See the caveats in the documentation: https://pandas.pydata.org/pandas-docs/stable/user_guide/indexing.html#returning-a-view-versus-a-copy\n",
      "  df.loc[:,'Total Cars/Population'] = (df['Total Cars'] / df['Population']).round(2)\n",
      "/var/folders/zc/cqjcs2293rz1ymjq5gj5xxb00000gn/T/ipykernel_42864/3700666974.py:6: SettingWithCopyWarning: \n",
      "A value is trying to be set on a copy of a slice from a DataFrame.\n",
      "Try using .loc[row_indexer,col_indexer] = value instead\n",
      "\n",
      "See the caveats in the documentation: https://pandas.pydata.org/pandas-docs/stable/user_guide/indexing.html#returning-a-view-versus-a-copy\n",
      "  df.loc[:,'EV/Total Cars'] = (df['Number of EV'] / df['Total Cars']).round(2)\n",
      "/var/folders/zc/cqjcs2293rz1ymjq5gj5xxb00000gn/T/ipykernel_42864/3700666974.py:7: SettingWithCopyWarning: \n",
      "A value is trying to be set on a copy of a slice from a DataFrame.\n",
      "Try using .loc[row_indexer,col_indexer] = value instead\n",
      "\n",
      "See the caveats in the documentation: https://pandas.pydata.org/pandas-docs/stable/user_guide/indexing.html#returning-a-view-versus-a-copy\n",
      "  df.loc[:,'Gas/Total Cars'] = (df['Number of Gas Cars'] / df['Total Cars']).round(2)\n"
     ]
    },
    {
     "data": {
      "text/plain": "     Population Z Score  Total Cars/Population  EV/Total Cars  Gas/Total Cars\n21                -0.26                   0.67           0.00            1.00\n73                -0.26                   0.66           0.00            1.00\n125               -0.26                   0.66           0.00            1.00\n177               -0.26                   0.70           0.00            1.00\n229               -0.26                   0.71           0.00            1.00\n281               -0.26                   0.71           0.00            1.00\n333               -0.26                   0.77           0.00            1.00\n384               -0.26                   0.86           0.00            1.00\n435               -0.26                   0.88           0.00            1.00\n486               -0.26                   0.90           0.00            1.00\n537               -0.26                   0.90           0.01            0.99\n588               -0.26                   0.90           0.01            0.99\n639               -0.26                   0.91           0.01            0.99\n689               -0.26                   0.91           0.02            0.98\n737               -0.26                    NaN            NaN             NaN",
      "text/html": "<div>\n<style scoped>\n    .dataframe tbody tr th:only-of-type {\n        vertical-align: middle;\n    }\n\n    .dataframe tbody tr th {\n        vertical-align: top;\n    }\n\n    .dataframe thead th {\n        text-align: right;\n    }\n</style>\n<table border=\"1\" class=\"dataframe\">\n  <thead>\n    <tr style=\"text-align: right;\">\n      <th></th>\n      <th>Population Z Score</th>\n      <th>Total Cars/Population</th>\n      <th>EV/Total Cars</th>\n      <th>Gas/Total Cars</th>\n    </tr>\n  </thead>\n  <tbody>\n    <tr>\n      <th>21</th>\n      <td>-0.26</td>\n      <td>0.67</td>\n      <td>0.00</td>\n      <td>1.00</td>\n    </tr>\n    <tr>\n      <th>73</th>\n      <td>-0.26</td>\n      <td>0.66</td>\n      <td>0.00</td>\n      <td>1.00</td>\n    </tr>\n    <tr>\n      <th>125</th>\n      <td>-0.26</td>\n      <td>0.66</td>\n      <td>0.00</td>\n      <td>1.00</td>\n    </tr>\n    <tr>\n      <th>177</th>\n      <td>-0.26</td>\n      <td>0.70</td>\n      <td>0.00</td>\n      <td>1.00</td>\n    </tr>\n    <tr>\n      <th>229</th>\n      <td>-0.26</td>\n      <td>0.71</td>\n      <td>0.00</td>\n      <td>1.00</td>\n    </tr>\n    <tr>\n      <th>281</th>\n      <td>-0.26</td>\n      <td>0.71</td>\n      <td>0.00</td>\n      <td>1.00</td>\n    </tr>\n    <tr>\n      <th>333</th>\n      <td>-0.26</td>\n      <td>0.77</td>\n      <td>0.00</td>\n      <td>1.00</td>\n    </tr>\n    <tr>\n      <th>384</th>\n      <td>-0.26</td>\n      <td>0.86</td>\n      <td>0.00</td>\n      <td>1.00</td>\n    </tr>\n    <tr>\n      <th>435</th>\n      <td>-0.26</td>\n      <td>0.88</td>\n      <td>0.00</td>\n      <td>1.00</td>\n    </tr>\n    <tr>\n      <th>486</th>\n      <td>-0.26</td>\n      <td>0.90</td>\n      <td>0.00</td>\n      <td>1.00</td>\n    </tr>\n    <tr>\n      <th>537</th>\n      <td>-0.26</td>\n      <td>0.90</td>\n      <td>0.01</td>\n      <td>0.99</td>\n    </tr>\n    <tr>\n      <th>588</th>\n      <td>-0.26</td>\n      <td>0.90</td>\n      <td>0.01</td>\n      <td>0.99</td>\n    </tr>\n    <tr>\n      <th>639</th>\n      <td>-0.26</td>\n      <td>0.91</td>\n      <td>0.01</td>\n      <td>0.99</td>\n    </tr>\n    <tr>\n      <th>689</th>\n      <td>-0.26</td>\n      <td>0.91</td>\n      <td>0.02</td>\n      <td>0.98</td>\n    </tr>\n    <tr>\n      <th>737</th>\n      <td>-0.26</td>\n      <td>NaN</td>\n      <td>NaN</td>\n      <td>NaN</td>\n    </tr>\n  </tbody>\n</table>\n</div>"
     },
     "execution_count": 11,
     "metadata": {},
     "output_type": "execute_result"
    }
   ],
   "source": [
    "mono = create_comparison('Mono')\n",
    "mono "
   ],
   "metadata": {
    "collapsed": false,
    "ExecuteTime": {
     "end_time": "2024-09-27T19:10:04.727244Z",
     "start_time": "2024-09-27T19:10:04.719818Z"
    }
   },
   "id": "911c6e23c4588b49",
   "execution_count": 11
  },
  {
   "cell_type": "code",
   "outputs": [],
   "source": [
    "# is this crazy?\n",
    "df = pd.read_csv('/Users/clarissaclark/Desktop/isthiscrazy2022.csv')\n",
    "df = df.loc[[28]]"
   ],
   "metadata": {
    "collapsed": false,
    "ExecuteTime": {
     "end_time": "2024-09-27T19:25:32.482646Z",
     "start_time": "2024-09-27T19:25:32.456014Z"
    }
   },
   "id": "fc9ad87dd8e13bb5",
   "execution_count": 44
  },
  {
   "cell_type": "code",
   "outputs": [
    {
     "data": {
      "text/plain": "             County Total Population Estimate, >21 Total Margin of Error, >21  \\\n0           Alameda                      1,270,381                     ±1,184   \n1            Alpine                          1,108                       ±165   \n2            Amador                         33,126                       ±289   \n3             Butte                        157,922                       ±778   \n4         Calaveras                         36,839                       ±276   \n5            Colusa                         15,240                       ±152   \n6      Contra Costa                        863,447                       ±971   \n7         Del Norte                         21,024                       ±202   \n8         El Dorado                        148,083                       ±450   \n9            Fresno                        681,498                       ±965   \n10            Glenn                         19,652                       ±272   \n11         Humboldt                        103,363                       ±537   \n12         Imperial                        120,477                       ±514   \n13             Inyo                         14,503                       ±184   \n14             Kern                        606,433                       ±892   \n15            Kings                        104,565                       ±458   \n16             Lake                         51,589                       ±261   \n17           Lassen                         25,388                       ±192   \n18      Los Angeles                      7,455,744                     ±2,414   \n19           Madera                        107,270                       ±477   \n20            Marin                        201,009                       ±484   \n21         Mariposa                         13,911                       ±180   \n22        Mendocino                         69,062                       ±286   \n23           Merced                        184,420                       ±670   \n24            Modoc                          6,775                       ±129   \n25             Mono                         10,362                       ±280   \n26         Monterey                        304,052                       ±662   \n27             Napa                        104,755                       ±327   \n28           Nevada                         82,189                       ±305   \n29           Orange                      2,364,922                     ±1,700   \n30           Placer                        304,141                       ±517   \n31           Plumas                         15,806                       ±157   \n32        Riverside                      1,724,604                     ±1,482   \n33       Sacramento                      1,157,469                     ±1,022   \n34       San Benito                         45,571                       ±249   \n35   San Bernardino                      1,519,829                     ±1,617   \n36        San Diego                      2,450,295                     ±1,883   \n37    San Francisco                        717,653                       ±598   \n38      San Joaquin                        537,612                       ±744   \n39  San Luis Obispo                        211,147                       ±901   \n40        San Mateo                        581,396                       ±719   \n41    Santa Barbara                        313,937                     ±1,083   \n42      Santa Clara                      1,439,457                     ±1,042   \n43       Santa Cruz                        199,855                       ±725   \n44           Shasta                        136,969                       ±296   \n45           Sierra                          2,455                       ±162   \n46         Siskiyou                         33,523                       ±178   \n47           Solano                        336,338                       ±518   \n48           Sonoma                        376,840                       ±589   \n49       Stanislaus                        380,499                       ±750   \n50           Sutter                         69,857                       ±297   \n51           Tehama                         47,938                       ±266   \n52          Trinity                         12,909                       ±137   \n53           Tulare                        308,219                       ±638   \n54         Tuolumne                         44,006                       ±361   \n55          Ventura                        619,665                       ±870   \n56             Yolo                        151,121                     ±1,017   \n57             Yuba                         56,509                       ±254   \n\n    Data Year  \n0        2022  \n1        2022  \n2        2022  \n3        2022  \n4        2022  \n5        2022  \n6        2022  \n7        2022  \n8        2022  \n9        2022  \n10       2022  \n11       2022  \n12       2022  \n13       2022  \n14       2022  \n15       2022  \n16       2022  \n17       2022  \n18       2022  \n19       2022  \n20       2022  \n21       2022  \n22       2022  \n23       2022  \n24       2022  \n25       2022  \n26       2022  \n27       2022  \n28       2022  \n29       2022  \n30       2022  \n31       2022  \n32       2022  \n33       2022  \n34       2022  \n35       2022  \n36       2022  \n37       2022  \n38       2022  \n39       2022  \n40       2022  \n41       2022  \n42       2022  \n43       2022  \n44       2022  \n45       2022  \n46       2022  \n47       2022  \n48       2022  \n49       2022  \n50       2022  \n51       2022  \n52       2022  \n53       2022  \n54       2022  \n55       2022  \n56       2022  \n57       2022  ",
      "text/html": "<div>\n<style scoped>\n    .dataframe tbody tr th:only-of-type {\n        vertical-align: middle;\n    }\n\n    .dataframe tbody tr th {\n        vertical-align: top;\n    }\n\n    .dataframe thead th {\n        text-align: right;\n    }\n</style>\n<table border=\"1\" class=\"dataframe\">\n  <thead>\n    <tr style=\"text-align: right;\">\n      <th></th>\n      <th>County</th>\n      <th>Total Population Estimate, &gt;21</th>\n      <th>Total Margin of Error, &gt;21</th>\n      <th>Data Year</th>\n    </tr>\n  </thead>\n  <tbody>\n    <tr>\n      <th>0</th>\n      <td>Alameda</td>\n      <td>1,270,381</td>\n      <td>±1,184</td>\n      <td>2022</td>\n    </tr>\n    <tr>\n      <th>1</th>\n      <td>Alpine</td>\n      <td>1,108</td>\n      <td>±165</td>\n      <td>2022</td>\n    </tr>\n    <tr>\n      <th>2</th>\n      <td>Amador</td>\n      <td>33,126</td>\n      <td>±289</td>\n      <td>2022</td>\n    </tr>\n    <tr>\n      <th>3</th>\n      <td>Butte</td>\n      <td>157,922</td>\n      <td>±778</td>\n      <td>2022</td>\n    </tr>\n    <tr>\n      <th>4</th>\n      <td>Calaveras</td>\n      <td>36,839</td>\n      <td>±276</td>\n      <td>2022</td>\n    </tr>\n    <tr>\n      <th>5</th>\n      <td>Colusa</td>\n      <td>15,240</td>\n      <td>±152</td>\n      <td>2022</td>\n    </tr>\n    <tr>\n      <th>6</th>\n      <td>Contra Costa</td>\n      <td>863,447</td>\n      <td>±971</td>\n      <td>2022</td>\n    </tr>\n    <tr>\n      <th>7</th>\n      <td>Del Norte</td>\n      <td>21,024</td>\n      <td>±202</td>\n      <td>2022</td>\n    </tr>\n    <tr>\n      <th>8</th>\n      <td>El Dorado</td>\n      <td>148,083</td>\n      <td>±450</td>\n      <td>2022</td>\n    </tr>\n    <tr>\n      <th>9</th>\n      <td>Fresno</td>\n      <td>681,498</td>\n      <td>±965</td>\n      <td>2022</td>\n    </tr>\n    <tr>\n      <th>10</th>\n      <td>Glenn</td>\n      <td>19,652</td>\n      <td>±272</td>\n      <td>2022</td>\n    </tr>\n    <tr>\n      <th>11</th>\n      <td>Humboldt</td>\n      <td>103,363</td>\n      <td>±537</td>\n      <td>2022</td>\n    </tr>\n    <tr>\n      <th>12</th>\n      <td>Imperial</td>\n      <td>120,477</td>\n      <td>±514</td>\n      <td>2022</td>\n    </tr>\n    <tr>\n      <th>13</th>\n      <td>Inyo</td>\n      <td>14,503</td>\n      <td>±184</td>\n      <td>2022</td>\n    </tr>\n    <tr>\n      <th>14</th>\n      <td>Kern</td>\n      <td>606,433</td>\n      <td>±892</td>\n      <td>2022</td>\n    </tr>\n    <tr>\n      <th>15</th>\n      <td>Kings</td>\n      <td>104,565</td>\n      <td>±458</td>\n      <td>2022</td>\n    </tr>\n    <tr>\n      <th>16</th>\n      <td>Lake</td>\n      <td>51,589</td>\n      <td>±261</td>\n      <td>2022</td>\n    </tr>\n    <tr>\n      <th>17</th>\n      <td>Lassen</td>\n      <td>25,388</td>\n      <td>±192</td>\n      <td>2022</td>\n    </tr>\n    <tr>\n      <th>18</th>\n      <td>Los Angeles</td>\n      <td>7,455,744</td>\n      <td>±2,414</td>\n      <td>2022</td>\n    </tr>\n    <tr>\n      <th>19</th>\n      <td>Madera</td>\n      <td>107,270</td>\n      <td>±477</td>\n      <td>2022</td>\n    </tr>\n    <tr>\n      <th>20</th>\n      <td>Marin</td>\n      <td>201,009</td>\n      <td>±484</td>\n      <td>2022</td>\n    </tr>\n    <tr>\n      <th>21</th>\n      <td>Mariposa</td>\n      <td>13,911</td>\n      <td>±180</td>\n      <td>2022</td>\n    </tr>\n    <tr>\n      <th>22</th>\n      <td>Mendocino</td>\n      <td>69,062</td>\n      <td>±286</td>\n      <td>2022</td>\n    </tr>\n    <tr>\n      <th>23</th>\n      <td>Merced</td>\n      <td>184,420</td>\n      <td>±670</td>\n      <td>2022</td>\n    </tr>\n    <tr>\n      <th>24</th>\n      <td>Modoc</td>\n      <td>6,775</td>\n      <td>±129</td>\n      <td>2022</td>\n    </tr>\n    <tr>\n      <th>25</th>\n      <td>Mono</td>\n      <td>10,362</td>\n      <td>±280</td>\n      <td>2022</td>\n    </tr>\n    <tr>\n      <th>26</th>\n      <td>Monterey</td>\n      <td>304,052</td>\n      <td>±662</td>\n      <td>2022</td>\n    </tr>\n    <tr>\n      <th>27</th>\n      <td>Napa</td>\n      <td>104,755</td>\n      <td>±327</td>\n      <td>2022</td>\n    </tr>\n    <tr>\n      <th>28</th>\n      <td>Nevada</td>\n      <td>82,189</td>\n      <td>±305</td>\n      <td>2022</td>\n    </tr>\n    <tr>\n      <th>29</th>\n      <td>Orange</td>\n      <td>2,364,922</td>\n      <td>±1,700</td>\n      <td>2022</td>\n    </tr>\n    <tr>\n      <th>30</th>\n      <td>Placer</td>\n      <td>304,141</td>\n      <td>±517</td>\n      <td>2022</td>\n    </tr>\n    <tr>\n      <th>31</th>\n      <td>Plumas</td>\n      <td>15,806</td>\n      <td>±157</td>\n      <td>2022</td>\n    </tr>\n    <tr>\n      <th>32</th>\n      <td>Riverside</td>\n      <td>1,724,604</td>\n      <td>±1,482</td>\n      <td>2022</td>\n    </tr>\n    <tr>\n      <th>33</th>\n      <td>Sacramento</td>\n      <td>1,157,469</td>\n      <td>±1,022</td>\n      <td>2022</td>\n    </tr>\n    <tr>\n      <th>34</th>\n      <td>San Benito</td>\n      <td>45,571</td>\n      <td>±249</td>\n      <td>2022</td>\n    </tr>\n    <tr>\n      <th>35</th>\n      <td>San Bernardino</td>\n      <td>1,519,829</td>\n      <td>±1,617</td>\n      <td>2022</td>\n    </tr>\n    <tr>\n      <th>36</th>\n      <td>San Diego</td>\n      <td>2,450,295</td>\n      <td>±1,883</td>\n      <td>2022</td>\n    </tr>\n    <tr>\n      <th>37</th>\n      <td>San Francisco</td>\n      <td>717,653</td>\n      <td>±598</td>\n      <td>2022</td>\n    </tr>\n    <tr>\n      <th>38</th>\n      <td>San Joaquin</td>\n      <td>537,612</td>\n      <td>±744</td>\n      <td>2022</td>\n    </tr>\n    <tr>\n      <th>39</th>\n      <td>San Luis Obispo</td>\n      <td>211,147</td>\n      <td>±901</td>\n      <td>2022</td>\n    </tr>\n    <tr>\n      <th>40</th>\n      <td>San Mateo</td>\n      <td>581,396</td>\n      <td>±719</td>\n      <td>2022</td>\n    </tr>\n    <tr>\n      <th>41</th>\n      <td>Santa Barbara</td>\n      <td>313,937</td>\n      <td>±1,083</td>\n      <td>2022</td>\n    </tr>\n    <tr>\n      <th>42</th>\n      <td>Santa Clara</td>\n      <td>1,439,457</td>\n      <td>±1,042</td>\n      <td>2022</td>\n    </tr>\n    <tr>\n      <th>43</th>\n      <td>Santa Cruz</td>\n      <td>199,855</td>\n      <td>±725</td>\n      <td>2022</td>\n    </tr>\n    <tr>\n      <th>44</th>\n      <td>Shasta</td>\n      <td>136,969</td>\n      <td>±296</td>\n      <td>2022</td>\n    </tr>\n    <tr>\n      <th>45</th>\n      <td>Sierra</td>\n      <td>2,455</td>\n      <td>±162</td>\n      <td>2022</td>\n    </tr>\n    <tr>\n      <th>46</th>\n      <td>Siskiyou</td>\n      <td>33,523</td>\n      <td>±178</td>\n      <td>2022</td>\n    </tr>\n    <tr>\n      <th>47</th>\n      <td>Solano</td>\n      <td>336,338</td>\n      <td>±518</td>\n      <td>2022</td>\n    </tr>\n    <tr>\n      <th>48</th>\n      <td>Sonoma</td>\n      <td>376,840</td>\n      <td>±589</td>\n      <td>2022</td>\n    </tr>\n    <tr>\n      <th>49</th>\n      <td>Stanislaus</td>\n      <td>380,499</td>\n      <td>±750</td>\n      <td>2022</td>\n    </tr>\n    <tr>\n      <th>50</th>\n      <td>Sutter</td>\n      <td>69,857</td>\n      <td>±297</td>\n      <td>2022</td>\n    </tr>\n    <tr>\n      <th>51</th>\n      <td>Tehama</td>\n      <td>47,938</td>\n      <td>±266</td>\n      <td>2022</td>\n    </tr>\n    <tr>\n      <th>52</th>\n      <td>Trinity</td>\n      <td>12,909</td>\n      <td>±137</td>\n      <td>2022</td>\n    </tr>\n    <tr>\n      <th>53</th>\n      <td>Tulare</td>\n      <td>308,219</td>\n      <td>±638</td>\n      <td>2022</td>\n    </tr>\n    <tr>\n      <th>54</th>\n      <td>Tuolumne</td>\n      <td>44,006</td>\n      <td>±361</td>\n      <td>2022</td>\n    </tr>\n    <tr>\n      <th>55</th>\n      <td>Ventura</td>\n      <td>619,665</td>\n      <td>±870</td>\n      <td>2022</td>\n    </tr>\n    <tr>\n      <th>56</th>\n      <td>Yolo</td>\n      <td>151,121</td>\n      <td>±1,017</td>\n      <td>2022</td>\n    </tr>\n    <tr>\n      <th>57</th>\n      <td>Yuba</td>\n      <td>56,509</td>\n      <td>±254</td>\n      <td>2022</td>\n    </tr>\n  </tbody>\n</table>\n</div>"
     },
     "execution_count": 50,
     "metadata": {},
     "output_type": "execute_result"
    }
   ],
   "source": [
    "# extract unique county names\n",
    "county_names = [col.split(\"!!\")[0] for col in df.columns if \"California\" in col]\n",
    "county_names = list(set(county_names))\n",
    "\n",
    "# extract county total and margin of error from main dataset\n",
    "county_total = [f\"{county}!!Total!!Estimate\" for county in county_names]\n",
    "county_margin_of_error = [f\"{county}!!Total!!Margin of Error\" for county in county_names]\n",
    "\n",
    "# making df of those\n",
    "county_total = df.loc[:, county_total]\n",
    "county_margin_of_error = df.loc[:, county_margin_of_error]\n",
    "\n",
    "# creating county total population estimate df \n",
    "ct_df =county_total.transpose()\n",
    "ct_df = ct_df.reset_index() \n",
    "ct_df.columns = ['County' , 'Total Population Estimate, >21']\n",
    "ct_df['County'] = ct_df['County'].str.split(' County').str[0]\n",
    "ct_df = ct_df.sort_values(by='County', ascending=True).reset_index(drop=True)\n",
    "\n",
    "# creating county margin of error \n",
    "me_df = county_margin_of_error.transpose()\n",
    "me_df = me_df.reset_index() \n",
    "me_df.columns = ['County' , 'Total Margin of Error, >21']\n",
    "me_df['County'] = me_df['County'].str.split(' County').str[0]\n",
    "me_df = me_df.sort_values(by='County', ascending=True).reset_index(drop=True) \n",
    "\n",
    "# merging on county \n",
    "ct_me_df22 = pd.merge(ct_df, me_df, how='inner', on = ['County'])\n",
    "ct_me_df22['Data Year'] = 2022\n",
    "ct_me_df22"
   ],
   "metadata": {
    "collapsed": false,
    "ExecuteTime": {
     "end_time": "2024-09-27T19:28:47.488048Z",
     "start_time": "2024-09-27T19:28:47.442802Z"
    }
   },
   "id": "e28a78d2e7c0aba9",
   "execution_count": 50
  },
  {
   "cell_type": "code",
   "outputs": [
    {
     "data": {
      "text/plain": "    Data Year           County  Average PM 2.5/County  \\\n0        2022          Alameda               8.198048   \n1        2022            Butte               6.188046   \n2        2022        Calaveras               6.037746   \n3        2022           Colusa               7.607731   \n4        2022     Contra Costa               8.250306   \n5        2022        Del Norte               4.969651   \n6        2022        El Dorado               4.067105   \n7        2022           Fresno              10.188664   \n8        2022            Glenn               5.339316   \n9        2022         Humboldt               6.757759   \n10       2022         Imperial               9.551077   \n11       2022             Inyo               5.569743   \n12       2022             Kern               9.882255   \n13       2022            Kings              14.402358   \n14       2022             Lake               4.257377   \n15       2022      Los Angeles              10.971637   \n16       2022           Madera              10.386389   \n17       2022            Marin               6.544538   \n18       2022         Mariposa               9.468815   \n19       2022        Mendocino              10.138374   \n20       2022           Merced              10.061335   \n21       2022             Mono               4.429237   \n22       2022         Monterey               4.752279   \n23       2022           Nevada               7.594823   \n24       2022           Orange               9.246932   \n25       2022           Placer               7.277508   \n26       2022           Plumas              11.235484   \n27       2022        Riverside               9.126721   \n28       2022       Sacramento               8.247535   \n29       2022       San Benito               4.708159   \n30       2022   San Bernardino               9.419042   \n31       2022        San Diego               8.297673   \n32       2022    San Francisco               6.779224   \n33       2022      San Joaquin               7.902461   \n34       2022  San Luis Obispo               7.103153   \n35       2022        San Mateo               6.795787   \n36       2022    Santa Barbara               6.063512   \n37       2022      Santa Clara               8.777092   \n38       2022       Santa Cruz               5.227504   \n39       2022           Shasta               5.666984   \n40       2022         Siskiyou               7.597170   \n41       2022           Solano               7.895000   \n42       2022           Sonoma               6.376149   \n43       2022       Stanislaus              12.124430   \n44       2022           Sutter              10.035253   \n45       2022           Tehama               5.871182   \n46       2022          Trinity              10.727612   \n47       2022           Tulare              10.411529   \n48       2022          Ventura               6.845493   \n49       2022             Yolo               5.437008   \n\n    Number of Site IDs/County  Number of Gas Cars  Number of EV  Population  \\\n0                         5.0           1057501.0       72557.0   1643683.0   \n1                         3.0            151828.0        1732.0    206184.0   \n2                         1.0             51920.0         515.0     45021.0   \n3                         2.0             19767.0         106.0     21722.0   \n4                         2.0            835523.0       44133.0   1149841.0   \n5                         2.0             20045.0         128.0     26982.0   \n6                         2.0            162883.0        4869.0    189294.0   \n7                         8.0            688871.0       10390.0   1010177.0   \n8                         1.0             24773.0         130.0     28777.0   \n9                         1.0            106882.0        2126.0    134167.0   \n10                        4.0            166477.0         770.0    180394.0   \n11                        5.0             19560.0         176.0     18916.0   \n12                        7.0            602843.0        6880.0    908186.0   \n13                        2.0             95204.0         886.0    151654.0   \n14                        1.0             63526.0         600.0     67597.0   \n15                       15.0           6650471.0      282343.0   9861493.0   \n16                        1.0            113641.0        1241.0    157040.0   \n17                        2.0            191793.0       15449.0    255459.0   \n18                        2.0             17290.0         147.0     16988.0   \n19                        2.0             81800.0        1346.0     90227.0   \n20                        2.0            200238.0        2086.0    284038.0   \n21                        3.0             11671.0         144.0     12987.0   \n22                        3.0            319103.0        6379.0    436033.0   \n23                        2.0             84769.0        1946.0    101080.0   \n24                        2.0           2299018.0      134291.0   3158071.0   \n25                        5.0            328962.0       12350.0    407539.0   \n26                        3.0             18889.0         117.0     19254.0   \n27                       11.0           1765291.0       47681.0   2427832.0   \n28                        5.0           1107136.0       32416.0   1572254.0   \n29                        2.0             53803.0        1485.0     65642.0   \n30                        9.0           1568171.0       36094.0   2179845.0   \n31                       10.0           2446883.0       95024.0   3278730.0   \n32                        1.0            386911.0       28011.0    840575.0   \n33                        3.0            556150.0       12961.0    782163.0   \n34                        4.0            222920.0        6929.0    279439.0   \n35                        1.0            567346.0       43165.0    742051.0   \n36                        5.0            325288.0        8983.0    443074.0   \n37                        3.0           1289536.0      108243.0   1895752.0   \n38                        2.0            215275.0        8169.0    264495.0   \n39                        2.0            132514.0        1516.0    180206.0   \n40                        2.0             44395.0         241.0     43571.0   \n41                        1.0            339309.0        9315.0    447027.0   \n42                        1.0            397389.0       15055.0    479654.0   \n43                        2.0            403896.0        5345.0    548215.0   \n44                        1.0             74337.0         885.0     99153.0   \n45                        1.0             56998.0         288.0     64942.0   \n46                        2.0             11910.0          63.0     15971.0   \n47                        4.0            330357.0        2826.0    474624.0   \n48                        5.0            658712.0       23713.0    831531.0   \n49                        2.0            149982.0        5077.0    220176.0   \n\n    Population Z Score Total Population Estimate, >21  \\\n0                 0.06                      1,270,381   \n1                -0.22                        157,922   \n2                -0.25                         36,839   \n3                -0.25                         15,240   \n4                -0.04                        863,447   \n5                -0.25                         21,024   \n6                -0.22                        148,083   \n7                -0.06                        681,498   \n8                -0.25                         19,652   \n9                -0.23                        103,363   \n10               -0.22                        120,477   \n11               -0.26                         14,503   \n12               -0.08                        606,433   \n13               -0.23                        104,565   \n14               -0.25                         51,589   \n15                1.65                      7,455,744   \n16               -0.23                        107,270   \n17               -0.21                        201,009   \n18               -0.26                         13,911   \n19               -0.24                         69,062   \n20               -0.20                        184,420   \n21               -0.26                         10,362   \n22               -0.17                        304,052   \n23               -0.24                         82,189   \n24                0.35                      2,364,922   \n25               -0.18                        304,141   \n26               -0.26                         15,806   \n27                0.21                      1,724,604   \n28                0.05                      1,157,469   \n29               -0.25                         45,571   \n30                0.16                      1,519,829   \n31                0.38                      2,450,295   \n32               -0.10                        717,653   \n33               -0.11                        537,612   \n34               -0.20                        211,147   \n35               -0.12                        581,396   \n36               -0.17                        313,937   \n37                0.11                      1,439,457   \n38               -0.21                        199,855   \n39               -0.22                        136,969   \n40               -0.25                         33,523   \n41               -0.17                        336,338   \n42               -0.17                        376,840   \n43               -0.15                        380,499   \n44               -0.24                         69,857   \n45               -0.25                         47,938   \n46               -0.26                         12,909   \n47               -0.17                        308,219   \n48               -0.10                        619,665   \n49               -0.22                        151,121   \n\n   Total Margin of Error, >21  \n0                      ±1,184  \n1                        ±778  \n2                        ±276  \n3                        ±152  \n4                        ±971  \n5                        ±202  \n6                        ±450  \n7                        ±965  \n8                        ±272  \n9                        ±537  \n10                       ±514  \n11                       ±184  \n12                       ±892  \n13                       ±458  \n14                       ±261  \n15                     ±2,414  \n16                       ±477  \n17                       ±484  \n18                       ±180  \n19                       ±286  \n20                       ±670  \n21                       ±280  \n22                       ±662  \n23                       ±305  \n24                     ±1,700  \n25                       ±517  \n26                       ±157  \n27                     ±1,482  \n28                     ±1,022  \n29                       ±249  \n30                     ±1,617  \n31                     ±1,883  \n32                       ±598  \n33                       ±744  \n34                       ±901  \n35                       ±719  \n36                     ±1,083  \n37                     ±1,042  \n38                       ±725  \n39                       ±296  \n40                       ±178  \n41                       ±518  \n42                       ±589  \n43                       ±750  \n44                       ±297  \n45                       ±266  \n46                       ±137  \n47                       ±638  \n48                       ±870  \n49                     ±1,017  ",
      "text/html": "<div>\n<style scoped>\n    .dataframe tbody tr th:only-of-type {\n        vertical-align: middle;\n    }\n\n    .dataframe tbody tr th {\n        vertical-align: top;\n    }\n\n    .dataframe thead th {\n        text-align: right;\n    }\n</style>\n<table border=\"1\" class=\"dataframe\">\n  <thead>\n    <tr style=\"text-align: right;\">\n      <th></th>\n      <th>Data Year</th>\n      <th>County</th>\n      <th>Average PM 2.5/County</th>\n      <th>Number of Site IDs/County</th>\n      <th>Number of Gas Cars</th>\n      <th>Number of EV</th>\n      <th>Population</th>\n      <th>Population Z Score</th>\n      <th>Total Population Estimate, &gt;21</th>\n      <th>Total Margin of Error, &gt;21</th>\n    </tr>\n  </thead>\n  <tbody>\n    <tr>\n      <th>0</th>\n      <td>2022</td>\n      <td>Alameda</td>\n      <td>8.198048</td>\n      <td>5.0</td>\n      <td>1057501.0</td>\n      <td>72557.0</td>\n      <td>1643683.0</td>\n      <td>0.06</td>\n      <td>1,270,381</td>\n      <td>±1,184</td>\n    </tr>\n    <tr>\n      <th>1</th>\n      <td>2022</td>\n      <td>Butte</td>\n      <td>6.188046</td>\n      <td>3.0</td>\n      <td>151828.0</td>\n      <td>1732.0</td>\n      <td>206184.0</td>\n      <td>-0.22</td>\n      <td>157,922</td>\n      <td>±778</td>\n    </tr>\n    <tr>\n      <th>2</th>\n      <td>2022</td>\n      <td>Calaveras</td>\n      <td>6.037746</td>\n      <td>1.0</td>\n      <td>51920.0</td>\n      <td>515.0</td>\n      <td>45021.0</td>\n      <td>-0.25</td>\n      <td>36,839</td>\n      <td>±276</td>\n    </tr>\n    <tr>\n      <th>3</th>\n      <td>2022</td>\n      <td>Colusa</td>\n      <td>7.607731</td>\n      <td>2.0</td>\n      <td>19767.0</td>\n      <td>106.0</td>\n      <td>21722.0</td>\n      <td>-0.25</td>\n      <td>15,240</td>\n      <td>±152</td>\n    </tr>\n    <tr>\n      <th>4</th>\n      <td>2022</td>\n      <td>Contra Costa</td>\n      <td>8.250306</td>\n      <td>2.0</td>\n      <td>835523.0</td>\n      <td>44133.0</td>\n      <td>1149841.0</td>\n      <td>-0.04</td>\n      <td>863,447</td>\n      <td>±971</td>\n    </tr>\n    <tr>\n      <th>5</th>\n      <td>2022</td>\n      <td>Del Norte</td>\n      <td>4.969651</td>\n      <td>2.0</td>\n      <td>20045.0</td>\n      <td>128.0</td>\n      <td>26982.0</td>\n      <td>-0.25</td>\n      <td>21,024</td>\n      <td>±202</td>\n    </tr>\n    <tr>\n      <th>6</th>\n      <td>2022</td>\n      <td>El Dorado</td>\n      <td>4.067105</td>\n      <td>2.0</td>\n      <td>162883.0</td>\n      <td>4869.0</td>\n      <td>189294.0</td>\n      <td>-0.22</td>\n      <td>148,083</td>\n      <td>±450</td>\n    </tr>\n    <tr>\n      <th>7</th>\n      <td>2022</td>\n      <td>Fresno</td>\n      <td>10.188664</td>\n      <td>8.0</td>\n      <td>688871.0</td>\n      <td>10390.0</td>\n      <td>1010177.0</td>\n      <td>-0.06</td>\n      <td>681,498</td>\n      <td>±965</td>\n    </tr>\n    <tr>\n      <th>8</th>\n      <td>2022</td>\n      <td>Glenn</td>\n      <td>5.339316</td>\n      <td>1.0</td>\n      <td>24773.0</td>\n      <td>130.0</td>\n      <td>28777.0</td>\n      <td>-0.25</td>\n      <td>19,652</td>\n      <td>±272</td>\n    </tr>\n    <tr>\n      <th>9</th>\n      <td>2022</td>\n      <td>Humboldt</td>\n      <td>6.757759</td>\n      <td>1.0</td>\n      <td>106882.0</td>\n      <td>2126.0</td>\n      <td>134167.0</td>\n      <td>-0.23</td>\n      <td>103,363</td>\n      <td>±537</td>\n    </tr>\n    <tr>\n      <th>10</th>\n      <td>2022</td>\n      <td>Imperial</td>\n      <td>9.551077</td>\n      <td>4.0</td>\n      <td>166477.0</td>\n      <td>770.0</td>\n      <td>180394.0</td>\n      <td>-0.22</td>\n      <td>120,477</td>\n      <td>±514</td>\n    </tr>\n    <tr>\n      <th>11</th>\n      <td>2022</td>\n      <td>Inyo</td>\n      <td>5.569743</td>\n      <td>5.0</td>\n      <td>19560.0</td>\n      <td>176.0</td>\n      <td>18916.0</td>\n      <td>-0.26</td>\n      <td>14,503</td>\n      <td>±184</td>\n    </tr>\n    <tr>\n      <th>12</th>\n      <td>2022</td>\n      <td>Kern</td>\n      <td>9.882255</td>\n      <td>7.0</td>\n      <td>602843.0</td>\n      <td>6880.0</td>\n      <td>908186.0</td>\n      <td>-0.08</td>\n      <td>606,433</td>\n      <td>±892</td>\n    </tr>\n    <tr>\n      <th>13</th>\n      <td>2022</td>\n      <td>Kings</td>\n      <td>14.402358</td>\n      <td>2.0</td>\n      <td>95204.0</td>\n      <td>886.0</td>\n      <td>151654.0</td>\n      <td>-0.23</td>\n      <td>104,565</td>\n      <td>±458</td>\n    </tr>\n    <tr>\n      <th>14</th>\n      <td>2022</td>\n      <td>Lake</td>\n      <td>4.257377</td>\n      <td>1.0</td>\n      <td>63526.0</td>\n      <td>600.0</td>\n      <td>67597.0</td>\n      <td>-0.25</td>\n      <td>51,589</td>\n      <td>±261</td>\n    </tr>\n    <tr>\n      <th>15</th>\n      <td>2022</td>\n      <td>Los Angeles</td>\n      <td>10.971637</td>\n      <td>15.0</td>\n      <td>6650471.0</td>\n      <td>282343.0</td>\n      <td>9861493.0</td>\n      <td>1.65</td>\n      <td>7,455,744</td>\n      <td>±2,414</td>\n    </tr>\n    <tr>\n      <th>16</th>\n      <td>2022</td>\n      <td>Madera</td>\n      <td>10.386389</td>\n      <td>1.0</td>\n      <td>113641.0</td>\n      <td>1241.0</td>\n      <td>157040.0</td>\n      <td>-0.23</td>\n      <td>107,270</td>\n      <td>±477</td>\n    </tr>\n    <tr>\n      <th>17</th>\n      <td>2022</td>\n      <td>Marin</td>\n      <td>6.544538</td>\n      <td>2.0</td>\n      <td>191793.0</td>\n      <td>15449.0</td>\n      <td>255459.0</td>\n      <td>-0.21</td>\n      <td>201,009</td>\n      <td>±484</td>\n    </tr>\n    <tr>\n      <th>18</th>\n      <td>2022</td>\n      <td>Mariposa</td>\n      <td>9.468815</td>\n      <td>2.0</td>\n      <td>17290.0</td>\n      <td>147.0</td>\n      <td>16988.0</td>\n      <td>-0.26</td>\n      <td>13,911</td>\n      <td>±180</td>\n    </tr>\n    <tr>\n      <th>19</th>\n      <td>2022</td>\n      <td>Mendocino</td>\n      <td>10.138374</td>\n      <td>2.0</td>\n      <td>81800.0</td>\n      <td>1346.0</td>\n      <td>90227.0</td>\n      <td>-0.24</td>\n      <td>69,062</td>\n      <td>±286</td>\n    </tr>\n    <tr>\n      <th>20</th>\n      <td>2022</td>\n      <td>Merced</td>\n      <td>10.061335</td>\n      <td>2.0</td>\n      <td>200238.0</td>\n      <td>2086.0</td>\n      <td>284038.0</td>\n      <td>-0.20</td>\n      <td>184,420</td>\n      <td>±670</td>\n    </tr>\n    <tr>\n      <th>21</th>\n      <td>2022</td>\n      <td>Mono</td>\n      <td>4.429237</td>\n      <td>3.0</td>\n      <td>11671.0</td>\n      <td>144.0</td>\n      <td>12987.0</td>\n      <td>-0.26</td>\n      <td>10,362</td>\n      <td>±280</td>\n    </tr>\n    <tr>\n      <th>22</th>\n      <td>2022</td>\n      <td>Monterey</td>\n      <td>4.752279</td>\n      <td>3.0</td>\n      <td>319103.0</td>\n      <td>6379.0</td>\n      <td>436033.0</td>\n      <td>-0.17</td>\n      <td>304,052</td>\n      <td>±662</td>\n    </tr>\n    <tr>\n      <th>23</th>\n      <td>2022</td>\n      <td>Nevada</td>\n      <td>7.594823</td>\n      <td>2.0</td>\n      <td>84769.0</td>\n      <td>1946.0</td>\n      <td>101080.0</td>\n      <td>-0.24</td>\n      <td>82,189</td>\n      <td>±305</td>\n    </tr>\n    <tr>\n      <th>24</th>\n      <td>2022</td>\n      <td>Orange</td>\n      <td>9.246932</td>\n      <td>2.0</td>\n      <td>2299018.0</td>\n      <td>134291.0</td>\n      <td>3158071.0</td>\n      <td>0.35</td>\n      <td>2,364,922</td>\n      <td>±1,700</td>\n    </tr>\n    <tr>\n      <th>25</th>\n      <td>2022</td>\n      <td>Placer</td>\n      <td>7.277508</td>\n      <td>5.0</td>\n      <td>328962.0</td>\n      <td>12350.0</td>\n      <td>407539.0</td>\n      <td>-0.18</td>\n      <td>304,141</td>\n      <td>±517</td>\n    </tr>\n    <tr>\n      <th>26</th>\n      <td>2022</td>\n      <td>Plumas</td>\n      <td>11.235484</td>\n      <td>3.0</td>\n      <td>18889.0</td>\n      <td>117.0</td>\n      <td>19254.0</td>\n      <td>-0.26</td>\n      <td>15,806</td>\n      <td>±157</td>\n    </tr>\n    <tr>\n      <th>27</th>\n      <td>2022</td>\n      <td>Riverside</td>\n      <td>9.126721</td>\n      <td>11.0</td>\n      <td>1765291.0</td>\n      <td>47681.0</td>\n      <td>2427832.0</td>\n      <td>0.21</td>\n      <td>1,724,604</td>\n      <td>±1,482</td>\n    </tr>\n    <tr>\n      <th>28</th>\n      <td>2022</td>\n      <td>Sacramento</td>\n      <td>8.247535</td>\n      <td>5.0</td>\n      <td>1107136.0</td>\n      <td>32416.0</td>\n      <td>1572254.0</td>\n      <td>0.05</td>\n      <td>1,157,469</td>\n      <td>±1,022</td>\n    </tr>\n    <tr>\n      <th>29</th>\n      <td>2022</td>\n      <td>San Benito</td>\n      <td>4.708159</td>\n      <td>2.0</td>\n      <td>53803.0</td>\n      <td>1485.0</td>\n      <td>65642.0</td>\n      <td>-0.25</td>\n      <td>45,571</td>\n      <td>±249</td>\n    </tr>\n    <tr>\n      <th>30</th>\n      <td>2022</td>\n      <td>San Bernardino</td>\n      <td>9.419042</td>\n      <td>9.0</td>\n      <td>1568171.0</td>\n      <td>36094.0</td>\n      <td>2179845.0</td>\n      <td>0.16</td>\n      <td>1,519,829</td>\n      <td>±1,617</td>\n    </tr>\n    <tr>\n      <th>31</th>\n      <td>2022</td>\n      <td>San Diego</td>\n      <td>8.297673</td>\n      <td>10.0</td>\n      <td>2446883.0</td>\n      <td>95024.0</td>\n      <td>3278730.0</td>\n      <td>0.38</td>\n      <td>2,450,295</td>\n      <td>±1,883</td>\n    </tr>\n    <tr>\n      <th>32</th>\n      <td>2022</td>\n      <td>San Francisco</td>\n      <td>6.779224</td>\n      <td>1.0</td>\n      <td>386911.0</td>\n      <td>28011.0</td>\n      <td>840575.0</td>\n      <td>-0.10</td>\n      <td>717,653</td>\n      <td>±598</td>\n    </tr>\n    <tr>\n      <th>33</th>\n      <td>2022</td>\n      <td>San Joaquin</td>\n      <td>7.902461</td>\n      <td>3.0</td>\n      <td>556150.0</td>\n      <td>12961.0</td>\n      <td>782163.0</td>\n      <td>-0.11</td>\n      <td>537,612</td>\n      <td>±744</td>\n    </tr>\n    <tr>\n      <th>34</th>\n      <td>2022</td>\n      <td>San Luis Obispo</td>\n      <td>7.103153</td>\n      <td>4.0</td>\n      <td>222920.0</td>\n      <td>6929.0</td>\n      <td>279439.0</td>\n      <td>-0.20</td>\n      <td>211,147</td>\n      <td>±901</td>\n    </tr>\n    <tr>\n      <th>35</th>\n      <td>2022</td>\n      <td>San Mateo</td>\n      <td>6.795787</td>\n      <td>1.0</td>\n      <td>567346.0</td>\n      <td>43165.0</td>\n      <td>742051.0</td>\n      <td>-0.12</td>\n      <td>581,396</td>\n      <td>±719</td>\n    </tr>\n    <tr>\n      <th>36</th>\n      <td>2022</td>\n      <td>Santa Barbara</td>\n      <td>6.063512</td>\n      <td>5.0</td>\n      <td>325288.0</td>\n      <td>8983.0</td>\n      <td>443074.0</td>\n      <td>-0.17</td>\n      <td>313,937</td>\n      <td>±1,083</td>\n    </tr>\n    <tr>\n      <th>37</th>\n      <td>2022</td>\n      <td>Santa Clara</td>\n      <td>8.777092</td>\n      <td>3.0</td>\n      <td>1289536.0</td>\n      <td>108243.0</td>\n      <td>1895752.0</td>\n      <td>0.11</td>\n      <td>1,439,457</td>\n      <td>±1,042</td>\n    </tr>\n    <tr>\n      <th>38</th>\n      <td>2022</td>\n      <td>Santa Cruz</td>\n      <td>5.227504</td>\n      <td>2.0</td>\n      <td>215275.0</td>\n      <td>8169.0</td>\n      <td>264495.0</td>\n      <td>-0.21</td>\n      <td>199,855</td>\n      <td>±725</td>\n    </tr>\n    <tr>\n      <th>39</th>\n      <td>2022</td>\n      <td>Shasta</td>\n      <td>5.666984</td>\n      <td>2.0</td>\n      <td>132514.0</td>\n      <td>1516.0</td>\n      <td>180206.0</td>\n      <td>-0.22</td>\n      <td>136,969</td>\n      <td>±296</td>\n    </tr>\n    <tr>\n      <th>40</th>\n      <td>2022</td>\n      <td>Siskiyou</td>\n      <td>7.597170</td>\n      <td>2.0</td>\n      <td>44395.0</td>\n      <td>241.0</td>\n      <td>43571.0</td>\n      <td>-0.25</td>\n      <td>33,523</td>\n      <td>±178</td>\n    </tr>\n    <tr>\n      <th>41</th>\n      <td>2022</td>\n      <td>Solano</td>\n      <td>7.895000</td>\n      <td>1.0</td>\n      <td>339309.0</td>\n      <td>9315.0</td>\n      <td>447027.0</td>\n      <td>-0.17</td>\n      <td>336,338</td>\n      <td>±518</td>\n    </tr>\n    <tr>\n      <th>42</th>\n      <td>2022</td>\n      <td>Sonoma</td>\n      <td>6.376149</td>\n      <td>1.0</td>\n      <td>397389.0</td>\n      <td>15055.0</td>\n      <td>479654.0</td>\n      <td>-0.17</td>\n      <td>376,840</td>\n      <td>±589</td>\n    </tr>\n    <tr>\n      <th>43</th>\n      <td>2022</td>\n      <td>Stanislaus</td>\n      <td>12.124430</td>\n      <td>2.0</td>\n      <td>403896.0</td>\n      <td>5345.0</td>\n      <td>548215.0</td>\n      <td>-0.15</td>\n      <td>380,499</td>\n      <td>±750</td>\n    </tr>\n    <tr>\n      <th>44</th>\n      <td>2022</td>\n      <td>Sutter</td>\n      <td>10.035253</td>\n      <td>1.0</td>\n      <td>74337.0</td>\n      <td>885.0</td>\n      <td>99153.0</td>\n      <td>-0.24</td>\n      <td>69,857</td>\n      <td>±297</td>\n    </tr>\n    <tr>\n      <th>45</th>\n      <td>2022</td>\n      <td>Tehama</td>\n      <td>5.871182</td>\n      <td>1.0</td>\n      <td>56998.0</td>\n      <td>288.0</td>\n      <td>64942.0</td>\n      <td>-0.25</td>\n      <td>47,938</td>\n      <td>±266</td>\n    </tr>\n    <tr>\n      <th>46</th>\n      <td>2022</td>\n      <td>Trinity</td>\n      <td>10.727612</td>\n      <td>2.0</td>\n      <td>11910.0</td>\n      <td>63.0</td>\n      <td>15971.0</td>\n      <td>-0.26</td>\n      <td>12,909</td>\n      <td>±137</td>\n    </tr>\n    <tr>\n      <th>47</th>\n      <td>2022</td>\n      <td>Tulare</td>\n      <td>10.411529</td>\n      <td>4.0</td>\n      <td>330357.0</td>\n      <td>2826.0</td>\n      <td>474624.0</td>\n      <td>-0.17</td>\n      <td>308,219</td>\n      <td>±638</td>\n    </tr>\n    <tr>\n      <th>48</th>\n      <td>2022</td>\n      <td>Ventura</td>\n      <td>6.845493</td>\n      <td>5.0</td>\n      <td>658712.0</td>\n      <td>23713.0</td>\n      <td>831531.0</td>\n      <td>-0.10</td>\n      <td>619,665</td>\n      <td>±870</td>\n    </tr>\n    <tr>\n      <th>49</th>\n      <td>2022</td>\n      <td>Yolo</td>\n      <td>5.437008</td>\n      <td>2.0</td>\n      <td>149982.0</td>\n      <td>5077.0</td>\n      <td>220176.0</td>\n      <td>-0.22</td>\n      <td>151,121</td>\n      <td>±1,017</td>\n    </tr>\n  </tbody>\n</table>\n</div>"
     },
     "execution_count": 53,
     "metadata": {},
     "output_type": "execute_result"
    }
   ],
   "source": [
    "testing_df2022 = pd.merge(main_df, ct_me_df22, how='inner', on = ['Data Year', 'County'])\n",
    "testing_df2022"
   ],
   "metadata": {
    "collapsed": false,
    "ExecuteTime": {
     "end_time": "2024-09-27T19:30:03.272405Z",
     "start_time": "2024-09-27T19:30:03.239581Z"
    }
   },
   "id": "1b591d33d5a5693a",
   "execution_count": 53
  },
  {
   "cell_type": "code",
   "outputs": [],
   "source": [],
   "metadata": {
    "collapsed": false
   },
   "id": "59f874cd0d550086"
  }
 ],
 "metadata": {
  "kernelspec": {
   "display_name": "Python 3",
   "language": "python",
   "name": "python3"
  },
  "language_info": {
   "codemirror_mode": {
    "name": "ipython",
    "version": 2
   },
   "file_extension": ".py",
   "mimetype": "text/x-python",
   "name": "python",
   "nbconvert_exporter": "python",
   "pygments_lexer": "ipython2",
   "version": "2.7.6"
  }
 },
 "nbformat": 4,
 "nbformat_minor": 5
}
