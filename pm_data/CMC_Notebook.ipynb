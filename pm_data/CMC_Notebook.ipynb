{
 "cells": [
  {
   "cell_type": "code",
   "outputs": [],
   "source": [
    "# import\n",
    "import pandas as pd"
   ],
   "metadata": {
    "collapsed": false,
    "ExecuteTime": {
     "end_time": "2024-09-23T22:02:27.496894Z",
     "start_time": "2024-09-23T22:02:27.162814Z"
    }
   },
   "id": "21a52acad280b471",
   "execution_count": 1
  },
  {
   "cell_type": "code",
   "outputs": [],
   "source": [
    "# import files \n",
    "main_df = pd.read_csv('/Users/clarissaclark/SIADS_Milestone_1/PM2.5_Vehicles_Population.csv')\n",
    "df_pop = pd.read_csv('/Users/clarissaclark/SIADS_Milestone_1/California_Population.csv') "
   ],
   "metadata": {
    "collapsed": false,
    "ExecuteTime": {
     "end_time": "2024-09-23T22:02:27.504465Z",
     "start_time": "2024-09-23T22:02:27.497841Z"
    }
   },
   "id": "e1920ddc5805565",
   "execution_count": 2
  },
  {
   "cell_type": "code",
   "outputs": [],
   "source": [
    "main_df['Population Z Score'] = main_df['Population Z Score'].round(2)"
   ],
   "metadata": {
    "collapsed": false,
    "ExecuteTime": {
     "end_time": "2024-09-23T22:03:17.205759Z",
     "start_time": "2024-09-23T22:03:17.189331Z"
    }
   },
   "id": "64c6accf7030fc0a",
   "execution_count": 9
  },
  {
   "cell_type": "code",
   "outputs": [],
   "source": [
    "# a study of alameda....you two don't have to follow this if you don't want...\n",
    "\n",
    "alameda = main_df[main_df['County'] == 'Alameda']\n"
   ],
   "metadata": {
    "collapsed": true,
    "ExecuteTime": {
     "end_time": "2024-09-23T22:03:18.374618Z",
     "start_time": "2024-09-23T22:03:18.370125Z"
    }
   },
   "id": "initial_id",
   "execution_count": 10
  },
  {
   "cell_type": "code",
   "outputs": [],
   "source": [
    "# total regestered car users/population \n",
    "def create_comparison(county):\n",
    "    df = main_df[main_df['County'] == county]\n",
    "    df.loc[:,'Total Cars'] = df['Number of Gas Cars'] + df['Number of EV']\n",
    "    df.loc[:,'Total Cars/Population'] = (df['Total Cars'] / df['Population']).round(2)\n",
    "    df.loc[:,'EV/Total Cars'] = (df['Number of EV'] / df['Total Cars']).round(2)\n",
    "    df.loc[:,'Gas/Total Cars'] = (df['Number of Gas Cars'] / df['Total Cars']).round(2)\n",
    "    return df[['Population Z Score','Total Cars/Population', 'EV/Total Cars', 'Gas/Total Cars']] \n",
    "\n",
    "\n",
    "# ev cars/population"
   ],
   "metadata": {
    "collapsed": false,
    "ExecuteTime": {
     "end_time": "2024-09-23T22:54:10.246678Z",
     "start_time": "2024-09-23T22:54:10.226084Z"
    }
   },
   "id": "e9804d930dda2b1c",
   "execution_count": 19
  },
  {
   "cell_type": "code",
   "outputs": [],
   "source": [
    "# so as more people got cars, more ev were regestered. \n",
    "# what is the relationship between population growth and ev adaptation?\n",
    "## it seems to be positive, direct relationship \n",
    "## so as more population increases, ev car adaption also increases. i wonder if this is the same across counties? "
   ],
   "metadata": {
    "collapsed": false,
    "ExecuteTime": {
     "end_time": "2024-09-23T22:54:10.707235Z",
     "start_time": "2024-09-23T22:54:10.705322Z"
    }
   },
   "id": "d0801841e44c3b1d",
   "execution_count": 20
  },
  {
   "cell_type": "code",
   "outputs": [
    {
     "name": "stderr",
     "output_type": "stream",
     "text": [
      "/var/folders/zc/cqjcs2293rz1ymjq5gj5xxb00000gn/T/ipykernel_20807/3700666974.py:4: SettingWithCopyWarning: \n",
      "A value is trying to be set on a copy of a slice from a DataFrame.\n",
      "Try using .loc[row_indexer,col_indexer] = value instead\n",
      "\n",
      "See the caveats in the documentation: https://pandas.pydata.org/pandas-docs/stable/user_guide/indexing.html#returning-a-view-versus-a-copy\n",
      "  df.loc[:,'Total Cars'] = df['Number of Gas Cars'] + df['Number of EV']\n",
      "/var/folders/zc/cqjcs2293rz1ymjq5gj5xxb00000gn/T/ipykernel_20807/3700666974.py:5: SettingWithCopyWarning: \n",
      "A value is trying to be set on a copy of a slice from a DataFrame.\n",
      "Try using .loc[row_indexer,col_indexer] = value instead\n",
      "\n",
      "See the caveats in the documentation: https://pandas.pydata.org/pandas-docs/stable/user_guide/indexing.html#returning-a-view-versus-a-copy\n",
      "  df.loc[:,'Total Cars/Population'] = (df['Total Cars'] / df['Population']).round(2)\n",
      "/var/folders/zc/cqjcs2293rz1ymjq5gj5xxb00000gn/T/ipykernel_20807/3700666974.py:6: SettingWithCopyWarning: \n",
      "A value is trying to be set on a copy of a slice from a DataFrame.\n",
      "Try using .loc[row_indexer,col_indexer] = value instead\n",
      "\n",
      "See the caveats in the documentation: https://pandas.pydata.org/pandas-docs/stable/user_guide/indexing.html#returning-a-view-versus-a-copy\n",
      "  df.loc[:,'EV/Total Cars'] = (df['Number of EV'] / df['Total Cars']).round(2)\n",
      "/var/folders/zc/cqjcs2293rz1ymjq5gj5xxb00000gn/T/ipykernel_20807/3700666974.py:7: SettingWithCopyWarning: \n",
      "A value is trying to be set on a copy of a slice from a DataFrame.\n",
      "Try using .loc[row_indexer,col_indexer] = value instead\n",
      "\n",
      "See the caveats in the documentation: https://pandas.pydata.org/pandas-docs/stable/user_guide/indexing.html#returning-a-view-versus-a-copy\n",
      "  df.loc[:,'Gas/Total Cars'] = (df['Number of Gas Cars'] / df['Total Cars']).round(2)\n"
     ]
    },
    {
     "data": {
      "text/plain": "     Population Z Score  Total Cars/Population  EV/Total Cars  Gas/Total Cars\n32                 0.34                   0.62           0.00            1.00\n84                 0.35                   0.61           0.00            1.00\n136                0.35                   0.61           0.00            1.00\n188                0.36                   0.63           0.00            1.00\n240                0.36                   0.64           0.00            1.00\n292                0.37                   0.65           0.01            0.99\n344                0.37                   0.67           0.01            0.99\n395                0.38                   0.75           0.01            0.99\n446                0.38                   0.75           0.01            0.99\n497                0.38                   0.76           0.02            0.98\n548                0.38                   0.75           0.02            0.98\n599                0.38                   0.75           0.02            0.98\n649                0.38                   0.78           0.04            0.96\n699                0.38                   0.78           0.05            0.95\n747                0.38                    NaN            NaN             NaN",
      "text/html": "<div>\n<style scoped>\n    .dataframe tbody tr th:only-of-type {\n        vertical-align: middle;\n    }\n\n    .dataframe tbody tr th {\n        vertical-align: top;\n    }\n\n    .dataframe thead th {\n        text-align: right;\n    }\n</style>\n<table border=\"1\" class=\"dataframe\">\n  <thead>\n    <tr style=\"text-align: right;\">\n      <th></th>\n      <th>Population Z Score</th>\n      <th>Total Cars/Population</th>\n      <th>EV/Total Cars</th>\n      <th>Gas/Total Cars</th>\n    </tr>\n  </thead>\n  <tbody>\n    <tr>\n      <th>32</th>\n      <td>0.34</td>\n      <td>0.62</td>\n      <td>0.00</td>\n      <td>1.00</td>\n    </tr>\n    <tr>\n      <th>84</th>\n      <td>0.35</td>\n      <td>0.61</td>\n      <td>0.00</td>\n      <td>1.00</td>\n    </tr>\n    <tr>\n      <th>136</th>\n      <td>0.35</td>\n      <td>0.61</td>\n      <td>0.00</td>\n      <td>1.00</td>\n    </tr>\n    <tr>\n      <th>188</th>\n      <td>0.36</td>\n      <td>0.63</td>\n      <td>0.00</td>\n      <td>1.00</td>\n    </tr>\n    <tr>\n      <th>240</th>\n      <td>0.36</td>\n      <td>0.64</td>\n      <td>0.00</td>\n      <td>1.00</td>\n    </tr>\n    <tr>\n      <th>292</th>\n      <td>0.37</td>\n      <td>0.65</td>\n      <td>0.01</td>\n      <td>0.99</td>\n    </tr>\n    <tr>\n      <th>344</th>\n      <td>0.37</td>\n      <td>0.67</td>\n      <td>0.01</td>\n      <td>0.99</td>\n    </tr>\n    <tr>\n      <th>395</th>\n      <td>0.38</td>\n      <td>0.75</td>\n      <td>0.01</td>\n      <td>0.99</td>\n    </tr>\n    <tr>\n      <th>446</th>\n      <td>0.38</td>\n      <td>0.75</td>\n      <td>0.01</td>\n      <td>0.99</td>\n    </tr>\n    <tr>\n      <th>497</th>\n      <td>0.38</td>\n      <td>0.76</td>\n      <td>0.02</td>\n      <td>0.98</td>\n    </tr>\n    <tr>\n      <th>548</th>\n      <td>0.38</td>\n      <td>0.75</td>\n      <td>0.02</td>\n      <td>0.98</td>\n    </tr>\n    <tr>\n      <th>599</th>\n      <td>0.38</td>\n      <td>0.75</td>\n      <td>0.02</td>\n      <td>0.98</td>\n    </tr>\n    <tr>\n      <th>649</th>\n      <td>0.38</td>\n      <td>0.78</td>\n      <td>0.04</td>\n      <td>0.96</td>\n    </tr>\n    <tr>\n      <th>699</th>\n      <td>0.38</td>\n      <td>0.78</td>\n      <td>0.05</td>\n      <td>0.95</td>\n    </tr>\n    <tr>\n      <th>747</th>\n      <td>0.38</td>\n      <td>NaN</td>\n      <td>NaN</td>\n      <td>NaN</td>\n    </tr>\n  </tbody>\n</table>\n</div>"
     },
     "execution_count": 21,
     "metadata": {},
     "output_type": "execute_result"
    }
   ],
   "source": [
    "san_diego = create_comparison('San Diego')\n",
    "san_diego"
   ],
   "metadata": {
    "collapsed": false,
    "ExecuteTime": {
     "end_time": "2024-09-23T22:54:11.199221Z",
     "start_time": "2024-09-23T22:54:11.188660Z"
    }
   },
   "id": "54e337ecb9517446",
   "execution_count": 21
  },
  {
   "cell_type": "code",
   "outputs": [
    {
     "name": "stderr",
     "output_type": "stream",
     "text": [
      "/var/folders/zc/cqjcs2293rz1ymjq5gj5xxb00000gn/T/ipykernel_20807/3700666974.py:4: SettingWithCopyWarning: \n",
      "A value is trying to be set on a copy of a slice from a DataFrame.\n",
      "Try using .loc[row_indexer,col_indexer] = value instead\n",
      "\n",
      "See the caveats in the documentation: https://pandas.pydata.org/pandas-docs/stable/user_guide/indexing.html#returning-a-view-versus-a-copy\n",
      "  df.loc[:,'Total Cars'] = df['Number of Gas Cars'] + df['Number of EV']\n",
      "/var/folders/zc/cqjcs2293rz1ymjq5gj5xxb00000gn/T/ipykernel_20807/3700666974.py:5: SettingWithCopyWarning: \n",
      "A value is trying to be set on a copy of a slice from a DataFrame.\n",
      "Try using .loc[row_indexer,col_indexer] = value instead\n",
      "\n",
      "See the caveats in the documentation: https://pandas.pydata.org/pandas-docs/stable/user_guide/indexing.html#returning-a-view-versus-a-copy\n",
      "  df.loc[:,'Total Cars/Population'] = (df['Total Cars'] / df['Population']).round(2)\n",
      "/var/folders/zc/cqjcs2293rz1ymjq5gj5xxb00000gn/T/ipykernel_20807/3700666974.py:6: SettingWithCopyWarning: \n",
      "A value is trying to be set on a copy of a slice from a DataFrame.\n",
      "Try using .loc[row_indexer,col_indexer] = value instead\n",
      "\n",
      "See the caveats in the documentation: https://pandas.pydata.org/pandas-docs/stable/user_guide/indexing.html#returning-a-view-versus-a-copy\n",
      "  df.loc[:,'EV/Total Cars'] = (df['Number of EV'] / df['Total Cars']).round(2)\n",
      "/var/folders/zc/cqjcs2293rz1ymjq5gj5xxb00000gn/T/ipykernel_20807/3700666974.py:7: SettingWithCopyWarning: \n",
      "A value is trying to be set on a copy of a slice from a DataFrame.\n",
      "Try using .loc[row_indexer,col_indexer] = value instead\n",
      "\n",
      "See the caveats in the documentation: https://pandas.pydata.org/pandas-docs/stable/user_guide/indexing.html#returning-a-view-versus-a-copy\n",
      "  df.loc[:,'Gas/Total Cars'] = (df['Number of Gas Cars'] / df['Total Cars']).round(2)\n"
     ]
    },
    {
     "data": {
      "text/plain": "     Population Z Score  Total Cars/Population  EV/Total Cars  Gas/Total Cars\n15                 1.64                   0.56           0.00            1.00\n67                 1.65                   0.56           0.00            1.00\n119                1.67                   0.56           0.00            1.00\n171                1.68                   0.57           0.00            1.00\n223                1.68                   0.58           0.00            1.00\n275                1.69                   0.59           0.01            0.99\n327                1.69                   0.62           0.01            0.99\n378                1.70                   0.69           0.01            0.99\n429                1.70                   0.69           0.02            0.98\n480                1.69                   0.69           0.02            0.98\n531                1.68                   0.68           0.02            0.98\n582                1.68                   0.68           0.02            0.98\n633                1.65                   0.70           0.04            0.96\n683                1.64                   0.70           0.06            0.94\n732                1.64                    NaN            NaN             NaN",
      "text/html": "<div>\n<style scoped>\n    .dataframe tbody tr th:only-of-type {\n        vertical-align: middle;\n    }\n\n    .dataframe tbody tr th {\n        vertical-align: top;\n    }\n\n    .dataframe thead th {\n        text-align: right;\n    }\n</style>\n<table border=\"1\" class=\"dataframe\">\n  <thead>\n    <tr style=\"text-align: right;\">\n      <th></th>\n      <th>Population Z Score</th>\n      <th>Total Cars/Population</th>\n      <th>EV/Total Cars</th>\n      <th>Gas/Total Cars</th>\n    </tr>\n  </thead>\n  <tbody>\n    <tr>\n      <th>15</th>\n      <td>1.64</td>\n      <td>0.56</td>\n      <td>0.00</td>\n      <td>1.00</td>\n    </tr>\n    <tr>\n      <th>67</th>\n      <td>1.65</td>\n      <td>0.56</td>\n      <td>0.00</td>\n      <td>1.00</td>\n    </tr>\n    <tr>\n      <th>119</th>\n      <td>1.67</td>\n      <td>0.56</td>\n      <td>0.00</td>\n      <td>1.00</td>\n    </tr>\n    <tr>\n      <th>171</th>\n      <td>1.68</td>\n      <td>0.57</td>\n      <td>0.00</td>\n      <td>1.00</td>\n    </tr>\n    <tr>\n      <th>223</th>\n      <td>1.68</td>\n      <td>0.58</td>\n      <td>0.00</td>\n      <td>1.00</td>\n    </tr>\n    <tr>\n      <th>275</th>\n      <td>1.69</td>\n      <td>0.59</td>\n      <td>0.01</td>\n      <td>0.99</td>\n    </tr>\n    <tr>\n      <th>327</th>\n      <td>1.69</td>\n      <td>0.62</td>\n      <td>0.01</td>\n      <td>0.99</td>\n    </tr>\n    <tr>\n      <th>378</th>\n      <td>1.70</td>\n      <td>0.69</td>\n      <td>0.01</td>\n      <td>0.99</td>\n    </tr>\n    <tr>\n      <th>429</th>\n      <td>1.70</td>\n      <td>0.69</td>\n      <td>0.02</td>\n      <td>0.98</td>\n    </tr>\n    <tr>\n      <th>480</th>\n      <td>1.69</td>\n      <td>0.69</td>\n      <td>0.02</td>\n      <td>0.98</td>\n    </tr>\n    <tr>\n      <th>531</th>\n      <td>1.68</td>\n      <td>0.68</td>\n      <td>0.02</td>\n      <td>0.98</td>\n    </tr>\n    <tr>\n      <th>582</th>\n      <td>1.68</td>\n      <td>0.68</td>\n      <td>0.02</td>\n      <td>0.98</td>\n    </tr>\n    <tr>\n      <th>633</th>\n      <td>1.65</td>\n      <td>0.70</td>\n      <td>0.04</td>\n      <td>0.96</td>\n    </tr>\n    <tr>\n      <th>683</th>\n      <td>1.64</td>\n      <td>0.70</td>\n      <td>0.06</td>\n      <td>0.94</td>\n    </tr>\n    <tr>\n      <th>732</th>\n      <td>1.64</td>\n      <td>NaN</td>\n      <td>NaN</td>\n      <td>NaN</td>\n    </tr>\n  </tbody>\n</table>\n</div>"
     },
     "execution_count": 22,
     "metadata": {},
     "output_type": "execute_result"
    }
   ],
   "source": [
    "los_angeles = create_comparison('Los Angeles')\n",
    "los_angeles"
   ],
   "metadata": {
    "collapsed": false,
    "ExecuteTime": {
     "end_time": "2024-09-23T22:56:53.380983Z",
     "start_time": "2024-09-23T22:56:53.347864Z"
    }
   },
   "id": "5d4031cf5e26d839",
   "execution_count": 22
  },
  {
   "cell_type": "code",
   "outputs": [
    {
     "name": "stderr",
     "output_type": "stream",
     "text": [
      "/var/folders/zc/cqjcs2293rz1ymjq5gj5xxb00000gn/T/ipykernel_20807/3700666974.py:4: SettingWithCopyWarning: \n",
      "A value is trying to be set on a copy of a slice from a DataFrame.\n",
      "Try using .loc[row_indexer,col_indexer] = value instead\n",
      "\n",
      "See the caveats in the documentation: https://pandas.pydata.org/pandas-docs/stable/user_guide/indexing.html#returning-a-view-versus-a-copy\n",
      "  df.loc[:,'Total Cars'] = df['Number of Gas Cars'] + df['Number of EV']\n",
      "/var/folders/zc/cqjcs2293rz1ymjq5gj5xxb00000gn/T/ipykernel_20807/3700666974.py:5: SettingWithCopyWarning: \n",
      "A value is trying to be set on a copy of a slice from a DataFrame.\n",
      "Try using .loc[row_indexer,col_indexer] = value instead\n",
      "\n",
      "See the caveats in the documentation: https://pandas.pydata.org/pandas-docs/stable/user_guide/indexing.html#returning-a-view-versus-a-copy\n",
      "  df.loc[:,'Total Cars/Population'] = (df['Total Cars'] / df['Population']).round(2)\n",
      "/var/folders/zc/cqjcs2293rz1ymjq5gj5xxb00000gn/T/ipykernel_20807/3700666974.py:6: SettingWithCopyWarning: \n",
      "A value is trying to be set on a copy of a slice from a DataFrame.\n",
      "Try using .loc[row_indexer,col_indexer] = value instead\n",
      "\n",
      "See the caveats in the documentation: https://pandas.pydata.org/pandas-docs/stable/user_guide/indexing.html#returning-a-view-versus-a-copy\n",
      "  df.loc[:,'EV/Total Cars'] = (df['Number of EV'] / df['Total Cars']).round(2)\n",
      "/var/folders/zc/cqjcs2293rz1ymjq5gj5xxb00000gn/T/ipykernel_20807/3700666974.py:7: SettingWithCopyWarning: \n",
      "A value is trying to be set on a copy of a slice from a DataFrame.\n",
      "Try using .loc[row_indexer,col_indexer] = value instead\n",
      "\n",
      "See the caveats in the documentation: https://pandas.pydata.org/pandas-docs/stable/user_guide/indexing.html#returning-a-view-versus-a-copy\n",
      "  df.loc[:,'Gas/Total Cars'] = (df['Number of Gas Cars'] / df['Total Cars']).round(2)\n"
     ]
    },
    {
     "data": {
      "text/plain": "     Population Z Score  Total Cars/Population  EV/Total Cars  Gas/Total Cars\n25                 0.32                   0.62           0.00            1.00\n77                 0.33                   0.62           0.00            1.00\n129                0.34                   0.61           0.00            1.00\n181                0.34                   0.63           0.00            1.00\n233                0.35                   0.64           0.01            0.99\n285                0.35                   0.65           0.01            0.99\n337                0.35                   0.67           0.01            0.99\n388                0.36                   0.75           0.02            0.98\n439                0.36                   0.75           0.02            0.98\n490                0.36                   0.76           0.03            0.97\n541                0.36                   0.75           0.03            0.97\n592                0.36                   0.75           0.03            0.97\n642                0.35                   0.77           0.06            0.94\n692                0.35                   0.78           0.07            0.93\n740                0.35                    NaN            NaN             NaN",
      "text/html": "<div>\n<style scoped>\n    .dataframe tbody tr th:only-of-type {\n        vertical-align: middle;\n    }\n\n    .dataframe tbody tr th {\n        vertical-align: top;\n    }\n\n    .dataframe thead th {\n        text-align: right;\n    }\n</style>\n<table border=\"1\" class=\"dataframe\">\n  <thead>\n    <tr style=\"text-align: right;\">\n      <th></th>\n      <th>Population Z Score</th>\n      <th>Total Cars/Population</th>\n      <th>EV/Total Cars</th>\n      <th>Gas/Total Cars</th>\n    </tr>\n  </thead>\n  <tbody>\n    <tr>\n      <th>25</th>\n      <td>0.32</td>\n      <td>0.62</td>\n      <td>0.00</td>\n      <td>1.00</td>\n    </tr>\n    <tr>\n      <th>77</th>\n      <td>0.33</td>\n      <td>0.62</td>\n      <td>0.00</td>\n      <td>1.00</td>\n    </tr>\n    <tr>\n      <th>129</th>\n      <td>0.34</td>\n      <td>0.61</td>\n      <td>0.00</td>\n      <td>1.00</td>\n    </tr>\n    <tr>\n      <th>181</th>\n      <td>0.34</td>\n      <td>0.63</td>\n      <td>0.00</td>\n      <td>1.00</td>\n    </tr>\n    <tr>\n      <th>233</th>\n      <td>0.35</td>\n      <td>0.64</td>\n      <td>0.01</td>\n      <td>0.99</td>\n    </tr>\n    <tr>\n      <th>285</th>\n      <td>0.35</td>\n      <td>0.65</td>\n      <td>0.01</td>\n      <td>0.99</td>\n    </tr>\n    <tr>\n      <th>337</th>\n      <td>0.35</td>\n      <td>0.67</td>\n      <td>0.01</td>\n      <td>0.99</td>\n    </tr>\n    <tr>\n      <th>388</th>\n      <td>0.36</td>\n      <td>0.75</td>\n      <td>0.02</td>\n      <td>0.98</td>\n    </tr>\n    <tr>\n      <th>439</th>\n      <td>0.36</td>\n      <td>0.75</td>\n      <td>0.02</td>\n      <td>0.98</td>\n    </tr>\n    <tr>\n      <th>490</th>\n      <td>0.36</td>\n      <td>0.76</td>\n      <td>0.03</td>\n      <td>0.97</td>\n    </tr>\n    <tr>\n      <th>541</th>\n      <td>0.36</td>\n      <td>0.75</td>\n      <td>0.03</td>\n      <td>0.97</td>\n    </tr>\n    <tr>\n      <th>592</th>\n      <td>0.36</td>\n      <td>0.75</td>\n      <td>0.03</td>\n      <td>0.97</td>\n    </tr>\n    <tr>\n      <th>642</th>\n      <td>0.35</td>\n      <td>0.77</td>\n      <td>0.06</td>\n      <td>0.94</td>\n    </tr>\n    <tr>\n      <th>692</th>\n      <td>0.35</td>\n      <td>0.78</td>\n      <td>0.07</td>\n      <td>0.93</td>\n    </tr>\n    <tr>\n      <th>740</th>\n      <td>0.35</td>\n      <td>NaN</td>\n      <td>NaN</td>\n      <td>NaN</td>\n    </tr>\n  </tbody>\n</table>\n</div>"
     },
     "execution_count": 23,
     "metadata": {},
     "output_type": "execute_result"
    }
   ],
   "source": [
    "orange = create_comparison('Orange')\n",
    "orange"
   ],
   "metadata": {
    "collapsed": false,
    "ExecuteTime": {
     "end_time": "2024-09-23T23:01:06.919062Z",
     "start_time": "2024-09-23T23:01:06.882788Z"
    }
   },
   "id": "e07223ab3c8ca3f1",
   "execution_count": 23
  },
  {
   "cell_type": "code",
   "outputs": [],
   "source": [],
   "metadata": {
    "collapsed": false
   },
   "id": "4acce750147f2119"
  }
 ],
 "metadata": {
  "kernelspec": {
   "display_name": "Python 3",
   "language": "python",
   "name": "python3"
  },
  "language_info": {
   "codemirror_mode": {
    "name": "ipython",
    "version": 2
   },
   "file_extension": ".py",
   "mimetype": "text/x-python",
   "name": "python",
   "nbconvert_exporter": "python",
   "pygments_lexer": "ipython2",
   "version": "2.7.6"
  }
 },
 "nbformat": 4,
 "nbformat_minor": 5
}
