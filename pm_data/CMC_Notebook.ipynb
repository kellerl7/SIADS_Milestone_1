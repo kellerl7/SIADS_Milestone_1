{
 "cells": [
  {
   "cell_type": "code",
   "outputs": [],
   "source": [
    "import os\n",
    "\n",
    "# import\n",
    "import pandas as pd"
   ],
   "metadata": {
    "collapsed": false,
    "ExecuteTime": {
     "end_time": "2024-09-27T20:33:23.877840Z",
     "start_time": "2024-09-27T20:33:23.307571Z"
    }
   },
   "id": "21a52acad280b471",
   "execution_count": 1
  },
  {
   "cell_type": "code",
   "outputs": [],
   "source": [
    "# import files \n",
    "main_df = pd.read_csv('../PM2.5_Vehicles_Population.csv')\n",
    "df_pop = pd.read_csv('../California_Population.csv') "
   ],
   "metadata": {
    "collapsed": false,
    "ExecuteTime": {
     "end_time": "2024-09-27T20:33:23.888103Z",
     "start_time": "2024-09-27T20:33:23.880303Z"
    }
   },
   "id": "e1920ddc5805565",
   "execution_count": 2
  },
  {
   "cell_type": "code",
   "outputs": [
    {
     "data": {
      "text/plain": "                   County  Data Year  Population_x  Z Score_x  \\\n0    Alameda                    2010       1510271   0.033519   \n1    Amador                     2010         38091  -0.251576   \n2    Butte                      2010        220000  -0.216348   \n3    Calaveras                  2010         45578  -0.250126   \n4    Colusa                     2010         21419  -0.254805   \n..                    ...        ...           ...        ...   \n865  Tulare                     2024        478918  -0.166208   \n866  Tuolumne                   2024         54407  -0.248416   \n867  Ventura                    2024        823863  -0.099407   \n868  Yolo                       2024        221666  -0.216026   \n869  Yuba                       2024         83721  -0.242740   \n\n     Number of Gas Cars  Number of EV  Population_y  Z Score_y  \n0                   NaN           NaN           NaN        NaN  \n1                   NaN           NaN           NaN        NaN  \n2                   NaN           NaN           NaN        NaN  \n3                   NaN           NaN           NaN        NaN  \n4                   NaN           NaN           NaN        NaN  \n..                  ...           ...           ...        ...  \n865                 NaN           NaN           NaN        NaN  \n866                 NaN           NaN           NaN        NaN  \n867                 NaN           NaN           NaN        NaN  \n868                 NaN           NaN           NaN        NaN  \n869                 NaN           NaN           NaN        NaN  \n\n[870 rows x 8 columns]",
      "text/html": "<div>\n<style scoped>\n    .dataframe tbody tr th:only-of-type {\n        vertical-align: middle;\n    }\n\n    .dataframe tbody tr th {\n        vertical-align: top;\n    }\n\n    .dataframe thead th {\n        text-align: right;\n    }\n</style>\n<table border=\"1\" class=\"dataframe\">\n  <thead>\n    <tr style=\"text-align: right;\">\n      <th></th>\n      <th>County</th>\n      <th>Data Year</th>\n      <th>Population_x</th>\n      <th>Z Score_x</th>\n      <th>Number of Gas Cars</th>\n      <th>Number of EV</th>\n      <th>Population_y</th>\n      <th>Z Score_y</th>\n    </tr>\n  </thead>\n  <tbody>\n    <tr>\n      <th>0</th>\n      <td>Alameda</td>\n      <td>2010</td>\n      <td>1510271</td>\n      <td>0.033519</td>\n      <td>NaN</td>\n      <td>NaN</td>\n      <td>NaN</td>\n      <td>NaN</td>\n    </tr>\n    <tr>\n      <th>1</th>\n      <td>Amador</td>\n      <td>2010</td>\n      <td>38091</td>\n      <td>-0.251576</td>\n      <td>NaN</td>\n      <td>NaN</td>\n      <td>NaN</td>\n      <td>NaN</td>\n    </tr>\n    <tr>\n      <th>2</th>\n      <td>Butte</td>\n      <td>2010</td>\n      <td>220000</td>\n      <td>-0.216348</td>\n      <td>NaN</td>\n      <td>NaN</td>\n      <td>NaN</td>\n      <td>NaN</td>\n    </tr>\n    <tr>\n      <th>3</th>\n      <td>Calaveras</td>\n      <td>2010</td>\n      <td>45578</td>\n      <td>-0.250126</td>\n      <td>NaN</td>\n      <td>NaN</td>\n      <td>NaN</td>\n      <td>NaN</td>\n    </tr>\n    <tr>\n      <th>4</th>\n      <td>Colusa</td>\n      <td>2010</td>\n      <td>21419</td>\n      <td>-0.254805</td>\n      <td>NaN</td>\n      <td>NaN</td>\n      <td>NaN</td>\n      <td>NaN</td>\n    </tr>\n    <tr>\n      <th>...</th>\n      <td>...</td>\n      <td>...</td>\n      <td>...</td>\n      <td>...</td>\n      <td>...</td>\n      <td>...</td>\n      <td>...</td>\n      <td>...</td>\n    </tr>\n    <tr>\n      <th>865</th>\n      <td>Tulare</td>\n      <td>2024</td>\n      <td>478918</td>\n      <td>-0.166208</td>\n      <td>NaN</td>\n      <td>NaN</td>\n      <td>NaN</td>\n      <td>NaN</td>\n    </tr>\n    <tr>\n      <th>866</th>\n      <td>Tuolumne</td>\n      <td>2024</td>\n      <td>54407</td>\n      <td>-0.248416</td>\n      <td>NaN</td>\n      <td>NaN</td>\n      <td>NaN</td>\n      <td>NaN</td>\n    </tr>\n    <tr>\n      <th>867</th>\n      <td>Ventura</td>\n      <td>2024</td>\n      <td>823863</td>\n      <td>-0.099407</td>\n      <td>NaN</td>\n      <td>NaN</td>\n      <td>NaN</td>\n      <td>NaN</td>\n    </tr>\n    <tr>\n      <th>868</th>\n      <td>Yolo</td>\n      <td>2024</td>\n      <td>221666</td>\n      <td>-0.216026</td>\n      <td>NaN</td>\n      <td>NaN</td>\n      <td>NaN</td>\n      <td>NaN</td>\n    </tr>\n    <tr>\n      <th>869</th>\n      <td>Yuba</td>\n      <td>2024</td>\n      <td>83721</td>\n      <td>-0.242740</td>\n      <td>NaN</td>\n      <td>NaN</td>\n      <td>NaN</td>\n      <td>NaN</td>\n    </tr>\n  </tbody>\n</table>\n<p>870 rows × 8 columns</p>\n</div>"
     },
     "execution_count": 5,
     "metadata": {},
     "output_type": "execute_result"
    }
   ],
   "source": [
    "main_df\n",
    "# main_df['Population Z Score'] = main_df['Population Z Score'].round(2)"
   ],
   "metadata": {
    "collapsed": false,
    "ExecuteTime": {
     "end_time": "2024-09-27T20:33:37.216243Z",
     "start_time": "2024-09-27T20:33:37.187092Z"
    }
   },
   "id": "64c6accf7030fc0a",
   "execution_count": 5
  },
  {
   "cell_type": "code",
   "outputs": [],
   "source": [
    "# total regestered car users/population \n",
    "def create_comparison(county):\n",
    "    df = main_df[main_df['County'] == county]\n",
    "    df.loc[:,'Total Cars'] = df['Number of Gas Cars'] + df['Number of EV']\n",
    "    df.loc[:,'Total Cars/Population'] = (df['Total Cars'] / df['Population']).round(2)\n",
    "    df.loc[:,'EV/Total Cars'] = (df['Number of EV'] / df['Total Cars']).round(2)\n",
    "    df.loc[:,'Gas/Total Cars'] = (df['Number of Gas Cars'] / df['Total Cars']).round(2)\n",
    "    return df[['Population Z Score','Total Cars/Population', 'EV/Total Cars', 'Gas/Total Cars']] \n",
    "\n",
    "\n",
    "# ev cars/population"
   ],
   "metadata": {
    "collapsed": false
   },
   "id": "e9804d930dda2b1c",
   "execution_count": null
  },
  {
   "cell_type": "code",
   "outputs": [],
   "source": [
    "# so as more people got cars, more ev were regestered. \n",
    "# what is the relationship between population growth and ev adaptation?\n",
    "## it seems to be positive, direct relationship \n",
    "## so as more population increases, ev car adaption also increases. i wonder if this is the same across counties? "
   ],
   "metadata": {
    "collapsed": false
   },
   "id": "d0801841e44c3b1d",
   "execution_count": null
  },
  {
   "cell_type": "code",
   "outputs": [],
   "source": [
    "san_diego = create_comparison('San Diego')\n",
    "# san_diego"
   ],
   "metadata": {
    "collapsed": false
   },
   "id": "54e337ecb9517446",
   "execution_count": null
  },
  {
   "cell_type": "code",
   "outputs": [],
   "source": [
    "los_angeles = create_comparison('Los Angeles')\n",
    "# los_angeles"
   ],
   "metadata": {
    "collapsed": false
   },
   "id": "5d4031cf5e26d839",
   "execution_count": null
  },
  {
   "cell_type": "code",
   "outputs": [],
   "source": [
    "orange = create_comparison('Orange')\n",
    "# orange"
   ],
   "metadata": {
    "collapsed": false
   },
   "id": "e07223ab3c8ca3f1",
   "execution_count": null
  },
  {
   "cell_type": "code",
   "outputs": [],
   "source": [
    "san_fran =  create_comparison('San Francisco')\n",
    "# san_fran"
   ],
   "metadata": {
    "collapsed": false
   },
   "id": "4acce750147f2119",
   "execution_count": null
  },
  {
   "cell_type": "code",
   "outputs": [],
   "source": [
    "mono = create_comparison('Mono')\n",
    "# mono "
   ],
   "metadata": {
    "collapsed": false
   },
   "id": "911c6e23c4588b49",
   "execution_count": null
  },
  {
   "cell_type": "code",
   "outputs": [],
   "source": [
    "# is this crazy?\n",
    "# function takes dataset from online and turns it into a merge-able df for main_df "
   ],
   "metadata": {
    "collapsed": false
   },
   "id": "fc9ad87dd8e13bb5",
   "execution_count": null
  },
  {
   "cell_type": "code",
   "outputs": [],
   "source": [
    "def aged_population(dataset, datayear):\n",
    "    # load files \n",
    "    df = pd.read_csv(dataset)\n",
    "    df = df.loc[[28]]\n",
    "    # extract unique county names\n",
    "    county_names = [col.split(\"!!\")[0] for col in df.columns if \"California\" in col]\n",
    "    county_names = list(set(county_names))\n",
    "    # extract county total and margin of error from main dataset\n",
    "    county_total = [f\"{county}!!Total!!Estimate\" for county in county_names]\n",
    "    county_margin_of_error = [f\"{county}!!Total!!Margin of Error\" for county in county_names]\n",
    "    # making df of those\n",
    "    county_total = df.loc[:, county_total]\n",
    "    county_margin_of_error = df.loc[:, county_margin_of_error]\n",
    "    # creating county total population estimate df \n",
    "    ct_df =county_total.transpose()\n",
    "    ct_df = ct_df.reset_index() \n",
    "    ct_df.columns = ['County' , 'Total Population Estimate, >21']\n",
    "    ct_df['County'] = ct_df['County'].str.split(' County').str[0]\n",
    "    ct_df = ct_df.sort_values(by='County', ascending=True).reset_index(drop=True)\n",
    "    \n",
    "    # creating county margin of error \n",
    "    me_df = county_margin_of_error.transpose()\n",
    "    me_df = me_df.reset_index() \n",
    "    me_df.columns = ['County' , 'Total Margin of Error, >21']\n",
    "    me_df['County'] = me_df['County'].str.split(' County').str[0]\n",
    "    me_df = me_df.sort_values(by='County', ascending=True).reset_index(drop=True) \n",
    "    \n",
    "    # merging on county \n",
    "    ct_me_df = pd.merge(ct_df, me_df, how='inner', on = ['County'])\n",
    "    ct_me_df['Data Year'] = datayear\n",
    "    return ct_me_df"
   ],
   "metadata": {
    "collapsed": false
   },
   "id": "9c4b77dcee1a9bf9",
   "execution_count": null
  },
  {
   "cell_type": "code",
   "outputs": [],
   "source": [
    "testing = aged_population('/Users/clarissaclark/Desktop/isthiscrazy2022.csv', 2022)\n",
    "\n",
    "testing"
   ],
   "metadata": {
    "collapsed": false
   },
   "id": "e28a78d2e7c0aba9",
   "execution_count": null
  },
  {
   "cell_type": "code",
   "outputs": [],
   "source": [
    "aged_pop_df = pd.merge(main_df, testing, how='inner', on = ['Data Year', 'County'])\n",
    "aged_pop_df"
   ],
   "metadata": {
    "collapsed": false
   },
   "id": "1b591d33d5a5693a",
   "execution_count": null
  },
  {
   "cell_type": "code",
   "outputs": [],
   "source": [],
   "metadata": {
    "collapsed": false
   },
   "id": "59f874cd0d550086"
  }
 ],
 "metadata": {
  "kernelspec": {
   "display_name": "Python 3",
   "language": "python",
   "name": "python3"
  },
  "language_info": {
   "codemirror_mode": {
    "name": "ipython",
    "version": 2
   },
   "file_extension": ".py",
   "mimetype": "text/x-python",
   "name": "python",
   "nbconvert_exporter": "python",
   "pygments_lexer": "ipython2",
   "version": "2.7.6"
  }
 },
 "nbformat": 4,
 "nbformat_minor": 5
}
